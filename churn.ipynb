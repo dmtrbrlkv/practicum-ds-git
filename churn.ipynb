{
 "cells": [
  {
   "cell_type": "markdown",
   "metadata": {
    "toc": true
   },
   "source": [
    "<h1>Содержание<span class=\"tocSkip\"></span></h1>\n",
    "<div class=\"toc\"><ul class=\"toc-item\"><li><span><a href=\"#Подготовка-данных\" data-toc-modified-id=\"Подготовка-данных-1\"><span class=\"toc-item-num\">1&nbsp;&nbsp;</span>Подготовка данных</a></span><ul class=\"toc-item\"><li><span><a href=\"#Обзор-данных\" data-toc-modified-id=\"Обзор-данных-1.1\"><span class=\"toc-item-num\">1.1&nbsp;&nbsp;</span>Обзор данных</a></span></li><li><span><a href=\"#Устранение-пропусков\" data-toc-modified-id=\"Устранение-пропусков-1.2\"><span class=\"toc-item-num\">1.2&nbsp;&nbsp;</span>Устранение пропусков</a></span></li><li><span><a href=\"#Подготовка-обучающей-и-тестовой-выборок.\" data-toc-modified-id=\"Подготовка-обучающей-и-тестовой-выборок.-1.3\"><span class=\"toc-item-num\">1.3&nbsp;&nbsp;</span>Подготовка обучающей и тестовой выборок.</a></span></li><li><span><a href=\"#Преобразование-категориальных-признаков\" data-toc-modified-id=\"Преобразование-категориальных-признаков-1.4\"><span class=\"toc-item-num\">1.4&nbsp;&nbsp;</span>Преобразование категориальных признаков</a></span></li><li><span><a href=\"#Масштабирование-признаков\" data-toc-modified-id=\"Масштабирование-признаков-1.5\"><span class=\"toc-item-num\">1.5&nbsp;&nbsp;</span>Масштабирование признаков</a></span></li><li><span><a href=\"#Вывод\" data-toc-modified-id=\"Вывод-1.6\"><span class=\"toc-item-num\">1.6&nbsp;&nbsp;</span>Вывод</a></span></li></ul></li><li><span><a href=\"#Исследование-задачи\" data-toc-modified-id=\"Исследование-задачи-2\"><span class=\"toc-item-num\">2&nbsp;&nbsp;</span>Исследование задачи</a></span><ul class=\"toc-item\"><li><span><a href=\"#Баланс-классов\" data-toc-modified-id=\"Баланс-классов-2.1\"><span class=\"toc-item-num\">2.1&nbsp;&nbsp;</span>Баланс классов</a></span></li><li><span><a href=\"#Базовая-модель\" data-toc-modified-id=\"Базовая-модель-2.2\"><span class=\"toc-item-num\">2.2&nbsp;&nbsp;</span>Базовая модель</a></span></li><li><span><a href=\"#Обучение-моделей-без-учета-дисбаланса\" data-toc-modified-id=\"Обучение-моделей-без-учета-дисбаланса-2.3\"><span class=\"toc-item-num\">2.3&nbsp;&nbsp;</span>Обучение моделей без учета дисбаланса</a></span><ul class=\"toc-item\"><li><span><a href=\"#Дерево-решений\" data-toc-modified-id=\"Дерево-решений-2.3.1\"><span class=\"toc-item-num\">2.3.1&nbsp;&nbsp;</span>Дерево решений</a></span></li><li><span><a href=\"#Случайный-лес\" data-toc-modified-id=\"Случайный-лес-2.3.2\"><span class=\"toc-item-num\">2.3.2&nbsp;&nbsp;</span>Случайный лес</a></span></li><li><span><a href=\"#Логистическая-регрессия\" data-toc-modified-id=\"Логистическая-регрессия-2.3.3\"><span class=\"toc-item-num\">2.3.3&nbsp;&nbsp;</span>Логистическая регрессия</a></span></li></ul></li><li><span><a href=\"#Вывод\" data-toc-modified-id=\"Вывод-2.4\"><span class=\"toc-item-num\">2.4&nbsp;&nbsp;</span>Вывод</a></span></li></ul></li><li><span><a href=\"#Борьба-с-дисбалансом\" data-toc-modified-id=\"Борьба-с-дисбалансом-3\"><span class=\"toc-item-num\">3&nbsp;&nbsp;</span>Борьба с дисбалансом</a></span><ul class=\"toc-item\"><li><span><a href=\"#Взвешивание-классов\" data-toc-modified-id=\"Взвешивание-классов-3.1\"><span class=\"toc-item-num\">3.1&nbsp;&nbsp;</span>Взвешивание классов</a></span><ul class=\"toc-item\"><li><span><a href=\"#Дерево-решений\" data-toc-modified-id=\"Дерево-решений-3.1.1\"><span class=\"toc-item-num\">3.1.1&nbsp;&nbsp;</span>Дерево решений</a></span></li><li><span><a href=\"#Случайный-лес\" data-toc-modified-id=\"Случайный-лес-3.1.2\"><span class=\"toc-item-num\">3.1.2&nbsp;&nbsp;</span>Случайный лес</a></span></li><li><span><a href=\"#Логистическая-регрессия\" data-toc-modified-id=\"Логистическая-регрессия-3.1.3\"><span class=\"toc-item-num\">3.1.3&nbsp;&nbsp;</span>Логистическая регрессия</a></span></li><li><span><a href=\"#Вывод\" data-toc-modified-id=\"Вывод-3.1.4\"><span class=\"toc-item-num\">3.1.4&nbsp;&nbsp;</span>Вывод</a></span></li></ul></li><li><span><a href=\"#Увеличение-выборки\" data-toc-modified-id=\"Увеличение-выборки-3.2\"><span class=\"toc-item-num\">3.2&nbsp;&nbsp;</span>Увеличение выборки</a></span><ul class=\"toc-item\"><li><span><a href=\"#Дерево-решений\" data-toc-modified-id=\"Дерево-решений-3.2.1\"><span class=\"toc-item-num\">3.2.1&nbsp;&nbsp;</span>Дерево решений</a></span></li><li><span><a href=\"#Случайный-лес\" data-toc-modified-id=\"Случайный-лес-3.2.2\"><span class=\"toc-item-num\">3.2.2&nbsp;&nbsp;</span>Случайный лес</a></span></li><li><span><a href=\"#Логистическая-регрессия\" data-toc-modified-id=\"Логистическая-регрессия-3.2.3\"><span class=\"toc-item-num\">3.2.3&nbsp;&nbsp;</span>Логистическая регрессия</a></span></li><li><span><a href=\"#Вывод\" data-toc-modified-id=\"Вывод-3.2.4\"><span class=\"toc-item-num\">3.2.4&nbsp;&nbsp;</span>Вывод</a></span></li></ul></li><li><span><a href=\"#Продвинутое-увеличение-выборки\" data-toc-modified-id=\"Продвинутое-увеличение-выборки-3.3\"><span class=\"toc-item-num\">3.3&nbsp;&nbsp;</span>Продвинутое увеличение выборки</a></span><ul class=\"toc-item\"><li><span><a href=\"#Дерево-решений\" data-toc-modified-id=\"Дерево-решений-3.3.1\"><span class=\"toc-item-num\">3.3.1&nbsp;&nbsp;</span>Дерево решений</a></span></li><li><span><a href=\"#Случайный-лес\" data-toc-modified-id=\"Случайный-лес-3.3.2\"><span class=\"toc-item-num\">3.3.2&nbsp;&nbsp;</span>Случайный лес</a></span></li><li><span><a href=\"#Логистическая-регрессия\" data-toc-modified-id=\"Логистическая-регрессия-3.3.3\"><span class=\"toc-item-num\">3.3.3&nbsp;&nbsp;</span>Логистическая регрессия</a></span></li><li><span><a href=\"#Вывод\" data-toc-modified-id=\"Вывод-3.3.4\"><span class=\"toc-item-num\">3.3.4&nbsp;&nbsp;</span>Вывод</a></span></li></ul></li><li><span><a href=\"#Уменьшение-выборки\" data-toc-modified-id=\"Уменьшение-выборки-3.4\"><span class=\"toc-item-num\">3.4&nbsp;&nbsp;</span>Уменьшение выборки</a></span><ul class=\"toc-item\"><li><span><a href=\"#Дерево-решений\" data-toc-modified-id=\"Дерево-решений-3.4.1\"><span class=\"toc-item-num\">3.4.1&nbsp;&nbsp;</span>Дерево решений</a></span></li><li><span><a href=\"#Случайный-лес\" data-toc-modified-id=\"Случайный-лес-3.4.2\"><span class=\"toc-item-num\">3.4.2&nbsp;&nbsp;</span>Случайный лес</a></span></li><li><span><a href=\"#Логистическая-регрессия\" data-toc-modified-id=\"Логистическая-регрессия-3.4.3\"><span class=\"toc-item-num\">3.4.3&nbsp;&nbsp;</span>Логистическая регрессия</a></span></li><li><span><a href=\"#Вывод\" data-toc-modified-id=\"Вывод-3.4.4\"><span class=\"toc-item-num\">3.4.4&nbsp;&nbsp;</span>Вывод</a></span></li></ul></li><li><span><a href=\"#Увеличение-выборки-для-случайного-леса-без-кросс-валидации\" data-toc-modified-id=\"Увеличение-выборки-для-случайного-леса-без-кросс-валидации-3.5\"><span class=\"toc-item-num\">3.5&nbsp;&nbsp;</span>Увеличение выборки для случайного леса без кросс-валидации</a></span></li><li><span><a href=\"#Выводы-по-борьбе-с-дисбалансом\" data-toc-modified-id=\"Выводы-по-борьбе-с-дисбалансом-3.6\"><span class=\"toc-item-num\">3.6&nbsp;&nbsp;</span>Выводы по борьбе с дисбалансом</a></span></li></ul></li><li><span><a href=\"#Тестирование-модели\" data-toc-modified-id=\"Тестирование-модели-4\"><span class=\"toc-item-num\">4&nbsp;&nbsp;</span>Тестирование модели</a></span><ul class=\"toc-item\"><li><span><a href=\"#Дерево-решений\" data-toc-modified-id=\"Дерево-решений-4.1\"><span class=\"toc-item-num\">4.1&nbsp;&nbsp;</span>Дерево решений</a></span></li><li><span><a href=\"#Случайный-лес\" data-toc-modified-id=\"Случайный-лес-4.2\"><span class=\"toc-item-num\">4.2&nbsp;&nbsp;</span>Случайный лес</a></span></li><li><span><a href=\"#Логистическая-регрессия\" data-toc-modified-id=\"Логистическая-регрессия-4.3\"><span class=\"toc-item-num\">4.3&nbsp;&nbsp;</span>Логистическая регрессия</a></span></li><li><span><a href=\"#Вывод\" data-toc-modified-id=\"Вывод-4.4\"><span class=\"toc-item-num\">4.4&nbsp;&nbsp;</span>Вывод</a></span></li></ul></li><li><span><a href=\"#Выводы\" data-toc-modified-id=\"Выводы-5\"><span class=\"toc-item-num\">5&nbsp;&nbsp;</span>Выводы</a></span></li><li><span><a href=\"#Чек-лист-готовности-проекта\" data-toc-modified-id=\"Чек-лист-готовности-проекта-6\"><span class=\"toc-item-num\">6&nbsp;&nbsp;</span>Чек-лист готовности проекта</a></span></li></ul></div>"
   ]
  },
  {
   "cell_type": "markdown",
   "metadata": {},
   "source": [
    "# Отток клиентов"
   ]
  },
  {
   "cell_type": "markdown",
   "metadata": {},
   "source": [
    "Из «Бета-Банка» стали уходить клиенты. Каждый месяц. Немного, но заметно. Банковские маркетологи посчитали: сохранять текущих клиентов дешевле, чем привлекать новых.\n",
    "\n",
    "Нужно спрогнозировать, уйдёт клиент из банка в ближайшее время или нет. Вам предоставлены исторические данные о поведении клиентов и расторжении договоров с банком. \n",
    "\n",
    "Постройте модель с предельно большим значением *F1*-меры. Чтобы сдать проект успешно, нужно довести метрику до 0.59. Проверьте *F1*-меру на тестовой выборке самостоятельно.\n",
    "\n",
    "Дополнительно измеряйте *AUC-ROC*, сравнивайте её значение с *F1*-мерой.\n",
    "\n",
    "Источник данных: [https://www.kaggle.com/barelydedicated/bank-customer-churn-modeling](https://www.kaggle.com/barelydedicated/bank-customer-churn-modeling)"
   ]
  },
  {
   "cell_type": "markdown",
   "metadata": {},
   "source": [
    "## Подготовка данных"
   ]
  },
  {
   "cell_type": "code",
   "execution_count": 44,
   "metadata": {},
   "outputs": [
    {
     "name": "stdout",
     "output_type": "stream",
     "text": [
      "Requirement already satisfied: optuna==3.0.4 in /Users/doburla1/opt/anaconda3/envs/ds_practicum_env/lib/python3.9/site-packages (3.0.4)\r\n",
      "Requirement already satisfied: imbalanced-learn==0.10.0 in /Users/doburla1/opt/anaconda3/envs/ds_practicum_env/lib/python3.9/site-packages (0.10.0)\r\n",
      "Requirement already satisfied: scikit-learn==1.1.3 in /Users/doburla1/opt/anaconda3/envs/ds_practicum_env/lib/python3.9/site-packages (1.1.3)\r\n",
      "Requirement already satisfied: numpy in /Users/doburla1/opt/anaconda3/envs/ds_practicum_env/lib/python3.9/site-packages (from optuna==3.0.4) (1.23.5)\r\n",
      "Requirement already satisfied: cliff in /Users/doburla1/opt/anaconda3/envs/ds_practicum_env/lib/python3.9/site-packages (from optuna==3.0.4) (4.1.0)\r\n",
      "Requirement already satisfied: alembic>=1.5.0 in /Users/doburla1/opt/anaconda3/envs/ds_practicum_env/lib/python3.9/site-packages (from optuna==3.0.4) (1.8.1)\r\n",
      "Requirement already satisfied: colorlog in /Users/doburla1/opt/anaconda3/envs/ds_practicum_env/lib/python3.9/site-packages (from optuna==3.0.4) (6.7.0)\r\n",
      "Requirement already satisfied: scipy<1.9.0,>=1.7.0 in /Users/doburla1/opt/anaconda3/envs/ds_practicum_env/lib/python3.9/site-packages (from optuna==3.0.4) (1.8.1)\r\n",
      "Requirement already satisfied: packaging>=20.0 in /Users/doburla1/opt/anaconda3/envs/ds_practicum_env/lib/python3.9/site-packages (from optuna==3.0.4) (21.3)\r\n",
      "Requirement already satisfied: sqlalchemy>=1.3.0 in /Users/doburla1/opt/anaconda3/envs/ds_practicum_env/lib/python3.9/site-packages (from optuna==3.0.4) (1.4.44)\r\n",
      "Requirement already satisfied: tqdm in /Users/doburla1/opt/anaconda3/envs/ds_practicum_env/lib/python3.9/site-packages (from optuna==3.0.4) (4.64.1)\r\n",
      "Requirement already satisfied: cmaes>=0.8.2 in /Users/doburla1/opt/anaconda3/envs/ds_practicum_env/lib/python3.9/site-packages (from optuna==3.0.4) (0.9.0)\r\n",
      "Requirement already satisfied: PyYAML in /Users/doburla1/opt/anaconda3/envs/ds_practicum_env/lib/python3.9/site-packages (from optuna==3.0.4) (6.0)\r\n",
      "Requirement already satisfied: importlib-metadata<5.0.0 in /Users/doburla1/opt/anaconda3/envs/ds_practicum_env/lib/python3.9/site-packages (from optuna==3.0.4) (4.12.0)\r\n",
      "Requirement already satisfied: threadpoolctl>=2.0.0 in /Users/doburla1/opt/anaconda3/envs/ds_practicum_env/lib/python3.9/site-packages (from imbalanced-learn==0.10.0) (3.1.0)\r\n",
      "Requirement already satisfied: joblib>=1.1.1 in /Users/doburla1/opt/anaconda3/envs/ds_practicum_env/lib/python3.9/site-packages (from imbalanced-learn==0.10.0) (1.2.0)\r\n",
      "Requirement already satisfied: Mako in /Users/doburla1/opt/anaconda3/envs/ds_practicum_env/lib/python3.9/site-packages (from alembic>=1.5.0->optuna==3.0.4) (1.2.4)\r\n",
      "Requirement already satisfied: zipp>=0.5 in /Users/doburla1/opt/anaconda3/envs/ds_practicum_env/lib/python3.9/site-packages (from importlib-metadata<5.0.0->optuna==3.0.4) (3.10.0)\r\n",
      "Requirement already satisfied: pyparsing!=3.0.5,>=2.0.2 in /Users/doburla1/opt/anaconda3/envs/ds_practicum_env/lib/python3.9/site-packages (from packaging>=20.0->optuna==3.0.4) (3.0.9)\r\n",
      "Requirement already satisfied: greenlet!=0.4.17 in /Users/doburla1/opt/anaconda3/envs/ds_practicum_env/lib/python3.9/site-packages (from sqlalchemy>=1.3.0->optuna==3.0.4) (2.0.1)\r\n",
      "Requirement already satisfied: autopage>=0.4.0 in /Users/doburla1/opt/anaconda3/envs/ds_practicum_env/lib/python3.9/site-packages (from cliff->optuna==3.0.4) (0.5.1)\r\n",
      "Requirement already satisfied: stevedore>=2.0.1 in /Users/doburla1/opt/anaconda3/envs/ds_practicum_env/lib/python3.9/site-packages (from cliff->optuna==3.0.4) (4.1.1)\r\n",
      "Requirement already satisfied: cmd2>=1.0.0 in /Users/doburla1/opt/anaconda3/envs/ds_practicum_env/lib/python3.9/site-packages (from cliff->optuna==3.0.4) (2.4.2)\r\n",
      "Requirement already satisfied: PrettyTable>=0.7.2 in /Users/doburla1/opt/anaconda3/envs/ds_practicum_env/lib/python3.9/site-packages (from cliff->optuna==3.0.4) (3.4.1)\r\n",
      "Requirement already satisfied: wcwidth>=0.1.7 in /Users/doburla1/opt/anaconda3/envs/ds_practicum_env/lib/python3.9/site-packages (from cmd2>=1.0.0->cliff->optuna==3.0.4) (0.2.5)\r\n",
      "Requirement already satisfied: attrs>=16.3.0 in /Users/doburla1/opt/anaconda3/envs/ds_practicum_env/lib/python3.9/site-packages (from cmd2>=1.0.0->cliff->optuna==3.0.4) (22.1.0)\r\n",
      "Requirement already satisfied: pyperclip>=1.6 in /Users/doburla1/opt/anaconda3/envs/ds_practicum_env/lib/python3.9/site-packages (from cmd2>=1.0.0->cliff->optuna==3.0.4) (1.8.2)\r\n",
      "Requirement already satisfied: pbr!=2.1.0,>=2.0.0 in /Users/doburla1/opt/anaconda3/envs/ds_practicum_env/lib/python3.9/site-packages (from stevedore>=2.0.1->cliff->optuna==3.0.4) (5.11.0)\r\n",
      "Requirement already satisfied: MarkupSafe>=0.9.2 in /Users/doburla1/opt/anaconda3/envs/ds_practicum_env/lib/python3.9/site-packages (from Mako->alembic>=1.5.0->optuna==3.0.4) (2.1.1)\r\n"
     ]
    }
   ],
   "source": [
    "\n",
    "!pip install optuna==3.0.4 imbalanced-learn==0.10.0 scikit-learn==1.1.3"
   ]
  },
  {
   "cell_type": "code",
   "execution_count": 45,
   "metadata": {},
   "outputs": [],
   "source": [
    "import optuna as optuna\n",
    "import pandas as pd\n",
    "from imblearn.over_sampling import SMOTE\n",
    "from imblearn.pipeline import make_pipeline\n",
    "from sklearn.dummy import DummyClassifier\n",
    "from sklearn.ensemble import RandomForestClassifier\n",
    "from sklearn.linear_model import LogisticRegression\n",
    "from sklearn.metrics import f1_score\n",
    "from sklearn.metrics import recall_score\n",
    "from sklearn.metrics import roc_auc_score\n",
    "from sklearn.model_selection import train_test_split, GridSearchCV, RandomizedSearchCV\n",
    "from sklearn.preprocessing import OneHotEncoder, StandardScaler\n",
    "from sklearn.tree import DecisionTreeClassifier\n",
    "from sklearn.utils import shuffle"
   ]
  },
  {
   "cell_type": "code",
   "execution_count": 46,
   "metadata": {},
   "outputs": [],
   "source": [
    "RANDOM_STATE = 12345"
   ]
  },
  {
   "cell_type": "markdown",
   "metadata": {},
   "source": [
    "### Обзор данных\n",
    "Произведем первичный обзор данных."
   ]
  },
  {
   "cell_type": "code",
   "execution_count": 47,
   "metadata": {},
   "outputs": [
    {
     "name": "stdout",
     "output_type": "stream",
     "text": [
      "<class 'pandas.core.frame.DataFrame'>\n",
      "RangeIndex: 10000 entries, 0 to 9999\n",
      "Data columns (total 14 columns):\n",
      " #   Column           Non-Null Count  Dtype  \n",
      "---  ------           --------------  -----  \n",
      " 0   RowNumber        10000 non-null  int64  \n",
      " 1   CustomerId       10000 non-null  int64  \n",
      " 2   Surname          10000 non-null  object \n",
      " 3   CreditScore      10000 non-null  int64  \n",
      " 4   Geography        10000 non-null  object \n",
      " 5   Gender           10000 non-null  object \n",
      " 6   Age              10000 non-null  int64  \n",
      " 7   Tenure           9091 non-null   float64\n",
      " 8   Balance          10000 non-null  float64\n",
      " 9   NumOfProducts    10000 non-null  int64  \n",
      " 10  HasCrCard        10000 non-null  int64  \n",
      " 11  IsActiveMember   10000 non-null  int64  \n",
      " 12  EstimatedSalary  10000 non-null  float64\n",
      " 13  Exited           10000 non-null  int64  \n",
      "dtypes: float64(3), int64(8), object(3)\n",
      "memory usage: 1.1+ MB\n"
     ]
    }
   ],
   "source": [
    "try:\n",
    "    data = pd.read_csv('/datasets/Churn.csv')\n",
    "except:\n",
    "    data = pd.read_csv('https://code.s3.yandex.net/datasets/Churn.csv')\n",
    "data.info()"
   ]
  },
  {
   "cell_type": "code",
   "execution_count": 48,
   "metadata": {},
   "outputs": [
    {
     "data": {
      "text/plain": "   RowNumber  CustomerId   Surname  CreditScore Geography  Gender  Age  \\\n0          1    15634602  Hargrave          619    France  Female   42   \n1          2    15647311      Hill          608     Spain  Female   41   \n2          3    15619304      Onio          502    France  Female   42   \n3          4    15701354      Boni          699    France  Female   39   \n4          5    15737888  Mitchell          850     Spain  Female   43   \n\n   Tenure    Balance  NumOfProducts  HasCrCard  IsActiveMember  \\\n0     2.0       0.00              1          1               1   \n1     1.0   83807.86              1          0               1   \n2     8.0  159660.80              3          1               0   \n3     1.0       0.00              2          0               0   \n4     2.0  125510.82              1          1               1   \n\n   EstimatedSalary  Exited  \n0        101348.88       1  \n1        112542.58       0  \n2        113931.57       1  \n3         93826.63       0  \n4         79084.10       0  ",
      "text/html": "<div>\n<style scoped>\n    .dataframe tbody tr th:only-of-type {\n        vertical-align: middle;\n    }\n\n    .dataframe tbody tr th {\n        vertical-align: top;\n    }\n\n    .dataframe thead th {\n        text-align: right;\n    }\n</style>\n<table border=\"1\" class=\"dataframe\">\n  <thead>\n    <tr style=\"text-align: right;\">\n      <th></th>\n      <th>RowNumber</th>\n      <th>CustomerId</th>\n      <th>Surname</th>\n      <th>CreditScore</th>\n      <th>Geography</th>\n      <th>Gender</th>\n      <th>Age</th>\n      <th>Tenure</th>\n      <th>Balance</th>\n      <th>NumOfProducts</th>\n      <th>HasCrCard</th>\n      <th>IsActiveMember</th>\n      <th>EstimatedSalary</th>\n      <th>Exited</th>\n    </tr>\n  </thead>\n  <tbody>\n    <tr>\n      <th>0</th>\n      <td>1</td>\n      <td>15634602</td>\n      <td>Hargrave</td>\n      <td>619</td>\n      <td>France</td>\n      <td>Female</td>\n      <td>42</td>\n      <td>2.0</td>\n      <td>0.00</td>\n      <td>1</td>\n      <td>1</td>\n      <td>1</td>\n      <td>101348.88</td>\n      <td>1</td>\n    </tr>\n    <tr>\n      <th>1</th>\n      <td>2</td>\n      <td>15647311</td>\n      <td>Hill</td>\n      <td>608</td>\n      <td>Spain</td>\n      <td>Female</td>\n      <td>41</td>\n      <td>1.0</td>\n      <td>83807.86</td>\n      <td>1</td>\n      <td>0</td>\n      <td>1</td>\n      <td>112542.58</td>\n      <td>0</td>\n    </tr>\n    <tr>\n      <th>2</th>\n      <td>3</td>\n      <td>15619304</td>\n      <td>Onio</td>\n      <td>502</td>\n      <td>France</td>\n      <td>Female</td>\n      <td>42</td>\n      <td>8.0</td>\n      <td>159660.80</td>\n      <td>3</td>\n      <td>1</td>\n      <td>0</td>\n      <td>113931.57</td>\n      <td>1</td>\n    </tr>\n    <tr>\n      <th>3</th>\n      <td>4</td>\n      <td>15701354</td>\n      <td>Boni</td>\n      <td>699</td>\n      <td>France</td>\n      <td>Female</td>\n      <td>39</td>\n      <td>1.0</td>\n      <td>0.00</td>\n      <td>2</td>\n      <td>0</td>\n      <td>0</td>\n      <td>93826.63</td>\n      <td>0</td>\n    </tr>\n    <tr>\n      <th>4</th>\n      <td>5</td>\n      <td>15737888</td>\n      <td>Mitchell</td>\n      <td>850</td>\n      <td>Spain</td>\n      <td>Female</td>\n      <td>43</td>\n      <td>2.0</td>\n      <td>125510.82</td>\n      <td>1</td>\n      <td>1</td>\n      <td>1</td>\n      <td>79084.10</td>\n      <td>0</td>\n    </tr>\n  </tbody>\n</table>\n</div>"
     },
     "execution_count": 48,
     "metadata": {},
     "output_type": "execute_result"
    }
   ],
   "source": [
    "data.head()"
   ]
  },
  {
   "cell_type": "markdown",
   "metadata": {},
   "source": [
    "### Устранение пропусков\n",
    "В столбце Tenure есть пропуски, посмотрим отдельно на объекты с пропусками."
   ]
  },
  {
   "cell_type": "code",
   "execution_count": 49,
   "metadata": {},
   "outputs": [
    {
     "data": {
      "text/plain": "      RowNumber  CustomerId    Surname  CreditScore Geography  Gender  Age  \\\n30           31    15589475    Azikiwe          591     Spain  Female   39   \n48           49    15766205        Yin          550   Germany    Male   38   \n51           52    15768193  Trevisani          585   Germany    Male   36   \n53           54    15702298   Parkhill          655   Germany    Male   41   \n60           61    15651280     Hunter          742   Germany    Male   35   \n...         ...         ...        ...          ...       ...     ...  ...   \n9944       9945    15703923    Cameron          744   Germany    Male   41   \n9956       9957    15707861      Nucci          520    France  Female   46   \n9964       9965    15642785    Douglas          479    France    Male   34   \n9985       9986    15586914     Nepean          659    France    Male   36   \n9999      10000    15628319     Walker          792    France  Female   28   \n\n      Tenure    Balance  NumOfProducts  HasCrCard  IsActiveMember  \\\n30       NaN       0.00              3          1               0   \n48       NaN  103391.38              1          0               1   \n51       NaN  146050.97              2          0               0   \n53       NaN  125561.97              1          0               0   \n60       NaN  136857.00              1          0               0   \n...      ...        ...            ...        ...             ...   \n9944     NaN  190409.34              2          1               1   \n9956     NaN   85216.61              1          1               0   \n9964     NaN  117593.48              2          0               0   \n9985     NaN  123841.49              2          1               0   \n9999     NaN  130142.79              1          1               0   \n\n      EstimatedSalary  Exited  \n30          140469.38       1  \n48           90878.13       0  \n51           86424.57       0  \n53          164040.94       1  \n60           84509.57       0  \n...               ...     ...  \n9944        138361.48       0  \n9956        117369.52       1  \n9964        113308.29       0  \n9985         96833.00       0  \n9999         38190.78       0  \n\n[909 rows x 14 columns]",
      "text/html": "<div>\n<style scoped>\n    .dataframe tbody tr th:only-of-type {\n        vertical-align: middle;\n    }\n\n    .dataframe tbody tr th {\n        vertical-align: top;\n    }\n\n    .dataframe thead th {\n        text-align: right;\n    }\n</style>\n<table border=\"1\" class=\"dataframe\">\n  <thead>\n    <tr style=\"text-align: right;\">\n      <th></th>\n      <th>RowNumber</th>\n      <th>CustomerId</th>\n      <th>Surname</th>\n      <th>CreditScore</th>\n      <th>Geography</th>\n      <th>Gender</th>\n      <th>Age</th>\n      <th>Tenure</th>\n      <th>Balance</th>\n      <th>NumOfProducts</th>\n      <th>HasCrCard</th>\n      <th>IsActiveMember</th>\n      <th>EstimatedSalary</th>\n      <th>Exited</th>\n    </tr>\n  </thead>\n  <tbody>\n    <tr>\n      <th>30</th>\n      <td>31</td>\n      <td>15589475</td>\n      <td>Azikiwe</td>\n      <td>591</td>\n      <td>Spain</td>\n      <td>Female</td>\n      <td>39</td>\n      <td>NaN</td>\n      <td>0.00</td>\n      <td>3</td>\n      <td>1</td>\n      <td>0</td>\n      <td>140469.38</td>\n      <td>1</td>\n    </tr>\n    <tr>\n      <th>48</th>\n      <td>49</td>\n      <td>15766205</td>\n      <td>Yin</td>\n      <td>550</td>\n      <td>Germany</td>\n      <td>Male</td>\n      <td>38</td>\n      <td>NaN</td>\n      <td>103391.38</td>\n      <td>1</td>\n      <td>0</td>\n      <td>1</td>\n      <td>90878.13</td>\n      <td>0</td>\n    </tr>\n    <tr>\n      <th>51</th>\n      <td>52</td>\n      <td>15768193</td>\n      <td>Trevisani</td>\n      <td>585</td>\n      <td>Germany</td>\n      <td>Male</td>\n      <td>36</td>\n      <td>NaN</td>\n      <td>146050.97</td>\n      <td>2</td>\n      <td>0</td>\n      <td>0</td>\n      <td>86424.57</td>\n      <td>0</td>\n    </tr>\n    <tr>\n      <th>53</th>\n      <td>54</td>\n      <td>15702298</td>\n      <td>Parkhill</td>\n      <td>655</td>\n      <td>Germany</td>\n      <td>Male</td>\n      <td>41</td>\n      <td>NaN</td>\n      <td>125561.97</td>\n      <td>1</td>\n      <td>0</td>\n      <td>0</td>\n      <td>164040.94</td>\n      <td>1</td>\n    </tr>\n    <tr>\n      <th>60</th>\n      <td>61</td>\n      <td>15651280</td>\n      <td>Hunter</td>\n      <td>742</td>\n      <td>Germany</td>\n      <td>Male</td>\n      <td>35</td>\n      <td>NaN</td>\n      <td>136857.00</td>\n      <td>1</td>\n      <td>0</td>\n      <td>0</td>\n      <td>84509.57</td>\n      <td>0</td>\n    </tr>\n    <tr>\n      <th>...</th>\n      <td>...</td>\n      <td>...</td>\n      <td>...</td>\n      <td>...</td>\n      <td>...</td>\n      <td>...</td>\n      <td>...</td>\n      <td>...</td>\n      <td>...</td>\n      <td>...</td>\n      <td>...</td>\n      <td>...</td>\n      <td>...</td>\n      <td>...</td>\n    </tr>\n    <tr>\n      <th>9944</th>\n      <td>9945</td>\n      <td>15703923</td>\n      <td>Cameron</td>\n      <td>744</td>\n      <td>Germany</td>\n      <td>Male</td>\n      <td>41</td>\n      <td>NaN</td>\n      <td>190409.34</td>\n      <td>2</td>\n      <td>1</td>\n      <td>1</td>\n      <td>138361.48</td>\n      <td>0</td>\n    </tr>\n    <tr>\n      <th>9956</th>\n      <td>9957</td>\n      <td>15707861</td>\n      <td>Nucci</td>\n      <td>520</td>\n      <td>France</td>\n      <td>Female</td>\n      <td>46</td>\n      <td>NaN</td>\n      <td>85216.61</td>\n      <td>1</td>\n      <td>1</td>\n      <td>0</td>\n      <td>117369.52</td>\n      <td>1</td>\n    </tr>\n    <tr>\n      <th>9964</th>\n      <td>9965</td>\n      <td>15642785</td>\n      <td>Douglas</td>\n      <td>479</td>\n      <td>France</td>\n      <td>Male</td>\n      <td>34</td>\n      <td>NaN</td>\n      <td>117593.48</td>\n      <td>2</td>\n      <td>0</td>\n      <td>0</td>\n      <td>113308.29</td>\n      <td>0</td>\n    </tr>\n    <tr>\n      <th>9985</th>\n      <td>9986</td>\n      <td>15586914</td>\n      <td>Nepean</td>\n      <td>659</td>\n      <td>France</td>\n      <td>Male</td>\n      <td>36</td>\n      <td>NaN</td>\n      <td>123841.49</td>\n      <td>2</td>\n      <td>1</td>\n      <td>0</td>\n      <td>96833.00</td>\n      <td>0</td>\n    </tr>\n    <tr>\n      <th>9999</th>\n      <td>10000</td>\n      <td>15628319</td>\n      <td>Walker</td>\n      <td>792</td>\n      <td>France</td>\n      <td>Female</td>\n      <td>28</td>\n      <td>NaN</td>\n      <td>130142.79</td>\n      <td>1</td>\n      <td>1</td>\n      <td>0</td>\n      <td>38190.78</td>\n      <td>0</td>\n    </tr>\n  </tbody>\n</table>\n<p>909 rows × 14 columns</p>\n</div>"
     },
     "execution_count": 49,
     "metadata": {},
     "output_type": "execute_result"
    }
   ],
   "source": [
    "data[data['Tenure'].isna()]"
   ]
  },
  {
   "cell_type": "code",
   "execution_count": 50,
   "metadata": {},
   "outputs": [
    {
     "data": {
      "text/plain": "1.0     952\n2.0     950\n8.0     933\n3.0     928\n5.0     927\n7.0     925\n4.0     885\n9.0     882\n6.0     881\n10.0    446\n0.0     382\nName: Tenure, dtype: int64"
     },
     "execution_count": 50,
     "metadata": {},
     "output_type": "execute_result"
    }
   ],
   "source": [
    "data['Tenure'].value_counts()"
   ]
  },
  {
   "cell_type": "markdown",
   "metadata": {},
   "source": [
    "Какой-то закономерности в пропусках заметить не удалось, заменим пропуски на медианное значение."
   ]
  },
  {
   "cell_type": "code",
   "execution_count": 51,
   "metadata": {},
   "outputs": [
    {
     "data": {
      "text/plain": "5.0     1836\n1.0      952\n2.0      950\n8.0      933\n3.0      928\n7.0      925\n4.0      885\n9.0      882\n6.0      881\n10.0     446\n0.0      382\nName: Tenure, dtype: int64"
     },
     "execution_count": 51,
     "metadata": {},
     "output_type": "execute_result"
    }
   ],
   "source": [
    "data['Tenure'] = data['Tenure'].fillna(data['Tenure'].median())\n",
    "data['Tenure'].value_counts()"
   ]
  },
  {
   "cell_type": "markdown",
   "metadata": {},
   "source": [
    "Пропуски устранены."
   ]
  },
  {
   "cell_type": "markdown",
   "metadata": {},
   "source": [
    "### Подготовка обучающей и тестовой выборок.\n",
    "В данных есть столбцы, которые никак не влияют на целевой признак, а являются техническими - это индекс строки и идентификатор клиента. Также сомнительно, что на факт ухода клиента влияет фамилия. Подготовим список столбцов, которые необходимо отбросить, чтобы получить столбцы со значащими признаками."
   ]
  },
  {
   "cell_type": "code",
   "execution_count": 52,
   "metadata": {},
   "outputs": [
    {
     "data": {
      "text/plain": "   CreditScore Geography  Gender  Age  Tenure    Balance  NumOfProducts  \\\n0          619    France  Female   42     2.0       0.00              1   \n1          608     Spain  Female   41     1.0   83807.86              1   \n2          502    France  Female   42     8.0  159660.80              3   \n3          699    France  Female   39     1.0       0.00              2   \n4          850     Spain  Female   43     2.0  125510.82              1   \n\n   HasCrCard  IsActiveMember  EstimatedSalary  Exited  \n0          1               1        101348.88       1  \n1          0               1        112542.58       0  \n2          1               0        113931.57       1  \n3          0               0         93826.63       0  \n4          1               1         79084.10       0  ",
      "text/html": "<div>\n<style scoped>\n    .dataframe tbody tr th:only-of-type {\n        vertical-align: middle;\n    }\n\n    .dataframe tbody tr th {\n        vertical-align: top;\n    }\n\n    .dataframe thead th {\n        text-align: right;\n    }\n</style>\n<table border=\"1\" class=\"dataframe\">\n  <thead>\n    <tr style=\"text-align: right;\">\n      <th></th>\n      <th>CreditScore</th>\n      <th>Geography</th>\n      <th>Gender</th>\n      <th>Age</th>\n      <th>Tenure</th>\n      <th>Balance</th>\n      <th>NumOfProducts</th>\n      <th>HasCrCard</th>\n      <th>IsActiveMember</th>\n      <th>EstimatedSalary</th>\n      <th>Exited</th>\n    </tr>\n  </thead>\n  <tbody>\n    <tr>\n      <th>0</th>\n      <td>619</td>\n      <td>France</td>\n      <td>Female</td>\n      <td>42</td>\n      <td>2.0</td>\n      <td>0.00</td>\n      <td>1</td>\n      <td>1</td>\n      <td>1</td>\n      <td>101348.88</td>\n      <td>1</td>\n    </tr>\n    <tr>\n      <th>1</th>\n      <td>608</td>\n      <td>Spain</td>\n      <td>Female</td>\n      <td>41</td>\n      <td>1.0</td>\n      <td>83807.86</td>\n      <td>1</td>\n      <td>0</td>\n      <td>1</td>\n      <td>112542.58</td>\n      <td>0</td>\n    </tr>\n    <tr>\n      <th>2</th>\n      <td>502</td>\n      <td>France</td>\n      <td>Female</td>\n      <td>42</td>\n      <td>8.0</td>\n      <td>159660.80</td>\n      <td>3</td>\n      <td>1</td>\n      <td>0</td>\n      <td>113931.57</td>\n      <td>1</td>\n    </tr>\n    <tr>\n      <th>3</th>\n      <td>699</td>\n      <td>France</td>\n      <td>Female</td>\n      <td>39</td>\n      <td>1.0</td>\n      <td>0.00</td>\n      <td>2</td>\n      <td>0</td>\n      <td>0</td>\n      <td>93826.63</td>\n      <td>0</td>\n    </tr>\n    <tr>\n      <th>4</th>\n      <td>850</td>\n      <td>Spain</td>\n      <td>Female</td>\n      <td>43</td>\n      <td>2.0</td>\n      <td>125510.82</td>\n      <td>1</td>\n      <td>1</td>\n      <td>1</td>\n      <td>79084.10</td>\n      <td>0</td>\n    </tr>\n  </tbody>\n</table>\n</div>"
     },
     "execution_count": 52,
     "metadata": {},
     "output_type": "execute_result"
    }
   ],
   "source": [
    "drop_columns = ['RowNumber', 'CustomerId', 'Surname']\n",
    "data = data.drop(columns=drop_columns)\n",
    "data.head()"
   ]
  },
  {
   "cell_type": "markdown",
   "metadata": {},
   "source": [
    "Разобъем данные на обучающие и тестовые."
   ]
  },
  {
   "cell_type": "code",
   "execution_count": 53,
   "metadata": {},
   "outputs": [
    {
     "name": "stdout",
     "output_type": "stream",
     "text": [
      "(7500, 10)\n",
      "(2500, 10)\n",
      "(7500,)\n",
      "(2500,)\n"
     ]
    }
   ],
   "source": [
    "features_train, features_test, target_train, target_test = train_test_split(\n",
    "    data.drop('Exited', axis=1), data['Exited'], stratify=data['Exited'], test_size=0.25, random_state=RANDOM_STATE\n",
    ")\n",
    "print(features_train.shape)\n",
    "print(features_test.shape)\n",
    "print(target_train.shape)\n",
    "print(target_test.shape)"
   ]
  },
  {
   "cell_type": "markdown",
   "metadata": {},
   "source": [
    "### Преобразование категориальных признаков\n",
    "Для страны проживания и пола применим one-hot кодирование для перевода строк в числа."
   ]
  },
  {
   "cell_type": "code",
   "execution_count": 54,
   "metadata": {},
   "outputs": [
    {
     "data": {
      "text/plain": "      CreditScore  Age  Tenure    Balance  NumOfProducts  HasCrCard  \\\n3349          665   45     5.0  155447.65              2          1   \n7094          640   67     3.0       0.00              1          0   \n9204          646   30     5.0       0.00              2          1   \n6620          732   36     5.0       0.00              2          1   \n4737          791   36     6.0  111168.97              1          1   \n\n      IsActiveMember  EstimatedSalary  Geography_Germany  Geography_Spain  \\\n3349               0         51871.95                1.0              0.0   \n7094               1         42964.63                0.0              0.0   \n9204               0         13935.32                0.0              0.0   \n6620               0        161428.25                0.0              0.0   \n4737               1        189969.91                0.0              0.0   \n\n      Gender_Male  \n3349          0.0  \n7094          0.0  \n9204          0.0  \n6620          1.0  \n4737          1.0  ",
      "text/html": "<div>\n<style scoped>\n    .dataframe tbody tr th:only-of-type {\n        vertical-align: middle;\n    }\n\n    .dataframe tbody tr th {\n        vertical-align: top;\n    }\n\n    .dataframe thead th {\n        text-align: right;\n    }\n</style>\n<table border=\"1\" class=\"dataframe\">\n  <thead>\n    <tr style=\"text-align: right;\">\n      <th></th>\n      <th>CreditScore</th>\n      <th>Age</th>\n      <th>Tenure</th>\n      <th>Balance</th>\n      <th>NumOfProducts</th>\n      <th>HasCrCard</th>\n      <th>IsActiveMember</th>\n      <th>EstimatedSalary</th>\n      <th>Geography_Germany</th>\n      <th>Geography_Spain</th>\n      <th>Gender_Male</th>\n    </tr>\n  </thead>\n  <tbody>\n    <tr>\n      <th>3349</th>\n      <td>665</td>\n      <td>45</td>\n      <td>5.0</td>\n      <td>155447.65</td>\n      <td>2</td>\n      <td>1</td>\n      <td>0</td>\n      <td>51871.95</td>\n      <td>1.0</td>\n      <td>0.0</td>\n      <td>0.0</td>\n    </tr>\n    <tr>\n      <th>7094</th>\n      <td>640</td>\n      <td>67</td>\n      <td>3.0</td>\n      <td>0.00</td>\n      <td>1</td>\n      <td>0</td>\n      <td>1</td>\n      <td>42964.63</td>\n      <td>0.0</td>\n      <td>0.0</td>\n      <td>0.0</td>\n    </tr>\n    <tr>\n      <th>9204</th>\n      <td>646</td>\n      <td>30</td>\n      <td>5.0</td>\n      <td>0.00</td>\n      <td>2</td>\n      <td>1</td>\n      <td>0</td>\n      <td>13935.32</td>\n      <td>0.0</td>\n      <td>0.0</td>\n      <td>0.0</td>\n    </tr>\n    <tr>\n      <th>6620</th>\n      <td>732</td>\n      <td>36</td>\n      <td>5.0</td>\n      <td>0.00</td>\n      <td>2</td>\n      <td>1</td>\n      <td>0</td>\n      <td>161428.25</td>\n      <td>0.0</td>\n      <td>0.0</td>\n      <td>1.0</td>\n    </tr>\n    <tr>\n      <th>4737</th>\n      <td>791</td>\n      <td>36</td>\n      <td>6.0</td>\n      <td>111168.97</td>\n      <td>1</td>\n      <td>1</td>\n      <td>1</td>\n      <td>189969.91</td>\n      <td>0.0</td>\n      <td>0.0</td>\n      <td>1.0</td>\n    </tr>\n  </tbody>\n</table>\n</div>"
     },
     "execution_count": 54,
     "metadata": {},
     "output_type": "execute_result"
    }
   ],
   "source": [
    "categorial_columns = ['Geography', 'Gender']\n",
    "\n",
    "# drop='first' удаляет первый признак из закодированных:\n",
    "# таким образом обходим dummy-ловушку\n",
    "# задаём handle_unknown='ignore':\n",
    "# игнорируется ранее невстречающиеся значения признака (при transform)\n",
    "encoder_ohe = OneHotEncoder(drop='first', handle_unknown='ignore', sparse=False)\n",
    "\n",
    "# обучаем энкодер на заданных категориальных признаках тренировочной выборки\n",
    "encoder_ohe.fit(features_train[categorial_columns])\n",
    "\n",
    "# добавляем закодированные признаки в features_train\n",
    "# encoder_ohe.get_feature_names_out() позволяет получить названия колонок\n",
    "features_train[\n",
    "    encoder_ohe.get_feature_names_out()\n",
    "] = encoder_ohe.transform(features_train[categorial_columns])\n",
    "\n",
    "# удаляем незакодированные категориальные признаки (изначальные колонки)\n",
    "features_train = features_train.drop(categorial_columns, axis=1)\n",
    "\n",
    "features_train.head()"
   ]
  },
  {
   "cell_type": "code",
   "execution_count": 55,
   "metadata": {},
   "outputs": [
    {
     "data": {
      "text/plain": "      CreditScore  Age  Tenure    Balance  NumOfProducts  HasCrCard  \\\n7888          594   31     0.0   79340.95              1          1   \n1567          713   53     6.0  115029.40              1          0   \n8704          784   42     2.0  109052.04              2          1   \n7244          445   33     7.0       0.00              2          1   \n6466          678   32     4.0  139626.01              1          1   \n\n      IsActiveMember  EstimatedSalary  Geography_Germany  Geography_Spain  \\\n7888               0         78255.86                0.0              0.0   \n1567               0        191521.32                0.0              0.0   \n8704               0          6409.55                0.0              1.0   \n7244               0        122625.68                0.0              0.0   \n6466               1        118235.52                1.0              0.0   \n\n      Gender_Male  \n7888          0.0  \n1567          1.0  \n8704          0.0  \n7244          0.0  \n6466          1.0  ",
      "text/html": "<div>\n<style scoped>\n    .dataframe tbody tr th:only-of-type {\n        vertical-align: middle;\n    }\n\n    .dataframe tbody tr th {\n        vertical-align: top;\n    }\n\n    .dataframe thead th {\n        text-align: right;\n    }\n</style>\n<table border=\"1\" class=\"dataframe\">\n  <thead>\n    <tr style=\"text-align: right;\">\n      <th></th>\n      <th>CreditScore</th>\n      <th>Age</th>\n      <th>Tenure</th>\n      <th>Balance</th>\n      <th>NumOfProducts</th>\n      <th>HasCrCard</th>\n      <th>IsActiveMember</th>\n      <th>EstimatedSalary</th>\n      <th>Geography_Germany</th>\n      <th>Geography_Spain</th>\n      <th>Gender_Male</th>\n    </tr>\n  </thead>\n  <tbody>\n    <tr>\n      <th>7888</th>\n      <td>594</td>\n      <td>31</td>\n      <td>0.0</td>\n      <td>79340.95</td>\n      <td>1</td>\n      <td>1</td>\n      <td>0</td>\n      <td>78255.86</td>\n      <td>0.0</td>\n      <td>0.0</td>\n      <td>0.0</td>\n    </tr>\n    <tr>\n      <th>1567</th>\n      <td>713</td>\n      <td>53</td>\n      <td>6.0</td>\n      <td>115029.40</td>\n      <td>1</td>\n      <td>0</td>\n      <td>0</td>\n      <td>191521.32</td>\n      <td>0.0</td>\n      <td>0.0</td>\n      <td>1.0</td>\n    </tr>\n    <tr>\n      <th>8704</th>\n      <td>784</td>\n      <td>42</td>\n      <td>2.0</td>\n      <td>109052.04</td>\n      <td>2</td>\n      <td>1</td>\n      <td>0</td>\n      <td>6409.55</td>\n      <td>0.0</td>\n      <td>1.0</td>\n      <td>0.0</td>\n    </tr>\n    <tr>\n      <th>7244</th>\n      <td>445</td>\n      <td>33</td>\n      <td>7.0</td>\n      <td>0.00</td>\n      <td>2</td>\n      <td>1</td>\n      <td>0</td>\n      <td>122625.68</td>\n      <td>0.0</td>\n      <td>0.0</td>\n      <td>0.0</td>\n    </tr>\n    <tr>\n      <th>6466</th>\n      <td>678</td>\n      <td>32</td>\n      <td>4.0</td>\n      <td>139626.01</td>\n      <td>1</td>\n      <td>1</td>\n      <td>1</td>\n      <td>118235.52</td>\n      <td>1.0</td>\n      <td>0.0</td>\n      <td>1.0</td>\n    </tr>\n  </tbody>\n</table>\n</div>"
     },
     "execution_count": 55,
     "metadata": {},
     "output_type": "execute_result"
    }
   ],
   "source": [
    "features_test[\n",
    "    encoder_ohe.get_feature_names_out()\n",
    "] = encoder_ohe.transform(features_test[categorial_columns])\n",
    "\n",
    "features_test = features_test.drop(categorial_columns, axis=1)\n",
    "\n",
    "features_test.head()"
   ]
  },
  {
   "cell_type": "markdown",
   "metadata": {},
   "source": [
    "Данные закодированы."
   ]
  },
  {
   "cell_type": "markdown",
   "metadata": {},
   "source": [
    "### Масштабирование признаков\n",
    "Произведем стандартизацию числовых признаков."
   ]
  },
  {
   "cell_type": "code",
   "execution_count": 56,
   "metadata": {},
   "outputs": [
    {
     "data": {
      "text/plain": "      CreditScore       Age    Tenure   Balance  NumOfProducts  HasCrCard  \\\n3349     0.153616  0.583435 -0.004794  1.264113       0.807524          1   \n7094    -0.104283  2.694224 -0.731152 -1.222762      -0.915010          0   \n9204    -0.042388 -0.855740 -0.004794 -1.222762       0.807524          1   \n6620     0.844786 -0.280070 -0.004794 -1.222762       0.807524          1   \n4737     1.453428 -0.280070  0.358385  0.555736      -0.915010          1   \n\n      IsActiveMember  EstimatedSalary  Geography_Germany  Geography_Spain  \\\n3349               0        -0.848725                1.0              0.0   \n7094               1        -1.003683                0.0              0.0   \n9204               0        -1.508697                0.0              0.0   \n6620               0         1.057193                0.0              0.0   \n4737               1         1.553724                0.0              0.0   \n\n      Gender_Male  \n3349          0.0  \n7094          0.0  \n9204          0.0  \n6620          1.0  \n4737          1.0  ",
      "text/html": "<div>\n<style scoped>\n    .dataframe tbody tr th:only-of-type {\n        vertical-align: middle;\n    }\n\n    .dataframe tbody tr th {\n        vertical-align: top;\n    }\n\n    .dataframe thead th {\n        text-align: right;\n    }\n</style>\n<table border=\"1\" class=\"dataframe\">\n  <thead>\n    <tr style=\"text-align: right;\">\n      <th></th>\n      <th>CreditScore</th>\n      <th>Age</th>\n      <th>Tenure</th>\n      <th>Balance</th>\n      <th>NumOfProducts</th>\n      <th>HasCrCard</th>\n      <th>IsActiveMember</th>\n      <th>EstimatedSalary</th>\n      <th>Geography_Germany</th>\n      <th>Geography_Spain</th>\n      <th>Gender_Male</th>\n    </tr>\n  </thead>\n  <tbody>\n    <tr>\n      <th>3349</th>\n      <td>0.153616</td>\n      <td>0.583435</td>\n      <td>-0.004794</td>\n      <td>1.264113</td>\n      <td>0.807524</td>\n      <td>1</td>\n      <td>0</td>\n      <td>-0.848725</td>\n      <td>1.0</td>\n      <td>0.0</td>\n      <td>0.0</td>\n    </tr>\n    <tr>\n      <th>7094</th>\n      <td>-0.104283</td>\n      <td>2.694224</td>\n      <td>-0.731152</td>\n      <td>-1.222762</td>\n      <td>-0.915010</td>\n      <td>0</td>\n      <td>1</td>\n      <td>-1.003683</td>\n      <td>0.0</td>\n      <td>0.0</td>\n      <td>0.0</td>\n    </tr>\n    <tr>\n      <th>9204</th>\n      <td>-0.042388</td>\n      <td>-0.855740</td>\n      <td>-0.004794</td>\n      <td>-1.222762</td>\n      <td>0.807524</td>\n      <td>1</td>\n      <td>0</td>\n      <td>-1.508697</td>\n      <td>0.0</td>\n      <td>0.0</td>\n      <td>0.0</td>\n    </tr>\n    <tr>\n      <th>6620</th>\n      <td>0.844786</td>\n      <td>-0.280070</td>\n      <td>-0.004794</td>\n      <td>-1.222762</td>\n      <td>0.807524</td>\n      <td>1</td>\n      <td>0</td>\n      <td>1.057193</td>\n      <td>0.0</td>\n      <td>0.0</td>\n      <td>1.0</td>\n    </tr>\n    <tr>\n      <th>4737</th>\n      <td>1.453428</td>\n      <td>-0.280070</td>\n      <td>0.358385</td>\n      <td>0.555736</td>\n      <td>-0.915010</td>\n      <td>1</td>\n      <td>1</td>\n      <td>1.553724</td>\n      <td>0.0</td>\n      <td>0.0</td>\n      <td>1.0</td>\n    </tr>\n  </tbody>\n</table>\n</div>"
     },
     "execution_count": 56,
     "metadata": {},
     "output_type": "execute_result"
    }
   ],
   "source": [
    "scaler = StandardScaler()\n",
    "numeric = ['CreditScore', 'Age', 'Tenure', 'Balance', 'NumOfProducts', 'EstimatedSalary']\n",
    "scaler.fit(features_train[numeric])\n",
    "features_train[numeric] = scaler.transform(features_train[numeric])\n",
    "features_test[numeric] = scaler.transform(features_test[numeric])\n",
    "features_train.head()"
   ]
  },
  {
   "cell_type": "markdown",
   "metadata": {},
   "source": [
    "Признаки стандартизированы."
   ]
  },
  {
   "cell_type": "markdown",
   "metadata": {},
   "source": [
    "### Вывод\n",
    "Произведен обзор данных и подготовка данных - устранены пропуски, устранены не влияющие на целевую переменную признаки, числовые признаки стандартизированы, преобразованы категориальные признаки, подготовлены обучающая и тестовая выборки."
   ]
  },
  {
   "cell_type": "markdown",
   "metadata": {},
   "source": [
    "## Исследование задачи"
   ]
  },
  {
   "cell_type": "markdown",
   "metadata": {},
   "source": [
    "### Баланс классов\n",
    "Посмотрим на количество значений целевой переменной."
   ]
  },
  {
   "cell_type": "code",
   "execution_count": 57,
   "metadata": {},
   "outputs": [
    {
     "data": {
      "text/plain": "0    7963\n1    2037\nName: Exited, dtype: int64"
     },
     "execution_count": 57,
     "metadata": {},
     "output_type": "execute_result"
    }
   ],
   "source": [
    "data['Exited'].value_counts()"
   ]
  },
  {
   "cell_type": "markdown",
   "metadata": {},
   "source": [
    "Наблюдается существенный дисбаланс - оставшихся клиентов почти в 4 раза больше чем оставшихся."
   ]
  },
  {
   "cell_type": "markdown",
   "metadata": {},
   "source": [
    "### Базовая модель"
   ]
  },
  {
   "cell_type": "markdown",
   "metadata": {},
   "source": [
    "Так как стоит задача максимизировать метрику, показывающую успешность предсказывания единицы, в качестве базовой модели возьмем модель, всегда предсказывающую 1."
   ]
  },
  {
   "cell_type": "code",
   "execution_count": 58,
   "metadata": {},
   "outputs": [
    {
     "name": "stdout",
     "output_type": "stream",
     "text": [
      "f1 = 0.3383183781987371\n"
     ]
    }
   ],
   "source": [
    "dummy_model = DummyClassifier(strategy='constant', constant=1)\n",
    "dummy_model.fit(features_train, target_train)\n",
    "print(f'f1 = {f1_score(dummy_model.predict(features_test), target_test)}')"
   ]
  },
  {
   "cell_type": "markdown",
   "metadata": {},
   "source": [
    "Метрика f1 базовой модели равна 0.338, в дальнейшем будет сравнивать метрики обученных моделей с ней"
   ]
  },
  {
   "cell_type": "markdown",
   "metadata": {},
   "source": [
    "### Обучение моделей без учета дисбаланса\n",
    "Найдем оптимальные гиперпараметры для дерева решений, случайного леса и логистической регрессии с целью максимизации метрики f1, также будем смотреть на метрику AUC-ROC, для ее вычисления напишем функцию."
   ]
  },
  {
   "cell_type": "code",
   "execution_count": 59,
   "metadata": {},
   "outputs": [],
   "source": [
    "def roc_auc(model, features, target):\n",
    "    probabilities = model.predict_proba(features)\n",
    "    probabilities_ones = probabilities[:, 1]\n",
    "    return roc_auc_score(target, probabilities_ones)"
   ]
  },
  {
   "cell_type": "markdown",
   "metadata": {},
   "source": [
    "#### Дерево решений"
   ]
  },
  {
   "cell_type": "code",
   "execution_count": 60,
   "outputs": [],
   "source": [
    "TREE_N_ITER = 20"
   ],
   "metadata": {
    "collapsed": false
   }
  },
  {
   "cell_type": "code",
   "execution_count": 61,
   "metadata": {},
   "outputs": [
    {
     "name": "stdout",
     "output_type": "stream",
     "text": [
      "Fitting 5 folds for each of 20 candidates, totalling 100 fits\n",
      "f1 = 0.5583407125650095\n",
      "AUC-ROC = 0.9483870847550349\n",
      "Оптимальные гиперпараметры: {'min_samples_split': 7, 'min_samples_leaf': 9, 'max_depth': 19}\n"
     ]
    }
   ],
   "source": [
    "decision_tree_model = DecisionTreeClassifier(random_state=RANDOM_STATE)\n",
    "decision_tree_params = {\n",
    "    'max_depth': range(1, 21),\n",
    "    'min_samples_split': range(2, 11),\n",
    "    'min_samples_leaf': range(1, 11)\n",
    "}\n",
    "\n",
    "grid = RandomizedSearchCV(decision_tree_model, decision_tree_params, scoring='f1', n_jobs=-1, verbose=1, n_iter=TREE_N_ITER, random_state=RANDOM_STATE)\n",
    "grid.fit(features_train, target_train)\n",
    "decision_tree_model_disbalance = grid.best_estimator_\n",
    "print(f'f1 = {grid.best_score_}')\n",
    "print(f'AUC-ROC = {roc_auc(decision_tree_model_disbalance, features_train, target_train)}')\n",
    "print(f'Оптимальные гиперпараметры: {grid.best_params_}')"
   ]
  },
  {
   "cell_type": "markdown",
   "metadata": {},
   "source": [
    "#### Случайный лес"
   ]
  },
  {
   "cell_type": "markdown",
   "metadata": {},
   "source": [
    "Для ускорения подбора гиперпараметров воспользуемся библиотекой optuna"
   ]
  },
  {
   "cell_type": "code",
   "execution_count": 62,
   "outputs": [],
   "source": [
    "OPTUNA_N_TRIALS = 20\n",
    "OPTUNA_TIMEOUT = 30"
   ],
   "metadata": {
    "collapsed": false
   }
  },
  {
   "cell_type": "code",
   "execution_count": 63,
   "metadata": {},
   "outputs": [
    {
     "name": "stderr",
     "output_type": "stream",
     "text": [
      "/var/folders/m_/d5s2gnsx68l769b4nc3pxzrdn_qnjl/T/ipykernel_69864/30791300.py:9: ExperimentalWarning: OptunaSearchCV is experimental (supported from v0.17.0). The interface can change in the future.\n",
      "  optuna_search = optuna.integration.OptunaSearchCV(random_forest_model, random_forest_params, scoring='f1', n_trials=OPTUNA_N_TRIALS, timeout=OPTUNA_TIMEOUT, n_jobs=-1)\n",
      "\u001B[32m[I 2023-03-07 20:01:16,116]\u001B[0m A new study created in memory with name: no-name-c0dde356-c9e9-409b-b724-29c4d9a9b039\u001B[0m\n",
      "\u001B[32m[I 2023-03-07 20:01:20,329]\u001B[0m Trial 7 finished with value: 0.5777796095607051 and parameters: {'n_estimators': 20, 'max_depth': 32, 'min_samples_split': 5, 'min_samples_leaf': 2}. Best is trial 7 with value: 0.5777796095607051.\u001B[0m\n",
      "\u001B[32m[I 2023-03-07 20:01:22,102]\u001B[0m Trial 12 finished with value: 0.5648784393041888 and parameters: {'n_estimators': 10, 'max_depth': 56, 'min_samples_split': 6, 'min_samples_leaf': 5}. Best is trial 7 with value: 0.5777796095607051.\u001B[0m\n",
      "\u001B[32m[I 2023-03-07 20:01:33,618]\u001B[0m Trial 3 finished with value: 0.5707679838125146 and parameters: {'n_estimators': 120, 'max_depth': 63, 'min_samples_split': 6, 'min_samples_leaf': 6}. Best is trial 7 with value: 0.5777796095607051.\u001B[0m\n",
      "\u001B[32m[I 2023-03-07 20:01:34,039]\u001B[0m Trial 0 finished with value: 0.5611380113316521 and parameters: {'n_estimators': 130, 'max_depth': 90, 'min_samples_split': 10, 'min_samples_leaf': 9}. Best is trial 7 with value: 0.5777796095607051.\u001B[0m\n",
      "\u001B[32m[I 2023-03-07 20:01:35,971]\u001B[0m Trial 2 finished with value: 0.5676379493071272 and parameters: {'n_estimators': 140, 'max_depth': 29, 'min_samples_split': 4, 'min_samples_leaf': 6}. Best is trial 7 with value: 0.5777796095607051.\u001B[0m\n",
      "\u001B[32m[I 2023-03-07 20:01:40,131]\u001B[0m Trial 14 finished with value: 0.5678587512470492 and parameters: {'n_estimators': 50, 'max_depth': 28, 'min_samples_split': 6, 'min_samples_leaf': 7}. Best is trial 7 with value: 0.5777796095607051.\u001B[0m\n",
      "\u001B[32m[I 2023-03-07 20:01:43,749]\u001B[0m Trial 17 finished with value: 0.5738415392047145 and parameters: {'n_estimators': 30, 'max_depth': 50, 'min_samples_split': 3, 'min_samples_leaf': 4}. Best is trial 7 with value: 0.5777796095607051.\u001B[0m\n",
      "\u001B[32m[I 2023-03-07 20:01:46,407]\u001B[0m Trial 15 finished with value: 0.568649502145284 and parameters: {'n_estimators': 100, 'max_depth': 69, 'min_samples_split': 5, 'min_samples_leaf': 6}. Best is trial 7 with value: 0.5777796095607051.\u001B[0m\n",
      "\u001B[32m[I 2023-03-07 20:01:49,067]\u001B[0m Trial 6 finished with value: 0.5612043984370778 and parameters: {'n_estimators': 260, 'max_depth': 46, 'min_samples_split': 8, 'min_samples_leaf': 9}. Best is trial 7 with value: 0.5777796095607051.\u001B[0m\n",
      "\u001B[32m[I 2023-03-07 20:01:50,922]\u001B[0m Trial 4 finished with value: 0.5660953410635816 and parameters: {'n_estimators': 270, 'max_depth': 90, 'min_samples_split': 7, 'min_samples_leaf': 5}. Best is trial 7 with value: 0.5777796095607051.\u001B[0m\n",
      "\u001B[32m[I 2023-03-07 20:01:54,385]\u001B[0m Trial 5 finished with value: 0.5688858468579233 and parameters: {'n_estimators': 300, 'max_depth': 79, 'min_samples_split': 5, 'min_samples_leaf': 4}. Best is trial 7 with value: 0.5777796095607051.\u001B[0m\n",
      "\u001B[32m[I 2023-03-07 20:01:58,120]\u001B[0m Trial 9 finished with value: 0.5634983288483477 and parameters: {'n_estimators': 350, 'max_depth': 86, 'min_samples_split': 6, 'min_samples_leaf': 6}. Best is trial 7 with value: 0.5777796095607051.\u001B[0m\n",
      "\u001B[32m[I 2023-03-07 20:01:59,320]\u001B[0m Trial 10 finished with value: 0.5790718416031755 and parameters: {'n_estimators': 360, 'max_depth': 13, 'min_samples_split': 9, 'min_samples_leaf': 1}. Best is trial 10 with value: 0.5790718416031755.\u001B[0m\n",
      "\u001B[32m[I 2023-03-07 20:01:59,377]\u001B[0m Trial 1 finished with value: 0.5721435459344327 and parameters: {'n_estimators': 360, 'max_depth': 66, 'min_samples_split': 9, 'min_samples_leaf': 3}. Best is trial 10 with value: 0.5790718416031755.\u001B[0m\n",
      "\u001B[32m[I 2023-03-07 20:02:00,312]\u001B[0m Trial 16 finished with value: 0.22658144624218993 and parameters: {'n_estimators': 430, 'max_depth': 3, 'min_samples_split': 4, 'min_samples_leaf': 8}. Best is trial 10 with value: 0.5790718416031755.\u001B[0m\n",
      "\u001B[32m[I 2023-03-07 20:02:00,424]\u001B[0m Trial 11 finished with value: 0.5648103523873673 and parameters: {'n_estimators': 400, 'max_depth': 20, 'min_samples_split': 7, 'min_samples_leaf': 8}. Best is trial 10 with value: 0.5790718416031755.\u001B[0m\n",
      "\u001B[32m[I 2023-03-07 20:02:00,988]\u001B[0m Trial 18 finished with value: 0.566523964186142 and parameters: {'n_estimators': 200, 'max_depth': 14, 'min_samples_split': 10, 'min_samples_leaf': 6}. Best is trial 10 with value: 0.5790718416031755.\u001B[0m\n",
      "\u001B[32m[I 2023-03-07 20:02:01,471]\u001B[0m Trial 8 finished with value: 0.5789811690753625 and parameters: {'n_estimators': 410, 'max_depth': 60, 'min_samples_split': 2, 'min_samples_leaf': 3}. Best is trial 10 with value: 0.5790718416031755.\u001B[0m\n",
      "\u001B[32m[I 2023-03-07 20:02:04,308]\u001B[0m Trial 13 finished with value: 0.5749994818673649 and parameters: {'n_estimators': 480, 'max_depth': 46, 'min_samples_split': 7, 'min_samples_leaf': 3}. Best is trial 10 with value: 0.5790718416031755.\u001B[0m\n"
     ]
    },
    {
     "name": "stdout",
     "output_type": "stream",
     "text": [
      "f1 = 0.5790718416031755\n",
      "AUC-ROC = 0.9807610033559753\n",
      "Оптимальные гиперпараметры: {'n_estimators': 360, 'max_depth': 13, 'min_samples_split': 9, 'min_samples_leaf': 1}\n"
     ]
    }
   ],
   "source": [
    "random_forest_model = RandomForestClassifier(random_state=RANDOM_STATE)\n",
    "random_forest_params = {\n",
    "    'n_estimators': optuna.distributions.IntDistribution(10, 500, step=10),\n",
    "    'max_depth': optuna.distributions.IntDistribution(1, 100),\n",
    "    'min_samples_split': optuna.distributions.IntDistribution(2, 10),\n",
    "    'min_samples_leaf': optuna.distributions.IntDistribution(1, 10)\n",
    "}\n",
    "\n",
    "optuna_search = optuna.integration.OptunaSearchCV(random_forest_model, random_forest_params, scoring='f1', n_trials=OPTUNA_N_TRIALS, timeout=OPTUNA_TIMEOUT, n_jobs=-1)\n",
    "optuna_search.fit(features_train, target_train)\n",
    "random_forest_model_disbalance = optuna_search.best_estimator_\n",
    "print(f'f1 = {optuna_search.best_score_}')\n",
    "print(f'AUC-ROC = {roc_auc(random_forest_model_disbalance, features_train, target_train)}')\n",
    "print(f'Оптимальные гиперпараметры: {optuna_search.best_params_}')"
   ]
  },
  {
   "cell_type": "markdown",
   "metadata": {},
   "source": [
    "#### Логистическая регрессия"
   ]
  },
  {
   "cell_type": "code",
   "execution_count": 64,
   "metadata": {},
   "outputs": [
    {
     "name": "stdout",
     "output_type": "stream",
     "text": [
      "Fitting 5 folds for each of 171 candidates, totalling 855 fits\n",
      "f1 = 0.31026307581536294\n",
      "AUC-ROC = 0.7637226340724428\n",
      "Оптимальные гиперпараметры: {'max_iter': 30, 'solver': 'liblinear'}\n"
     ]
    }
   ],
   "source": [
    "logistic_regression_model = LogisticRegression(random_state=RANDOM_STATE)\n",
    "logistic_regression_params = {\n",
    "    'solver': ['liblinear'],\n",
    "    'max_iter': range(30, 201)\n",
    "}\n",
    "\n",
    "grid = GridSearchCV(logistic_regression_model, logistic_regression_params, scoring='f1', n_jobs=-1, verbose=1)\n",
    "grid.fit(features_train, target_train)\n",
    "logistic_regression_model_disbalance = grid.best_estimator_\n",
    "print(f'f1 = {grid.best_score_}')\n",
    "print(f'AUC-ROC = {roc_auc(logistic_regression_model_disbalance, features_train, target_train)}')\n",
    "print(f'Оптимальные гиперпараметры: {grid.best_params_}')"
   ]
  },
  {
   "cell_type": "markdown",
   "metadata": {},
   "source": [
    "### Вывод\n",
    "На несбалансированных классах удалось достигнуть значения метрики f1 равного 0.586 при помощи модели случайного леса. Логистическая регрессия показала результат хуже, чем базовая модель, всегда предсказывающая 1. Остальные модели показали почти двухкратное увеличение метрики по сравнению с базовой.\n",
    "\n",
    "|           | Дерево решений                                                                   | Случайный лес                                                                                          | Логистическая регрессия                                 |\n",
    "|-----------|----------------------------------------------------------------------------------|--------------------------------------------------------------------------------------------------------|---------------------------------------------------------|\n",
    "| Дисбаланс | 0.566/0.877<br />{'max_depth': 7, 'min_samples_leaf': 2, 'min_samples_split': 8} | 0.586/0.998<br />{'n_estimators': 190, 'max_depth': 20, 'min_samples_split': 6, 'min_samples_leaf': 1} | 0.31/0.764<br />{'max_iter': 30, 'solver': 'liblinear'} |"
   ]
  },
  {
   "cell_type": "markdown",
   "metadata": {},
   "source": [
    "## Борьба с дисбалансом\n",
    "Воспользуемся несколькими техниками борьбы с дисбалансом - взвешивание классов, увеличение выборки, уменьшение выборки, дополнительно попробуем продвинутую технику увеличения выборки при помощи библиотеки imblearn."
   ]
  },
  {
   "cell_type": "markdown",
   "metadata": {},
   "source": [
    "### Взвешивание классов"
   ]
  },
  {
   "cell_type": "markdown",
   "metadata": {},
   "source": [
    "#### Дерево решений"
   ]
  },
  {
   "cell_type": "code",
   "execution_count": 65,
   "metadata": {},
   "outputs": [
    {
     "name": "stdout",
     "output_type": "stream",
     "text": [
      "Fitting 5 folds for each of 20 candidates, totalling 100 fits\n",
      "f1 = 0.5711991610466954\n",
      "AUC-ROC = 0.8801815211826218\n",
      "Оптимальные гиперпараметры: {'min_samples_split': 3, 'min_samples_leaf': 8, 'max_depth': 7}\n"
     ]
    }
   ],
   "source": [
    "decision_tree_model = DecisionTreeClassifier(random_state=RANDOM_STATE, class_weight='balanced')\n",
    "grid = RandomizedSearchCV(decision_tree_model, decision_tree_params, scoring='f1', n_jobs=-1, verbose=1, n_iter=TREE_N_ITER, random_state=RANDOM_STATE)\n",
    "grid.fit(features_train, target_train)\n",
    "decision_tree_model_balance = grid.best_estimator_\n",
    "print(f'f1 = {grid.best_score_}')\n",
    "print(f'AUC-ROC = {roc_auc(decision_tree_model_balance, features_train, target_train)}')\n",
    "print(f'Оптимальные гиперпараметры: {grid.best_params_}')"
   ]
  },
  {
   "cell_type": "markdown",
   "metadata": {},
   "source": [
    "#### Случайный лес"
   ]
  },
  {
   "cell_type": "code",
   "execution_count": 66,
   "metadata": {},
   "outputs": [
    {
     "name": "stderr",
     "output_type": "stream",
     "text": [
      "/var/folders/m_/d5s2gnsx68l769b4nc3pxzrdn_qnjl/T/ipykernel_69864/4293178993.py:2: ExperimentalWarning: OptunaSearchCV is experimental (supported from v0.17.0). The interface can change in the future.\n",
      "  optuna_search = optuna.integration.OptunaSearchCV(random_forest_model, random_forest_params, scoring='f1', n_trials=OPTUNA_N_TRIALS, timeout=OPTUNA_TIMEOUT, n_jobs=-1)\n",
      "\u001B[32m[I 2023-03-07 20:02:10,446]\u001B[0m A new study created in memory with name: no-name-46f33d24-819a-4158-b962-f87971bfb102\u001B[0m\n",
      "\u001B[32m[I 2023-03-07 20:02:23,318]\u001B[0m Trial 4 finished with value: 0.6152186391738691 and parameters: {'n_estimators': 100, 'max_depth': 38, 'min_samples_split': 7, 'min_samples_leaf': 10}. Best is trial 4 with value: 0.6152186391738691.\u001B[0m\n",
      "\u001B[32m[I 2023-03-07 20:02:41,726]\u001B[0m Trial 1 finished with value: 0.620051751630364 and parameters: {'n_estimators': 210, 'max_depth': 53, 'min_samples_split': 9, 'min_samples_leaf': 3}. Best is trial 1 with value: 0.620051751630364.\u001B[0m\n",
      "\u001B[32m[I 2023-03-07 20:02:42,431]\u001B[0m Trial 5 finished with value: 0.6140740804672375 and parameters: {'n_estimators': 210, 'max_depth': 91, 'min_samples_split': 6, 'min_samples_leaf': 2}. Best is trial 1 with value: 0.620051751630364.\u001B[0m\n",
      "\u001B[32m[I 2023-03-07 20:02:42,681]\u001B[0m Trial 2 finished with value: 0.6161317665928643 and parameters: {'n_estimators': 220, 'max_depth': 58, 'min_samples_split': 3, 'min_samples_leaf': 6}. Best is trial 1 with value: 0.620051751630364.\u001B[0m\n",
      "\u001B[32m[I 2023-03-07 20:02:47,542]\u001B[0m Trial 3 finished with value: 0.6187363109289936 and parameters: {'n_estimators': 270, 'max_depth': 38, 'min_samples_split': 7, 'min_samples_leaf': 8}. Best is trial 1 with value: 0.620051751630364.\u001B[0m\n",
      "\u001B[32m[I 2023-03-07 20:02:49,100]\u001B[0m Trial 7 finished with value: 0.6178016641438215 and parameters: {'n_estimators': 300, 'max_depth': 78, 'min_samples_split': 6, 'min_samples_leaf': 9}. Best is trial 1 with value: 0.620051751630364.\u001B[0m\n",
      "\u001B[32m[I 2023-03-07 20:02:51,433]\u001B[0m Trial 9 finished with value: 0.6216438628221279 and parameters: {'n_estimators': 310, 'max_depth': 25, 'min_samples_split': 7, 'min_samples_leaf': 3}. Best is trial 9 with value: 0.6216438628221279.\u001B[0m\n",
      "\u001B[32m[I 2023-03-07 20:02:51,962]\u001B[0m Trial 6 finished with value: 0.6217657374649076 and parameters: {'n_estimators': 320, 'max_depth': 76, 'min_samples_split': 3, 'min_samples_leaf': 4}. Best is trial 6 with value: 0.6217657374649076.\u001B[0m\n",
      "\u001B[32m[I 2023-03-07 20:02:52,654]\u001B[0m Trial 10 finished with value: 0.618282218078636 and parameters: {'n_estimators': 350, 'max_depth': 89, 'min_samples_split': 10, 'min_samples_leaf': 9}. Best is trial 6 with value: 0.6217657374649076.\u001B[0m\n",
      "\u001B[32m[I 2023-03-07 20:02:53,004]\u001B[0m Trial 0 finished with value: 0.6165053851907483 and parameters: {'n_estimators': 340, 'max_depth': 59, 'min_samples_split': 5, 'min_samples_leaf': 6}. Best is trial 6 with value: 0.6217657374649076.\u001B[0m\n",
      "\u001B[32m[I 2023-03-07 20:02:53,507]\u001B[0m Trial 12 finished with value: 0.6206022048073212 and parameters: {'n_estimators': 260, 'max_depth': 63, 'min_samples_split': 8, 'min_samples_leaf': 7}. Best is trial 6 with value: 0.6217657374649076.\u001B[0m\n",
      "\u001B[32m[I 2023-03-07 20:02:55,307]\u001B[0m Trial 8 finished with value: 0.6213436553104807 and parameters: {'n_estimators': 400, 'max_depth': 80, 'min_samples_split': 4, 'min_samples_leaf': 4}. Best is trial 6 with value: 0.6217657374649076.\u001B[0m\n",
      "\u001B[32m[I 2023-03-07 20:02:57,862]\u001B[0m Trial 11 finished with value: 0.6175503818354369 and parameters: {'n_estimators': 480, 'max_depth': 69, 'min_samples_split': 6, 'min_samples_leaf': 2}. Best is trial 6 with value: 0.6217657374649076.\u001B[0m\n"
     ]
    },
    {
     "name": "stdout",
     "output_type": "stream",
     "text": [
      "f1 = 0.6217657374649076\n",
      "AUC-ROC = 0.9857849940209634\n",
      "Оптимальные гиперпараметры: {'n_estimators': 320, 'max_depth': 76, 'min_samples_split': 3, 'min_samples_leaf': 4}\n"
     ]
    }
   ],
   "source": [
    "random_forest_model = RandomForestClassifier(random_state=RANDOM_STATE, class_weight='balanced')\n",
    "optuna_search = optuna.integration.OptunaSearchCV(random_forest_model, random_forest_params, scoring='f1', n_trials=OPTUNA_N_TRIALS, timeout=OPTUNA_TIMEOUT, n_jobs=-1)\n",
    "optuna_search.fit(features_train, target_train)\n",
    "random_forest_model_balance = optuna_search.best_estimator_\n",
    "print(f'f1 = {optuna_search.best_score_}')\n",
    "print(f'AUC-ROC = {roc_auc(random_forest_model_balance, features_train, target_train)}')\n",
    "print(f'Оптимальные гиперпараметры: {optuna_search.best_params_}')"
   ]
  },
  {
   "cell_type": "markdown",
   "metadata": {},
   "source": [
    "#### Логистическая регрессия"
   ]
  },
  {
   "cell_type": "code",
   "execution_count": 67,
   "metadata": {},
   "outputs": [
    {
     "name": "stdout",
     "output_type": "stream",
     "text": [
      "Fitting 5 folds for each of 171 candidates, totalling 855 fits\n",
      "f1 = 0.4838018984587868\n",
      "AUC-ROC = 0.7668917645346696\n",
      "Оптимальные гиперпараметры: {'max_iter': 30, 'solver': 'liblinear'}\n"
     ]
    }
   ],
   "source": [
    "logistic_regression_model = LogisticRegression(random_state=RANDOM_STATE, class_weight='balanced')\n",
    "grid = GridSearchCV(logistic_regression_model, logistic_regression_params, scoring='f1', n_jobs=-1, verbose=1)\n",
    "grid.fit(features_train, target_train)\n",
    "logistic_regression_model_balance = grid.best_estimator_\n",
    "print(f'f1 = {grid.best_score_}')\n",
    "print(f'AUC-ROC = {roc_auc(logistic_regression_model_balance, features_train, target_train)}')\n",
    "print(f'Оптимальные гиперпараметры: {grid.best_params_}')"
   ]
  },
  {
   "cell_type": "markdown",
   "metadata": {},
   "source": [
    "#### Вывод\n",
    "С помощью взвешивания классов удалось достигнуть значения метрики f1 равного 0.624 при помощи модели случайного леса. Для остальных моделей метрика также увеличилась и все модели превзошли константную модель. С ростом f1 также наблюдается рост AUC-ROC.\n",
    "\n",
    "|             | Дерево решений                                                                   | Случайный лес                                                                                           | Логистическая регрессия                                  |\n",
    "|-------------|----------------------------------------------------------------------------------|---------------------------------------------------------------------------------------------------------|----------------------------------------------------------|\n",
    "| Дисбаланс   | 0.566/0.877<br />{'max_depth': 7, 'min_samples_leaf': 2, 'min_samples_split': 8} | 0.586/0.998<br />{'n_estimators': 190, 'max_depth': 20, 'min_samples_split': 6, 'min_samples_leaf': 1}  | 0.31/0.764<br />{'max_iter': 30, 'solver': 'liblinear'}  |\n",
    "| Взвешивание | 0.574/0.881<br />{'max_depth': 7, 'min_samples_leaf': 6, 'min_samples_split': 2} | 0.624/0.982<br />{'n_estimators': 190, 'max_depth': 16, 'min_samples_split': 10, 'min_samples_leaf': 4} | 0.484/0.767<br />{'max_iter': 30, 'solver': 'liblinear'} |"
   ]
  },
  {
   "cell_type": "markdown",
   "metadata": {},
   "source": [
    "### Увеличение выборки\n",
    "Количество единиц в целевой переменной в 4 раза меньше чем нулей, увеличим их количество в 4 раза."
   ]
  },
  {
   "cell_type": "code",
   "execution_count": 68,
   "metadata": {},
   "outputs": [],
   "source": [
    "def upsample(features, target, repeat):\n",
    "    features_zeros = features[target == 0]\n",
    "    features_ones = features[target == 1]\n",
    "    target_zeros = target[target == 0]\n",
    "    target_ones = target[target == 1]\n",
    "\n",
    "    features_upsampled = pd.concat([features_zeros] + [features_ones] * repeat)\n",
    "    target_upsampled = pd.concat([target_zeros] + [target_ones] * repeat)\n",
    "\n",
    "    features_upsampled, target_upsampled = shuffle(features_upsampled, target_upsampled, random_state=RANDOM_STATE)\n",
    "\n",
    "    return features_upsampled, target_upsampled"
   ]
  },
  {
   "cell_type": "code",
   "execution_count": 69,
   "metadata": {},
   "outputs": [],
   "source": [
    "train_features_upsampled, train_target_upsampled = upsample(features_train, target_train, 4)"
   ]
  },
  {
   "cell_type": "markdown",
   "metadata": {},
   "source": [
    "Простое увеличение выборки обычно некорректно работает с кросс-валидацией из-за утечки данных. Проверим как эти подходы отработают на текущих данных."
   ]
  },
  {
   "cell_type": "markdown",
   "metadata": {},
   "source": [
    "#### Дерево решений"
   ]
  },
  {
   "cell_type": "code",
   "execution_count": 70,
   "metadata": {},
   "outputs": [
    {
     "name": "stdout",
     "output_type": "stream",
     "text": [
      "Fitting 5 folds for each of 20 candidates, totalling 100 fits\n",
      "f1 = 0.9170005864052225\n",
      "AUC-ROC = 0.9979757191501002\n",
      "Оптимальные гиперпараметры: {'min_samples_split': 2, 'min_samples_leaf': 1, 'max_depth': 16}\n"
     ]
    }
   ],
   "source": [
    "decision_tree_model = DecisionTreeClassifier(random_state=RANDOM_STATE)\n",
    "grid = RandomizedSearchCV(decision_tree_model, decision_tree_params, scoring='f1', n_jobs=-1, verbose=1, n_iter=TREE_N_ITER, random_state=RANDOM_STATE)\n",
    "grid.fit(train_features_upsampled, train_target_upsampled)\n",
    "decision_tree_model_upsample = grid.best_estimator_\n",
    "print(f'f1 = {grid.best_score_}')\n",
    "print(f'AUC-ROC = {roc_auc(decision_tree_model_upsample, features_train, target_train)}')\n",
    "print(f'Оптимальные гиперпараметры: {grid.best_params_}')"
   ]
  },
  {
   "cell_type": "markdown",
   "metadata": {},
   "source": [
    "#### Случайный лес"
   ]
  },
  {
   "cell_type": "code",
   "execution_count": 71,
   "metadata": {},
   "outputs": [
    {
     "name": "stderr",
     "output_type": "stream",
     "text": [
      "/var/folders/m_/d5s2gnsx68l769b4nc3pxzrdn_qnjl/T/ipykernel_69864/1844268609.py:2: ExperimentalWarning: OptunaSearchCV is experimental (supported from v0.17.0). The interface can change in the future.\n",
      "  optuna_search = optuna.integration.OptunaSearchCV(random_forest_model, random_forest_params, scoring='f1', n_trials=OPTUNA_N_TRIALS, timeout=OPTUNA_TIMEOUT, n_jobs=-1, verbose=1)\n",
      "\u001B[32m[I 2023-03-07 20:03:04,093]\u001B[0m A new study created in memory with name: no-name-64f928f3-ad7b-44af-b7be-654b8db2d45d\u001B[0m\n",
      "\u001B[32m[I 2023-03-07 20:03:04,094]\u001B[0m Searching the best hyperparameters using 12084 samples...\u001B[0m\n",
      "\u001B[32m[I 2023-03-07 20:03:15,592]\u001B[0m Trial 9 finished with value: 0.8843820045146794 and parameters: {'n_estimators': 70, 'max_depth': 21, 'min_samples_split': 2, 'min_samples_leaf': 6}. Best is trial 9 with value: 0.8843820045146794.\u001B[0m\n",
      "\u001B[32m[I 2023-03-07 20:03:27,213]\u001B[0m Trial 3 finished with value: 0.9292919667711281 and parameters: {'n_estimators': 130, 'max_depth': 83, 'min_samples_split': 6, 'min_samples_leaf': 3}. Best is trial 3 with value: 0.9292919667711281.\u001B[0m\n",
      "\u001B[32m[I 2023-03-07 20:03:28,774]\u001B[0m Trial 10 finished with value: 0.8867710649495514 and parameters: {'n_estimators': 140, 'max_depth': 48, 'min_samples_split': 9, 'min_samples_leaf': 6}. Best is trial 3 with value: 0.9292919667711281.\u001B[0m\n",
      "\u001B[32m[I 2023-03-07 20:03:30,393]\u001B[0m Trial 7 finished with value: 0.8738036286506679 and parameters: {'n_estimators': 150, 'max_depth': 34, 'min_samples_split': 2, 'min_samples_leaf': 7}. Best is trial 3 with value: 0.9292919667711281.\u001B[0m\n",
      "\u001B[32m[I 2023-03-07 20:03:34,572]\u001B[0m Trial 6 finished with value: 0.9436358270697612 and parameters: {'n_estimators': 170, 'max_depth': 46, 'min_samples_split': 2, 'min_samples_leaf': 2}. Best is trial 6 with value: 0.9436358270697612.\u001B[0m\n",
      "\u001B[32m[I 2023-03-07 20:03:42,352]\u001B[0m Trial 2 finished with value: 0.8858115273463157 and parameters: {'n_estimators': 220, 'max_depth': 87, 'min_samples_split': 2, 'min_samples_leaf': 6}. Best is trial 6 with value: 0.9436358270697612.\u001B[0m\n",
      "\u001B[32m[I 2023-03-07 20:03:42,897]\u001B[0m Trial 11 finished with value: 0.8573112559150535 and parameters: {'n_estimators': 230, 'max_depth': 80, 'min_samples_split': 5, 'min_samples_leaf': 9}. Best is trial 6 with value: 0.9436358270697612.\u001B[0m\n",
      "\u001B[32m[I 2023-03-07 20:03:47,897]\u001B[0m Trial 12 finished with value: 0.9343113612410073 and parameters: {'n_estimators': 190, 'max_depth': 44, 'min_samples_split': 10, 'min_samples_leaf': 1}. Best is trial 6 with value: 0.9436358270697612.\u001B[0m\n",
      "\u001B[32m[I 2023-03-07 20:03:48,344]\u001B[0m Trial 1 finished with value: 0.8752987828965766 and parameters: {'n_estimators': 270, 'max_depth': 99, 'min_samples_split': 4, 'min_samples_leaf': 7}. Best is trial 6 with value: 0.9436358270697612.\u001B[0m\n",
      "\u001B[32m[I 2023-03-07 20:03:55,658]\u001B[0m Trial 0 finished with value: 0.8749395959069671 and parameters: {'n_estimators': 340, 'max_depth': 68, 'min_samples_split': 10, 'min_samples_leaf': 7}. Best is trial 6 with value: 0.9436358270697612.\u001B[0m\n",
      "\u001B[32m[I 2023-03-07 20:03:59,161]\u001B[0m Trial 8 finished with value: 0.875277805518371 and parameters: {'n_estimators': 380, 'max_depth': 48, 'min_samples_split': 2, 'min_samples_leaf': 7}. Best is trial 6 with value: 0.9436358270697612.\u001B[0m\n",
      "\u001B[32m[I 2023-03-07 20:04:01,348]\u001B[0m Trial 4 finished with value: 0.8749749258609631 and parameters: {'n_estimators': 410, 'max_depth': 26, 'min_samples_split': 8, 'min_samples_leaf': 7}. Best is trial 6 with value: 0.9436358270697612.\u001B[0m\n",
      "\u001B[32m[I 2023-03-07 20:04:02,661]\u001B[0m Trial 14 finished with value: 0.8650329877100722 and parameters: {'n_estimators': 290, 'max_depth': 39, 'min_samples_split': 7, 'min_samples_leaf': 8}. Best is trial 6 with value: 0.9436358270697612.\u001B[0m\n",
      "\u001B[32m[I 2023-03-07 20:04:02,964]\u001B[0m Trial 13 finished with value: 0.8873723776445368 and parameters: {'n_estimators': 300, 'max_depth': 88, 'min_samples_split': 7, 'min_samples_leaf': 6}. Best is trial 6 with value: 0.9436358270697612.\u001B[0m\n",
      "\u001B[32m[I 2023-03-07 20:04:04,612]\u001B[0m Trial 5 finished with value: 0.8762977573726527 and parameters: {'n_estimators': 470, 'max_depth': 86, 'min_samples_split': 6, 'min_samples_leaf': 7}. Best is trial 6 with value: 0.9436358270697612.\u001B[0m\n",
      "\u001B[32m[I 2023-03-07 20:04:09,768]\u001B[0m Trial 15 finished with value: 0.9008788607478502 and parameters: {'n_estimators': 430, 'max_depth': 42, 'min_samples_split': 3, 'min_samples_leaf': 5}. Best is trial 6 with value: 0.9436358270697612.\u001B[0m\n",
      "\u001B[32m[I 2023-03-07 20:04:09,769]\u001B[0m Finished hyperparemeter search!\u001B[0m\n",
      "\u001B[32m[I 2023-03-07 20:04:09,770]\u001B[0m Refitting the estimator using 12084 samples...\u001B[0m\n",
      "\u001B[32m[I 2023-03-07 20:04:11,551]\u001B[0m Finished refitting! (elapsed time: 1.780 sec.)\u001B[0m\n"
     ]
    },
    {
     "name": "stdout",
     "output_type": "stream",
     "text": [
      "f1 = 0.9436358270697612\n",
      "AUC-ROC = 1.0\n",
      "Оптимальные гиперпараметры: {'n_estimators': 170, 'max_depth': 46, 'min_samples_split': 2, 'min_samples_leaf': 2}\n"
     ]
    }
   ],
   "source": [
    "random_forest_model = RandomForestClassifier(random_state=RANDOM_STATE)\n",
    "optuna_search = optuna.integration.OptunaSearchCV(random_forest_model, random_forest_params, scoring='f1', n_trials=OPTUNA_N_TRIALS, timeout=OPTUNA_TIMEOUT, n_jobs=-1, verbose=1)\n",
    "optuna_search.fit(train_features_upsampled, train_target_upsampled)\n",
    "random_forest_model_upsample = optuna_search.best_estimator_\n",
    "print(f'f1 = {optuna_search.best_score_}')\n",
    "print(f'AUC-ROC = {roc_auc(random_forest_model_upsample, features_train, target_train)}')\n",
    "print(f'Оптимальные гиперпараметры: {optuna_search.best_params_}')"
   ]
  },
  {
   "cell_type": "markdown",
   "metadata": {},
   "source": [
    "#### Логистическая регрессия"
   ]
  },
  {
   "cell_type": "code",
   "execution_count": 72,
   "metadata": {},
   "outputs": [
    {
     "name": "stdout",
     "output_type": "stream",
     "text": [
      "Fitting 5 folds for each of 171 candidates, totalling 855 fits\n",
      "f1 = 0.6983428102778019\n",
      "AUC-ROC = 0.7669186132141967\n",
      "Оптимальные гиперпараметры: {'max_iter': 30, 'solver': 'liblinear'}\n"
     ]
    }
   ],
   "source": [
    "logistic_regression_model = LogisticRegression(random_state=RANDOM_STATE)\n",
    "grid = GridSearchCV(logistic_regression_model, logistic_regression_params, scoring='f1', n_jobs=-1, verbose=1)\n",
    "grid.fit(train_features_upsampled, train_target_upsampled)\n",
    "logistic_regression_model_upsample = grid.best_estimator_\n",
    "print(f'f1 = {grid.best_score_}')\n",
    "print(f'AUC-ROC = {roc_auc(logistic_regression_model_upsample, features_train, target_train)}')\n",
    "print(f'Оптимальные гиперпараметры: {grid.best_params_}')"
   ]
  },
  {
   "cell_type": "markdown",
   "metadata": {},
   "source": [
    "#### Вывод\n",
    "С помощью увеличения выборки удалось достигнуть значения метрики f1 равного 0.958 при помощи модели случайного леса. AUC-ROC вобще достигла максимума - 1. Для остальных моделей метрики также увеличилась. Однако есть подозрение, что дублирование данных привело к переобучению некоторых моделей и они слишком хорошо стали предсказывать единицу. Проверим это в последующем на тестовой выборке.\n",
    "\n",
    "|             | Дерево решений                                                                    | Случайный лес                                                                                           | Логистическая регрессия                                  |\n",
    "|-------------|-----------------------------------------------------------------------------------|---------------------------------------------------------------------------------------------------------|----------------------------------------------------------|\n",
    "| Дисбаланс   | 0.566/0.877<br />{'max_depth': 7, 'min_samples_leaf': 2, 'min_samples_split': 8}  | 0.586/0.998<br />{'n_estimators': 190, 'max_depth': 20, 'min_samples_split': 6, 'min_samples_leaf': 1}  | 0.31/0.764<br />{'max_iter': 30, 'solver': 'liblinear'}  |\n",
    "| Взвешивание | 0.574/0.881<br />{'max_depth': 7, 'min_samples_leaf': 6, 'min_samples_split': 2}  | 0.624/0.982<br />{'n_estimators': 190, 'max_depth': 16, 'min_samples_split': 10, 'min_samples_leaf': 4} | 0.484/0.767<br />{'max_iter': 30, 'solver': 'liblinear'} |\n",
    "| Увеличение  | 0.931/0.999<br />{'max_depth': 20, 'min_samples_leaf': 1, 'min_samples_split': 2} | 0.958/1<br />{'n_estimators': 140, 'max_depth': 18, 'min_samples_split': 2, 'min_samples_leaf': 1}      | 0.698/0.767<br />{'max_iter': 30, 'solver': 'liblinear'} |"
   ]
  },
  {
   "cell_type": "markdown",
   "metadata": {},
   "source": [
    "### Продвинутое увеличение выборки\n",
    "Воспользуемся функционалом библиотеки imblearn для увеличения выборки."
   ]
  },
  {
   "cell_type": "markdown",
   "metadata": {},
   "source": [
    "#### Дерево решений"
   ]
  },
  {
   "cell_type": "code",
   "execution_count": 73,
   "metadata": {},
   "outputs": [
    {
     "name": "stdout",
     "output_type": "stream",
     "text": [
      "Fitting 5 folds for each of 20 candidates, totalling 100 fits\n",
      "f1 = 0.5669045730669006\n",
      "AUC-ROC = 0.8569419069093815\n",
      "Оптимальные гиперпараметры: {'decisiontreeclassifier__min_samples_split': 3, 'decisiontreeclassifier__min_samples_leaf': 8, 'decisiontreeclassifier__max_depth': 7}\n"
     ]
    }
   ],
   "source": [
    "imba_pipeline = make_pipeline(\n",
    "    SMOTE(random_state=RANDOM_STATE),\n",
    "    DecisionTreeClassifier(random_state=RANDOM_STATE)\n",
    ")\n",
    "\n",
    "decision_tree_pipline_params = {'decisiontreeclassifier__' + key: value for key, value in decision_tree_params.items()}\n",
    "grid = RandomizedSearchCV(imba_pipeline, decision_tree_pipline_params, scoring='f1', n_jobs=-1, verbose=1, n_iter=TREE_N_ITER, random_state=RANDOM_STATE)\n",
    "grid.fit(features_train, target_train)\n",
    "decision_tree_model_imba = grid.best_estimator_\n",
    "print(f'f1 = {grid.best_score_}')\n",
    "print(f'AUC-ROC = {roc_auc(decision_tree_model_imba, features_train, target_train)}')\n",
    "print(f'Оптимальные гиперпараметры: {grid.best_params_}')"
   ]
  },
  {
   "cell_type": "markdown",
   "metadata": {},
   "source": [
    "#### Случайный лес"
   ]
  },
  {
   "cell_type": "code",
   "execution_count": 74,
   "metadata": {},
   "outputs": [
    {
     "name": "stderr",
     "output_type": "stream",
     "text": [
      "/var/folders/m_/d5s2gnsx68l769b4nc3pxzrdn_qnjl/T/ipykernel_69864/3078620761.py:6: ExperimentalWarning: OptunaSearchCV is experimental (supported from v0.17.0). The interface can change in the future.\n",
      "  optuna_search = optuna.integration.OptunaSearchCV(\n",
      "\u001B[32m[I 2023-03-07 20:04:19,333]\u001B[0m A new study created in memory with name: no-name-78576e84-42e5-4457-8134-1fdb4e602373\u001B[0m\n",
      "\u001B[32m[I 2023-03-07 20:04:19,333]\u001B[0m Searching the best hyperparameters using 7500 samples...\u001B[0m\n",
      "\u001B[32m[I 2023-03-07 20:04:41,142]\u001B[0m Trial 0 finished with value: 0.6131792167462967 and parameters: {'randomforestclassifier__n_estimators': 120, 'randomforestclassifier__max_depth': 18, 'randomforestclassifier__min_samples_split': 4, 'randomforestclassifier__min_samples_leaf': 6}. Best is trial 0 with value: 0.6131792167462967.\u001B[0m\n",
      "\u001B[32m[I 2023-03-07 20:04:42,864]\u001B[0m Trial 10 finished with value: 0.6102921493719007 and parameters: {'randomforestclassifier__n_estimators': 130, 'randomforestclassifier__max_depth': 52, 'randomforestclassifier__min_samples_split': 10, 'randomforestclassifier__min_samples_leaf': 10}. Best is trial 0 with value: 0.6131792167462967.\u001B[0m\n",
      "\u001B[32m[I 2023-03-07 20:04:45,277]\u001B[0m Trial 3 finished with value: 0.6131403587665167 and parameters: {'randomforestclassifier__n_estimators': 150, 'randomforestclassifier__max_depth': 10, 'randomforestclassifier__min_samples_split': 7, 'randomforestclassifier__min_samples_leaf': 6}. Best is trial 0 with value: 0.6131792167462967.\u001B[0m\n",
      "\u001B[32m[I 2023-03-07 20:04:54,495]\u001B[0m Trial 8 finished with value: 0.6041856058592922 and parameters: {'randomforestclassifier__n_estimators': 180, 'randomforestclassifier__max_depth': 17, 'randomforestclassifier__min_samples_split': 3, 'randomforestclassifier__min_samples_leaf': 1}. Best is trial 0 with value: 0.6131792167462967.\u001B[0m\n",
      "\u001B[32m[I 2023-03-07 20:04:55,592]\u001B[0m Trial 14 finished with value: 0.6155713684665429 and parameters: {'randomforestclassifier__n_estimators': 50, 'randomforestclassifier__max_depth': 86, 'randomforestclassifier__min_samples_split': 6, 'randomforestclassifier__min_samples_leaf': 3}. Best is trial 14 with value: 0.6155713684665429.\u001B[0m\n",
      "\u001B[32m[I 2023-03-07 20:04:56,999]\u001B[0m Trial 6 finished with value: 0.607847068254389 and parameters: {'randomforestclassifier__n_estimators': 240, 'randomforestclassifier__max_depth': 8, 'randomforestclassifier__min_samples_split': 6, 'randomforestclassifier__min_samples_leaf': 3}. Best is trial 14 with value: 0.6155713684665429.\u001B[0m\n",
      "\u001B[32m[I 2023-03-07 20:05:00,306]\u001B[0m Trial 4 finished with value: 0.6096995771353375 and parameters: {'randomforestclassifier__n_estimators': 260, 'randomforestclassifier__max_depth': 9, 'randomforestclassifier__min_samples_split': 2, 'randomforestclassifier__min_samples_leaf': 10}. Best is trial 14 with value: 0.6155713684665429.\u001B[0m\n",
      "\u001B[32m[I 2023-03-07 20:05:01,085]\u001B[0m Trial 7 finished with value: 0.6172885402814687 and parameters: {'randomforestclassifier__n_estimators': 230, 'randomforestclassifier__max_depth': 79, 'randomforestclassifier__min_samples_split': 10, 'randomforestclassifier__min_samples_leaf': 4}. Best is trial 7 with value: 0.6172885402814687.\u001B[0m\n",
      "\u001B[32m[I 2023-03-07 20:05:10,829]\u001B[0m Trial 11 finished with value: 0.6131033379376303 and parameters: {'randomforestclassifier__n_estimators': 330, 'randomforestclassifier__max_depth': 87, 'randomforestclassifier__min_samples_split': 4, 'randomforestclassifier__min_samples_leaf': 10}. Best is trial 7 with value: 0.6172885402814687.\u001B[0m\n",
      "\u001B[32m[I 2023-03-07 20:05:20,407]\u001B[0m Trial 1 finished with value: 0.6123416698113209 and parameters: {'randomforestclassifier__n_estimators': 430, 'randomforestclassifier__max_depth': 29, 'randomforestclassifier__min_samples_split': 2, 'randomforestclassifier__min_samples_leaf': 10}. Best is trial 7 with value: 0.6172885402814687.\u001B[0m\n",
      "\u001B[32m[I 2023-03-07 20:05:25,803]\u001B[0m Trial 2 finished with value: 0.609756063623977 and parameters: {'randomforestclassifier__n_estimators': 470, 'randomforestclassifier__max_depth': 40, 'randomforestclassifier__min_samples_split': 2, 'randomforestclassifier__min_samples_leaf': 2}. Best is trial 7 with value: 0.6172885402814687.\u001B[0m\n",
      "\u001B[32m[I 2023-03-07 20:05:26,990]\u001B[0m Trial 9 finished with value: 0.6133847857770479 and parameters: {'randomforestclassifier__n_estimators': 500, 'randomforestclassifier__max_depth': 63, 'randomforestclassifier__min_samples_split': 6, 'randomforestclassifier__min_samples_leaf': 6}. Best is trial 7 with value: 0.6172885402814687.\u001B[0m\n",
      "\u001B[32m[I 2023-03-07 20:05:27,742]\u001B[0m Trial 5 finished with value: 0.6095493209825303 and parameters: {'randomforestclassifier__n_estimators': 500, 'randomforestclassifier__max_depth': 81, 'randomforestclassifier__min_samples_split': 8, 'randomforestclassifier__min_samples_leaf': 4}. Best is trial 7 with value: 0.6172885402814687.\u001B[0m\n",
      "\u001B[32m[I 2023-03-07 20:05:28,689]\u001B[0m Trial 12 finished with value: 0.6122686868733289 and parameters: {'randomforestclassifier__n_estimators': 420, 'randomforestclassifier__max_depth': 23, 'randomforestclassifier__min_samples_split': 10, 'randomforestclassifier__min_samples_leaf': 10}. Best is trial 7 with value: 0.6172885402814687.\u001B[0m\n",
      "\u001B[32m[I 2023-03-07 20:05:32,288]\u001B[0m Trial 13 finished with value: 0.6098356457510818 and parameters: {'randomforestclassifier__n_estimators': 440, 'randomforestclassifier__max_depth': 43, 'randomforestclassifier__min_samples_split': 5, 'randomforestclassifier__min_samples_leaf': 1}. Best is trial 7 with value: 0.6172885402814687.\u001B[0m\n",
      "\u001B[32m[I 2023-03-07 20:05:32,290]\u001B[0m Finished hyperparemeter search!\u001B[0m\n",
      "\u001B[32m[I 2023-03-07 20:05:32,291]\u001B[0m Refitting the estimator using 7500 samples...\u001B[0m\n",
      "\u001B[32m[I 2023-03-07 20:05:35,194]\u001B[0m Finished refitting! (elapsed time: 2.901 sec.)\u001B[0m\n"
     ]
    },
    {
     "name": "stdout",
     "output_type": "stream",
     "text": [
      "f1 = 0.6172885402814687\n",
      "AUC-ROC = 0.9785260973548462\n",
      "Оптимальные гиперпараметры: {'randomforestclassifier__n_estimators': 230, 'randomforestclassifier__max_depth': 79, 'randomforestclassifier__min_samples_split': 10, 'randomforestclassifier__min_samples_leaf': 4}\n"
     ]
    }
   ],
   "source": [
    "imba_pipeline = make_pipeline(\n",
    "    SMOTE(random_state=RANDOM_STATE), RandomForestClassifier(random_state=RANDOM_STATE)\n",
    ")\n",
    "\n",
    "random_forest_pipeline_params = {'randomforestclassifier__' + key: value for key, value in random_forest_params.items()}\n",
    "optuna_search = optuna.integration.OptunaSearchCV(\n",
    "    imba_pipeline, random_forest_pipeline_params, scoring='f1', n_trials=OPTUNA_N_TRIALS, timeout=OPTUNA_TIMEOUT, n_jobs=-1, verbose=1\n",
    ")\n",
    "optuna_search.fit(features_train, target_train)\n",
    "random_forest_model_imba = optuna_search.best_estimator_\n",
    "print(f'f1 = {optuna_search.best_score_}')\n",
    "print(f'AUC-ROC = {roc_auc(random_forest_model_imba, features_train, target_train)}')\n",
    "print(f'Оптимальные гиперпараметры: {optuna_search.best_params_}')"
   ]
  },
  {
   "cell_type": "markdown",
   "metadata": {},
   "source": [
    "#### Логистическая регрессия"
   ]
  },
  {
   "cell_type": "code",
   "execution_count": 75,
   "metadata": {},
   "outputs": [
    {
     "name": "stdout",
     "output_type": "stream",
     "text": [
      "Fitting 5 folds for each of 171 candidates, totalling 855 fits\n",
      "f1 = 0.4731174848650486\n",
      "AUC-ROC = 0.7611321200506378\n",
      "Оптимальные гиперпараметры: {'logisticregression__max_iter': 30, 'logisticregression__solver': 'liblinear'}\n"
     ]
    }
   ],
   "source": [
    "imba_pipeline = make_pipeline(\n",
    "    SMOTE(random_state=RANDOM_STATE), LogisticRegression(random_state=RANDOM_STATE)\n",
    ")\n",
    "\n",
    "logistic_regression_pipeline_params = {'logisticregression__' + key: value for key, value in logistic_regression_params.items()}\n",
    "grid = GridSearchCV(imba_pipeline, logistic_regression_pipeline_params, scoring='f1', n_jobs=-1, verbose=1)\n",
    "grid.fit(features_train, target_train)\n",
    "logistic_regression_model_imba = grid.best_estimator_\n",
    "print(f'f1 = {grid.best_score_}')\n",
    "print(f'AUC-ROC = {roc_auc(logistic_regression_model_imba, features_train, target_train)}')\n",
    "print(f'Оптимальные гиперпараметры: {grid.best_params_}')"
   ]
  },
  {
   "cell_type": "markdown",
   "metadata": {},
   "source": [
    "#### Вывод\n",
    "С помощью продвинутого увеличения выборки удалось достигнуть значения метрики f1 равного 0.618 при помощи модели случайного леса. Для остальных моделей метрика также увеличилась. Посмотртим как покажут себя обученные модели на тестовой выборке.\n",
    "\n",
    "|                | Дерево решений                                                                    | Случайный лес                                                                                           | Логистическая регрессия                                  |\n",
    "|----------------|-----------------------------------------------------------------------------------|---------------------------------------------------------------------------------------------------------|----------------------------------------------------------|\n",
    "| Дисбаланс      | 0.566/0.877<br />{'max_depth': 7, 'min_samples_leaf': 2, 'min_samples_split': 8}  | 0.586/0.998<br />{'n_estimators': 190, 'max_depth': 20, 'min_samples_split': 6, 'min_samples_leaf': 1}  | 0.31/0.764<br />{'max_iter': 30, 'solver': 'liblinear'}  |\n",
    "| Взвешивание    | 0.574/0.881<br />{'max_depth': 7, 'min_samples_leaf': 6, 'min_samples_split': 2}  | 0.624/0.982<br />{'n_estimators': 190, 'max_depth': 16, 'min_samples_split': 10, 'min_samples_leaf': 4} | 0.484/0.767<br />{'max_iter': 30, 'solver': 'liblinear'} |\n",
    "| Увеличение     | 0.931/0.999<br />{'max_depth': 20, 'min_samples_leaf': 1, 'min_samples_split': 2} | 0.958/1<br />{'n_estimators': 140, 'max_depth': 18, 'min_samples_split': 2, 'min_samples_leaf': 1}      | 0.698/0.767<br />{'max_iter': 30, 'solver': 'liblinear'} |\n",
    "| imblearn SMOTE | 0.571/0.873<br />{'max_depth': 8, 'min_samples_leaf': 9, 'min_samples_split': 2}  | 0.618/0.973<br />{'n_estimators': 170, 'max_depth': 19, 'min_samples_split': 7, 'min_samples_leaf': 5}  | 0.473/0.761<br />{'max_iter': 30, 'solver': 'liblinear'} |"
   ]
  },
  {
   "cell_type": "markdown",
   "metadata": {},
   "source": [
    "### Уменьшение выборки\n",
    "Количество нулей в целевой переменной в 4 раза больше чем единиц, уменьшим их количество в 4 раза."
   ]
  },
  {
   "cell_type": "code",
   "execution_count": 76,
   "metadata": {},
   "outputs": [],
   "source": [
    "def downsample(features, target, fraction):\n",
    "    features_zeros = features[target == 0]\n",
    "    features_ones = features[target == 1]\n",
    "    target_zeros = target[target == 0]\n",
    "    target_ones = target[target == 1]\n",
    "\n",
    "    features_downsampled = pd.concat([features_zeros.sample(frac=fraction, random_state=RANDOM_STATE)] + [features_ones])\n",
    "    target_downsampled = pd.concat([target_zeros.sample(frac=fraction, random_state=RANDOM_STATE)] + [target_ones])\n",
    "\n",
    "    features_downsampled, target_downsampled = shuffle(features_downsampled, target_downsampled, random_state=RANDOM_STATE)\n",
    "\n",
    "    return features_downsampled, target_downsampled"
   ]
  },
  {
   "cell_type": "code",
   "execution_count": 77,
   "metadata": {},
   "outputs": [],
   "source": [
    "train_features_downsampled, train_target_downsampled = downsample(features_train, target_train, 0.25)"
   ]
  },
  {
   "cell_type": "markdown",
   "metadata": {},
   "source": [
    "#### Дерево решений"
   ]
  },
  {
   "cell_type": "code",
   "execution_count": 78,
   "metadata": {},
   "outputs": [
    {
     "name": "stdout",
     "output_type": "stream",
     "text": [
      "Fitting 5 folds for each of 20 candidates, totalling 100 fits\n",
      "f1 = 0.7666439277879722\n",
      "AUC-ROC = 0.8662936307480282\n",
      "Оптимальные гиперпараметры: {'min_samples_split': 2, 'min_samples_leaf': 4, 'max_depth': 7}\n"
     ]
    }
   ],
   "source": [
    "decision_tree_model = DecisionTreeClassifier(random_state=RANDOM_STATE)\n",
    "grid = RandomizedSearchCV(decision_tree_model, decision_tree_params, scoring='f1', n_jobs=-1, verbose=1, n_iter=TREE_N_ITER, random_state=RANDOM_STATE)\n",
    "grid.fit(train_features_downsampled, train_target_downsampled)\n",
    "decision_tree_model_downsample = grid.best_estimator_\n",
    "print(f'f1 = {grid.best_score_}')\n",
    "print(f'AUC-ROC = {roc_auc(decision_tree_model_downsample, features_train, target_train)}')\n",
    "print(f'Оптимальные гиперпараметры: {grid.best_params_}')"
   ]
  },
  {
   "cell_type": "markdown",
   "metadata": {},
   "source": [
    "#### Случайный лес"
   ]
  },
  {
   "cell_type": "code",
   "execution_count": 79,
   "metadata": {},
   "outputs": [
    {
     "name": "stderr",
     "output_type": "stream",
     "text": [
      "/var/folders/m_/d5s2gnsx68l769b4nc3pxzrdn_qnjl/T/ipykernel_69864/4198472022.py:2: ExperimentalWarning: OptunaSearchCV is experimental (supported from v0.17.0). The interface can change in the future.\n",
      "  optuna_search = optuna.integration.OptunaSearchCV(random_forest_model, random_forest_params, scoring='f1', n_trials=200, timeout=OPTUNA_TIMEOUT, n_jobs=-1, verbose=1)\n",
      "\u001B[32m[I 2023-03-07 20:05:44,741]\u001B[0m A new study created in memory with name: no-name-22421769-c536-423e-9548-881d9e60d960\u001B[0m\n",
      "\u001B[32m[I 2023-03-07 20:05:44,742]\u001B[0m Searching the best hyperparameters using 3021 samples...\u001B[0m\n",
      "\u001B[32m[I 2023-03-07 20:05:55,513]\u001B[0m Trial 0 finished with value: 0.7749091015224391 and parameters: {'n_estimators': 70, 'max_depth': 50, 'min_samples_split': 4, 'min_samples_leaf': 2}. Best is trial 0 with value: 0.7749091015224391.\u001B[0m\n",
      "\u001B[32m[I 2023-03-07 20:05:56,950]\u001B[0m Trial 3 finished with value: 0.7730289496566625 and parameters: {'n_estimators': 80, 'max_depth': 19, 'min_samples_split': 2, 'min_samples_leaf': 3}. Best is trial 0 with value: 0.7749091015224391.\u001B[0m\n",
      "\u001B[32m[I 2023-03-07 20:06:02,240]\u001B[0m Trial 5 finished with value: 0.7731552609784117 and parameters: {'n_estimators': 130, 'max_depth': 56, 'min_samples_split': 6, 'min_samples_leaf': 6}. Best is trial 0 with value: 0.7749091015224391.\u001B[0m\n",
      "\u001B[32m[I 2023-03-07 20:06:03,754]\u001B[0m Trial 8 finished with value: 0.7759016361550393 and parameters: {'n_estimators': 130, 'max_depth': 44, 'min_samples_split': 4, 'min_samples_leaf': 2}. Best is trial 8 with value: 0.7759016361550393.\u001B[0m\n",
      "\u001B[32m[I 2023-03-07 20:06:08,965]\u001B[0m Trial 4 finished with value: 0.774043696727849 and parameters: {'n_estimators': 190, 'max_depth': 55, 'min_samples_split': 2, 'min_samples_leaf': 8}. Best is trial 8 with value: 0.7759016361550393.\u001B[0m\n",
      "\u001B[32m[I 2023-03-07 20:06:16,684]\u001B[0m Trial 15 finished with value: 0.77613370086701 and parameters: {'n_estimators': 110, 'max_depth': 90, 'min_samples_split': 8, 'min_samples_leaf': 9}. Best is trial 15 with value: 0.77613370086701.\u001B[0m\n",
      "\u001B[32m[I 2023-03-07 20:06:17,599]\u001B[0m Trial 6 finished with value: 0.7741574036922627 and parameters: {'n_estimators': 250, 'max_depth': 38, 'min_samples_split': 8, 'min_samples_leaf': 5}. Best is trial 15 with value: 0.77613370086701.\u001B[0m\n",
      "\u001B[32m[I 2023-03-07 20:06:18,164]\u001B[0m Trial 9 finished with value: 0.7714387302179387 and parameters: {'n_estimators': 260, 'max_depth': 56, 'min_samples_split': 6, 'min_samples_leaf': 6}. Best is trial 15 with value: 0.77613370086701.\u001B[0m\n",
      "\u001B[32m[I 2023-03-07 20:06:21,583]\u001B[0m Trial 11 finished with value: 0.7778273998065843 and parameters: {'n_estimators': 310, 'max_depth': 41, 'min_samples_split': 4, 'min_samples_leaf': 8}. Best is trial 11 with value: 0.7778273998065843.\u001B[0m\n",
      "\u001B[32m[I 2023-03-07 20:06:22,686]\u001B[0m Trial 10 finished with value: 0.7753083062145736 and parameters: {'n_estimators': 330, 'max_depth': 23, 'min_samples_split': 5, 'min_samples_leaf': 10}. Best is trial 11 with value: 0.7778273998065843.\u001B[0m\n",
      "\u001B[32m[I 2023-03-07 20:06:24,654]\u001B[0m Trial 1 finished with value: 0.7755402170513213 and parameters: {'n_estimators': 340, 'max_depth': 25, 'min_samples_split': 4, 'min_samples_leaf': 7}. Best is trial 11 with value: 0.7778273998065843.\u001B[0m\n",
      "\u001B[32m[I 2023-03-07 20:06:26,070]\u001B[0m Trial 16 finished with value: 0.7730159278024231 and parameters: {'n_estimators': 180, 'max_depth': 56, 'min_samples_split': 5, 'min_samples_leaf': 8}. Best is trial 11 with value: 0.7778273998065843.\u001B[0m\n",
      "\u001B[32m[I 2023-03-07 20:06:26,218]\u001B[0m Trial 7 finished with value: 0.7746039013580451 and parameters: {'n_estimators': 360, 'max_depth': 20, 'min_samples_split': 6, 'min_samples_leaf': 7}. Best is trial 11 with value: 0.7778273998065843.\u001B[0m\n",
      "\u001B[32m[I 2023-03-07 20:06:28,518]\u001B[0m Trial 12 finished with value: 0.7721650810386869 and parameters: {'n_estimators': 340, 'max_depth': 17, 'min_samples_split': 2, 'min_samples_leaf': 6}. Best is trial 11 with value: 0.7778273998065843.\u001B[0m\n",
      "\u001B[32m[I 2023-03-07 20:06:29,200]\u001B[0m Trial 2 finished with value: 0.7735988310679821 and parameters: {'n_estimators': 450, 'max_depth': 70, 'min_samples_split': 3, 'min_samples_leaf': 6}. Best is trial 11 with value: 0.7778273998065843.\u001B[0m\n",
      "\u001B[32m[I 2023-03-07 20:06:29,521]\u001B[0m Trial 13 finished with value: 0.7738575507133536 and parameters: {'n_estimators': 400, 'max_depth': 39, 'min_samples_split': 6, 'min_samples_leaf': 9}. Best is trial 11 with value: 0.7778273998065843.\u001B[0m\n",
      "\u001B[32m[I 2023-03-07 20:06:29,777]\u001B[0m Trial 14 finished with value: 0.7742741268987048 and parameters: {'n_estimators': 380, 'max_depth': 13, 'min_samples_split': 2, 'min_samples_leaf': 10}. Best is trial 11 with value: 0.7778273998065843.\u001B[0m\n",
      "\u001B[32m[I 2023-03-07 20:06:29,778]\u001B[0m Finished hyperparemeter search!\u001B[0m\n",
      "\u001B[32m[I 2023-03-07 20:06:29,779]\u001B[0m Refitting the estimator using 3021 samples...\u001B[0m\n",
      "\u001B[32m[I 2023-03-07 20:06:30,735]\u001B[0m Finished refitting! (elapsed time: 0.955 sec.)\u001B[0m\n"
     ]
    },
    {
     "name": "stdout",
     "output_type": "stream",
     "text": [
      "f1 = 0.7778273998065843\n",
      "AUC-ROC = 0.9100162670122\n",
      "Оптимальные гиперпараметры: {'n_estimators': 310, 'max_depth': 41, 'min_samples_split': 4, 'min_samples_leaf': 8}\n"
     ]
    }
   ],
   "source": [
    "random_forest_model = RandomForestClassifier(random_state=RANDOM_STATE)\n",
    "optuna_search = optuna.integration.OptunaSearchCV(random_forest_model, random_forest_params, scoring='f1', n_trials=200, timeout=OPTUNA_TIMEOUT, n_jobs=-1, verbose=1)\n",
    "optuna_search.fit(train_features_downsampled, train_target_downsampled)\n",
    "random_forest_model_downsample = optuna_search.best_estimator_\n",
    "print(f'f1 = {optuna_search.best_score_}')\n",
    "print(f'AUC-ROC = {roc_auc(random_forest_model_downsample, features_train, target_train)}')\n",
    "print(f'Оптимальные гиперпараметры: {optuna_search.best_params_}')"
   ]
  },
  {
   "cell_type": "markdown",
   "metadata": {},
   "source": [
    "#### Логистическая регрессия"
   ]
  },
  {
   "cell_type": "code",
   "execution_count": 80,
   "metadata": {},
   "outputs": [
    {
     "name": "stdout",
     "output_type": "stream",
     "text": [
      "Fitting 5 folds for each of 171 candidates, totalling 855 fits\n",
      "f1 = 0.7037559136230817\n",
      "AUC-ROC = 0.7672975631480943\n",
      "Оптимальные гиперпараметры: {'max_iter': 30, 'solver': 'liblinear'}\n"
     ]
    }
   ],
   "source": [
    "logistic_regression_model = LogisticRegression(random_state=RANDOM_STATE)\n",
    "grid = GridSearchCV(logistic_regression_model, logistic_regression_params, scoring='f1', n_jobs=-1, verbose=1)\n",
    "grid.fit(train_features_downsampled, train_target_downsampled)\n",
    "logistic_regression_model_downsample = grid.best_estimator_\n",
    "print(f'f1 = {grid.best_score_}')\n",
    "print(f'AUC-ROC = {roc_auc(logistic_regression_model_downsample, features_train, target_train)}')\n",
    "print(f'Оптимальные гиперпараметры: {grid.best_params_}')"
   ]
  },
  {
   "cell_type": "markdown",
   "metadata": {},
   "source": [
    "#### Вывод\n",
    "С помощью уменьшения выборки удалось достигнуть значения метрики f1 равного 0.78 при помощи модели случайного леса. Для остальных моделей метрика также увеличилась по сравнению с несбалансированными выборками и взвешиванием классов, а для логистической регрессии уменьшение выборки дало самое большое значение метрики. Однако также, как и с увеличением выборки, есть подозрение, что на тестовой выборке результаты будут хуже.\n",
    "\n",
    "|                | Дерево решений                                                                    | Случайный лес                                                                                           | Логистическая регрессия                                  |\n",
    "|----------------|-----------------------------------------------------------------------------------|---------------------------------------------------------------------------------------------------------|----------------------------------------------------------|\n",
    "| Дисбаланс      | 0.566/0.877<br />{'max_depth': 7, 'min_samples_leaf': 2, 'min_samples_split': 8}  | 0.586/0.998<br />{'n_estimators': 190, 'max_depth': 20, 'min_samples_split': 6, 'min_samples_leaf': 1}  | 0.31/0.764<br />{'max_iter': 30, 'solver': 'liblinear'}  |\n",
    "| Взвешивание    | 0.574/0.881<br />{'max_depth': 7, 'min_samples_leaf': 6, 'min_samples_split': 2}  | 0.624/0.982<br />{'n_estimators': 190, 'max_depth': 16, 'min_samples_split': 10, 'min_samples_leaf': 4} | 0.484/0.767<br />{'max_iter': 30, 'solver': 'liblinear'} |\n",
    "| Увеличение     | 0.931/0.999<br />{'max_depth': 20, 'min_samples_leaf': 1, 'min_samples_split': 2} | 0.958/1<br />{'n_estimators': 140, 'max_depth': 18, 'min_samples_split': 2, 'min_samples_leaf': 1}      | 0.698/0.767<br />{'max_iter': 30, 'solver': 'liblinear'} |\n",
    "| imblearn SMOTE | 0.571/0.873<br />{'max_depth': 8, 'min_samples_leaf': 9, 'min_samples_split': 2}  | 0.618/0.973<br />{'n_estimators': 170, 'max_depth': 19, 'min_samples_split': 7, 'min_samples_leaf': 5}  | 0.473/0.761<br />{'max_iter': 30, 'solver': 'liblinear'} |\n",
    "| Уменьшение     | 0.769/0.866<br />{'max_depth': 7, 'min_samples_leaf': 10, 'min_samples_split': 2} | 0.779/0.920<br />{'n_estimators': 100, 'max_depth': 13, 'min_samples_split': 6, 'min_samples_leaf': 6}  | 0.704/0.767<br />{'max_iter': 30, 'solver': 'liblinear'} |"
   ]
  },
  {
   "cell_type": "markdown",
   "metadata": {},
   "source": [
    "### Увеличение выборки для случайного леса без кросс-валидации\n",
    "Так как увеличение выборки может некорректно работать с кросс-валидацие, обучим одну из моделей при помощи обучающей и валидационной выборок и перебором гиперпараметров в цикле. До этого лучше всего себя показывал случайны лес, возьмем его."
   ]
  },
  {
   "cell_type": "code",
   "execution_count": 81,
   "metadata": {},
   "outputs": [
    {
     "name": "stdout",
     "output_type": "stream",
     "text": [
      "(5625, 11)\n",
      "(1875, 11)\n",
      "(5625,)\n",
      "(1875,)\n",
      "(9063, 11)\n",
      "(1875, 11)\n",
      "(9063,)\n",
      "(1875,)\n",
      "0.5057927838464085\n",
      "0.20373333333333332\n"
     ]
    }
   ],
   "source": [
    "features_train_upsample, features_valid_upsample, target_train_upsample, target_valid_upsample = train_test_split(\n",
    "    features_train, target_train, stratify=target_train, test_size=0.25, random_state=RANDOM_STATE\n",
    ")\n",
    "print(features_train_upsample.shape)\n",
    "print(features_valid_upsample.shape)\n",
    "print(target_train_upsample.shape)\n",
    "print(target_valid_upsample.shape)\n",
    "\n",
    "features_train_upsample, target_train_upsample = upsample(features_train_upsample, target_train_upsample, 4)\n",
    "\n",
    "print(features_train_upsample.shape)\n",
    "print(features_valid_upsample.shape)\n",
    "print(target_train_upsample.shape)\n",
    "print(target_valid_upsample.shape)\n",
    "\n",
    "print(target_train_upsample.mean())\n",
    "print(target_valid_upsample.mean())"
   ]
  },
  {
   "cell_type": "code",
   "execution_count": 82,
   "metadata": {},
   "outputs": [
    {
     "name": "stdout",
     "output_type": "stream",
     "text": [
      "{'n_estimators': 10, 'max_depth': 1, 'min_samples_split': 2, 'min_samples_leaf': 10}\n",
      "{'n_estimators': 10, 'max_depth': 1, 'min_samples_split': 6, 'min_samples_leaf': 8}\n",
      "{'n_estimators': 10, 'max_depth': 1, 'min_samples_split': 10, 'min_samples_leaf': 6}\n",
      "{'n_estimators': 10, 'max_depth': 3, 'min_samples_split': 8, 'min_samples_leaf': 6}\n",
      "{'n_estimators': 10, 'max_depth': 3, 'min_samples_split': 8, 'min_samples_leaf': 8}\n",
      "{'n_estimators': 10, 'max_depth': 5, 'min_samples_split': 8, 'min_samples_leaf': 4}\n",
      "{'n_estimators': 10, 'max_depth': 5, 'min_samples_split': 8, 'min_samples_leaf': 6}\n",
      "{'n_estimators': 10, 'max_depth': 7, 'min_samples_split': 8, 'min_samples_leaf': 2}\n",
      "{'n_estimators': 10, 'max_depth': 7, 'min_samples_split': 8, 'min_samples_leaf': 4}\n",
      "{'n_estimators': 10, 'max_depth': 9, 'min_samples_split': 6, 'min_samples_leaf': 10}\n",
      "{'n_estimators': 10, 'max_depth': 9, 'min_samples_split': 8, 'min_samples_leaf': 2}\n",
      "{'n_estimators': 10, 'max_depth': 11, 'min_samples_split': 6, 'min_samples_leaf': 4}\n",
      "{'n_estimators': 10, 'max_depth': 11, 'min_samples_split': 6, 'min_samples_leaf': 6}\n",
      "{'n_estimators': 10, 'max_depth': 13, 'min_samples_split': 6, 'min_samples_leaf': 2}\n",
      "{'n_estimators': 10, 'max_depth': 13, 'min_samples_split': 6, 'min_samples_leaf': 4}\n",
      "{'n_estimators': 10, 'max_depth': 15, 'min_samples_split': 6, 'min_samples_leaf': 4}\n",
      "{'n_estimators': 10, 'max_depth': 15, 'min_samples_split': 6, 'min_samples_leaf': 6}\n",
      "{'n_estimators': 10, 'max_depth': 17, 'min_samples_split': 6, 'min_samples_leaf': 6}\n",
      "{'n_estimators': 10, 'max_depth': 17, 'min_samples_split': 6, 'min_samples_leaf': 8}\n",
      "{'n_estimators': 10, 'max_depth': 19, 'min_samples_split': 4, 'min_samples_leaf': 10}\n",
      "{'n_estimators': 10, 'max_depth': 19, 'min_samples_split': 6, 'min_samples_leaf': 2}\n",
      "{'n_estimators': 30, 'max_depth': 1, 'min_samples_split': 4, 'min_samples_leaf': 8}\n",
      "{'n_estimators': 30, 'max_depth': 1, 'min_samples_split': 4, 'min_samples_leaf': 10}\n",
      "{'n_estimators': 30, 'max_depth': 3, 'min_samples_split': 4, 'min_samples_leaf': 6}\n",
      "{'n_estimators': 30, 'max_depth': 3, 'min_samples_split': 4, 'min_samples_leaf': 8}\n",
      "{'n_estimators': 30, 'max_depth': 5, 'min_samples_split': 4, 'min_samples_leaf': 4}\n",
      "{'n_estimators': 30, 'max_depth': 5, 'min_samples_split': 4, 'min_samples_leaf': 6}\n",
      "{'n_estimators': 30, 'max_depth': 7, 'min_samples_split': 4, 'min_samples_leaf': 2}\n",
      "{'n_estimators': 30, 'max_depth': 7, 'min_samples_split': 4, 'min_samples_leaf': 4}\n",
      "{'n_estimators': 30, 'max_depth': 9, 'min_samples_split': 2, 'min_samples_leaf': 6}\n",
      "{'n_estimators': 30, 'max_depth': 9, 'min_samples_split': 2, 'min_samples_leaf': 8}\n",
      "{'n_estimators': 30, 'max_depth': 11, 'min_samples_split': 2, 'min_samples_leaf': 4}\n",
      "{'n_estimators': 30, 'max_depth': 11, 'min_samples_split': 2, 'min_samples_leaf': 6}\n",
      "{'n_estimators': 30, 'max_depth': 13, 'min_samples_split': 2, 'min_samples_leaf': 6}\n",
      "{'n_estimators': 30, 'max_depth': 13, 'min_samples_split': 2, 'min_samples_leaf': 8}\n",
      "{'n_estimators': 30, 'max_depth': 13, 'min_samples_split': 10, 'min_samples_leaf': 10}\n",
      "{'n_estimators': 30, 'max_depth': 15, 'min_samples_split': 2, 'min_samples_leaf': 2}\n",
      "{'n_estimators': 30, 'max_depth': 15, 'min_samples_split': 10, 'min_samples_leaf': 8}\n",
      "{'n_estimators': 30, 'max_depth': 15, 'min_samples_split': 10, 'min_samples_leaf': 10}\n",
      "{'n_estimators': 30, 'max_depth': 17, 'min_samples_split': 10, 'min_samples_leaf': 6}\n",
      "{'n_estimators': 30, 'max_depth': 17, 'min_samples_split': 10, 'min_samples_leaf': 8}\n",
      "{'n_estimators': 30, 'max_depth': 19, 'min_samples_split': 10, 'min_samples_leaf': 4}\n",
      "{'n_estimators': 30, 'max_depth': 19, 'min_samples_split': 10, 'min_samples_leaf': 6}\n",
      "{'n_estimators': 50, 'max_depth': 3, 'min_samples_split': 2, 'min_samples_leaf': 10}\n",
      "{'n_estimators': 50, 'max_depth': 3, 'min_samples_split': 6, 'min_samples_leaf': 8}\n",
      "{'n_estimators': 50, 'max_depth': 5, 'min_samples_split': 2, 'min_samples_leaf': 2}\n",
      "{'n_estimators': 50, 'max_depth': 5, 'min_samples_split': 6, 'min_samples_leaf': 6}\n",
      "{'n_estimators': 50, 'max_depth': 5, 'min_samples_split': 10, 'min_samples_leaf': 10}\n",
      "{'n_estimators': 50, 'max_depth': 7, 'min_samples_split': 6, 'min_samples_leaf': 4}\n",
      "{'n_estimators': 50, 'max_depth': 7, 'min_samples_split': 10, 'min_samples_leaf': 8}\n",
      "{'n_estimators': 50, 'max_depth': 9, 'min_samples_split': 6, 'min_samples_leaf': 2}\n",
      "{'n_estimators': 50, 'max_depth': 9, 'min_samples_split': 10, 'min_samples_leaf': 6}\n",
      "{'n_estimators': 50, 'max_depth': 11, 'min_samples_split': 4, 'min_samples_leaf': 10}\n",
      "{'n_estimators': 50, 'max_depth': 11, 'min_samples_split': 10, 'min_samples_leaf': 4}\n",
      "{'n_estimators': 50, 'max_depth': 13, 'min_samples_split': 4, 'min_samples_leaf': 8}\n",
      "{'n_estimators': 50, 'max_depth': 13, 'min_samples_split': 10, 'min_samples_leaf': 2}\n",
      "{'n_estimators': 50, 'max_depth': 15, 'min_samples_split': 4, 'min_samples_leaf': 6}\n",
      "{'n_estimators': 50, 'max_depth': 15, 'min_samples_split': 8, 'min_samples_leaf': 10}\n",
      "{'n_estimators': 50, 'max_depth': 17, 'min_samples_split': 4, 'min_samples_leaf': 2}\n",
      "{'n_estimators': 50, 'max_depth': 17, 'min_samples_split': 8, 'min_samples_leaf': 8}\n",
      "{'n_estimators': 50, 'max_depth': 19, 'min_samples_split': 4, 'min_samples_leaf': 2}\n",
      "{'n_estimators': 50, 'max_depth': 19, 'min_samples_split': 8, 'min_samples_leaf': 8}\n",
      "{'n_estimators': 70, 'max_depth': 1, 'min_samples_split': 2, 'min_samples_leaf': 10}\n",
      "{'n_estimators': 70, 'max_depth': 1, 'min_samples_split': 8, 'min_samples_leaf': 2}\n",
      "{'n_estimators': 70, 'max_depth': 3, 'min_samples_split': 2, 'min_samples_leaf': 4}\n",
      "{'n_estimators': 70, 'max_depth': 3, 'min_samples_split': 6, 'min_samples_leaf': 8}\n",
      "{'n_estimators': 70, 'max_depth': 5, 'min_samples_split': 2, 'min_samples_leaf': 2}\n",
      "{'n_estimators': 70, 'max_depth': 5, 'min_samples_split': 6, 'min_samples_leaf': 6}\n",
      "{'n_estimators': 70, 'max_depth': 5, 'min_samples_split': 10, 'min_samples_leaf': 10}\n",
      "{'n_estimators': 70, 'max_depth': 7, 'min_samples_split': 6, 'min_samples_leaf': 4}\n",
      "{'n_estimators': 70, 'max_depth': 7, 'min_samples_split': 10, 'min_samples_leaf': 8}\n",
      "{'n_estimators': 70, 'max_depth': 9, 'min_samples_split': 6, 'min_samples_leaf': 2}\n",
      "{'n_estimators': 70, 'max_depth': 9, 'min_samples_split': 10, 'min_samples_leaf': 6}\n",
      "{'n_estimators': 70, 'max_depth': 11, 'min_samples_split': 4, 'min_samples_leaf': 10}\n",
      "{'n_estimators': 70, 'max_depth': 11, 'min_samples_split': 10, 'min_samples_leaf': 4}\n",
      "{'n_estimators': 70, 'max_depth': 13, 'min_samples_split': 4, 'min_samples_leaf': 8}\n",
      "{'n_estimators': 70, 'max_depth': 13, 'min_samples_split': 10, 'min_samples_leaf': 2}\n",
      "{'n_estimators': 70, 'max_depth': 15, 'min_samples_split': 4, 'min_samples_leaf': 6}\n",
      "{'n_estimators': 70, 'max_depth': 15, 'min_samples_split': 8, 'min_samples_leaf': 10}\n",
      "{'n_estimators': 70, 'max_depth': 17, 'min_samples_split': 4, 'min_samples_leaf': 4}\n",
      "{'n_estimators': 70, 'max_depth': 17, 'min_samples_split': 8, 'min_samples_leaf': 6}\n",
      "{'n_estimators': 70, 'max_depth': 19, 'min_samples_split': 2, 'min_samples_leaf': 10}\n",
      "{'n_estimators': 70, 'max_depth': 19, 'min_samples_split': 8, 'min_samples_leaf': 4}\n",
      "{'n_estimators': 90, 'max_depth': 1, 'min_samples_split': 2, 'min_samples_leaf': 8}\n",
      "{'n_estimators': 90, 'max_depth': 1, 'min_samples_split': 6, 'min_samples_leaf': 6}\n",
      "{'n_estimators': 90, 'max_depth': 1, 'min_samples_split': 10, 'min_samples_leaf': 10}\n",
      "{'n_estimators': 90, 'max_depth': 3, 'min_samples_split': 6, 'min_samples_leaf': 4}\n",
      "{'n_estimators': 90, 'max_depth': 3, 'min_samples_split': 10, 'min_samples_leaf': 8}\n",
      "{'n_estimators': 90, 'max_depth': 5, 'min_samples_split': 6, 'min_samples_leaf': 2}\n",
      "{'n_estimators': 90, 'max_depth': 5, 'min_samples_split': 10, 'min_samples_leaf': 6}\n",
      "{'n_estimators': 90, 'max_depth': 7, 'min_samples_split': 4, 'min_samples_leaf': 10}\n",
      "{'n_estimators': 90, 'max_depth': 7, 'min_samples_split': 10, 'min_samples_leaf': 4}\n",
      "{'n_estimators': 90, 'max_depth': 9, 'min_samples_split': 4, 'min_samples_leaf': 8}\n",
      "{'n_estimators': 90, 'max_depth': 9, 'min_samples_split': 10, 'min_samples_leaf': 2}\n",
      "{'n_estimators': 90, 'max_depth': 11, 'min_samples_split': 4, 'min_samples_leaf': 6}\n",
      "{'n_estimators': 90, 'max_depth': 11, 'min_samples_split': 8, 'min_samples_leaf': 10}\n",
      "{'n_estimators': 90, 'max_depth': 13, 'min_samples_split': 4, 'min_samples_leaf': 4}\n",
      "{'n_estimators': 90, 'max_depth': 13, 'min_samples_split': 8, 'min_samples_leaf': 6}\n",
      "{'n_estimators': 90, 'max_depth': 15, 'min_samples_split': 2, 'min_samples_leaf': 10}\n",
      "{'n_estimators': 90, 'max_depth': 15, 'min_samples_split': 8, 'min_samples_leaf': 4}\n",
      "{'n_estimators': 90, 'max_depth': 17, 'min_samples_split': 2, 'min_samples_leaf': 8}\n",
      "{'n_estimators': 90, 'max_depth': 17, 'min_samples_split': 8, 'min_samples_leaf': 2}\n",
      "{'n_estimators': 90, 'max_depth': 19, 'min_samples_split': 2, 'min_samples_leaf': 6}\n",
      "{'n_estimators': 90, 'max_depth': 19, 'min_samples_split': 6, 'min_samples_leaf': 10}\n",
      "{'n_estimators': 110, 'max_depth': 1, 'min_samples_split': 2, 'min_samples_leaf': 4}\n",
      "{'n_estimators': 110, 'max_depth': 1, 'min_samples_split': 4, 'min_samples_leaf': 8}\n",
      "{'n_estimators': 110, 'max_depth': 1, 'min_samples_split': 10, 'min_samples_leaf': 2}\n",
      "{'n_estimators': 110, 'max_depth': 3, 'min_samples_split': 4, 'min_samples_leaf': 6}\n",
      "{'n_estimators': 110, 'max_depth': 3, 'min_samples_split': 8, 'min_samples_leaf': 8}\n",
      "{'n_estimators': 110, 'max_depth': 5, 'min_samples_split': 4, 'min_samples_leaf': 2}\n",
      "{'n_estimators': 110, 'max_depth': 5, 'min_samples_split': 8, 'min_samples_leaf': 6}\n",
      "{'n_estimators': 110, 'max_depth': 7, 'min_samples_split': 2, 'min_samples_leaf': 10}\n",
      "{'n_estimators': 110, 'max_depth': 7, 'min_samples_split': 8, 'min_samples_leaf': 4}\n",
      "{'n_estimators': 110, 'max_depth': 9, 'min_samples_split': 2, 'min_samples_leaf': 8}\n",
      "{'n_estimators': 110, 'max_depth': 9, 'min_samples_split': 8, 'min_samples_leaf': 2}\n",
      "{'n_estimators': 110, 'max_depth': 11, 'min_samples_split': 2, 'min_samples_leaf': 6}\n",
      "{'n_estimators': 110, 'max_depth': 11, 'min_samples_split': 6, 'min_samples_leaf': 10}\n",
      "{'n_estimators': 110, 'max_depth': 13, 'min_samples_split': 2, 'min_samples_leaf': 2}\n",
      "{'n_estimators': 110, 'max_depth': 13, 'min_samples_split': 6, 'min_samples_leaf': 6}\n",
      "{'n_estimators': 110, 'max_depth': 13, 'min_samples_split': 10, 'min_samples_leaf': 10}\n",
      "{'n_estimators': 110, 'max_depth': 15, 'min_samples_split': 6, 'min_samples_leaf': 4}\n",
      "{'n_estimators': 110, 'max_depth': 15, 'min_samples_split': 10, 'min_samples_leaf': 8}\n",
      "{'n_estimators': 110, 'max_depth': 17, 'min_samples_split': 6, 'min_samples_leaf': 2}\n",
      "{'n_estimators': 110, 'max_depth': 17, 'min_samples_split': 10, 'min_samples_leaf': 6}\n",
      "{'n_estimators': 110, 'max_depth': 19, 'min_samples_split': 4, 'min_samples_leaf': 10}\n",
      "{'n_estimators': 110, 'max_depth': 19, 'min_samples_split': 10, 'min_samples_leaf': 4}\n",
      "{'n_estimators': 130, 'max_depth': 1, 'min_samples_split': 6, 'min_samples_leaf': 2}\n",
      "{'n_estimators': 130, 'max_depth': 1, 'min_samples_split': 10, 'min_samples_leaf': 6}\n",
      "{'n_estimators': 130, 'max_depth': 3, 'min_samples_split': 4, 'min_samples_leaf': 10}\n",
      "{'n_estimators': 130, 'max_depth': 3, 'min_samples_split': 10, 'min_samples_leaf': 4}\n",
      "{'n_estimators': 130, 'max_depth': 5, 'min_samples_split': 4, 'min_samples_leaf': 8}\n",
      "{'n_estimators': 130, 'max_depth': 5, 'min_samples_split': 10, 'min_samples_leaf': 2}\n",
      "{'n_estimators': 130, 'max_depth': 7, 'min_samples_split': 4, 'min_samples_leaf': 6}\n",
      "{'n_estimators': 130, 'max_depth': 7, 'min_samples_split': 8, 'min_samples_leaf': 10}\n",
      "{'n_estimators': 130, 'max_depth': 9, 'min_samples_split': 4, 'min_samples_leaf': 4}\n",
      "{'n_estimators': 130, 'max_depth': 9, 'min_samples_split': 8, 'min_samples_leaf': 8}\n",
      "{'n_estimators': 130, 'max_depth': 11, 'min_samples_split': 4, 'min_samples_leaf': 2}\n",
      "{'n_estimators': 130, 'max_depth': 11, 'min_samples_split': 8, 'min_samples_leaf': 8}\n",
      "{'n_estimators': 130, 'max_depth': 13, 'min_samples_split': 2, 'min_samples_leaf': 10}\n",
      "{'n_estimators': 130, 'max_depth': 13, 'min_samples_split': 8, 'min_samples_leaf': 4}\n",
      "{'n_estimators': 130, 'max_depth': 15, 'min_samples_split': 2, 'min_samples_leaf': 10}\n",
      "{'n_estimators': 130, 'max_depth': 15, 'min_samples_split': 8, 'min_samples_leaf': 4}\n",
      "{'n_estimators': 130, 'max_depth': 17, 'min_samples_split': 2, 'min_samples_leaf': 8}\n",
      "{'n_estimators': 130, 'max_depth': 17, 'min_samples_split': 8, 'min_samples_leaf': 2}\n",
      "{'n_estimators': 130, 'max_depth': 19, 'min_samples_split': 2, 'min_samples_leaf': 6}\n",
      "{'n_estimators': 130, 'max_depth': 19, 'min_samples_split': 8, 'min_samples_leaf': 2}\n",
      "{'n_estimators': 150, 'max_depth': 1, 'min_samples_split': 2, 'min_samples_leaf': 6}\n",
      "{'n_estimators': 150, 'max_depth': 1, 'min_samples_split': 6, 'min_samples_leaf': 2}\n",
      "{'n_estimators': 150, 'max_depth': 1, 'min_samples_split': 10, 'min_samples_leaf': 6}\n",
      "{'n_estimators': 150, 'max_depth': 3, 'min_samples_split': 4, 'min_samples_leaf': 10}\n",
      "{'n_estimators': 150, 'max_depth': 3, 'min_samples_split': 10, 'min_samples_leaf': 4}\n",
      "{'n_estimators': 150, 'max_depth': 5, 'min_samples_split': 4, 'min_samples_leaf': 8}\n",
      "{'n_estimators': 150, 'max_depth': 5, 'min_samples_split': 10, 'min_samples_leaf': 2}\n",
      "{'n_estimators': 150, 'max_depth': 7, 'min_samples_split': 4, 'min_samples_leaf': 6}\n",
      "{'n_estimators': 150, 'max_depth': 7, 'min_samples_split': 8, 'min_samples_leaf': 10}\n",
      "{'n_estimators': 150, 'max_depth': 9, 'min_samples_split': 4, 'min_samples_leaf': 4}\n",
      "{'n_estimators': 150, 'max_depth': 9, 'min_samples_split': 8, 'min_samples_leaf': 8}\n",
      "{'n_estimators': 150, 'max_depth': 11, 'min_samples_split': 4, 'min_samples_leaf': 2}\n",
      "{'n_estimators': 150, 'max_depth': 11, 'min_samples_split': 8, 'min_samples_leaf': 8}\n",
      "{'n_estimators': 150, 'max_depth': 13, 'min_samples_split': 4, 'min_samples_leaf': 2}\n",
      "{'n_estimators': 150, 'max_depth': 13, 'min_samples_split': 8, 'min_samples_leaf': 6}\n",
      "{'n_estimators': 150, 'max_depth': 15, 'min_samples_split': 2, 'min_samples_leaf': 10}\n",
      "{'n_estimators': 150, 'max_depth': 15, 'min_samples_split': 8, 'min_samples_leaf': 4}\n",
      "{'n_estimators': 150, 'max_depth': 17, 'min_samples_split': 2, 'min_samples_leaf': 8}\n",
      "{'n_estimators': 150, 'max_depth': 17, 'min_samples_split': 8, 'min_samples_leaf': 2}\n",
      "{'n_estimators': 150, 'max_depth': 19, 'min_samples_split': 2, 'min_samples_leaf': 6}\n",
      "{'n_estimators': 150, 'max_depth': 19, 'min_samples_split': 6, 'min_samples_leaf': 10}\n",
      "{'n_estimators': 170, 'max_depth': 1, 'min_samples_split': 2, 'min_samples_leaf': 4}\n",
      "{'n_estimators': 170, 'max_depth': 1, 'min_samples_split': 4, 'min_samples_leaf': 8}\n",
      "{'n_estimators': 170, 'max_depth': 1, 'min_samples_split': 8, 'min_samples_leaf': 10}\n",
      "{'n_estimators': 170, 'max_depth': 3, 'min_samples_split': 4, 'min_samples_leaf': 4}\n",
      "{'n_estimators': 170, 'max_depth': 3, 'min_samples_split': 8, 'min_samples_leaf': 8}\n",
      "{'n_estimators': 170, 'max_depth': 5, 'min_samples_split': 4, 'min_samples_leaf': 2}\n",
      "{'n_estimators': 170, 'max_depth': 5, 'min_samples_split': 8, 'min_samples_leaf': 6}\n",
      "{'n_estimators': 170, 'max_depth': 7, 'min_samples_split': 2, 'min_samples_leaf': 10}\n",
      "{'n_estimators': 170, 'max_depth': 7, 'min_samples_split': 8, 'min_samples_leaf': 4}\n",
      "{'n_estimators': 170, 'max_depth': 9, 'min_samples_split': 2, 'min_samples_leaf': 8}\n",
      "{'n_estimators': 170, 'max_depth': 9, 'min_samples_split': 8, 'min_samples_leaf': 2}\n",
      "{'n_estimators': 170, 'max_depth': 11, 'min_samples_split': 2, 'min_samples_leaf': 6}\n",
      "{'n_estimators': 170, 'max_depth': 11, 'min_samples_split': 8, 'min_samples_leaf': 2}\n",
      "{'n_estimators': 170, 'max_depth': 13, 'min_samples_split': 2, 'min_samples_leaf': 6}\n",
      "{'n_estimators': 170, 'max_depth': 13, 'min_samples_split': 6, 'min_samples_leaf': 10}\n",
      "{'n_estimators': 170, 'max_depth': 15, 'min_samples_split': 2, 'min_samples_leaf': 4}\n",
      "{'n_estimators': 170, 'max_depth': 15, 'min_samples_split': 6, 'min_samples_leaf': 8}\n",
      "{'n_estimators': 170, 'max_depth': 17, 'min_samples_split': 2, 'min_samples_leaf': 2}\n",
      "{'n_estimators': 170, 'max_depth': 17, 'min_samples_split': 6, 'min_samples_leaf': 8}\n",
      "{'n_estimators': 170, 'max_depth': 19, 'min_samples_split': 2, 'min_samples_leaf': 2}\n",
      "{'n_estimators': 170, 'max_depth': 19, 'min_samples_split': 6, 'min_samples_leaf': 8}\n",
      "{'n_estimators': 190, 'max_depth': 1, 'min_samples_split': 2, 'min_samples_leaf': 2}\n",
      "{'n_estimators': 190, 'max_depth': 1, 'min_samples_split': 4, 'min_samples_leaf': 6}\n",
      "{'n_estimators': 190, 'max_depth': 1, 'min_samples_split': 8, 'min_samples_leaf': 6}\n",
      "{'n_estimators': 10, 'max_depth': 1, 'min_samples_split': 2, 'min_samples_leaf': 2}\n",
      "{'n_estimators': 10, 'max_depth': 1, 'min_samples_split': 4, 'min_samples_leaf': 10}\n",
      "{'n_estimators': 10, 'max_depth': 1, 'min_samples_split': 8, 'min_samples_leaf': 10}\n",
      "{'n_estimators': 10, 'max_depth': 3, 'min_samples_split': 6, 'min_samples_leaf': 4}\n",
      "{'n_estimators': 10, 'max_depth': 3, 'min_samples_split': 6, 'min_samples_leaf': 6}\n",
      "{'n_estimators': 10, 'max_depth': 5, 'min_samples_split': 6, 'min_samples_leaf': 6}\n",
      "{'n_estimators': 10, 'max_depth': 5, 'min_samples_split': 6, 'min_samples_leaf': 8}\n",
      "{'n_estimators': 10, 'max_depth': 7, 'min_samples_split': 4, 'min_samples_leaf': 10}\n",
      "{'n_estimators': 10, 'max_depth': 7, 'min_samples_split': 6, 'min_samples_leaf': 2}\n",
      "{'n_estimators': 10, 'max_depth': 9, 'min_samples_split': 6, 'min_samples_leaf': 2}\n",
      "{'n_estimators': 10, 'max_depth': 9, 'min_samples_split': 6, 'min_samples_leaf': 4}\n",
      "{'n_estimators': 10, 'max_depth': 11, 'min_samples_split': 4, 'min_samples_leaf': 10}\n",
      "{'n_estimators': 10, 'max_depth': 11, 'min_samples_split': 6, 'min_samples_leaf': 2}\n",
      "{'n_estimators': 10, 'max_depth': 13, 'min_samples_split': 4, 'min_samples_leaf': 8}\n",
      "{'n_estimators': 10, 'max_depth': 13, 'min_samples_split': 4, 'min_samples_leaf': 10}\n",
      "{'n_estimators': 10, 'max_depth': 15, 'min_samples_split': 4, 'min_samples_leaf': 6}\n",
      "{'n_estimators': 10, 'max_depth': 15, 'min_samples_split': 4, 'min_samples_leaf': 8}\n",
      "{'n_estimators': 10, 'max_depth': 17, 'min_samples_split': 2, 'min_samples_leaf': 10}\n",
      "{'n_estimators': 10, 'max_depth': 17, 'min_samples_split': 4, 'min_samples_leaf': 2}\n",
      "{'n_estimators': 10, 'max_depth': 19, 'min_samples_split': 2, 'min_samples_leaf': 8}\n",
      "{'n_estimators': 10, 'max_depth': 19, 'min_samples_split': 2, 'min_samples_leaf': 10}\n",
      "{'n_estimators': 30, 'max_depth': 1, 'min_samples_split': 2, 'min_samples_leaf': 2}\n",
      "{'n_estimators': 30, 'max_depth': 1, 'min_samples_split': 2, 'min_samples_leaf': 4}\n",
      "{'n_estimators': 30, 'max_depth': 1, 'min_samples_split': 10, 'min_samples_leaf': 10}\n",
      "{'n_estimators': 30, 'max_depth': 3, 'min_samples_split': 2, 'min_samples_leaf': 2}\n",
      "{'n_estimators': 30, 'max_depth': 3, 'min_samples_split': 10, 'min_samples_leaf': 8}\n",
      "{'n_estimators': 30, 'max_depth': 3, 'min_samples_split': 10, 'min_samples_leaf': 10}\n",
      "{'n_estimators': 30, 'max_depth': 5, 'min_samples_split': 10, 'min_samples_leaf': 6}\n",
      "{'n_estimators': 30, 'max_depth': 5, 'min_samples_split': 10, 'min_samples_leaf': 8}\n",
      "{'n_estimators': 30, 'max_depth': 7, 'min_samples_split': 10, 'min_samples_leaf': 4}\n",
      "{'n_estimators': 30, 'max_depth': 7, 'min_samples_split': 10, 'min_samples_leaf': 6}\n",
      "{'n_estimators': 30, 'max_depth': 9, 'min_samples_split': 10, 'min_samples_leaf': 2}\n",
      "{'n_estimators': 30, 'max_depth': 9, 'min_samples_split': 10, 'min_samples_leaf': 4}\n",
      "{'n_estimators': 30, 'max_depth': 11, 'min_samples_split': 8, 'min_samples_leaf': 10}\n",
      "{'n_estimators': 30, 'max_depth': 11, 'min_samples_split': 10, 'min_samples_leaf': 2}\n",
      "{'n_estimators': 30, 'max_depth': 13, 'min_samples_split': 8, 'min_samples_leaf': 8}\n",
      "{'n_estimators': 30, 'max_depth': 13, 'min_samples_split': 8, 'min_samples_leaf': 10}\n",
      "{'n_estimators': 30, 'max_depth': 15, 'min_samples_split': 8, 'min_samples_leaf': 6}\n",
      "{'n_estimators': 30, 'max_depth': 15, 'min_samples_split': 8, 'min_samples_leaf': 8}\n",
      "{'n_estimators': 30, 'max_depth': 17, 'min_samples_split': 8, 'min_samples_leaf': 4}\n",
      "{'n_estimators': 30, 'max_depth': 17, 'min_samples_split': 8, 'min_samples_leaf': 6}\n",
      "{'n_estimators': 30, 'max_depth': 19, 'min_samples_split': 8, 'min_samples_leaf': 2}\n",
      "{'n_estimators': 30, 'max_depth': 19, 'min_samples_split': 8, 'min_samples_leaf': 4}\n",
      "{'n_estimators': 50, 'max_depth': 1, 'min_samples_split': 6, 'min_samples_leaf': 10}\n",
      "{'n_estimators': 50, 'max_depth': 1, 'min_samples_split': 8, 'min_samples_leaf': 2}\n",
      "{'n_estimators': 50, 'max_depth': 3, 'min_samples_split': 4, 'min_samples_leaf': 8}\n",
      "{'n_estimators': 50, 'max_depth': 3, 'min_samples_split': 8, 'min_samples_leaf': 8}\n",
      "{'n_estimators': 50, 'max_depth': 5, 'min_samples_split': 4, 'min_samples_leaf': 2}\n",
      "{'n_estimators': 50, 'max_depth': 5, 'min_samples_split': 8, 'min_samples_leaf': 6}\n",
      "{'n_estimators': 50, 'max_depth': 7, 'min_samples_split': 2, 'min_samples_leaf': 10}\n",
      "{'n_estimators': 50, 'max_depth': 7, 'min_samples_split': 8, 'min_samples_leaf': 4}\n",
      "{'n_estimators': 50, 'max_depth': 9, 'min_samples_split': 2, 'min_samples_leaf': 8}\n",
      "{'n_estimators': 50, 'max_depth': 9, 'min_samples_split': 8, 'min_samples_leaf': 2}\n",
      "{'n_estimators': 50, 'max_depth': 11, 'min_samples_split': 2, 'min_samples_leaf': 6}\n",
      "{'n_estimators': 50, 'max_depth': 11, 'min_samples_split': 6, 'min_samples_leaf': 10}\n",
      "{'n_estimators': 50, 'max_depth': 13, 'min_samples_split': 2, 'min_samples_leaf': 4}\n",
      "{'n_estimators': 50, 'max_depth': 13, 'min_samples_split': 6, 'min_samples_leaf': 8}\n",
      "{'n_estimators': 50, 'max_depth': 15, 'min_samples_split': 2, 'min_samples_leaf': 2}\n",
      "{'n_estimators': 50, 'max_depth': 15, 'min_samples_split': 6, 'min_samples_leaf': 8}\n",
      "{'n_estimators': 50, 'max_depth': 15, 'min_samples_split': 10, 'min_samples_leaf': 10}\n",
      "{'n_estimators': 50, 'max_depth': 17, 'min_samples_split': 6, 'min_samples_leaf': 4}\n",
      "{'n_estimators': 50, 'max_depth': 17, 'min_samples_split': 10, 'min_samples_leaf': 8}\n",
      "{'n_estimators': 50, 'max_depth': 19, 'min_samples_split': 6, 'min_samples_leaf': 2}\n",
      "{'n_estimators': 50, 'max_depth': 19, 'min_samples_split': 10, 'min_samples_leaf': 6}\n",
      "{'n_estimators': 70, 'max_depth': 1, 'min_samples_split': 6, 'min_samples_leaf': 6}\n",
      "{'n_estimators': 70, 'max_depth': 1, 'min_samples_split': 10, 'min_samples_leaf': 10}\n",
      "{'n_estimators': 70, 'max_depth': 3, 'min_samples_split': 6, 'min_samples_leaf': 4}\n",
      "{'n_estimators': 70, 'max_depth': 3, 'min_samples_split': 10, 'min_samples_leaf': 8}\n",
      "{'n_estimators': 70, 'max_depth': 5, 'min_samples_split': 6, 'min_samples_leaf': 2}\n",
      "{'n_estimators': 70, 'max_depth': 5, 'min_samples_split': 10, 'min_samples_leaf': 6}\n",
      "{'n_estimators': 70, 'max_depth': 7, 'min_samples_split': 4, 'min_samples_leaf': 10}\n",
      "{'n_estimators': 70, 'max_depth': 7, 'min_samples_split': 10, 'min_samples_leaf': 4}\n",
      "{'n_estimators': 70, 'max_depth': 9, 'min_samples_split': 4, 'min_samples_leaf': 8}\n",
      "{'n_estimators': 70, 'max_depth': 9, 'min_samples_split': 10, 'min_samples_leaf': 2}\n",
      "{'n_estimators': 70, 'max_depth': 11, 'min_samples_split': 4, 'min_samples_leaf': 6}\n",
      "{'n_estimators': 70, 'max_depth': 11, 'min_samples_split': 8, 'min_samples_leaf': 10}\n",
      "{'n_estimators': 70, 'max_depth': 13, 'min_samples_split': 4, 'min_samples_leaf': 4}\n",
      "{'n_estimators': 70, 'max_depth': 13, 'min_samples_split': 8, 'min_samples_leaf': 8}\n",
      "{'n_estimators': 70, 'max_depth': 15, 'min_samples_split': 2, 'min_samples_leaf': 10}\n",
      "{'n_estimators': 70, 'max_depth': 15, 'min_samples_split': 8, 'min_samples_leaf': 2}\n",
      "{'n_estimators': 70, 'max_depth': 17, 'min_samples_split': 2, 'min_samples_leaf': 6}\n",
      "{'n_estimators': 70, 'max_depth': 17, 'min_samples_split': 8, 'min_samples_leaf': 2}\n",
      "{'n_estimators': 70, 'max_depth': 19, 'min_samples_split': 2, 'min_samples_leaf': 6}\n",
      "{'n_estimators': 70, 'max_depth': 19, 'min_samples_split': 6, 'min_samples_leaf': 10}\n",
      "{'n_estimators': 90, 'max_depth': 1, 'min_samples_split': 2, 'min_samples_leaf': 4}\n",
      "{'n_estimators': 90, 'max_depth': 1, 'min_samples_split': 4, 'min_samples_leaf': 8}\n",
      "{'n_estimators': 90, 'max_depth': 1, 'min_samples_split': 10, 'min_samples_leaf': 2}\n",
      "{'n_estimators': 90, 'max_depth': 3, 'min_samples_split': 4, 'min_samples_leaf': 6}\n",
      "{'n_estimators': 90, 'max_depth': 3, 'min_samples_split': 8, 'min_samples_leaf': 10}\n",
      "{'n_estimators': 90, 'max_depth': 5, 'min_samples_split': 4, 'min_samples_leaf': 4}\n",
      "{'n_estimators': 90, 'max_depth': 5, 'min_samples_split': 8, 'min_samples_leaf': 8}\n",
      "{'n_estimators': 90, 'max_depth': 7, 'min_samples_split': 4, 'min_samples_leaf': 2}\n",
      "{'n_estimators': 90, 'max_depth': 7, 'min_samples_split': 8, 'min_samples_leaf': 6}\n",
      "{'n_estimators': 90, 'max_depth': 9, 'min_samples_split': 2, 'min_samples_leaf': 10}\n",
      "{'n_estimators': 90, 'max_depth': 9, 'min_samples_split': 8, 'min_samples_leaf': 4}\n",
      "{'n_estimators': 90, 'max_depth': 11, 'min_samples_split': 2, 'min_samples_leaf': 8}\n",
      "{'n_estimators': 90, 'max_depth': 11, 'min_samples_split': 6, 'min_samples_leaf': 10}\n",
      "{'n_estimators': 90, 'max_depth': 13, 'min_samples_split': 2, 'min_samples_leaf': 2}\n",
      "{'n_estimators': 90, 'max_depth': 13, 'min_samples_split': 6, 'min_samples_leaf': 6}\n",
      "{'n_estimators': 90, 'max_depth': 13, 'min_samples_split': 10, 'min_samples_leaf': 10}\n",
      "{'n_estimators': 90, 'max_depth': 15, 'min_samples_split': 6, 'min_samples_leaf': 4}\n",
      "{'n_estimators': 90, 'max_depth': 15, 'min_samples_split': 10, 'min_samples_leaf': 8}\n",
      "{'n_estimators': 90, 'max_depth': 17, 'min_samples_split': 6, 'min_samples_leaf': 2}\n",
      "{'n_estimators': 90, 'max_depth': 17, 'min_samples_split': 10, 'min_samples_leaf': 6}\n",
      "{'n_estimators': 90, 'max_depth': 19, 'min_samples_split': 4, 'min_samples_leaf': 10}\n",
      "{'n_estimators': 90, 'max_depth': 19, 'min_samples_split': 10, 'min_samples_leaf': 4}\n",
      "{'n_estimators': 110, 'max_depth': 1, 'min_samples_split': 6, 'min_samples_leaf': 4}\n",
      "{'n_estimators': 110, 'max_depth': 1, 'min_samples_split': 10, 'min_samples_leaf': 8}\n",
      "{'n_estimators': 110, 'max_depth': 3, 'min_samples_split': 6, 'min_samples_leaf': 2}\n",
      "{'n_estimators': 110, 'max_depth': 3, 'min_samples_split': 10, 'min_samples_leaf': 6}\n",
      "{'n_estimators': 110, 'max_depth': 5, 'min_samples_split': 4, 'min_samples_leaf': 10}\n",
      "{'n_estimators': 110, 'max_depth': 5, 'min_samples_split': 10, 'min_samples_leaf': 4}\n",
      "{'n_estimators': 110, 'max_depth': 7, 'min_samples_split': 4, 'min_samples_leaf': 8}\n",
      "{'n_estimators': 110, 'max_depth': 7, 'min_samples_split': 10, 'min_samples_leaf': 2}\n",
      "{'n_estimators': 110, 'max_depth': 9, 'min_samples_split': 4, 'min_samples_leaf': 6}\n",
      "{'n_estimators': 110, 'max_depth': 9, 'min_samples_split': 8, 'min_samples_leaf': 10}\n",
      "{'n_estimators': 110, 'max_depth': 11, 'min_samples_split': 4, 'min_samples_leaf': 4}\n",
      "{'n_estimators': 110, 'max_depth': 11, 'min_samples_split': 8, 'min_samples_leaf': 8}\n",
      "{'n_estimators': 110, 'max_depth': 13, 'min_samples_split': 4, 'min_samples_leaf': 2}\n",
      "{'n_estimators': 110, 'max_depth': 13, 'min_samples_split': 8, 'min_samples_leaf': 8}\n",
      "{'n_estimators': 110, 'max_depth': 15, 'min_samples_split': 4, 'min_samples_leaf': 2}\n",
      "{'n_estimators': 110, 'max_depth': 15, 'min_samples_split': 8, 'min_samples_leaf': 6}\n",
      "{'n_estimators': 110, 'max_depth': 17, 'min_samples_split': 2, 'min_samples_leaf': 10}\n",
      "{'n_estimators': 110, 'max_depth': 17, 'min_samples_split': 8, 'min_samples_leaf': 2}\n",
      "{'n_estimators': 110, 'max_depth': 19, 'min_samples_split': 2, 'min_samples_leaf': 6}\n",
      "{'n_estimators': 110, 'max_depth': 19, 'min_samples_split': 6, 'min_samples_leaf': 10}\n",
      "{'n_estimators': 130, 'max_depth': 1, 'min_samples_split': 2, 'min_samples_leaf': 4}\n",
      "{'n_estimators': 130, 'max_depth': 1, 'min_samples_split': 4, 'min_samples_leaf': 8}\n",
      "{'n_estimators': 130, 'max_depth': 1, 'min_samples_split': 8, 'min_samples_leaf': 10}\n",
      "{'n_estimators': 130, 'max_depth': 3, 'min_samples_split': 4, 'min_samples_leaf': 4}\n",
      "{'n_estimators': 130, 'max_depth': 3, 'min_samples_split': 8, 'min_samples_leaf': 8}\n",
      "{'n_estimators': 130, 'max_depth': 5, 'min_samples_split': 4, 'min_samples_leaf': 2}\n",
      "{'n_estimators': 130, 'max_depth': 5, 'min_samples_split': 8, 'min_samples_leaf': 6}\n",
      "{'n_estimators': 130, 'max_depth': 7, 'min_samples_split': 2, 'min_samples_leaf': 10}\n",
      "{'n_estimators': 130, 'max_depth': 7, 'min_samples_split': 8, 'min_samples_leaf': 4}\n",
      "{'n_estimators': 130, 'max_depth': 9, 'min_samples_split': 2, 'min_samples_leaf': 8}\n",
      "{'n_estimators': 130, 'max_depth': 9, 'min_samples_split': 8, 'min_samples_leaf': 2}\n",
      "{'n_estimators': 130, 'max_depth': 11, 'min_samples_split': 2, 'min_samples_leaf': 6}\n",
      "{'n_estimators': 130, 'max_depth': 11, 'min_samples_split': 6, 'min_samples_leaf': 10}\n",
      "{'n_estimators': 130, 'max_depth': 13, 'min_samples_split': 2, 'min_samples_leaf': 4}\n",
      "{'n_estimators': 130, 'max_depth': 13, 'min_samples_split': 6, 'min_samples_leaf': 6}\n",
      "{'n_estimators': 130, 'max_depth': 13, 'min_samples_split': 10, 'min_samples_leaf': 10}\n",
      "{'n_estimators': 130, 'max_depth': 15, 'min_samples_split': 6, 'min_samples_leaf': 4}\n",
      "{'n_estimators': 130, 'max_depth': 15, 'min_samples_split': 10, 'min_samples_leaf': 8}\n",
      "{'n_estimators': 130, 'max_depth': 17, 'min_samples_split': 6, 'min_samples_leaf': 2}\n",
      "{'n_estimators': 130, 'max_depth': 17, 'min_samples_split': 10, 'min_samples_leaf': 6}\n",
      "{'n_estimators': 130, 'max_depth': 19, 'min_samples_split': 4, 'min_samples_leaf': 10}\n",
      "{'n_estimators': 130, 'max_depth': 19, 'min_samples_split': 10, 'min_samples_leaf': 4}\n",
      "{'n_estimators': 150, 'max_depth': 1, 'min_samples_split': 6, 'min_samples_leaf': 6}\n",
      "{'n_estimators': 150, 'max_depth': 1, 'min_samples_split': 10, 'min_samples_leaf': 10}\n",
      "{'n_estimators': 150, 'max_depth': 3, 'min_samples_split': 6, 'min_samples_leaf': 4}\n",
      "{'n_estimators': 150, 'max_depth': 3, 'min_samples_split': 10, 'min_samples_leaf': 8}\n",
      "{'n_estimators': 150, 'max_depth': 5, 'min_samples_split': 6, 'min_samples_leaf': 2}\n",
      "{'n_estimators': 150, 'max_depth': 5, 'min_samples_split': 10, 'min_samples_leaf': 6}\n",
      "{'n_estimators': 150, 'max_depth': 7, 'min_samples_split': 4, 'min_samples_leaf': 10}\n",
      "{'n_estimators': 150, 'max_depth': 7, 'min_samples_split': 10, 'min_samples_leaf': 4}\n",
      "{'n_estimators': 150, 'max_depth': 9, 'min_samples_split': 4, 'min_samples_leaf': 8}\n",
      "{'n_estimators': 150, 'max_depth': 9, 'min_samples_split': 8, 'min_samples_leaf': 10}\n",
      "{'n_estimators': 150, 'max_depth': 11, 'min_samples_split': 4, 'min_samples_leaf': 4}\n",
      "{'n_estimators': 150, 'max_depth': 11, 'min_samples_split': 8, 'min_samples_leaf': 6}\n",
      "{'n_estimators': 150, 'max_depth': 13, 'min_samples_split': 2, 'min_samples_leaf': 10}\n",
      "{'n_estimators': 150, 'max_depth': 13, 'min_samples_split': 8, 'min_samples_leaf': 4}\n",
      "{'n_estimators': 150, 'max_depth': 15, 'min_samples_split': 2, 'min_samples_leaf': 8}\n",
      "{'n_estimators': 150, 'max_depth': 15, 'min_samples_split': 8, 'min_samples_leaf': 2}\n",
      "{'n_estimators': 150, 'max_depth': 17, 'min_samples_split': 2, 'min_samples_leaf': 6}\n",
      "{'n_estimators': 150, 'max_depth': 17, 'min_samples_split': 6, 'min_samples_leaf': 10}\n",
      "{'n_estimators': 150, 'max_depth': 19, 'min_samples_split': 2, 'min_samples_leaf': 4}\n",
      "{'n_estimators': 150, 'max_depth': 19, 'min_samples_split': 6, 'min_samples_leaf': 8}\n",
      "{'n_estimators': 170, 'max_depth': 1, 'min_samples_split': 2, 'min_samples_leaf': 2}\n",
      "{'n_estimators': 170, 'max_depth': 1, 'min_samples_split': 4, 'min_samples_leaf': 6}\n",
      "{'n_estimators': 170, 'max_depth': 1, 'min_samples_split': 8, 'min_samples_leaf': 8}\n",
      "{'n_estimators': 170, 'max_depth': 3, 'min_samples_split': 4, 'min_samples_leaf': 2}\n",
      "{'n_estimators': 170, 'max_depth': 3, 'min_samples_split': 8, 'min_samples_leaf': 6}\n",
      "{'n_estimators': 170, 'max_depth': 5, 'min_samples_split': 2, 'min_samples_leaf': 10}\n",
      "{'n_estimators': 170, 'max_depth': 5, 'min_samples_split': 8, 'min_samples_leaf': 4}\n",
      "{'n_estimators': 170, 'max_depth': 7, 'min_samples_split': 2, 'min_samples_leaf': 8}\n",
      "{'n_estimators': 170, 'max_depth': 7, 'min_samples_split': 8, 'min_samples_leaf': 2}\n",
      "{'n_estimators': 170, 'max_depth': 9, 'min_samples_split': 2, 'min_samples_leaf': 6}\n",
      "{'n_estimators': 170, 'max_depth': 9, 'min_samples_split': 6, 'min_samples_leaf': 8}\n",
      "{'n_estimators': 170, 'max_depth': 11, 'min_samples_split': 2, 'min_samples_leaf': 2}\n",
      "{'n_estimators': 170, 'max_depth': 11, 'min_samples_split': 6, 'min_samples_leaf': 8}\n",
      "{'n_estimators': 170, 'max_depth': 13, 'min_samples_split': 2, 'min_samples_leaf': 2}\n",
      "{'n_estimators': 170, 'max_depth': 13, 'min_samples_split': 6, 'min_samples_leaf': 6}\n",
      "{'n_estimators': 170, 'max_depth': 13, 'min_samples_split': 10, 'min_samples_leaf': 10}\n",
      "{'n_estimators': 170, 'max_depth': 15, 'min_samples_split': 6, 'min_samples_leaf': 4}\n",
      "{'n_estimators': 170, 'max_depth': 15, 'min_samples_split': 10, 'min_samples_leaf': 8}\n",
      "{'n_estimators': 170, 'max_depth': 17, 'min_samples_split': 6, 'min_samples_leaf': 2}\n",
      "{'n_estimators': 170, 'max_depth': 17, 'min_samples_split': 10, 'min_samples_leaf': 6}\n",
      "{'n_estimators': 170, 'max_depth': 19, 'min_samples_split': 4, 'min_samples_leaf': 10}\n",
      "{'n_estimators': 170, 'max_depth': 19, 'min_samples_split': 10, 'min_samples_leaf': 4}\n",
      "{'n_estimators': 190, 'max_depth': 1, 'min_samples_split': 6, 'min_samples_leaf': 4}\n",
      "{'n_estimators': 10, 'max_depth': 1, 'min_samples_split': 4, 'min_samples_leaf': 6}\n",
      "{'n_estimators': 10, 'max_depth': 1, 'min_samples_split': 8, 'min_samples_leaf': 6}\n",
      "{'n_estimators': 10, 'max_depth': 3, 'min_samples_split': 4, 'min_samples_leaf': 2}\n",
      "{'n_estimators': 10, 'max_depth': 3, 'min_samples_split': 4, 'min_samples_leaf': 4}\n",
      "{'n_estimators': 10, 'max_depth': 5, 'min_samples_split': 2, 'min_samples_leaf': 10}\n",
      "{'n_estimators': 10, 'max_depth': 5, 'min_samples_split': 4, 'min_samples_leaf': 2}\n",
      "{'n_estimators': 10, 'max_depth': 7, 'min_samples_split': 2, 'min_samples_leaf': 8}\n",
      "{'n_estimators': 10, 'max_depth': 7, 'min_samples_split': 2, 'min_samples_leaf': 10}\n",
      "{'n_estimators': 10, 'max_depth': 9, 'min_samples_split': 2, 'min_samples_leaf': 6}\n",
      "{'n_estimators': 10, 'max_depth': 9, 'min_samples_split': 2, 'min_samples_leaf': 8}\n",
      "{'n_estimators': 10, 'max_depth': 11, 'min_samples_split': 2, 'min_samples_leaf': 8}\n",
      "{'n_estimators': 10, 'max_depth': 11, 'min_samples_split': 2, 'min_samples_leaf': 10}\n",
      "{'n_estimators': 10, 'max_depth': 13, 'min_samples_split': 2, 'min_samples_leaf': 6}\n",
      "{'n_estimators': 10, 'max_depth': 13, 'min_samples_split': 2, 'min_samples_leaf': 8}\n",
      "{'n_estimators': 10, 'max_depth': 13, 'min_samples_split': 10, 'min_samples_leaf': 10}\n",
      "{'n_estimators': 10, 'max_depth': 15, 'min_samples_split': 2, 'min_samples_leaf': 2}\n",
      "{'n_estimators': 10, 'max_depth': 15, 'min_samples_split': 10, 'min_samples_leaf': 8}\n",
      "{'n_estimators': 10, 'max_depth': 15, 'min_samples_split': 10, 'min_samples_leaf': 10}\n",
      "{'n_estimators': 10, 'max_depth': 17, 'min_samples_split': 10, 'min_samples_leaf': 6}\n",
      "{'n_estimators': 10, 'max_depth': 17, 'min_samples_split': 10, 'min_samples_leaf': 8}\n",
      "{'n_estimators': 10, 'max_depth': 19, 'min_samples_split': 8, 'min_samples_leaf': 10}\n",
      "{'n_estimators': 10, 'max_depth': 19, 'min_samples_split': 10, 'min_samples_leaf': 2}\n",
      "{'n_estimators': 30, 'max_depth': 1, 'min_samples_split': 8, 'min_samples_leaf': 8}\n",
      "{'n_estimators': 30, 'max_depth': 1, 'min_samples_split': 8, 'min_samples_leaf': 10}\n",
      "{'n_estimators': 30, 'max_depth': 3, 'min_samples_split': 8, 'min_samples_leaf': 6}\n",
      "{'n_estimators': 30, 'max_depth': 3, 'min_samples_split': 8, 'min_samples_leaf': 8}\n",
      "{'n_estimators': 30, 'max_depth': 5, 'min_samples_split': 8, 'min_samples_leaf': 4}\n",
      "{'n_estimators': 30, 'max_depth': 5, 'min_samples_split': 8, 'min_samples_leaf': 6}\n",
      "{'n_estimators': 30, 'max_depth': 7, 'min_samples_split': 8, 'min_samples_leaf': 2}\n",
      "{'n_estimators': 30, 'max_depth': 7, 'min_samples_split': 8, 'min_samples_leaf': 4}\n",
      "{'n_estimators': 30, 'max_depth': 9, 'min_samples_split': 6, 'min_samples_leaf': 10}\n",
      "{'n_estimators': 30, 'max_depth': 9, 'min_samples_split': 8, 'min_samples_leaf': 2}\n",
      "{'n_estimators': 30, 'max_depth': 11, 'min_samples_split': 6, 'min_samples_leaf': 8}\n",
      "{'n_estimators': 30, 'max_depth': 11, 'min_samples_split': 6, 'min_samples_leaf': 10}\n",
      "{'n_estimators': 30, 'max_depth': 13, 'min_samples_split': 6, 'min_samples_leaf': 6}\n",
      "{'n_estimators': 30, 'max_depth': 13, 'min_samples_split': 6, 'min_samples_leaf': 8}\n",
      "{'n_estimators': 30, 'max_depth': 15, 'min_samples_split': 4, 'min_samples_leaf': 10}\n",
      "{'n_estimators': 30, 'max_depth': 15, 'min_samples_split': 6, 'min_samples_leaf': 2}\n",
      "{'n_estimators': 30, 'max_depth': 17, 'min_samples_split': 4, 'min_samples_leaf': 8}\n",
      "{'n_estimators': 30, 'max_depth': 17, 'min_samples_split': 4, 'min_samples_leaf': 10}\n",
      "{'n_estimators': 30, 'max_depth': 19, 'min_samples_split': 4, 'min_samples_leaf': 6}\n",
      "{'n_estimators': 30, 'max_depth': 19, 'min_samples_split': 4, 'min_samples_leaf': 8}\n",
      "{'n_estimators': 50, 'max_depth': 1, 'min_samples_split': 2, 'min_samples_leaf': 10}\n",
      "{'n_estimators': 50, 'max_depth': 1, 'min_samples_split': 4, 'min_samples_leaf': 2}\n",
      "{'n_estimators': 50, 'max_depth': 1, 'min_samples_split': 10, 'min_samples_leaf': 6}\n",
      "{'n_estimators': 50, 'max_depth': 1, 'min_samples_split': 10, 'min_samples_leaf': 8}\n",
      "{'n_estimators': 50, 'max_depth': 3, 'min_samples_split': 8, 'min_samples_leaf': 4}\n",
      "{'n_estimators': 50, 'max_depth': 5, 'min_samples_split': 2, 'min_samples_leaf': 6}\n",
      "{'n_estimators': 50, 'max_depth': 5, 'min_samples_split': 6, 'min_samples_leaf': 10}\n",
      "{'n_estimators': 50, 'max_depth': 7, 'min_samples_split': 2, 'min_samples_leaf': 4}\n",
      "{'n_estimators': 50, 'max_depth': 7, 'min_samples_split': 6, 'min_samples_leaf': 8}\n",
      "{'n_estimators': 50, 'max_depth': 9, 'min_samples_split': 2, 'min_samples_leaf': 2}\n",
      "{'n_estimators': 50, 'max_depth': 9, 'min_samples_split': 6, 'min_samples_leaf': 6}\n",
      "{'n_estimators': 50, 'max_depth': 9, 'min_samples_split': 10, 'min_samples_leaf': 10}\n",
      "{'n_estimators': 50, 'max_depth': 11, 'min_samples_split': 6, 'min_samples_leaf': 4}\n",
      "{'n_estimators': 50, 'max_depth': 11, 'min_samples_split': 10, 'min_samples_leaf': 8}\n",
      "{'n_estimators': 50, 'max_depth': 13, 'min_samples_split': 6, 'min_samples_leaf': 2}\n",
      "{'n_estimators': 50, 'max_depth': 13, 'min_samples_split': 10, 'min_samples_leaf': 6}\n",
      "{'n_estimators': 50, 'max_depth': 15, 'min_samples_split': 4, 'min_samples_leaf': 10}\n",
      "{'n_estimators': 50, 'max_depth': 15, 'min_samples_split': 10, 'min_samples_leaf': 4}\n",
      "{'n_estimators': 50, 'max_depth': 17, 'min_samples_split': 4, 'min_samples_leaf': 8}\n",
      "{'n_estimators': 50, 'max_depth': 17, 'min_samples_split': 10, 'min_samples_leaf': 2}\n",
      "{'n_estimators': 50, 'max_depth': 19, 'min_samples_split': 4, 'min_samples_leaf': 8}\n",
      "{'n_estimators': 50, 'max_depth': 19, 'min_samples_split': 8, 'min_samples_leaf': 10}\n",
      "{'n_estimators': 70, 'max_depth': 1, 'min_samples_split': 4, 'min_samples_leaf': 4}\n",
      "{'n_estimators': 70, 'max_depth': 1, 'min_samples_split': 8, 'min_samples_leaf': 8}\n",
      "{'n_estimators': 70, 'max_depth': 3, 'min_samples_split': 4, 'min_samples_leaf': 2}\n",
      "{'n_estimators': 70, 'max_depth': 3, 'min_samples_split': 8, 'min_samples_leaf': 6}\n",
      "{'n_estimators': 70, 'max_depth': 5, 'min_samples_split': 2, 'min_samples_leaf': 10}\n",
      "{'n_estimators': 70, 'max_depth': 5, 'min_samples_split': 8, 'min_samples_leaf': 4}\n",
      "{'n_estimators': 70, 'max_depth': 7, 'min_samples_split': 2, 'min_samples_leaf': 6}\n",
      "{'n_estimators': 70, 'max_depth': 7, 'min_samples_split': 6, 'min_samples_leaf': 10}\n",
      "{'n_estimators': 70, 'max_depth': 9, 'min_samples_split': 2, 'min_samples_leaf': 6}\n",
      "{'n_estimators': 70, 'max_depth': 9, 'min_samples_split': 6, 'min_samples_leaf': 8}\n",
      "{'n_estimators': 70, 'max_depth': 11, 'min_samples_split': 2, 'min_samples_leaf': 2}\n",
      "{'n_estimators': 70, 'max_depth': 11, 'min_samples_split': 6, 'min_samples_leaf': 6}\n",
      "{'n_estimators': 70, 'max_depth': 11, 'min_samples_split': 10, 'min_samples_leaf': 10}\n",
      "{'n_estimators': 70, 'max_depth': 13, 'min_samples_split': 6, 'min_samples_leaf': 4}\n",
      "{'n_estimators': 70, 'max_depth': 13, 'min_samples_split': 10, 'min_samples_leaf': 8}\n",
      "{'n_estimators': 70, 'max_depth': 15, 'min_samples_split': 6, 'min_samples_leaf': 2}\n",
      "{'n_estimators': 70, 'max_depth': 15, 'min_samples_split': 10, 'min_samples_leaf': 6}\n",
      "{'n_estimators': 70, 'max_depth': 17, 'min_samples_split': 4, 'min_samples_leaf': 10}\n",
      "{'n_estimators': 70, 'max_depth': 17, 'min_samples_split': 10, 'min_samples_leaf': 4}\n",
      "{'n_estimators': 70, 'max_depth': 19, 'min_samples_split': 4, 'min_samples_leaf': 8}\n",
      "{'n_estimators': 70, 'max_depth': 19, 'min_samples_split': 10, 'min_samples_leaf': 2}\n",
      "{'n_estimators': 90, 'max_depth': 1, 'min_samples_split': 4, 'min_samples_leaf': 10}\n",
      "{'n_estimators': 90, 'max_depth': 1, 'min_samples_split': 10, 'min_samples_leaf': 4}\n",
      "{'n_estimators': 90, 'max_depth': 3, 'min_samples_split': 4, 'min_samples_leaf': 8}\n",
      "{'n_estimators': 90, 'max_depth': 3, 'min_samples_split': 10, 'min_samples_leaf': 2}\n",
      "{'n_estimators': 90, 'max_depth': 5, 'min_samples_split': 4, 'min_samples_leaf': 6}\n",
      "{'n_estimators': 90, 'max_depth': 5, 'min_samples_split': 8, 'min_samples_leaf': 10}\n",
      "{'n_estimators': 90, 'max_depth': 7, 'min_samples_split': 4, 'min_samples_leaf': 4}\n",
      "{'n_estimators': 90, 'max_depth': 7, 'min_samples_split': 8, 'min_samples_leaf': 8}\n",
      "{'n_estimators': 90, 'max_depth': 9, 'min_samples_split': 4, 'min_samples_leaf': 2}\n",
      "{'n_estimators': 90, 'max_depth': 9, 'min_samples_split': 8, 'min_samples_leaf': 6}\n",
      "{'n_estimators': 90, 'max_depth': 11, 'min_samples_split': 2, 'min_samples_leaf': 10}\n",
      "{'n_estimators': 90, 'max_depth': 11, 'min_samples_split': 8, 'min_samples_leaf': 2}\n",
      "{'n_estimators': 90, 'max_depth': 13, 'min_samples_split': 2, 'min_samples_leaf': 6}\n",
      "{'n_estimators': 90, 'max_depth': 13, 'min_samples_split': 6, 'min_samples_leaf': 8}\n",
      "{'n_estimators': 90, 'max_depth': 15, 'min_samples_split': 2, 'min_samples_leaf': 2}\n",
      "{'n_estimators': 90, 'max_depth': 15, 'min_samples_split': 6, 'min_samples_leaf': 8}\n",
      "{'n_estimators': 90, 'max_depth': 15, 'min_samples_split': 10, 'min_samples_leaf': 10}\n",
      "{'n_estimators': 90, 'max_depth': 17, 'min_samples_split': 6, 'min_samples_leaf': 4}\n",
      "{'n_estimators': 90, 'max_depth': 17, 'min_samples_split': 10, 'min_samples_leaf': 8}\n",
      "{'n_estimators': 90, 'max_depth': 19, 'min_samples_split': 6, 'min_samples_leaf': 2}\n",
      "{'n_estimators': 90, 'max_depth': 19, 'min_samples_split': 10, 'min_samples_leaf': 6}\n",
      "{'n_estimators': 110, 'max_depth': 1, 'min_samples_split': 8, 'min_samples_leaf': 2}\n",
      "{'n_estimators': 110, 'max_depth': 3, 'min_samples_split': 2, 'min_samples_leaf': 6}\n",
      "{'n_estimators': 110, 'max_depth': 3, 'min_samples_split': 6, 'min_samples_leaf': 10}\n",
      "{'n_estimators': 110, 'max_depth': 5, 'min_samples_split': 2, 'min_samples_leaf': 4}\n",
      "{'n_estimators': 110, 'max_depth': 5, 'min_samples_split': 6, 'min_samples_leaf': 6}\n",
      "{'n_estimators': 110, 'max_depth': 5, 'min_samples_split': 10, 'min_samples_leaf': 10}\n",
      "{'n_estimators': 110, 'max_depth': 7, 'min_samples_split': 6, 'min_samples_leaf': 4}\n",
      "{'n_estimators': 110, 'max_depth': 7, 'min_samples_split': 10, 'min_samples_leaf': 8}\n",
      "{'n_estimators': 110, 'max_depth': 9, 'min_samples_split': 6, 'min_samples_leaf': 2}\n",
      "{'n_estimators': 110, 'max_depth': 9, 'min_samples_split': 10, 'min_samples_leaf': 6}\n",
      "{'n_estimators': 110, 'max_depth': 11, 'min_samples_split': 4, 'min_samples_leaf': 10}\n",
      "{'n_estimators': 110, 'max_depth': 11, 'min_samples_split': 10, 'min_samples_leaf': 4}\n",
      "{'n_estimators': 110, 'max_depth': 13, 'min_samples_split': 4, 'min_samples_leaf': 8}\n",
      "{'n_estimators': 110, 'max_depth': 13, 'min_samples_split': 10, 'min_samples_leaf': 2}\n",
      "{'n_estimators': 110, 'max_depth': 15, 'min_samples_split': 4, 'min_samples_leaf': 6}\n",
      "{'n_estimators': 110, 'max_depth': 15, 'min_samples_split': 8, 'min_samples_leaf': 10}\n",
      "{'n_estimators': 110, 'max_depth': 17, 'min_samples_split': 4, 'min_samples_leaf': 4}\n",
      "{'n_estimators': 110, 'max_depth': 17, 'min_samples_split': 8, 'min_samples_leaf': 6}\n",
      "{'n_estimators': 110, 'max_depth': 19, 'min_samples_split': 2, 'min_samples_leaf': 10}\n",
      "{'n_estimators': 110, 'max_depth': 19, 'min_samples_split': 8, 'min_samples_leaf': 2}\n",
      "{'n_estimators': 130, 'max_depth': 1, 'min_samples_split': 2, 'min_samples_leaf': 6}\n",
      "{'n_estimators': 130, 'max_depth': 1, 'min_samples_split': 6, 'min_samples_leaf': 4}\n",
      "{'n_estimators': 130, 'max_depth': 1, 'min_samples_split': 10, 'min_samples_leaf': 8}\n",
      "{'n_estimators': 130, 'max_depth': 3, 'min_samples_split': 6, 'min_samples_leaf': 2}\n",
      "{'n_estimators': 130, 'max_depth': 3, 'min_samples_split': 10, 'min_samples_leaf': 6}\n",
      "{'n_estimators': 130, 'max_depth': 5, 'min_samples_split': 4, 'min_samples_leaf': 10}\n",
      "{'n_estimators': 130, 'max_depth': 5, 'min_samples_split': 10, 'min_samples_leaf': 4}\n",
      "{'n_estimators': 130, 'max_depth': 7, 'min_samples_split': 4, 'min_samples_leaf': 8}\n",
      "{'n_estimators': 130, 'max_depth': 7, 'min_samples_split': 10, 'min_samples_leaf': 2}\n",
      "{'n_estimators': 130, 'max_depth': 9, 'min_samples_split': 4, 'min_samples_leaf': 6}\n",
      "{'n_estimators': 130, 'max_depth': 9, 'min_samples_split': 8, 'min_samples_leaf': 10}\n",
      "{'n_estimators': 130, 'max_depth': 11, 'min_samples_split': 4, 'min_samples_leaf': 4}\n",
      "{'n_estimators': 130, 'max_depth': 11, 'min_samples_split': 8, 'min_samples_leaf': 6}\n",
      "{'n_estimators': 130, 'max_depth': 13, 'min_samples_split': 4, 'min_samples_leaf': 2}\n",
      "{'n_estimators': 130, 'max_depth': 13, 'min_samples_split': 8, 'min_samples_leaf': 6}\n",
      "{'n_estimators': 130, 'max_depth': 15, 'min_samples_split': 2, 'min_samples_leaf': 8}\n",
      "{'n_estimators': 130, 'max_depth': 15, 'min_samples_split': 8, 'min_samples_leaf': 2}\n",
      "{'n_estimators': 130, 'max_depth': 17, 'min_samples_split': 2, 'min_samples_leaf': 6}\n",
      "{'n_estimators': 130, 'max_depth': 17, 'min_samples_split': 6, 'min_samples_leaf': 10}\n",
      "{'n_estimators': 130, 'max_depth': 19, 'min_samples_split': 2, 'min_samples_leaf': 4}\n",
      "{'n_estimators': 130, 'max_depth': 19, 'min_samples_split': 6, 'min_samples_leaf': 6}\n",
      "{'n_estimators': 130, 'max_depth': 19, 'min_samples_split': 10, 'min_samples_leaf': 10}\n",
      "{'n_estimators': 150, 'max_depth': 1, 'min_samples_split': 10, 'min_samples_leaf': 2}\n",
      "{'n_estimators': 150, 'max_depth': 3, 'min_samples_split': 4, 'min_samples_leaf': 6}\n",
      "{'n_estimators': 150, 'max_depth': 3, 'min_samples_split': 8, 'min_samples_leaf': 10}\n",
      "{'n_estimators': 150, 'max_depth': 5, 'min_samples_split': 4, 'min_samples_leaf': 4}\n",
      "{'n_estimators': 150, 'max_depth': 5, 'min_samples_split': 8, 'min_samples_leaf': 8}\n",
      "{'n_estimators': 150, 'max_depth': 7, 'min_samples_split': 4, 'min_samples_leaf': 2}\n",
      "{'n_estimators': 150, 'max_depth': 7, 'min_samples_split': 8, 'min_samples_leaf': 6}\n",
      "{'n_estimators': 150, 'max_depth': 9, 'min_samples_split': 2, 'min_samples_leaf': 10}\n",
      "{'n_estimators': 150, 'max_depth': 9, 'min_samples_split': 8, 'min_samples_leaf': 2}\n",
      "{'n_estimators': 150, 'max_depth': 11, 'min_samples_split': 2, 'min_samples_leaf': 6}\n",
      "{'n_estimators': 150, 'max_depth': 11, 'min_samples_split': 8, 'min_samples_leaf': 4}\n",
      "{'n_estimators': 150, 'max_depth': 13, 'min_samples_split': 2, 'min_samples_leaf': 8}\n",
      "{'n_estimators': 150, 'max_depth': 13, 'min_samples_split': 8, 'min_samples_leaf': 2}\n",
      "{'n_estimators': 150, 'max_depth': 15, 'min_samples_split': 2, 'min_samples_leaf': 6}\n",
      "{'n_estimators': 150, 'max_depth': 15, 'min_samples_split': 6, 'min_samples_leaf': 10}\n",
      "{'n_estimators': 150, 'max_depth': 17, 'min_samples_split': 2, 'min_samples_leaf': 4}\n",
      "{'n_estimators': 150, 'max_depth': 17, 'min_samples_split': 6, 'min_samples_leaf': 6}\n",
      "{'n_estimators': 150, 'max_depth': 17, 'min_samples_split': 10, 'min_samples_leaf': 10}\n",
      "{'n_estimators': 150, 'max_depth': 19, 'min_samples_split': 6, 'min_samples_leaf': 4}\n",
      "{'n_estimators': 150, 'max_depth': 19, 'min_samples_split': 10, 'min_samples_leaf': 8}\n",
      "{'n_estimators': 170, 'max_depth': 1, 'min_samples_split': 8, 'min_samples_leaf': 6}\n",
      "{'n_estimators': 170, 'max_depth': 3, 'min_samples_split': 2, 'min_samples_leaf': 10}\n",
      "{'n_estimators': 170, 'max_depth': 3, 'min_samples_split': 8, 'min_samples_leaf': 4}\n",
      "{'n_estimators': 170, 'max_depth': 5, 'min_samples_split': 2, 'min_samples_leaf': 8}\n",
      "{'n_estimators': 170, 'max_depth': 5, 'min_samples_split': 8, 'min_samples_leaf': 2}\n",
      "{'n_estimators': 170, 'max_depth': 7, 'min_samples_split': 2, 'min_samples_leaf': 6}\n",
      "{'n_estimators': 170, 'max_depth': 7, 'min_samples_split': 6, 'min_samples_leaf': 10}\n",
      "{'n_estimators': 170, 'max_depth': 9, 'min_samples_split': 2, 'min_samples_leaf': 4}\n",
      "{'n_estimators': 170, 'max_depth': 9, 'min_samples_split': 6, 'min_samples_leaf': 10}\n",
      "{'n_estimators': 170, 'max_depth': 11, 'min_samples_split': 2, 'min_samples_leaf': 4}\n",
      "{'n_estimators': 170, 'max_depth': 11, 'min_samples_split': 6, 'min_samples_leaf': 6}\n",
      "{'n_estimators': 170, 'max_depth': 11, 'min_samples_split': 10, 'min_samples_leaf': 10}\n",
      "{'n_estimators': 170, 'max_depth': 13, 'min_samples_split': 6, 'min_samples_leaf': 4}\n",
      "{'n_estimators': 170, 'max_depth': 13, 'min_samples_split': 10, 'min_samples_leaf': 8}\n",
      "{'n_estimators': 170, 'max_depth': 15, 'min_samples_split': 6, 'min_samples_leaf': 2}\n",
      "{'n_estimators': 170, 'max_depth': 15, 'min_samples_split': 10, 'min_samples_leaf': 6}\n",
      "{'n_estimators': 170, 'max_depth': 17, 'min_samples_split': 4, 'min_samples_leaf': 10}\n",
      "{'n_estimators': 170, 'max_depth': 17, 'min_samples_split': 10, 'min_samples_leaf': 4}\n",
      "{'n_estimators': 170, 'max_depth': 19, 'min_samples_split': 4, 'min_samples_leaf': 8}\n",
      "{'n_estimators': 170, 'max_depth': 19, 'min_samples_split': 10, 'min_samples_leaf': 2}\n",
      "{'n_estimators': 190, 'max_depth': 1, 'min_samples_split': 4, 'min_samples_leaf': 10}\n",
      "{'n_estimators': 190, 'max_depth': 1, 'min_samples_split': 10, 'min_samples_leaf': 2}\n",
      "{'n_estimators': 190, 'max_depth': 3, 'min_samples_split': 4, 'min_samples_leaf': 6}\n",
      "{'n_estimators': 10, 'max_depth': 1, 'min_samples_split': 4, 'min_samples_leaf': 8}\n",
      "{'n_estimators': 10, 'max_depth': 1, 'min_samples_split': 8, 'min_samples_leaf': 8}\n",
      "{'n_estimators': 10, 'max_depth': 3, 'min_samples_split': 4, 'min_samples_leaf': 6}\n",
      "{'n_estimators': 10, 'max_depth': 3, 'min_samples_split': 4, 'min_samples_leaf': 8}\n",
      "{'n_estimators': 10, 'max_depth': 5, 'min_samples_split': 4, 'min_samples_leaf': 4}\n",
      "{'n_estimators': 10, 'max_depth': 5, 'min_samples_split': 4, 'min_samples_leaf': 6}\n",
      "{'n_estimators': 10, 'max_depth': 7, 'min_samples_split': 4, 'min_samples_leaf': 6}\n",
      "{'n_estimators': 10, 'max_depth': 7, 'min_samples_split': 4, 'min_samples_leaf': 8}\n",
      "{'n_estimators': 10, 'max_depth': 9, 'min_samples_split': 4, 'min_samples_leaf': 4}\n",
      "{'n_estimators': 10, 'max_depth': 9, 'min_samples_split': 4, 'min_samples_leaf': 6}\n",
      "{'n_estimators': 10, 'max_depth': 11, 'min_samples_split': 4, 'min_samples_leaf': 2}\n",
      "{'n_estimators': 10, 'max_depth': 11, 'min_samples_split': 4, 'min_samples_leaf': 4}\n",
      "{'n_estimators': 10, 'max_depth': 13, 'min_samples_split': 2, 'min_samples_leaf': 10}\n",
      "{'n_estimators': 10, 'max_depth': 13, 'min_samples_split': 4, 'min_samples_leaf': 2}\n",
      "{'n_estimators': 10, 'max_depth': 15, 'min_samples_split': 2, 'min_samples_leaf': 4}\n",
      "{'n_estimators': 10, 'max_depth': 15, 'min_samples_split': 2, 'min_samples_leaf': 6}\n",
      "{'n_estimators': 10, 'max_depth': 17, 'min_samples_split': 2, 'min_samples_leaf': 6}\n",
      "{'n_estimators': 10, 'max_depth': 17, 'min_samples_split': 2, 'min_samples_leaf': 8}\n",
      "{'n_estimators': 10, 'max_depth': 17, 'min_samples_split': 10, 'min_samples_leaf': 10}\n",
      "{'n_estimators': 10, 'max_depth': 19, 'min_samples_split': 2, 'min_samples_leaf': 2}\n",
      "{'n_estimators': 10, 'max_depth': 19, 'min_samples_split': 10, 'min_samples_leaf': 8}\n",
      "{'n_estimators': 10, 'max_depth': 19, 'min_samples_split': 10, 'min_samples_leaf': 10}\n",
      "{'n_estimators': 30, 'max_depth': 1, 'min_samples_split': 10, 'min_samples_leaf': 6}\n",
      "{'n_estimators': 30, 'max_depth': 1, 'min_samples_split': 10, 'min_samples_leaf': 8}\n",
      "{'n_estimators': 30, 'max_depth': 3, 'min_samples_split': 10, 'min_samples_leaf': 4}\n",
      "{'n_estimators': 30, 'max_depth': 3, 'min_samples_split': 10, 'min_samples_leaf': 6}\n",
      "{'n_estimators': 30, 'max_depth': 5, 'min_samples_split': 10, 'min_samples_leaf': 2}\n",
      "{'n_estimators': 30, 'max_depth': 5, 'min_samples_split': 10, 'min_samples_leaf': 4}\n",
      "{'n_estimators': 30, 'max_depth': 7, 'min_samples_split': 8, 'min_samples_leaf': 10}\n",
      "{'n_estimators': 30, 'max_depth': 7, 'min_samples_split': 10, 'min_samples_leaf': 2}\n",
      "{'n_estimators': 30, 'max_depth': 9, 'min_samples_split': 8, 'min_samples_leaf': 8}\n",
      "{'n_estimators': 30, 'max_depth': 9, 'min_samples_split': 8, 'min_samples_leaf': 10}\n",
      "{'n_estimators': 30, 'max_depth': 11, 'min_samples_split': 8, 'min_samples_leaf': 6}\n",
      "{'n_estimators': 30, 'max_depth': 11, 'min_samples_split': 8, 'min_samples_leaf': 8}\n",
      "{'n_estimators': 30, 'max_depth': 13, 'min_samples_split': 8, 'min_samples_leaf': 4}\n",
      "{'n_estimators': 30, 'max_depth': 13, 'min_samples_split': 8, 'min_samples_leaf': 6}\n",
      "{'n_estimators': 30, 'max_depth': 15, 'min_samples_split': 8, 'min_samples_leaf': 2}\n",
      "{'n_estimators': 30, 'max_depth': 15, 'min_samples_split': 8, 'min_samples_leaf': 4}\n",
      "{'n_estimators': 30, 'max_depth': 17, 'min_samples_split': 6, 'min_samples_leaf': 10}\n",
      "{'n_estimators': 30, 'max_depth': 17, 'min_samples_split': 8, 'min_samples_leaf': 2}\n",
      "{'n_estimators': 30, 'max_depth': 19, 'min_samples_split': 6, 'min_samples_leaf': 8}\n",
      "{'n_estimators': 30, 'max_depth': 19, 'min_samples_split': 6, 'min_samples_leaf': 10}\n",
      "{'n_estimators': 50, 'max_depth': 1, 'min_samples_split': 6, 'min_samples_leaf': 2}\n",
      "{'n_estimators': 50, 'max_depth': 1, 'min_samples_split': 6, 'min_samples_leaf': 4}\n",
      "{'n_estimators': 50, 'max_depth': 3, 'min_samples_split': 4, 'min_samples_leaf': 2}\n",
      "{'n_estimators': 50, 'max_depth': 3, 'min_samples_split': 6, 'min_samples_leaf': 10}\n",
      "{'n_estimators': 50, 'max_depth': 5, 'min_samples_split': 2, 'min_samples_leaf': 4}\n",
      "{'n_estimators': 50, 'max_depth': 5, 'min_samples_split': 6, 'min_samples_leaf': 8}\n",
      "{'n_estimators': 50, 'max_depth': 7, 'min_samples_split': 2, 'min_samples_leaf': 2}\n",
      "{'n_estimators': 50, 'max_depth': 7, 'min_samples_split': 6, 'min_samples_leaf': 6}\n",
      "{'n_estimators': 50, 'max_depth': 7, 'min_samples_split': 10, 'min_samples_leaf': 10}\n",
      "{'n_estimators': 50, 'max_depth': 9, 'min_samples_split': 6, 'min_samples_leaf': 4}\n",
      "{'n_estimators': 50, 'max_depth': 9, 'min_samples_split': 10, 'min_samples_leaf': 8}\n",
      "{'n_estimators': 50, 'max_depth': 11, 'min_samples_split': 6, 'min_samples_leaf': 2}\n",
      "{'n_estimators': 50, 'max_depth': 11, 'min_samples_split': 10, 'min_samples_leaf': 6}\n",
      "{'n_estimators': 50, 'max_depth': 13, 'min_samples_split': 4, 'min_samples_leaf': 10}\n",
      "{'n_estimators': 50, 'max_depth': 13, 'min_samples_split': 10, 'min_samples_leaf': 4}\n",
      "{'n_estimators': 50, 'max_depth': 15, 'min_samples_split': 4, 'min_samples_leaf': 8}\n",
      "{'n_estimators': 50, 'max_depth': 15, 'min_samples_split': 10, 'min_samples_leaf': 2}\n",
      "{'n_estimators': 50, 'max_depth': 17, 'min_samples_split': 4, 'min_samples_leaf': 6}\n",
      "{'n_estimators': 50, 'max_depth': 17, 'min_samples_split': 8, 'min_samples_leaf': 10}\n",
      "{'n_estimators': 50, 'max_depth': 19, 'min_samples_split': 4, 'min_samples_leaf': 4}\n",
      "{'n_estimators': 50, 'max_depth': 19, 'min_samples_split': 8, 'min_samples_leaf': 6}\n",
      "{'n_estimators': 70, 'max_depth': 1, 'min_samples_split': 4, 'min_samples_leaf': 2}\n",
      "{'n_estimators': 70, 'max_depth': 1, 'min_samples_split': 8, 'min_samples_leaf': 6}\n",
      "{'n_estimators': 70, 'max_depth': 3, 'min_samples_split': 2, 'min_samples_leaf': 10}\n",
      "{'n_estimators': 70, 'max_depth': 3, 'min_samples_split': 8, 'min_samples_leaf': 4}\n",
      "{'n_estimators': 70, 'max_depth': 5, 'min_samples_split': 2, 'min_samples_leaf': 8}\n",
      "{'n_estimators': 70, 'max_depth': 5, 'min_samples_split': 8, 'min_samples_leaf': 2}\n",
      "{'n_estimators': 70, 'max_depth': 7, 'min_samples_split': 2, 'min_samples_leaf': 8}\n",
      "{'n_estimators': 70, 'max_depth': 7, 'min_samples_split': 8, 'min_samples_leaf': 2}\n",
      "{'n_estimators': 70, 'max_depth': 9, 'min_samples_split': 2, 'min_samples_leaf': 4}\n",
      "{'n_estimators': 70, 'max_depth': 9, 'min_samples_split': 6, 'min_samples_leaf': 6}\n",
      "{'n_estimators': 70, 'max_depth': 9, 'min_samples_split': 10, 'min_samples_leaf': 10}\n",
      "{'n_estimators': 70, 'max_depth': 11, 'min_samples_split': 6, 'min_samples_leaf': 4}\n",
      "{'n_estimators': 70, 'max_depth': 11, 'min_samples_split': 10, 'min_samples_leaf': 8}\n",
      "{'n_estimators': 70, 'max_depth': 13, 'min_samples_split': 6, 'min_samples_leaf': 2}\n",
      "{'n_estimators': 70, 'max_depth': 13, 'min_samples_split': 10, 'min_samples_leaf': 6}\n",
      "{'n_estimators': 70, 'max_depth': 15, 'min_samples_split': 4, 'min_samples_leaf': 10}\n",
      "{'n_estimators': 70, 'max_depth': 15, 'min_samples_split': 10, 'min_samples_leaf': 4}\n",
      "{'n_estimators': 70, 'max_depth': 17, 'min_samples_split': 4, 'min_samples_leaf': 8}\n",
      "{'n_estimators': 70, 'max_depth': 17, 'min_samples_split': 10, 'min_samples_leaf': 2}\n",
      "{'n_estimators': 70, 'max_depth': 19, 'min_samples_split': 4, 'min_samples_leaf': 6}\n",
      "{'n_estimators': 70, 'max_depth': 19, 'min_samples_split': 8, 'min_samples_leaf': 6}\n",
      "{'n_estimators': 90, 'max_depth': 1, 'min_samples_split': 2, 'min_samples_leaf': 10}\n",
      "{'n_estimators': 90, 'max_depth': 1, 'min_samples_split': 8, 'min_samples_leaf': 2}\n",
      "{'n_estimators': 90, 'max_depth': 3, 'min_samples_split': 2, 'min_samples_leaf': 6}\n",
      "{'n_estimators': 90, 'max_depth': 3, 'min_samples_split': 6, 'min_samples_leaf': 10}\n",
      "{'n_estimators': 90, 'max_depth': 5, 'min_samples_split': 2, 'min_samples_leaf': 4}\n",
      "{'n_estimators': 90, 'max_depth': 5, 'min_samples_split': 6, 'min_samples_leaf': 8}\n",
      "{'n_estimators': 90, 'max_depth': 7, 'min_samples_split': 2, 'min_samples_leaf': 2}\n",
      "{'n_estimators': 90, 'max_depth': 7, 'min_samples_split': 6, 'min_samples_leaf': 6}\n",
      "{'n_estimators': 90, 'max_depth': 7, 'min_samples_split': 10, 'min_samples_leaf': 10}\n",
      "{'n_estimators': 90, 'max_depth': 9, 'min_samples_split': 6, 'min_samples_leaf': 4}\n",
      "{'n_estimators': 90, 'max_depth': 9, 'min_samples_split': 10, 'min_samples_leaf': 8}\n",
      "{'n_estimators': 90, 'max_depth': 11, 'min_samples_split': 6, 'min_samples_leaf': 2}\n",
      "{'n_estimators': 90, 'max_depth': 11, 'min_samples_split': 10, 'min_samples_leaf': 6}\n",
      "{'n_estimators': 90, 'max_depth': 13, 'min_samples_split': 4, 'min_samples_leaf': 10}\n",
      "{'n_estimators': 90, 'max_depth': 13, 'min_samples_split': 10, 'min_samples_leaf': 4}\n",
      "{'n_estimators': 90, 'max_depth': 15, 'min_samples_split': 4, 'min_samples_leaf': 8}\n",
      "{'n_estimators': 90, 'max_depth': 15, 'min_samples_split': 10, 'min_samples_leaf': 2}\n",
      "{'n_estimators': 90, 'max_depth': 17, 'min_samples_split': 4, 'min_samples_leaf': 6}\n",
      "{'n_estimators': 90, 'max_depth': 17, 'min_samples_split': 8, 'min_samples_leaf': 10}\n",
      "{'n_estimators': 90, 'max_depth': 19, 'min_samples_split': 4, 'min_samples_leaf': 2}\n",
      "{'n_estimators': 90, 'max_depth': 19, 'min_samples_split': 8, 'min_samples_leaf': 8}\n",
      "{'n_estimators': 110, 'max_depth': 1, 'min_samples_split': 4, 'min_samples_leaf': 2}\n",
      "{'n_estimators': 110, 'max_depth': 1, 'min_samples_split': 8, 'min_samples_leaf': 4}\n",
      "{'n_estimators': 110, 'max_depth': 3, 'min_samples_split': 2, 'min_samples_leaf': 8}\n",
      "{'n_estimators': 110, 'max_depth': 3, 'min_samples_split': 8, 'min_samples_leaf': 2}\n",
      "{'n_estimators': 110, 'max_depth': 5, 'min_samples_split': 2, 'min_samples_leaf': 6}\n",
      "{'n_estimators': 110, 'max_depth': 5, 'min_samples_split': 6, 'min_samples_leaf': 10}\n",
      "{'n_estimators': 110, 'max_depth': 7, 'min_samples_split': 2, 'min_samples_leaf': 4}\n",
      "{'n_estimators': 110, 'max_depth': 7, 'min_samples_split': 6, 'min_samples_leaf': 8}\n",
      "{'n_estimators': 110, 'max_depth': 9, 'min_samples_split': 2, 'min_samples_leaf': 2}\n",
      "{'n_estimators': 110, 'max_depth': 9, 'min_samples_split': 6, 'min_samples_leaf': 10}\n",
      "{'n_estimators': 110, 'max_depth': 11, 'min_samples_split': 2, 'min_samples_leaf': 4}\n",
      "{'n_estimators': 110, 'max_depth': 11, 'min_samples_split': 6, 'min_samples_leaf': 6}\n",
      "{'n_estimators': 110, 'max_depth': 13, 'min_samples_split': 2, 'min_samples_leaf': 4}\n",
      "{'n_estimators': 110, 'max_depth': 13, 'min_samples_split': 6, 'min_samples_leaf': 8}\n",
      "{'n_estimators': 110, 'max_depth': 15, 'min_samples_split': 2, 'min_samples_leaf': 2}\n",
      "{'n_estimators': 110, 'max_depth': 15, 'min_samples_split': 6, 'min_samples_leaf': 8}\n",
      "{'n_estimators': 110, 'max_depth': 17, 'min_samples_split': 2, 'min_samples_leaf': 2}\n",
      "{'n_estimators': 110, 'max_depth': 17, 'min_samples_split': 6, 'min_samples_leaf': 8}\n",
      "{'n_estimators': 110, 'max_depth': 19, 'min_samples_split': 2, 'min_samples_leaf': 2}\n",
      "{'n_estimators': 110, 'max_depth': 19, 'min_samples_split': 6, 'min_samples_leaf': 8}\n",
      "{'n_estimators': 110, 'max_depth': 19, 'min_samples_split': 10, 'min_samples_leaf': 10}\n",
      "{'n_estimators': 130, 'max_depth': 1, 'min_samples_split': 10, 'min_samples_leaf': 2}\n",
      "{'n_estimators': 130, 'max_depth': 3, 'min_samples_split': 4, 'min_samples_leaf': 6}\n",
      "{'n_estimators': 130, 'max_depth': 3, 'min_samples_split': 8, 'min_samples_leaf': 10}\n",
      "{'n_estimators': 130, 'max_depth': 5, 'min_samples_split': 4, 'min_samples_leaf': 4}\n",
      "{'n_estimators': 130, 'max_depth': 5, 'min_samples_split': 8, 'min_samples_leaf': 8}\n",
      "{'n_estimators': 130, 'max_depth': 7, 'min_samples_split': 4, 'min_samples_leaf': 2}\n",
      "{'n_estimators': 130, 'max_depth': 7, 'min_samples_split': 8, 'min_samples_leaf': 6}\n",
      "{'n_estimators': 130, 'max_depth': 9, 'min_samples_split': 2, 'min_samples_leaf': 10}\n",
      "{'n_estimators': 130, 'max_depth': 9, 'min_samples_split': 8, 'min_samples_leaf': 4}\n",
      "{'n_estimators': 130, 'max_depth': 11, 'min_samples_split': 2, 'min_samples_leaf': 8}\n",
      "{'n_estimators': 130, 'max_depth': 11, 'min_samples_split': 8, 'min_samples_leaf': 2}\n",
      "{'n_estimators': 130, 'max_depth': 13, 'min_samples_split': 2, 'min_samples_leaf': 6}\n",
      "{'n_estimators': 130, 'max_depth': 13, 'min_samples_split': 6, 'min_samples_leaf': 10}\n",
      "{'n_estimators': 130, 'max_depth': 15, 'min_samples_split': 2, 'min_samples_leaf': 4}\n",
      "{'n_estimators': 130, 'max_depth': 15, 'min_samples_split': 6, 'min_samples_leaf': 6}\n",
      "{'n_estimators': 130, 'max_depth': 15, 'min_samples_split': 10, 'min_samples_leaf': 10}\n",
      "{'n_estimators': 130, 'max_depth': 17, 'min_samples_split': 6, 'min_samples_leaf': 4}\n",
      "{'n_estimators': 130, 'max_depth': 17, 'min_samples_split': 10, 'min_samples_leaf': 8}\n",
      "{'n_estimators': 130, 'max_depth': 19, 'min_samples_split': 6, 'min_samples_leaf': 2}\n",
      "{'n_estimators': 130, 'max_depth': 19, 'min_samples_split': 10, 'min_samples_leaf': 6}\n",
      "{'n_estimators': 150, 'max_depth': 1, 'min_samples_split': 8, 'min_samples_leaf': 2}\n",
      "{'n_estimators': 150, 'max_depth': 3, 'min_samples_split': 2, 'min_samples_leaf': 6}\n",
      "{'n_estimators': 150, 'max_depth': 3, 'min_samples_split': 6, 'min_samples_leaf': 10}\n",
      "{'n_estimators': 150, 'max_depth': 5, 'min_samples_split': 2, 'min_samples_leaf': 4}\n",
      "{'n_estimators': 150, 'max_depth': 5, 'min_samples_split': 6, 'min_samples_leaf': 8}\n",
      "{'n_estimators': 150, 'max_depth': 7, 'min_samples_split': 2, 'min_samples_leaf': 2}\n",
      "{'n_estimators': 150, 'max_depth': 7, 'min_samples_split': 6, 'min_samples_leaf': 6}\n",
      "{'n_estimators': 150, 'max_depth': 7, 'min_samples_split': 10, 'min_samples_leaf': 10}\n",
      "{'n_estimators': 150, 'max_depth': 9, 'min_samples_split': 6, 'min_samples_leaf': 4}\n",
      "{'n_estimators': 150, 'max_depth': 9, 'min_samples_split': 10, 'min_samples_leaf': 8}\n",
      "{'n_estimators': 150, 'max_depth': 11, 'min_samples_split': 6, 'min_samples_leaf': 2}\n",
      "{'n_estimators': 150, 'max_depth': 11, 'min_samples_split': 10, 'min_samples_leaf': 6}\n",
      "{'n_estimators': 150, 'max_depth': 13, 'min_samples_split': 4, 'min_samples_leaf': 10}\n",
      "{'n_estimators': 150, 'max_depth': 13, 'min_samples_split': 10, 'min_samples_leaf': 4}\n",
      "{'n_estimators': 150, 'max_depth': 15, 'min_samples_split': 4, 'min_samples_leaf': 8}\n",
      "{'n_estimators': 150, 'max_depth': 15, 'min_samples_split': 10, 'min_samples_leaf': 2}\n",
      "{'n_estimators': 150, 'max_depth': 17, 'min_samples_split': 4, 'min_samples_leaf': 6}\n",
      "{'n_estimators': 150, 'max_depth': 17, 'min_samples_split': 8, 'min_samples_leaf': 10}\n",
      "{'n_estimators': 150, 'max_depth': 19, 'min_samples_split': 4, 'min_samples_leaf': 4}\n",
      "{'n_estimators': 150, 'max_depth': 19, 'min_samples_split': 8, 'min_samples_leaf': 6}\n",
      "{'n_estimators': 170, 'max_depth': 1, 'min_samples_split': 2, 'min_samples_leaf': 10}\n",
      "{'n_estimators': 170, 'max_depth': 1, 'min_samples_split': 6, 'min_samples_leaf': 8}\n",
      "{'n_estimators': 170, 'max_depth': 3, 'min_samples_split': 2, 'min_samples_leaf': 2}\n",
      "{'n_estimators': 170, 'max_depth': 3, 'min_samples_split': 6, 'min_samples_leaf': 6}\n",
      "{'n_estimators': 170, 'max_depth': 3, 'min_samples_split': 10, 'min_samples_leaf': 10}\n",
      "{'n_estimators': 170, 'max_depth': 5, 'min_samples_split': 6, 'min_samples_leaf': 4}\n",
      "{'n_estimators': 170, 'max_depth': 5, 'min_samples_split': 10, 'min_samples_leaf': 8}\n",
      "{'n_estimators': 170, 'max_depth': 7, 'min_samples_split': 6, 'min_samples_leaf': 2}\n",
      "{'n_estimators': 170, 'max_depth': 7, 'min_samples_split': 10, 'min_samples_leaf': 6}\n",
      "{'n_estimators': 170, 'max_depth': 9, 'min_samples_split': 4, 'min_samples_leaf': 10}\n",
      "{'n_estimators': 170, 'max_depth': 9, 'min_samples_split': 10, 'min_samples_leaf': 4}\n",
      "{'n_estimators': 170, 'max_depth': 11, 'min_samples_split': 4, 'min_samples_leaf': 8}\n",
      "{'n_estimators': 170, 'max_depth': 11, 'min_samples_split': 10, 'min_samples_leaf': 2}\n",
      "{'n_estimators': 170, 'max_depth': 13, 'min_samples_split': 4, 'min_samples_leaf': 6}\n",
      "{'n_estimators': 170, 'max_depth': 13, 'min_samples_split': 8, 'min_samples_leaf': 10}\n",
      "{'n_estimators': 170, 'max_depth': 15, 'min_samples_split': 4, 'min_samples_leaf': 4}\n",
      "{'n_estimators': 170, 'max_depth': 15, 'min_samples_split': 8, 'min_samples_leaf': 6}\n",
      "{'n_estimators': 170, 'max_depth': 17, 'min_samples_split': 2, 'min_samples_leaf': 10}\n",
      "{'n_estimators': 170, 'max_depth': 17, 'min_samples_split': 8, 'min_samples_leaf': 4}\n",
      "{'n_estimators': 170, 'max_depth': 19, 'min_samples_split': 2, 'min_samples_leaf': 8}\n",
      "{'n_estimators': 170, 'max_depth': 19, 'min_samples_split': 8, 'min_samples_leaf': 2}\n",
      "{'n_estimators': 190, 'max_depth': 1, 'min_samples_split': 2, 'min_samples_leaf': 6}\n",
      "{'n_estimators': 190, 'max_depth': 1, 'min_samples_split': 6, 'min_samples_leaf': 2}\n",
      "{'n_estimators': 190, 'max_depth': 1, 'min_samples_split': 10, 'min_samples_leaf': 6}\n",
      "{'n_estimators': 190, 'max_depth': 3, 'min_samples_split': 4, 'min_samples_leaf': 10}\n",
      "{'n_estimators': 10, 'max_depth': 1, 'min_samples_split': 10, 'min_samples_leaf': 2}\n",
      "{'n_estimators': 10, 'max_depth': 3, 'min_samples_split': 4, 'min_samples_leaf': 10}\n",
      "{'n_estimators': 10, 'max_depth': 3, 'min_samples_split': 6, 'min_samples_leaf': 2}\n",
      "{'n_estimators': 10, 'max_depth': 5, 'min_samples_split': 4, 'min_samples_leaf': 8}\n",
      "{'n_estimators': 10, 'max_depth': 5, 'min_samples_split': 4, 'min_samples_leaf': 10}\n",
      "{'n_estimators': 10, 'max_depth': 7, 'min_samples_split': 2, 'min_samples_leaf': 4}\n",
      "{'n_estimators': 10, 'max_depth': 7, 'min_samples_split': 2, 'min_samples_leaf': 6}\n",
      "{'n_estimators': 10, 'max_depth': 9, 'min_samples_split': 2, 'min_samples_leaf': 2}\n",
      "{'n_estimators': 10, 'max_depth': 9, 'min_samples_split': 2, 'min_samples_leaf': 4}\n",
      "{'n_estimators': 10, 'max_depth': 9, 'min_samples_split': 10, 'min_samples_leaf': 10}\n",
      "{'n_estimators': 10, 'max_depth': 11, 'min_samples_split': 2, 'min_samples_leaf': 2}\n",
      "{'n_estimators': 10, 'max_depth': 11, 'min_samples_split': 10, 'min_samples_leaf': 8}\n",
      "{'n_estimators': 10, 'max_depth': 11, 'min_samples_split': 10, 'min_samples_leaf': 10}\n",
      "{'n_estimators': 10, 'max_depth': 13, 'min_samples_split': 10, 'min_samples_leaf': 6}\n",
      "{'n_estimators': 10, 'max_depth': 13, 'min_samples_split': 10, 'min_samples_leaf': 8}\n",
      "{'n_estimators': 10, 'max_depth': 15, 'min_samples_split': 10, 'min_samples_leaf': 4}\n",
      "{'n_estimators': 10, 'max_depth': 15, 'min_samples_split': 10, 'min_samples_leaf': 6}\n",
      "{'n_estimators': 10, 'max_depth': 17, 'min_samples_split': 10, 'min_samples_leaf': 2}\n",
      "{'n_estimators': 10, 'max_depth': 17, 'min_samples_split': 10, 'min_samples_leaf': 4}\n",
      "{'n_estimators': 10, 'max_depth': 19, 'min_samples_split': 10, 'min_samples_leaf': 4}\n",
      "{'n_estimators': 10, 'max_depth': 19, 'min_samples_split': 10, 'min_samples_leaf': 6}\n",
      "{'n_estimators': 30, 'max_depth': 1, 'min_samples_split': 10, 'min_samples_leaf': 2}\n",
      "{'n_estimators': 30, 'max_depth': 1, 'min_samples_split': 10, 'min_samples_leaf': 4}\n",
      "{'n_estimators': 30, 'max_depth': 3, 'min_samples_split': 8, 'min_samples_leaf': 10}\n",
      "{'n_estimators': 30, 'max_depth': 3, 'min_samples_split': 10, 'min_samples_leaf': 2}\n",
      "{'n_estimators': 30, 'max_depth': 5, 'min_samples_split': 8, 'min_samples_leaf': 8}\n",
      "{'n_estimators': 30, 'max_depth': 5, 'min_samples_split': 8, 'min_samples_leaf': 10}\n",
      "{'n_estimators': 30, 'max_depth': 7, 'min_samples_split': 8, 'min_samples_leaf': 6}\n",
      "{'n_estimators': 30, 'max_depth': 7, 'min_samples_split': 8, 'min_samples_leaf': 8}\n",
      "{'n_estimators': 30, 'max_depth': 9, 'min_samples_split': 8, 'min_samples_leaf': 4}\n",
      "{'n_estimators': 30, 'max_depth': 9, 'min_samples_split': 8, 'min_samples_leaf': 6}\n",
      "{'n_estimators': 30, 'max_depth': 11, 'min_samples_split': 8, 'min_samples_leaf': 2}\n",
      "{'n_estimators': 30, 'max_depth': 11, 'min_samples_split': 8, 'min_samples_leaf': 4}\n",
      "{'n_estimators': 30, 'max_depth': 13, 'min_samples_split': 6, 'min_samples_leaf': 10}\n",
      "{'n_estimators': 30, 'max_depth': 13, 'min_samples_split': 8, 'min_samples_leaf': 2}\n",
      "{'n_estimators': 30, 'max_depth': 15, 'min_samples_split': 6, 'min_samples_leaf': 4}\n",
      "{'n_estimators': 30, 'max_depth': 15, 'min_samples_split': 6, 'min_samples_leaf': 6}\n",
      "{'n_estimators': 30, 'max_depth': 17, 'min_samples_split': 6, 'min_samples_leaf': 6}\n",
      "{'n_estimators': 30, 'max_depth': 17, 'min_samples_split': 6, 'min_samples_leaf': 8}\n",
      "{'n_estimators': 30, 'max_depth': 19, 'min_samples_split': 4, 'min_samples_leaf': 10}\n",
      "{'n_estimators': 30, 'max_depth': 19, 'min_samples_split': 6, 'min_samples_leaf': 2}\n",
      "{'n_estimators': 50, 'max_depth': 1, 'min_samples_split': 4, 'min_samples_leaf': 8}\n",
      "{'n_estimators': 50, 'max_depth': 1, 'min_samples_split': 4, 'min_samples_leaf': 10}\n",
      "{'n_estimators': 50, 'max_depth': 3, 'min_samples_split': 2, 'min_samples_leaf': 8}\n",
      "{'n_estimators': 50, 'max_depth': 3, 'min_samples_split': 6, 'min_samples_leaf': 6}\n",
      "{'n_estimators': 50, 'max_depth': 3, 'min_samples_split': 10, 'min_samples_leaf': 10}\n",
      "{'n_estimators': 50, 'max_depth': 5, 'min_samples_split': 6, 'min_samples_leaf': 4}\n",
      "{'n_estimators': 50, 'max_depth': 5, 'min_samples_split': 10, 'min_samples_leaf': 8}\n",
      "{'n_estimators': 50, 'max_depth': 7, 'min_samples_split': 6, 'min_samples_leaf': 2}\n",
      "{'n_estimators': 50, 'max_depth': 7, 'min_samples_split': 10, 'min_samples_leaf': 6}\n",
      "{'n_estimators': 50, 'max_depth': 9, 'min_samples_split': 4, 'min_samples_leaf': 8}\n",
      "{'n_estimators': 50, 'max_depth': 9, 'min_samples_split': 10, 'min_samples_leaf': 2}\n",
      "{'n_estimators': 50, 'max_depth': 11, 'min_samples_split': 4, 'min_samples_leaf': 6}\n",
      "{'n_estimators': 50, 'max_depth': 11, 'min_samples_split': 8, 'min_samples_leaf': 10}\n",
      "{'n_estimators': 50, 'max_depth': 13, 'min_samples_split': 4, 'min_samples_leaf': 4}\n",
      "{'n_estimators': 50, 'max_depth': 13, 'min_samples_split': 8, 'min_samples_leaf': 6}\n",
      "{'n_estimators': 50, 'max_depth': 15, 'min_samples_split': 2, 'min_samples_leaf': 10}\n",
      "{'n_estimators': 50, 'max_depth': 15, 'min_samples_split': 8, 'min_samples_leaf': 4}\n",
      "{'n_estimators': 50, 'max_depth': 17, 'min_samples_split': 2, 'min_samples_leaf': 8}\n",
      "{'n_estimators': 50, 'max_depth': 17, 'min_samples_split': 8, 'min_samples_leaf': 2}\n",
      "{'n_estimators': 50, 'max_depth': 19, 'min_samples_split': 2, 'min_samples_leaf': 6}\n",
      "{'n_estimators': 50, 'max_depth': 19, 'min_samples_split': 8, 'min_samples_leaf': 2}\n",
      "{'n_estimators': 70, 'max_depth': 1, 'min_samples_split': 2, 'min_samples_leaf': 6}\n",
      "{'n_estimators': 70, 'max_depth': 1, 'min_samples_split': 6, 'min_samples_leaf': 4}\n",
      "{'n_estimators': 70, 'max_depth': 1, 'min_samples_split': 10, 'min_samples_leaf': 8}\n",
      "{'n_estimators': 70, 'max_depth': 3, 'min_samples_split': 6, 'min_samples_leaf': 2}\n",
      "{'n_estimators': 70, 'max_depth': 3, 'min_samples_split': 10, 'min_samples_leaf': 6}\n",
      "{'n_estimators': 70, 'max_depth': 5, 'min_samples_split': 4, 'min_samples_leaf': 10}\n",
      "{'n_estimators': 70, 'max_depth': 5, 'min_samples_split': 10, 'min_samples_leaf': 4}\n",
      "{'n_estimators': 70, 'max_depth': 7, 'min_samples_split': 4, 'min_samples_leaf': 8}\n",
      "{'n_estimators': 70, 'max_depth': 7, 'min_samples_split': 10, 'min_samples_leaf': 2}\n",
      "{'n_estimators': 70, 'max_depth': 9, 'min_samples_split': 4, 'min_samples_leaf': 6}\n",
      "{'n_estimators': 70, 'max_depth': 9, 'min_samples_split': 8, 'min_samples_leaf': 10}\n",
      "{'n_estimators': 70, 'max_depth': 11, 'min_samples_split': 4, 'min_samples_leaf': 4}\n",
      "{'n_estimators': 70, 'max_depth': 11, 'min_samples_split': 8, 'min_samples_leaf': 8}\n",
      "{'n_estimators': 70, 'max_depth': 13, 'min_samples_split': 4, 'min_samples_leaf': 2}\n",
      "{'n_estimators': 70, 'max_depth': 13, 'min_samples_split': 8, 'min_samples_leaf': 6}\n",
      "{'n_estimators': 70, 'max_depth': 15, 'min_samples_split': 4, 'min_samples_leaf': 2}\n",
      "{'n_estimators': 70, 'max_depth': 15, 'min_samples_split': 8, 'min_samples_leaf': 6}\n",
      "{'n_estimators': 70, 'max_depth': 17, 'min_samples_split': 2, 'min_samples_leaf': 10}\n",
      "{'n_estimators': 70, 'max_depth': 17, 'min_samples_split': 8, 'min_samples_leaf': 4}\n",
      "{'n_estimators': 70, 'max_depth': 19, 'min_samples_split': 2, 'min_samples_leaf': 8}\n",
      "{'n_estimators': 70, 'max_depth': 19, 'min_samples_split': 8, 'min_samples_leaf': 2}\n",
      "{'n_estimators': 90, 'max_depth': 1, 'min_samples_split': 2, 'min_samples_leaf': 6}\n",
      "{'n_estimators': 90, 'max_depth': 1, 'min_samples_split': 6, 'min_samples_leaf': 2}\n",
      "{'n_estimators': 90, 'max_depth': 1, 'min_samples_split': 10, 'min_samples_leaf': 6}\n",
      "{'n_estimators': 90, 'max_depth': 3, 'min_samples_split': 4, 'min_samples_leaf': 10}\n",
      "{'n_estimators': 90, 'max_depth': 3, 'min_samples_split': 10, 'min_samples_leaf': 4}\n",
      "{'n_estimators': 90, 'max_depth': 5, 'min_samples_split': 4, 'min_samples_leaf': 8}\n",
      "{'n_estimators': 90, 'max_depth': 5, 'min_samples_split': 10, 'min_samples_leaf': 2}\n",
      "{'n_estimators': 90, 'max_depth': 7, 'min_samples_split': 4, 'min_samples_leaf': 6}\n",
      "{'n_estimators': 90, 'max_depth': 7, 'min_samples_split': 8, 'min_samples_leaf': 10}\n",
      "{'n_estimators': 90, 'max_depth': 9, 'min_samples_split': 4, 'min_samples_leaf': 4}\n",
      "{'n_estimators': 90, 'max_depth': 9, 'min_samples_split': 8, 'min_samples_leaf': 8}\n",
      "{'n_estimators': 90, 'max_depth': 11, 'min_samples_split': 4, 'min_samples_leaf': 2}\n",
      "{'n_estimators': 90, 'max_depth': 11, 'min_samples_split': 8, 'min_samples_leaf': 6}\n",
      "{'n_estimators': 90, 'max_depth': 13, 'min_samples_split': 2, 'min_samples_leaf': 10}\n",
      "{'n_estimators': 90, 'max_depth': 13, 'min_samples_split': 8, 'min_samples_leaf': 4}\n",
      "{'n_estimators': 90, 'max_depth': 15, 'min_samples_split': 2, 'min_samples_leaf': 8}\n",
      "{'n_estimators': 90, 'max_depth': 15, 'min_samples_split': 8, 'min_samples_leaf': 2}\n",
      "{'n_estimators': 90, 'max_depth': 17, 'min_samples_split': 2, 'min_samples_leaf': 6}\n",
      "{'n_estimators': 90, 'max_depth': 17, 'min_samples_split': 6, 'min_samples_leaf': 10}\n",
      "{'n_estimators': 90, 'max_depth': 19, 'min_samples_split': 2, 'min_samples_leaf': 2}\n",
      "{'n_estimators': 90, 'max_depth': 19, 'min_samples_split': 6, 'min_samples_leaf': 6}\n",
      "{'n_estimators': 90, 'max_depth': 19, 'min_samples_split': 10, 'min_samples_leaf': 10}\n",
      "{'n_estimators': 110, 'max_depth': 1, 'min_samples_split': 8, 'min_samples_leaf': 6}\n",
      "{'n_estimators': 110, 'max_depth': 3, 'min_samples_split': 2, 'min_samples_leaf': 10}\n",
      "{'n_estimators': 110, 'max_depth': 3, 'min_samples_split': 8, 'min_samples_leaf': 4}\n",
      "{'n_estimators': 110, 'max_depth': 5, 'min_samples_split': 2, 'min_samples_leaf': 8}\n",
      "{'n_estimators': 110, 'max_depth': 5, 'min_samples_split': 8, 'min_samples_leaf': 2}\n",
      "{'n_estimators': 110, 'max_depth': 7, 'min_samples_split': 2, 'min_samples_leaf': 6}\n",
      "{'n_estimators': 110, 'max_depth': 7, 'min_samples_split': 6, 'min_samples_leaf': 10}\n",
      "{'n_estimators': 110, 'max_depth': 9, 'min_samples_split': 2, 'min_samples_leaf': 4}\n",
      "{'n_estimators': 110, 'max_depth': 9, 'min_samples_split': 6, 'min_samples_leaf': 6}\n",
      "{'n_estimators': 110, 'max_depth': 9, 'min_samples_split': 10, 'min_samples_leaf': 10}\n",
      "{'n_estimators': 110, 'max_depth': 11, 'min_samples_split': 6, 'min_samples_leaf': 4}\n",
      "{'n_estimators': 110, 'max_depth': 11, 'min_samples_split': 10, 'min_samples_leaf': 8}\n",
      "{'n_estimators': 110, 'max_depth': 13, 'min_samples_split': 6, 'min_samples_leaf': 2}\n",
      "{'n_estimators': 110, 'max_depth': 13, 'min_samples_split': 10, 'min_samples_leaf': 6}\n",
      "{'n_estimators': 110, 'max_depth': 15, 'min_samples_split': 4, 'min_samples_leaf': 10}\n",
      "{'n_estimators': 110, 'max_depth': 15, 'min_samples_split': 10, 'min_samples_leaf': 4}\n",
      "{'n_estimators': 110, 'max_depth': 17, 'min_samples_split': 4, 'min_samples_leaf': 8}\n",
      "{'n_estimators': 110, 'max_depth': 17, 'min_samples_split': 10, 'min_samples_leaf': 2}\n",
      "{'n_estimators': 110, 'max_depth': 19, 'min_samples_split': 4, 'min_samples_leaf': 6}\n",
      "{'n_estimators': 110, 'max_depth': 19, 'min_samples_split': 8, 'min_samples_leaf': 10}\n",
      "{'n_estimators': 130, 'max_depth': 1, 'min_samples_split': 4, 'min_samples_leaf': 4}\n",
      "{'n_estimators': 130, 'max_depth': 1, 'min_samples_split': 8, 'min_samples_leaf': 2}\n",
      "{'n_estimators': 130, 'max_depth': 3, 'min_samples_split': 2, 'min_samples_leaf': 6}\n",
      "{'n_estimators': 130, 'max_depth': 3, 'min_samples_split': 6, 'min_samples_leaf': 10}\n",
      "{'n_estimators': 130, 'max_depth': 5, 'min_samples_split': 2, 'min_samples_leaf': 4}\n",
      "{'n_estimators': 130, 'max_depth': 5, 'min_samples_split': 6, 'min_samples_leaf': 8}\n",
      "{'n_estimators': 130, 'max_depth': 7, 'min_samples_split': 2, 'min_samples_leaf': 2}\n",
      "{'n_estimators': 130, 'max_depth': 7, 'min_samples_split': 6, 'min_samples_leaf': 6}\n",
      "{'n_estimators': 130, 'max_depth': 7, 'min_samples_split': 10, 'min_samples_leaf': 10}\n",
      "{'n_estimators': 130, 'max_depth': 9, 'min_samples_split': 6, 'min_samples_leaf': 4}\n",
      "{'n_estimators': 130, 'max_depth': 9, 'min_samples_split': 10, 'min_samples_leaf': 8}\n",
      "{'n_estimators': 130, 'max_depth': 11, 'min_samples_split': 6, 'min_samples_leaf': 2}\n",
      "{'n_estimators': 130, 'max_depth': 11, 'min_samples_split': 10, 'min_samples_leaf': 6}\n",
      "{'n_estimators': 130, 'max_depth': 13, 'min_samples_split': 4, 'min_samples_leaf': 10}\n",
      "{'n_estimators': 130, 'max_depth': 13, 'min_samples_split': 10, 'min_samples_leaf': 4}\n",
      "{'n_estimators': 130, 'max_depth': 15, 'min_samples_split': 4, 'min_samples_leaf': 8}\n",
      "{'n_estimators': 130, 'max_depth': 15, 'min_samples_split': 10, 'min_samples_leaf': 2}\n",
      "{'n_estimators': 130, 'max_depth': 17, 'min_samples_split': 4, 'min_samples_leaf': 6}\n",
      "{'n_estimators': 130, 'max_depth': 17, 'min_samples_split': 8, 'min_samples_leaf': 10}\n",
      "{'n_estimators': 130, 'max_depth': 19, 'min_samples_split': 4, 'min_samples_leaf': 4}\n",
      "{'n_estimators': 130, 'max_depth': 19, 'min_samples_split': 8, 'min_samples_leaf': 6}\n",
      "{'n_estimators': 150, 'max_depth': 1, 'min_samples_split': 2, 'min_samples_leaf': 10}\n",
      "{'n_estimators': 150, 'max_depth': 1, 'min_samples_split': 6, 'min_samples_leaf': 8}\n",
      "{'n_estimators': 150, 'max_depth': 3, 'min_samples_split': 2, 'min_samples_leaf': 2}\n",
      "{'n_estimators': 150, 'max_depth': 3, 'min_samples_split': 6, 'min_samples_leaf': 6}\n",
      "{'n_estimators': 150, 'max_depth': 3, 'min_samples_split': 10, 'min_samples_leaf': 10}\n",
      "{'n_estimators': 150, 'max_depth': 5, 'min_samples_split': 6, 'min_samples_leaf': 4}\n",
      "{'n_estimators': 150, 'max_depth': 5, 'min_samples_split': 10, 'min_samples_leaf': 8}\n",
      "{'n_estimators': 150, 'max_depth': 7, 'min_samples_split': 6, 'min_samples_leaf': 2}\n",
      "{'n_estimators': 150, 'max_depth': 7, 'min_samples_split': 10, 'min_samples_leaf': 6}\n",
      "{'n_estimators': 150, 'max_depth': 9, 'min_samples_split': 4, 'min_samples_leaf': 10}\n",
      "{'n_estimators': 150, 'max_depth': 9, 'min_samples_split': 10, 'min_samples_leaf': 4}\n",
      "{'n_estimators': 150, 'max_depth': 11, 'min_samples_split': 4, 'min_samples_leaf': 8}\n",
      "{'n_estimators': 150, 'max_depth': 11, 'min_samples_split': 10, 'min_samples_leaf': 2}\n",
      "{'n_estimators': 150, 'max_depth': 13, 'min_samples_split': 4, 'min_samples_leaf': 6}\n",
      "{'n_estimators': 150, 'max_depth': 13, 'min_samples_split': 8, 'min_samples_leaf': 10}\n",
      "{'n_estimators': 150, 'max_depth': 15, 'min_samples_split': 4, 'min_samples_leaf': 4}\n",
      "{'n_estimators': 150, 'max_depth': 15, 'min_samples_split': 8, 'min_samples_leaf': 10}\n",
      "{'n_estimators': 150, 'max_depth': 17, 'min_samples_split': 4, 'min_samples_leaf': 4}\n",
      "{'n_estimators': 150, 'max_depth': 17, 'min_samples_split': 8, 'min_samples_leaf': 8}\n",
      "{'n_estimators': 150, 'max_depth': 19, 'min_samples_split': 2, 'min_samples_leaf': 10}\n",
      "{'n_estimators': 150, 'max_depth': 19, 'min_samples_split': 8, 'min_samples_leaf': 4}\n",
      "{'n_estimators': 170, 'max_depth': 1, 'min_samples_split': 2, 'min_samples_leaf': 8}\n",
      "{'n_estimators': 170, 'max_depth': 1, 'min_samples_split': 6, 'min_samples_leaf': 4}\n",
      "{'n_estimators': 170, 'max_depth': 1, 'min_samples_split': 10, 'min_samples_leaf': 8}\n",
      "{'n_estimators': 170, 'max_depth': 3, 'min_samples_split': 6, 'min_samples_leaf': 2}\n",
      "{'n_estimators': 170, 'max_depth': 3, 'min_samples_split': 10, 'min_samples_leaf': 6}\n",
      "{'n_estimators': 170, 'max_depth': 5, 'min_samples_split': 4, 'min_samples_leaf': 10}\n",
      "{'n_estimators': 170, 'max_depth': 5, 'min_samples_split': 10, 'min_samples_leaf': 4}\n",
      "{'n_estimators': 170, 'max_depth': 7, 'min_samples_split': 4, 'min_samples_leaf': 8}\n",
      "{'n_estimators': 170, 'max_depth': 7, 'min_samples_split': 10, 'min_samples_leaf': 2}\n",
      "{'n_estimators': 170, 'max_depth': 9, 'min_samples_split': 4, 'min_samples_leaf': 6}\n",
      "{'n_estimators': 170, 'max_depth': 9, 'min_samples_split': 8, 'min_samples_leaf': 10}\n",
      "{'n_estimators': 170, 'max_depth': 11, 'min_samples_split': 4, 'min_samples_leaf': 4}\n",
      "{'n_estimators': 170, 'max_depth': 11, 'min_samples_split': 8, 'min_samples_leaf': 8}\n",
      "{'n_estimators': 170, 'max_depth': 13, 'min_samples_split': 4, 'min_samples_leaf': 2}\n",
      "{'n_estimators': 170, 'max_depth': 13, 'min_samples_split': 8, 'min_samples_leaf': 6}\n",
      "{'n_estimators': 170, 'max_depth': 15, 'min_samples_split': 2, 'min_samples_leaf': 10}\n",
      "{'n_estimators': 170, 'max_depth': 15, 'min_samples_split': 8, 'min_samples_leaf': 4}\n",
      "{'n_estimators': 170, 'max_depth': 17, 'min_samples_split': 2, 'min_samples_leaf': 8}\n",
      "{'n_estimators': 170, 'max_depth': 17, 'min_samples_split': 8, 'min_samples_leaf': 2}\n",
      "{'n_estimators': 170, 'max_depth': 19, 'min_samples_split': 2, 'min_samples_leaf': 6}\n",
      "{'n_estimators': 170, 'max_depth': 19, 'min_samples_split': 6, 'min_samples_leaf': 10}\n",
      "{'n_estimators': 190, 'max_depth': 1, 'min_samples_split': 2, 'min_samples_leaf': 4}\n",
      "{'n_estimators': 190, 'max_depth': 1, 'min_samples_split': 4, 'min_samples_leaf': 8}\n",
      "{'n_estimators': 190, 'max_depth': 1, 'min_samples_split': 8, 'min_samples_leaf': 10}\n",
      "{'n_estimators': 10, 'max_depth': 1, 'min_samples_split': 2, 'min_samples_leaf': 4}\n",
      "{'n_estimators': 10, 'max_depth': 1, 'min_samples_split': 6, 'min_samples_leaf': 2}\n",
      "{'n_estimators': 10, 'max_depth': 1, 'min_samples_split': 10, 'min_samples_leaf': 4}\n",
      "{'n_estimators': 10, 'max_depth': 3, 'min_samples_split': 6, 'min_samples_leaf': 8}\n",
      "{'n_estimators': 10, 'max_depth': 3, 'min_samples_split': 6, 'min_samples_leaf': 10}\n",
      "{'n_estimators': 10, 'max_depth': 5, 'min_samples_split': 6, 'min_samples_leaf': 10}\n",
      "{'n_estimators': 10, 'max_depth': 5, 'min_samples_split': 8, 'min_samples_leaf': 2}\n",
      "{'n_estimators': 10, 'max_depth': 7, 'min_samples_split': 6, 'min_samples_leaf': 8}\n",
      "{'n_estimators': 10, 'max_depth': 7, 'min_samples_split': 6, 'min_samples_leaf': 10}\n",
      "{'n_estimators': 10, 'max_depth': 9, 'min_samples_split': 6, 'min_samples_leaf': 6}\n",
      "{'n_estimators': 10, 'max_depth': 9, 'min_samples_split': 6, 'min_samples_leaf': 8}\n",
      "{'n_estimators': 10, 'max_depth': 11, 'min_samples_split': 6, 'min_samples_leaf': 8}\n",
      "{'n_estimators': 10, 'max_depth': 11, 'min_samples_split': 6, 'min_samples_leaf': 10}\n",
      "{'n_estimators': 10, 'max_depth': 13, 'min_samples_split': 6, 'min_samples_leaf': 6}\n",
      "{'n_estimators': 10, 'max_depth': 13, 'min_samples_split': 6, 'min_samples_leaf': 8}\n",
      "{'n_estimators': 10, 'max_depth': 15, 'min_samples_split': 4, 'min_samples_leaf': 10}\n",
      "{'n_estimators': 10, 'max_depth': 15, 'min_samples_split': 6, 'min_samples_leaf': 2}\n",
      "{'n_estimators': 10, 'max_depth': 17, 'min_samples_split': 4, 'min_samples_leaf': 8}\n",
      "{'n_estimators': 10, 'max_depth': 17, 'min_samples_split': 4, 'min_samples_leaf': 10}\n",
      "{'n_estimators': 10, 'max_depth': 19, 'min_samples_split': 4, 'min_samples_leaf': 2}\n",
      "{'n_estimators': 10, 'max_depth': 19, 'min_samples_split': 4, 'min_samples_leaf': 4}\n",
      "{'n_estimators': 30, 'max_depth': 1, 'min_samples_split': 4, 'min_samples_leaf': 4}\n",
      "{'n_estimators': 30, 'max_depth': 1, 'min_samples_split': 4, 'min_samples_leaf': 6}\n",
      "{'n_estimators': 30, 'max_depth': 3, 'min_samples_split': 4, 'min_samples_leaf': 2}\n",
      "{'n_estimators': 30, 'max_depth': 3, 'min_samples_split': 4, 'min_samples_leaf': 4}\n",
      "{'n_estimators': 30, 'max_depth': 5, 'min_samples_split': 2, 'min_samples_leaf': 6}\n",
      "{'n_estimators': 30, 'max_depth': 5, 'min_samples_split': 2, 'min_samples_leaf': 8}\n",
      "{'n_estimators': 30, 'max_depth': 7, 'min_samples_split': 2, 'min_samples_leaf': 8}\n",
      "{'n_estimators': 30, 'max_depth': 7, 'min_samples_split': 2, 'min_samples_leaf': 10}\n",
      "{'n_estimators': 30, 'max_depth': 9, 'min_samples_split': 2, 'min_samples_leaf': 10}\n",
      "{'n_estimators': 30, 'max_depth': 9, 'min_samples_split': 4, 'min_samples_leaf': 2}\n",
      "{'n_estimators': 30, 'max_depth': 11, 'min_samples_split': 2, 'min_samples_leaf': 8}\n",
      "{'n_estimators': 30, 'max_depth': 11, 'min_samples_split': 2, 'min_samples_leaf': 10}\n",
      "{'n_estimators': 30, 'max_depth': 13, 'min_samples_split': 2, 'min_samples_leaf': 2}\n",
      "{'n_estimators': 30, 'max_depth': 13, 'min_samples_split': 2, 'min_samples_leaf': 4}\n",
      "{'n_estimators': 30, 'max_depth': 15, 'min_samples_split': 2, 'min_samples_leaf': 4}\n",
      "{'n_estimators': 30, 'max_depth': 15, 'min_samples_split': 2, 'min_samples_leaf': 6}\n",
      "{'n_estimators': 30, 'max_depth': 17, 'min_samples_split': 2, 'min_samples_leaf': 6}\n",
      "{'n_estimators': 30, 'max_depth': 17, 'min_samples_split': 2, 'min_samples_leaf': 8}\n",
      "{'n_estimators': 30, 'max_depth': 17, 'min_samples_split': 10, 'min_samples_leaf': 10}\n",
      "{'n_estimators': 30, 'max_depth': 19, 'min_samples_split': 2, 'min_samples_leaf': 2}\n",
      "{'n_estimators': 30, 'max_depth': 19, 'min_samples_split': 10, 'min_samples_leaf': 8}\n",
      "{'n_estimators': 30, 'max_depth': 19, 'min_samples_split': 10, 'min_samples_leaf': 10}\n",
      "{'n_estimators': 50, 'max_depth': 3, 'min_samples_split': 4, 'min_samples_leaf': 6}\n",
      "{'n_estimators': 50, 'max_depth': 3, 'min_samples_split': 8, 'min_samples_leaf': 6}\n",
      "{'n_estimators': 50, 'max_depth': 5, 'min_samples_split': 2, 'min_samples_leaf': 10}\n",
      "{'n_estimators': 50, 'max_depth': 5, 'min_samples_split': 8, 'min_samples_leaf': 4}\n",
      "{'n_estimators': 50, 'max_depth': 7, 'min_samples_split': 2, 'min_samples_leaf': 8}\n",
      "{'n_estimators': 50, 'max_depth': 7, 'min_samples_split': 8, 'min_samples_leaf': 2}\n",
      "{'n_estimators': 50, 'max_depth': 9, 'min_samples_split': 2, 'min_samples_leaf': 6}\n",
      "{'n_estimators': 50, 'max_depth': 9, 'min_samples_split': 6, 'min_samples_leaf': 10}\n",
      "{'n_estimators': 50, 'max_depth': 11, 'min_samples_split': 2, 'min_samples_leaf': 2}\n",
      "{'n_estimators': 50, 'max_depth': 11, 'min_samples_split': 6, 'min_samples_leaf': 8}\n",
      "{'n_estimators': 50, 'max_depth': 13, 'min_samples_split': 2, 'min_samples_leaf': 2}\n",
      "{'n_estimators': 50, 'max_depth': 13, 'min_samples_split': 6, 'min_samples_leaf': 6}\n",
      "{'n_estimators': 50, 'max_depth': 13, 'min_samples_split': 10, 'min_samples_leaf': 10}\n",
      "{'n_estimators': 50, 'max_depth': 15, 'min_samples_split': 6, 'min_samples_leaf': 4}\n",
      "{'n_estimators': 50, 'max_depth': 15, 'min_samples_split': 10, 'min_samples_leaf': 8}\n",
      "{'n_estimators': 50, 'max_depth': 17, 'min_samples_split': 6, 'min_samples_leaf': 2}\n",
      "{'n_estimators': 50, 'max_depth': 17, 'min_samples_split': 10, 'min_samples_leaf': 6}\n",
      "{'n_estimators': 50, 'max_depth': 19, 'min_samples_split': 4, 'min_samples_leaf': 10}\n",
      "{'n_estimators': 50, 'max_depth': 19, 'min_samples_split': 10, 'min_samples_leaf': 4}\n",
      "{'n_estimators': 70, 'max_depth': 1, 'min_samples_split': 4, 'min_samples_leaf': 10}\n",
      "{'n_estimators': 70, 'max_depth': 1, 'min_samples_split': 10, 'min_samples_leaf': 4}\n",
      "{'n_estimators': 70, 'max_depth': 3, 'min_samples_split': 4, 'min_samples_leaf': 8}\n",
      "{'n_estimators': 70, 'max_depth': 3, 'min_samples_split': 10, 'min_samples_leaf': 2}\n",
      "{'n_estimators': 70, 'max_depth': 5, 'min_samples_split': 4, 'min_samples_leaf': 6}\n",
      "{'n_estimators': 70, 'max_depth': 5, 'min_samples_split': 8, 'min_samples_leaf': 10}\n",
      "{'n_estimators': 70, 'max_depth': 7, 'min_samples_split': 4, 'min_samples_leaf': 4}\n",
      "{'n_estimators': 70, 'max_depth': 7, 'min_samples_split': 8, 'min_samples_leaf': 10}\n",
      "{'n_estimators': 70, 'max_depth': 9, 'min_samples_split': 4, 'min_samples_leaf': 4}\n",
      "{'n_estimators': 70, 'max_depth': 9, 'min_samples_split': 8, 'min_samples_leaf': 8}\n",
      "{'n_estimators': 70, 'max_depth': 11, 'min_samples_split': 4, 'min_samples_leaf': 2}\n",
      "{'n_estimators': 70, 'max_depth': 11, 'min_samples_split': 8, 'min_samples_leaf': 6}\n",
      "{'n_estimators': 70, 'max_depth': 13, 'min_samples_split': 2, 'min_samples_leaf': 10}\n",
      "{'n_estimators': 70, 'max_depth': 13, 'min_samples_split': 8, 'min_samples_leaf': 4}\n",
      "{'n_estimators': 70, 'max_depth': 15, 'min_samples_split': 2, 'min_samples_leaf': 6}\n",
      "{'n_estimators': 70, 'max_depth': 15, 'min_samples_split': 8, 'min_samples_leaf': 4}\n",
      "{'n_estimators': 70, 'max_depth': 17, 'min_samples_split': 2, 'min_samples_leaf': 8}\n",
      "{'n_estimators': 70, 'max_depth': 17, 'min_samples_split': 6, 'min_samples_leaf': 10}\n",
      "{'n_estimators': 70, 'max_depth': 19, 'min_samples_split': 2, 'min_samples_leaf': 4}\n",
      "{'n_estimators': 70, 'max_depth': 19, 'min_samples_split': 6, 'min_samples_leaf': 8}\n",
      "{'n_estimators': 90, 'max_depth': 1, 'min_samples_split': 2, 'min_samples_leaf': 2}\n",
      "{'n_estimators': 90, 'max_depth': 1, 'min_samples_split': 4, 'min_samples_leaf': 6}\n",
      "{'n_estimators': 90, 'max_depth': 1, 'min_samples_split': 8, 'min_samples_leaf': 10}\n",
      "{'n_estimators': 90, 'max_depth': 3, 'min_samples_split': 4, 'min_samples_leaf': 4}\n",
      "{'n_estimators': 90, 'max_depth': 3, 'min_samples_split': 8, 'min_samples_leaf': 8}\n",
      "{'n_estimators': 90, 'max_depth': 5, 'min_samples_split': 4, 'min_samples_leaf': 2}\n",
      "{'n_estimators': 90, 'max_depth': 5, 'min_samples_split': 8, 'min_samples_leaf': 6}\n",
      "{'n_estimators': 90, 'max_depth': 7, 'min_samples_split': 2, 'min_samples_leaf': 10}\n",
      "{'n_estimators': 90, 'max_depth': 7, 'min_samples_split': 8, 'min_samples_leaf': 4}\n",
      "{'n_estimators': 90, 'max_depth': 9, 'min_samples_split': 2, 'min_samples_leaf': 8}\n",
      "{'n_estimators': 90, 'max_depth': 9, 'min_samples_split': 8, 'min_samples_leaf': 2}\n",
      "{'n_estimators': 90, 'max_depth': 11, 'min_samples_split': 2, 'min_samples_leaf': 6}\n",
      "{'n_estimators': 90, 'max_depth': 11, 'min_samples_split': 8, 'min_samples_leaf': 4}\n",
      "{'n_estimators': 90, 'max_depth': 13, 'min_samples_split': 2, 'min_samples_leaf': 8}\n",
      "{'n_estimators': 90, 'max_depth': 13, 'min_samples_split': 8, 'min_samples_leaf': 2}\n",
      "{'n_estimators': 90, 'max_depth': 15, 'min_samples_split': 2, 'min_samples_leaf': 6}\n",
      "{'n_estimators': 90, 'max_depth': 15, 'min_samples_split': 6, 'min_samples_leaf': 10}\n",
      "{'n_estimators': 90, 'max_depth': 17, 'min_samples_split': 2, 'min_samples_leaf': 4}\n",
      "{'n_estimators': 90, 'max_depth': 17, 'min_samples_split': 6, 'min_samples_leaf': 6}\n",
      "{'n_estimators': 90, 'max_depth': 17, 'min_samples_split': 10, 'min_samples_leaf': 10}\n",
      "{'n_estimators': 90, 'max_depth': 19, 'min_samples_split': 6, 'min_samples_leaf': 4}\n",
      "{'n_estimators': 90, 'max_depth': 19, 'min_samples_split': 10, 'min_samples_leaf': 8}\n",
      "{'n_estimators': 110, 'max_depth': 1, 'min_samples_split': 6, 'min_samples_leaf': 8}\n",
      "{'n_estimators': 110, 'max_depth': 3, 'min_samples_split': 2, 'min_samples_leaf': 4}\n",
      "{'n_estimators': 110, 'max_depth': 3, 'min_samples_split': 6, 'min_samples_leaf': 8}\n",
      "{'n_estimators': 110, 'max_depth': 5, 'min_samples_split': 2, 'min_samples_leaf': 2}\n",
      "{'n_estimators': 110, 'max_depth': 5, 'min_samples_split': 6, 'min_samples_leaf': 8}\n",
      "{'n_estimators': 110, 'max_depth': 7, 'min_samples_split': 2, 'min_samples_leaf': 2}\n",
      "{'n_estimators': 110, 'max_depth': 7, 'min_samples_split': 6, 'min_samples_leaf': 6}\n",
      "{'n_estimators': 110, 'max_depth': 7, 'min_samples_split': 10, 'min_samples_leaf': 10}\n",
      "{'n_estimators': 110, 'max_depth': 9, 'min_samples_split': 6, 'min_samples_leaf': 4}\n",
      "{'n_estimators': 110, 'max_depth': 9, 'min_samples_split': 10, 'min_samples_leaf': 8}\n",
      "{'n_estimators': 110, 'max_depth': 11, 'min_samples_split': 6, 'min_samples_leaf': 2}\n",
      "{'n_estimators': 110, 'max_depth': 11, 'min_samples_split': 10, 'min_samples_leaf': 6}\n",
      "{'n_estimators': 110, 'max_depth': 13, 'min_samples_split': 4, 'min_samples_leaf': 10}\n",
      "{'n_estimators': 110, 'max_depth': 13, 'min_samples_split': 10, 'min_samples_leaf': 4}\n",
      "{'n_estimators': 110, 'max_depth': 15, 'min_samples_split': 4, 'min_samples_leaf': 8}\n",
      "{'n_estimators': 110, 'max_depth': 15, 'min_samples_split': 10, 'min_samples_leaf': 2}\n",
      "{'n_estimators': 110, 'max_depth': 17, 'min_samples_split': 4, 'min_samples_leaf': 6}\n",
      "{'n_estimators': 110, 'max_depth': 17, 'min_samples_split': 8, 'min_samples_leaf': 10}\n",
      "{'n_estimators': 110, 'max_depth': 19, 'min_samples_split': 4, 'min_samples_leaf': 4}\n",
      "{'n_estimators': 110, 'max_depth': 19, 'min_samples_split': 8, 'min_samples_leaf': 6}\n",
      "{'n_estimators': 130, 'max_depth': 1, 'min_samples_split': 2, 'min_samples_leaf': 10}\n",
      "{'n_estimators': 130, 'max_depth': 1, 'min_samples_split': 6, 'min_samples_leaf': 8}\n",
      "{'n_estimators': 130, 'max_depth': 3, 'min_samples_split': 2, 'min_samples_leaf': 2}\n",
      "{'n_estimators': 130, 'max_depth': 3, 'min_samples_split': 6, 'min_samples_leaf': 6}\n",
      "{'n_estimators': 130, 'max_depth': 3, 'min_samples_split': 10, 'min_samples_leaf': 10}\n",
      "{'n_estimators': 130, 'max_depth': 5, 'min_samples_split': 6, 'min_samples_leaf': 4}\n",
      "{'n_estimators': 130, 'max_depth': 5, 'min_samples_split': 10, 'min_samples_leaf': 8}\n",
      "{'n_estimators': 130, 'max_depth': 7, 'min_samples_split': 6, 'min_samples_leaf': 2}\n",
      "{'n_estimators': 130, 'max_depth': 7, 'min_samples_split': 10, 'min_samples_leaf': 6}\n",
      "{'n_estimators': 130, 'max_depth': 9, 'min_samples_split': 4, 'min_samples_leaf': 10}\n",
      "{'n_estimators': 130, 'max_depth': 9, 'min_samples_split': 10, 'min_samples_leaf': 4}\n",
      "{'n_estimators': 130, 'max_depth': 11, 'min_samples_split': 4, 'min_samples_leaf': 8}\n",
      "{'n_estimators': 130, 'max_depth': 11, 'min_samples_split': 10, 'min_samples_leaf': 2}\n",
      "{'n_estimators': 130, 'max_depth': 13, 'min_samples_split': 4, 'min_samples_leaf': 6}\n",
      "{'n_estimators': 130, 'max_depth': 13, 'min_samples_split': 8, 'min_samples_leaf': 10}\n",
      "{'n_estimators': 130, 'max_depth': 15, 'min_samples_split': 4, 'min_samples_leaf': 4}\n",
      "{'n_estimators': 130, 'max_depth': 15, 'min_samples_split': 8, 'min_samples_leaf': 8}\n",
      "{'n_estimators': 130, 'max_depth': 17, 'min_samples_split': 4, 'min_samples_leaf': 2}\n",
      "{'n_estimators': 130, 'max_depth': 17, 'min_samples_split': 8, 'min_samples_leaf': 8}\n",
      "{'n_estimators': 130, 'max_depth': 19, 'min_samples_split': 4, 'min_samples_leaf': 2}\n",
      "{'n_estimators': 130, 'max_depth': 19, 'min_samples_split': 8, 'min_samples_leaf': 8}\n",
      "{'n_estimators': 150, 'max_depth': 1, 'min_samples_split': 4, 'min_samples_leaf': 2}\n",
      "{'n_estimators': 150, 'max_depth': 1, 'min_samples_split': 6, 'min_samples_leaf': 10}\n",
      "{'n_estimators': 150, 'max_depth': 3, 'min_samples_split': 2, 'min_samples_leaf': 4}\n",
      "{'n_estimators': 150, 'max_depth': 3, 'min_samples_split': 6, 'min_samples_leaf': 8}\n",
      "{'n_estimators': 150, 'max_depth': 5, 'min_samples_split': 2, 'min_samples_leaf': 2}\n",
      "{'n_estimators': 150, 'max_depth': 5, 'min_samples_split': 6, 'min_samples_leaf': 6}\n",
      "{'n_estimators': 150, 'max_depth': 5, 'min_samples_split': 10, 'min_samples_leaf': 10}\n",
      "{'n_estimators': 150, 'max_depth': 7, 'min_samples_split': 6, 'min_samples_leaf': 4}\n",
      "{'n_estimators': 150, 'max_depth': 7, 'min_samples_split': 10, 'min_samples_leaf': 8}\n",
      "{'n_estimators': 150, 'max_depth': 9, 'min_samples_split': 6, 'min_samples_leaf': 2}\n",
      "{'n_estimators': 150, 'max_depth': 9, 'min_samples_split': 10, 'min_samples_leaf': 6}\n",
      "{'n_estimators': 150, 'max_depth': 11, 'min_samples_split': 4, 'min_samples_leaf': 10}\n",
      "{'n_estimators': 150, 'max_depth': 11, 'min_samples_split': 10, 'min_samples_leaf': 4}\n",
      "{'n_estimators': 150, 'max_depth': 13, 'min_samples_split': 4, 'min_samples_leaf': 8}\n",
      "{'n_estimators': 150, 'max_depth': 13, 'min_samples_split': 10, 'min_samples_leaf': 2}\n",
      "{'n_estimators': 150, 'max_depth': 15, 'min_samples_split': 4, 'min_samples_leaf': 6}\n",
      "{'n_estimators': 150, 'max_depth': 15, 'min_samples_split': 8, 'min_samples_leaf': 8}\n",
      "{'n_estimators': 150, 'max_depth': 17, 'min_samples_split': 4, 'min_samples_leaf': 2}\n",
      "{'n_estimators': 150, 'max_depth': 17, 'min_samples_split': 8, 'min_samples_leaf': 6}\n",
      "{'n_estimators': 150, 'max_depth': 19, 'min_samples_split': 4, 'min_samples_leaf': 2}\n",
      "{'n_estimators': 150, 'max_depth': 19, 'min_samples_split': 8, 'min_samples_leaf': 8}\n",
      "{'n_estimators': 170, 'max_depth': 1, 'min_samples_split': 4, 'min_samples_leaf': 2}\n",
      "{'n_estimators': 170, 'max_depth': 1, 'min_samples_split': 6, 'min_samples_leaf': 10}\n",
      "{'n_estimators': 170, 'max_depth': 3, 'min_samples_split': 2, 'min_samples_leaf': 4}\n",
      "{'n_estimators': 170, 'max_depth': 3, 'min_samples_split': 6, 'min_samples_leaf': 8}\n",
      "{'n_estimators': 170, 'max_depth': 5, 'min_samples_split': 2, 'min_samples_leaf': 2}\n",
      "{'n_estimators': 170, 'max_depth': 5, 'min_samples_split': 6, 'min_samples_leaf': 6}\n",
      "{'n_estimators': 170, 'max_depth': 5, 'min_samples_split': 10, 'min_samples_leaf': 10}\n",
      "{'n_estimators': 170, 'max_depth': 7, 'min_samples_split': 6, 'min_samples_leaf': 4}\n",
      "{'n_estimators': 170, 'max_depth': 7, 'min_samples_split': 10, 'min_samples_leaf': 8}\n",
      "{'n_estimators': 170, 'max_depth': 9, 'min_samples_split': 6, 'min_samples_leaf': 2}\n",
      "{'n_estimators': 170, 'max_depth': 9, 'min_samples_split': 10, 'min_samples_leaf': 6}\n",
      "{'n_estimators': 170, 'max_depth': 11, 'min_samples_split': 4, 'min_samples_leaf': 10}\n",
      "{'n_estimators': 170, 'max_depth': 11, 'min_samples_split': 10, 'min_samples_leaf': 4}\n",
      "{'n_estimators': 170, 'max_depth': 13, 'min_samples_split': 4, 'min_samples_leaf': 8}\n",
      "{'n_estimators': 170, 'max_depth': 13, 'min_samples_split': 10, 'min_samples_leaf': 2}\n",
      "{'n_estimators': 170, 'max_depth': 15, 'min_samples_split': 4, 'min_samples_leaf': 6}\n",
      "{'n_estimators': 170, 'max_depth': 15, 'min_samples_split': 8, 'min_samples_leaf': 10}\n",
      "{'n_estimators': 170, 'max_depth': 17, 'min_samples_split': 4, 'min_samples_leaf': 4}\n",
      "{'n_estimators': 170, 'max_depth': 17, 'min_samples_split': 8, 'min_samples_leaf': 6}\n",
      "{'n_estimators': 170, 'max_depth': 19, 'min_samples_split': 2, 'min_samples_leaf': 10}\n",
      "{'n_estimators': 170, 'max_depth': 19, 'min_samples_split': 8, 'min_samples_leaf': 4}\n",
      "{'n_estimators': 190, 'max_depth': 1, 'min_samples_split': 2, 'min_samples_leaf': 8}\n",
      "{'n_estimators': 190, 'max_depth': 1, 'min_samples_split': 6, 'min_samples_leaf': 6}\n",
      "{'n_estimators': 190, 'max_depth': 1, 'min_samples_split': 10, 'min_samples_leaf': 10}\n",
      "{'n_estimators': 190, 'max_depth': 3, 'min_samples_split': 6, 'min_samples_leaf': 4}\n",
      "{'n_estimators': 10, 'max_depth': 1, 'min_samples_split': 4, 'min_samples_leaf': 4}\n",
      "{'n_estimators': 10, 'max_depth': 1, 'min_samples_split': 8, 'min_samples_leaf': 2}\n",
      "{'n_estimators': 10, 'max_depth': 3, 'min_samples_split': 2, 'min_samples_leaf': 4}\n",
      "{'n_estimators': 10, 'max_depth': 3, 'min_samples_split': 2, 'min_samples_leaf': 6}\n",
      "{'n_estimators': 10, 'max_depth': 5, 'min_samples_split': 2, 'min_samples_leaf': 2}\n",
      "{'n_estimators': 10, 'max_depth': 5, 'min_samples_split': 2, 'min_samples_leaf': 4}\n",
      "{'n_estimators': 10, 'max_depth': 5, 'min_samples_split': 10, 'min_samples_leaf': 10}\n",
      "{'n_estimators': 10, 'max_depth': 7, 'min_samples_split': 2, 'min_samples_leaf': 2}\n",
      "{'n_estimators': 10, 'max_depth': 7, 'min_samples_split': 10, 'min_samples_leaf': 8}\n",
      "{'n_estimators': 10, 'max_depth': 7, 'min_samples_split': 10, 'min_samples_leaf': 10}\n",
      "{'n_estimators': 10, 'max_depth': 9, 'min_samples_split': 10, 'min_samples_leaf': 6}\n",
      "{'n_estimators': 10, 'max_depth': 9, 'min_samples_split': 10, 'min_samples_leaf': 8}\n",
      "{'n_estimators': 10, 'max_depth': 11, 'min_samples_split': 10, 'min_samples_leaf': 4}\n",
      "{'n_estimators': 10, 'max_depth': 11, 'min_samples_split': 10, 'min_samples_leaf': 6}\n",
      "{'n_estimators': 10, 'max_depth': 13, 'min_samples_split': 10, 'min_samples_leaf': 2}\n",
      "{'n_estimators': 10, 'max_depth': 13, 'min_samples_split': 10, 'min_samples_leaf': 4}\n",
      "{'n_estimators': 10, 'max_depth': 15, 'min_samples_split': 8, 'min_samples_leaf': 10}\n",
      "{'n_estimators': 10, 'max_depth': 15, 'min_samples_split': 10, 'min_samples_leaf': 2}\n",
      "{'n_estimators': 10, 'max_depth': 17, 'min_samples_split': 8, 'min_samples_leaf': 8}\n",
      "{'n_estimators': 10, 'max_depth': 17, 'min_samples_split': 8, 'min_samples_leaf': 10}\n",
      "{'n_estimators': 10, 'max_depth': 19, 'min_samples_split': 8, 'min_samples_leaf': 6}\n",
      "{'n_estimators': 10, 'max_depth': 19, 'min_samples_split': 8, 'min_samples_leaf': 8}\n",
      "{'n_estimators': 30, 'max_depth': 1, 'min_samples_split': 8, 'min_samples_leaf': 4}\n",
      "{'n_estimators': 30, 'max_depth': 1, 'min_samples_split': 8, 'min_samples_leaf': 6}\n",
      "{'n_estimators': 30, 'max_depth': 3, 'min_samples_split': 8, 'min_samples_leaf': 2}\n",
      "{'n_estimators': 30, 'max_depth': 3, 'min_samples_split': 8, 'min_samples_leaf': 4}\n",
      "{'n_estimators': 30, 'max_depth': 5, 'min_samples_split': 6, 'min_samples_leaf': 10}\n",
      "{'n_estimators': 30, 'max_depth': 5, 'min_samples_split': 8, 'min_samples_leaf': 2}\n",
      "{'n_estimators': 30, 'max_depth': 7, 'min_samples_split': 6, 'min_samples_leaf': 8}\n",
      "{'n_estimators': 30, 'max_depth': 7, 'min_samples_split': 6, 'min_samples_leaf': 10}\n",
      "{'n_estimators': 30, 'max_depth': 9, 'min_samples_split': 6, 'min_samples_leaf': 6}\n",
      "{'n_estimators': 30, 'max_depth': 9, 'min_samples_split': 6, 'min_samples_leaf': 8}\n",
      "{'n_estimators': 30, 'max_depth': 11, 'min_samples_split': 6, 'min_samples_leaf': 4}\n",
      "{'n_estimators': 30, 'max_depth': 11, 'min_samples_split': 6, 'min_samples_leaf': 6}\n",
      "{'n_estimators': 30, 'max_depth': 13, 'min_samples_split': 6, 'min_samples_leaf': 2}\n",
      "{'n_estimators': 30, 'max_depth': 13, 'min_samples_split': 6, 'min_samples_leaf': 4}\n",
      "{'n_estimators': 30, 'max_depth': 15, 'min_samples_split': 6, 'min_samples_leaf': 8}\n",
      "{'n_estimators': 30, 'max_depth': 15, 'min_samples_split': 6, 'min_samples_leaf': 10}\n",
      "{'n_estimators': 30, 'max_depth': 17, 'min_samples_split': 6, 'min_samples_leaf': 2}\n",
      "{'n_estimators': 30, 'max_depth': 17, 'min_samples_split': 6, 'min_samples_leaf': 4}\n",
      "{'n_estimators': 30, 'max_depth': 19, 'min_samples_split': 6, 'min_samples_leaf': 4}\n",
      "{'n_estimators': 30, 'max_depth': 19, 'min_samples_split': 6, 'min_samples_leaf': 6}\n",
      "{'n_estimators': 50, 'max_depth': 1, 'min_samples_split': 6, 'min_samples_leaf': 6}\n",
      "{'n_estimators': 50, 'max_depth': 1, 'min_samples_split': 6, 'min_samples_leaf': 8}\n",
      "{'n_estimators': 50, 'max_depth': 3, 'min_samples_split': 4, 'min_samples_leaf': 4}\n",
      "{'n_estimators': 50, 'max_depth': 3, 'min_samples_split': 8, 'min_samples_leaf': 2}\n",
      "{'n_estimators': 50, 'max_depth': 5, 'min_samples_split': 2, 'min_samples_leaf': 8}\n",
      "{'n_estimators': 50, 'max_depth': 5, 'min_samples_split': 8, 'min_samples_leaf': 2}\n",
      "{'n_estimators': 50, 'max_depth': 7, 'min_samples_split': 2, 'min_samples_leaf': 6}\n",
      "{'n_estimators': 50, 'max_depth': 7, 'min_samples_split': 6, 'min_samples_leaf': 10}\n",
      "{'n_estimators': 50, 'max_depth': 9, 'min_samples_split': 2, 'min_samples_leaf': 4}\n",
      "{'n_estimators': 50, 'max_depth': 9, 'min_samples_split': 6, 'min_samples_leaf': 8}\n",
      "{'n_estimators': 50, 'max_depth': 11, 'min_samples_split': 2, 'min_samples_leaf': 4}\n",
      "{'n_estimators': 50, 'max_depth': 11, 'min_samples_split': 6, 'min_samples_leaf': 6}\n",
      "{'n_estimators': 50, 'max_depth': 11, 'min_samples_split': 10, 'min_samples_leaf': 10}\n",
      "{'n_estimators': 50, 'max_depth': 13, 'min_samples_split': 6, 'min_samples_leaf': 4}\n",
      "{'n_estimators': 50, 'max_depth': 13, 'min_samples_split': 10, 'min_samples_leaf': 8}\n",
      "{'n_estimators': 50, 'max_depth': 15, 'min_samples_split': 6, 'min_samples_leaf': 2}\n",
      "{'n_estimators': 50, 'max_depth': 15, 'min_samples_split': 10, 'min_samples_leaf': 6}\n",
      "{'n_estimators': 50, 'max_depth': 17, 'min_samples_split': 4, 'min_samples_leaf': 10}\n",
      "{'n_estimators': 50, 'max_depth': 17, 'min_samples_split': 10, 'min_samples_leaf': 4}\n",
      "{'n_estimators': 50, 'max_depth': 19, 'min_samples_split': 4, 'min_samples_leaf': 6}\n",
      "{'n_estimators': 50, 'max_depth': 19, 'min_samples_split': 10, 'min_samples_leaf': 2}\n",
      "{'n_estimators': 70, 'max_depth': 1, 'min_samples_split': 4, 'min_samples_leaf': 8}\n",
      "{'n_estimators': 70, 'max_depth': 1, 'min_samples_split': 10, 'min_samples_leaf': 2}\n",
      "{'n_estimators': 70, 'max_depth': 3, 'min_samples_split': 4, 'min_samples_leaf': 6}\n",
      "{'n_estimators': 70, 'max_depth': 3, 'min_samples_split': 8, 'min_samples_leaf': 10}\n",
      "{'n_estimators': 70, 'max_depth': 5, 'min_samples_split': 4, 'min_samples_leaf': 4}\n",
      "{'n_estimators': 70, 'max_depth': 5, 'min_samples_split': 8, 'min_samples_leaf': 8}\n",
      "{'n_estimators': 70, 'max_depth': 7, 'min_samples_split': 4, 'min_samples_leaf': 2}\n",
      "{'n_estimators': 70, 'max_depth': 7, 'min_samples_split': 8, 'min_samples_leaf': 6}\n",
      "{'n_estimators': 70, 'max_depth': 9, 'min_samples_split': 2, 'min_samples_leaf': 10}\n",
      "{'n_estimators': 70, 'max_depth': 9, 'min_samples_split': 8, 'min_samples_leaf': 4}\n",
      "{'n_estimators': 70, 'max_depth': 11, 'min_samples_split': 2, 'min_samples_leaf': 8}\n",
      "{'n_estimators': 70, 'max_depth': 11, 'min_samples_split': 8, 'min_samples_leaf': 2}\n",
      "{'n_estimators': 70, 'max_depth': 13, 'min_samples_split': 2, 'min_samples_leaf': 6}\n",
      "{'n_estimators': 70, 'max_depth': 13, 'min_samples_split': 6, 'min_samples_leaf': 10}\n",
      "{'n_estimators': 70, 'max_depth': 15, 'min_samples_split': 2, 'min_samples_leaf': 4}\n",
      "{'n_estimators': 70, 'max_depth': 15, 'min_samples_split': 6, 'min_samples_leaf': 6}\n",
      "{'n_estimators': 70, 'max_depth': 17, 'min_samples_split': 2, 'min_samples_leaf': 2}\n",
      "{'n_estimators': 70, 'max_depth': 17, 'min_samples_split': 6, 'min_samples_leaf': 6}\n",
      "{'n_estimators': 70, 'max_depth': 17, 'min_samples_split': 10, 'min_samples_leaf': 10}\n",
      "{'n_estimators': 70, 'max_depth': 19, 'min_samples_split': 6, 'min_samples_leaf': 4}\n",
      "{'n_estimators': 70, 'max_depth': 19, 'min_samples_split': 10, 'min_samples_leaf': 8}\n",
      "{'n_estimators': 90, 'max_depth': 1, 'min_samples_split': 6, 'min_samples_leaf': 10}\n",
      "{'n_estimators': 90, 'max_depth': 3, 'min_samples_split': 2, 'min_samples_leaf': 4}\n",
      "{'n_estimators': 90, 'max_depth': 3, 'min_samples_split': 6, 'min_samples_leaf': 8}\n",
      "{'n_estimators': 90, 'max_depth': 5, 'min_samples_split': 2, 'min_samples_leaf': 2}\n",
      "{'n_estimators': 90, 'max_depth': 5, 'min_samples_split': 6, 'min_samples_leaf': 6}\n",
      "{'n_estimators': 90, 'max_depth': 5, 'min_samples_split': 10, 'min_samples_leaf': 10}\n",
      "{'n_estimators': 90, 'max_depth': 7, 'min_samples_split': 6, 'min_samples_leaf': 4}\n",
      "{'n_estimators': 90, 'max_depth': 7, 'min_samples_split': 10, 'min_samples_leaf': 8}\n",
      "{'n_estimators': 90, 'max_depth': 9, 'min_samples_split': 6, 'min_samples_leaf': 2}\n",
      "{'n_estimators': 90, 'max_depth': 9, 'min_samples_split': 10, 'min_samples_leaf': 6}\n",
      "{'n_estimators': 90, 'max_depth': 11, 'min_samples_split': 4, 'min_samples_leaf': 10}\n",
      "{'n_estimators': 90, 'max_depth': 11, 'min_samples_split': 10, 'min_samples_leaf': 4}\n",
      "{'n_estimators': 90, 'max_depth': 13, 'min_samples_split': 4, 'min_samples_leaf': 8}\n",
      "{'n_estimators': 90, 'max_depth': 13, 'min_samples_split': 10, 'min_samples_leaf': 2}\n",
      "{'n_estimators': 90, 'max_depth': 15, 'min_samples_split': 4, 'min_samples_leaf': 6}\n",
      "{'n_estimators': 90, 'max_depth': 15, 'min_samples_split': 8, 'min_samples_leaf': 10}\n",
      "{'n_estimators': 90, 'max_depth': 17, 'min_samples_split': 4, 'min_samples_leaf': 4}\n",
      "{'n_estimators': 90, 'max_depth': 17, 'min_samples_split': 8, 'min_samples_leaf': 8}\n",
      "{'n_estimators': 90, 'max_depth': 19, 'min_samples_split': 4, 'min_samples_leaf': 4}\n",
      "{'n_estimators': 90, 'max_depth': 19, 'min_samples_split': 8, 'min_samples_leaf': 6}\n",
      "{'n_estimators': 110, 'max_depth': 1, 'min_samples_split': 2, 'min_samples_leaf': 10}\n",
      "{'n_estimators': 110, 'max_depth': 1, 'min_samples_split': 6, 'min_samples_leaf': 10}\n",
      "{'n_estimators': 110, 'max_depth': 3, 'min_samples_split': 2, 'min_samples_leaf': 2}\n",
      "{'n_estimators': 110, 'max_depth': 3, 'min_samples_split': 6, 'min_samples_leaf': 6}\n",
      "{'n_estimators': 110, 'max_depth': 3, 'min_samples_split': 10, 'min_samples_leaf': 10}\n",
      "{'n_estimators': 110, 'max_depth': 5, 'min_samples_split': 6, 'min_samples_leaf': 4}\n",
      "{'n_estimators': 110, 'max_depth': 5, 'min_samples_split': 10, 'min_samples_leaf': 8}\n",
      "{'n_estimators': 110, 'max_depth': 7, 'min_samples_split': 6, 'min_samples_leaf': 2}\n",
      "{'n_estimators': 110, 'max_depth': 7, 'min_samples_split': 10, 'min_samples_leaf': 6}\n",
      "{'n_estimators': 110, 'max_depth': 9, 'min_samples_split': 4, 'min_samples_leaf': 10}\n",
      "{'n_estimators': 110, 'max_depth': 9, 'min_samples_split': 10, 'min_samples_leaf': 4}\n",
      "{'n_estimators': 110, 'max_depth': 11, 'min_samples_split': 4, 'min_samples_leaf': 8}\n",
      "{'n_estimators': 110, 'max_depth': 11, 'min_samples_split': 10, 'min_samples_leaf': 2}\n",
      "{'n_estimators': 110, 'max_depth': 13, 'min_samples_split': 4, 'min_samples_leaf': 6}\n",
      "{'n_estimators': 110, 'max_depth': 13, 'min_samples_split': 8, 'min_samples_leaf': 10}\n",
      "{'n_estimators': 110, 'max_depth': 15, 'min_samples_split': 4, 'min_samples_leaf': 4}\n",
      "{'n_estimators': 110, 'max_depth': 15, 'min_samples_split': 8, 'min_samples_leaf': 8}\n",
      "{'n_estimators': 110, 'max_depth': 17, 'min_samples_split': 4, 'min_samples_leaf': 2}\n",
      "{'n_estimators': 110, 'max_depth': 17, 'min_samples_split': 8, 'min_samples_leaf': 8}\n",
      "{'n_estimators': 110, 'max_depth': 19, 'min_samples_split': 4, 'min_samples_leaf': 2}\n",
      "{'n_estimators': 110, 'max_depth': 19, 'min_samples_split': 8, 'min_samples_leaf': 8}\n",
      "{'n_estimators': 130, 'max_depth': 1, 'min_samples_split': 4, 'min_samples_leaf': 2}\n",
      "{'n_estimators': 130, 'max_depth': 1, 'min_samples_split': 6, 'min_samples_leaf': 10}\n",
      "{'n_estimators': 130, 'max_depth': 3, 'min_samples_split': 2, 'min_samples_leaf': 4}\n",
      "{'n_estimators': 130, 'max_depth': 3, 'min_samples_split': 6, 'min_samples_leaf': 8}\n",
      "{'n_estimators': 130, 'max_depth': 5, 'min_samples_split': 2, 'min_samples_leaf': 2}\n",
      "{'n_estimators': 130, 'max_depth': 5, 'min_samples_split': 6, 'min_samples_leaf': 6}\n",
      "{'n_estimators': 130, 'max_depth': 5, 'min_samples_split': 10, 'min_samples_leaf': 10}\n",
      "{'n_estimators': 130, 'max_depth': 7, 'min_samples_split': 6, 'min_samples_leaf': 4}\n",
      "{'n_estimators': 130, 'max_depth': 7, 'min_samples_split': 10, 'min_samples_leaf': 8}\n",
      "{'n_estimators': 130, 'max_depth': 9, 'min_samples_split': 6, 'min_samples_leaf': 2}\n",
      "{'n_estimators': 130, 'max_depth': 9, 'min_samples_split': 10, 'min_samples_leaf': 6}\n",
      "{'n_estimators': 130, 'max_depth': 11, 'min_samples_split': 4, 'min_samples_leaf': 10}\n",
      "{'n_estimators': 130, 'max_depth': 11, 'min_samples_split': 10, 'min_samples_leaf': 4}\n",
      "{'n_estimators': 130, 'max_depth': 13, 'min_samples_split': 4, 'min_samples_leaf': 8}\n",
      "{'n_estimators': 130, 'max_depth': 13, 'min_samples_split': 10, 'min_samples_leaf': 2}\n",
      "{'n_estimators': 130, 'max_depth': 15, 'min_samples_split': 4, 'min_samples_leaf': 6}\n",
      "{'n_estimators': 130, 'max_depth': 15, 'min_samples_split': 8, 'min_samples_leaf': 10}\n",
      "{'n_estimators': 130, 'max_depth': 17, 'min_samples_split': 4, 'min_samples_leaf': 4}\n",
      "{'n_estimators': 130, 'max_depth': 17, 'min_samples_split': 8, 'min_samples_leaf': 6}\n",
      "{'n_estimators': 130, 'max_depth': 19, 'min_samples_split': 2, 'min_samples_leaf': 10}\n",
      "{'n_estimators': 130, 'max_depth': 19, 'min_samples_split': 8, 'min_samples_leaf': 4}\n",
      "{'n_estimators': 150, 'max_depth': 1, 'min_samples_split': 2, 'min_samples_leaf': 8}\n",
      "{'n_estimators': 150, 'max_depth': 1, 'min_samples_split': 6, 'min_samples_leaf': 4}\n",
      "{'n_estimators': 150, 'max_depth': 1, 'min_samples_split': 10, 'min_samples_leaf': 8}\n",
      "{'n_estimators': 150, 'max_depth': 3, 'min_samples_split': 6, 'min_samples_leaf': 2}\n",
      "{'n_estimators': 150, 'max_depth': 3, 'min_samples_split': 10, 'min_samples_leaf': 6}\n",
      "{'n_estimators': 150, 'max_depth': 5, 'min_samples_split': 4, 'min_samples_leaf': 10}\n",
      "{'n_estimators': 150, 'max_depth': 5, 'min_samples_split': 10, 'min_samples_leaf': 4}\n",
      "{'n_estimators': 150, 'max_depth': 7, 'min_samples_split': 4, 'min_samples_leaf': 8}\n",
      "{'n_estimators': 150, 'max_depth': 7, 'min_samples_split': 10, 'min_samples_leaf': 2}\n",
      "{'n_estimators': 150, 'max_depth': 9, 'min_samples_split': 4, 'min_samples_leaf': 6}\n",
      "{'n_estimators': 150, 'max_depth': 9, 'min_samples_split': 10, 'min_samples_leaf': 2}\n",
      "{'n_estimators': 150, 'max_depth': 11, 'min_samples_split': 4, 'min_samples_leaf': 6}\n",
      "{'n_estimators': 150, 'max_depth': 11, 'min_samples_split': 8, 'min_samples_leaf': 10}\n",
      "{'n_estimators': 150, 'max_depth': 13, 'min_samples_split': 4, 'min_samples_leaf': 4}\n",
      "{'n_estimators': 150, 'max_depth': 13, 'min_samples_split': 8, 'min_samples_leaf': 8}\n",
      "{'n_estimators': 150, 'max_depth': 15, 'min_samples_split': 4, 'min_samples_leaf': 2}\n",
      "{'n_estimators': 150, 'max_depth': 15, 'min_samples_split': 8, 'min_samples_leaf': 6}\n",
      "{'n_estimators': 150, 'max_depth': 17, 'min_samples_split': 2, 'min_samples_leaf': 10}\n",
      "{'n_estimators': 150, 'max_depth': 17, 'min_samples_split': 8, 'min_samples_leaf': 4}\n",
      "{'n_estimators': 150, 'max_depth': 19, 'min_samples_split': 2, 'min_samples_leaf': 8}\n",
      "{'n_estimators': 150, 'max_depth': 19, 'min_samples_split': 8, 'min_samples_leaf': 2}\n",
      "{'n_estimators': 170, 'max_depth': 1, 'min_samples_split': 2, 'min_samples_leaf': 6}\n",
      "{'n_estimators': 170, 'max_depth': 1, 'min_samples_split': 6, 'min_samples_leaf': 2}\n",
      "{'n_estimators': 170, 'max_depth': 1, 'min_samples_split': 10, 'min_samples_leaf': 6}\n",
      "{'n_estimators': 170, 'max_depth': 3, 'min_samples_split': 4, 'min_samples_leaf': 10}\n",
      "{'n_estimators': 170, 'max_depth': 3, 'min_samples_split': 10, 'min_samples_leaf': 4}\n",
      "{'n_estimators': 170, 'max_depth': 5, 'min_samples_split': 4, 'min_samples_leaf': 8}\n",
      "{'n_estimators': 170, 'max_depth': 5, 'min_samples_split': 10, 'min_samples_leaf': 2}\n",
      "{'n_estimators': 170, 'max_depth': 7, 'min_samples_split': 4, 'min_samples_leaf': 6}\n",
      "{'n_estimators': 170, 'max_depth': 7, 'min_samples_split': 8, 'min_samples_leaf': 10}\n",
      "{'n_estimators': 170, 'max_depth': 9, 'min_samples_split': 4, 'min_samples_leaf': 4}\n",
      "{'n_estimators': 170, 'max_depth': 9, 'min_samples_split': 8, 'min_samples_leaf': 8}\n",
      "{'n_estimators': 170, 'max_depth': 11, 'min_samples_split': 4, 'min_samples_leaf': 2}\n",
      "{'n_estimators': 170, 'max_depth': 11, 'min_samples_split': 8, 'min_samples_leaf': 6}\n",
      "{'n_estimators': 170, 'max_depth': 13, 'min_samples_split': 2, 'min_samples_leaf': 10}\n",
      "{'n_estimators': 170, 'max_depth': 13, 'min_samples_split': 8, 'min_samples_leaf': 2}\n",
      "{'n_estimators': 170, 'max_depth': 15, 'min_samples_split': 2, 'min_samples_leaf': 6}\n",
      "{'n_estimators': 170, 'max_depth': 15, 'min_samples_split': 6, 'min_samples_leaf': 10}\n",
      "{'n_estimators': 170, 'max_depth': 17, 'min_samples_split': 2, 'min_samples_leaf': 4}\n",
      "{'n_estimators': 170, 'max_depth': 17, 'min_samples_split': 6, 'min_samples_leaf': 6}\n",
      "{'n_estimators': 170, 'max_depth': 17, 'min_samples_split': 10, 'min_samples_leaf': 10}\n",
      "{'n_estimators': 170, 'max_depth': 19, 'min_samples_split': 6, 'min_samples_leaf': 4}\n",
      "{'n_estimators': 170, 'max_depth': 19, 'min_samples_split': 10, 'min_samples_leaf': 8}\n",
      "{'n_estimators': 190, 'max_depth': 1, 'min_samples_split': 8, 'min_samples_leaf': 8}\n",
      "{'n_estimators': 190, 'max_depth': 3, 'min_samples_split': 4, 'min_samples_leaf': 2}\n",
      "{'n_estimators': 10, 'max_depth': 1, 'min_samples_split': 4, 'min_samples_leaf': 2}\n",
      "{'n_estimators': 10, 'max_depth': 1, 'min_samples_split': 8, 'min_samples_leaf': 4}\n",
      "{'n_estimators': 10, 'max_depth': 3, 'min_samples_split': 2, 'min_samples_leaf': 8}\n",
      "{'n_estimators': 10, 'max_depth': 3, 'min_samples_split': 2, 'min_samples_leaf': 10}\n",
      "{'n_estimators': 10, 'max_depth': 5, 'min_samples_split': 2, 'min_samples_leaf': 6}\n",
      "{'n_estimators': 10, 'max_depth': 5, 'min_samples_split': 2, 'min_samples_leaf': 8}\n",
      "{'n_estimators': 10, 'max_depth': 7, 'min_samples_split': 4, 'min_samples_leaf': 2}\n",
      "{'n_estimators': 10, 'max_depth': 7, 'min_samples_split': 4, 'min_samples_leaf': 4}\n",
      "{'n_estimators': 10, 'max_depth': 9, 'min_samples_split': 2, 'min_samples_leaf': 10}\n",
      "{'n_estimators': 10, 'max_depth': 9, 'min_samples_split': 4, 'min_samples_leaf': 2}\n",
      "{'n_estimators': 10, 'max_depth': 11, 'min_samples_split': 2, 'min_samples_leaf': 4}\n",
      "{'n_estimators': 10, 'max_depth': 11, 'min_samples_split': 2, 'min_samples_leaf': 6}\n",
      "{'n_estimators': 10, 'max_depth': 13, 'min_samples_split': 2, 'min_samples_leaf': 2}\n",
      "{'n_estimators': 10, 'max_depth': 13, 'min_samples_split': 2, 'min_samples_leaf': 4}\n",
      "{'n_estimators': 10, 'max_depth': 15, 'min_samples_split': 2, 'min_samples_leaf': 8}\n",
      "{'n_estimators': 10, 'max_depth': 15, 'min_samples_split': 2, 'min_samples_leaf': 10}\n",
      "{'n_estimators': 10, 'max_depth': 17, 'min_samples_split': 2, 'min_samples_leaf': 2}\n",
      "{'n_estimators': 10, 'max_depth': 17, 'min_samples_split': 2, 'min_samples_leaf': 4}\n",
      "{'n_estimators': 10, 'max_depth': 19, 'min_samples_split': 2, 'min_samples_leaf': 4}\n",
      "{'n_estimators': 10, 'max_depth': 19, 'min_samples_split': 2, 'min_samples_leaf': 6}\n",
      "{'n_estimators': 30, 'max_depth': 1, 'min_samples_split': 2, 'min_samples_leaf': 6}\n",
      "{'n_estimators': 30, 'max_depth': 1, 'min_samples_split': 2, 'min_samples_leaf': 8}\n",
      "{'n_estimators': 30, 'max_depth': 3, 'min_samples_split': 2, 'min_samples_leaf': 4}\n",
      "{'n_estimators': 30, 'max_depth': 3, 'min_samples_split': 2, 'min_samples_leaf': 6}\n",
      "{'n_estimators': 30, 'max_depth': 5, 'min_samples_split': 2, 'min_samples_leaf': 2}\n",
      "{'n_estimators': 30, 'max_depth': 5, 'min_samples_split': 2, 'min_samples_leaf': 4}\n",
      "{'n_estimators': 30, 'max_depth': 5, 'min_samples_split': 10, 'min_samples_leaf': 10}\n",
      "{'n_estimators': 30, 'max_depth': 7, 'min_samples_split': 2, 'min_samples_leaf': 2}\n",
      "{'n_estimators': 30, 'max_depth': 7, 'min_samples_split': 10, 'min_samples_leaf': 8}\n",
      "{'n_estimators': 30, 'max_depth': 7, 'min_samples_split': 10, 'min_samples_leaf': 10}\n",
      "{'n_estimators': 30, 'max_depth': 9, 'min_samples_split': 10, 'min_samples_leaf': 6}\n",
      "{'n_estimators': 30, 'max_depth': 9, 'min_samples_split': 10, 'min_samples_leaf': 8}\n",
      "{'n_estimators': 30, 'max_depth': 11, 'min_samples_split': 10, 'min_samples_leaf': 4}\n",
      "{'n_estimators': 30, 'max_depth': 11, 'min_samples_split': 10, 'min_samples_leaf': 6}\n",
      "{'n_estimators': 30, 'max_depth': 13, 'min_samples_split': 10, 'min_samples_leaf': 2}\n",
      "{'n_estimators': 30, 'max_depth': 13, 'min_samples_split': 10, 'min_samples_leaf': 4}\n",
      "{'n_estimators': 30, 'max_depth': 15, 'min_samples_split': 8, 'min_samples_leaf': 10}\n",
      "{'n_estimators': 30, 'max_depth': 15, 'min_samples_split': 10, 'min_samples_leaf': 2}\n",
      "{'n_estimators': 30, 'max_depth': 17, 'min_samples_split': 8, 'min_samples_leaf': 8}\n",
      "{'n_estimators': 30, 'max_depth': 17, 'min_samples_split': 8, 'min_samples_leaf': 10}\n",
      "{'n_estimators': 30, 'max_depth': 19, 'min_samples_split': 8, 'min_samples_leaf': 6}\n",
      "{'n_estimators': 30, 'max_depth': 19, 'min_samples_split': 8, 'min_samples_leaf': 8}\n",
      "{'n_estimators': 50, 'max_depth': 1, 'min_samples_split': 8, 'min_samples_leaf': 4}\n",
      "{'n_estimators': 50, 'max_depth': 1, 'min_samples_split': 8, 'min_samples_leaf': 6}\n",
      "{'n_estimators': 50, 'max_depth': 3, 'min_samples_split': 4, 'min_samples_leaf': 10}\n",
      "{'n_estimators': 50, 'max_depth': 3, 'min_samples_split': 8, 'min_samples_leaf': 10}\n",
      "{'n_estimators': 50, 'max_depth': 5, 'min_samples_split': 4, 'min_samples_leaf': 6}\n",
      "{'n_estimators': 50, 'max_depth': 5, 'min_samples_split': 8, 'min_samples_leaf': 8}\n",
      "{'n_estimators': 50, 'max_depth': 7, 'min_samples_split': 4, 'min_samples_leaf': 2}\n",
      "{'n_estimators': 50, 'max_depth': 7, 'min_samples_split': 8, 'min_samples_leaf': 8}\n",
      "{'n_estimators': 50, 'max_depth': 9, 'min_samples_split': 4, 'min_samples_leaf': 2}\n",
      "{'n_estimators': 50, 'max_depth': 9, 'min_samples_split': 8, 'min_samples_leaf': 6}\n",
      "{'n_estimators': 50, 'max_depth': 11, 'min_samples_split': 2, 'min_samples_leaf': 10}\n",
      "{'n_estimators': 50, 'max_depth': 11, 'min_samples_split': 8, 'min_samples_leaf': 4}\n",
      "{'n_estimators': 50, 'max_depth': 13, 'min_samples_split': 2, 'min_samples_leaf': 8}\n",
      "{'n_estimators': 50, 'max_depth': 13, 'min_samples_split': 6, 'min_samples_leaf': 10}\n",
      "{'n_estimators': 50, 'max_depth': 15, 'min_samples_split': 2, 'min_samples_leaf': 4}\n",
      "{'n_estimators': 50, 'max_depth': 15, 'min_samples_split': 6, 'min_samples_leaf': 6}\n",
      "{'n_estimators': 50, 'max_depth': 17, 'min_samples_split': 2, 'min_samples_leaf': 2}\n",
      "{'n_estimators': 50, 'max_depth': 17, 'min_samples_split': 6, 'min_samples_leaf': 8}\n",
      "{'n_estimators': 50, 'max_depth': 19, 'min_samples_split': 2, 'min_samples_leaf': 2}\n",
      "{'n_estimators': 50, 'max_depth': 19, 'min_samples_split': 6, 'min_samples_leaf': 6}\n",
      "{'n_estimators': 50, 'max_depth': 19, 'min_samples_split': 10, 'min_samples_leaf': 10}\n",
      "{'n_estimators': 70, 'max_depth': 1, 'min_samples_split': 8, 'min_samples_leaf': 4}\n",
      "{'n_estimators': 70, 'max_depth': 3, 'min_samples_split': 2, 'min_samples_leaf': 8}\n",
      "{'n_estimators': 70, 'max_depth': 3, 'min_samples_split': 8, 'min_samples_leaf': 2}\n",
      "{'n_estimators': 70, 'max_depth': 5, 'min_samples_split': 2, 'min_samples_leaf': 6}\n",
      "{'n_estimators': 70, 'max_depth': 5, 'min_samples_split': 6, 'min_samples_leaf': 8}\n",
      "{'n_estimators': 70, 'max_depth': 7, 'min_samples_split': 2, 'min_samples_leaf': 4}\n",
      "{'n_estimators': 70, 'max_depth': 7, 'min_samples_split': 6, 'min_samples_leaf': 6}\n",
      "{'n_estimators': 70, 'max_depth': 7, 'min_samples_split': 10, 'min_samples_leaf': 10}\n",
      "{'n_estimators': 70, 'max_depth': 9, 'min_samples_split': 6, 'min_samples_leaf': 4}\n",
      "{'n_estimators': 70, 'max_depth': 9, 'min_samples_split': 10, 'min_samples_leaf': 8}\n",
      "{'n_estimators': 70, 'max_depth': 11, 'min_samples_split': 6, 'min_samples_leaf': 2}\n",
      "{'n_estimators': 70, 'max_depth': 11, 'min_samples_split': 10, 'min_samples_leaf': 6}\n",
      "{'n_estimators': 70, 'max_depth': 13, 'min_samples_split': 4, 'min_samples_leaf': 10}\n",
      "{'n_estimators': 70, 'max_depth': 13, 'min_samples_split': 10, 'min_samples_leaf': 4}\n",
      "{'n_estimators': 70, 'max_depth': 15, 'min_samples_split': 4, 'min_samples_leaf': 8}\n",
      "{'n_estimators': 70, 'max_depth': 15, 'min_samples_split': 10, 'min_samples_leaf': 2}\n",
      "{'n_estimators': 70, 'max_depth': 17, 'min_samples_split': 4, 'min_samples_leaf': 6}\n",
      "{'n_estimators': 70, 'max_depth': 17, 'min_samples_split': 8, 'min_samples_leaf': 10}\n",
      "{'n_estimators': 70, 'max_depth': 19, 'min_samples_split': 4, 'min_samples_leaf': 4}\n",
      "{'n_estimators': 70, 'max_depth': 19, 'min_samples_split': 8, 'min_samples_leaf': 8}\n",
      "{'n_estimators': 90, 'max_depth': 1, 'min_samples_split': 4, 'min_samples_leaf': 2}\n",
      "{'n_estimators': 90, 'max_depth': 1, 'min_samples_split': 8, 'min_samples_leaf': 4}\n",
      "{'n_estimators': 90, 'max_depth': 3, 'min_samples_split': 2, 'min_samples_leaf': 8}\n",
      "{'n_estimators': 90, 'max_depth': 3, 'min_samples_split': 8, 'min_samples_leaf': 2}\n",
      "{'n_estimators': 90, 'max_depth': 5, 'min_samples_split': 2, 'min_samples_leaf': 6}\n",
      "{'n_estimators': 90, 'max_depth': 5, 'min_samples_split': 8, 'min_samples_leaf': 2}\n",
      "{'n_estimators': 90, 'max_depth': 7, 'min_samples_split': 2, 'min_samples_leaf': 6}\n",
      "{'n_estimators': 90, 'max_depth': 7, 'min_samples_split': 6, 'min_samples_leaf': 10}\n",
      "{'n_estimators': 90, 'max_depth': 9, 'min_samples_split': 2, 'min_samples_leaf': 4}\n",
      "{'n_estimators': 90, 'max_depth': 9, 'min_samples_split': 6, 'min_samples_leaf': 8}\n",
      "{'n_estimators': 90, 'max_depth': 11, 'min_samples_split': 2, 'min_samples_leaf': 2}\n",
      "{'n_estimators': 90, 'max_depth': 11, 'min_samples_split': 6, 'min_samples_leaf': 8}\n",
      "{'n_estimators': 90, 'max_depth': 13, 'min_samples_split': 2, 'min_samples_leaf': 4}\n",
      "{'n_estimators': 90, 'max_depth': 13, 'min_samples_split': 6, 'min_samples_leaf': 10}\n",
      "{'n_estimators': 90, 'max_depth': 15, 'min_samples_split': 2, 'min_samples_leaf': 4}\n",
      "{'n_estimators': 90, 'max_depth': 15, 'min_samples_split': 6, 'min_samples_leaf': 6}\n",
      "{'n_estimators': 90, 'max_depth': 17, 'min_samples_split': 2, 'min_samples_leaf': 2}\n",
      "{'n_estimators': 90, 'max_depth': 17, 'min_samples_split': 6, 'min_samples_leaf': 8}\n",
      "{'n_estimators': 90, 'max_depth': 19, 'min_samples_split': 2, 'min_samples_leaf': 4}\n",
      "{'n_estimators': 90, 'max_depth': 19, 'min_samples_split': 6, 'min_samples_leaf': 8}\n",
      "{'n_estimators': 110, 'max_depth': 1, 'min_samples_split': 2, 'min_samples_leaf': 2}\n",
      "{'n_estimators': 110, 'max_depth': 1, 'min_samples_split': 4, 'min_samples_leaf': 6}\n",
      "{'n_estimators': 110, 'max_depth': 1, 'min_samples_split': 8, 'min_samples_leaf': 10}\n",
      "{'n_estimators': 110, 'max_depth': 3, 'min_samples_split': 4, 'min_samples_leaf': 4}\n",
      "{'n_estimators': 110, 'max_depth': 3, 'min_samples_split': 8, 'min_samples_leaf': 10}\n",
      "{'n_estimators': 110, 'max_depth': 5, 'min_samples_split': 4, 'min_samples_leaf': 4}\n",
      "{'n_estimators': 110, 'max_depth': 5, 'min_samples_split': 8, 'min_samples_leaf': 8}\n",
      "{'n_estimators': 110, 'max_depth': 7, 'min_samples_split': 4, 'min_samples_leaf': 2}\n",
      "{'n_estimators': 110, 'max_depth': 7, 'min_samples_split': 8, 'min_samples_leaf': 6}\n",
      "{'n_estimators': 110, 'max_depth': 9, 'min_samples_split': 2, 'min_samples_leaf': 10}\n",
      "{'n_estimators': 110, 'max_depth': 9, 'min_samples_split': 8, 'min_samples_leaf': 4}\n",
      "{'n_estimators': 110, 'max_depth': 11, 'min_samples_split': 2, 'min_samples_leaf': 10}\n",
      "{'n_estimators': 110, 'max_depth': 11, 'min_samples_split': 8, 'min_samples_leaf': 2}\n",
      "{'n_estimators': 110, 'max_depth': 13, 'min_samples_split': 2, 'min_samples_leaf': 6}\n",
      "{'n_estimators': 110, 'max_depth': 13, 'min_samples_split': 8, 'min_samples_leaf': 2}\n",
      "{'n_estimators': 110, 'max_depth': 15, 'min_samples_split': 2, 'min_samples_leaf': 6}\n",
      "{'n_estimators': 110, 'max_depth': 15, 'min_samples_split': 6, 'min_samples_leaf': 10}\n",
      "{'n_estimators': 110, 'max_depth': 17, 'min_samples_split': 2, 'min_samples_leaf': 4}\n",
      "{'n_estimators': 110, 'max_depth': 17, 'min_samples_split': 6, 'min_samples_leaf': 6}\n",
      "{'n_estimators': 110, 'max_depth': 17, 'min_samples_split': 10, 'min_samples_leaf': 10}\n",
      "{'n_estimators': 110, 'max_depth': 19, 'min_samples_split': 6, 'min_samples_leaf': 4}\n",
      "{'n_estimators': 110, 'max_depth': 19, 'min_samples_split': 10, 'min_samples_leaf': 8}\n",
      "{'n_estimators': 130, 'max_depth': 1, 'min_samples_split': 8, 'min_samples_leaf': 6}\n",
      "{'n_estimators': 130, 'max_depth': 3, 'min_samples_split': 2, 'min_samples_leaf': 10}\n",
      "{'n_estimators': 130, 'max_depth': 3, 'min_samples_split': 8, 'min_samples_leaf': 4}\n",
      "{'n_estimators': 130, 'max_depth': 5, 'min_samples_split': 2, 'min_samples_leaf': 8}\n",
      "{'n_estimators': 130, 'max_depth': 5, 'min_samples_split': 8, 'min_samples_leaf': 2}\n",
      "{'n_estimators': 130, 'max_depth': 7, 'min_samples_split': 2, 'min_samples_leaf': 6}\n",
      "{'n_estimators': 130, 'max_depth': 7, 'min_samples_split': 6, 'min_samples_leaf': 10}\n",
      "{'n_estimators': 130, 'max_depth': 9, 'min_samples_split': 2, 'min_samples_leaf': 4}\n",
      "{'n_estimators': 130, 'max_depth': 9, 'min_samples_split': 6, 'min_samples_leaf': 8}\n",
      "{'n_estimators': 130, 'max_depth': 11, 'min_samples_split': 2, 'min_samples_leaf': 4}\n",
      "{'n_estimators': 130, 'max_depth': 11, 'min_samples_split': 6, 'min_samples_leaf': 8}\n",
      "{'n_estimators': 130, 'max_depth': 13, 'min_samples_split': 2, 'min_samples_leaf': 2}\n",
      "{'n_estimators': 130, 'max_depth': 13, 'min_samples_split': 6, 'min_samples_leaf': 8}\n",
      "{'n_estimators': 130, 'max_depth': 15, 'min_samples_split': 2, 'min_samples_leaf': 2}\n",
      "{'n_estimators': 130, 'max_depth': 15, 'min_samples_split': 6, 'min_samples_leaf': 8}\n",
      "{'n_estimators': 130, 'max_depth': 17, 'min_samples_split': 2, 'min_samples_leaf': 2}\n",
      "{'n_estimators': 130, 'max_depth': 17, 'min_samples_split': 6, 'min_samples_leaf': 8}\n",
      "{'n_estimators': 130, 'max_depth': 19, 'min_samples_split': 2, 'min_samples_leaf': 2}\n",
      "{'n_estimators': 130, 'max_depth': 19, 'min_samples_split': 6, 'min_samples_leaf': 8}\n",
      "{'n_estimators': 150, 'max_depth': 1, 'min_samples_split': 2, 'min_samples_leaf': 2}\n",
      "{'n_estimators': 150, 'max_depth': 1, 'min_samples_split': 4, 'min_samples_leaf': 4}\n",
      "{'n_estimators': 150, 'max_depth': 1, 'min_samples_split': 8, 'min_samples_leaf': 4}\n",
      "{'n_estimators': 150, 'max_depth': 3, 'min_samples_split': 2, 'min_samples_leaf': 8}\n",
      "{'n_estimators': 150, 'max_depth': 3, 'min_samples_split': 8, 'min_samples_leaf': 2}\n",
      "{'n_estimators': 150, 'max_depth': 5, 'min_samples_split': 2, 'min_samples_leaf': 6}\n",
      "{'n_estimators': 150, 'max_depth': 5, 'min_samples_split': 6, 'min_samples_leaf': 10}\n",
      "{'n_estimators': 150, 'max_depth': 7, 'min_samples_split': 2, 'min_samples_leaf': 4}\n",
      "{'n_estimators': 150, 'max_depth': 7, 'min_samples_split': 6, 'min_samples_leaf': 8}\n",
      "{'n_estimators': 150, 'max_depth': 9, 'min_samples_split': 2, 'min_samples_leaf': 2}\n",
      "{'n_estimators': 150, 'max_depth': 9, 'min_samples_split': 6, 'min_samples_leaf': 6}\n",
      "{'n_estimators': 150, 'max_depth': 9, 'min_samples_split': 10, 'min_samples_leaf': 10}\n",
      "{'n_estimators': 150, 'max_depth': 11, 'min_samples_split': 6, 'min_samples_leaf': 4}\n",
      "{'n_estimators': 150, 'max_depth': 11, 'min_samples_split': 10, 'min_samples_leaf': 8}\n",
      "{'n_estimators': 150, 'max_depth': 13, 'min_samples_split': 6, 'min_samples_leaf': 2}\n",
      "{'n_estimators': 150, 'max_depth': 13, 'min_samples_split': 10, 'min_samples_leaf': 6}\n",
      "{'n_estimators': 150, 'max_depth': 15, 'min_samples_split': 4, 'min_samples_leaf': 10}\n",
      "{'n_estimators': 150, 'max_depth': 15, 'min_samples_split': 10, 'min_samples_leaf': 4}\n",
      "{'n_estimators': 150, 'max_depth': 17, 'min_samples_split': 4, 'min_samples_leaf': 8}\n",
      "{'n_estimators': 150, 'max_depth': 17, 'min_samples_split': 10, 'min_samples_leaf': 2}\n",
      "{'n_estimators': 150, 'max_depth': 19, 'min_samples_split': 4, 'min_samples_leaf': 6}\n",
      "{'n_estimators': 150, 'max_depth': 19, 'min_samples_split': 8, 'min_samples_leaf': 10}\n",
      "{'n_estimators': 170, 'max_depth': 1, 'min_samples_split': 4, 'min_samples_leaf': 4}\n",
      "{'n_estimators': 170, 'max_depth': 1, 'min_samples_split': 8, 'min_samples_leaf': 2}\n",
      "{'n_estimators': 170, 'max_depth': 3, 'min_samples_split': 2, 'min_samples_leaf': 6}\n",
      "{'n_estimators': 170, 'max_depth': 3, 'min_samples_split': 6, 'min_samples_leaf': 10}\n",
      "{'n_estimators': 170, 'max_depth': 5, 'min_samples_split': 2, 'min_samples_leaf': 4}\n",
      "{'n_estimators': 170, 'max_depth': 5, 'min_samples_split': 6, 'min_samples_leaf': 8}\n",
      "{'n_estimators': 170, 'max_depth': 7, 'min_samples_split': 2, 'min_samples_leaf': 2}\n",
      "{'n_estimators': 170, 'max_depth': 7, 'min_samples_split': 6, 'min_samples_leaf': 6}\n",
      "{'n_estimators': 170, 'max_depth': 7, 'min_samples_split': 10, 'min_samples_leaf': 10}\n",
      "{'n_estimators': 170, 'max_depth': 9, 'min_samples_split': 6, 'min_samples_leaf': 4}\n",
      "{'n_estimators': 170, 'max_depth': 9, 'min_samples_split': 10, 'min_samples_leaf': 8}\n",
      "{'n_estimators': 170, 'max_depth': 11, 'min_samples_split': 6, 'min_samples_leaf': 2}\n",
      "{'n_estimators': 170, 'max_depth': 11, 'min_samples_split': 10, 'min_samples_leaf': 6}\n",
      "{'n_estimators': 170, 'max_depth': 13, 'min_samples_split': 4, 'min_samples_leaf': 10}\n",
      "{'n_estimators': 170, 'max_depth': 13, 'min_samples_split': 10, 'min_samples_leaf': 4}\n",
      "{'n_estimators': 170, 'max_depth': 15, 'min_samples_split': 4, 'min_samples_leaf': 8}\n",
      "{'n_estimators': 170, 'max_depth': 15, 'min_samples_split': 10, 'min_samples_leaf': 2}\n",
      "{'n_estimators': 170, 'max_depth': 17, 'min_samples_split': 4, 'min_samples_leaf': 6}\n",
      "{'n_estimators': 170, 'max_depth': 17, 'min_samples_split': 8, 'min_samples_leaf': 10}\n",
      "{'n_estimators': 170, 'max_depth': 19, 'min_samples_split': 4, 'min_samples_leaf': 4}\n",
      "{'n_estimators': 170, 'max_depth': 19, 'min_samples_split': 8, 'min_samples_leaf': 6}\n",
      "{'n_estimators': 190, 'max_depth': 1, 'min_samples_split': 2, 'min_samples_leaf': 10}\n",
      "{'n_estimators': 190, 'max_depth': 1, 'min_samples_split': 6, 'min_samples_leaf': 8}\n",
      "{'n_estimators': 190, 'max_depth': 3, 'min_samples_split': 2, 'min_samples_leaf': 2}\n",
      "{'n_estimators': 190, 'max_depth': 3, 'min_samples_split': 6, 'min_samples_leaf': 6}\n",
      "{'n_estimators': 10, 'max_depth': 1, 'min_samples_split': 6, 'min_samples_leaf': 10}\n",
      "{'n_estimators': 10, 'max_depth': 1, 'min_samples_split': 10, 'min_samples_leaf': 10}\n",
      "{'n_estimators': 10, 'max_depth': 3, 'min_samples_split': 2, 'min_samples_leaf': 2}\n",
      "{'n_estimators': 10, 'max_depth': 3, 'min_samples_split': 10, 'min_samples_leaf': 8}\n",
      "{'n_estimators': 10, 'max_depth': 3, 'min_samples_split': 10, 'min_samples_leaf': 10}\n",
      "{'n_estimators': 10, 'max_depth': 5, 'min_samples_split': 10, 'min_samples_leaf': 6}\n",
      "{'n_estimators': 10, 'max_depth': 5, 'min_samples_split': 10, 'min_samples_leaf': 8}\n",
      "{'n_estimators': 10, 'max_depth': 7, 'min_samples_split': 10, 'min_samples_leaf': 4}\n",
      "{'n_estimators': 10, 'max_depth': 7, 'min_samples_split': 10, 'min_samples_leaf': 6}\n",
      "{'n_estimators': 10, 'max_depth': 9, 'min_samples_split': 10, 'min_samples_leaf': 2}\n",
      "{'n_estimators': 10, 'max_depth': 9, 'min_samples_split': 10, 'min_samples_leaf': 4}\n",
      "{'n_estimators': 10, 'max_depth': 11, 'min_samples_split': 8, 'min_samples_leaf': 10}\n",
      "{'n_estimators': 10, 'max_depth': 11, 'min_samples_split': 10, 'min_samples_leaf': 2}\n",
      "{'n_estimators': 10, 'max_depth': 13, 'min_samples_split': 8, 'min_samples_leaf': 8}\n",
      "{'n_estimators': 10, 'max_depth': 13, 'min_samples_split': 8, 'min_samples_leaf': 10}\n",
      "{'n_estimators': 10, 'max_depth': 15, 'min_samples_split': 8, 'min_samples_leaf': 6}\n",
      "{'n_estimators': 10, 'max_depth': 15, 'min_samples_split': 8, 'min_samples_leaf': 8}\n",
      "{'n_estimators': 10, 'max_depth': 17, 'min_samples_split': 6, 'min_samples_leaf': 10}\n",
      "{'n_estimators': 10, 'max_depth': 17, 'min_samples_split': 8, 'min_samples_leaf': 2}\n",
      "{'n_estimators': 10, 'max_depth': 19, 'min_samples_split': 6, 'min_samples_leaf': 8}\n",
      "{'n_estimators': 10, 'max_depth': 19, 'min_samples_split': 6, 'min_samples_leaf': 10}\n",
      "{'n_estimators': 30, 'max_depth': 1, 'min_samples_split': 6, 'min_samples_leaf': 6}\n",
      "{'n_estimators': 30, 'max_depth': 1, 'min_samples_split': 6, 'min_samples_leaf': 8}\n",
      "{'n_estimators': 30, 'max_depth': 3, 'min_samples_split': 6, 'min_samples_leaf': 4}\n",
      "{'n_estimators': 30, 'max_depth': 3, 'min_samples_split': 6, 'min_samples_leaf': 6}\n",
      "{'n_estimators': 30, 'max_depth': 5, 'min_samples_split': 4, 'min_samples_leaf': 8}\n",
      "{'n_estimators': 30, 'max_depth': 5, 'min_samples_split': 4, 'min_samples_leaf': 10}\n",
      "{'n_estimators': 30, 'max_depth': 7, 'min_samples_split': 4, 'min_samples_leaf': 6}\n",
      "{'n_estimators': 30, 'max_depth': 7, 'min_samples_split': 4, 'min_samples_leaf': 8}\n",
      "{'n_estimators': 30, 'max_depth': 9, 'min_samples_split': 4, 'min_samples_leaf': 4}\n",
      "{'n_estimators': 30, 'max_depth': 9, 'min_samples_split': 4, 'min_samples_leaf': 6}\n",
      "{'n_estimators': 30, 'max_depth': 11, 'min_samples_split': 4, 'min_samples_leaf': 2}\n",
      "{'n_estimators': 30, 'max_depth': 11, 'min_samples_split': 4, 'min_samples_leaf': 4}\n",
      "{'n_estimators': 30, 'max_depth': 13, 'min_samples_split': 4, 'min_samples_leaf': 4}\n",
      "{'n_estimators': 30, 'max_depth': 13, 'min_samples_split': 4, 'min_samples_leaf': 6}\n",
      "{'n_estimators': 30, 'max_depth': 15, 'min_samples_split': 4, 'min_samples_leaf': 6}\n",
      "{'n_estimators': 30, 'max_depth': 15, 'min_samples_split': 4, 'min_samples_leaf': 8}\n",
      "{'n_estimators': 30, 'max_depth': 17, 'min_samples_split': 2, 'min_samples_leaf': 10}\n",
      "{'n_estimators': 30, 'max_depth': 17, 'min_samples_split': 4, 'min_samples_leaf': 2}\n",
      "{'n_estimators': 30, 'max_depth': 19, 'min_samples_split': 2, 'min_samples_leaf': 8}\n",
      "{'n_estimators': 30, 'max_depth': 19, 'min_samples_split': 2, 'min_samples_leaf': 10}\n",
      "{'n_estimators': 50, 'max_depth': 1, 'min_samples_split': 2, 'min_samples_leaf': 2}\n",
      "{'n_estimators': 50, 'max_depth': 1, 'min_samples_split': 2, 'min_samples_leaf': 4}\n",
      "{'n_estimators': 50, 'max_depth': 1, 'min_samples_split': 8, 'min_samples_leaf': 8}\n",
      "{'n_estimators': 50, 'max_depth': 1, 'min_samples_split': 8, 'min_samples_leaf': 10}\n",
      "{'n_estimators': 50, 'max_depth': 3, 'min_samples_split': 6, 'min_samples_leaf': 2}\n",
      "{'n_estimators': 50, 'max_depth': 3, 'min_samples_split': 10, 'min_samples_leaf': 6}\n",
      "{'n_estimators': 50, 'max_depth': 5, 'min_samples_split': 4, 'min_samples_leaf': 10}\n",
      "{'n_estimators': 50, 'max_depth': 5, 'min_samples_split': 10, 'min_samples_leaf': 2}\n",
      "{'n_estimators': 50, 'max_depth': 7, 'min_samples_split': 4, 'min_samples_leaf': 8}\n",
      "{'n_estimators': 50, 'max_depth': 7, 'min_samples_split': 10, 'min_samples_leaf': 2}\n",
      "{'n_estimators': 50, 'max_depth': 9, 'min_samples_split': 4, 'min_samples_leaf': 6}\n",
      "{'n_estimators': 50, 'max_depth': 9, 'min_samples_split': 8, 'min_samples_leaf': 10}\n",
      "{'n_estimators': 50, 'max_depth': 11, 'min_samples_split': 4, 'min_samples_leaf': 4}\n",
      "{'n_estimators': 50, 'max_depth': 11, 'min_samples_split': 8, 'min_samples_leaf': 8}\n",
      "{'n_estimators': 50, 'max_depth': 13, 'min_samples_split': 4, 'min_samples_leaf': 2}\n",
      "{'n_estimators': 50, 'max_depth': 13, 'min_samples_split': 8, 'min_samples_leaf': 8}\n",
      "{'n_estimators': 50, 'max_depth': 15, 'min_samples_split': 4, 'min_samples_leaf': 2}\n",
      "{'n_estimators': 50, 'max_depth': 15, 'min_samples_split': 8, 'min_samples_leaf': 6}\n",
      "{'n_estimators': 50, 'max_depth': 17, 'min_samples_split': 2, 'min_samples_leaf': 10}\n",
      "{'n_estimators': 50, 'max_depth': 17, 'min_samples_split': 8, 'min_samples_leaf': 4}\n",
      "{'n_estimators': 50, 'max_depth': 19, 'min_samples_split': 2, 'min_samples_leaf': 8}\n",
      "{'n_estimators': 50, 'max_depth': 19, 'min_samples_split': 6, 'min_samples_leaf': 10}\n",
      "{'n_estimators': 70, 'max_depth': 1, 'min_samples_split': 2, 'min_samples_leaf': 4}\n",
      "{'n_estimators': 70, 'max_depth': 1, 'min_samples_split': 6, 'min_samples_leaf': 2}\n",
      "{'n_estimators': 70, 'max_depth': 1, 'min_samples_split': 10, 'min_samples_leaf': 6}\n",
      "{'n_estimators': 70, 'max_depth': 3, 'min_samples_split': 4, 'min_samples_leaf': 10}\n",
      "{'n_estimators': 70, 'max_depth': 3, 'min_samples_split': 10, 'min_samples_leaf': 4}\n",
      "{'n_estimators': 70, 'max_depth': 5, 'min_samples_split': 4, 'min_samples_leaf': 8}\n",
      "{'n_estimators': 70, 'max_depth': 5, 'min_samples_split': 10, 'min_samples_leaf': 2}\n",
      "{'n_estimators': 70, 'max_depth': 7, 'min_samples_split': 4, 'min_samples_leaf': 6}\n",
      "{'n_estimators': 70, 'max_depth': 7, 'min_samples_split': 8, 'min_samples_leaf': 8}\n",
      "{'n_estimators': 70, 'max_depth': 9, 'min_samples_split': 4, 'min_samples_leaf': 2}\n",
      "{'n_estimators': 70, 'max_depth': 9, 'min_samples_split': 8, 'min_samples_leaf': 6}\n",
      "{'n_estimators': 70, 'max_depth': 11, 'min_samples_split': 2, 'min_samples_leaf': 10}\n",
      "{'n_estimators': 70, 'max_depth': 11, 'min_samples_split': 8, 'min_samples_leaf': 4}\n",
      "{'n_estimators': 70, 'max_depth': 13, 'min_samples_split': 2, 'min_samples_leaf': 8}\n",
      "{'n_estimators': 70, 'max_depth': 13, 'min_samples_split': 8, 'min_samples_leaf': 2}\n",
      "{'n_estimators': 70, 'max_depth': 15, 'min_samples_split': 2, 'min_samples_leaf': 8}\n",
      "{'n_estimators': 70, 'max_depth': 15, 'min_samples_split': 6, 'min_samples_leaf': 10}\n",
      "{'n_estimators': 70, 'max_depth': 17, 'min_samples_split': 2, 'min_samples_leaf': 4}\n",
      "{'n_estimators': 70, 'max_depth': 17, 'min_samples_split': 6, 'min_samples_leaf': 8}\n",
      "{'n_estimators': 70, 'max_depth': 19, 'min_samples_split': 2, 'min_samples_leaf': 2}\n",
      "{'n_estimators': 70, 'max_depth': 19, 'min_samples_split': 6, 'min_samples_leaf': 6}\n",
      "{'n_estimators': 70, 'max_depth': 19, 'min_samples_split': 10, 'min_samples_leaf': 10}\n",
      "{'n_estimators': 90, 'max_depth': 1, 'min_samples_split': 8, 'min_samples_leaf': 6}\n",
      "{'n_estimators': 90, 'max_depth': 3, 'min_samples_split': 2, 'min_samples_leaf': 10}\n",
      "{'n_estimators': 90, 'max_depth': 3, 'min_samples_split': 8, 'min_samples_leaf': 4}\n",
      "{'n_estimators': 90, 'max_depth': 5, 'min_samples_split': 2, 'min_samples_leaf': 8}\n",
      "{'n_estimators': 90, 'max_depth': 5, 'min_samples_split': 6, 'min_samples_leaf': 10}\n",
      "{'n_estimators': 90, 'max_depth': 7, 'min_samples_split': 2, 'min_samples_leaf': 4}\n",
      "{'n_estimators': 90, 'max_depth': 7, 'min_samples_split': 6, 'min_samples_leaf': 8}\n",
      "{'n_estimators': 90, 'max_depth': 9, 'min_samples_split': 2, 'min_samples_leaf': 2}\n",
      "{'n_estimators': 90, 'max_depth': 9, 'min_samples_split': 6, 'min_samples_leaf': 6}\n",
      "{'n_estimators': 90, 'max_depth': 9, 'min_samples_split': 10, 'min_samples_leaf': 10}\n",
      "{'n_estimators': 90, 'max_depth': 11, 'min_samples_split': 6, 'min_samples_leaf': 4}\n",
      "{'n_estimators': 90, 'max_depth': 11, 'min_samples_split': 10, 'min_samples_leaf': 8}\n",
      "{'n_estimators': 90, 'max_depth': 13, 'min_samples_split': 6, 'min_samples_leaf': 2}\n",
      "{'n_estimators': 90, 'max_depth': 13, 'min_samples_split': 10, 'min_samples_leaf': 6}\n",
      "{'n_estimators': 90, 'max_depth': 15, 'min_samples_split': 4, 'min_samples_leaf': 10}\n",
      "{'n_estimators': 90, 'max_depth': 15, 'min_samples_split': 10, 'min_samples_leaf': 4}\n",
      "{'n_estimators': 90, 'max_depth': 17, 'min_samples_split': 4, 'min_samples_leaf': 8}\n",
      "{'n_estimators': 90, 'max_depth': 17, 'min_samples_split': 10, 'min_samples_leaf': 2}\n",
      "{'n_estimators': 90, 'max_depth': 19, 'min_samples_split': 4, 'min_samples_leaf': 6}\n",
      "{'n_estimators': 90, 'max_depth': 19, 'min_samples_split': 8, 'min_samples_leaf': 10}\n",
      "{'n_estimators': 110, 'max_depth': 1, 'min_samples_split': 4, 'min_samples_leaf': 4}\n",
      "{'n_estimators': 110, 'max_depth': 1, 'min_samples_split': 8, 'min_samples_leaf': 8}\n",
      "{'n_estimators': 110, 'max_depth': 3, 'min_samples_split': 4, 'min_samples_leaf': 2}\n",
      "{'n_estimators': 110, 'max_depth': 3, 'min_samples_split': 8, 'min_samples_leaf': 6}\n",
      "{'n_estimators': 110, 'max_depth': 5, 'min_samples_split': 2, 'min_samples_leaf': 10}\n",
      "{'n_estimators': 110, 'max_depth': 5, 'min_samples_split': 8, 'min_samples_leaf': 4}\n",
      "{'n_estimators': 110, 'max_depth': 7, 'min_samples_split': 2, 'min_samples_leaf': 8}\n",
      "{'n_estimators': 110, 'max_depth': 7, 'min_samples_split': 8, 'min_samples_leaf': 2}\n",
      "{'n_estimators': 110, 'max_depth': 9, 'min_samples_split': 2, 'min_samples_leaf': 6}\n",
      "{'n_estimators': 110, 'max_depth': 9, 'min_samples_split': 6, 'min_samples_leaf': 8}\n",
      "{'n_estimators': 110, 'max_depth': 11, 'min_samples_split': 2, 'min_samples_leaf': 2}\n",
      "{'n_estimators': 110, 'max_depth': 11, 'min_samples_split': 6, 'min_samples_leaf': 8}\n",
      "{'n_estimators': 110, 'max_depth': 11, 'min_samples_split': 10, 'min_samples_leaf': 10}\n",
      "{'n_estimators': 110, 'max_depth': 13, 'min_samples_split': 6, 'min_samples_leaf': 4}\n",
      "{'n_estimators': 110, 'max_depth': 13, 'min_samples_split': 10, 'min_samples_leaf': 8}\n",
      "{'n_estimators': 110, 'max_depth': 15, 'min_samples_split': 6, 'min_samples_leaf': 2}\n",
      "{'n_estimators': 110, 'max_depth': 15, 'min_samples_split': 10, 'min_samples_leaf': 6}\n",
      "{'n_estimators': 110, 'max_depth': 17, 'min_samples_split': 4, 'min_samples_leaf': 10}\n",
      "{'n_estimators': 110, 'max_depth': 17, 'min_samples_split': 10, 'min_samples_leaf': 4}\n",
      "{'n_estimators': 110, 'max_depth': 19, 'min_samples_split': 4, 'min_samples_leaf': 8}\n",
      "{'n_estimators': 110, 'max_depth': 19, 'min_samples_split': 10, 'min_samples_leaf': 2}\n",
      "{'n_estimators': 130, 'max_depth': 1, 'min_samples_split': 4, 'min_samples_leaf': 10}\n",
      "{'n_estimators': 130, 'max_depth': 1, 'min_samples_split': 10, 'min_samples_leaf': 4}\n",
      "{'n_estimators': 130, 'max_depth': 3, 'min_samples_split': 4, 'min_samples_leaf': 8}\n",
      "{'n_estimators': 130, 'max_depth': 3, 'min_samples_split': 10, 'min_samples_leaf': 2}\n",
      "{'n_estimators': 130, 'max_depth': 5, 'min_samples_split': 4, 'min_samples_leaf': 6}\n",
      "{'n_estimators': 130, 'max_depth': 5, 'min_samples_split': 8, 'min_samples_leaf': 10}\n",
      "{'n_estimators': 130, 'max_depth': 7, 'min_samples_split': 4, 'min_samples_leaf': 4}\n",
      "{'n_estimators': 130, 'max_depth': 7, 'min_samples_split': 8, 'min_samples_leaf': 8}\n",
      "{'n_estimators': 130, 'max_depth': 9, 'min_samples_split': 4, 'min_samples_leaf': 2}\n",
      "{'n_estimators': 130, 'max_depth': 9, 'min_samples_split': 8, 'min_samples_leaf': 6}\n",
      "{'n_estimators': 130, 'max_depth': 11, 'min_samples_split': 2, 'min_samples_leaf': 10}\n",
      "{'n_estimators': 130, 'max_depth': 11, 'min_samples_split': 8, 'min_samples_leaf': 4}\n",
      "{'n_estimators': 130, 'max_depth': 13, 'min_samples_split': 2, 'min_samples_leaf': 8}\n",
      "{'n_estimators': 130, 'max_depth': 13, 'min_samples_split': 8, 'min_samples_leaf': 2}\n",
      "{'n_estimators': 130, 'max_depth': 15, 'min_samples_split': 2, 'min_samples_leaf': 6}\n",
      "{'n_estimators': 130, 'max_depth': 15, 'min_samples_split': 6, 'min_samples_leaf': 10}\n",
      "{'n_estimators': 130, 'max_depth': 17, 'min_samples_split': 2, 'min_samples_leaf': 4}\n",
      "{'n_estimators': 130, 'max_depth': 17, 'min_samples_split': 6, 'min_samples_leaf': 6}\n",
      "{'n_estimators': 130, 'max_depth': 17, 'min_samples_split': 10, 'min_samples_leaf': 10}\n",
      "{'n_estimators': 130, 'max_depth': 19, 'min_samples_split': 6, 'min_samples_leaf': 4}\n",
      "{'n_estimators': 130, 'max_depth': 19, 'min_samples_split': 10, 'min_samples_leaf': 8}\n",
      "{'n_estimators': 150, 'max_depth': 1, 'min_samples_split': 8, 'min_samples_leaf': 6}\n",
      "{'n_estimators': 150, 'max_depth': 3, 'min_samples_split': 2, 'min_samples_leaf': 10}\n",
      "{'n_estimators': 150, 'max_depth': 3, 'min_samples_split': 8, 'min_samples_leaf': 4}\n",
      "{'n_estimators': 150, 'max_depth': 5, 'min_samples_split': 2, 'min_samples_leaf': 8}\n",
      "{'n_estimators': 150, 'max_depth': 5, 'min_samples_split': 8, 'min_samples_leaf': 2}\n",
      "{'n_estimators': 150, 'max_depth': 7, 'min_samples_split': 2, 'min_samples_leaf': 6}\n",
      "{'n_estimators': 150, 'max_depth': 7, 'min_samples_split': 6, 'min_samples_leaf': 10}\n",
      "{'n_estimators': 150, 'max_depth': 9, 'min_samples_split': 2, 'min_samples_leaf': 4}\n",
      "{'n_estimators': 150, 'max_depth': 9, 'min_samples_split': 6, 'min_samples_leaf': 8}\n",
      "{'n_estimators': 150, 'max_depth': 11, 'min_samples_split': 2, 'min_samples_leaf': 2}\n",
      "{'n_estimators': 150, 'max_depth': 11, 'min_samples_split': 6, 'min_samples_leaf': 6}\n",
      "{'n_estimators': 150, 'max_depth': 11, 'min_samples_split': 10, 'min_samples_leaf': 10}\n",
      "{'n_estimators': 150, 'max_depth': 13, 'min_samples_split': 6, 'min_samples_leaf': 4}\n",
      "{'n_estimators': 150, 'max_depth': 13, 'min_samples_split': 10, 'min_samples_leaf': 8}\n",
      "{'n_estimators': 150, 'max_depth': 15, 'min_samples_split': 6, 'min_samples_leaf': 2}\n",
      "{'n_estimators': 150, 'max_depth': 15, 'min_samples_split': 10, 'min_samples_leaf': 6}\n",
      "{'n_estimators': 150, 'max_depth': 17, 'min_samples_split': 4, 'min_samples_leaf': 10}\n",
      "{'n_estimators': 150, 'max_depth': 17, 'min_samples_split': 10, 'min_samples_leaf': 4}\n",
      "{'n_estimators': 150, 'max_depth': 19, 'min_samples_split': 4, 'min_samples_leaf': 8}\n",
      "{'n_estimators': 150, 'max_depth': 19, 'min_samples_split': 10, 'min_samples_leaf': 2}\n",
      "{'n_estimators': 170, 'max_depth': 1, 'min_samples_split': 4, 'min_samples_leaf': 10}\n",
      "{'n_estimators': 170, 'max_depth': 1, 'min_samples_split': 10, 'min_samples_leaf': 2}\n",
      "{'n_estimators': 170, 'max_depth': 3, 'min_samples_split': 4, 'min_samples_leaf': 6}\n",
      "{'n_estimators': 170, 'max_depth': 3, 'min_samples_split': 8, 'min_samples_leaf': 10}\n",
      "{'n_estimators': 170, 'max_depth': 5, 'min_samples_split': 4, 'min_samples_leaf': 4}\n",
      "{'n_estimators': 170, 'max_depth': 5, 'min_samples_split': 8, 'min_samples_leaf': 8}\n",
      "{'n_estimators': 170, 'max_depth': 7, 'min_samples_split': 4, 'min_samples_leaf': 2}\n",
      "{'n_estimators': 170, 'max_depth': 7, 'min_samples_split': 8, 'min_samples_leaf': 6}\n",
      "{'n_estimators': 170, 'max_depth': 9, 'min_samples_split': 2, 'min_samples_leaf': 10}\n",
      "{'n_estimators': 170, 'max_depth': 9, 'min_samples_split': 8, 'min_samples_leaf': 4}\n",
      "{'n_estimators': 170, 'max_depth': 11, 'min_samples_split': 2, 'min_samples_leaf': 8}\n",
      "{'n_estimators': 170, 'max_depth': 11, 'min_samples_split': 8, 'min_samples_leaf': 4}\n",
      "{'n_estimators': 170, 'max_depth': 13, 'min_samples_split': 2, 'min_samples_leaf': 8}\n",
      "{'n_estimators': 170, 'max_depth': 13, 'min_samples_split': 8, 'min_samples_leaf': 4}\n",
      "{'n_estimators': 170, 'max_depth': 15, 'min_samples_split': 2, 'min_samples_leaf': 8}\n",
      "{'n_estimators': 170, 'max_depth': 15, 'min_samples_split': 8, 'min_samples_leaf': 2}\n",
      "{'n_estimators': 170, 'max_depth': 17, 'min_samples_split': 2, 'min_samples_leaf': 6}\n",
      "{'n_estimators': 170, 'max_depth': 17, 'min_samples_split': 6, 'min_samples_leaf': 10}\n",
      "{'n_estimators': 170, 'max_depth': 19, 'min_samples_split': 2, 'min_samples_leaf': 4}\n",
      "{'n_estimators': 170, 'max_depth': 19, 'min_samples_split': 6, 'min_samples_leaf': 6}\n",
      "{'n_estimators': 170, 'max_depth': 19, 'min_samples_split': 10, 'min_samples_leaf': 10}\n",
      "{'n_estimators': 190, 'max_depth': 1, 'min_samples_split': 10, 'min_samples_leaf': 4}\n",
      "{'n_estimators': 190, 'max_depth': 3, 'min_samples_split': 4, 'min_samples_leaf': 8}\n",
      "{'n_estimators': 190, 'max_depth': 3, 'min_samples_split': 10, 'min_samples_leaf': 2}\n",
      "{'n_estimators': 10, 'max_depth': 1, 'min_samples_split': 2, 'min_samples_leaf': 8}\n",
      "{'n_estimators': 10, 'max_depth': 1, 'min_samples_split': 6, 'min_samples_leaf': 6}\n",
      "{'n_estimators': 10, 'max_depth': 3, 'min_samples_split': 8, 'min_samples_leaf': 10}\n",
      "{'n_estimators': 10, 'max_depth': 3, 'min_samples_split': 10, 'min_samples_leaf': 2}\n",
      "{'n_estimators': 10, 'max_depth': 5, 'min_samples_split': 8, 'min_samples_leaf': 8}\n",
      "{'n_estimators': 10, 'max_depth': 5, 'min_samples_split': 8, 'min_samples_leaf': 10}\n",
      "{'n_estimators': 10, 'max_depth': 7, 'min_samples_split': 8, 'min_samples_leaf': 6}\n",
      "{'n_estimators': 10, 'max_depth': 7, 'min_samples_split': 8, 'min_samples_leaf': 8}\n",
      "{'n_estimators': 10, 'max_depth': 9, 'min_samples_split': 8, 'min_samples_leaf': 4}\n",
      "{'n_estimators': 10, 'max_depth': 9, 'min_samples_split': 8, 'min_samples_leaf': 6}\n",
      "{'n_estimators': 10, 'max_depth': 11, 'min_samples_split': 8, 'min_samples_leaf': 2}\n",
      "{'n_estimators': 10, 'max_depth': 11, 'min_samples_split': 8, 'min_samples_leaf': 4}\n",
      "{'n_estimators': 10, 'max_depth': 13, 'min_samples_split': 6, 'min_samples_leaf': 10}\n",
      "{'n_estimators': 10, 'max_depth': 13, 'min_samples_split': 8, 'min_samples_leaf': 2}\n",
      "{'n_estimators': 10, 'max_depth': 15, 'min_samples_split': 6, 'min_samples_leaf': 8}\n",
      "{'n_estimators': 10, 'max_depth': 15, 'min_samples_split': 6, 'min_samples_leaf': 10}\n",
      "{'n_estimators': 10, 'max_depth': 17, 'min_samples_split': 6, 'min_samples_leaf': 2}\n",
      "{'n_estimators': 10, 'max_depth': 17, 'min_samples_split': 6, 'min_samples_leaf': 4}\n",
      "{'n_estimators': 10, 'max_depth': 19, 'min_samples_split': 6, 'min_samples_leaf': 4}\n",
      "{'n_estimators': 10, 'max_depth': 19, 'min_samples_split': 6, 'min_samples_leaf': 6}\n",
      "{'n_estimators': 30, 'max_depth': 1, 'min_samples_split': 6, 'min_samples_leaf': 2}\n",
      "{'n_estimators': 30, 'max_depth': 1, 'min_samples_split': 6, 'min_samples_leaf': 4}\n",
      "{'n_estimators': 30, 'max_depth': 3, 'min_samples_split': 4, 'min_samples_leaf': 10}\n",
      "{'n_estimators': 30, 'max_depth': 3, 'min_samples_split': 6, 'min_samples_leaf': 2}\n",
      "{'n_estimators': 30, 'max_depth': 5, 'min_samples_split': 6, 'min_samples_leaf': 2}\n",
      "{'n_estimators': 30, 'max_depth': 5, 'min_samples_split': 6, 'min_samples_leaf': 4}\n",
      "{'n_estimators': 30, 'max_depth': 7, 'min_samples_split': 4, 'min_samples_leaf': 10}\n",
      "{'n_estimators': 30, 'max_depth': 7, 'min_samples_split': 6, 'min_samples_leaf': 2}\n",
      "{'n_estimators': 30, 'max_depth': 9, 'min_samples_split': 4, 'min_samples_leaf': 8}\n",
      "{'n_estimators': 30, 'max_depth': 9, 'min_samples_split': 4, 'min_samples_leaf': 10}\n",
      "{'n_estimators': 30, 'max_depth': 11, 'min_samples_split': 4, 'min_samples_leaf': 6}\n",
      "{'n_estimators': 30, 'max_depth': 11, 'min_samples_split': 4, 'min_samples_leaf': 8}\n",
      "{'n_estimators': 30, 'max_depth': 13, 'min_samples_split': 2, 'min_samples_leaf': 10}\n",
      "{'n_estimators': 30, 'max_depth': 13, 'min_samples_split': 4, 'min_samples_leaf': 2}\n",
      "{'n_estimators': 30, 'max_depth': 15, 'min_samples_split': 2, 'min_samples_leaf': 8}\n",
      "{'n_estimators': 30, 'max_depth': 15, 'min_samples_split': 2, 'min_samples_leaf': 10}\n",
      "{'n_estimators': 30, 'max_depth': 17, 'min_samples_split': 2, 'min_samples_leaf': 2}\n",
      "{'n_estimators': 30, 'max_depth': 17, 'min_samples_split': 2, 'min_samples_leaf': 4}\n",
      "{'n_estimators': 30, 'max_depth': 19, 'min_samples_split': 2, 'min_samples_leaf': 4}\n",
      "{'n_estimators': 30, 'max_depth': 19, 'min_samples_split': 2, 'min_samples_leaf': 6}\n",
      "{'n_estimators': 50, 'max_depth': 1, 'min_samples_split': 2, 'min_samples_leaf': 6}\n",
      "{'n_estimators': 50, 'max_depth': 1, 'min_samples_split': 2, 'min_samples_leaf': 8}\n",
      "{'n_estimators': 50, 'max_depth': 1, 'min_samples_split': 10, 'min_samples_leaf': 2}\n",
      "{'n_estimators': 50, 'max_depth': 1, 'min_samples_split': 10, 'min_samples_leaf': 4}\n",
      "{'n_estimators': 50, 'max_depth': 3, 'min_samples_split': 6, 'min_samples_leaf': 4}\n",
      "{'n_estimators': 50, 'max_depth': 3, 'min_samples_split': 10, 'min_samples_leaf': 8}\n",
      "{'n_estimators': 50, 'max_depth': 5, 'min_samples_split': 6, 'min_samples_leaf': 2}\n",
      "{'n_estimators': 50, 'max_depth': 5, 'min_samples_split': 10, 'min_samples_leaf': 6}\n",
      "{'n_estimators': 50, 'max_depth': 7, 'min_samples_split': 4, 'min_samples_leaf': 10}\n",
      "{'n_estimators': 50, 'max_depth': 7, 'min_samples_split': 10, 'min_samples_leaf': 4}\n",
      "{'n_estimators': 50, 'max_depth': 9, 'min_samples_split': 4, 'min_samples_leaf': 10}\n",
      "{'n_estimators': 50, 'max_depth': 9, 'min_samples_split': 10, 'min_samples_leaf': 4}\n",
      "{'n_estimators': 50, 'max_depth': 11, 'min_samples_split': 4, 'min_samples_leaf': 8}\n",
      "{'n_estimators': 50, 'max_depth': 11, 'min_samples_split': 10, 'min_samples_leaf': 2}\n",
      "{'n_estimators': 50, 'max_depth': 13, 'min_samples_split': 4, 'min_samples_leaf': 6}\n",
      "{'n_estimators': 50, 'max_depth': 13, 'min_samples_split': 8, 'min_samples_leaf': 10}\n",
      "{'n_estimators': 50, 'max_depth': 15, 'min_samples_split': 4, 'min_samples_leaf': 4}\n",
      "{'n_estimators': 50, 'max_depth': 15, 'min_samples_split': 8, 'min_samples_leaf': 8}\n",
      "{'n_estimators': 50, 'max_depth': 17, 'min_samples_split': 4, 'min_samples_leaf': 4}\n",
      "{'n_estimators': 50, 'max_depth': 17, 'min_samples_split': 8, 'min_samples_leaf': 6}\n",
      "{'n_estimators': 50, 'max_depth': 19, 'min_samples_split': 2, 'min_samples_leaf': 10}\n",
      "{'n_estimators': 50, 'max_depth': 19, 'min_samples_split': 8, 'min_samples_leaf': 4}\n",
      "{'n_estimators': 70, 'max_depth': 1, 'min_samples_split': 2, 'min_samples_leaf': 8}\n",
      "{'n_estimators': 70, 'max_depth': 1, 'min_samples_split': 6, 'min_samples_leaf': 8}\n",
      "{'n_estimators': 70, 'max_depth': 3, 'min_samples_split': 2, 'min_samples_leaf': 2}\n",
      "{'n_estimators': 70, 'max_depth': 3, 'min_samples_split': 6, 'min_samples_leaf': 6}\n",
      "{'n_estimators': 70, 'max_depth': 3, 'min_samples_split': 10, 'min_samples_leaf': 10}\n",
      "{'n_estimators': 70, 'max_depth': 5, 'min_samples_split': 6, 'min_samples_leaf': 4}\n",
      "{'n_estimators': 70, 'max_depth': 5, 'min_samples_split': 10, 'min_samples_leaf': 8}\n",
      "{'n_estimators': 70, 'max_depth': 7, 'min_samples_split': 6, 'min_samples_leaf': 2}\n",
      "{'n_estimators': 70, 'max_depth': 7, 'min_samples_split': 10, 'min_samples_leaf': 6}\n",
      "{'n_estimators': 70, 'max_depth': 9, 'min_samples_split': 4, 'min_samples_leaf': 10}\n",
      "{'n_estimators': 70, 'max_depth': 9, 'min_samples_split': 10, 'min_samples_leaf': 4}\n",
      "{'n_estimators': 70, 'max_depth': 11, 'min_samples_split': 4, 'min_samples_leaf': 8}\n",
      "{'n_estimators': 70, 'max_depth': 11, 'min_samples_split': 10, 'min_samples_leaf': 2}\n",
      "{'n_estimators': 70, 'max_depth': 13, 'min_samples_split': 4, 'min_samples_leaf': 6}\n",
      "{'n_estimators': 70, 'max_depth': 13, 'min_samples_split': 8, 'min_samples_leaf': 10}\n",
      "{'n_estimators': 70, 'max_depth': 15, 'min_samples_split': 4, 'min_samples_leaf': 4}\n",
      "{'n_estimators': 70, 'max_depth': 15, 'min_samples_split': 8, 'min_samples_leaf': 8}\n",
      "{'n_estimators': 70, 'max_depth': 17, 'min_samples_split': 4, 'min_samples_leaf': 2}\n",
      "{'n_estimators': 70, 'max_depth': 17, 'min_samples_split': 8, 'min_samples_leaf': 8}\n",
      "{'n_estimators': 70, 'max_depth': 19, 'min_samples_split': 4, 'min_samples_leaf': 2}\n",
      "{'n_estimators': 70, 'max_depth': 19, 'min_samples_split': 8, 'min_samples_leaf': 10}\n",
      "{'n_estimators': 90, 'max_depth': 1, 'min_samples_split': 4, 'min_samples_leaf': 4}\n",
      "{'n_estimators': 90, 'max_depth': 1, 'min_samples_split': 8, 'min_samples_leaf': 8}\n",
      "{'n_estimators': 90, 'max_depth': 3, 'min_samples_split': 4, 'min_samples_leaf': 2}\n",
      "{'n_estimators': 90, 'max_depth': 3, 'min_samples_split': 8, 'min_samples_leaf': 6}\n",
      "{'n_estimators': 90, 'max_depth': 5, 'min_samples_split': 2, 'min_samples_leaf': 10}\n",
      "{'n_estimators': 90, 'max_depth': 5, 'min_samples_split': 8, 'min_samples_leaf': 4}\n",
      "{'n_estimators': 90, 'max_depth': 7, 'min_samples_split': 2, 'min_samples_leaf': 8}\n",
      "{'n_estimators': 90, 'max_depth': 7, 'min_samples_split': 8, 'min_samples_leaf': 2}\n",
      "{'n_estimators': 90, 'max_depth': 9, 'min_samples_split': 2, 'min_samples_leaf': 6}\n",
      "{'n_estimators': 90, 'max_depth': 9, 'min_samples_split': 6, 'min_samples_leaf': 10}\n",
      "{'n_estimators': 90, 'max_depth': 11, 'min_samples_split': 2, 'min_samples_leaf': 4}\n",
      "{'n_estimators': 90, 'max_depth': 11, 'min_samples_split': 6, 'min_samples_leaf': 6}\n",
      "{'n_estimators': 90, 'max_depth': 11, 'min_samples_split': 10, 'min_samples_leaf': 10}\n",
      "{'n_estimators': 90, 'max_depth': 13, 'min_samples_split': 6, 'min_samples_leaf': 4}\n",
      "{'n_estimators': 90, 'max_depth': 13, 'min_samples_split': 10, 'min_samples_leaf': 8}\n",
      "{'n_estimators': 90, 'max_depth': 15, 'min_samples_split': 6, 'min_samples_leaf': 2}\n",
      "{'n_estimators': 90, 'max_depth': 15, 'min_samples_split': 10, 'min_samples_leaf': 6}\n",
      "{'n_estimators': 90, 'max_depth': 17, 'min_samples_split': 4, 'min_samples_leaf': 10}\n",
      "{'n_estimators': 90, 'max_depth': 17, 'min_samples_split': 10, 'min_samples_leaf': 4}\n",
      "{'n_estimators': 90, 'max_depth': 19, 'min_samples_split': 4, 'min_samples_leaf': 8}\n",
      "{'n_estimators': 90, 'max_depth': 19, 'min_samples_split': 10, 'min_samples_leaf': 2}\n",
      "{'n_estimators': 110, 'max_depth': 1, 'min_samples_split': 4, 'min_samples_leaf': 10}\n",
      "{'n_estimators': 110, 'max_depth': 1, 'min_samples_split': 10, 'min_samples_leaf': 4}\n",
      "{'n_estimators': 110, 'max_depth': 3, 'min_samples_split': 4, 'min_samples_leaf': 8}\n",
      "{'n_estimators': 110, 'max_depth': 3, 'min_samples_split': 10, 'min_samples_leaf': 2}\n",
      "{'n_estimators': 110, 'max_depth': 5, 'min_samples_split': 4, 'min_samples_leaf': 6}\n",
      "{'n_estimators': 110, 'max_depth': 5, 'min_samples_split': 8, 'min_samples_leaf': 10}\n",
      "{'n_estimators': 110, 'max_depth': 7, 'min_samples_split': 4, 'min_samples_leaf': 4}\n",
      "{'n_estimators': 110, 'max_depth': 7, 'min_samples_split': 8, 'min_samples_leaf': 8}\n",
      "{'n_estimators': 110, 'max_depth': 9, 'min_samples_split': 4, 'min_samples_leaf': 2}\n",
      "{'n_estimators': 110, 'max_depth': 9, 'min_samples_split': 8, 'min_samples_leaf': 6}\n",
      "{'n_estimators': 110, 'max_depth': 11, 'min_samples_split': 2, 'min_samples_leaf': 8}\n",
      "{'n_estimators': 110, 'max_depth': 11, 'min_samples_split': 8, 'min_samples_leaf': 4}\n",
      "{'n_estimators': 110, 'max_depth': 13, 'min_samples_split': 2, 'min_samples_leaf': 8}\n",
      "{'n_estimators': 110, 'max_depth': 13, 'min_samples_split': 6, 'min_samples_leaf': 10}\n",
      "{'n_estimators': 110, 'max_depth': 15, 'min_samples_split': 2, 'min_samples_leaf': 4}\n",
      "{'n_estimators': 110, 'max_depth': 15, 'min_samples_split': 6, 'min_samples_leaf': 6}\n",
      "{'n_estimators': 110, 'max_depth': 15, 'min_samples_split': 10, 'min_samples_leaf': 10}\n",
      "{'n_estimators': 110, 'max_depth': 17, 'min_samples_split': 6, 'min_samples_leaf': 4}\n",
      "{'n_estimators': 110, 'max_depth': 17, 'min_samples_split': 10, 'min_samples_leaf': 8}\n",
      "{'n_estimators': 110, 'max_depth': 19, 'min_samples_split': 6, 'min_samples_leaf': 2}\n",
      "{'n_estimators': 110, 'max_depth': 19, 'min_samples_split': 10, 'min_samples_leaf': 6}\n",
      "{'n_estimators': 130, 'max_depth': 1, 'min_samples_split': 8, 'min_samples_leaf': 4}\n",
      "{'n_estimators': 130, 'max_depth': 3, 'min_samples_split': 2, 'min_samples_leaf': 8}\n",
      "{'n_estimators': 130, 'max_depth': 3, 'min_samples_split': 8, 'min_samples_leaf': 2}\n",
      "{'n_estimators': 130, 'max_depth': 5, 'min_samples_split': 2, 'min_samples_leaf': 6}\n",
      "{'n_estimators': 130, 'max_depth': 5, 'min_samples_split': 6, 'min_samples_leaf': 10}\n",
      "{'n_estimators': 130, 'max_depth': 7, 'min_samples_split': 2, 'min_samples_leaf': 4}\n",
      "{'n_estimators': 130, 'max_depth': 7, 'min_samples_split': 6, 'min_samples_leaf': 8}\n",
      "{'n_estimators': 130, 'max_depth': 9, 'min_samples_split': 2, 'min_samples_leaf': 2}\n",
      "{'n_estimators': 130, 'max_depth': 9, 'min_samples_split': 6, 'min_samples_leaf': 6}\n",
      "{'n_estimators': 130, 'max_depth': 9, 'min_samples_split': 10, 'min_samples_leaf': 10}\n",
      "{'n_estimators': 130, 'max_depth': 11, 'min_samples_split': 6, 'min_samples_leaf': 4}\n",
      "{'n_estimators': 130, 'max_depth': 11, 'min_samples_split': 10, 'min_samples_leaf': 8}\n",
      "{'n_estimators': 130, 'max_depth': 13, 'min_samples_split': 6, 'min_samples_leaf': 2}\n",
      "{'n_estimators': 130, 'max_depth': 13, 'min_samples_split': 10, 'min_samples_leaf': 6}\n",
      "{'n_estimators': 130, 'max_depth': 15, 'min_samples_split': 4, 'min_samples_leaf': 10}\n",
      "{'n_estimators': 130, 'max_depth': 15, 'min_samples_split': 10, 'min_samples_leaf': 4}\n",
      "{'n_estimators': 130, 'max_depth': 17, 'min_samples_split': 4, 'min_samples_leaf': 8}\n",
      "{'n_estimators': 130, 'max_depth': 17, 'min_samples_split': 10, 'min_samples_leaf': 2}\n",
      "{'n_estimators': 130, 'max_depth': 19, 'min_samples_split': 4, 'min_samples_leaf': 6}\n",
      "{'n_estimators': 130, 'max_depth': 19, 'min_samples_split': 8, 'min_samples_leaf': 10}\n",
      "{'n_estimators': 150, 'max_depth': 1, 'min_samples_split': 4, 'min_samples_leaf': 6}\n",
      "{'n_estimators': 150, 'max_depth': 1, 'min_samples_split': 8, 'min_samples_leaf': 8}\n",
      "{'n_estimators': 150, 'max_depth': 3, 'min_samples_split': 4, 'min_samples_leaf': 2}\n",
      "{'n_estimators': 150, 'max_depth': 3, 'min_samples_split': 8, 'min_samples_leaf': 6}\n",
      "{'n_estimators': 150, 'max_depth': 5, 'min_samples_split': 2, 'min_samples_leaf': 10}\n",
      "{'n_estimators': 150, 'max_depth': 5, 'min_samples_split': 8, 'min_samples_leaf': 4}\n",
      "{'n_estimators': 150, 'max_depth': 7, 'min_samples_split': 2, 'min_samples_leaf': 8}\n",
      "{'n_estimators': 150, 'max_depth': 7, 'min_samples_split': 8, 'min_samples_leaf': 4}\n",
      "{'n_estimators': 150, 'max_depth': 9, 'min_samples_split': 2, 'min_samples_leaf': 8}\n",
      "{'n_estimators': 150, 'max_depth': 9, 'min_samples_split': 8, 'min_samples_leaf': 4}\n",
      "{'n_estimators': 150, 'max_depth': 11, 'min_samples_split': 2, 'min_samples_leaf': 8}\n",
      "{'n_estimators': 150, 'max_depth': 11, 'min_samples_split': 6, 'min_samples_leaf': 10}\n",
      "{'n_estimators': 150, 'max_depth': 13, 'min_samples_split': 2, 'min_samples_leaf': 4}\n",
      "{'n_estimators': 150, 'max_depth': 13, 'min_samples_split': 6, 'min_samples_leaf': 6}\n",
      "{'n_estimators': 150, 'max_depth': 13, 'min_samples_split': 10, 'min_samples_leaf': 10}\n",
      "{'n_estimators': 150, 'max_depth': 15, 'min_samples_split': 6, 'min_samples_leaf': 4}\n",
      "{'n_estimators': 150, 'max_depth': 15, 'min_samples_split': 10, 'min_samples_leaf': 8}\n",
      "{'n_estimators': 150, 'max_depth': 17, 'min_samples_split': 6, 'min_samples_leaf': 2}\n",
      "{'n_estimators': 150, 'max_depth': 17, 'min_samples_split': 10, 'min_samples_leaf': 6}\n",
      "{'n_estimators': 150, 'max_depth': 19, 'min_samples_split': 4, 'min_samples_leaf': 10}\n",
      "{'n_estimators': 150, 'max_depth': 19, 'min_samples_split': 10, 'min_samples_leaf': 4}\n",
      "{'n_estimators': 170, 'max_depth': 1, 'min_samples_split': 6, 'min_samples_leaf': 6}\n",
      "{'n_estimators': 170, 'max_depth': 1, 'min_samples_split': 10, 'min_samples_leaf': 10}\n",
      "{'n_estimators': 170, 'max_depth': 3, 'min_samples_split': 6, 'min_samples_leaf': 4}\n",
      "{'n_estimators': 170, 'max_depth': 3, 'min_samples_split': 10, 'min_samples_leaf': 8}\n",
      "{'n_estimators': 170, 'max_depth': 5, 'min_samples_split': 6, 'min_samples_leaf': 2}\n",
      "{'n_estimators': 170, 'max_depth': 5, 'min_samples_split': 10, 'min_samples_leaf': 6}\n",
      "{'n_estimators': 170, 'max_depth': 7, 'min_samples_split': 4, 'min_samples_leaf': 10}\n",
      "{'n_estimators': 170, 'max_depth': 7, 'min_samples_split': 10, 'min_samples_leaf': 4}\n",
      "{'n_estimators': 170, 'max_depth': 9, 'min_samples_split': 4, 'min_samples_leaf': 8}\n",
      "{'n_estimators': 170, 'max_depth': 9, 'min_samples_split': 10, 'min_samples_leaf': 2}\n",
      "{'n_estimators': 170, 'max_depth': 11, 'min_samples_split': 4, 'min_samples_leaf': 6}\n",
      "{'n_estimators': 170, 'max_depth': 11, 'min_samples_split': 8, 'min_samples_leaf': 10}\n",
      "{'n_estimators': 170, 'max_depth': 13, 'min_samples_split': 4, 'min_samples_leaf': 4}\n",
      "{'n_estimators': 170, 'max_depth': 13, 'min_samples_split': 8, 'min_samples_leaf': 8}\n",
      "{'n_estimators': 170, 'max_depth': 15, 'min_samples_split': 4, 'min_samples_leaf': 2}\n",
      "{'n_estimators': 170, 'max_depth': 15, 'min_samples_split': 8, 'min_samples_leaf': 8}\n",
      "{'n_estimators': 170, 'max_depth': 17, 'min_samples_split': 4, 'min_samples_leaf': 2}\n",
      "{'n_estimators': 170, 'max_depth': 17, 'min_samples_split': 8, 'min_samples_leaf': 8}\n",
      "{'n_estimators': 170, 'max_depth': 19, 'min_samples_split': 4, 'min_samples_leaf': 2}\n",
      "{'n_estimators': 170, 'max_depth': 19, 'min_samples_split': 8, 'min_samples_leaf': 8}\n",
      "{'n_estimators': 190, 'max_depth': 1, 'min_samples_split': 4, 'min_samples_leaf': 2}\n",
      "{'n_estimators': 190, 'max_depth': 1, 'min_samples_split': 6, 'min_samples_leaf': 10}\n",
      "{'n_estimators': 190, 'max_depth': 3, 'min_samples_split': 2, 'min_samples_leaf': 4}\n",
      "{'n_estimators': 190, 'max_depth': 3, 'min_samples_split': 6, 'min_samples_leaf': 8}\n",
      "{'n_estimators': 190, 'max_depth': 5, 'min_samples_split': 2, 'min_samples_leaf': 2}\n",
      "{'n_estimators': 10, 'max_depth': 1, 'min_samples_split': 10, 'min_samples_leaf': 8}\n",
      "{'n_estimators': 10, 'max_depth': 3, 'min_samples_split': 8, 'min_samples_leaf': 2}\n",
      "{'n_estimators': 10, 'max_depth': 3, 'min_samples_split': 8, 'min_samples_leaf': 4}\n",
      "{'n_estimators': 10, 'max_depth': 5, 'min_samples_split': 6, 'min_samples_leaf': 2}\n",
      "{'n_estimators': 10, 'max_depth': 5, 'min_samples_split': 6, 'min_samples_leaf': 4}\n",
      "{'n_estimators': 10, 'max_depth': 7, 'min_samples_split': 6, 'min_samples_leaf': 4}\n",
      "{'n_estimators': 10, 'max_depth': 7, 'min_samples_split': 6, 'min_samples_leaf': 6}\n",
      "{'n_estimators': 10, 'max_depth': 9, 'min_samples_split': 4, 'min_samples_leaf': 8}\n",
      "{'n_estimators': 10, 'max_depth': 9, 'min_samples_split': 4, 'min_samples_leaf': 10}\n",
      "{'n_estimators': 10, 'max_depth': 11, 'min_samples_split': 4, 'min_samples_leaf': 6}\n",
      "{'n_estimators': 10, 'max_depth': 11, 'min_samples_split': 4, 'min_samples_leaf': 8}\n",
      "{'n_estimators': 10, 'max_depth': 13, 'min_samples_split': 4, 'min_samples_leaf': 4}\n",
      "{'n_estimators': 10, 'max_depth': 13, 'min_samples_split': 4, 'min_samples_leaf': 6}\n",
      "{'n_estimators': 10, 'max_depth': 15, 'min_samples_split': 4, 'min_samples_leaf': 2}\n",
      "{'n_estimators': 10, 'max_depth': 15, 'min_samples_split': 4, 'min_samples_leaf': 4}\n",
      "{'n_estimators': 10, 'max_depth': 17, 'min_samples_split': 4, 'min_samples_leaf': 4}\n",
      "{'n_estimators': 10, 'max_depth': 17, 'min_samples_split': 4, 'min_samples_leaf': 6}\n",
      "{'n_estimators': 10, 'max_depth': 19, 'min_samples_split': 4, 'min_samples_leaf': 6}\n",
      "{'n_estimators': 10, 'max_depth': 19, 'min_samples_split': 4, 'min_samples_leaf': 8}\n",
      "{'n_estimators': 30, 'max_depth': 1, 'min_samples_split': 2, 'min_samples_leaf': 10}\n",
      "{'n_estimators': 30, 'max_depth': 1, 'min_samples_split': 4, 'min_samples_leaf': 2}\n",
      "{'n_estimators': 30, 'max_depth': 3, 'min_samples_split': 2, 'min_samples_leaf': 8}\n",
      "{'n_estimators': 30, 'max_depth': 3, 'min_samples_split': 2, 'min_samples_leaf': 10}\n",
      "{'n_estimators': 30, 'max_depth': 5, 'min_samples_split': 2, 'min_samples_leaf': 10}\n",
      "{'n_estimators': 30, 'max_depth': 5, 'min_samples_split': 4, 'min_samples_leaf': 2}\n",
      "{'n_estimators': 30, 'max_depth': 7, 'min_samples_split': 2, 'min_samples_leaf': 4}\n",
      "{'n_estimators': 30, 'max_depth': 7, 'min_samples_split': 2, 'min_samples_leaf': 6}\n",
      "{'n_estimators': 30, 'max_depth': 9, 'min_samples_split': 2, 'min_samples_leaf': 2}\n",
      "{'n_estimators': 30, 'max_depth': 9, 'min_samples_split': 2, 'min_samples_leaf': 4}\n",
      "{'n_estimators': 30, 'max_depth': 9, 'min_samples_split': 10, 'min_samples_leaf': 10}\n",
      "{'n_estimators': 30, 'max_depth': 11, 'min_samples_split': 2, 'min_samples_leaf': 2}\n",
      "{'n_estimators': 30, 'max_depth': 11, 'min_samples_split': 10, 'min_samples_leaf': 8}\n",
      "{'n_estimators': 30, 'max_depth': 11, 'min_samples_split': 10, 'min_samples_leaf': 10}\n",
      "{'n_estimators': 30, 'max_depth': 13, 'min_samples_split': 10, 'min_samples_leaf': 6}\n",
      "{'n_estimators': 30, 'max_depth': 13, 'min_samples_split': 10, 'min_samples_leaf': 8}\n",
      "{'n_estimators': 30, 'max_depth': 15, 'min_samples_split': 10, 'min_samples_leaf': 4}\n",
      "{'n_estimators': 30, 'max_depth': 15, 'min_samples_split': 10, 'min_samples_leaf': 6}\n",
      "{'n_estimators': 30, 'max_depth': 17, 'min_samples_split': 10, 'min_samples_leaf': 2}\n",
      "{'n_estimators': 30, 'max_depth': 17, 'min_samples_split': 10, 'min_samples_leaf': 4}\n",
      "{'n_estimators': 30, 'max_depth': 19, 'min_samples_split': 8, 'min_samples_leaf': 10}\n",
      "{'n_estimators': 30, 'max_depth': 19, 'min_samples_split': 10, 'min_samples_leaf': 2}\n",
      "{'n_estimators': 50, 'max_depth': 1, 'min_samples_split': 10, 'min_samples_leaf': 10}\n",
      "{'n_estimators': 50, 'max_depth': 3, 'min_samples_split': 2, 'min_samples_leaf': 2}\n",
      "{'n_estimators': 50, 'max_depth': 3, 'min_samples_split': 10, 'min_samples_leaf': 2}\n",
      "{'n_estimators': 50, 'max_depth': 5, 'min_samples_split': 4, 'min_samples_leaf': 4}\n",
      "{'n_estimators': 50, 'max_depth': 5, 'min_samples_split': 8, 'min_samples_leaf': 10}\n",
      "{'n_estimators': 50, 'max_depth': 7, 'min_samples_split': 4, 'min_samples_leaf': 4}\n",
      "{'n_estimators': 50, 'max_depth': 7, 'min_samples_split': 8, 'min_samples_leaf': 6}\n",
      "{'n_estimators': 50, 'max_depth': 9, 'min_samples_split': 2, 'min_samples_leaf': 10}\n",
      "{'n_estimators': 50, 'max_depth': 9, 'min_samples_split': 8, 'min_samples_leaf': 4}\n",
      "{'n_estimators': 50, 'max_depth': 11, 'min_samples_split': 2, 'min_samples_leaf': 8}\n",
      "{'n_estimators': 50, 'max_depth': 11, 'min_samples_split': 8, 'min_samples_leaf': 2}\n",
      "{'n_estimators': 50, 'max_depth': 13, 'min_samples_split': 2, 'min_samples_leaf': 6}\n",
      "{'n_estimators': 50, 'max_depth': 13, 'min_samples_split': 8, 'min_samples_leaf': 2}\n",
      "{'n_estimators': 50, 'max_depth': 15, 'min_samples_split': 2, 'min_samples_leaf': 6}\n",
      "{'n_estimators': 50, 'max_depth': 15, 'min_samples_split': 6, 'min_samples_leaf': 10}\n",
      "{'n_estimators': 50, 'max_depth': 17, 'min_samples_split': 2, 'min_samples_leaf': 4}\n",
      "{'n_estimators': 50, 'max_depth': 17, 'min_samples_split': 6, 'min_samples_leaf': 6}\n",
      "{'n_estimators': 50, 'max_depth': 17, 'min_samples_split': 10, 'min_samples_leaf': 10}\n",
      "{'n_estimators': 50, 'max_depth': 19, 'min_samples_split': 6, 'min_samples_leaf': 4}\n",
      "{'n_estimators': 50, 'max_depth': 19, 'min_samples_split': 10, 'min_samples_leaf': 8}\n",
      "{'n_estimators': 70, 'max_depth': 1, 'min_samples_split': 6, 'min_samples_leaf': 10}\n",
      "{'n_estimators': 70, 'max_depth': 3, 'min_samples_split': 2, 'min_samples_leaf': 6}\n",
      "{'n_estimators': 70, 'max_depth': 3, 'min_samples_split': 6, 'min_samples_leaf': 10}\n",
      "{'n_estimators': 70, 'max_depth': 5, 'min_samples_split': 2, 'min_samples_leaf': 4}\n",
      "{'n_estimators': 70, 'max_depth': 5, 'min_samples_split': 6, 'min_samples_leaf': 10}\n",
      "{'n_estimators': 70, 'max_depth': 7, 'min_samples_split': 2, 'min_samples_leaf': 2}\n",
      "{'n_estimators': 70, 'max_depth': 7, 'min_samples_split': 6, 'min_samples_leaf': 8}\n",
      "{'n_estimators': 70, 'max_depth': 9, 'min_samples_split': 2, 'min_samples_leaf': 2}\n",
      "{'n_estimators': 70, 'max_depth': 9, 'min_samples_split': 6, 'min_samples_leaf': 10}\n",
      "{'n_estimators': 70, 'max_depth': 11, 'min_samples_split': 2, 'min_samples_leaf': 4}\n",
      "{'n_estimators': 70, 'max_depth': 11, 'min_samples_split': 6, 'min_samples_leaf': 8}\n",
      "{'n_estimators': 70, 'max_depth': 13, 'min_samples_split': 2, 'min_samples_leaf': 2}\n",
      "{'n_estimators': 70, 'max_depth': 13, 'min_samples_split': 6, 'min_samples_leaf': 6}\n",
      "{'n_estimators': 70, 'max_depth': 15, 'min_samples_split': 2, 'min_samples_leaf': 2}\n",
      "{'n_estimators': 70, 'max_depth': 15, 'min_samples_split': 6, 'min_samples_leaf': 8}\n",
      "{'n_estimators': 70, 'max_depth': 15, 'min_samples_split': 10, 'min_samples_leaf': 10}\n",
      "{'n_estimators': 70, 'max_depth': 17, 'min_samples_split': 6, 'min_samples_leaf': 4}\n",
      "{'n_estimators': 70, 'max_depth': 17, 'min_samples_split': 10, 'min_samples_leaf': 6}\n",
      "{'n_estimators': 70, 'max_depth': 19, 'min_samples_split': 6, 'min_samples_leaf': 2}\n",
      "{'n_estimators': 70, 'max_depth': 19, 'min_samples_split': 10, 'min_samples_leaf': 6}\n",
      "{'n_estimators': 90, 'max_depth': 1, 'min_samples_split': 6, 'min_samples_leaf': 8}\n",
      "{'n_estimators': 90, 'max_depth': 3, 'min_samples_split': 2, 'min_samples_leaf': 2}\n",
      "{'n_estimators': 90, 'max_depth': 3, 'min_samples_split': 6, 'min_samples_leaf': 6}\n",
      "{'n_estimators': 90, 'max_depth': 3, 'min_samples_split': 10, 'min_samples_leaf': 10}\n",
      "{'n_estimators': 90, 'max_depth': 5, 'min_samples_split': 6, 'min_samples_leaf': 4}\n",
      "{'n_estimators': 90, 'max_depth': 5, 'min_samples_split': 10, 'min_samples_leaf': 8}\n",
      "{'n_estimators': 90, 'max_depth': 7, 'min_samples_split': 6, 'min_samples_leaf': 2}\n",
      "{'n_estimators': 90, 'max_depth': 7, 'min_samples_split': 10, 'min_samples_leaf': 6}\n",
      "{'n_estimators': 90, 'max_depth': 9, 'min_samples_split': 4, 'min_samples_leaf': 10}\n",
      "{'n_estimators': 90, 'max_depth': 9, 'min_samples_split': 10, 'min_samples_leaf': 4}\n",
      "{'n_estimators': 90, 'max_depth': 11, 'min_samples_split': 4, 'min_samples_leaf': 8}\n",
      "{'n_estimators': 90, 'max_depth': 11, 'min_samples_split': 10, 'min_samples_leaf': 2}\n",
      "{'n_estimators': 90, 'max_depth': 13, 'min_samples_split': 4, 'min_samples_leaf': 6}\n",
      "{'n_estimators': 90, 'max_depth': 13, 'min_samples_split': 8, 'min_samples_leaf': 10}\n",
      "{'n_estimators': 90, 'max_depth': 15, 'min_samples_split': 4, 'min_samples_leaf': 4}\n",
      "{'n_estimators': 90, 'max_depth': 15, 'min_samples_split': 8, 'min_samples_leaf': 8}\n",
      "{'n_estimators': 90, 'max_depth': 17, 'min_samples_split': 4, 'min_samples_leaf': 2}\n",
      "{'n_estimators': 90, 'max_depth': 17, 'min_samples_split': 8, 'min_samples_leaf': 6}\n",
      "{'n_estimators': 90, 'max_depth': 19, 'min_samples_split': 2, 'min_samples_leaf': 10}\n",
      "{'n_estimators': 90, 'max_depth': 19, 'min_samples_split': 8, 'min_samples_leaf': 4}\n",
      "{'n_estimators': 110, 'max_depth': 1, 'min_samples_split': 2, 'min_samples_leaf': 8}\n",
      "{'n_estimators': 110, 'max_depth': 1, 'min_samples_split': 6, 'min_samples_leaf': 6}\n",
      "{'n_estimators': 110, 'max_depth': 1, 'min_samples_split': 10, 'min_samples_leaf': 10}\n",
      "{'n_estimators': 110, 'max_depth': 3, 'min_samples_split': 6, 'min_samples_leaf': 4}\n",
      "{'n_estimators': 110, 'max_depth': 3, 'min_samples_split': 10, 'min_samples_leaf': 8}\n",
      "{'n_estimators': 110, 'max_depth': 5, 'min_samples_split': 6, 'min_samples_leaf': 2}\n",
      "{'n_estimators': 110, 'max_depth': 5, 'min_samples_split': 10, 'min_samples_leaf': 6}\n",
      "{'n_estimators': 110, 'max_depth': 7, 'min_samples_split': 4, 'min_samples_leaf': 10}\n",
      "{'n_estimators': 110, 'max_depth': 7, 'min_samples_split': 10, 'min_samples_leaf': 4}\n",
      "{'n_estimators': 110, 'max_depth': 9, 'min_samples_split': 4, 'min_samples_leaf': 8}\n",
      "{'n_estimators': 110, 'max_depth': 9, 'min_samples_split': 10, 'min_samples_leaf': 2}\n",
      "{'n_estimators': 110, 'max_depth': 11, 'min_samples_split': 4, 'min_samples_leaf': 6}\n",
      "{'n_estimators': 110, 'max_depth': 11, 'min_samples_split': 8, 'min_samples_leaf': 10}\n",
      "{'n_estimators': 110, 'max_depth': 13, 'min_samples_split': 4, 'min_samples_leaf': 4}\n",
      "{'n_estimators': 110, 'max_depth': 13, 'min_samples_split': 8, 'min_samples_leaf': 6}\n",
      "{'n_estimators': 110, 'max_depth': 15, 'min_samples_split': 2, 'min_samples_leaf': 10}\n",
      "{'n_estimators': 110, 'max_depth': 15, 'min_samples_split': 8, 'min_samples_leaf': 4}\n",
      "{'n_estimators': 110, 'max_depth': 17, 'min_samples_split': 2, 'min_samples_leaf': 8}\n",
      "{'n_estimators': 110, 'max_depth': 17, 'min_samples_split': 8, 'min_samples_leaf': 4}\n",
      "{'n_estimators': 110, 'max_depth': 19, 'min_samples_split': 2, 'min_samples_leaf': 8}\n",
      "{'n_estimators': 110, 'max_depth': 19, 'min_samples_split': 8, 'min_samples_leaf': 4}\n",
      "{'n_estimators': 130, 'max_depth': 1, 'min_samples_split': 2, 'min_samples_leaf': 8}\n",
      "{'n_estimators': 130, 'max_depth': 1, 'min_samples_split': 6, 'min_samples_leaf': 6}\n",
      "{'n_estimators': 130, 'max_depth': 1, 'min_samples_split': 10, 'min_samples_leaf': 10}\n",
      "{'n_estimators': 130, 'max_depth': 3, 'min_samples_split': 6, 'min_samples_leaf': 4}\n",
      "{'n_estimators': 130, 'max_depth': 3, 'min_samples_split': 10, 'min_samples_leaf': 8}\n",
      "{'n_estimators': 130, 'max_depth': 5, 'min_samples_split': 6, 'min_samples_leaf': 2}\n",
      "{'n_estimators': 130, 'max_depth': 5, 'min_samples_split': 10, 'min_samples_leaf': 6}\n",
      "{'n_estimators': 130, 'max_depth': 7, 'min_samples_split': 4, 'min_samples_leaf': 10}\n",
      "{'n_estimators': 130, 'max_depth': 7, 'min_samples_split': 10, 'min_samples_leaf': 4}\n",
      "{'n_estimators': 130, 'max_depth': 9, 'min_samples_split': 4, 'min_samples_leaf': 8}\n",
      "{'n_estimators': 130, 'max_depth': 9, 'min_samples_split': 10, 'min_samples_leaf': 2}\n",
      "{'n_estimators': 130, 'max_depth': 11, 'min_samples_split': 4, 'min_samples_leaf': 6}\n",
      "{'n_estimators': 130, 'max_depth': 11, 'min_samples_split': 8, 'min_samples_leaf': 10}\n",
      "{'n_estimators': 130, 'max_depth': 13, 'min_samples_split': 4, 'min_samples_leaf': 4}\n",
      "{'n_estimators': 130, 'max_depth': 13, 'min_samples_split': 8, 'min_samples_leaf': 8}\n",
      "{'n_estimators': 130, 'max_depth': 15, 'min_samples_split': 4, 'min_samples_leaf': 2}\n",
      "{'n_estimators': 130, 'max_depth': 15, 'min_samples_split': 8, 'min_samples_leaf': 6}\n",
      "{'n_estimators': 130, 'max_depth': 17, 'min_samples_split': 2, 'min_samples_leaf': 10}\n",
      "{'n_estimators': 130, 'max_depth': 17, 'min_samples_split': 8, 'min_samples_leaf': 4}\n",
      "{'n_estimators': 130, 'max_depth': 19, 'min_samples_split': 2, 'min_samples_leaf': 8}\n",
      "{'n_estimators': 130, 'max_depth': 19, 'min_samples_split': 6, 'min_samples_leaf': 10}\n",
      "{'n_estimators': 150, 'max_depth': 1, 'min_samples_split': 2, 'min_samples_leaf': 4}\n",
      "{'n_estimators': 150, 'max_depth': 1, 'min_samples_split': 4, 'min_samples_leaf': 8}\n",
      "{'n_estimators': 150, 'max_depth': 1, 'min_samples_split': 8, 'min_samples_leaf': 10}\n",
      "{'n_estimators': 150, 'max_depth': 3, 'min_samples_split': 4, 'min_samples_leaf': 4}\n",
      "{'n_estimators': 150, 'max_depth': 3, 'min_samples_split': 8, 'min_samples_leaf': 8}\n",
      "{'n_estimators': 150, 'max_depth': 5, 'min_samples_split': 4, 'min_samples_leaf': 2}\n",
      "{'n_estimators': 150, 'max_depth': 5, 'min_samples_split': 8, 'min_samples_leaf': 6}\n",
      "{'n_estimators': 150, 'max_depth': 7, 'min_samples_split': 2, 'min_samples_leaf': 10}\n",
      "{'n_estimators': 150, 'max_depth': 7, 'min_samples_split': 8, 'min_samples_leaf': 2}\n",
      "{'n_estimators': 150, 'max_depth': 9, 'min_samples_split': 2, 'min_samples_leaf': 6}\n",
      "{'n_estimators': 150, 'max_depth': 9, 'min_samples_split': 6, 'min_samples_leaf': 10}\n",
      "{'n_estimators': 150, 'max_depth': 11, 'min_samples_split': 2, 'min_samples_leaf': 4}\n",
      "{'n_estimators': 150, 'max_depth': 11, 'min_samples_split': 6, 'min_samples_leaf': 8}\n",
      "{'n_estimators': 150, 'max_depth': 13, 'min_samples_split': 2, 'min_samples_leaf': 2}\n",
      "{'n_estimators': 150, 'max_depth': 13, 'min_samples_split': 6, 'min_samples_leaf': 8}\n",
      "{'n_estimators': 150, 'max_depth': 15, 'min_samples_split': 2, 'min_samples_leaf': 2}\n",
      "{'n_estimators': 150, 'max_depth': 15, 'min_samples_split': 6, 'min_samples_leaf': 6}\n",
      "{'n_estimators': 150, 'max_depth': 15, 'min_samples_split': 10, 'min_samples_leaf': 10}\n",
      "{'n_estimators': 150, 'max_depth': 17, 'min_samples_split': 6, 'min_samples_leaf': 4}\n",
      "{'n_estimators': 150, 'max_depth': 17, 'min_samples_split': 10, 'min_samples_leaf': 8}\n",
      "{'n_estimators': 150, 'max_depth': 19, 'min_samples_split': 6, 'min_samples_leaf': 2}\n",
      "{'n_estimators': 150, 'max_depth': 19, 'min_samples_split': 10, 'min_samples_leaf': 6}\n",
      "{'n_estimators': 170, 'max_depth': 1, 'min_samples_split': 8, 'min_samples_leaf': 4}\n",
      "{'n_estimators': 170, 'max_depth': 3, 'min_samples_split': 2, 'min_samples_leaf': 8}\n",
      "{'n_estimators': 170, 'max_depth': 3, 'min_samples_split': 8, 'min_samples_leaf': 2}\n",
      "{'n_estimators': 170, 'max_depth': 5, 'min_samples_split': 2, 'min_samples_leaf': 6}\n",
      "{'n_estimators': 170, 'max_depth': 5, 'min_samples_split': 6, 'min_samples_leaf': 10}\n",
      "{'n_estimators': 170, 'max_depth': 7, 'min_samples_split': 2, 'min_samples_leaf': 4}\n",
      "{'n_estimators': 170, 'max_depth': 7, 'min_samples_split': 6, 'min_samples_leaf': 8}\n",
      "{'n_estimators': 170, 'max_depth': 9, 'min_samples_split': 2, 'min_samples_leaf': 2}\n",
      "{'n_estimators': 170, 'max_depth': 9, 'min_samples_split': 6, 'min_samples_leaf': 6}\n",
      "{'n_estimators': 170, 'max_depth': 9, 'min_samples_split': 10, 'min_samples_leaf': 10}\n",
      "{'n_estimators': 170, 'max_depth': 11, 'min_samples_split': 6, 'min_samples_leaf': 4}\n",
      "{'n_estimators': 170, 'max_depth': 11, 'min_samples_split': 10, 'min_samples_leaf': 8}\n",
      "{'n_estimators': 170, 'max_depth': 13, 'min_samples_split': 6, 'min_samples_leaf': 2}\n",
      "{'n_estimators': 170, 'max_depth': 13, 'min_samples_split': 10, 'min_samples_leaf': 6}\n",
      "{'n_estimators': 170, 'max_depth': 15, 'min_samples_split': 4, 'min_samples_leaf': 10}\n",
      "{'n_estimators': 170, 'max_depth': 15, 'min_samples_split': 10, 'min_samples_leaf': 4}\n",
      "{'n_estimators': 170, 'max_depth': 17, 'min_samples_split': 4, 'min_samples_leaf': 8}\n",
      "{'n_estimators': 170, 'max_depth': 17, 'min_samples_split': 10, 'min_samples_leaf': 2}\n",
      "{'n_estimators': 170, 'max_depth': 19, 'min_samples_split': 4, 'min_samples_leaf': 6}\n",
      "{'n_estimators': 170, 'max_depth': 19, 'min_samples_split': 8, 'min_samples_leaf': 10}\n",
      "{'n_estimators': 190, 'max_depth': 1, 'min_samples_split': 4, 'min_samples_leaf': 4}\n",
      "{'n_estimators': 190, 'max_depth': 1, 'min_samples_split': 8, 'min_samples_leaf': 2}\n",
      "{'n_estimators': 190, 'max_depth': 3, 'min_samples_split': 2, 'min_samples_leaf': 6}\n",
      "{'n_estimators': 190, 'max_depth': 3, 'min_samples_split': 6, 'min_samples_leaf': 10}\n",
      "{'n_estimators': 190, 'max_depth': 5, 'min_samples_split': 2, 'min_samples_leaf': 4}\n",
      "{'n_estimators': 190, 'max_depth': 5, 'min_samples_split': 6, 'min_samples_leaf': 8}\n",
      "{'n_estimators': 10, 'max_depth': 1, 'min_samples_split': 2, 'min_samples_leaf': 6}\n",
      "{'n_estimators': 10, 'max_depth': 1, 'min_samples_split': 6, 'min_samples_leaf': 4}\n",
      "{'n_estimators': 10, 'max_depth': 3, 'min_samples_split': 10, 'min_samples_leaf': 4}\n",
      "{'n_estimators': 10, 'max_depth': 3, 'min_samples_split': 10, 'min_samples_leaf': 6}\n",
      "{'n_estimators': 10, 'max_depth': 5, 'min_samples_split': 10, 'min_samples_leaf': 2}\n",
      "{'n_estimators': 10, 'max_depth': 5, 'min_samples_split': 10, 'min_samples_leaf': 4}\n",
      "{'n_estimators': 10, 'max_depth': 7, 'min_samples_split': 8, 'min_samples_leaf': 10}\n",
      "{'n_estimators': 10, 'max_depth': 7, 'min_samples_split': 10, 'min_samples_leaf': 2}\n",
      "{'n_estimators': 10, 'max_depth': 9, 'min_samples_split': 8, 'min_samples_leaf': 8}\n",
      "{'n_estimators': 10, 'max_depth': 9, 'min_samples_split': 8, 'min_samples_leaf': 10}\n",
      "{'n_estimators': 10, 'max_depth': 11, 'min_samples_split': 8, 'min_samples_leaf': 6}\n",
      "{'n_estimators': 10, 'max_depth': 11, 'min_samples_split': 8, 'min_samples_leaf': 8}\n",
      "{'n_estimators': 10, 'max_depth': 13, 'min_samples_split': 8, 'min_samples_leaf': 4}\n",
      "{'n_estimators': 10, 'max_depth': 13, 'min_samples_split': 8, 'min_samples_leaf': 6}\n",
      "{'n_estimators': 10, 'max_depth': 15, 'min_samples_split': 8, 'min_samples_leaf': 2}\n",
      "{'n_estimators': 10, 'max_depth': 15, 'min_samples_split': 8, 'min_samples_leaf': 4}\n",
      "{'n_estimators': 10, 'max_depth': 17, 'min_samples_split': 8, 'min_samples_leaf': 4}\n",
      "{'n_estimators': 10, 'max_depth': 17, 'min_samples_split': 8, 'min_samples_leaf': 6}\n",
      "{'n_estimators': 10, 'max_depth': 19, 'min_samples_split': 8, 'min_samples_leaf': 2}\n",
      "{'n_estimators': 10, 'max_depth': 19, 'min_samples_split': 8, 'min_samples_leaf': 4}\n",
      "{'n_estimators': 30, 'max_depth': 1, 'min_samples_split': 6, 'min_samples_leaf': 10}\n",
      "{'n_estimators': 30, 'max_depth': 1, 'min_samples_split': 8, 'min_samples_leaf': 2}\n",
      "{'n_estimators': 30, 'max_depth': 3, 'min_samples_split': 6, 'min_samples_leaf': 8}\n",
      "{'n_estimators': 30, 'max_depth': 3, 'min_samples_split': 6, 'min_samples_leaf': 10}\n",
      "{'n_estimators': 30, 'max_depth': 5, 'min_samples_split': 6, 'min_samples_leaf': 6}\n",
      "{'n_estimators': 30, 'max_depth': 5, 'min_samples_split': 6, 'min_samples_leaf': 8}\n",
      "{'n_estimators': 30, 'max_depth': 7, 'min_samples_split': 6, 'min_samples_leaf': 4}\n",
      "{'n_estimators': 30, 'max_depth': 7, 'min_samples_split': 6, 'min_samples_leaf': 6}\n",
      "{'n_estimators': 30, 'max_depth': 9, 'min_samples_split': 6, 'min_samples_leaf': 2}\n",
      "{'n_estimators': 30, 'max_depth': 9, 'min_samples_split': 6, 'min_samples_leaf': 4}\n",
      "{'n_estimators': 30, 'max_depth': 11, 'min_samples_split': 4, 'min_samples_leaf': 10}\n",
      "{'n_estimators': 30, 'max_depth': 11, 'min_samples_split': 6, 'min_samples_leaf': 2}\n",
      "{'n_estimators': 30, 'max_depth': 13, 'min_samples_split': 4, 'min_samples_leaf': 8}\n",
      "{'n_estimators': 30, 'max_depth': 13, 'min_samples_split': 4, 'min_samples_leaf': 10}\n",
      "{'n_estimators': 30, 'max_depth': 15, 'min_samples_split': 4, 'min_samples_leaf': 2}\n",
      "{'n_estimators': 30, 'max_depth': 15, 'min_samples_split': 4, 'min_samples_leaf': 4}\n",
      "{'n_estimators': 30, 'max_depth': 17, 'min_samples_split': 4, 'min_samples_leaf': 4}\n",
      "{'n_estimators': 30, 'max_depth': 17, 'min_samples_split': 4, 'min_samples_leaf': 6}\n",
      "{'n_estimators': 30, 'max_depth': 19, 'min_samples_split': 4, 'min_samples_leaf': 2}\n",
      "{'n_estimators': 30, 'max_depth': 19, 'min_samples_split': 4, 'min_samples_leaf': 4}\n",
      "{'n_estimators': 50, 'max_depth': 1, 'min_samples_split': 4, 'min_samples_leaf': 4}\n",
      "{'n_estimators': 50, 'max_depth': 1, 'min_samples_split': 4, 'min_samples_leaf': 6}\n",
      "{'n_estimators': 50, 'max_depth': 3, 'min_samples_split': 2, 'min_samples_leaf': 4}\n",
      "{'n_estimators': 50, 'max_depth': 3, 'min_samples_split': 2, 'min_samples_leaf': 6}\n",
      "{'n_estimators': 50, 'max_depth': 3, 'min_samples_split': 10, 'min_samples_leaf': 4}\n",
      "{'n_estimators': 50, 'max_depth': 5, 'min_samples_split': 4, 'min_samples_leaf': 8}\n",
      "{'n_estimators': 50, 'max_depth': 5, 'min_samples_split': 10, 'min_samples_leaf': 4}\n",
      "{'n_estimators': 50, 'max_depth': 7, 'min_samples_split': 4, 'min_samples_leaf': 6}\n",
      "{'n_estimators': 50, 'max_depth': 7, 'min_samples_split': 8, 'min_samples_leaf': 10}\n",
      "{'n_estimators': 50, 'max_depth': 9, 'min_samples_split': 4, 'min_samples_leaf': 4}\n",
      "{'n_estimators': 50, 'max_depth': 9, 'min_samples_split': 8, 'min_samples_leaf': 8}\n",
      "{'n_estimators': 50, 'max_depth': 11, 'min_samples_split': 4, 'min_samples_leaf': 2}\n",
      "{'n_estimators': 50, 'max_depth': 11, 'min_samples_split': 8, 'min_samples_leaf': 6}\n",
      "{'n_estimators': 50, 'max_depth': 13, 'min_samples_split': 2, 'min_samples_leaf': 10}\n",
      "{'n_estimators': 50, 'max_depth': 13, 'min_samples_split': 8, 'min_samples_leaf': 4}\n",
      "{'n_estimators': 50, 'max_depth': 15, 'min_samples_split': 2, 'min_samples_leaf': 8}\n",
      "{'n_estimators': 50, 'max_depth': 15, 'min_samples_split': 8, 'min_samples_leaf': 2}\n",
      "{'n_estimators': 50, 'max_depth': 17, 'min_samples_split': 2, 'min_samples_leaf': 6}\n",
      "{'n_estimators': 50, 'max_depth': 17, 'min_samples_split': 6, 'min_samples_leaf': 10}\n",
      "{'n_estimators': 50, 'max_depth': 19, 'min_samples_split': 2, 'min_samples_leaf': 4}\n",
      "{'n_estimators': 50, 'max_depth': 19, 'min_samples_split': 6, 'min_samples_leaf': 8}\n",
      "{'n_estimators': 70, 'max_depth': 1, 'min_samples_split': 2, 'min_samples_leaf': 2}\n",
      "{'n_estimators': 70, 'max_depth': 1, 'min_samples_split': 4, 'min_samples_leaf': 6}\n",
      "{'n_estimators': 70, 'max_depth': 1, 'min_samples_split': 8, 'min_samples_leaf': 10}\n",
      "{'n_estimators': 70, 'max_depth': 3, 'min_samples_split': 4, 'min_samples_leaf': 4}\n",
      "{'n_estimators': 70, 'max_depth': 3, 'min_samples_split': 8, 'min_samples_leaf': 8}\n",
      "{'n_estimators': 70, 'max_depth': 5, 'min_samples_split': 4, 'min_samples_leaf': 2}\n",
      "{'n_estimators': 70, 'max_depth': 5, 'min_samples_split': 8, 'min_samples_leaf': 6}\n",
      "{'n_estimators': 70, 'max_depth': 7, 'min_samples_split': 2, 'min_samples_leaf': 10}\n",
      "{'n_estimators': 70, 'max_depth': 7, 'min_samples_split': 8, 'min_samples_leaf': 4}\n",
      "{'n_estimators': 70, 'max_depth': 9, 'min_samples_split': 2, 'min_samples_leaf': 8}\n",
      "{'n_estimators': 70, 'max_depth': 9, 'min_samples_split': 8, 'min_samples_leaf': 2}\n",
      "{'n_estimators': 70, 'max_depth': 11, 'min_samples_split': 2, 'min_samples_leaf': 6}\n",
      "{'n_estimators': 70, 'max_depth': 11, 'min_samples_split': 6, 'min_samples_leaf': 10}\n",
      "{'n_estimators': 70, 'max_depth': 13, 'min_samples_split': 2, 'min_samples_leaf': 4}\n",
      "{'n_estimators': 70, 'max_depth': 13, 'min_samples_split': 6, 'min_samples_leaf': 8}\n",
      "{'n_estimators': 70, 'max_depth': 13, 'min_samples_split': 10, 'min_samples_leaf': 10}\n",
      "{'n_estimators': 70, 'max_depth': 15, 'min_samples_split': 6, 'min_samples_leaf': 4}\n",
      "{'n_estimators': 70, 'max_depth': 15, 'min_samples_split': 10, 'min_samples_leaf': 8}\n",
      "{'n_estimators': 70, 'max_depth': 17, 'min_samples_split': 6, 'min_samples_leaf': 2}\n",
      "{'n_estimators': 70, 'max_depth': 17, 'min_samples_split': 10, 'min_samples_leaf': 8}\n",
      "{'n_estimators': 70, 'max_depth': 19, 'min_samples_split': 4, 'min_samples_leaf': 10}\n",
      "{'n_estimators': 70, 'max_depth': 19, 'min_samples_split': 10, 'min_samples_leaf': 4}\n",
      "{'n_estimators': 90, 'max_depth': 1, 'min_samples_split': 6, 'min_samples_leaf': 4}\n",
      "{'n_estimators': 90, 'max_depth': 1, 'min_samples_split': 10, 'min_samples_leaf': 8}\n",
      "{'n_estimators': 90, 'max_depth': 3, 'min_samples_split': 6, 'min_samples_leaf': 2}\n",
      "{'n_estimators': 90, 'max_depth': 3, 'min_samples_split': 10, 'min_samples_leaf': 6}\n",
      "{'n_estimators': 90, 'max_depth': 5, 'min_samples_split': 4, 'min_samples_leaf': 10}\n",
      "{'n_estimators': 90, 'max_depth': 5, 'min_samples_split': 10, 'min_samples_leaf': 4}\n",
      "{'n_estimators': 90, 'max_depth': 7, 'min_samples_split': 4, 'min_samples_leaf': 8}\n",
      "{'n_estimators': 90, 'max_depth': 7, 'min_samples_split': 10, 'min_samples_leaf': 2}\n",
      "{'n_estimators': 90, 'max_depth': 9, 'min_samples_split': 4, 'min_samples_leaf': 6}\n",
      "{'n_estimators': 90, 'max_depth': 9, 'min_samples_split': 8, 'min_samples_leaf': 10}\n",
      "{'n_estimators': 90, 'max_depth': 11, 'min_samples_split': 4, 'min_samples_leaf': 4}\n",
      "{'n_estimators': 90, 'max_depth': 11, 'min_samples_split': 8, 'min_samples_leaf': 8}\n",
      "{'n_estimators': 90, 'max_depth': 13, 'min_samples_split': 4, 'min_samples_leaf': 2}\n",
      "{'n_estimators': 90, 'max_depth': 13, 'min_samples_split': 8, 'min_samples_leaf': 8}\n",
      "{'n_estimators': 90, 'max_depth': 15, 'min_samples_split': 4, 'min_samples_leaf': 2}\n",
      "{'n_estimators': 90, 'max_depth': 15, 'min_samples_split': 8, 'min_samples_leaf': 6}\n",
      "{'n_estimators': 90, 'max_depth': 17, 'min_samples_split': 2, 'min_samples_leaf': 10}\n",
      "{'n_estimators': 90, 'max_depth': 17, 'min_samples_split': 8, 'min_samples_leaf': 4}\n",
      "{'n_estimators': 90, 'max_depth': 19, 'min_samples_split': 2, 'min_samples_leaf': 8}\n",
      "{'n_estimators': 90, 'max_depth': 19, 'min_samples_split': 8, 'min_samples_leaf': 2}\n",
      "{'n_estimators': 110, 'max_depth': 1, 'min_samples_split': 2, 'min_samples_leaf': 6}\n",
      "{'n_estimators': 110, 'max_depth': 1, 'min_samples_split': 6, 'min_samples_leaf': 2}\n",
      "{'n_estimators': 110, 'max_depth': 1, 'min_samples_split': 10, 'min_samples_leaf': 6}\n",
      "{'n_estimators': 110, 'max_depth': 3, 'min_samples_split': 4, 'min_samples_leaf': 10}\n",
      "{'n_estimators': 110, 'max_depth': 3, 'min_samples_split': 10, 'min_samples_leaf': 4}\n",
      "{'n_estimators': 110, 'max_depth': 5, 'min_samples_split': 4, 'min_samples_leaf': 8}\n",
      "{'n_estimators': 110, 'max_depth': 5, 'min_samples_split': 10, 'min_samples_leaf': 2}\n",
      "{'n_estimators': 110, 'max_depth': 7, 'min_samples_split': 4, 'min_samples_leaf': 6}\n",
      "{'n_estimators': 110, 'max_depth': 7, 'min_samples_split': 8, 'min_samples_leaf': 10}\n",
      "{'n_estimators': 110, 'max_depth': 9, 'min_samples_split': 4, 'min_samples_leaf': 4}\n",
      "{'n_estimators': 110, 'max_depth': 9, 'min_samples_split': 8, 'min_samples_leaf': 8}\n",
      "{'n_estimators': 110, 'max_depth': 11, 'min_samples_split': 4, 'min_samples_leaf': 2}\n",
      "{'n_estimators': 110, 'max_depth': 11, 'min_samples_split': 8, 'min_samples_leaf': 6}\n",
      "{'n_estimators': 110, 'max_depth': 13, 'min_samples_split': 2, 'min_samples_leaf': 10}\n",
      "{'n_estimators': 110, 'max_depth': 13, 'min_samples_split': 8, 'min_samples_leaf': 4}\n",
      "{'n_estimators': 110, 'max_depth': 15, 'min_samples_split': 2, 'min_samples_leaf': 8}\n",
      "{'n_estimators': 110, 'max_depth': 15, 'min_samples_split': 8, 'min_samples_leaf': 2}\n",
      "{'n_estimators': 110, 'max_depth': 17, 'min_samples_split': 2, 'min_samples_leaf': 6}\n",
      "{'n_estimators': 110, 'max_depth': 17, 'min_samples_split': 6, 'min_samples_leaf': 10}\n",
      "{'n_estimators': 110, 'max_depth': 19, 'min_samples_split': 2, 'min_samples_leaf': 4}\n",
      "{'n_estimators': 110, 'max_depth': 19, 'min_samples_split': 6, 'min_samples_leaf': 6}\n",
      "{'n_estimators': 130, 'max_depth': 1, 'min_samples_split': 2, 'min_samples_leaf': 2}\n",
      "{'n_estimators': 130, 'max_depth': 1, 'min_samples_split': 4, 'min_samples_leaf': 6}\n",
      "{'n_estimators': 130, 'max_depth': 1, 'min_samples_split': 8, 'min_samples_leaf': 8}\n",
      "{'n_estimators': 130, 'max_depth': 3, 'min_samples_split': 4, 'min_samples_leaf': 2}\n",
      "{'n_estimators': 130, 'max_depth': 3, 'min_samples_split': 8, 'min_samples_leaf': 6}\n",
      "{'n_estimators': 130, 'max_depth': 5, 'min_samples_split': 2, 'min_samples_leaf': 10}\n",
      "{'n_estimators': 130, 'max_depth': 5, 'min_samples_split': 8, 'min_samples_leaf': 4}\n",
      "{'n_estimators': 130, 'max_depth': 7, 'min_samples_split': 2, 'min_samples_leaf': 8}\n",
      "{'n_estimators': 130, 'max_depth': 7, 'min_samples_split': 8, 'min_samples_leaf': 2}\n",
      "{'n_estimators': 130, 'max_depth': 9, 'min_samples_split': 2, 'min_samples_leaf': 6}\n",
      "{'n_estimators': 130, 'max_depth': 9, 'min_samples_split': 6, 'min_samples_leaf': 10}\n",
      "{'n_estimators': 130, 'max_depth': 11, 'min_samples_split': 2, 'min_samples_leaf': 2}\n",
      "{'n_estimators': 130, 'max_depth': 11, 'min_samples_split': 6, 'min_samples_leaf': 6}\n",
      "{'n_estimators': 130, 'max_depth': 11, 'min_samples_split': 10, 'min_samples_leaf': 10}\n",
      "{'n_estimators': 130, 'max_depth': 13, 'min_samples_split': 6, 'min_samples_leaf': 4}\n",
      "{'n_estimators': 130, 'max_depth': 13, 'min_samples_split': 10, 'min_samples_leaf': 8}\n",
      "{'n_estimators': 130, 'max_depth': 15, 'min_samples_split': 6, 'min_samples_leaf': 2}\n",
      "{'n_estimators': 130, 'max_depth': 15, 'min_samples_split': 10, 'min_samples_leaf': 6}\n",
      "{'n_estimators': 130, 'max_depth': 17, 'min_samples_split': 4, 'min_samples_leaf': 10}\n",
      "{'n_estimators': 130, 'max_depth': 17, 'min_samples_split': 10, 'min_samples_leaf': 4}\n",
      "{'n_estimators': 130, 'max_depth': 19, 'min_samples_split': 4, 'min_samples_leaf': 8}\n",
      "{'n_estimators': 130, 'max_depth': 19, 'min_samples_split': 10, 'min_samples_leaf': 2}\n",
      "{'n_estimators': 150, 'max_depth': 1, 'min_samples_split': 4, 'min_samples_leaf': 10}\n",
      "{'n_estimators': 150, 'max_depth': 1, 'min_samples_split': 10, 'min_samples_leaf': 4}\n",
      "{'n_estimators': 150, 'max_depth': 3, 'min_samples_split': 4, 'min_samples_leaf': 8}\n",
      "{'n_estimators': 150, 'max_depth': 3, 'min_samples_split': 10, 'min_samples_leaf': 2}\n",
      "{'n_estimators': 150, 'max_depth': 5, 'min_samples_split': 4, 'min_samples_leaf': 6}\n",
      "{'n_estimators': 150, 'max_depth': 5, 'min_samples_split': 8, 'min_samples_leaf': 10}\n",
      "{'n_estimators': 150, 'max_depth': 7, 'min_samples_split': 4, 'min_samples_leaf': 4}\n",
      "{'n_estimators': 150, 'max_depth': 7, 'min_samples_split': 8, 'min_samples_leaf': 8}\n",
      "{'n_estimators': 150, 'max_depth': 9, 'min_samples_split': 4, 'min_samples_leaf': 2}\n",
      "{'n_estimators': 150, 'max_depth': 9, 'min_samples_split': 8, 'min_samples_leaf': 6}\n",
      "{'n_estimators': 150, 'max_depth': 11, 'min_samples_split': 2, 'min_samples_leaf': 10}\n",
      "{'n_estimators': 150, 'max_depth': 11, 'min_samples_split': 8, 'min_samples_leaf': 2}\n",
      "{'n_estimators': 150, 'max_depth': 13, 'min_samples_split': 2, 'min_samples_leaf': 6}\n",
      "{'n_estimators': 150, 'max_depth': 13, 'min_samples_split': 6, 'min_samples_leaf': 10}\n",
      "{'n_estimators': 150, 'max_depth': 15, 'min_samples_split': 2, 'min_samples_leaf': 4}\n",
      "{'n_estimators': 150, 'max_depth': 15, 'min_samples_split': 6, 'min_samples_leaf': 8}\n",
      "{'n_estimators': 150, 'max_depth': 17, 'min_samples_split': 2, 'min_samples_leaf': 2}\n",
      "{'n_estimators': 150, 'max_depth': 17, 'min_samples_split': 6, 'min_samples_leaf': 8}\n",
      "{'n_estimators': 150, 'max_depth': 19, 'min_samples_split': 2, 'min_samples_leaf': 2}\n",
      "{'n_estimators': 150, 'max_depth': 19, 'min_samples_split': 6, 'min_samples_leaf': 6}\n",
      "{'n_estimators': 150, 'max_depth': 19, 'min_samples_split': 10, 'min_samples_leaf': 10}\n",
      "{'n_estimators': 170, 'max_depth': 1, 'min_samples_split': 10, 'min_samples_leaf': 4}\n",
      "{'n_estimators': 170, 'max_depth': 3, 'min_samples_split': 4, 'min_samples_leaf': 8}\n",
      "{'n_estimators': 170, 'max_depth': 3, 'min_samples_split': 10, 'min_samples_leaf': 2}\n",
      "{'n_estimators': 170, 'max_depth': 5, 'min_samples_split': 4, 'min_samples_leaf': 6}\n",
      "{'n_estimators': 170, 'max_depth': 5, 'min_samples_split': 8, 'min_samples_leaf': 10}\n",
      "{'n_estimators': 170, 'max_depth': 7, 'min_samples_split': 4, 'min_samples_leaf': 4}\n",
      "{'n_estimators': 170, 'max_depth': 7, 'min_samples_split': 8, 'min_samples_leaf': 8}\n",
      "{'n_estimators': 170, 'max_depth': 9, 'min_samples_split': 4, 'min_samples_leaf': 2}\n",
      "{'n_estimators': 170, 'max_depth': 9, 'min_samples_split': 8, 'min_samples_leaf': 6}\n",
      "{'n_estimators': 170, 'max_depth': 11, 'min_samples_split': 2, 'min_samples_leaf': 10}\n",
      "{'n_estimators': 170, 'max_depth': 11, 'min_samples_split': 6, 'min_samples_leaf': 10}\n",
      "{'n_estimators': 170, 'max_depth': 13, 'min_samples_split': 2, 'min_samples_leaf': 4}\n",
      "{'n_estimators': 170, 'max_depth': 13, 'min_samples_split': 6, 'min_samples_leaf': 8}\n",
      "{'n_estimators': 170, 'max_depth': 15, 'min_samples_split': 2, 'min_samples_leaf': 2}\n",
      "{'n_estimators': 170, 'max_depth': 15, 'min_samples_split': 6, 'min_samples_leaf': 6}\n",
      "{'n_estimators': 170, 'max_depth': 15, 'min_samples_split': 10, 'min_samples_leaf': 10}\n",
      "{'n_estimators': 170, 'max_depth': 17, 'min_samples_split': 6, 'min_samples_leaf': 4}\n",
      "{'n_estimators': 170, 'max_depth': 17, 'min_samples_split': 10, 'min_samples_leaf': 8}\n",
      "{'n_estimators': 170, 'max_depth': 19, 'min_samples_split': 6, 'min_samples_leaf': 2}\n",
      "{'n_estimators': 170, 'max_depth': 19, 'min_samples_split': 10, 'min_samples_leaf': 6}\n",
      "{'n_estimators': 190, 'max_depth': 1, 'min_samples_split': 8, 'min_samples_leaf': 4}\n",
      "{'n_estimators': 190, 'max_depth': 3, 'min_samples_split': 2, 'min_samples_leaf': 8}\n",
      "{'n_estimators': 190, 'max_depth': 3, 'min_samples_split': 8, 'min_samples_leaf': 2}\n",
      "{'n_estimators': 190, 'max_depth': 5, 'min_samples_split': 2, 'min_samples_leaf': 10}\n",
      "f1 = 0.6151866151866152\n",
      "AUC-ROC = 0.846508838804473\n",
      "Оптимальные гиперпараметры: {'n_estimators': 130, 'max_depth': 17, 'min_samples_split': 10, 'min_samples_leaf': 2}\n"
     ]
    }
   ],
   "source": [
    "from joblib import Parallel, delayed\n",
    "\n",
    "def trial(n_estimators, max_depth, min_samples_split, min_samples_leaf, random_state, X, y, X_valid, y_valid):\n",
    "    params = {\n",
    "        'n_estimators': n_estimators,\n",
    "        'max_depth': max_depth,\n",
    "        'min_samples_split': min_samples_split,\n",
    "        'min_samples_leaf': min_samples_leaf,\n",
    "    }\n",
    "    print(params)\n",
    "    random_forest_model = RandomForestClassifier(\n",
    "        **params,\n",
    "        random_state=random_state\n",
    "    )\n",
    "    random_forest_model.fit(X, y)\n",
    "    f1 = f1_score(y_valid, random_forest_model.predict(X_valid))\n",
    "    return f1, params, random_forest_model\n",
    "\n",
    "\n",
    "scores = Parallel(n_jobs=-1)(delayed(trial)(\n",
    "    n_estimators, max_depth, min_samples_split, min_samples_leaf, RANDOM_STATE, features_train_upsample,\n",
    "    target_train_upsample, features_valid_upsample, target_valid_upsample\n",
    ")\n",
    "    for n_estimators in range(10, 201, 20)\n",
    "    for max_depth in range(1, 21, 2)\n",
    "    for min_samples_split in range(2, 11, 2)\n",
    "    for min_samples_leaf in range(2, 11, 2)\n",
    ")\n",
    "\n",
    "f1_list = [score[0] for score in scores]\n",
    "params_list = [score[1] for score in scores]\n",
    "model_list = [score[2] for score in scores]\n",
    "best_f1 = max(f1_list)\n",
    "max_index = f1_list.index(best_f1)\n",
    "best_params = params_list[max_index]\n",
    "random_forest_model_no_cv = model_list[max_index]\n",
    "\n",
    "print(f'f1 = {best_f1}')\n",
    "print(f'AUC-ROC = {roc_auc(random_forest_model_no_cv, features_valid_upsample, target_valid_upsample)}')\n",
    "print(f'Оптимальные гиперпараметры: {best_params}')"
   ]
  },
  {
   "cell_type": "markdown",
   "metadata": {},
   "source": [
    "Модель показала результат на уровне других подходов, не вызвавших подозрение, будет интересно посмотреть на результаты тестовой выборки."
   ]
  },
  {
   "cell_type": "markdown",
   "metadata": {},
   "source": [
    "### Выводы по борьбе с дисбалансом\n",
    "Техники борьбы с дисбалансом привели к увеличению метрик f1 и AUC-ROC для всех моделей. Однако для Дерева решений и Случайного леса количество правильных предсказаний единицы практически стало равным 1, что очень подозрительно. Возможно модели переобучились за счет дублирования данных. В связи с этим на данный момент невозможно выбрать лучшую модель. Использование продвинутого увеличения выборки не привело к максимальному результату, возможно инструмент не совсем правильно используется. Увеличение выборки без кросс-валидации и проверка метрики на валидационной выборке отработала на уровне других подходов. Проверим как все обученные модели будут себя вести на тестовой выборке."
   ]
  },
  {
   "cell_type": "markdown",
   "metadata": {},
   "source": [
    "## Тестирование модели"
   ]
  },
  {
   "cell_type": "markdown",
   "metadata": {},
   "source": [
    "### Дерево решений"
   ]
  },
  {
   "cell_type": "code",
   "execution_count": 83,
   "metadata": {},
   "outputs": [
    {
     "name": "stdout",
     "output_type": "stream",
     "text": [
      "Дисбаланс. f1 = 0.5507853403141363\n",
      "Взвешивание. f1 = 0.586053412462908\n",
      "Увеличение. f1 = 0.5263157894736842\n",
      "imblearn SMOTE. f1 = 0.5991416309012875\n",
      "Уменьшение. f1 = 0.5933384972889234\n"
     ]
    }
   ],
   "source": [
    "print(f'Дисбаланс. f1 = {f1_score(decision_tree_model_disbalance.predict(features_test), target_test)}')\n",
    "print(f'Взвешивание. f1 = {f1_score(decision_tree_model_balance.predict(features_test), target_test)}')\n",
    "print(f'Увеличение. f1 = {f1_score(decision_tree_model_upsample.predict(features_test), target_test)}')\n",
    "print(f'imblearn SMOTE. f1 = {f1_score(decision_tree_model_imba.predict(features_test), target_test)}')\n",
    "print(f'Уменьшение. f1 = {f1_score(decision_tree_model_downsample.predict(features_test), target_test)}')"
   ]
  },
  {
   "cell_type": "markdown",
   "metadata": {},
   "source": [
    "Все модели превзошли базовую. На тестовой выборке лучше всего себя показала модель, обученная с применением техники продвинутого увеличения выборки, значение метрики f1 достигло 0.596. Также оправдались опасение по поводу увеличения и уменьшения выборки, на тестовой выборке модели показала себя плохо. Дисбаланс, взвешивание и продвинутое увеличение показали значения метрик близкие к полученным на обучающей выборке."
   ]
  },
  {
   "cell_type": "markdown",
   "metadata": {},
   "source": [
    "### Случайный лес"
   ]
  },
  {
   "cell_type": "code",
   "execution_count": 84,
   "metadata": {},
   "outputs": [
    {
     "name": "stdout",
     "output_type": "stream",
     "text": [
      "Дисбаланс. f1 = 0.5926829268292684\n",
      "Взвешивание. f1 = 0.6292585170340681\n",
      "Увеличение. f1 = 0.6153846153846153\n",
      "imblearn SMOTE. f1 = 0.609375\n",
      "Уменьшение. f1 = 0.6031746031746031\n",
      "Увеличение без CV. f1 = 0.626552053486151\n"
     ]
    }
   ],
   "source": [
    "print(f'Дисбаланс. f1 = {f1_score(random_forest_model_disbalance.predict(features_test), target_test)}')\n",
    "print(f'Взвешивание. f1 = {f1_score(random_forest_model_balance.predict(features_test), target_test)}')\n",
    "print(f'Увеличение. f1 = {f1_score(random_forest_model_upsample.predict(features_test), target_test)}')\n",
    "print(f'imblearn SMOTE. f1 = {f1_score(random_forest_model_imba.predict(features_test), target_test)}')\n",
    "print(f'Уменьшение. f1 = {f1_score(random_forest_model_downsample.predict(features_test), target_test)}')\n",
    "print(f'Увеличение без CV. f1 = {f1_score(random_forest_model_no_cv.predict(features_test), target_test)}')"
   ]
  },
  {
   "cell_type": "markdown",
   "metadata": {},
   "source": [
    "Все модели превзошли базовую. Для случайного леса взвешивание классов и увеличение выборки без кросс-валидации дали рпактически одинаковые значения, равные примерно 0.62. Увеличение и уменьшение выборки опять не оправдало себя, превзойдя лишь исходные выборки. Дисбаланс, взвешивание, продвинутое увеличение и увеличение без кросс-валидации  показали значения метрик близкие к полученным на обучающей выборке."
   ]
  },
  {
   "cell_type": "markdown",
   "metadata": {},
   "source": [
    "### Логистическая регрессия"
   ]
  },
  {
   "cell_type": "code",
   "execution_count": 85,
   "metadata": {},
   "outputs": [
    {
     "name": "stdout",
     "output_type": "stream",
     "text": [
      "Дисбаланс. f1 = 0.3202328966521106\n",
      "Взвешивание. f1 = 0.5013736263736264\n",
      "Увеличение. f1 = 0.5027173913043478\n",
      "imblearn SMOTE. f1 = 0.494018296973962\n",
      "Уменьшение. f1 = 0.5026954177897573\n"
     ]
    }
   ],
   "source": [
    "print(f'Дисбаланс. f1 = {f1_score(logistic_regression_model_disbalance.predict(features_test), target_test)}')\n",
    "print(f'Взвешивание. f1 = {f1_score(logistic_regression_model_balance.predict(features_test), target_test)}')\n",
    "print(f'Увеличение. f1 = {f1_score(logistic_regression_model_upsample.predict(features_test), target_test)}')\n",
    "print(f'imblearn SMOTE. f1 = {f1_score(logistic_regression_model_imba.predict(features_test), target_test)}')\n",
    "print(f'Уменьшение. f1 = {f1_score(logistic_regression_model_downsample.predict(features_test), target_test)}')"
   ]
  },
  {
   "cell_type": "markdown",
   "metadata": {},
   "source": [
    "Для логистической регрессии все техники борьбы с дисбалансом показали себя примерно одинаково, значение метрики f1 во всех случаях примерно равно 0.5. Без борьбы с дисбалансом логистическая регрессия показала себя хуже базовой. Дисбаланс, взвешивание и продвинутое увеличение показали значения метрик близкие к полученным на обучающей выборке, а увеличение и уменьшение выборки значительно уменьшили показания."
   ]
  },
  {
   "cell_type": "markdown",
   "metadata": {},
   "source": [
    "Для наилучшей модели также посчитаем recall."
   ]
  },
  {
   "cell_type": "code",
   "execution_count": 86,
   "metadata": {},
   "outputs": [
    {
     "name": "stdout",
     "output_type": "stream",
     "text": [
      "Recall = 0.6421267893660532\n"
     ]
    }
   ],
   "source": [
    "recall = recall_score(random_forest_model_balance.predict(features_test), target_test)\n",
    "print(f'Recall = {recall}')"
   ]
  },
  {
   "cell_type": "markdown",
   "metadata": {},
   "source": [
    "### Вывод\n",
    "Слишком оптимистичные значения метрики f1 при увеличении и уменьшении выборок не зря показались подозрительными. На тестовой выборке модели, обученные с применением данных техники показали плохие результаты. В итоге наилучшее значение 0.62 получила модель случайного леса, обученная с помощью встроенного в sklearn взвешивания классов. Recall этой модели также составил 0.62. \n",
    "\n",
    "Применение самодельных техник увеличения и уменьшения выборок не оправдало себя. Также удалост убедиться, что техника увеличения выборки не работает с кросс-валидацией, модель переобучается и показывает плохие результаты на тестовой выборке. В то же время при использовании валидационной выборки мы не даем переобучиться модели и на тестовой выборке она выдает схожие результаты."
   ]
  },
  {
   "cell_type": "markdown",
   "metadata": {},
   "source": [
    "## Выводы"
   ]
  },
  {
   "cell_type": "markdown",
   "metadata": {},
   "source": [
    "Были исследованы данные по оттоку клиентов банка, произведена подготовка данных для обучения моделей и обучены модели с целью максимизации метрики f1.\n",
    "\n",
    "В данных обнаружен сильный дисбаланс, ушедших клиентов было в 4 раза меньше чем оставшихся. В связи с этим были применены методы борьбы с дисбалансом - взвешивание классов, увеличение и уменьшение выборки, продвинутое увеличение выборки. \n",
    "\n",
    "При увеличении и уменьшении выборок на этих выборках модели стали показывать слишком хороший результат, что вызвало подозрение. При их проверке на тестовой выборке подозрения оправдались, показатели моделей упали. В то же время взвешивание и продвинутое увеличение показали значения метрик близкие к полученным на обучающей выборке.\n",
    "\n",
    "\n",
    "В итоге на тетовой выборке удалось достичь значения метрики f1 равного 0.62 с помощью подбора гиперепараметров для модели случайного леса, дисбаланс был устранен с помощью взвешивания классов. Оптимальными оказались следующие гиперпараметры - {'n_estimators': 190, 'max_depth': 16, 'min_samples_split': 10, 'min_samples_leaf': 4}. Recall модели составил 0.62, соответственно при внедрении модель позволит выявить 62% потенциально уходящих клиентов.\n",
    "\n",
    "\n",
    "Вместе с измерением f1 измерялась метрика AUC-ROC, было замечено, что с ростом f1 росло и значение AUC-ROC."
   ]
  },
  {
   "cell_type": "markdown",
   "metadata": {},
   "source": [
    "## Чек-лист готовности проекта"
   ]
  },
  {
   "cell_type": "markdown",
   "metadata": {},
   "source": [
    "Поставьте 'x' в выполненных пунктах. Далее нажмите Shift+Enter."
   ]
  },
  {
   "cell_type": "markdown",
   "metadata": {},
   "source": [
    "- [x]  Jupyter Notebook открыт\n",
    "- [x]  Весь код выполняется без ошибок\n",
    "- [x]  Ячейки с кодом расположены в порядке исполнения\n",
    "- [x]  Выполнен шаг 1: данные подготовлены\n",
    "- [x]  Выполнен шаг 2: задача исследована\n",
    "    - [x]  Исследован баланс классов\n",
    "    - [x]  Изучены модели без учёта дисбаланса\n",
    "    - [x]  Написаны выводы по результатам исследования\n",
    "- [x]  Выполнен шаг 3: учтён дисбаланс\n",
    "    - [x]  Применено несколько способов борьбы с дисбалансом\n",
    "    - [x]  Написаны выводы по результатам исследования\n",
    "- [x]  Выполнен шаг 4: проведено тестирование\n",
    "- [x]  Удалось достичь *F1*-меры не менее 0.59\n",
    "- [x]  Исследована метрика *AUC-ROC*"
   ]
  },
  {
   "cell_type": "code",
   "execution_count": 86,
   "metadata": {},
   "outputs": [],
   "source": []
  }
 ],
 "metadata": {
  "ExecuteTimeLog": [
   {
    "duration": 390,
    "start_time": "2022-12-12T16:19:02.880Z"
   },
   {
    "duration": 166,
    "start_time": "2022-12-12T16:19:33.627Z"
   },
   {
    "duration": 21,
    "start_time": "2022-12-12T16:19:34.859Z"
   },
   {
    "duration": 21,
    "start_time": "2022-12-12T16:21:08.670Z"
   },
   {
    "duration": 61,
    "start_time": "2022-12-12T16:22:18.205Z"
   },
   {
    "duration": 6,
    "start_time": "2022-12-12T16:22:24.361Z"
   },
   {
    "duration": 5,
    "start_time": "2022-12-12T16:25:27.395Z"
   },
   {
    "duration": 16,
    "start_time": "2022-12-12T16:25:48.053Z"
   },
   {
    "duration": 76,
    "start_time": "2022-12-12T16:25:56.705Z"
   },
   {
    "duration": 4,
    "start_time": "2022-12-12T16:26:00.888Z"
   },
   {
    "duration": 3,
    "start_time": "2022-12-12T16:26:06.839Z"
   },
   {
    "duration": 45,
    "start_time": "2022-12-12T16:26:07.022Z"
   },
   {
    "duration": 14,
    "start_time": "2022-12-12T16:26:07.217Z"
   },
   {
    "duration": 21,
    "start_time": "2022-12-12T16:26:08.306Z"
   },
   {
    "duration": 6,
    "start_time": "2022-12-12T16:26:08.752Z"
   },
   {
    "duration": 22,
    "start_time": "2022-12-12T16:28:10.615Z"
   },
   {
    "duration": 13,
    "start_time": "2022-12-12T16:28:21.454Z"
   },
   {
    "duration": 297,
    "start_time": "2022-12-12T16:30:15.518Z"
   },
   {
    "duration": 288,
    "start_time": "2022-12-12T16:31:21.647Z"
   },
   {
    "duration": 14,
    "start_time": "2022-12-12T16:31:55.077Z"
   },
   {
    "duration": 3,
    "start_time": "2022-12-12T16:32:05.266Z"
   },
   {
    "duration": 45,
    "start_time": "2022-12-12T16:32:05.542Z"
   },
   {
    "duration": 14,
    "start_time": "2022-12-12T16:32:06.024Z"
   },
   {
    "duration": 20,
    "start_time": "2022-12-12T16:32:06.450Z"
   },
   {
    "duration": 6,
    "start_time": "2022-12-12T16:32:07.004Z"
   },
   {
    "duration": 16,
    "start_time": "2022-12-12T16:32:08.353Z"
   },
   {
    "duration": 4,
    "start_time": "2022-12-12T16:32:29.972Z"
   },
   {
    "duration": 75,
    "start_time": "2022-12-12T16:32:29.978Z"
   },
   {
    "duration": 15,
    "start_time": "2022-12-12T16:32:30.055Z"
   },
   {
    "duration": 40,
    "start_time": "2022-12-12T16:32:30.073Z"
   },
   {
    "duration": 8,
    "start_time": "2022-12-12T16:32:30.115Z"
   },
   {
    "duration": 6,
    "start_time": "2022-12-12T16:32:32.564Z"
   },
   {
    "duration": 15,
    "start_time": "2022-12-12T16:32:40.466Z"
   },
   {
    "duration": 4,
    "start_time": "2022-12-12T16:33:05.096Z"
   },
   {
    "duration": 13,
    "start_time": "2022-12-12T16:33:45.526Z"
   },
   {
    "duration": 7,
    "start_time": "2022-12-12T16:34:55.866Z"
   },
   {
    "duration": 3,
    "start_time": "2022-12-12T16:41:22.558Z"
   },
   {
    "duration": 3,
    "start_time": "2022-12-12T16:41:24.875Z"
   },
   {
    "duration": 4,
    "start_time": "2022-12-12T16:43:01.255Z"
   },
   {
    "duration": 12,
    "start_time": "2022-12-12T16:44:18.583Z"
   },
   {
    "duration": 3,
    "start_time": "2022-12-12T16:44:19.329Z"
   },
   {
    "duration": 8,
    "start_time": "2022-12-12T16:44:19.927Z"
   },
   {
    "duration": 48,
    "start_time": "2022-12-12T16:45:25.736Z"
   },
   {
    "duration": 9,
    "start_time": "2022-12-12T16:45:30.068Z"
   },
   {
    "duration": 7,
    "start_time": "2022-12-12T16:45:51.530Z"
   },
   {
    "duration": 3,
    "start_time": "2022-12-12T16:47:03.276Z"
   },
   {
    "duration": 9,
    "start_time": "2022-12-12T16:47:09.905Z"
   },
   {
    "duration": 2,
    "start_time": "2022-12-12T16:48:10.576Z"
   },
   {
    "duration": 19,
    "start_time": "2022-12-12T16:49:29.640Z"
   },
   {
    "duration": 15,
    "start_time": "2022-12-12T16:51:19.873Z"
   },
   {
    "duration": 1032,
    "start_time": "2022-12-12T16:51:32.775Z"
   },
   {
    "duration": 3,
    "start_time": "2022-12-12T16:51:33.809Z"
   },
   {
    "duration": 71,
    "start_time": "2022-12-12T16:51:33.813Z"
   },
   {
    "duration": 20,
    "start_time": "2022-12-12T16:51:33.885Z"
   },
   {
    "duration": 20,
    "start_time": "2022-12-12T16:51:33.907Z"
   },
   {
    "duration": 9,
    "start_time": "2022-12-12T16:51:33.929Z"
   },
   {
    "duration": 42,
    "start_time": "2022-12-12T16:51:33.939Z"
   },
   {
    "duration": 27,
    "start_time": "2022-12-12T16:51:33.983Z"
   },
   {
    "duration": 18,
    "start_time": "2022-12-12T16:51:34.012Z"
   },
   {
    "duration": 153,
    "start_time": "2022-12-12T16:51:34.031Z"
   },
   {
    "duration": 0,
    "start_time": "2022-12-12T16:51:34.186Z"
   },
   {
    "duration": 0,
    "start_time": "2022-12-12T16:51:34.188Z"
   },
   {
    "duration": 2,
    "start_time": "2022-12-12T16:53:44.371Z"
   },
   {
    "duration": 9,
    "start_time": "2022-12-12T16:53:45.175Z"
   },
   {
    "duration": 7,
    "start_time": "2022-12-12T16:53:50.717Z"
   },
   {
    "duration": 822,
    "start_time": "2022-12-12T16:53:51.687Z"
   },
   {
    "duration": 805,
    "start_time": "2022-12-12T16:55:35.823Z"
   },
   {
    "duration": 3,
    "start_time": "2022-12-12T16:55:41.139Z"
   },
   {
    "duration": 830,
    "start_time": "2022-12-12T16:55:45.132Z"
   },
   {
    "duration": 828,
    "start_time": "2022-12-12T16:56:48.067Z"
   },
   {
    "duration": 7548,
    "start_time": "2022-12-12T16:59:56.014Z"
   },
   {
    "duration": 278781,
    "start_time": "2022-12-12T17:00:45.695Z"
   },
   {
    "duration": 82,
    "start_time": "2022-12-12T17:08:02.749Z"
   },
   {
    "duration": 12,
    "start_time": "2022-12-12T17:08:34.088Z"
   },
   {
    "duration": 5,
    "start_time": "2022-12-12T17:08:42.842Z"
   },
   {
    "duration": 136195,
    "start_time": "2022-12-12T17:09:01.871Z"
   },
   {
    "duration": 16817,
    "start_time": "2022-12-12T17:11:20.802Z"
   },
   {
    "duration": 131167,
    "start_time": "2022-12-12T17:11:40.001Z"
   },
   {
    "duration": 16159,
    "start_time": "2022-12-12T17:13:53.331Z"
   },
   {
    "duration": 345757,
    "start_time": "2022-12-12T17:14:10.954Z"
   },
   {
    "duration": 20543,
    "start_time": "2022-12-12T17:21:00.252Z"
   },
   {
    "duration": 345512,
    "start_time": "2022-12-12T17:21:23.372Z"
   },
   {
    "duration": 1268,
    "start_time": "2022-12-16T18:06:18.615Z"
   },
   {
    "duration": 3,
    "start_time": "2022-12-16T18:06:19.885Z"
   },
   {
    "duration": 106,
    "start_time": "2022-12-16T18:06:19.889Z"
   },
   {
    "duration": 17,
    "start_time": "2022-12-16T18:06:19.997Z"
   },
   {
    "duration": 25,
    "start_time": "2022-12-16T18:06:20.017Z"
   },
   {
    "duration": 7,
    "start_time": "2022-12-16T18:06:20.044Z"
   },
   {
    "duration": 24,
    "start_time": "2022-12-16T18:06:20.053Z"
   },
   {
    "duration": 11,
    "start_time": "2022-12-16T18:06:20.079Z"
   },
   {
    "duration": 25,
    "start_time": "2022-12-16T18:06:20.091Z"
   },
   {
    "duration": 14,
    "start_time": "2022-12-16T18:06:20.118Z"
   },
   {
    "duration": 7,
    "start_time": "2022-12-16T18:06:20.136Z"
   },
   {
    "duration": 914,
    "start_time": "2022-12-16T18:06:20.144Z"
   },
   {
    "duration": 42778,
    "start_time": "2022-12-16T18:07:04.313Z"
   },
   {
    "duration": 823,
    "start_time": "2022-12-16T18:09:33.443Z"
   },
   {
    "duration": 4,
    "start_time": "2022-12-16T18:13:06.963Z"
   },
   {
    "duration": 4,
    "start_time": "2022-12-16T18:13:07.443Z"
   },
   {
    "duration": 124,
    "start_time": "2022-12-16T18:13:08.024Z"
   },
   {
    "duration": 20,
    "start_time": "2022-12-16T18:13:50.732Z"
   },
   {
    "duration": 5,
    "start_time": "2022-12-16T18:13:57.359Z"
   },
   {
    "duration": 4,
    "start_time": "2022-12-16T18:14:30.022Z"
   },
   {
    "duration": 5,
    "start_time": "2022-12-16T18:14:36.135Z"
   },
   {
    "duration": 12,
    "start_time": "2022-12-16T18:14:36.515Z"
   },
   {
    "duration": 12,
    "start_time": "2022-12-16T18:14:36.892Z"
   },
   {
    "duration": 3,
    "start_time": "2022-12-16T18:15:53.688Z"
   },
   {
    "duration": 4,
    "start_time": "2022-12-16T18:15:54.017Z"
   },
   {
    "duration": 11,
    "start_time": "2022-12-16T18:15:54.454Z"
   },
   {
    "duration": 1152,
    "start_time": "2022-12-16T18:15:55.016Z"
   },
   {
    "duration": 16,
    "start_time": "2022-12-16T18:15:56.170Z"
   },
   {
    "duration": 9,
    "start_time": "2022-12-16T18:16:31.661Z"
   },
   {
    "duration": 433,
    "start_time": "2022-12-16T18:16:32.613Z"
   },
   {
    "duration": 4,
    "start_time": "2022-12-16T18:20:20.892Z"
   },
   {
    "duration": 809,
    "start_time": "2022-12-16T18:20:45.324Z"
   },
   {
    "duration": 885,
    "start_time": "2022-12-16T18:20:46.134Z"
   },
   {
    "duration": 45,
    "start_time": "2022-12-16T18:20:47.115Z"
   },
   {
    "duration": 604,
    "start_time": "2022-12-16T18:21:37.316Z"
   },
   {
    "duration": 42,
    "start_time": "2022-12-16T18:21:38.966Z"
   },
   {
    "duration": 1192,
    "start_time": "2022-12-16T18:22:51.872Z"
   },
   {
    "duration": 878,
    "start_time": "2022-12-16T18:22:53.846Z"
   },
   {
    "duration": 53,
    "start_time": "2022-12-16T18:22:56.479Z"
   },
   {
    "duration": 14,
    "start_time": "2022-12-16T18:23:09.931Z"
   },
   {
    "duration": 430,
    "start_time": "2022-12-16T18:23:10.351Z"
   },
   {
    "duration": 3237,
    "start_time": "2022-12-16T18:23:12.484Z"
   },
   {
    "duration": 22,
    "start_time": "2022-12-16T18:23:18.348Z"
   },
   {
    "duration": 4,
    "start_time": "2022-12-16T18:27:51.894Z"
   },
   {
    "duration": 3,
    "start_time": "2022-12-16T18:28:25.952Z"
   },
   {
    "duration": 46,
    "start_time": "2022-12-16T18:29:17.970Z"
   },
   {
    "duration": 44,
    "start_time": "2022-12-16T18:30:06.894Z"
   },
   {
    "duration": 413,
    "start_time": "2022-12-16T18:30:20.841Z"
   },
   {
    "duration": 7,
    "start_time": "2022-12-16T18:30:21.351Z"
   },
   {
    "duration": 10,
    "start_time": "2022-12-16T18:30:32.410Z"
   },
   {
    "duration": 10,
    "start_time": "2022-12-16T18:30:43.728Z"
   },
   {
    "duration": 8,
    "start_time": "2022-12-16T18:30:54.680Z"
   },
   {
    "duration": 7,
    "start_time": "2022-12-16T18:30:57.464Z"
   },
   {
    "duration": 11,
    "start_time": "2022-12-16T18:31:04.537Z"
   },
   {
    "duration": 7,
    "start_time": "2022-12-16T18:31:08.292Z"
   },
   {
    "duration": 8,
    "start_time": "2022-12-16T18:31:08.663Z"
   },
   {
    "duration": 8,
    "start_time": "2022-12-16T18:31:08.927Z"
   },
   {
    "duration": 7,
    "start_time": "2022-12-16T18:31:09.099Z"
   },
   {
    "duration": 7,
    "start_time": "2022-12-16T18:31:09.255Z"
   },
   {
    "duration": 7,
    "start_time": "2022-12-16T18:31:09.400Z"
   },
   {
    "duration": 7,
    "start_time": "2022-12-16T18:31:09.548Z"
   },
   {
    "duration": 8,
    "start_time": "2022-12-16T18:31:09.695Z"
   },
   {
    "duration": 8,
    "start_time": "2022-12-16T18:31:09.841Z"
   },
   {
    "duration": 7,
    "start_time": "2022-12-16T18:31:09.962Z"
   },
   {
    "duration": 7,
    "start_time": "2022-12-16T18:31:10.107Z"
   },
   {
    "duration": 8,
    "start_time": "2022-12-16T18:31:10.246Z"
   },
   {
    "duration": 1041,
    "start_time": "2022-12-16T18:32:02.336Z"
   },
   {
    "duration": 2,
    "start_time": "2022-12-16T18:32:03.380Z"
   },
   {
    "duration": 54,
    "start_time": "2022-12-16T18:32:03.383Z"
   },
   {
    "duration": 17,
    "start_time": "2022-12-16T18:32:03.439Z"
   },
   {
    "duration": 20,
    "start_time": "2022-12-16T18:32:03.458Z"
   },
   {
    "duration": 5,
    "start_time": "2022-12-16T18:32:03.479Z"
   },
   {
    "duration": 30,
    "start_time": "2022-12-16T18:32:03.486Z"
   },
   {
    "duration": 10,
    "start_time": "2022-12-16T18:32:03.518Z"
   },
   {
    "duration": 6,
    "start_time": "2022-12-16T18:32:03.529Z"
   },
   {
    "duration": 12,
    "start_time": "2022-12-16T18:32:03.537Z"
   },
   {
    "duration": 4,
    "start_time": "2022-12-16T18:32:03.551Z"
   },
   {
    "duration": 832,
    "start_time": "2022-12-16T18:32:03.556Z"
   },
   {
    "duration": 632,
    "start_time": "2022-12-16T18:32:04.389Z"
   },
   {
    "duration": 41,
    "start_time": "2022-12-16T18:32:05.115Z"
   },
   {
    "duration": 2,
    "start_time": "2022-12-16T18:32:05.158Z"
   },
   {
    "duration": 820,
    "start_time": "2022-12-16T18:32:05.161Z"
   },
   {
    "duration": 639,
    "start_time": "2022-12-16T18:32:05.982Z"
   },
   {
    "duration": 204,
    "start_time": "2022-12-16T18:32:06.623Z"
   },
   {
    "duration": 3,
    "start_time": "2022-12-16T18:32:06.829Z"
   },
   {
    "duration": 9,
    "start_time": "2022-12-16T18:32:06.833Z"
   },
   {
    "duration": 13,
    "start_time": "2022-12-16T18:32:06.843Z"
   },
   {
    "duration": 1148,
    "start_time": "2022-12-16T18:32:06.857Z"
   },
   {
    "duration": 1410,
    "start_time": "2022-12-16T18:32:08.006Z"
   },
   {
    "duration": 139,
    "start_time": "2022-12-16T18:32:09.419Z"
   },
   {
    "duration": 9,
    "start_time": "2022-12-16T18:32:09.559Z"
   },
   {
    "duration": 428,
    "start_time": "2022-12-16T18:32:09.570Z"
   },
   {
    "duration": 725,
    "start_time": "2022-12-16T18:32:10.000Z"
   },
   {
    "duration": 110,
    "start_time": "2022-12-16T18:32:10.816Z"
   },
   {
    "duration": 417,
    "start_time": "2022-12-16T18:32:10.927Z"
   },
   {
    "duration": 8,
    "start_time": "2022-12-16T18:32:11.346Z"
   },
   {
    "duration": 3,
    "start_time": "2022-12-16T18:33:25.446Z"
   },
   {
    "duration": 102,
    "start_time": "2022-12-16T18:35:12.132Z"
   },
   {
    "duration": 54,
    "start_time": "2022-12-16T18:35:29.752Z"
   },
   {
    "duration": 18,
    "start_time": "2022-12-16T18:36:11.151Z"
   },
   {
    "duration": 57,
    "start_time": "2022-12-16T18:38:37.683Z"
   },
   {
    "duration": 13,
    "start_time": "2022-12-16T18:38:38.183Z"
   },
   {
    "duration": 63,
    "start_time": "2022-12-16T18:38:53.951Z"
   },
   {
    "duration": 3,
    "start_time": "2022-12-16T18:38:55.022Z"
   },
   {
    "duration": 558,
    "start_time": "2022-12-16T18:39:12.023Z"
   },
   {
    "duration": 23,
    "start_time": "2022-12-16T18:39:27.835Z"
   },
   {
    "duration": 3,
    "start_time": "2022-12-16T18:41:33.134Z"
   },
   {
    "duration": 136,
    "start_time": "2022-12-16T18:41:40.295Z"
   },
   {
    "duration": 10,
    "start_time": "2022-12-16T18:42:59.348Z"
   },
   {
    "duration": 6,
    "start_time": "2022-12-16T18:43:09.834Z"
   },
   {
    "duration": 862,
    "start_time": "2022-12-16T18:45:18.793Z"
   },
   {
    "duration": 69,
    "start_time": "2022-12-16T18:45:19.657Z"
   },
   {
    "duration": 113,
    "start_time": "2022-12-16T18:45:21.103Z"
   },
   {
    "duration": 7,
    "start_time": "2022-12-16T18:45:54.263Z"
   },
   {
    "duration": 3,
    "start_time": "2022-12-16T18:47:29.263Z"
   },
   {
    "duration": 3,
    "start_time": "2022-12-16T18:52:28.024Z"
   },
   {
    "duration": 5,
    "start_time": "2022-12-16T18:52:28.445Z"
   },
   {
    "duration": 3,
    "start_time": "2022-12-16T18:52:28.927Z"
   },
   {
    "duration": 174,
    "start_time": "2022-12-16T18:52:51.789Z"
   },
   {
    "duration": 443,
    "start_time": "2022-12-16T18:53:17.937Z"
   },
   {
    "duration": 849,
    "start_time": "2022-12-16T18:53:31.151Z"
   },
   {
    "duration": 3,
    "start_time": "2022-12-16T18:53:33.033Z"
   },
   {
    "duration": 13,
    "start_time": "2022-12-16T18:53:33.038Z"
   },
   {
    "duration": 3,
    "start_time": "2022-12-16T18:53:33.841Z"
   },
   {
    "duration": 169,
    "start_time": "2022-12-16T18:53:34.967Z"
   },
   {
    "duration": 463,
    "start_time": "2022-12-16T18:53:39.466Z"
   },
   {
    "duration": 297,
    "start_time": "2022-12-16T18:53:45.402Z"
   },
   {
    "duration": 45,
    "start_time": "2022-12-16T18:54:16.243Z"
   },
   {
    "duration": 144,
    "start_time": "2022-12-16T18:54:17.531Z"
   },
   {
    "duration": 1348,
    "start_time": "2022-12-16T18:55:36.902Z"
   },
   {
    "duration": 3,
    "start_time": "2022-12-16T18:55:38.252Z"
   },
   {
    "duration": 53,
    "start_time": "2022-12-16T18:55:38.256Z"
   },
   {
    "duration": 15,
    "start_time": "2022-12-16T18:55:38.310Z"
   },
   {
    "duration": 20,
    "start_time": "2022-12-16T18:55:38.328Z"
   },
   {
    "duration": 5,
    "start_time": "2022-12-16T18:55:38.350Z"
   },
   {
    "duration": 16,
    "start_time": "2022-12-16T18:55:38.357Z"
   },
   {
    "duration": 42,
    "start_time": "2022-12-16T18:55:38.375Z"
   },
   {
    "duration": 4,
    "start_time": "2022-12-16T18:55:38.419Z"
   },
   {
    "duration": 12,
    "start_time": "2022-12-16T18:55:38.424Z"
   },
   {
    "duration": 4,
    "start_time": "2022-12-16T18:55:38.438Z"
   },
   {
    "duration": 4,
    "start_time": "2022-12-16T18:55:38.444Z"
   },
   {
    "duration": 6,
    "start_time": "2022-12-16T18:55:38.450Z"
   },
   {
    "duration": 6,
    "start_time": "2022-12-16T18:55:38.459Z"
   },
   {
    "duration": 873,
    "start_time": "2022-12-16T18:55:38.466Z"
   },
   {
    "duration": 180,
    "start_time": "2022-12-16T18:55:39.340Z"
   },
   {
    "duration": 0,
    "start_time": "2022-12-16T18:55:39.522Z"
   },
   {
    "duration": 0,
    "start_time": "2022-12-16T18:55:39.523Z"
   },
   {
    "duration": 0,
    "start_time": "2022-12-16T18:55:39.524Z"
   },
   {
    "duration": 0,
    "start_time": "2022-12-16T18:55:39.525Z"
   },
   {
    "duration": 0,
    "start_time": "2022-12-16T18:55:39.526Z"
   },
   {
    "duration": 0,
    "start_time": "2022-12-16T18:55:39.526Z"
   },
   {
    "duration": 0,
    "start_time": "2022-12-16T18:55:39.527Z"
   },
   {
    "duration": 0,
    "start_time": "2022-12-16T18:55:39.528Z"
   },
   {
    "duration": 0,
    "start_time": "2022-12-16T18:55:39.529Z"
   },
   {
    "duration": 0,
    "start_time": "2022-12-16T18:55:39.531Z"
   },
   {
    "duration": 0,
    "start_time": "2022-12-16T18:55:39.532Z"
   },
   {
    "duration": 0,
    "start_time": "2022-12-16T18:55:39.533Z"
   },
   {
    "duration": 0,
    "start_time": "2022-12-16T18:55:39.533Z"
   },
   {
    "duration": 0,
    "start_time": "2022-12-16T18:55:39.534Z"
   },
   {
    "duration": 0,
    "start_time": "2022-12-16T18:55:39.536Z"
   },
   {
    "duration": 0,
    "start_time": "2022-12-16T18:55:39.537Z"
   },
   {
    "duration": 0,
    "start_time": "2022-12-16T18:55:39.538Z"
   },
   {
    "duration": 0,
    "start_time": "2022-12-16T18:55:39.539Z"
   },
   {
    "duration": 0,
    "start_time": "2022-12-16T18:55:39.540Z"
   },
   {
    "duration": 0,
    "start_time": "2022-12-16T18:55:39.541Z"
   },
   {
    "duration": 0,
    "start_time": "2022-12-16T18:55:39.542Z"
   },
   {
    "duration": 0,
    "start_time": "2022-12-16T18:55:39.543Z"
   },
   {
    "duration": 0,
    "start_time": "2022-12-16T18:55:39.544Z"
   },
   {
    "duration": 0,
    "start_time": "2022-12-16T18:55:39.544Z"
   },
   {
    "duration": 2,
    "start_time": "2022-12-16T18:56:00.517Z"
   },
   {
    "duration": 5,
    "start_time": "2022-12-16T18:56:02.068Z"
   },
   {
    "duration": 3,
    "start_time": "2022-12-16T18:56:03.873Z"
   },
   {
    "duration": 811,
    "start_time": "2022-12-16T18:56:04.487Z"
   },
   {
    "duration": 193,
    "start_time": "2022-12-16T18:56:12.739Z"
   },
   {
    "duration": 597,
    "start_time": "2022-12-16T18:56:16.020Z"
   },
   {
    "duration": 302,
    "start_time": "2022-12-16T18:56:16.715Z"
   },
   {
    "duration": 44,
    "start_time": "2022-12-16T18:56:21.199Z"
   },
   {
    "duration": 121,
    "start_time": "2022-12-16T18:56:22.497Z"
   },
   {
    "duration": 1292,
    "start_time": "2022-12-16T18:57:51.460Z"
   },
   {
    "duration": 3,
    "start_time": "2022-12-16T18:57:52.754Z"
   },
   {
    "duration": 57,
    "start_time": "2022-12-16T18:57:52.758Z"
   },
   {
    "duration": 16,
    "start_time": "2022-12-16T18:57:52.817Z"
   },
   {
    "duration": 21,
    "start_time": "2022-12-16T18:57:52.835Z"
   },
   {
    "duration": 7,
    "start_time": "2022-12-16T18:57:52.858Z"
   },
   {
    "duration": 18,
    "start_time": "2022-12-16T18:57:52.868Z"
   },
   {
    "duration": 35,
    "start_time": "2022-12-16T18:57:52.888Z"
   },
   {
    "duration": 4,
    "start_time": "2022-12-16T18:57:52.925Z"
   },
   {
    "duration": 12,
    "start_time": "2022-12-16T18:57:52.932Z"
   },
   {
    "duration": 5,
    "start_time": "2022-12-16T18:57:52.946Z"
   },
   {
    "duration": 8,
    "start_time": "2022-12-16T18:57:52.953Z"
   },
   {
    "duration": 5,
    "start_time": "2022-12-16T18:57:52.962Z"
   },
   {
    "duration": 6,
    "start_time": "2022-12-16T18:57:52.969Z"
   },
   {
    "duration": 831,
    "start_time": "2022-12-16T18:57:52.976Z"
   },
   {
    "duration": 189,
    "start_time": "2022-12-16T18:57:53.809Z"
   },
   {
    "duration": 622,
    "start_time": "2022-12-16T18:57:53.999Z"
   },
   {
    "duration": 402,
    "start_time": "2022-12-16T18:57:54.623Z"
   },
   {
    "duration": 43,
    "start_time": "2022-12-16T18:57:55.027Z"
   },
   {
    "duration": 128,
    "start_time": "2022-12-16T18:57:55.072Z"
   },
   {
    "duration": 3,
    "start_time": "2022-12-16T18:57:55.201Z"
   },
   {
    "duration": 839,
    "start_time": "2022-12-16T18:57:55.205Z"
   },
   {
    "duration": 185,
    "start_time": "2022-12-16T18:57:56.047Z"
   },
   {
    "duration": 688,
    "start_time": "2022-12-16T18:57:56.233Z"
   },
   {
    "duration": 339,
    "start_time": "2022-12-16T18:57:56.923Z"
   },
   {
    "duration": 52,
    "start_time": "2022-12-16T18:57:57.264Z"
   },
   {
    "duration": 184,
    "start_time": "2022-12-16T18:57:57.317Z"
   },
   {
    "duration": 4,
    "start_time": "2022-12-16T18:57:57.504Z"
   },
   {
    "duration": 4,
    "start_time": "2022-12-16T18:57:57.516Z"
   },
   {
    "duration": 17,
    "start_time": "2022-12-16T18:57:57.521Z"
   },
   {
    "duration": 1205,
    "start_time": "2022-12-16T18:57:57.539Z"
   },
   {
    "duration": 184,
    "start_time": "2022-12-16T18:57:58.746Z"
   },
   {
    "duration": 791,
    "start_time": "2022-12-16T18:57:58.931Z"
   },
   {
    "duration": 395,
    "start_time": "2022-12-16T18:57:59.728Z"
   },
   {
    "duration": 52,
    "start_time": "2022-12-16T18:58:00.124Z"
   },
   {
    "duration": 124,
    "start_time": "2022-12-16T18:58:00.177Z"
   },
   {
    "duration": 19,
    "start_time": "2022-12-16T18:58:00.302Z"
   },
   {
    "duration": 423,
    "start_time": "2022-12-16T18:58:00.323Z"
   },
   {
    "duration": 182,
    "start_time": "2022-12-16T18:58:00.747Z"
   },
   {
    "duration": 496,
    "start_time": "2022-12-16T18:58:00.930Z"
   },
   {
    "duration": 305,
    "start_time": "2022-12-16T18:58:01.519Z"
   },
   {
    "duration": 22,
    "start_time": "2022-12-16T18:58:01.826Z"
   },
   {
    "duration": 130,
    "start_time": "2022-12-16T18:58:01.850Z"
   },
   {
    "duration": 452,
    "start_time": "2022-12-16T18:58:01.982Z"
   },
   {
    "duration": 8,
    "start_time": "2022-12-16T18:58:02.436Z"
   },
   {
    "duration": 76,
    "start_time": "2022-12-16T18:58:02.445Z"
   },
   {
    "duration": 4,
    "start_time": "2022-12-16T18:58:02.523Z"
   },
   {
    "duration": 127,
    "start_time": "2022-12-16T18:58:02.528Z"
   },
   {
    "duration": 6,
    "start_time": "2022-12-16T18:58:02.657Z"
   },
   {
    "duration": 1292,
    "start_time": "2022-12-16T18:59:00.333Z"
   },
   {
    "duration": 3,
    "start_time": "2022-12-16T18:59:01.627Z"
   },
   {
    "duration": 64,
    "start_time": "2022-12-16T18:59:01.632Z"
   },
   {
    "duration": 20,
    "start_time": "2022-12-16T18:59:01.698Z"
   },
   {
    "duration": 21,
    "start_time": "2022-12-16T18:59:01.721Z"
   },
   {
    "duration": 5,
    "start_time": "2022-12-16T18:59:01.744Z"
   },
   {
    "duration": 18,
    "start_time": "2022-12-16T18:59:01.751Z"
   },
   {
    "duration": 11,
    "start_time": "2022-12-16T18:59:01.770Z"
   },
   {
    "duration": 4,
    "start_time": "2022-12-16T18:59:01.783Z"
   },
   {
    "duration": 34,
    "start_time": "2022-12-16T18:59:01.789Z"
   },
   {
    "duration": 24,
    "start_time": "2022-12-16T18:59:01.825Z"
   },
   {
    "duration": 4,
    "start_time": "2022-12-16T18:59:01.850Z"
   },
   {
    "duration": 6,
    "start_time": "2022-12-16T18:59:01.856Z"
   },
   {
    "duration": 7,
    "start_time": "2022-12-16T18:59:01.864Z"
   },
   {
    "duration": 851,
    "start_time": "2022-12-16T18:59:01.872Z"
   },
   {
    "duration": 184,
    "start_time": "2022-12-16T18:59:02.725Z"
   },
   {
    "duration": 309,
    "start_time": "2022-12-16T18:59:02.911Z"
   },
   {
    "duration": 283,
    "start_time": "2022-12-16T18:59:03.222Z"
   },
   {
    "duration": 52,
    "start_time": "2022-12-16T18:59:03.506Z"
   },
   {
    "duration": 143,
    "start_time": "2022-12-16T18:59:03.559Z"
   },
   {
    "duration": 3,
    "start_time": "2022-12-16T18:59:03.703Z"
   },
   {
    "duration": 821,
    "start_time": "2022-12-16T18:59:03.716Z"
   },
   {
    "duration": 188,
    "start_time": "2022-12-16T18:59:04.538Z"
   },
   {
    "duration": 1600,
    "start_time": "2022-12-16T18:59:04.728Z"
   },
   {
    "duration": 402,
    "start_time": "2022-12-16T18:59:06.330Z"
   },
   {
    "duration": 43,
    "start_time": "2022-12-16T18:59:06.733Z"
   },
   {
    "duration": 192,
    "start_time": "2022-12-16T18:59:06.777Z"
   },
   {
    "duration": 4,
    "start_time": "2022-12-16T18:59:06.970Z"
   },
   {
    "duration": 6,
    "start_time": "2022-12-16T18:59:06.975Z"
   },
   {
    "duration": 16,
    "start_time": "2022-12-16T18:59:06.983Z"
   },
   {
    "duration": 1169,
    "start_time": "2022-12-16T18:59:07.001Z"
   },
   {
    "duration": 174,
    "start_time": "2022-12-16T18:59:08.175Z"
   },
   {
    "duration": 870,
    "start_time": "2022-12-16T18:59:08.351Z"
   },
   {
    "duration": 331,
    "start_time": "2022-12-16T18:59:09.223Z"
   },
   {
    "duration": 51,
    "start_time": "2022-12-16T18:59:09.555Z"
   },
   {
    "duration": 116,
    "start_time": "2022-12-16T18:59:09.616Z"
   },
   {
    "duration": 12,
    "start_time": "2022-12-16T18:59:09.733Z"
   },
   {
    "duration": 471,
    "start_time": "2022-12-16T18:59:09.747Z"
   },
   {
    "duration": 168,
    "start_time": "2022-12-16T18:59:10.220Z"
   },
   {
    "duration": 1132,
    "start_time": "2022-12-16T18:59:10.390Z"
   },
   {
    "duration": 289,
    "start_time": "2022-12-16T18:59:11.616Z"
   },
   {
    "duration": 26,
    "start_time": "2022-12-16T18:59:11.907Z"
   },
   {
    "duration": 125,
    "start_time": "2022-12-16T18:59:11.934Z"
   },
   {
    "duration": 437,
    "start_time": "2022-12-16T18:59:12.061Z"
   },
   {
    "duration": 8,
    "start_time": "2022-12-16T18:59:12.499Z"
   },
   {
    "duration": 1746,
    "start_time": "2022-12-24T16:57:32.534Z"
   },
   {
    "duration": 741,
    "start_time": "2022-12-24T16:57:53.401Z"
   },
   {
    "duration": 1579,
    "start_time": "2022-12-24T16:58:27.527Z"
   },
   {
    "duration": 31211,
    "start_time": "2022-12-24T16:58:39.775Z"
   },
   {
    "duration": 9865,
    "start_time": "2022-12-24T16:59:43.275Z"
   },
   {
    "duration": 1256,
    "start_time": "2022-12-24T16:59:56.489Z"
   },
   {
    "duration": 6,
    "start_time": "2022-12-24T16:59:59.502Z"
   },
   {
    "duration": 4,
    "start_time": "2022-12-24T16:59:59.836Z"
   },
   {
    "duration": 215,
    "start_time": "2022-12-24T17:00:01.026Z"
   },
   {
    "duration": 20,
    "start_time": "2022-12-24T17:00:03.891Z"
   },
   {
    "duration": 35,
    "start_time": "2022-12-24T17:00:05.249Z"
   },
   {
    "duration": 8,
    "start_time": "2022-12-24T17:00:08.872Z"
   },
   {
    "duration": 11,
    "start_time": "2022-12-24T17:00:10.435Z"
   },
   {
    "duration": 73,
    "start_time": "2022-12-24T17:20:08.735Z"
   },
   {
    "duration": 44,
    "start_time": "2022-12-24T17:20:09.405Z"
   },
   {
    "duration": 77,
    "start_time": "2022-12-24T17:20:10.099Z"
   },
   {
    "duration": 43,
    "start_time": "2022-12-24T17:20:10.687Z"
   },
   {
    "duration": 24,
    "start_time": "2022-12-24T17:20:11.150Z"
   },
   {
    "duration": 38,
    "start_time": "2022-12-24T17:20:12.167Z"
   },
   {
    "duration": 11,
    "start_time": "2022-12-24T17:20:12.657Z"
   },
   {
    "duration": 9,
    "start_time": "2022-12-24T17:20:13.740Z"
   },
   {
    "duration": 19,
    "start_time": "2022-12-24T17:20:17.369Z"
   },
   {
    "duration": 25,
    "start_time": "2022-12-24T17:20:22.149Z"
   },
   {
    "duration": 97,
    "start_time": "2022-12-24T17:24:27.672Z"
   },
   {
    "duration": 5,
    "start_time": "2022-12-24T17:25:03.538Z"
   },
   {
    "duration": 34,
    "start_time": "2022-12-24T17:25:10.690Z"
   },
   {
    "duration": 41,
    "start_time": "2022-12-24T17:25:21.626Z"
   },
   {
    "duration": 112,
    "start_time": "2022-12-24T17:25:49.912Z"
   },
   {
    "duration": 50,
    "start_time": "2022-12-24T17:25:58.888Z"
   },
   {
    "duration": 106,
    "start_time": "2022-12-24T17:31:02.621Z"
   },
   {
    "duration": 34,
    "start_time": "2022-12-24T17:31:21.112Z"
   },
   {
    "duration": 52,
    "start_time": "2022-12-24T17:31:29.798Z"
   },
   {
    "duration": 16,
    "start_time": "2022-12-24T17:31:42.975Z"
   },
   {
    "duration": 4,
    "start_time": "2022-12-24T17:31:50.196Z"
   },
   {
    "duration": 287405,
    "start_time": "2022-12-24T17:35:25.006Z"
   },
   {
    "duration": 116,
    "start_time": "2022-12-24T18:27:47.421Z"
   },
   {
    "duration": 46619,
    "start_time": "2022-12-24T18:27:59.401Z"
   },
   {
    "duration": 328264,
    "start_time": "2022-12-24T18:28:48.374Z"
   },
   {
    "duration": 112396,
    "start_time": "2022-12-24T18:39:17.478Z"
   },
   {
    "duration": 9,
    "start_time": "2022-12-24T18:46:58.229Z"
   },
   {
    "duration": 8,
    "start_time": "2022-12-24T18:47:09.828Z"
   },
   {
    "duration": 93,
    "start_time": "2022-12-24T18:48:17.733Z"
   },
   {
    "duration": 8,
    "start_time": "2022-12-24T18:50:10.428Z"
   },
   {
    "duration": 13,
    "start_time": "2022-12-24T18:50:38.068Z"
   },
   {
    "duration": 121,
    "start_time": "2022-12-24T18:57:19.489Z"
   },
   {
    "duration": 263520,
    "start_time": "2022-12-24T18:59:36.119Z"
   },
   {
    "duration": 343881,
    "start_time": "2022-12-24T19:03:59.642Z"
   },
   {
    "duration": 123974,
    "start_time": "2022-12-24T19:09:43.525Z"
   }
  ],
  "kernelspec": {
   "display_name": "Python 3 (ipykernel)",
   "language": "python",
   "name": "python3"
  },
  "language_info": {
   "codemirror_mode": {
    "name": "ipython",
    "version": 3
   },
   "file_extension": ".py",
   "mimetype": "text/x-python",
   "name": "python",
   "nbconvert_exporter": "python",
   "pygments_lexer": "ipython3",
   "version": "3.9.15"
  },
  "toc": {
   "base_numbering": 1,
   "nav_menu": {},
   "number_sections": true,
   "sideBar": true,
   "skip_h1_title": true,
   "title_cell": "Содержание",
   "title_sidebar": "Contents",
   "toc_cell": true,
   "toc_position": {},
   "toc_section_display": true,
   "toc_window_display": false
  }
 },
 "nbformat": 4,
 "nbformat_minor": 2
}
