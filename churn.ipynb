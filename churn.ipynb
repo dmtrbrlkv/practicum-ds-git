{
 "cells": [
  {
   "cell_type": "markdown",
   "metadata": {
    "toc": true
   },
   "source": [
    "<h1>Содержание<span class=\"tocSkip\"></span></h1>\n",
    "<div class=\"toc\"><ul class=\"toc-item\"><li><span><a href=\"#Подготовка-данных\" data-toc-modified-id=\"Подготовка-данных-1\"><span class=\"toc-item-num\">1&nbsp;&nbsp;</span>Подготовка данных</a></span><ul class=\"toc-item\"><li><span><a href=\"#Обзор-данных\" data-toc-modified-id=\"Обзор-данных-1.1\"><span class=\"toc-item-num\">1.1&nbsp;&nbsp;</span>Обзор данных</a></span></li><li><span><a href=\"#Устранение-пропусков\" data-toc-modified-id=\"Устранение-пропусков-1.2\"><span class=\"toc-item-num\">1.2&nbsp;&nbsp;</span>Устранение пропусков</a></span></li><li><span><a href=\"#Подготовка-обучающей-и-тестовой-выборок.\" data-toc-modified-id=\"Подготовка-обучающей-и-тестовой-выборок.-1.3\"><span class=\"toc-item-num\">1.3&nbsp;&nbsp;</span>Подготовка обучающей и тестовой выборок.</a></span></li><li><span><a href=\"#Преобразование-категориальных-признаков\" data-toc-modified-id=\"Преобразование-категориальных-признаков-1.4\"><span class=\"toc-item-num\">1.4&nbsp;&nbsp;</span>Преобразование категориальных признаков</a></span></li><li><span><a href=\"#Масштабирование-признаков\" data-toc-modified-id=\"Масштабирование-признаков-1.5\"><span class=\"toc-item-num\">1.5&nbsp;&nbsp;</span>Масштабирование признаков</a></span></li><li><span><a href=\"#Вывод\" data-toc-modified-id=\"Вывод-1.6\"><span class=\"toc-item-num\">1.6&nbsp;&nbsp;</span>Вывод</a></span></li></ul></li><li><span><a href=\"#Исследование-задачи\" data-toc-modified-id=\"Исследование-задачи-2\"><span class=\"toc-item-num\">2&nbsp;&nbsp;</span>Исследование задачи</a></span><ul class=\"toc-item\"><li><span><a href=\"#Баланс-классов\" data-toc-modified-id=\"Баланс-классов-2.1\"><span class=\"toc-item-num\">2.1&nbsp;&nbsp;</span>Баланс классов</a></span></li><li><span><a href=\"#Базовая-модель\" data-toc-modified-id=\"Базовая-модель-2.2\"><span class=\"toc-item-num\">2.2&nbsp;&nbsp;</span>Базовая модель</a></span></li><li><span><a href=\"#Обучение-моделей-без-учета-дисбаланса\" data-toc-modified-id=\"Обучение-моделей-без-учета-дисбаланса-2.3\"><span class=\"toc-item-num\">2.3&nbsp;&nbsp;</span>Обучение моделей без учета дисбаланса</a></span><ul class=\"toc-item\"><li><span><a href=\"#Дерево-решений\" data-toc-modified-id=\"Дерево-решений-2.3.1\"><span class=\"toc-item-num\">2.3.1&nbsp;&nbsp;</span>Дерево решений</a></span></li><li><span><a href=\"#Случайный-лес\" data-toc-modified-id=\"Случайный-лес-2.3.2\"><span class=\"toc-item-num\">2.3.2&nbsp;&nbsp;</span>Случайный лес</a></span></li><li><span><a href=\"#Логистическая-регрессия\" data-toc-modified-id=\"Логистическая-регрессия-2.3.3\"><span class=\"toc-item-num\">2.3.3&nbsp;&nbsp;</span>Логистическая регрессия</a></span></li></ul></li><li><span><a href=\"#Вывод\" data-toc-modified-id=\"Вывод-2.4\"><span class=\"toc-item-num\">2.4&nbsp;&nbsp;</span>Вывод</a></span></li></ul></li><li><span><a href=\"#Борьба-с-дисбалансом\" data-toc-modified-id=\"Борьба-с-дисбалансом-3\"><span class=\"toc-item-num\">3&nbsp;&nbsp;</span>Борьба с дисбалансом</a></span><ul class=\"toc-item\"><li><span><a href=\"#Взвешивание-классов\" data-toc-modified-id=\"Взвешивание-классов-3.1\"><span class=\"toc-item-num\">3.1&nbsp;&nbsp;</span>Взвешивание классов</a></span><ul class=\"toc-item\"><li><span><a href=\"#Дерево-решений\" data-toc-modified-id=\"Дерево-решений-3.1.1\"><span class=\"toc-item-num\">3.1.1&nbsp;&nbsp;</span>Дерево решений</a></span></li><li><span><a href=\"#Случайный-лес\" data-toc-modified-id=\"Случайный-лес-3.1.2\"><span class=\"toc-item-num\">3.1.2&nbsp;&nbsp;</span>Случайный лес</a></span></li><li><span><a href=\"#Логистическая-регрессия\" data-toc-modified-id=\"Логистическая-регрессия-3.1.3\"><span class=\"toc-item-num\">3.1.3&nbsp;&nbsp;</span>Логистическая регрессия</a></span></li><li><span><a href=\"#Вывод\" data-toc-modified-id=\"Вывод-3.1.4\"><span class=\"toc-item-num\">3.1.4&nbsp;&nbsp;</span>Вывод</a></span></li></ul></li><li><span><a href=\"#Увеличение-выборки\" data-toc-modified-id=\"Увеличение-выборки-3.2\"><span class=\"toc-item-num\">3.2&nbsp;&nbsp;</span>Увеличение выборки</a></span><ul class=\"toc-item\"><li><span><a href=\"#Дерево-решений\" data-toc-modified-id=\"Дерево-решений-3.2.1\"><span class=\"toc-item-num\">3.2.1&nbsp;&nbsp;</span>Дерево решений</a></span></li><li><span><a href=\"#Случайный-лес\" data-toc-modified-id=\"Случайный-лес-3.2.2\"><span class=\"toc-item-num\">3.2.2&nbsp;&nbsp;</span>Случайный лес</a></span></li><li><span><a href=\"#Логистическая-регрессия\" data-toc-modified-id=\"Логистическая-регрессия-3.2.3\"><span class=\"toc-item-num\">3.2.3&nbsp;&nbsp;</span>Логистическая регрессия</a></span></li><li><span><a href=\"#Вывод\" data-toc-modified-id=\"Вывод-3.2.4\"><span class=\"toc-item-num\">3.2.4&nbsp;&nbsp;</span>Вывод</a></span></li></ul></li><li><span><a href=\"#Продвинутое-увеличение-выборки\" data-toc-modified-id=\"Продвинутое-увеличение-выборки-3.3\"><span class=\"toc-item-num\">3.3&nbsp;&nbsp;</span>Продвинутое увеличение выборки</a></span><ul class=\"toc-item\"><li><span><a href=\"#Дерево-решений\" data-toc-modified-id=\"Дерево-решений-3.3.1\"><span class=\"toc-item-num\">3.3.1&nbsp;&nbsp;</span>Дерево решений</a></span></li><li><span><a href=\"#Случайный-лес\" data-toc-modified-id=\"Случайный-лес-3.3.2\"><span class=\"toc-item-num\">3.3.2&nbsp;&nbsp;</span>Случайный лес</a></span></li><li><span><a href=\"#Логистическая-регрессия\" data-toc-modified-id=\"Логистическая-регрессия-3.3.3\"><span class=\"toc-item-num\">3.3.3&nbsp;&nbsp;</span>Логистическая регрессия</a></span></li><li><span><a href=\"#Вывод\" data-toc-modified-id=\"Вывод-3.3.4\"><span class=\"toc-item-num\">3.3.4&nbsp;&nbsp;</span>Вывод</a></span></li></ul></li><li><span><a href=\"#Уменьшение-выборки\" data-toc-modified-id=\"Уменьшение-выборки-3.4\"><span class=\"toc-item-num\">3.4&nbsp;&nbsp;</span>Уменьшение выборки</a></span><ul class=\"toc-item\"><li><span><a href=\"#Дерево-решений\" data-toc-modified-id=\"Дерево-решений-3.4.1\"><span class=\"toc-item-num\">3.4.1&nbsp;&nbsp;</span>Дерево решений</a></span></li><li><span><a href=\"#Случайный-лес\" data-toc-modified-id=\"Случайный-лес-3.4.2\"><span class=\"toc-item-num\">3.4.2&nbsp;&nbsp;</span>Случайный лес</a></span></li><li><span><a href=\"#Логистическая-регрессия\" data-toc-modified-id=\"Логистическая-регрессия-3.4.3\"><span class=\"toc-item-num\">3.4.3&nbsp;&nbsp;</span>Логистическая регрессия</a></span></li><li><span><a href=\"#Вывод\" data-toc-modified-id=\"Вывод-3.4.4\"><span class=\"toc-item-num\">3.4.4&nbsp;&nbsp;</span>Вывод</a></span></li></ul></li><li><span><a href=\"#Увеличение-выборки-для-случайного-леса-без-кросс-валидации\" data-toc-modified-id=\"Увеличение-выборки-для-случайного-леса-без-кросс-валидации-3.5\"><span class=\"toc-item-num\">3.5&nbsp;&nbsp;</span>Увеличение выборки для случайного леса без кросс-валидации</a></span></li><li><span><a href=\"#Выводы-по-борьбе-с-дисбалансом\" data-toc-modified-id=\"Выводы-по-борьбе-с-дисбалансом-3.6\"><span class=\"toc-item-num\">3.6&nbsp;&nbsp;</span>Выводы по борьбе с дисбалансом</a></span></li></ul></li><li><span><a href=\"#Тестирование-модели\" data-toc-modified-id=\"Тестирование-модели-4\"><span class=\"toc-item-num\">4&nbsp;&nbsp;</span>Тестирование модели</a></span><ul class=\"toc-item\"><li><span><a href=\"#Дерево-решений\" data-toc-modified-id=\"Дерево-решений-4.1\"><span class=\"toc-item-num\">4.1&nbsp;&nbsp;</span>Дерево решений</a></span></li><li><span><a href=\"#Случайный-лес\" data-toc-modified-id=\"Случайный-лес-4.2\"><span class=\"toc-item-num\">4.2&nbsp;&nbsp;</span>Случайный лес</a></span></li><li><span><a href=\"#Логистическая-регрессия\" data-toc-modified-id=\"Логистическая-регрессия-4.3\"><span class=\"toc-item-num\">4.3&nbsp;&nbsp;</span>Логистическая регрессия</a></span></li><li><span><a href=\"#Вывод\" data-toc-modified-id=\"Вывод-4.4\"><span class=\"toc-item-num\">4.4&nbsp;&nbsp;</span>Вывод</a></span></li></ul></li><li><span><a href=\"#Выводы\" data-toc-modified-id=\"Выводы-5\"><span class=\"toc-item-num\">5&nbsp;&nbsp;</span>Выводы</a></span></li><li><span><a href=\"#Чек-лист-готовности-проекта\" data-toc-modified-id=\"Чек-лист-готовности-проекта-6\"><span class=\"toc-item-num\">6&nbsp;&nbsp;</span>Чек-лист готовности проекта</a></span></li></ul></div>"
   ]
  },
  {
   "cell_type": "markdown",
   "metadata": {},
   "source": [
    "# Отток клиентов"
   ]
  },
  {
   "cell_type": "markdown",
   "metadata": {},
   "source": [
    "Из «Бета-Банка» стали уходить клиенты. Каждый месяц. Немного, но заметно. Банковские маркетологи посчитали: сохранять текущих клиентов дешевле, чем привлекать новых.\n",
    "\n",
    "Нужно спрогнозировать, уйдёт клиент из банка в ближайшее время или нет. Вам предоставлены исторические данные о поведении клиентов и расторжении договоров с банком. \n",
    "\n",
    "Постройте модель с предельно большим значением *F1*-меры. Чтобы сдать проект успешно, нужно довести метрику до 0.59. Проверьте *F1*-меру на тестовой выборке самостоятельно.\n",
    "\n",
    "Дополнительно измеряйте *AUC-ROC*, сравнивайте её значение с *F1*-мерой.\n",
    "\n",
    "Источник данных: [https://www.kaggle.com/barelydedicated/bank-customer-churn-modeling](https://www.kaggle.com/barelydedicated/bank-customer-churn-modeling)"
   ]
  },
  {
   "cell_type": "markdown",
   "metadata": {},
   "source": [
    "## Подготовка данных"
   ]
  },
  {
   "cell_type": "code",
   "execution_count": 1,
   "metadata": {},
   "outputs": [
    {
     "name": "stdout",
     "output_type": "stream",
     "text": [
      "Requirement already satisfied: optuna==3.0.4 in /Users/doburla1/opt/anaconda3/envs/ds_practicum_env/lib/python3.9/site-packages (3.0.4)\r\n",
      "Requirement already satisfied: imbalanced-learn==0.10.0 in /Users/doburla1/opt/anaconda3/envs/ds_practicum_env/lib/python3.9/site-packages (0.10.0)\r\n",
      "Requirement already satisfied: scikit-learn==1.1.3 in /Users/doburla1/opt/anaconda3/envs/ds_practicum_env/lib/python3.9/site-packages (1.1.3)\r\n",
      "Requirement already satisfied: cmaes>=0.8.2 in /Users/doburla1/opt/anaconda3/envs/ds_practicum_env/lib/python3.9/site-packages (from optuna==3.0.4) (0.9.0)\r\n",
      "Requirement already satisfied: scipy<1.9.0,>=1.7.0 in /Users/doburla1/opt/anaconda3/envs/ds_practicum_env/lib/python3.9/site-packages (from optuna==3.0.4) (1.8.1)\r\n",
      "Requirement already satisfied: sqlalchemy>=1.3.0 in /Users/doburla1/opt/anaconda3/envs/ds_practicum_env/lib/python3.9/site-packages (from optuna==3.0.4) (1.4.44)\r\n",
      "Requirement already satisfied: colorlog in /Users/doburla1/opt/anaconda3/envs/ds_practicum_env/lib/python3.9/site-packages (from optuna==3.0.4) (6.7.0)\r\n",
      "Requirement already satisfied: PyYAML in /Users/doburla1/opt/anaconda3/envs/ds_practicum_env/lib/python3.9/site-packages (from optuna==3.0.4) (6.0)\r\n",
      "Requirement already satisfied: numpy in /Users/doburla1/opt/anaconda3/envs/ds_practicum_env/lib/python3.9/site-packages (from optuna==3.0.4) (1.23.5)\r\n",
      "Requirement already satisfied: tqdm in /Users/doburla1/opt/anaconda3/envs/ds_practicum_env/lib/python3.9/site-packages (from optuna==3.0.4) (4.64.1)\r\n",
      "Requirement already satisfied: alembic>=1.5.0 in /Users/doburla1/opt/anaconda3/envs/ds_practicum_env/lib/python3.9/site-packages (from optuna==3.0.4) (1.8.1)\r\n",
      "Requirement already satisfied: packaging>=20.0 in /Users/doburla1/opt/anaconda3/envs/ds_practicum_env/lib/python3.9/site-packages (from optuna==3.0.4) (21.3)\r\n",
      "Requirement already satisfied: cliff in /Users/doburla1/opt/anaconda3/envs/ds_practicum_env/lib/python3.9/site-packages (from optuna==3.0.4) (4.1.0)\r\n",
      "Requirement already satisfied: importlib-metadata<5.0.0 in /Users/doburla1/opt/anaconda3/envs/ds_practicum_env/lib/python3.9/site-packages (from optuna==3.0.4) (4.12.0)\r\n",
      "Requirement already satisfied: joblib>=1.1.1 in /Users/doburla1/opt/anaconda3/envs/ds_practicum_env/lib/python3.9/site-packages (from imbalanced-learn==0.10.0) (1.2.0)\r\n",
      "Requirement already satisfied: threadpoolctl>=2.0.0 in /Users/doburla1/opt/anaconda3/envs/ds_practicum_env/lib/python3.9/site-packages (from imbalanced-learn==0.10.0) (3.1.0)\r\n",
      "Requirement already satisfied: Mako in /Users/doburla1/opt/anaconda3/envs/ds_practicum_env/lib/python3.9/site-packages (from alembic>=1.5.0->optuna==3.0.4) (1.2.4)\r\n",
      "Requirement already satisfied: zipp>=0.5 in /Users/doburla1/opt/anaconda3/envs/ds_practicum_env/lib/python3.9/site-packages (from importlib-metadata<5.0.0->optuna==3.0.4) (3.10.0)\r\n",
      "Requirement already satisfied: pyparsing!=3.0.5,>=2.0.2 in /Users/doburla1/opt/anaconda3/envs/ds_practicum_env/lib/python3.9/site-packages (from packaging>=20.0->optuna==3.0.4) (3.0.9)\r\n",
      "Requirement already satisfied: greenlet!=0.4.17 in /Users/doburla1/opt/anaconda3/envs/ds_practicum_env/lib/python3.9/site-packages (from sqlalchemy>=1.3.0->optuna==3.0.4) (2.0.1)\r\n",
      "Requirement already satisfied: cmd2>=1.0.0 in /Users/doburla1/opt/anaconda3/envs/ds_practicum_env/lib/python3.9/site-packages (from cliff->optuna==3.0.4) (2.4.2)\r\n",
      "Requirement already satisfied: autopage>=0.4.0 in /Users/doburla1/opt/anaconda3/envs/ds_practicum_env/lib/python3.9/site-packages (from cliff->optuna==3.0.4) (0.5.1)\r\n",
      "Requirement already satisfied: PrettyTable>=0.7.2 in /Users/doburla1/opt/anaconda3/envs/ds_practicum_env/lib/python3.9/site-packages (from cliff->optuna==3.0.4) (3.4.1)\r\n",
      "Requirement already satisfied: stevedore>=2.0.1 in /Users/doburla1/opt/anaconda3/envs/ds_practicum_env/lib/python3.9/site-packages (from cliff->optuna==3.0.4) (4.1.1)\r\n",
      "Requirement already satisfied: wcwidth>=0.1.7 in /Users/doburla1/opt/anaconda3/envs/ds_practicum_env/lib/python3.9/site-packages (from cmd2>=1.0.0->cliff->optuna==3.0.4) (0.2.5)\r\n",
      "Requirement already satisfied: attrs>=16.3.0 in /Users/doburla1/opt/anaconda3/envs/ds_practicum_env/lib/python3.9/site-packages (from cmd2>=1.0.0->cliff->optuna==3.0.4) (22.1.0)\r\n",
      "Requirement already satisfied: pyperclip>=1.6 in /Users/doburla1/opt/anaconda3/envs/ds_practicum_env/lib/python3.9/site-packages (from cmd2>=1.0.0->cliff->optuna==3.0.4) (1.8.2)\r\n",
      "Requirement already satisfied: pbr!=2.1.0,>=2.0.0 in /Users/doburla1/opt/anaconda3/envs/ds_practicum_env/lib/python3.9/site-packages (from stevedore>=2.0.1->cliff->optuna==3.0.4) (5.11.0)\r\n",
      "Requirement already satisfied: MarkupSafe>=0.9.2 in /Users/doburla1/opt/anaconda3/envs/ds_practicum_env/lib/python3.9/site-packages (from Mako->alembic>=1.5.0->optuna==3.0.4) (2.1.1)\r\n"
     ]
    }
   ],
   "source": [
    "\n",
    "!pip install optuna==3.0.4 imbalanced-learn==0.10.0 scikit-learn==1.1.3"
   ]
  },
  {
   "cell_type": "code",
   "execution_count": 2,
   "metadata": {},
   "outputs": [],
   "source": [
    "import matplotlib.pyplot as plt\n",
    "import optuna as optuna\n",
    "import pandas as pd\n",
    "from imblearn.over_sampling import SMOTE\n",
    "from imblearn.pipeline import make_pipeline\n",
    "from sklearn.dummy import DummyClassifier\n",
    "from sklearn.ensemble import RandomForestClassifier\n",
    "from sklearn.linear_model import LogisticRegression\n",
    "from sklearn.metrics import f1_score\n",
    "from sklearn.metrics import roc_auc_score\n",
    "from sklearn.metrics import roc_curve\n",
    "from sklearn.metrics import recall_score\n",
    "from sklearn.model_selection import train_test_split, GridSearchCV\n",
    "from sklearn.preprocessing import OneHotEncoder, StandardScaler\n",
    "from sklearn.tree import DecisionTreeClassifier\n",
    "from sklearn.utils import shuffle"
   ]
  },
  {
   "cell_type": "code",
   "execution_count": 3,
   "metadata": {},
   "outputs": [],
   "source": [
    "RANDOM_STATE = 12345"
   ]
  },
  {
   "cell_type": "markdown",
   "metadata": {},
   "source": [
    "### Обзор данных\n",
    "Произведем первичный обзор данных."
   ]
  },
  {
   "cell_type": "code",
   "execution_count": 4,
   "metadata": {},
   "outputs": [
    {
     "name": "stdout",
     "output_type": "stream",
     "text": [
      "<class 'pandas.core.frame.DataFrame'>\n",
      "RangeIndex: 10000 entries, 0 to 9999\n",
      "Data columns (total 14 columns):\n",
      " #   Column           Non-Null Count  Dtype  \n",
      "---  ------           --------------  -----  \n",
      " 0   RowNumber        10000 non-null  int64  \n",
      " 1   CustomerId       10000 non-null  int64  \n",
      " 2   Surname          10000 non-null  object \n",
      " 3   CreditScore      10000 non-null  int64  \n",
      " 4   Geography        10000 non-null  object \n",
      " 5   Gender           10000 non-null  object \n",
      " 6   Age              10000 non-null  int64  \n",
      " 7   Tenure           9091 non-null   float64\n",
      " 8   Balance          10000 non-null  float64\n",
      " 9   NumOfProducts    10000 non-null  int64  \n",
      " 10  HasCrCard        10000 non-null  int64  \n",
      " 11  IsActiveMember   10000 non-null  int64  \n",
      " 12  EstimatedSalary  10000 non-null  float64\n",
      " 13  Exited           10000 non-null  int64  \n",
      "dtypes: float64(3), int64(8), object(3)\n",
      "memory usage: 1.1+ MB\n"
     ]
    }
   ],
   "source": [
    "try:\n",
    "    data = pd.read_csv('/datasets/Churn.csv')\n",
    "except:\n",
    "    data = pd.read_csv('https://code.s3.yandex.net/datasets/Churn.csv')\n",
    "data.info()"
   ]
  },
  {
   "cell_type": "code",
   "execution_count": 5,
   "metadata": {},
   "outputs": [
    {
     "data": {
      "text/plain": "   RowNumber  CustomerId   Surname  CreditScore Geography  Gender  Age  \\\n0          1    15634602  Hargrave          619    France  Female   42   \n1          2    15647311      Hill          608     Spain  Female   41   \n2          3    15619304      Onio          502    France  Female   42   \n3          4    15701354      Boni          699    France  Female   39   \n4          5    15737888  Mitchell          850     Spain  Female   43   \n\n   Tenure    Balance  NumOfProducts  HasCrCard  IsActiveMember  \\\n0     2.0       0.00              1          1               1   \n1     1.0   83807.86              1          0               1   \n2     8.0  159660.80              3          1               0   \n3     1.0       0.00              2          0               0   \n4     2.0  125510.82              1          1               1   \n\n   EstimatedSalary  Exited  \n0        101348.88       1  \n1        112542.58       0  \n2        113931.57       1  \n3         93826.63       0  \n4         79084.10       0  ",
      "text/html": "<div>\n<style scoped>\n    .dataframe tbody tr th:only-of-type {\n        vertical-align: middle;\n    }\n\n    .dataframe tbody tr th {\n        vertical-align: top;\n    }\n\n    .dataframe thead th {\n        text-align: right;\n    }\n</style>\n<table border=\"1\" class=\"dataframe\">\n  <thead>\n    <tr style=\"text-align: right;\">\n      <th></th>\n      <th>RowNumber</th>\n      <th>CustomerId</th>\n      <th>Surname</th>\n      <th>CreditScore</th>\n      <th>Geography</th>\n      <th>Gender</th>\n      <th>Age</th>\n      <th>Tenure</th>\n      <th>Balance</th>\n      <th>NumOfProducts</th>\n      <th>HasCrCard</th>\n      <th>IsActiveMember</th>\n      <th>EstimatedSalary</th>\n      <th>Exited</th>\n    </tr>\n  </thead>\n  <tbody>\n    <tr>\n      <th>0</th>\n      <td>1</td>\n      <td>15634602</td>\n      <td>Hargrave</td>\n      <td>619</td>\n      <td>France</td>\n      <td>Female</td>\n      <td>42</td>\n      <td>2.0</td>\n      <td>0.00</td>\n      <td>1</td>\n      <td>1</td>\n      <td>1</td>\n      <td>101348.88</td>\n      <td>1</td>\n    </tr>\n    <tr>\n      <th>1</th>\n      <td>2</td>\n      <td>15647311</td>\n      <td>Hill</td>\n      <td>608</td>\n      <td>Spain</td>\n      <td>Female</td>\n      <td>41</td>\n      <td>1.0</td>\n      <td>83807.86</td>\n      <td>1</td>\n      <td>0</td>\n      <td>1</td>\n      <td>112542.58</td>\n      <td>0</td>\n    </tr>\n    <tr>\n      <th>2</th>\n      <td>3</td>\n      <td>15619304</td>\n      <td>Onio</td>\n      <td>502</td>\n      <td>France</td>\n      <td>Female</td>\n      <td>42</td>\n      <td>8.0</td>\n      <td>159660.80</td>\n      <td>3</td>\n      <td>1</td>\n      <td>0</td>\n      <td>113931.57</td>\n      <td>1</td>\n    </tr>\n    <tr>\n      <th>3</th>\n      <td>4</td>\n      <td>15701354</td>\n      <td>Boni</td>\n      <td>699</td>\n      <td>France</td>\n      <td>Female</td>\n      <td>39</td>\n      <td>1.0</td>\n      <td>0.00</td>\n      <td>2</td>\n      <td>0</td>\n      <td>0</td>\n      <td>93826.63</td>\n      <td>0</td>\n    </tr>\n    <tr>\n      <th>4</th>\n      <td>5</td>\n      <td>15737888</td>\n      <td>Mitchell</td>\n      <td>850</td>\n      <td>Spain</td>\n      <td>Female</td>\n      <td>43</td>\n      <td>2.0</td>\n      <td>125510.82</td>\n      <td>1</td>\n      <td>1</td>\n      <td>1</td>\n      <td>79084.10</td>\n      <td>0</td>\n    </tr>\n  </tbody>\n</table>\n</div>"
     },
     "execution_count": 5,
     "metadata": {},
     "output_type": "execute_result"
    }
   ],
   "source": [
    "data.head()"
   ]
  },
  {
   "cell_type": "markdown",
   "metadata": {},
   "source": [
    "### Устранение пропусков\n",
    "В столбце Tenure есть пропуски, посмотрим отдельно на объекты с пропусками."
   ]
  },
  {
   "cell_type": "code",
   "execution_count": 6,
   "metadata": {},
   "outputs": [
    {
     "data": {
      "text/plain": "      RowNumber  CustomerId    Surname  CreditScore Geography  Gender  Age  \\\n30           31    15589475    Azikiwe          591     Spain  Female   39   \n48           49    15766205        Yin          550   Germany    Male   38   \n51           52    15768193  Trevisani          585   Germany    Male   36   \n53           54    15702298   Parkhill          655   Germany    Male   41   \n60           61    15651280     Hunter          742   Germany    Male   35   \n...         ...         ...        ...          ...       ...     ...  ...   \n9944       9945    15703923    Cameron          744   Germany    Male   41   \n9956       9957    15707861      Nucci          520    France  Female   46   \n9964       9965    15642785    Douglas          479    France    Male   34   \n9985       9986    15586914     Nepean          659    France    Male   36   \n9999      10000    15628319     Walker          792    France  Female   28   \n\n      Tenure    Balance  NumOfProducts  HasCrCard  IsActiveMember  \\\n30       NaN       0.00              3          1               0   \n48       NaN  103391.38              1          0               1   \n51       NaN  146050.97              2          0               0   \n53       NaN  125561.97              1          0               0   \n60       NaN  136857.00              1          0               0   \n...      ...        ...            ...        ...             ...   \n9944     NaN  190409.34              2          1               1   \n9956     NaN   85216.61              1          1               0   \n9964     NaN  117593.48              2          0               0   \n9985     NaN  123841.49              2          1               0   \n9999     NaN  130142.79              1          1               0   \n\n      EstimatedSalary  Exited  \n30          140469.38       1  \n48           90878.13       0  \n51           86424.57       0  \n53          164040.94       1  \n60           84509.57       0  \n...               ...     ...  \n9944        138361.48       0  \n9956        117369.52       1  \n9964        113308.29       0  \n9985         96833.00       0  \n9999         38190.78       0  \n\n[909 rows x 14 columns]",
      "text/html": "<div>\n<style scoped>\n    .dataframe tbody tr th:only-of-type {\n        vertical-align: middle;\n    }\n\n    .dataframe tbody tr th {\n        vertical-align: top;\n    }\n\n    .dataframe thead th {\n        text-align: right;\n    }\n</style>\n<table border=\"1\" class=\"dataframe\">\n  <thead>\n    <tr style=\"text-align: right;\">\n      <th></th>\n      <th>RowNumber</th>\n      <th>CustomerId</th>\n      <th>Surname</th>\n      <th>CreditScore</th>\n      <th>Geography</th>\n      <th>Gender</th>\n      <th>Age</th>\n      <th>Tenure</th>\n      <th>Balance</th>\n      <th>NumOfProducts</th>\n      <th>HasCrCard</th>\n      <th>IsActiveMember</th>\n      <th>EstimatedSalary</th>\n      <th>Exited</th>\n    </tr>\n  </thead>\n  <tbody>\n    <tr>\n      <th>30</th>\n      <td>31</td>\n      <td>15589475</td>\n      <td>Azikiwe</td>\n      <td>591</td>\n      <td>Spain</td>\n      <td>Female</td>\n      <td>39</td>\n      <td>NaN</td>\n      <td>0.00</td>\n      <td>3</td>\n      <td>1</td>\n      <td>0</td>\n      <td>140469.38</td>\n      <td>1</td>\n    </tr>\n    <tr>\n      <th>48</th>\n      <td>49</td>\n      <td>15766205</td>\n      <td>Yin</td>\n      <td>550</td>\n      <td>Germany</td>\n      <td>Male</td>\n      <td>38</td>\n      <td>NaN</td>\n      <td>103391.38</td>\n      <td>1</td>\n      <td>0</td>\n      <td>1</td>\n      <td>90878.13</td>\n      <td>0</td>\n    </tr>\n    <tr>\n      <th>51</th>\n      <td>52</td>\n      <td>15768193</td>\n      <td>Trevisani</td>\n      <td>585</td>\n      <td>Germany</td>\n      <td>Male</td>\n      <td>36</td>\n      <td>NaN</td>\n      <td>146050.97</td>\n      <td>2</td>\n      <td>0</td>\n      <td>0</td>\n      <td>86424.57</td>\n      <td>0</td>\n    </tr>\n    <tr>\n      <th>53</th>\n      <td>54</td>\n      <td>15702298</td>\n      <td>Parkhill</td>\n      <td>655</td>\n      <td>Germany</td>\n      <td>Male</td>\n      <td>41</td>\n      <td>NaN</td>\n      <td>125561.97</td>\n      <td>1</td>\n      <td>0</td>\n      <td>0</td>\n      <td>164040.94</td>\n      <td>1</td>\n    </tr>\n    <tr>\n      <th>60</th>\n      <td>61</td>\n      <td>15651280</td>\n      <td>Hunter</td>\n      <td>742</td>\n      <td>Germany</td>\n      <td>Male</td>\n      <td>35</td>\n      <td>NaN</td>\n      <td>136857.00</td>\n      <td>1</td>\n      <td>0</td>\n      <td>0</td>\n      <td>84509.57</td>\n      <td>0</td>\n    </tr>\n    <tr>\n      <th>...</th>\n      <td>...</td>\n      <td>...</td>\n      <td>...</td>\n      <td>...</td>\n      <td>...</td>\n      <td>...</td>\n      <td>...</td>\n      <td>...</td>\n      <td>...</td>\n      <td>...</td>\n      <td>...</td>\n      <td>...</td>\n      <td>...</td>\n      <td>...</td>\n    </tr>\n    <tr>\n      <th>9944</th>\n      <td>9945</td>\n      <td>15703923</td>\n      <td>Cameron</td>\n      <td>744</td>\n      <td>Germany</td>\n      <td>Male</td>\n      <td>41</td>\n      <td>NaN</td>\n      <td>190409.34</td>\n      <td>2</td>\n      <td>1</td>\n      <td>1</td>\n      <td>138361.48</td>\n      <td>0</td>\n    </tr>\n    <tr>\n      <th>9956</th>\n      <td>9957</td>\n      <td>15707861</td>\n      <td>Nucci</td>\n      <td>520</td>\n      <td>France</td>\n      <td>Female</td>\n      <td>46</td>\n      <td>NaN</td>\n      <td>85216.61</td>\n      <td>1</td>\n      <td>1</td>\n      <td>0</td>\n      <td>117369.52</td>\n      <td>1</td>\n    </tr>\n    <tr>\n      <th>9964</th>\n      <td>9965</td>\n      <td>15642785</td>\n      <td>Douglas</td>\n      <td>479</td>\n      <td>France</td>\n      <td>Male</td>\n      <td>34</td>\n      <td>NaN</td>\n      <td>117593.48</td>\n      <td>2</td>\n      <td>0</td>\n      <td>0</td>\n      <td>113308.29</td>\n      <td>0</td>\n    </tr>\n    <tr>\n      <th>9985</th>\n      <td>9986</td>\n      <td>15586914</td>\n      <td>Nepean</td>\n      <td>659</td>\n      <td>France</td>\n      <td>Male</td>\n      <td>36</td>\n      <td>NaN</td>\n      <td>123841.49</td>\n      <td>2</td>\n      <td>1</td>\n      <td>0</td>\n      <td>96833.00</td>\n      <td>0</td>\n    </tr>\n    <tr>\n      <th>9999</th>\n      <td>10000</td>\n      <td>15628319</td>\n      <td>Walker</td>\n      <td>792</td>\n      <td>France</td>\n      <td>Female</td>\n      <td>28</td>\n      <td>NaN</td>\n      <td>130142.79</td>\n      <td>1</td>\n      <td>1</td>\n      <td>0</td>\n      <td>38190.78</td>\n      <td>0</td>\n    </tr>\n  </tbody>\n</table>\n<p>909 rows × 14 columns</p>\n</div>"
     },
     "execution_count": 6,
     "metadata": {},
     "output_type": "execute_result"
    }
   ],
   "source": [
    "data[data['Tenure'].isna()]"
   ]
  },
  {
   "cell_type": "code",
   "execution_count": 7,
   "metadata": {},
   "outputs": [
    {
     "data": {
      "text/plain": "1.0     952\n2.0     950\n8.0     933\n3.0     928\n5.0     927\n7.0     925\n4.0     885\n9.0     882\n6.0     881\n10.0    446\n0.0     382\nName: Tenure, dtype: int64"
     },
     "execution_count": 7,
     "metadata": {},
     "output_type": "execute_result"
    }
   ],
   "source": [
    "data['Tenure'].value_counts()"
   ]
  },
  {
   "cell_type": "markdown",
   "metadata": {},
   "source": [
    "Какой-то закономерности в пропусках заметить не удалось, заменим пропуски на медианное значение."
   ]
  },
  {
   "cell_type": "code",
   "execution_count": 8,
   "metadata": {},
   "outputs": [
    {
     "data": {
      "text/plain": "5.0     1836\n1.0      952\n2.0      950\n8.0      933\n3.0      928\n7.0      925\n4.0      885\n9.0      882\n6.0      881\n10.0     446\n0.0      382\nName: Tenure, dtype: int64"
     },
     "execution_count": 8,
     "metadata": {},
     "output_type": "execute_result"
    }
   ],
   "source": [
    "data['Tenure'] = data['Tenure'].fillna(data['Tenure'].median())\n",
    "data['Tenure'].value_counts()"
   ]
  },
  {
   "cell_type": "markdown",
   "metadata": {},
   "source": [
    "Пропуски устранены."
   ]
  },
  {
   "cell_type": "markdown",
   "metadata": {},
   "source": [
    "### Подготовка обучающей и тестовой выборок.\n",
    "В данных есть столбцы, которые никак не влияют на целевой признак, а являются техническими - это индекс строки и идентификатор клиента. Также сомнительно, что на факт ухода клиента влияет фамилия. Подготовим список столбцов, которые необходимо отбросить, чтобы получить столбцы со значащими признаками."
   ]
  },
  {
   "cell_type": "code",
   "execution_count": 9,
   "metadata": {},
   "outputs": [
    {
     "data": {
      "text/plain": "   CreditScore Geography  Gender  Age  Tenure    Balance  NumOfProducts  \\\n0          619    France  Female   42     2.0       0.00              1   \n1          608     Spain  Female   41     1.0   83807.86              1   \n2          502    France  Female   42     8.0  159660.80              3   \n3          699    France  Female   39     1.0       0.00              2   \n4          850     Spain  Female   43     2.0  125510.82              1   \n\n   HasCrCard  IsActiveMember  EstimatedSalary  Exited  \n0          1               1        101348.88       1  \n1          0               1        112542.58       0  \n2          1               0        113931.57       1  \n3          0               0         93826.63       0  \n4          1               1         79084.10       0  ",
      "text/html": "<div>\n<style scoped>\n    .dataframe tbody tr th:only-of-type {\n        vertical-align: middle;\n    }\n\n    .dataframe tbody tr th {\n        vertical-align: top;\n    }\n\n    .dataframe thead th {\n        text-align: right;\n    }\n</style>\n<table border=\"1\" class=\"dataframe\">\n  <thead>\n    <tr style=\"text-align: right;\">\n      <th></th>\n      <th>CreditScore</th>\n      <th>Geography</th>\n      <th>Gender</th>\n      <th>Age</th>\n      <th>Tenure</th>\n      <th>Balance</th>\n      <th>NumOfProducts</th>\n      <th>HasCrCard</th>\n      <th>IsActiveMember</th>\n      <th>EstimatedSalary</th>\n      <th>Exited</th>\n    </tr>\n  </thead>\n  <tbody>\n    <tr>\n      <th>0</th>\n      <td>619</td>\n      <td>France</td>\n      <td>Female</td>\n      <td>42</td>\n      <td>2.0</td>\n      <td>0.00</td>\n      <td>1</td>\n      <td>1</td>\n      <td>1</td>\n      <td>101348.88</td>\n      <td>1</td>\n    </tr>\n    <tr>\n      <th>1</th>\n      <td>608</td>\n      <td>Spain</td>\n      <td>Female</td>\n      <td>41</td>\n      <td>1.0</td>\n      <td>83807.86</td>\n      <td>1</td>\n      <td>0</td>\n      <td>1</td>\n      <td>112542.58</td>\n      <td>0</td>\n    </tr>\n    <tr>\n      <th>2</th>\n      <td>502</td>\n      <td>France</td>\n      <td>Female</td>\n      <td>42</td>\n      <td>8.0</td>\n      <td>159660.80</td>\n      <td>3</td>\n      <td>1</td>\n      <td>0</td>\n      <td>113931.57</td>\n      <td>1</td>\n    </tr>\n    <tr>\n      <th>3</th>\n      <td>699</td>\n      <td>France</td>\n      <td>Female</td>\n      <td>39</td>\n      <td>1.0</td>\n      <td>0.00</td>\n      <td>2</td>\n      <td>0</td>\n      <td>0</td>\n      <td>93826.63</td>\n      <td>0</td>\n    </tr>\n    <tr>\n      <th>4</th>\n      <td>850</td>\n      <td>Spain</td>\n      <td>Female</td>\n      <td>43</td>\n      <td>2.0</td>\n      <td>125510.82</td>\n      <td>1</td>\n      <td>1</td>\n      <td>1</td>\n      <td>79084.10</td>\n      <td>0</td>\n    </tr>\n  </tbody>\n</table>\n</div>"
     },
     "execution_count": 9,
     "metadata": {},
     "output_type": "execute_result"
    }
   ],
   "source": [
    "drop_columns = ['RowNumber', 'CustomerId', 'Surname']\n",
    "data = data.drop(columns=drop_columns)\n",
    "data.head()"
   ]
  },
  {
   "cell_type": "markdown",
   "metadata": {},
   "source": [
    "Разобъем данные на обучающие и тестовые."
   ]
  },
  {
   "cell_type": "code",
   "execution_count": 10,
   "metadata": {},
   "outputs": [
    {
     "name": "stdout",
     "output_type": "stream",
     "text": [
      "(7500, 10)\n",
      "(2500, 10)\n",
      "(7500,)\n",
      "(2500,)\n"
     ]
    }
   ],
   "source": [
    "features_train, features_test, target_train, target_test = train_test_split(\n",
    "    data.drop('Exited', axis=1), data['Exited'], stratify=data['Exited'], test_size=0.25, random_state=RANDOM_STATE\n",
    ")\n",
    "print(features_train.shape)\n",
    "print(features_test.shape)\n",
    "print(target_train.shape)\n",
    "print(target_test.shape)"
   ]
  },
  {
   "cell_type": "markdown",
   "metadata": {},
   "source": [
    "### Преобразование категориальных признаков\n",
    "Для страны проживания и пола применим one-hot кодирование для перевода строк в числа."
   ]
  },
  {
   "cell_type": "code",
   "execution_count": 11,
   "metadata": {},
   "outputs": [
    {
     "data": {
      "text/plain": "      CreditScore  Age  Tenure    Balance  NumOfProducts  HasCrCard  \\\n3349          665   45     5.0  155447.65              2          1   \n7094          640   67     3.0       0.00              1          0   \n9204          646   30     5.0       0.00              2          1   \n6620          732   36     5.0       0.00              2          1   \n4737          791   36     6.0  111168.97              1          1   \n\n      IsActiveMember  EstimatedSalary  Geography_Germany  Geography_Spain  \\\n3349               0         51871.95                1.0              0.0   \n7094               1         42964.63                0.0              0.0   \n9204               0         13935.32                0.0              0.0   \n6620               0        161428.25                0.0              0.0   \n4737               1        189969.91                0.0              0.0   \n\n      Gender_Male  \n3349          0.0  \n7094          0.0  \n9204          0.0  \n6620          1.0  \n4737          1.0  ",
      "text/html": "<div>\n<style scoped>\n    .dataframe tbody tr th:only-of-type {\n        vertical-align: middle;\n    }\n\n    .dataframe tbody tr th {\n        vertical-align: top;\n    }\n\n    .dataframe thead th {\n        text-align: right;\n    }\n</style>\n<table border=\"1\" class=\"dataframe\">\n  <thead>\n    <tr style=\"text-align: right;\">\n      <th></th>\n      <th>CreditScore</th>\n      <th>Age</th>\n      <th>Tenure</th>\n      <th>Balance</th>\n      <th>NumOfProducts</th>\n      <th>HasCrCard</th>\n      <th>IsActiveMember</th>\n      <th>EstimatedSalary</th>\n      <th>Geography_Germany</th>\n      <th>Geography_Spain</th>\n      <th>Gender_Male</th>\n    </tr>\n  </thead>\n  <tbody>\n    <tr>\n      <th>3349</th>\n      <td>665</td>\n      <td>45</td>\n      <td>5.0</td>\n      <td>155447.65</td>\n      <td>2</td>\n      <td>1</td>\n      <td>0</td>\n      <td>51871.95</td>\n      <td>1.0</td>\n      <td>0.0</td>\n      <td>0.0</td>\n    </tr>\n    <tr>\n      <th>7094</th>\n      <td>640</td>\n      <td>67</td>\n      <td>3.0</td>\n      <td>0.00</td>\n      <td>1</td>\n      <td>0</td>\n      <td>1</td>\n      <td>42964.63</td>\n      <td>0.0</td>\n      <td>0.0</td>\n      <td>0.0</td>\n    </tr>\n    <tr>\n      <th>9204</th>\n      <td>646</td>\n      <td>30</td>\n      <td>5.0</td>\n      <td>0.00</td>\n      <td>2</td>\n      <td>1</td>\n      <td>0</td>\n      <td>13935.32</td>\n      <td>0.0</td>\n      <td>0.0</td>\n      <td>0.0</td>\n    </tr>\n    <tr>\n      <th>6620</th>\n      <td>732</td>\n      <td>36</td>\n      <td>5.0</td>\n      <td>0.00</td>\n      <td>2</td>\n      <td>1</td>\n      <td>0</td>\n      <td>161428.25</td>\n      <td>0.0</td>\n      <td>0.0</td>\n      <td>1.0</td>\n    </tr>\n    <tr>\n      <th>4737</th>\n      <td>791</td>\n      <td>36</td>\n      <td>6.0</td>\n      <td>111168.97</td>\n      <td>1</td>\n      <td>1</td>\n      <td>1</td>\n      <td>189969.91</td>\n      <td>0.0</td>\n      <td>0.0</td>\n      <td>1.0</td>\n    </tr>\n  </tbody>\n</table>\n</div>"
     },
     "execution_count": 11,
     "metadata": {},
     "output_type": "execute_result"
    }
   ],
   "source": [
    "categorial_columns = ['Geography', 'Gender']\n",
    "\n",
    "# drop='first' удаляет первый признак из закодированных:\n",
    "# таким образом обходим dummy-ловушку\n",
    "# задаём handle_unknown='ignore':\n",
    "# игнорируется ранее невстречающиеся значения признака (при transform)\n",
    "encoder_ohe = OneHotEncoder(drop='first', handle_unknown='ignore', sparse=False)\n",
    "\n",
    "# обучаем энкодер на заданных категориальных признаках тренировочной выборки\n",
    "encoder_ohe.fit(features_train[categorial_columns])\n",
    "\n",
    "# добавляем закодированные признаки в features_train\n",
    "# encoder_ohe.get_feature_names_out() позволяет получить названия колонок\n",
    "features_train[\n",
    "    encoder_ohe.get_feature_names_out()\n",
    "] = encoder_ohe.transform(features_train[categorial_columns])\n",
    "\n",
    "# удаляем незакодированные категориальные признаки (изначальные колонки)\n",
    "features_train = features_train.drop(categorial_columns, axis=1)\n",
    "\n",
    "features_train.head()"
   ]
  },
  {
   "cell_type": "code",
   "execution_count": 12,
   "metadata": {},
   "outputs": [
    {
     "data": {
      "text/plain": "      CreditScore  Age  Tenure    Balance  NumOfProducts  HasCrCard  \\\n7888          594   31     0.0   79340.95              1          1   \n1567          713   53     6.0  115029.40              1          0   \n8704          784   42     2.0  109052.04              2          1   \n7244          445   33     7.0       0.00              2          1   \n6466          678   32     4.0  139626.01              1          1   \n\n      IsActiveMember  EstimatedSalary  Geography_Germany  Geography_Spain  \\\n7888               0         78255.86                0.0              0.0   \n1567               0        191521.32                0.0              0.0   \n8704               0          6409.55                0.0              1.0   \n7244               0        122625.68                0.0              0.0   \n6466               1        118235.52                1.0              0.0   \n\n      Gender_Male  \n7888          0.0  \n1567          1.0  \n8704          0.0  \n7244          0.0  \n6466          1.0  ",
      "text/html": "<div>\n<style scoped>\n    .dataframe tbody tr th:only-of-type {\n        vertical-align: middle;\n    }\n\n    .dataframe tbody tr th {\n        vertical-align: top;\n    }\n\n    .dataframe thead th {\n        text-align: right;\n    }\n</style>\n<table border=\"1\" class=\"dataframe\">\n  <thead>\n    <tr style=\"text-align: right;\">\n      <th></th>\n      <th>CreditScore</th>\n      <th>Age</th>\n      <th>Tenure</th>\n      <th>Balance</th>\n      <th>NumOfProducts</th>\n      <th>HasCrCard</th>\n      <th>IsActiveMember</th>\n      <th>EstimatedSalary</th>\n      <th>Geography_Germany</th>\n      <th>Geography_Spain</th>\n      <th>Gender_Male</th>\n    </tr>\n  </thead>\n  <tbody>\n    <tr>\n      <th>7888</th>\n      <td>594</td>\n      <td>31</td>\n      <td>0.0</td>\n      <td>79340.95</td>\n      <td>1</td>\n      <td>1</td>\n      <td>0</td>\n      <td>78255.86</td>\n      <td>0.0</td>\n      <td>0.0</td>\n      <td>0.0</td>\n    </tr>\n    <tr>\n      <th>1567</th>\n      <td>713</td>\n      <td>53</td>\n      <td>6.0</td>\n      <td>115029.40</td>\n      <td>1</td>\n      <td>0</td>\n      <td>0</td>\n      <td>191521.32</td>\n      <td>0.0</td>\n      <td>0.0</td>\n      <td>1.0</td>\n    </tr>\n    <tr>\n      <th>8704</th>\n      <td>784</td>\n      <td>42</td>\n      <td>2.0</td>\n      <td>109052.04</td>\n      <td>2</td>\n      <td>1</td>\n      <td>0</td>\n      <td>6409.55</td>\n      <td>0.0</td>\n      <td>1.0</td>\n      <td>0.0</td>\n    </tr>\n    <tr>\n      <th>7244</th>\n      <td>445</td>\n      <td>33</td>\n      <td>7.0</td>\n      <td>0.00</td>\n      <td>2</td>\n      <td>1</td>\n      <td>0</td>\n      <td>122625.68</td>\n      <td>0.0</td>\n      <td>0.0</td>\n      <td>0.0</td>\n    </tr>\n    <tr>\n      <th>6466</th>\n      <td>678</td>\n      <td>32</td>\n      <td>4.0</td>\n      <td>139626.01</td>\n      <td>1</td>\n      <td>1</td>\n      <td>1</td>\n      <td>118235.52</td>\n      <td>1.0</td>\n      <td>0.0</td>\n      <td>1.0</td>\n    </tr>\n  </tbody>\n</table>\n</div>"
     },
     "execution_count": 12,
     "metadata": {},
     "output_type": "execute_result"
    }
   ],
   "source": [
    "features_test[\n",
    "    encoder_ohe.get_feature_names_out()\n",
    "] = encoder_ohe.transform(features_test[categorial_columns])\n",
    "\n",
    "features_test = features_test.drop(categorial_columns, axis=1)\n",
    "\n",
    "features_test.head()"
   ]
  },
  {
   "cell_type": "markdown",
   "metadata": {},
   "source": [
    "Данные закодированы."
   ]
  },
  {
   "cell_type": "markdown",
   "metadata": {},
   "source": [
    "### Масштабирование признаков\n",
    "Произведем стандартизацию числовых признаков."
   ]
  },
  {
   "cell_type": "code",
   "execution_count": 13,
   "metadata": {},
   "outputs": [
    {
     "data": {
      "text/plain": "      CreditScore       Age    Tenure   Balance  NumOfProducts  HasCrCard  \\\n3349     0.153616  0.583435 -0.004794  1.264113       0.807524          1   \n7094    -0.104283  2.694224 -0.731152 -1.222762      -0.915010          0   \n9204    -0.042388 -0.855740 -0.004794 -1.222762       0.807524          1   \n6620     0.844786 -0.280070 -0.004794 -1.222762       0.807524          1   \n4737     1.453428 -0.280070  0.358385  0.555736      -0.915010          1   \n\n      IsActiveMember  EstimatedSalary  Geography_Germany  Geography_Spain  \\\n3349               0        -0.848725                1.0              0.0   \n7094               1        -1.003683                0.0              0.0   \n9204               0        -1.508697                0.0              0.0   \n6620               0         1.057193                0.0              0.0   \n4737               1         1.553724                0.0              0.0   \n\n      Gender_Male  \n3349          0.0  \n7094          0.0  \n9204          0.0  \n6620          1.0  \n4737          1.0  ",
      "text/html": "<div>\n<style scoped>\n    .dataframe tbody tr th:only-of-type {\n        vertical-align: middle;\n    }\n\n    .dataframe tbody tr th {\n        vertical-align: top;\n    }\n\n    .dataframe thead th {\n        text-align: right;\n    }\n</style>\n<table border=\"1\" class=\"dataframe\">\n  <thead>\n    <tr style=\"text-align: right;\">\n      <th></th>\n      <th>CreditScore</th>\n      <th>Age</th>\n      <th>Tenure</th>\n      <th>Balance</th>\n      <th>NumOfProducts</th>\n      <th>HasCrCard</th>\n      <th>IsActiveMember</th>\n      <th>EstimatedSalary</th>\n      <th>Geography_Germany</th>\n      <th>Geography_Spain</th>\n      <th>Gender_Male</th>\n    </tr>\n  </thead>\n  <tbody>\n    <tr>\n      <th>3349</th>\n      <td>0.153616</td>\n      <td>0.583435</td>\n      <td>-0.004794</td>\n      <td>1.264113</td>\n      <td>0.807524</td>\n      <td>1</td>\n      <td>0</td>\n      <td>-0.848725</td>\n      <td>1.0</td>\n      <td>0.0</td>\n      <td>0.0</td>\n    </tr>\n    <tr>\n      <th>7094</th>\n      <td>-0.104283</td>\n      <td>2.694224</td>\n      <td>-0.731152</td>\n      <td>-1.222762</td>\n      <td>-0.915010</td>\n      <td>0</td>\n      <td>1</td>\n      <td>-1.003683</td>\n      <td>0.0</td>\n      <td>0.0</td>\n      <td>0.0</td>\n    </tr>\n    <tr>\n      <th>9204</th>\n      <td>-0.042388</td>\n      <td>-0.855740</td>\n      <td>-0.004794</td>\n      <td>-1.222762</td>\n      <td>0.807524</td>\n      <td>1</td>\n      <td>0</td>\n      <td>-1.508697</td>\n      <td>0.0</td>\n      <td>0.0</td>\n      <td>0.0</td>\n    </tr>\n    <tr>\n      <th>6620</th>\n      <td>0.844786</td>\n      <td>-0.280070</td>\n      <td>-0.004794</td>\n      <td>-1.222762</td>\n      <td>0.807524</td>\n      <td>1</td>\n      <td>0</td>\n      <td>1.057193</td>\n      <td>0.0</td>\n      <td>0.0</td>\n      <td>1.0</td>\n    </tr>\n    <tr>\n      <th>4737</th>\n      <td>1.453428</td>\n      <td>-0.280070</td>\n      <td>0.358385</td>\n      <td>0.555736</td>\n      <td>-0.915010</td>\n      <td>1</td>\n      <td>1</td>\n      <td>1.553724</td>\n      <td>0.0</td>\n      <td>0.0</td>\n      <td>1.0</td>\n    </tr>\n  </tbody>\n</table>\n</div>"
     },
     "execution_count": 13,
     "metadata": {},
     "output_type": "execute_result"
    }
   ],
   "source": [
    "scaler = StandardScaler()\n",
    "numeric = ['CreditScore', 'Age', 'Tenure', 'Balance', 'NumOfProducts', 'EstimatedSalary']\n",
    "scaler.fit(features_train[numeric])\n",
    "features_train[numeric] = scaler.transform(features_train[numeric])\n",
    "features_test[numeric] = scaler.transform(features_test[numeric])\n",
    "features_train.head()"
   ]
  },
  {
   "cell_type": "markdown",
   "metadata": {},
   "source": [
    "Признаки стандартизированы."
   ]
  },
  {
   "cell_type": "markdown",
   "metadata": {},
   "source": [
    "### Вывод\n",
    "Произведен обзор данных и подготовка данных - устранены пропуски, устранены не влияющие на целевую переменную признаки, числовые признаки стандартизированы, преобразованы категориальные признаки, подготовлены обучающая и тестовая выборки."
   ]
  },
  {
   "cell_type": "markdown",
   "metadata": {},
   "source": [
    "## Исследование задачи"
   ]
  },
  {
   "cell_type": "markdown",
   "metadata": {},
   "source": [
    "### Баланс классов\n",
    "Посмотрим на количество значений целевой переменной."
   ]
  },
  {
   "cell_type": "code",
   "execution_count": 14,
   "metadata": {},
   "outputs": [
    {
     "data": {
      "text/plain": "0    7963\n1    2037\nName: Exited, dtype: int64"
     },
     "execution_count": 14,
     "metadata": {},
     "output_type": "execute_result"
    }
   ],
   "source": [
    "data['Exited'].value_counts()"
   ]
  },
  {
   "cell_type": "markdown",
   "metadata": {},
   "source": [
    "Наблюдается существенный дисбаланс - оставшихся клиентов почти в 4 раза больше чем оставшихся."
   ]
  },
  {
   "cell_type": "markdown",
   "metadata": {},
   "source": [
    "### Базовая модель"
   ]
  },
  {
   "cell_type": "markdown",
   "metadata": {},
   "source": [
    "Так как стоит задача максимизировать метрику, показывающую успешность предсказывания единицы, в качестве базовой модели возьмем модель, всегда предсказывающую 1."
   ]
  },
  {
   "cell_type": "code",
   "execution_count": 15,
   "metadata": {},
   "outputs": [
    {
     "name": "stdout",
     "output_type": "stream",
     "text": [
      "f1 = 0.3383183781987371\n"
     ]
    }
   ],
   "source": [
    "dummy_model = DummyClassifier(strategy='constant', constant=1)\n",
    "dummy_model.fit(features_train, target_train)\n",
    "print(f'f1 = {f1_score(dummy_model.predict(features_test), target_test)}')"
   ]
  },
  {
   "cell_type": "markdown",
   "metadata": {},
   "source": [
    "Метрика f1 базовой модели равна 0.338, в дальнейшем будет сравнивать метрики обученных моделей с ней"
   ]
  },
  {
   "cell_type": "markdown",
   "metadata": {},
   "source": [
    "### Обучение моделей без учета дисбаланса\n",
    "Найдем оптимальные гиперпараметры для дерева решений, случайного леса и логистической регрессии с целью максимизации метрики f1, также будем смотреть на метрику AUC-ROC, для ее вычисления напишем функцию."
   ]
  },
  {
   "cell_type": "code",
   "execution_count": 16,
   "metadata": {},
   "outputs": [],
   "source": [
    "def roc_auc(model, features, target):\n",
    "    probabilities = model.predict_proba(features)\n",
    "    probabilities_ones = probabilities[:, 1]\n",
    "    return roc_auc_score(target, probabilities_ones)"
   ]
  },
  {
   "cell_type": "markdown",
   "metadata": {},
   "source": [
    "#### Дерево решений"
   ]
  },
  {
   "cell_type": "code",
   "execution_count": 17,
   "metadata": {},
   "outputs": [
    {
     "name": "stdout",
     "output_type": "stream",
     "text": [
      "Fitting 5 folds for each of 1800 candidates, totalling 9000 fits\n",
      "f1 = 0.5659486293891757\n",
      "AUC-ROC = 0.8770270205110762\n",
      "Оптимальные гиперпараметры: {'max_depth': 7, 'min_samples_leaf': 2, 'min_samples_split': 8}\n"
     ]
    }
   ],
   "source": [
    "decision_tree_model = DecisionTreeClassifier(random_state=RANDOM_STATE)\n",
    "decision_tree_params = {\n",
    "    'max_depth': range(1, 21),\n",
    "    'min_samples_split': range(2, 11),\n",
    "    'min_samples_leaf': range(1, 11)\n",
    "}\n",
    "\n",
    "grid = GridSearchCV(decision_tree_model, decision_tree_params, scoring='f1', n_jobs=-1, verbose=1)\n",
    "grid.fit(features_train, target_train)\n",
    "decision_tree_model_disbalance = grid.best_estimator_\n",
    "print(f'f1 = {grid.best_score_}')\n",
    "print(f'AUC-ROC = {roc_auc(decision_tree_model_disbalance, features_train, target_train)}')\n",
    "print(f'Оптимальные гиперпараметры: {grid.best_params_}')"
   ]
  },
  {
   "cell_type": "markdown",
   "metadata": {},
   "source": [
    "#### Случайный лес"
   ]
  },
  {
   "cell_type": "markdown",
   "metadata": {},
   "source": [
    "Для ускорения подбора гиперпараметров воспользуемся библиотекой optuna"
   ]
  },
  {
   "cell_type": "code",
   "execution_count": null,
   "outputs": [],
   "source": [
    "OPTUNA_N_TRIALS = 20\n",
    "OPTUNA_TIMEOUT = 30"
   ],
   "metadata": {
    "collapsed": false
   }
  },
  {
   "cell_type": "code",
   "execution_count": 18,
   "metadata": {},
   "outputs": [
    {
     "name": "stderr",
     "output_type": "stream",
     "text": [
      "/var/folders/m_/d5s2gnsx68l769b4nc3pxzrdn_qnjl/T/ipykernel_65750/22008090.py:9: ExperimentalWarning: OptunaSearchCV is experimental (supported from v0.17.0). The interface can change in the future.\n",
      "  optuna_search = optuna.integration.OptunaSearchCV(random_forest_model, random_forest_params, scoring='f1', n_trials=200, timeout=300, n_jobs=-1)\n",
      "\u001B[32m[I 2023-03-07 17:51:46,211]\u001B[0m A new study created in memory with name: no-name-a805fdd9-c64a-4595-96ec-9ddae98f8d95\u001B[0m\n",
      "\u001B[32m[I 2023-03-07 17:51:48,010]\u001B[0m Trial 2 finished with value: 0.5648934835222171 and parameters: {'n_estimators': 10, 'max_depth': 12, 'min_samples_split': 9, 'min_samples_leaf': 10}. Best is trial 2 with value: 0.5648934835222171.\u001B[0m\n",
      "\u001B[32m[I 2023-03-07 17:51:49,082]\u001B[0m Trial 1 finished with value: 0.5502325130508778 and parameters: {'n_estimators': 20, 'max_depth': 9, 'min_samples_split': 9, 'min_samples_leaf': 4}. Best is trial 2 with value: 0.5648934835222171.\u001B[0m\n",
      "\u001B[32m[I 2023-03-07 17:51:49,294]\u001B[0m Trial 8 finished with value: 0.5704251090167274 and parameters: {'n_estimators': 20, 'max_depth': 16, 'min_samples_split': 6, 'min_samples_leaf': 3}. Best is trial 8 with value: 0.5704251090167274.\u001B[0m\n",
      "\u001B[32m[I 2023-03-07 17:51:49,372]\u001B[0m Trial 11 finished with value: 0.39091546813653055 and parameters: {'n_estimators': 30, 'max_depth': 4, 'min_samples_split': 8, 'min_samples_leaf': 9}. Best is trial 8 with value: 0.5704251090167274.\u001B[0m\n",
      "\u001B[32m[I 2023-03-07 17:51:54,909]\u001B[0m Trial 13 finished with value: 0.12499666124571548 and parameters: {'n_estimators': 70, 'max_depth': 2, 'min_samples_split': 6, 'min_samples_leaf': 3}. Best is trial 8 with value: 0.5704251090167274.\u001B[0m\n",
      "\u001B[32m[I 2023-03-07 17:51:57,128]\u001B[0m Trial 7 finished with value: 0.5590418879282903 and parameters: {'n_estimators': 80, 'max_depth': 10, 'min_samples_split': 2, 'min_samples_leaf': 1}. Best is trial 8 with value: 0.5704251090167274.\u001B[0m\n",
      "\u001B[32m[I 2023-03-07 17:51:57,247]\u001B[0m Trial 6 finished with value: 0.41472560023316285 and parameters: {'n_estimators': 110, 'max_depth': 4, 'min_samples_split': 8, 'min_samples_leaf': 1}. Best is trial 8 with value: 0.5704251090167274.\u001B[0m\n",
      "\u001B[32m[I 2023-03-07 17:51:59,095]\u001B[0m Trial 9 finished with value: 0.5655118908931676 and parameters: {'n_estimators': 100, 'max_depth': 11, 'min_samples_split': 9, 'min_samples_leaf': 6}. Best is trial 8 with value: 0.5704251090167274.\u001B[0m\n",
      "\u001B[32m[I 2023-03-07 17:51:59,863]\u001B[0m Trial 12 finished with value: 0.5266752501255703 and parameters: {'n_estimators': 110, 'max_depth': 6, 'min_samples_split': 5, 'min_samples_leaf': 1}. Best is trial 8 with value: 0.5704251090167274.\u001B[0m\n",
      "\u001B[32m[I 2023-03-07 17:52:04,189]\u001B[0m Trial 16 finished with value: 0.5774280155096361 and parameters: {'n_estimators': 70, 'max_depth': 20, 'min_samples_split': 10, 'min_samples_leaf': 1}. Best is trial 16 with value: 0.5774280155096361.\u001B[0m\n",
      "\u001B[32m[I 2023-03-07 17:52:06,296]\u001B[0m Trial 10 finished with value: 0.5725595916114548 and parameters: {'n_estimators': 150, 'max_depth': 13, 'min_samples_split': 5, 'min_samples_leaf': 5}. Best is trial 16 with value: 0.5774280155096361.\u001B[0m\n",
      "\u001B[32m[I 2023-03-07 17:52:06,824]\u001B[0m Trial 15 finished with value: 0.5686517060818422 and parameters: {'n_estimators': 130, 'max_depth': 11, 'min_samples_split': 3, 'min_samples_leaf': 2}. Best is trial 16 with value: 0.5774280155096361.\u001B[0m\n",
      "\u001B[32m[I 2023-03-07 17:52:08,620]\u001B[0m Trial 20 finished with value: 0.5620536548075629 and parameters: {'n_estimators': 70, 'max_depth': 12, 'min_samples_split': 6, 'min_samples_leaf': 8}. Best is trial 16 with value: 0.5774280155096361.\u001B[0m\n",
      "\u001B[32m[I 2023-03-07 17:52:08,720]\u001B[0m Trial 5 finished with value: 0.5409529698814091 and parameters: {'n_estimators': 200, 'max_depth': 7, 'min_samples_split': 8, 'min_samples_leaf': 8}. Best is trial 16 with value: 0.5774280155096361.\u001B[0m\n",
      "\u001B[32m[I 2023-03-07 17:52:09,132]\u001B[0m Trial 0 finished with value: 0.5690978840158796 and parameters: {'n_estimators': 170, 'max_depth': 19, 'min_samples_split': 6, 'min_samples_leaf': 7}. Best is trial 16 with value: 0.5774280155096361.\u001B[0m\n",
      "\u001B[32m[I 2023-03-07 17:52:09,456]\u001B[0m Trial 14 finished with value: 0.5649691801842869 and parameters: {'n_estimators': 160, 'max_depth': 19, 'min_samples_split': 7, 'min_samples_leaf': 10}. Best is trial 16 with value: 0.5774280155096361.\u001B[0m\n",
      "\u001B[32m[I 2023-03-07 17:52:09,612]\u001B[0m Trial 4 finished with value: 0.5648813207321354 and parameters: {'n_estimators': 180, 'max_depth': 10, 'min_samples_split': 4, 'min_samples_leaf': 2}. Best is trial 16 with value: 0.5774280155096361.\u001B[0m\n",
      "\u001B[32m[I 2023-03-07 17:52:10,124]\u001B[0m Trial 3 finished with value: 0.5566802551636161 and parameters: {'n_estimators': 190, 'max_depth': 10, 'min_samples_split': 3, 'min_samples_leaf': 9}. Best is trial 16 with value: 0.5774280155096361.\u001B[0m\n",
      "\u001B[32m[I 2023-03-07 17:52:12,477]\u001B[0m Trial 17 finished with value: 0.5505818776547347 and parameters: {'n_estimators': 140, 'max_depth': 8, 'min_samples_split': 3, 'min_samples_leaf': 8}. Best is trial 16 with value: 0.5774280155096361.\u001B[0m\n",
      "\u001B[32m[I 2023-03-07 17:52:19,724]\u001B[0m Trial 19 finished with value: 0.5551979597067395 and parameters: {'n_estimators': 180, 'max_depth': 8, 'min_samples_split': 8, 'min_samples_leaf': 2}. Best is trial 16 with value: 0.5774280155096361.\u001B[0m\n",
      "\u001B[32m[I 2023-03-07 17:52:19,831]\u001B[0m Trial 30 finished with value: 0.5696191781803328 and parameters: {'n_estimators': 50, 'max_depth': 15, 'min_samples_split': 10, 'min_samples_leaf': 5}. Best is trial 16 with value: 0.5774280155096361.\u001B[0m\n",
      "\u001B[32m[I 2023-03-07 17:52:19,923]\u001B[0m Trial 18 finished with value: 0.5720195851263454 and parameters: {'n_estimators': 170, 'max_depth': 19, 'min_samples_split': 5, 'min_samples_leaf': 4}. Best is trial 16 with value: 0.5774280155096361.\u001B[0m\n",
      "\u001B[32m[I 2023-03-07 17:52:26,109]\u001B[0m Trial 32 finished with value: 0.5654091514626058 and parameters: {'n_estimators': 40, 'max_depth': 16, 'min_samples_split': 5, 'min_samples_leaf': 4}. Best is trial 16 with value: 0.5774280155096361.\u001B[0m\n",
      "\u001B[32m[I 2023-03-07 17:52:27,877]\u001B[0m Trial 22 finished with value: 0.5672900325825004 and parameters: {'n_estimators': 160, 'max_depth': 20, 'min_samples_split': 4, 'min_samples_leaf': 7}. Best is trial 16 with value: 0.5774280155096361.\u001B[0m\n",
      "\u001B[32m[I 2023-03-07 17:52:29,229]\u001B[0m Trial 21 finished with value: 0.5672829100689782 and parameters: {'n_estimators': 180, 'max_depth': 20, 'min_samples_split': 3, 'min_samples_leaf': 7}. Best is trial 16 with value: 0.5774280155096361.\u001B[0m\n",
      "\u001B[32m[I 2023-03-07 17:52:29,450]\u001B[0m Trial 28 finished with value: 0.5689346880708586 and parameters: {'n_estimators': 140, 'max_depth': 15, 'min_samples_split': 10, 'min_samples_leaf': 5}. Best is trial 16 with value: 0.5774280155096361.\u001B[0m\n",
      "\u001B[32m[I 2023-03-07 17:52:30,024]\u001B[0m Trial 29 finished with value: 0.5673495999791932 and parameters: {'n_estimators': 140, 'max_depth': 15, 'min_samples_split': 10, 'min_samples_leaf': 4}. Best is trial 16 with value: 0.5774280155096361.\u001B[0m\n",
      "\u001B[32m[I 2023-03-07 17:52:30,220]\u001B[0m Trial 26 finished with value: 0.5654872656448813 and parameters: {'n_estimators': 150, 'max_depth': 20, 'min_samples_split': 4, 'min_samples_leaf': 5}. Best is trial 16 with value: 0.5774280155096361.\u001B[0m\n",
      "\u001B[32m[I 2023-03-07 17:52:30,577]\u001B[0m Trial 27 finished with value: 0.57138656981303 and parameters: {'n_estimators': 150, 'max_depth': 15, 'min_samples_split': 4, 'min_samples_leaf': 5}. Best is trial 16 with value: 0.5774280155096361.\u001B[0m\n",
      "\u001B[32m[I 2023-03-07 17:52:32,581]\u001B[0m Trial 25 finished with value: 0.5675222017166108 and parameters: {'n_estimators': 170, 'max_depth': 20, 'min_samples_split': 4, 'min_samples_leaf': 6}. Best is trial 16 with value: 0.5774280155096361.\u001B[0m\n",
      "\u001B[32m[I 2023-03-07 17:52:33,726]\u001B[0m Trial 24 finished with value: 0.5670397299250237 and parameters: {'n_estimators': 180, 'max_depth': 20, 'min_samples_split': 4, 'min_samples_leaf': 6}. Best is trial 16 with value: 0.5774280155096361.\u001B[0m\n",
      "\u001B[32m[I 2023-03-07 17:52:33,760]\u001B[0m Trial 23 finished with value: 0.5667866694130329 and parameters: {'n_estimators': 200, 'max_depth': 20, 'min_samples_split': 4, 'min_samples_leaf': 6}. Best is trial 16 with value: 0.5774280155096361.\u001B[0m\n",
      "\u001B[32m[I 2023-03-07 17:52:38,461]\u001B[0m Trial 33 finished with value: 0.5712662112153822 and parameters: {'n_estimators': 130, 'max_depth': 16, 'min_samples_split': 5, 'min_samples_leaf': 5}. Best is trial 16 with value: 0.5774280155096361.\u001B[0m\n",
      "\u001B[32m[I 2023-03-07 17:52:40,788]\u001B[0m Trial 31 finished with value: 0.5698995180356079 and parameters: {'n_estimators': 150, 'max_depth': 14, 'min_samples_split': 10, 'min_samples_leaf': 5}. Best is trial 16 with value: 0.5774280155096361.\u001B[0m\n",
      "\u001B[32m[I 2023-03-07 17:52:42,309]\u001B[0m Trial 39 finished with value: 0.5656665299156327 and parameters: {'n_estimators': 90, 'max_depth': 18, 'min_samples_split': 5, 'min_samples_leaf': 6}. Best is trial 16 with value: 0.5774280155096361.\u001B[0m\n",
      "\u001B[32m[I 2023-03-07 17:52:42,786]\u001B[0m Trial 40 finished with value: 0.5656665299156327 and parameters: {'n_estimators': 90, 'max_depth': 18, 'min_samples_split': 5, 'min_samples_leaf': 6}. Best is trial 16 with value: 0.5774280155096361.\u001B[0m\n",
      "\u001B[32m[I 2023-03-07 17:52:43,630]\u001B[0m Trial 38 finished with value: 0.5643136360021662 and parameters: {'n_estimators': 100, 'max_depth': 18, 'min_samples_split': 5, 'min_samples_leaf': 6}. Best is trial 16 with value: 0.5774280155096361.\u001B[0m\n",
      "\u001B[32m[I 2023-03-07 17:52:45,028]\u001B[0m Trial 41 finished with value: 0.5734104887203693 and parameters: {'n_estimators': 90, 'max_depth': 18, 'min_samples_split': 5, 'min_samples_leaf': 3}. Best is trial 16 with value: 0.5774280155096361.\u001B[0m\n",
      "\u001B[32m[I 2023-03-07 17:52:46,167]\u001B[0m Trial 42 finished with value: 0.5734104887203693 and parameters: {'n_estimators': 90, 'max_depth': 18, 'min_samples_split': 5, 'min_samples_leaf': 3}. Best is trial 16 with value: 0.5774280155096361.\u001B[0m\n",
      "\u001B[32m[I 2023-03-07 17:52:46,555]\u001B[0m Trial 34 finished with value: 0.568703952314751 and parameters: {'n_estimators': 150, 'max_depth': 20, 'min_samples_split': 5, 'min_samples_leaf': 6}. Best is trial 16 with value: 0.5774280155096361.\u001B[0m\n",
      "\u001B[32m[I 2023-03-07 17:52:46,893]\u001B[0m Trial 35 finished with value: 0.5698500519951792 and parameters: {'n_estimators': 140, 'max_depth': 17, 'min_samples_split': 5, 'min_samples_leaf': 5}. Best is trial 16 with value: 0.5774280155096361.\u001B[0m\n",
      "\u001B[32m[I 2023-03-07 17:52:47,396]\u001B[0m Trial 37 finished with value: 0.5696860772354071 and parameters: {'n_estimators': 130, 'max_depth': 18, 'min_samples_split': 5, 'min_samples_leaf': 4}. Best is trial 16 with value: 0.5774280155096361.\u001B[0m\n",
      "\u001B[32m[I 2023-03-07 17:52:48,241]\u001B[0m Trial 36 finished with value: 0.5694796974246753 and parameters: {'n_estimators': 140, 'max_depth': 14, 'min_samples_split': 5, 'min_samples_leaf': 5}. Best is trial 16 with value: 0.5774280155096361.\u001B[0m\n",
      "\u001B[32m[I 2023-03-07 17:52:50,082]\u001B[0m Trial 43 finished with value: 0.5756977888064722 and parameters: {'n_estimators': 120, 'max_depth': 18, 'min_samples_split': 5, 'min_samples_leaf': 3}. Best is trial 16 with value: 0.5774280155096361.\u001B[0m\n",
      "\u001B[32m[I 2023-03-07 17:52:51,025]\u001B[0m Trial 47 finished with value: 0.5748400490133616 and parameters: {'n_estimators': 60, 'max_depth': 18, 'min_samples_split': 7, 'min_samples_leaf': 3}. Best is trial 16 with value: 0.5774280155096361.\u001B[0m\n",
      "\u001B[32m[I 2023-03-07 17:52:52,426]\u001B[0m Trial 44 finished with value: 0.5768033802513998 and parameters: {'n_estimators': 100, 'max_depth': 18, 'min_samples_split': 7, 'min_samples_leaf': 3}. Best is trial 16 with value: 0.5774280155096361.\u001B[0m\n",
      "\u001B[32m[I 2023-03-07 17:52:53,573]\u001B[0m Trial 45 finished with value: 0.5705444198929325 and parameters: {'n_estimators': 90, 'max_depth': 18, 'min_samples_split': 7, 'min_samples_leaf': 4}. Best is trial 16 with value: 0.5774280155096361.\u001B[0m\n",
      "\u001B[32m[I 2023-03-07 17:52:54,016]\u001B[0m Trial 50 finished with value: 0.5757369488191487 and parameters: {'n_estimators': 50, 'max_depth': 13, 'min_samples_split': 7, 'min_samples_leaf': 3}. Best is trial 16 with value: 0.5774280155096361.\u001B[0m\n",
      "\u001B[32m[I 2023-03-07 17:52:54,142]\u001B[0m Trial 49 finished with value: 0.5744075164346242 and parameters: {'n_estimators': 60, 'max_depth': 13, 'min_samples_split': 7, 'min_samples_leaf': 3}. Best is trial 16 with value: 0.5774280155096361.\u001B[0m\n",
      "\u001B[32m[I 2023-03-07 17:52:55,730]\u001B[0m Trial 51 finished with value: 0.5748400490133616 and parameters: {'n_estimators': 60, 'max_depth': 18, 'min_samples_split': 7, 'min_samples_leaf': 3}. Best is trial 16 with value: 0.5774280155096361.\u001B[0m\n",
      "\u001B[32m[I 2023-03-07 17:52:57,277]\u001B[0m Trial 54 finished with value: 0.5735122656015201 and parameters: {'n_estimators': 60, 'max_depth': 17, 'min_samples_split': 7, 'min_samples_leaf': 3}. Best is trial 16 with value: 0.5774280155096361.\u001B[0m\n",
      "\u001B[32m[I 2023-03-07 17:52:57,795]\u001B[0m Trial 53 finished with value: 0.5723082716569678 and parameters: {'n_estimators': 70, 'max_depth': 13, 'min_samples_split': 7, 'min_samples_leaf': 3}. Best is trial 16 with value: 0.5774280155096361.\u001B[0m\n",
      "\u001B[32m[I 2023-03-07 17:52:58,546]\u001B[0m Trial 52 finished with value: 0.5719645317758625 and parameters: {'n_estimators': 80, 'max_depth': 13, 'min_samples_split': 7, 'min_samples_leaf': 3}. Best is trial 16 with value: 0.5774280155096361.\u001B[0m\n",
      "\u001B[32m[I 2023-03-07 17:52:59,084]\u001B[0m Trial 55 finished with value: 0.5735122656015201 and parameters: {'n_estimators': 60, 'max_depth': 17, 'min_samples_split': 7, 'min_samples_leaf': 3}. Best is trial 16 with value: 0.5774280155096361.\u001B[0m\n",
      "\u001B[32m[I 2023-03-07 17:52:59,446]\u001B[0m Trial 46 finished with value: 0.575744557730232 and parameters: {'n_estimators': 120, 'max_depth': 18, 'min_samples_split': 7, 'min_samples_leaf': 3}. Best is trial 16 with value: 0.5774280155096361.\u001B[0m\n",
      "\u001B[32m[I 2023-03-07 17:52:59,991]\u001B[0m Trial 61 finished with value: 0.5731051655530828 and parameters: {'n_estimators': 30, 'max_depth': 17, 'min_samples_split': 9, 'min_samples_leaf': 2}. Best is trial 16 with value: 0.5774280155096361.\u001B[0m\n",
      "\u001B[32m[I 2023-03-07 17:53:00,191]\u001B[0m Trial 56 finished with value: 0.5735122656015201 and parameters: {'n_estimators': 60, 'max_depth': 17, 'min_samples_split': 7, 'min_samples_leaf': 3}. Best is trial 16 with value: 0.5774280155096361.\u001B[0m\n",
      "\u001B[32m[I 2023-03-07 17:53:00,739]\u001B[0m Trial 48 finished with value: 0.5720686753132561 and parameters: {'n_estimators': 120, 'max_depth': 13, 'min_samples_split': 7, 'min_samples_leaf': 3}. Best is trial 16 with value: 0.5774280155096361.\u001B[0m\n",
      "\u001B[32m[I 2023-03-07 17:53:00,746]\u001B[0m Trial 65 finished with value: 0.5617158605204502 and parameters: {'n_estimators': 10, 'max_depth': 19, 'min_samples_split': 9, 'min_samples_leaf': 2}. Best is trial 16 with value: 0.5774280155096361.\u001B[0m\n",
      "\u001B[32m[I 2023-03-07 17:53:01,245]\u001B[0m Trial 60 finished with value: 0.5728532645832644 and parameters: {'n_estimators': 50, 'max_depth': 17, 'min_samples_split': 9, 'min_samples_leaf': 2}. Best is trial 16 with value: 0.5774280155096361.\u001B[0m\n",
      "\u001B[32m[I 2023-03-07 17:53:01,294]\u001B[0m Trial 57 finished with value: 0.5735122656015201 and parameters: {'n_estimators': 60, 'max_depth': 17, 'min_samples_split': 7, 'min_samples_leaf': 3}. Best is trial 16 with value: 0.5774280155096361.\u001B[0m\n",
      "\u001B[32m[I 2023-03-07 17:53:02,116]\u001B[0m Trial 58 finished with value: 0.5852149685697454 and parameters: {'n_estimators': 60, 'max_depth': 16, 'min_samples_split': 7, 'min_samples_leaf': 2}. Best is trial 58 with value: 0.5852149685697454.\u001B[0m\n",
      "\u001B[32m[I 2023-03-07 17:53:03,074]\u001B[0m Trial 62 finished with value: 0.5676920075277123 and parameters: {'n_estimators': 40, 'max_depth': 17, 'min_samples_split': 8, 'min_samples_leaf': 2}. Best is trial 58 with value: 0.5852149685697454.\u001B[0m\n",
      "\u001B[32m[I 2023-03-07 17:53:03,592]\u001B[0m Trial 63 finished with value: 0.5676920075277123 and parameters: {'n_estimators': 40, 'max_depth': 17, 'min_samples_split': 8, 'min_samples_leaf': 2}. Best is trial 58 with value: 0.5852149685697454.\u001B[0m\n",
      "\u001B[32m[I 2023-03-07 17:53:03,883]\u001B[0m Trial 59 finished with value: 0.5761303345947072 and parameters: {'n_estimators': 70, 'max_depth': 17, 'min_samples_split': 7, 'min_samples_leaf': 2}. Best is trial 58 with value: 0.5852149685697454.\u001B[0m\n",
      "\u001B[32m[I 2023-03-07 17:53:04,331]\u001B[0m Trial 64 finished with value: 0.5688395489651856 and parameters: {'n_estimators': 40, 'max_depth': 17, 'min_samples_split': 9, 'min_samples_leaf': 2}. Best is trial 58 with value: 0.5852149685697454.\u001B[0m\n",
      "\u001B[32m[I 2023-03-07 17:53:16,315]\u001B[0m Trial 67 finished with value: 0.5742557196375607 and parameters: {'n_estimators': 100, 'max_depth': 19, 'min_samples_split': 8, 'min_samples_leaf': 1}. Best is trial 58 with value: 0.5852149685697454.\u001B[0m\n",
      "\u001B[32m[I 2023-03-07 17:53:18,781]\u001B[0m Trial 66 finished with value: 0.5744353145015557 and parameters: {'n_estimators': 120, 'max_depth': 19, 'min_samples_split': 9, 'min_samples_leaf': 2}. Best is trial 58 with value: 0.5852149685697454.\u001B[0m\n",
      "\u001B[32m[I 2023-03-07 17:53:18,988]\u001B[0m Trial 70 finished with value: 0.5821840660804609 and parameters: {'n_estimators': 110, 'max_depth': 19, 'min_samples_split': 6, 'min_samples_leaf': 1}. Best is trial 58 with value: 0.5852149685697454.\u001B[0m\n",
      "\u001B[32m[I 2023-03-07 17:53:19,397]\u001B[0m Trial 72 finished with value: 0.5740252332470359 and parameters: {'n_estimators': 110, 'max_depth': 19, 'min_samples_split': 8, 'min_samples_leaf': 1}. Best is trial 58 with value: 0.5852149685697454.\u001B[0m\n",
      "\u001B[32m[I 2023-03-07 17:53:19,541]\u001B[0m Trial 71 finished with value: 0.5740252332470359 and parameters: {'n_estimators': 110, 'max_depth': 19, 'min_samples_split': 8, 'min_samples_leaf': 1}. Best is trial 58 with value: 0.5852149685697454.\u001B[0m\n",
      "\u001B[32m[I 2023-03-07 17:53:19,725]\u001B[0m Trial 69 finished with value: 0.5821840660804609 and parameters: {'n_estimators': 110, 'max_depth': 19, 'min_samples_split': 6, 'min_samples_leaf': 1}. Best is trial 58 with value: 0.5852149685697454.\u001B[0m\n",
      "\u001B[32m[I 2023-03-07 17:53:20,024]\u001B[0m Trial 68 finished with value: 0.5712006661898503 and parameters: {'n_estimators': 120, 'max_depth': 19, 'min_samples_split': 8, 'min_samples_leaf': 1}. Best is trial 58 with value: 0.5852149685697454.\u001B[0m\n",
      "\u001B[32m[I 2023-03-07 17:53:20,948]\u001B[0m Trial 73 finished with value: 0.5740252332470359 and parameters: {'n_estimators': 110, 'max_depth': 19, 'min_samples_split': 8, 'min_samples_leaf': 1}. Best is trial 58 with value: 0.5852149685697454.\u001B[0m\n",
      "\u001B[32m[I 2023-03-07 17:53:22,741]\u001B[0m Trial 74 finished with value: 0.5821840660804609 and parameters: {'n_estimators': 110, 'max_depth': 19, 'min_samples_split': 6, 'min_samples_leaf': 1}. Best is trial 58 with value: 0.5852149685697454.\u001B[0m\n",
      "\u001B[32m[I 2023-03-07 17:53:23,477]\u001B[0m Trial 75 finished with value: 0.5821840660804609 and parameters: {'n_estimators': 110, 'max_depth': 19, 'min_samples_split': 6, 'min_samples_leaf': 1}. Best is trial 58 with value: 0.5852149685697454.\u001B[0m\n",
      "\u001B[32m[I 2023-03-07 17:53:23,824]\u001B[0m Trial 76 finished with value: 0.5821840660804609 and parameters: {'n_estimators': 110, 'max_depth': 19, 'min_samples_split': 6, 'min_samples_leaf': 1}. Best is trial 58 with value: 0.5852149685697454.\u001B[0m\n",
      "\u001B[32m[I 2023-03-07 17:53:23,978]\u001B[0m Trial 77 finished with value: 0.5779818175176228 and parameters: {'n_estimators': 110, 'max_depth': 16, 'min_samples_split': 6, 'min_samples_leaf': 1}. Best is trial 58 with value: 0.5852149685697454.\u001B[0m\n",
      "\u001B[32m[I 2023-03-07 17:53:34,044]\u001B[0m Trial 80 finished with value: 0.5762255088074595 and parameters: {'n_estimators': 80, 'max_depth': 14, 'min_samples_split': 6, 'min_samples_leaf': 1}. Best is trial 58 with value: 0.5852149685697454.\u001B[0m\n",
      "\u001B[32m[I 2023-03-07 17:53:34,279]\u001B[0m Trial 79 finished with value: 0.5811113545604385 and parameters: {'n_estimators': 80, 'max_depth': 16, 'min_samples_split': 6, 'min_samples_leaf': 1}. Best is trial 58 with value: 0.5852149685697454.\u001B[0m\n",
      "\u001B[32m[I 2023-03-07 17:53:34,724]\u001B[0m Trial 81 finished with value: 0.5811113545604385 and parameters: {'n_estimators': 80, 'max_depth': 16, 'min_samples_split': 6, 'min_samples_leaf': 1}. Best is trial 58 with value: 0.5852149685697454.\u001B[0m\n",
      "\u001B[32m[I 2023-03-07 17:53:34,860]\u001B[0m Trial 82 finished with value: 0.5811113545604385 and parameters: {'n_estimators': 80, 'max_depth': 16, 'min_samples_split': 6, 'min_samples_leaf': 1}. Best is trial 58 with value: 0.5852149685697454.\u001B[0m\n",
      "\u001B[32m[I 2023-03-07 17:53:34,977]\u001B[0m Trial 83 finished with value: 0.5811113545604385 and parameters: {'n_estimators': 80, 'max_depth': 16, 'min_samples_split': 6, 'min_samples_leaf': 1}. Best is trial 58 with value: 0.5852149685697454.\u001B[0m\n",
      "\u001B[32m[I 2023-03-07 17:53:35,029]\u001B[0m Trial 84 finished with value: 0.5811113545604385 and parameters: {'n_estimators': 80, 'max_depth': 16, 'min_samples_split': 6, 'min_samples_leaf': 1}. Best is trial 58 with value: 0.5852149685697454.\u001B[0m\n",
      "\u001B[32m[I 2023-03-07 17:53:36,023]\u001B[0m Trial 85 finished with value: 0.5811113545604385 and parameters: {'n_estimators': 80, 'max_depth': 16, 'min_samples_split': 6, 'min_samples_leaf': 1}. Best is trial 58 with value: 0.5852149685697454.\u001B[0m\n",
      "\u001B[32m[I 2023-03-07 17:53:36,977]\u001B[0m Trial 78 finished with value: 0.5779818175176228 and parameters: {'n_estimators': 110, 'max_depth': 16, 'min_samples_split': 6, 'min_samples_leaf': 1}. Best is trial 58 with value: 0.5852149685697454.\u001B[0m\n",
      "\u001B[32m[I 2023-03-07 17:53:37,903]\u001B[0m Trial 86 finished with value: 0.5811113545604385 and parameters: {'n_estimators': 80, 'max_depth': 16, 'min_samples_split': 6, 'min_samples_leaf': 1}. Best is trial 58 with value: 0.5852149685697454.\u001B[0m\n",
      "\u001B[32m[I 2023-03-07 17:53:38,804]\u001B[0m Trial 87 finished with value: 0.5792818082286069 and parameters: {'n_estimators': 80, 'max_depth': 20, 'min_samples_split': 6, 'min_samples_leaf': 1}. Best is trial 58 with value: 0.5852149685697454.\u001B[0m\n",
      "\u001B[32m[I 2023-03-07 17:53:39,022]\u001B[0m Trial 89 finished with value: 0.5792818082286069 and parameters: {'n_estimators': 80, 'max_depth': 20, 'min_samples_split': 6, 'min_samples_leaf': 1}. Best is trial 58 with value: 0.5852149685697454.\u001B[0m\n",
      "\u001B[32m[I 2023-03-07 17:53:42,081]\u001B[0m Trial 88 finished with value: 0.5841206015162552 and parameters: {'n_estimators': 100, 'max_depth': 20, 'min_samples_split': 6, 'min_samples_leaf': 1}. Best is trial 58 with value: 0.5852149685697454.\u001B[0m\n",
      "\u001B[32m[I 2023-03-07 17:53:43,411]\u001B[0m Trial 94 finished with value: 0.0 and parameters: {'n_estimators': 100, 'max_depth': 1, 'min_samples_split': 6, 'min_samples_leaf': 1}. Best is trial 58 with value: 0.5852149685697454.\u001B[0m\n",
      "\u001B[32m[I 2023-03-07 17:53:45,324]\u001B[0m Trial 97 finished with value: 0.0 and parameters: {'n_estimators': 100, 'max_depth': 1, 'min_samples_split': 6, 'min_samples_leaf': 1}. Best is trial 58 with value: 0.5852149685697454.\u001B[0m\n",
      "\u001B[32m[I 2023-03-07 17:53:48,532]\u001B[0m Trial 93 finished with value: 0.5811113545604385 and parameters: {'n_estimators': 80, 'max_depth': 16, 'min_samples_split': 6, 'min_samples_leaf': 1}. Best is trial 58 with value: 0.5852149685697454.\u001B[0m\n",
      "\u001B[32m[I 2023-03-07 17:53:49,904]\u001B[0m Trial 101 finished with value: 0.0 and parameters: {'n_estimators': 100, 'max_depth': 1, 'min_samples_split': 6, 'min_samples_leaf': 2}. Best is trial 58 with value: 0.5852149685697454.\u001B[0m\n",
      "\u001B[32m[I 2023-03-07 17:53:50,870]\u001B[0m Trial 90 finished with value: 0.5841206015162552 and parameters: {'n_estimators': 100, 'max_depth': 20, 'min_samples_split': 6, 'min_samples_leaf': 1}. Best is trial 58 with value: 0.5852149685697454.\u001B[0m\n",
      "\u001B[32m[I 2023-03-07 17:53:51,402]\u001B[0m Trial 95 finished with value: 0.5755712777170676 and parameters: {'n_estimators': 100, 'max_depth': 15, 'min_samples_split': 6, 'min_samples_leaf': 1}. Best is trial 58 with value: 0.5852149685697454.\u001B[0m\n",
      "\u001B[32m[I 2023-03-07 17:53:51,483]\u001B[0m Trial 92 finished with value: 0.5784523572367518 and parameters: {'n_estimators': 100, 'max_depth': 16, 'min_samples_split': 6, 'min_samples_leaf': 1}. Best is trial 58 with value: 0.5852149685697454.\u001B[0m\n",
      "\u001B[32m[I 2023-03-07 17:53:52,338]\u001B[0m Trial 96 finished with value: 0.5755712777170676 and parameters: {'n_estimators': 100, 'max_depth': 15, 'min_samples_split': 6, 'min_samples_leaf': 1}. Best is trial 58 with value: 0.5852149685697454.\u001B[0m\n",
      "\u001B[32m[I 2023-03-07 17:53:54,307]\u001B[0m Trial 98 finished with value: 0.5841206015162552 and parameters: {'n_estimators': 100, 'max_depth': 20, 'min_samples_split': 6, 'min_samples_leaf': 1}. Best is trial 58 with value: 0.5852149685697454.\u001B[0m\n",
      "\u001B[32m[I 2023-03-07 17:53:54,478]\u001B[0m Trial 100 finished with value: 0.5799113590522338 and parameters: {'n_estimators': 100, 'max_depth': 15, 'min_samples_split': 6, 'min_samples_leaf': 2}. Best is trial 58 with value: 0.5852149685697454.\u001B[0m\n",
      "\u001B[32m[I 2023-03-07 17:53:54,743]\u001B[0m Trial 99 finished with value: 0.5755712777170676 and parameters: {'n_estimators': 100, 'max_depth': 15, 'min_samples_split': 6, 'min_samples_leaf': 1}. Best is trial 58 with value: 0.5852149685697454.\u001B[0m\n",
      "\u001B[32m[I 2023-03-07 17:53:55,808]\u001B[0m Trial 91 finished with value: 0.5773690795636803 and parameters: {'n_estimators': 130, 'max_depth': 16, 'min_samples_split': 6, 'min_samples_leaf': 1}. Best is trial 58 with value: 0.5852149685697454.\u001B[0m\n",
      "\u001B[32m[I 2023-03-07 17:53:58,234]\u001B[0m Trial 102 finished with value: 0.5799113590522338 and parameters: {'n_estimators': 100, 'max_depth': 15, 'min_samples_split': 6, 'min_samples_leaf': 2}. Best is trial 58 with value: 0.5852149685697454.\u001B[0m\n",
      "\u001B[32m[I 2023-03-07 17:54:03,795]\u001B[0m Trial 103 finished with value: 0.5825395822704991 and parameters: {'n_estimators': 130, 'max_depth': 15, 'min_samples_split': 6, 'min_samples_leaf': 2}. Best is trial 58 with value: 0.5852149685697454.\u001B[0m\n",
      "\u001B[32m[I 2023-03-07 17:54:04,668]\u001B[0m Trial 109 finished with value: 0.5731755101428504 and parameters: {'n_estimators': 90, 'max_depth': 20, 'min_samples_split': 5, 'min_samples_leaf': 2}. Best is trial 58 with value: 0.5852149685697454.\u001B[0m\n",
      "\u001B[32m[I 2023-03-07 17:54:06,651]\u001B[0m Trial 104 finished with value: 0.5825395822704991 and parameters: {'n_estimators': 130, 'max_depth': 15, 'min_samples_split': 6, 'min_samples_leaf': 2}. Best is trial 58 with value: 0.5852149685697454.\u001B[0m\n",
      "\u001B[32m[I 2023-03-07 17:54:08,159]\u001B[0m Trial 105 finished with value: 0.5738934380570238 and parameters: {'n_estimators': 130, 'max_depth': 20, 'min_samples_split': 6, 'min_samples_leaf': 2}. Best is trial 58 with value: 0.5852149685697454.\u001B[0m\n",
      "\u001B[32m[I 2023-03-07 17:54:08,367]\u001B[0m Trial 113 finished with value: 0.5731755101428504 and parameters: {'n_estimators': 90, 'max_depth': 20, 'min_samples_split': 5, 'min_samples_leaf': 2}. Best is trial 58 with value: 0.5852149685697454.\u001B[0m\n",
      "\u001B[32m[I 2023-03-07 17:54:09,279]\u001B[0m Trial 106 finished with value: 0.5738934380570238 and parameters: {'n_estimators': 130, 'max_depth': 20, 'min_samples_split': 6, 'min_samples_leaf': 2}. Best is trial 58 with value: 0.5852149685697454.\u001B[0m\n",
      "\u001B[32m[I 2023-03-07 17:54:09,589]\u001B[0m Trial 107 finished with value: 0.5738934380570238 and parameters: {'n_estimators': 130, 'max_depth': 20, 'min_samples_split': 6, 'min_samples_leaf': 2}. Best is trial 58 with value: 0.5852149685697454.\u001B[0m\n",
      "\u001B[32m[I 2023-03-07 17:54:09,788]\u001B[0m Trial 108 finished with value: 0.5738934380570238 and parameters: {'n_estimators': 130, 'max_depth': 20, 'min_samples_split': 6, 'min_samples_leaf': 2}. Best is trial 58 with value: 0.5852149685697454.\u001B[0m\n",
      "\u001B[32m[I 2023-03-07 17:54:10,806]\u001B[0m Trial 114 finished with value: 0.5731755101428504 and parameters: {'n_estimators': 90, 'max_depth': 20, 'min_samples_split': 5, 'min_samples_leaf': 2}. Best is trial 58 with value: 0.5852149685697454.\u001B[0m\n",
      "\u001B[32m[I 2023-03-07 17:54:12,488]\u001B[0m Trial 111 finished with value: 0.571839698938571 and parameters: {'n_estimators': 130, 'max_depth': 20, 'min_samples_split': 2, 'min_samples_leaf': 2}. Best is trial 58 with value: 0.5852149685697454.\u001B[0m\n",
      "\u001B[32m[I 2023-03-07 17:54:12,533]\u001B[0m Trial 110 finished with value: 0.5768839508673331 and parameters: {'n_estimators': 130, 'max_depth': 20, 'min_samples_split': 5, 'min_samples_leaf': 2}. Best is trial 58 with value: 0.5852149685697454.\u001B[0m\n",
      "\u001B[32m[I 2023-03-07 17:54:13,052]\u001B[0m Trial 112 finished with value: 0.5768839508673331 and parameters: {'n_estimators': 130, 'max_depth': 20, 'min_samples_split': 5, 'min_samples_leaf': 2}. Best is trial 58 with value: 0.5852149685697454.\u001B[0m\n",
      "\u001B[32m[I 2023-03-07 17:54:21,926]\u001B[0m Trial 116 finished with value: 0.5626214182152027 and parameters: {'n_estimators': 130, 'max_depth': 20, 'min_samples_split': 5, 'min_samples_leaf': 10}. Best is trial 58 with value: 0.5852149685697454.\u001B[0m\n",
      "\u001B[32m[I 2023-03-07 17:54:23,178]\u001B[0m Trial 115 finished with value: 0.5768839508673331 and parameters: {'n_estimators': 130, 'max_depth': 20, 'min_samples_split': 5, 'min_samples_leaf': 2}. Best is trial 58 with value: 0.5852149685697454.\u001B[0m\n",
      "\u001B[32m[I 2023-03-07 17:54:24,399]\u001B[0m Trial 119 finished with value: 0.5543012391052355 and parameters: {'n_estimators': 120, 'max_depth': 9, 'min_samples_split': 2, 'min_samples_leaf': 2}. Best is trial 58 with value: 0.5852149685697454.\u001B[0m\n",
      "\u001B[32m[I 2023-03-07 17:54:25,373]\u001B[0m Trial 120 finished with value: 0.5591010778694712 and parameters: {'n_estimators': 120, 'max_depth': 11, 'min_samples_split': 5, 'min_samples_leaf': 10}. Best is trial 58 with value: 0.5852149685697454.\u001B[0m\n",
      "\u001B[32m[I 2023-03-07 17:54:25,482]\u001B[0m Trial 121 finished with value: 0.5537229965228959 and parameters: {'n_estimators': 120, 'max_depth': 9, 'min_samples_split': 5, 'min_samples_leaf': 2}. Best is trial 58 with value: 0.5852149685697454.\u001B[0m\n",
      "\u001B[32m[I 2023-03-07 17:54:25,683]\u001B[0m Trial 118 finished with value: 0.5714290353050477 and parameters: {'n_estimators': 120, 'max_depth': 12, 'min_samples_split': 5, 'min_samples_leaf': 2}. Best is trial 58 with value: 0.5852149685697454.\u001B[0m\n",
      "\u001B[32m[I 2023-03-07 17:54:26,017]\u001B[0m Trial 117 finished with value: 0.5768839508673331 and parameters: {'n_estimators': 130, 'max_depth': 20, 'min_samples_split': 5, 'min_samples_leaf': 2}. Best is trial 58 with value: 0.5852149685697454.\u001B[0m\n",
      "\u001B[32m[I 2023-03-07 17:54:26,121]\u001B[0m Trial 122 finished with value: 0.5580273074211923 and parameters: {'n_estimators': 120, 'max_depth': 9, 'min_samples_split': 5, 'min_samples_leaf': 1}. Best is trial 58 with value: 0.5852149685697454.\u001B[0m\n",
      "\u001B[32m[I 2023-03-07 17:54:29,706]\u001B[0m Trial 123 finished with value: 0.5700834844467291 and parameters: {'n_estimators': 120, 'max_depth': 19, 'min_samples_split': 2, 'min_samples_leaf': 1}. Best is trial 58 with value: 0.5852149685697454.\u001B[0m\n",
      "\u001B[32m[I 2023-03-07 17:54:30,179]\u001B[0m Trial 126 finished with value: 0.5619553323891813 and parameters: {'n_estimators': 120, 'max_depth': 19, 'min_samples_split': 7, 'min_samples_leaf': 10}. Best is trial 58 with value: 0.5852149685697454.\u001B[0m\n",
      "\u001B[32m[I 2023-03-07 17:54:31,182]\u001B[0m Trial 124 finished with value: 0.577366203482172 and parameters: {'n_estimators': 120, 'max_depth': 19, 'min_samples_split': 7, 'min_samples_leaf': 1}. Best is trial 58 with value: 0.5852149685697454.\u001B[0m\n",
      "\u001B[32m[I 2023-03-07 17:54:31,418]\u001B[0m Trial 125 finished with value: 0.577366203482172 and parameters: {'n_estimators': 120, 'max_depth': 19, 'min_samples_split': 7, 'min_samples_leaf': 1}. Best is trial 58 with value: 0.5852149685697454.\u001B[0m\n",
      "\u001B[32m[I 2023-03-07 17:54:40,075]\u001B[0m Trial 129 finished with value: 0.5627273285030712 and parameters: {'n_estimators': 110, 'max_depth': 12, 'min_samples_split': 7, 'min_samples_leaf': 9}. Best is trial 58 with value: 0.5852149685697454.\u001B[0m\n",
      "\u001B[32m[I 2023-03-07 17:54:40,133]\u001B[0m Trial 127 finished with value: 0.5708446294884923 and parameters: {'n_estimators': 120, 'max_depth': 12, 'min_samples_split': 7, 'min_samples_leaf': 1}. Best is trial 58 with value: 0.5852149685697454.\u001B[0m\n",
      "\u001B[32m[I 2023-03-07 17:54:41,470]\u001B[0m Trial 128 finished with value: 0.5708446294884923 and parameters: {'n_estimators': 120, 'max_depth': 12, 'min_samples_split': 7, 'min_samples_leaf': 1}. Best is trial 58 with value: 0.5852149685697454.\u001B[0m\n",
      "\u001B[32m[I 2023-03-07 17:54:42,200]\u001B[0m Trial 130 finished with value: 0.5724282405630845 and parameters: {'n_estimators': 110, 'max_depth': 12, 'min_samples_split': 7, 'min_samples_leaf': 1}. Best is trial 58 with value: 0.5852149685697454.\u001B[0m\n",
      "\u001B[32m[I 2023-03-07 17:54:43,146]\u001B[0m Trial 131 finished with value: 0.5781145850601149 and parameters: {'n_estimators': 110, 'max_depth': 19, 'min_samples_split': 7, 'min_samples_leaf': 1}. Best is trial 58 with value: 0.5852149685697454.\u001B[0m\n",
      "\u001B[32m[I 2023-03-07 17:54:43,659]\u001B[0m Trial 132 finished with value: 0.5821840660804609 and parameters: {'n_estimators': 110, 'max_depth': 19, 'min_samples_split': 6, 'min_samples_leaf': 1}. Best is trial 58 with value: 0.5852149685697454.\u001B[0m\n",
      "\u001B[32m[I 2023-03-07 17:54:43,993]\u001B[0m Trial 133 finished with value: 0.5821840660804609 and parameters: {'n_estimators': 110, 'max_depth': 19, 'min_samples_split': 6, 'min_samples_leaf': 1}. Best is trial 58 with value: 0.5852149685697454.\u001B[0m\n",
      "\u001B[32m[I 2023-03-07 17:54:44,225]\u001B[0m Trial 134 finished with value: 0.5821840660804609 and parameters: {'n_estimators': 110, 'max_depth': 19, 'min_samples_split': 6, 'min_samples_leaf': 1}. Best is trial 58 with value: 0.5852149685697454.\u001B[0m\n",
      "\u001B[32m[I 2023-03-07 17:54:47,450]\u001B[0m Trial 135 finished with value: 0.5781145850601149 and parameters: {'n_estimators': 110, 'max_depth': 19, 'min_samples_split': 7, 'min_samples_leaf': 1}. Best is trial 58 with value: 0.5852149685697454.\u001B[0m\n",
      "\u001B[32m[I 2023-03-07 17:54:48,104]\u001B[0m Trial 136 finished with value: 0.5821840660804609 and parameters: {'n_estimators': 110, 'max_depth': 19, 'min_samples_split': 6, 'min_samples_leaf': 1}. Best is trial 58 with value: 0.5852149685697454.\u001B[0m\n",
      "\u001B[32m[I 2023-03-07 17:54:48,310]\u001B[0m Trial 137 finished with value: 0.5750346864603312 and parameters: {'n_estimators': 110, 'max_depth': 14, 'min_samples_split': 6, 'min_samples_leaf': 1}. Best is trial 58 with value: 0.5852149685697454.\u001B[0m\n",
      "\u001B[32m[I 2023-03-07 17:54:49,260]\u001B[0m Trial 138 finished with value: 0.5756829801895 and parameters: {'n_estimators': 110, 'max_depth': 18, 'min_samples_split': 6, 'min_samples_leaf': 1}. Best is trial 58 with value: 0.5852149685697454.\u001B[0m\n",
      "\u001B[32m[I 2023-03-07 17:54:53,603]\u001B[0m Trial 142 finished with value: 0.5732884602099789 and parameters: {'n_estimators': 70, 'max_depth': 18, 'min_samples_split': 6, 'min_samples_leaf': 1}. Best is trial 58 with value: 0.5852149685697454.\u001B[0m\n",
      "\u001B[32m[I 2023-03-07 17:54:53,661]\u001B[0m Trial 141 finished with value: 0.48056078729781415 and parameters: {'n_estimators': 110, 'max_depth': 5, 'min_samples_split': 6, 'min_samples_leaf': 1}. Best is trial 58 with value: 0.5852149685697454.\u001B[0m\n",
      "\u001B[32m[I 2023-03-07 17:54:54,031]\u001B[0m Trial 143 finished with value: 0.5702668892206211 and parameters: {'n_estimators': 70, 'max_depth': 14, 'min_samples_split': 6, 'min_samples_leaf': 1}. Best is trial 58 with value: 0.5852149685697454.\u001B[0m\n",
      "\u001B[32m[I 2023-03-07 17:54:56,392]\u001B[0m Trial 144 finished with value: 0.525274815442583 and parameters: {'n_estimators': 110, 'max_depth': 6, 'min_samples_split': 6, 'min_samples_leaf': 1}. Best is trial 58 with value: 0.5852149685697454.\u001B[0m\n",
      "\u001B[32m[I 2023-03-07 17:54:57,260]\u001B[0m Trial 140 finished with value: 0.5756829801895 and parameters: {'n_estimators': 110, 'max_depth': 18, 'min_samples_split': 6, 'min_samples_leaf': 1}. Best is trial 58 with value: 0.5852149685697454.\u001B[0m\n",
      "\u001B[32m[I 2023-03-07 17:54:57,594]\u001B[0m Trial 139 finished with value: 0.5756829801895 and parameters: {'n_estimators': 110, 'max_depth': 18, 'min_samples_split': 6, 'min_samples_leaf': 1}. Best is trial 58 with value: 0.5852149685697454.\u001B[0m\n",
      "\u001B[32m[I 2023-03-07 17:55:01,150]\u001B[0m Trial 145 finished with value: 0.5756829801895 and parameters: {'n_estimators': 110, 'max_depth': 18, 'min_samples_split': 6, 'min_samples_leaf': 1}. Best is trial 58 with value: 0.5852149685697454.\u001B[0m\n",
      "\u001B[32m[I 2023-03-07 17:55:01,434]\u001B[0m Trial 146 finished with value: 0.5756829801895 and parameters: {'n_estimators': 110, 'max_depth': 18, 'min_samples_split': 6, 'min_samples_leaf': 1}. Best is trial 58 with value: 0.5852149685697454.\u001B[0m\n",
      "\u001B[32m[I 2023-03-07 17:55:06,917]\u001B[0m Trial 148 finished with value: 0.5663741184205959 and parameters: {'n_estimators': 140, 'max_depth': 18, 'min_samples_split': 6, 'min_samples_leaf': 7}. Best is trial 58 with value: 0.5852149685697454.\u001B[0m\n",
      "\u001B[32m[I 2023-03-07 17:55:07,963]\u001B[0m Trial 147 finished with value: 0.5751951960642621 and parameters: {'n_estimators': 140, 'max_depth': 18, 'min_samples_split': 6, 'min_samples_leaf': 1}. Best is trial 58 with value: 0.5852149685697454.\u001B[0m\n",
      "\u001B[32m[I 2023-03-07 17:55:08,465]\u001B[0m Trial 149 finished with value: 0.5751951960642621 and parameters: {'n_estimators': 140, 'max_depth': 18, 'min_samples_split': 6, 'min_samples_leaf': 1}. Best is trial 58 with value: 0.5852149685697454.\u001B[0m\n",
      "\u001B[32m[I 2023-03-07 17:55:12,265]\u001B[0m Trial 150 finished with value: 0.5757395580111965 and parameters: {'n_estimators': 160, 'max_depth': 18, 'min_samples_split': 6, 'min_samples_leaf': 1}. Best is trial 58 with value: 0.5852149685697454.\u001B[0m\n",
      "\u001B[32m[I 2023-03-07 17:55:12,790]\u001B[0m Trial 152 finished with value: 0.5822147557988938 and parameters: {'n_estimators': 140, 'max_depth': 19, 'min_samples_split': 6, 'min_samples_leaf': 1}. Best is trial 58 with value: 0.5852149685697454.\u001B[0m\n",
      "\u001B[32m[I 2023-03-07 17:55:13,310]\u001B[0m Trial 153 finished with value: 0.5822147557988938 and parameters: {'n_estimators': 140, 'max_depth': 19, 'min_samples_split': 6, 'min_samples_leaf': 1}. Best is trial 58 with value: 0.5852149685697454.\u001B[0m\n",
      "\u001B[32m[I 2023-03-07 17:55:14,595]\u001B[0m Trial 157 finished with value: 0.5821902139362456 and parameters: {'n_estimators': 100, 'max_depth': 19, 'min_samples_split': 6, 'min_samples_leaf': 1}. Best is trial 58 with value: 0.5852149685697454.\u001B[0m\n",
      "\u001B[32m[I 2023-03-07 17:55:15,275]\u001B[0m Trial 151 finished with value: 0.5757395580111965 and parameters: {'n_estimators': 160, 'max_depth': 18, 'min_samples_split': 6, 'min_samples_leaf': 1}. Best is trial 58 with value: 0.5852149685697454.\u001B[0m\n",
      "\u001B[32m[I 2023-03-07 17:55:15,412]\u001B[0m Trial 154 finished with value: 0.5822147557988938 and parameters: {'n_estimators': 140, 'max_depth': 19, 'min_samples_split': 6, 'min_samples_leaf': 1}. Best is trial 58 with value: 0.5852149685697454.\u001B[0m\n",
      "\u001B[32m[I 2023-03-07 17:55:16,304]\u001B[0m Trial 155 finished with value: 0.5822147557988938 and parameters: {'n_estimators': 140, 'max_depth': 19, 'min_samples_split': 6, 'min_samples_leaf': 1}. Best is trial 58 with value: 0.5852149685697454.\u001B[0m\n",
      "\u001B[32m[I 2023-03-07 17:55:16,857]\u001B[0m Trial 156 finished with value: 0.5822147557988938 and parameters: {'n_estimators': 140, 'max_depth': 19, 'min_samples_split': 6, 'min_samples_leaf': 1}. Best is trial 58 with value: 0.5852149685697454.\u001B[0m\n",
      "\u001B[32m[I 2023-03-07 17:55:21,344]\u001B[0m Trial 160 finished with value: 0.5821902139362456 and parameters: {'n_estimators': 100, 'max_depth': 19, 'min_samples_split': 6, 'min_samples_leaf': 1}. Best is trial 58 with value: 0.5852149685697454.\u001B[0m\n",
      "\u001B[32m[I 2023-03-07 17:55:21,822]\u001B[0m Trial 161 finished with value: 0.5821902139362456 and parameters: {'n_estimators': 100, 'max_depth': 19, 'min_samples_split': 6, 'min_samples_leaf': 1}. Best is trial 58 with value: 0.5852149685697454.\u001B[0m\n",
      "\u001B[32m[I 2023-03-07 17:55:22,574]\u001B[0m Trial 158 finished with value: 0.5832731944801741 and parameters: {'n_estimators': 160, 'max_depth': 19, 'min_samples_split': 6, 'min_samples_leaf': 1}. Best is trial 58 with value: 0.5852149685697454.\u001B[0m\n",
      "\u001B[32m[I 2023-03-07 17:55:24,375]\u001B[0m Trial 162 finished with value: 0.5789584432592371 and parameters: {'n_estimators': 90, 'max_depth': 19, 'min_samples_split': 6, 'min_samples_leaf': 1}. Best is trial 58 with value: 0.5852149685697454.\u001B[0m\n",
      "\u001B[32m[I 2023-03-07 17:55:28,141]\u001B[0m Trial 159 finished with value: 0.5832731944801741 and parameters: {'n_estimators': 160, 'max_depth': 19, 'min_samples_split': 6, 'min_samples_leaf': 1}. Best is trial 58 with value: 0.5852149685697454.\u001B[0m\n",
      "\u001B[32m[I 2023-03-07 17:55:32,760]\u001B[0m Trial 163 finished with value: 0.5837825685994792 and parameters: {'n_estimators': 150, 'max_depth': 19, 'min_samples_split': 6, 'min_samples_leaf': 1}. Best is trial 58 with value: 0.5852149685697454.\u001B[0m\n",
      "\u001B[32m[I 2023-03-07 17:55:33,119]\u001B[0m Trial 164 finished with value: 0.5837825685994792 and parameters: {'n_estimators': 150, 'max_depth': 19, 'min_samples_split': 6, 'min_samples_leaf': 1}. Best is trial 58 with value: 0.5852149685697454.\u001B[0m\n",
      "\u001B[32m[I 2023-03-07 17:55:34,303]\u001B[0m Trial 165 finished with value: 0.5837825685994792 and parameters: {'n_estimators': 150, 'max_depth': 19, 'min_samples_split': 6, 'min_samples_leaf': 1}. Best is trial 58 with value: 0.5852149685697454.\u001B[0m\n",
      "\u001B[32m[I 2023-03-07 17:55:34,687]\u001B[0m Trial 168 finished with value: 0.5822147557988938 and parameters: {'n_estimators': 140, 'max_depth': 19, 'min_samples_split': 6, 'min_samples_leaf': 1}. Best is trial 58 with value: 0.5852149685697454.\u001B[0m\n",
      "\u001B[32m[I 2023-03-07 17:55:34,873]\u001B[0m Trial 166 finished with value: 0.5837825685994792 and parameters: {'n_estimators': 150, 'max_depth': 19, 'min_samples_split': 6, 'min_samples_leaf': 1}. Best is trial 58 with value: 0.5852149685697454.\u001B[0m\n",
      "\u001B[32m[I 2023-03-07 17:55:35,190]\u001B[0m Trial 167 finished with value: 0.5837825685994792 and parameters: {'n_estimators': 150, 'max_depth': 19, 'min_samples_split': 6, 'min_samples_leaf': 1}. Best is trial 58 with value: 0.5852149685697454.\u001B[0m\n",
      "\u001B[32m[I 2023-03-07 17:55:36,521]\u001B[0m Trial 169 finished with value: 0.5837825685994792 and parameters: {'n_estimators': 150, 'max_depth': 19, 'min_samples_split': 6, 'min_samples_leaf': 1}. Best is trial 58 with value: 0.5852149685697454.\u001B[0m\n",
      "\u001B[32m[I 2023-03-07 17:55:41,013]\u001B[0m Trial 170 finished with value: 0.5837825685994792 and parameters: {'n_estimators': 150, 'max_depth': 19, 'min_samples_split': 6, 'min_samples_leaf': 1}. Best is trial 58 with value: 0.5852149685697454.\u001B[0m\n",
      "\u001B[32m[I 2023-03-07 17:55:41,329]\u001B[0m Trial 171 finished with value: 0.5837825685994792 and parameters: {'n_estimators': 150, 'max_depth': 19, 'min_samples_split': 6, 'min_samples_leaf': 1}. Best is trial 58 with value: 0.5852149685697454.\u001B[0m\n",
      "\u001B[32m[I 2023-03-07 17:55:42,204]\u001B[0m Trial 172 finished with value: 0.5837825685994792 and parameters: {'n_estimators': 150, 'max_depth': 19, 'min_samples_split': 6, 'min_samples_leaf': 1}. Best is trial 58 with value: 0.5852149685697454.\u001B[0m\n",
      "\u001B[32m[I 2023-03-07 17:55:43,899]\u001B[0m Trial 173 finished with value: 0.5837825685994792 and parameters: {'n_estimators': 150, 'max_depth': 19, 'min_samples_split': 6, 'min_samples_leaf': 1}. Best is trial 58 with value: 0.5852149685697454.\u001B[0m\n",
      "\u001B[32m[I 2023-03-07 17:55:46,450]\u001B[0m Trial 174 finished with value: 0.5813059491755681 and parameters: {'n_estimators': 140, 'max_depth': 20, 'min_samples_split': 6, 'min_samples_leaf': 1}. Best is trial 58 with value: 0.5852149685697454.\u001B[0m\n",
      "\u001B[32m[I 2023-03-07 17:55:51,756]\u001B[0m Trial 175 finished with value: 0.5836642439439925 and parameters: {'n_estimators': 150, 'max_depth': 20, 'min_samples_split': 6, 'min_samples_leaf': 1}. Best is trial 58 with value: 0.5852149685697454.\u001B[0m\n",
      "\u001B[32m[I 2023-03-07 17:55:52,297]\u001B[0m Trial 176 finished with value: 0.5836642439439925 and parameters: {'n_estimators': 150, 'max_depth': 20, 'min_samples_split': 6, 'min_samples_leaf': 1}. Best is trial 58 with value: 0.5852149685697454.\u001B[0m\n",
      "\u001B[32m[I 2023-03-07 17:55:53,213]\u001B[0m Trial 177 finished with value: 0.5836642439439925 and parameters: {'n_estimators': 150, 'max_depth': 20, 'min_samples_split': 6, 'min_samples_leaf': 1}. Best is trial 58 with value: 0.5852149685697454.\u001B[0m\n",
      "\u001B[32m[I 2023-03-07 17:55:53,416]\u001B[0m Trial 179 finished with value: 0.5748856591754677 and parameters: {'n_estimators': 150, 'max_depth': 20, 'min_samples_split': 6, 'min_samples_leaf': 2}. Best is trial 58 with value: 0.5852149685697454.\u001B[0m\n",
      "\u001B[32m[I 2023-03-07 17:55:53,793]\u001B[0m Trial 178 finished with value: 0.5836642439439925 and parameters: {'n_estimators': 150, 'max_depth': 20, 'min_samples_split': 6, 'min_samples_leaf': 1}. Best is trial 58 with value: 0.5852149685697454.\u001B[0m\n",
      "\u001B[32m[I 2023-03-07 17:55:53,834]\u001B[0m Trial 180 finished with value: 0.5748856591754677 and parameters: {'n_estimators': 150, 'max_depth': 20, 'min_samples_split': 6, 'min_samples_leaf': 2}. Best is trial 58 with value: 0.5852149685697454.\u001B[0m\n",
      "\u001B[32m[I 2023-03-07 17:55:55,270]\u001B[0m Trial 181 finished with value: 0.5748856591754677 and parameters: {'n_estimators': 150, 'max_depth': 20, 'min_samples_split': 6, 'min_samples_leaf': 2}. Best is trial 58 with value: 0.5852149685697454.\u001B[0m\n",
      "\u001B[32m[I 2023-03-07 17:55:59,809]\u001B[0m Trial 182 finished with value: 0.5836642439439925 and parameters: {'n_estimators': 150, 'max_depth': 20, 'min_samples_split': 6, 'min_samples_leaf': 1}. Best is trial 58 with value: 0.5852149685697454.\u001B[0m\n",
      "\u001B[32m[I 2023-03-07 17:55:59,842]\u001B[0m Trial 183 finished with value: 0.5748856591754677 and parameters: {'n_estimators': 150, 'max_depth': 20, 'min_samples_split': 6, 'min_samples_leaf': 2}. Best is trial 58 with value: 0.5852149685697454.\u001B[0m\n",
      "\u001B[32m[I 2023-03-07 17:56:00,948]\u001B[0m Trial 184 finished with value: 0.5748856591754677 and parameters: {'n_estimators': 150, 'max_depth': 20, 'min_samples_split': 6, 'min_samples_leaf': 2}. Best is trial 58 with value: 0.5852149685697454.\u001B[0m\n",
      "\u001B[32m[I 2023-03-07 17:56:02,644]\u001B[0m Trial 185 finished with value: 0.5748856591754677 and parameters: {'n_estimators': 150, 'max_depth': 20, 'min_samples_split': 6, 'min_samples_leaf': 2}. Best is trial 58 with value: 0.5852149685697454.\u001B[0m\n",
      "\u001B[32m[I 2023-03-07 17:56:04,033]\u001B[0m Trial 186 finished with value: 0.5694639887289178 and parameters: {'n_estimators': 150, 'max_depth': 20, 'min_samples_split': 6, 'min_samples_leaf': 4}. Best is trial 58 with value: 0.5852149685697454.\u001B[0m\n",
      "\u001B[32m[I 2023-03-07 17:56:10,568]\u001B[0m Trial 187 finished with value: 0.5836642439439925 and parameters: {'n_estimators': 150, 'max_depth': 20, 'min_samples_split': 6, 'min_samples_leaf': 1}. Best is trial 58 with value: 0.5852149685697454.\u001B[0m\n",
      "\u001B[32m[I 2023-03-07 17:56:11,292]\u001B[0m Trial 188 finished with value: 0.5836642439439925 and parameters: {'n_estimators': 150, 'max_depth': 20, 'min_samples_split': 6, 'min_samples_leaf': 1}. Best is trial 58 with value: 0.5852149685697454.\u001B[0m\n",
      "\u001B[32m[I 2023-03-07 17:56:12,058]\u001B[0m Trial 190 finished with value: 0.5836642439439925 and parameters: {'n_estimators': 150, 'max_depth': 20, 'min_samples_split': 6, 'min_samples_leaf': 1}. Best is trial 58 with value: 0.5852149685697454.\u001B[0m\n",
      "\u001B[32m[I 2023-03-07 17:56:12,073]\u001B[0m Trial 189 finished with value: 0.5836642439439925 and parameters: {'n_estimators': 150, 'max_depth': 20, 'min_samples_split': 6, 'min_samples_leaf': 1}. Best is trial 58 with value: 0.5852149685697454.\u001B[0m\n",
      "\u001B[32m[I 2023-03-07 17:56:12,269]\u001B[0m Trial 191 finished with value: 0.5836642439439925 and parameters: {'n_estimators': 150, 'max_depth': 20, 'min_samples_split': 6, 'min_samples_leaf': 1}. Best is trial 58 with value: 0.5852149685697454.\u001B[0m\n",
      "\u001B[32m[I 2023-03-07 17:56:12,503]\u001B[0m Trial 192 finished with value: 0.5836642439439925 and parameters: {'n_estimators': 150, 'max_depth': 20, 'min_samples_split': 6, 'min_samples_leaf': 1}. Best is trial 58 with value: 0.5852149685697454.\u001B[0m\n",
      "\u001B[32m[I 2023-03-07 17:56:14,820]\u001B[0m Trial 193 finished with value: 0.5846832028303515 and parameters: {'n_estimators': 170, 'max_depth': 20, 'min_samples_split': 6, 'min_samples_leaf': 1}. Best is trial 58 with value: 0.5852149685697454.\u001B[0m\n",
      "\u001B[32m[I 2023-03-07 17:56:15,721]\u001B[0m Trial 194 finished with value: 0.5836642439439925 and parameters: {'n_estimators': 150, 'max_depth': 20, 'min_samples_split': 6, 'min_samples_leaf': 1}. Best is trial 58 with value: 0.5852149685697454.\u001B[0m\n",
      "\u001B[32m[I 2023-03-07 17:56:16,800]\u001B[0m Trial 195 finished with value: 0.5846832028303515 and parameters: {'n_estimators': 170, 'max_depth': 20, 'min_samples_split': 6, 'min_samples_leaf': 1}. Best is trial 58 with value: 0.5852149685697454.\u001B[0m\n",
      "\u001B[32m[I 2023-03-07 17:56:17,087]\u001B[0m Trial 196 finished with value: 0.5846832028303515 and parameters: {'n_estimators': 170, 'max_depth': 20, 'min_samples_split': 6, 'min_samples_leaf': 1}. Best is trial 58 with value: 0.5852149685697454.\u001B[0m\n",
      "\u001B[32m[I 2023-03-07 17:56:17,326]\u001B[0m Trial 197 finished with value: 0.580774144629518 and parameters: {'n_estimators': 160, 'max_depth': 20, 'min_samples_split': 6, 'min_samples_leaf': 1}. Best is trial 58 with value: 0.5852149685697454.\u001B[0m\n",
      "\u001B[32m[I 2023-03-07 17:56:17,729]\u001B[0m Trial 198 finished with value: 0.580774144629518 and parameters: {'n_estimators': 160, 'max_depth': 20, 'min_samples_split': 6, 'min_samples_leaf': 1}. Best is trial 58 with value: 0.5852149685697454.\u001B[0m\n",
      "\u001B[32m[I 2023-03-07 17:56:20,237]\u001B[0m Trial 199 finished with value: 0.5846832028303515 and parameters: {'n_estimators': 170, 'max_depth': 20, 'min_samples_split': 6, 'min_samples_leaf': 1}. Best is trial 58 with value: 0.5852149685697454.\u001B[0m\n"
     ]
    },
    {
     "name": "stdout",
     "output_type": "stream",
     "text": [
      "f1 = 0.5852149685697454\n",
      "AUC-ROC = 0.9901802872392282\n",
      "Оптимальные гиперпараметры: {'n_estimators': 60, 'max_depth': 16, 'min_samples_split': 7, 'min_samples_leaf': 2}\n"
     ]
    }
   ],
   "source": [
    "random_forest_model = RandomForestClassifier(random_state=RANDOM_STATE)\n",
    "random_forest_params = {\n",
    "    'n_estimators': optuna.distributions.IntDistribution(10, 200, step=10),\n",
    "    'max_depth': optuna.distributions.IntDistribution(1, 20),\n",
    "    'min_samples_split': optuna.distributions.IntDistribution(2, 10),\n",
    "    'min_samples_leaf': optuna.distributions.IntDistribution(1, 10)\n",
    "}\n",
    "\n",
    "optuna_search = optuna.integration.OptunaSearchCV(random_forest_model, random_forest_params, scoring='f1', n_trials=OPTUNA_N_TRIALS, timeout=OPTUNA_TIMEOUT, n_jobs=-1)\n",
    "optuna_search.fit(features_train, target_train)\n",
    "random_forest_model_disbalance = optuna_search.best_estimator_\n",
    "print(f'f1 = {optuna_search.best_score_}')\n",
    "print(f'AUC-ROC = {roc_auc(random_forest_model_disbalance, features_train, target_train)}')\n",
    "print(f'Оптимальные гиперпараметры: {optuna_search.best_params_}')"
   ]
  },
  {
   "cell_type": "markdown",
   "metadata": {},
   "source": [
    "#### Логистическая регрессия"
   ]
  },
  {
   "cell_type": "code",
   "execution_count": 19,
   "metadata": {},
   "outputs": [
    {
     "name": "stdout",
     "output_type": "stream",
     "text": [
      "Fitting 5 folds for each of 171 candidates, totalling 855 fits\n",
      "f1 = 0.31026307581536294\n",
      "AUC-ROC = 0.7637226340724428\n",
      "Оптимальные гиперпараметры: {'max_iter': 30, 'solver': 'liblinear'}\n"
     ]
    }
   ],
   "source": [
    "logistic_regression_model = LogisticRegression(random_state=RANDOM_STATE)\n",
    "logistic_regression_params = {\n",
    "    'solver': ['liblinear'],\n",
    "    'max_iter': range(30, 201)\n",
    "}\n",
    "\n",
    "grid = GridSearchCV(logistic_regression_model, logistic_regression_params, scoring='f1', n_jobs=-1, verbose=1)\n",
    "grid.fit(features_train, target_train)\n",
    "logistic_regression_model_disbalance = grid.best_estimator_\n",
    "print(f'f1 = {grid.best_score_}')\n",
    "print(f'AUC-ROC = {roc_auc(logistic_regression_model_disbalance, features_train, target_train)}')\n",
    "print(f'Оптимальные гиперпараметры: {grid.best_params_}')"
   ]
  },
  {
   "cell_type": "markdown",
   "metadata": {},
   "source": [
    "### Вывод\n",
    "На несбалансированных классах удалось достигнуть значения метрики f1 равного 0.586 при помощи модели случайного леса. Логистическая регрессия показала результат хуже, чем базовая модель, всегда предсказывающая 1. Остальные модели показали почти двухкратное увеличение метрики по сравнению с базовой.\n",
    "\n",
    "|           | Дерево решений                                                                   | Случайный лес                                                                                          | Логистическая регрессия                                 |\n",
    "|-----------|----------------------------------------------------------------------------------|--------------------------------------------------------------------------------------------------------|---------------------------------------------------------|\n",
    "| Дисбаланс | 0.566/0.877<br />{'max_depth': 7, 'min_samples_leaf': 2, 'min_samples_split': 8} | 0.586/0.998<br />{'n_estimators': 190, 'max_depth': 20, 'min_samples_split': 6, 'min_samples_leaf': 1} | 0.31/0.764<br />{'max_iter': 30, 'solver': 'liblinear'} |"
   ]
  },
  {
   "cell_type": "markdown",
   "metadata": {},
   "source": [
    "## Борьба с дисбалансом\n",
    "Воспользуемся несколькими техниками борьбы с дисбалансом - взвешивание классов, увеличение выборки, уменьшение выборки, дополнительно попробуем продвинутую технику увеличения выборки при помощи библиотеки imblearn."
   ]
  },
  {
   "cell_type": "markdown",
   "metadata": {},
   "source": [
    "### Взвешивание классов"
   ]
  },
  {
   "cell_type": "markdown",
   "metadata": {},
   "source": [
    "#### Дерево решений"
   ]
  },
  {
   "cell_type": "code",
   "execution_count": 20,
   "metadata": {},
   "outputs": [
    {
     "name": "stdout",
     "output_type": "stream",
     "text": [
      "Fitting 5 folds for each of 1800 candidates, totalling 9000 fits\n",
      "f1 = 0.5732985834636511\n",
      "AUC-ROC = 0.8805969086101633\n",
      "Оптимальные гиперпараметры: {'max_depth': 7, 'min_samples_leaf': 6, 'min_samples_split': 2}\n"
     ]
    }
   ],
   "source": [
    "decision_tree_model = DecisionTreeClassifier(random_state=RANDOM_STATE, class_weight='balanced')\n",
    "grid = GridSearchCV(decision_tree_model, decision_tree_params, scoring='f1', n_jobs=-1, verbose=1)\n",
    "grid.fit(features_train, target_train)\n",
    "decision_tree_model_balance = grid.best_estimator_\n",
    "print(f'f1 = {grid.best_score_}')\n",
    "print(f'AUC-ROC = {roc_auc(decision_tree_model_balance, features_train, target_train)}')\n",
    "print(f'Оптимальные гиперпараметры: {grid.best_params_}')"
   ]
  },
  {
   "cell_type": "markdown",
   "metadata": {},
   "source": [
    "#### Случайный лес"
   ]
  },
  {
   "cell_type": "code",
   "execution_count": 21,
   "metadata": {},
   "outputs": [
    {
     "name": "stderr",
     "output_type": "stream",
     "text": [
      "/var/folders/m_/d5s2gnsx68l769b4nc3pxzrdn_qnjl/T/ipykernel_65750/2068437264.py:2: ExperimentalWarning: OptunaSearchCV is experimental (supported from v0.17.0). The interface can change in the future.\n",
      "  optuna_search = optuna.integration.OptunaSearchCV(random_forest_model, random_forest_params, scoring='f1', n_trials=200, timeout=300, n_jobs=-1)\n",
      "\u001B[32m[I 2023-03-07 17:56:57,399]\u001B[0m A new study created in memory with name: no-name-eb50fa41-6058-4b4f-9fb8-2bfd7ac88b8f\u001B[0m\n",
      "\u001B[32m[I 2023-03-07 17:56:58,897]\u001B[0m Trial 7 finished with value: 0.48870439130154664 and parameters: {'n_estimators': 10, 'max_depth': 1, 'min_samples_split': 4, 'min_samples_leaf': 6}. Best is trial 7 with value: 0.48870439130154664.\u001B[0m\n",
      "\u001B[32m[I 2023-03-07 17:57:05,592]\u001B[0m Trial 8 finished with value: 0.5755181412595504 and parameters: {'n_estimators': 70, 'max_depth': 4, 'min_samples_split': 6, 'min_samples_leaf': 6}. Best is trial 8 with value: 0.5755181412595504.\u001B[0m\n",
      "\u001B[32m[I 2023-03-07 17:57:09,219]\u001B[0m Trial 11 finished with value: 0.6187537628720485 and parameters: {'n_estimators': 80, 'max_depth': 16, 'min_samples_split': 3, 'min_samples_leaf': 9}. Best is trial 11 with value: 0.6187537628720485.\u001B[0m\n",
      "\u001B[32m[I 2023-03-07 17:57:09,601]\u001B[0m Trial 5 finished with value: 0.6159433607384608 and parameters: {'n_estimators': 80, 'max_depth': 19, 'min_samples_split': 2, 'min_samples_leaf': 7}. Best is trial 11 with value: 0.6187537628720485.\u001B[0m\n",
      "\u001B[32m[I 2023-03-07 17:57:10,479]\u001B[0m Trial 6 finished with value: 0.5992044233979581 and parameters: {'n_estimators': 100, 'max_depth': 7, 'min_samples_split': 7, 'min_samples_leaf': 4}. Best is trial 11 with value: 0.6187537628720485.\u001B[0m\n",
      "\u001B[32m[I 2023-03-07 17:57:10,777]\u001B[0m Trial 0 finished with value: 0.5579700513678416 and parameters: {'n_estimators': 150, 'max_depth': 2, 'min_samples_split': 10, 'min_samples_leaf': 4}. Best is trial 11 with value: 0.6187537628720485.\u001B[0m\n",
      "\u001B[32m[I 2023-03-07 17:57:12,629]\u001B[0m Trial 13 finished with value: 0.618248240483604 and parameters: {'n_estimators': 50, 'max_depth': 16, 'min_samples_split': 2, 'min_samples_leaf': 4}. Best is trial 11 with value: 0.6187537628720485.\u001B[0m\n",
      "\u001B[32m[I 2023-03-07 17:57:14,056]\u001B[0m Trial 9 finished with value: 0.6147358077917882 and parameters: {'n_estimators': 110, 'max_depth': 14, 'min_samples_split': 6, 'min_samples_leaf': 2}. Best is trial 11 with value: 0.6187537628720485.\u001B[0m\n",
      "\u001B[32m[I 2023-03-07 17:57:14,199]\u001B[0m Trial 12 finished with value: 0.6076564574118745 and parameters: {'n_estimators': 120, 'max_depth': 8, 'min_samples_split': 9, 'min_samples_leaf': 8}. Best is trial 11 with value: 0.6187537628720485.\u001B[0m\n",
      "\u001B[32m[I 2023-03-07 17:57:14,277]\u001B[0m Trial 1 finished with value: 0.6177624115914554 and parameters: {'n_estimators': 120, 'max_depth': 10, 'min_samples_split': 7, 'min_samples_leaf': 7}. Best is trial 11 with value: 0.6187537628720485.\u001B[0m\n",
      "\u001B[32m[I 2023-03-07 17:57:14,668]\u001B[0m Trial 14 finished with value: 0.6147295946006955 and parameters: {'n_estimators': 40, 'max_depth': 12, 'min_samples_split': 6, 'min_samples_leaf': 9}. Best is trial 11 with value: 0.6187537628720485.\u001B[0m\n",
      "\u001B[32m[I 2023-03-07 17:57:15,826]\u001B[0m Trial 2 finished with value: 0.6151786391473679 and parameters: {'n_estimators': 130, 'max_depth': 17, 'min_samples_split': 10, 'min_samples_leaf': 10}. Best is trial 11 with value: 0.6187537628720485.\u001B[0m\n",
      "\u001B[32m[I 2023-03-07 17:57:16,796]\u001B[0m Trial 4 finished with value: 0.6221348053742395 and parameters: {'n_estimators': 130, 'max_depth': 16, 'min_samples_split': 9, 'min_samples_leaf': 6}. Best is trial 4 with value: 0.6221348053742395.\u001B[0m\n",
      "\u001B[32m[I 2023-03-07 17:57:18,808]\u001B[0m Trial 20 finished with value: 0.5879899639183677 and parameters: {'n_estimators': 40, 'max_depth': 5, 'min_samples_split': 7, 'min_samples_leaf': 9}. Best is trial 4 with value: 0.6221348053742395.\u001B[0m\n",
      "\u001B[32m[I 2023-03-07 17:57:19,489]\u001B[0m Trial 3 finished with value: 0.6209252387034463 and parameters: {'n_estimators': 160, 'max_depth': 10, 'min_samples_split': 3, 'min_samples_leaf': 8}. Best is trial 4 with value: 0.6221348053742395.\u001B[0m\n",
      "\u001B[32m[I 2023-03-07 17:57:21,017]\u001B[0m Trial 10 finished with value: 0.6151228559064968 and parameters: {'n_estimators': 170, 'max_depth': 19, 'min_samples_split': 7, 'min_samples_leaf': 9}. Best is trial 4 with value: 0.6221348053742395.\u001B[0m\n",
      "\u001B[32m[I 2023-03-07 17:57:21,889]\u001B[0m Trial 18 finished with value: 0.6174481591041283 and parameters: {'n_estimators': 70, 'max_depth': 12, 'min_samples_split': 9, 'min_samples_leaf': 10}. Best is trial 4 with value: 0.6221348053742395.\u001B[0m\n",
      "\u001B[32m[I 2023-03-07 17:57:25,282]\u001B[0m Trial 15 finished with value: 0.5694478324226633 and parameters: {'n_estimators': 180, 'max_depth': 3, 'min_samples_split': 3, 'min_samples_leaf': 1}. Best is trial 4 with value: 0.6221348053742395.\u001B[0m\n",
      "\u001B[32m[I 2023-03-07 17:57:34,282]\u001B[0m Trial 17 finished with value: 0.6206346116142221 and parameters: {'n_estimators': 170, 'max_depth': 16, 'min_samples_split': 4, 'min_samples_leaf': 5}. Best is trial 4 with value: 0.6221348053742395.\u001B[0m\n",
      "\u001B[32m[I 2023-03-07 17:57:37,565]\u001B[0m Trial 16 finished with value: 0.6145568737493112 and parameters: {'n_estimators': 200, 'max_depth': 17, 'min_samples_split': 9, 'min_samples_leaf': 6}. Best is trial 4 with value: 0.6221348053742395.\u001B[0m\n",
      "\u001B[32m[I 2023-03-07 17:57:38,148]\u001B[0m Trial 19 finished with value: 0.6168077671683694 and parameters: {'n_estimators': 180, 'max_depth': 18, 'min_samples_split': 8, 'min_samples_leaf': 8}. Best is trial 4 with value: 0.6221348053742395.\u001B[0m\n",
      "\u001B[32m[I 2023-03-07 17:57:38,960]\u001B[0m Trial 22 finished with value: 0.6159673944487805 and parameters: {'n_estimators': 190, 'max_depth': 17, 'min_samples_split': 2, 'min_samples_leaf': 10}. Best is trial 4 with value: 0.6221348053742395.\u001B[0m\n",
      "\u001B[32m[I 2023-03-07 17:57:39,846]\u001B[0m Trial 21 finished with value: 0.6150697355543217 and parameters: {'n_estimators': 200, 'max_depth': 14, 'min_samples_split': 4, 'min_samples_leaf': 10}. Best is trial 4 with value: 0.6221348053742395.\u001B[0m\n",
      "\u001B[32m[I 2023-03-07 17:57:41,221]\u001B[0m Trial 23 finished with value: 0.5789006165102352 and parameters: {'n_estimators': 180, 'max_depth': 15, 'min_samples_split': 2, 'min_samples_leaf': 1}. Best is trial 4 with value: 0.6221348053742395.\u001B[0m\n",
      "\u001B[32m[I 2023-03-07 17:57:42,273]\u001B[0m Trial 24 finished with value: 0.6162789103255888 and parameters: {'n_estimators': 200, 'max_depth': 20, 'min_samples_split': 4, 'min_samples_leaf': 10}. Best is trial 4 with value: 0.6221348053742395.\u001B[0m\n",
      "\u001B[32m[I 2023-03-07 17:57:43,686]\u001B[0m Trial 29 finished with value: 0.6123018498768869 and parameters: {'n_estimators': 150, 'max_depth': 9, 'min_samples_split': 4, 'min_samples_leaf': 5}. Best is trial 4 with value: 0.6221348053742395.\u001B[0m\n",
      "\u001B[32m[I 2023-03-07 17:57:45,588]\u001B[0m Trial 25 finished with value: 0.582171622186961 and parameters: {'n_estimators': 190, 'max_depth': 20, 'min_samples_split': 4, 'min_samples_leaf': 1}. Best is trial 4 with value: 0.6221348053742395.\u001B[0m\n",
      "\u001B[32m[I 2023-03-07 17:57:45,869]\u001B[0m Trial 26 finished with value: 0.6160632730676915 and parameters: {'n_estimators': 200, 'max_depth': 11, 'min_samples_split': 4, 'min_samples_leaf': 5}. Best is trial 4 with value: 0.6221348053742395.\u001B[0m\n",
      "\u001B[32m[I 2023-03-07 17:57:46,603]\u001B[0m Trial 28 finished with value: 0.6147037343762799 and parameters: {'n_estimators': 200, 'max_depth': 9, 'min_samples_split': 4, 'min_samples_leaf': 5}. Best is trial 4 with value: 0.6221348053742395.\u001B[0m\n",
      "\u001B[32m[I 2023-03-07 17:57:47,688]\u001B[0m Trial 27 finished with value: 0.6154159831927031 and parameters: {'n_estimators': 200, 'max_depth': 11, 'min_samples_split': 4, 'min_samples_leaf': 1}. Best is trial 4 with value: 0.6221348053742395.\u001B[0m\n",
      "\u001B[32m[I 2023-03-07 17:57:56,762]\u001B[0m Trial 31 finished with value: 0.6202855174821952 and parameters: {'n_estimators': 150, 'max_depth': 10, 'min_samples_split': 5, 'min_samples_leaf': 7}. Best is trial 4 with value: 0.6221348053742395.\u001B[0m\n",
      "\u001B[32m[I 2023-03-07 17:57:58,675]\u001B[0m Trial 32 finished with value: 0.6188109209898391 and parameters: {'n_estimators': 150, 'max_depth': 14, 'min_samples_split': 4, 'min_samples_leaf': 5}. Best is trial 4 with value: 0.6221348053742395.\u001B[0m\n",
      "\u001B[32m[I 2023-03-07 17:57:59,457]\u001B[0m Trial 33 finished with value: 0.6188109209898391 and parameters: {'n_estimators': 150, 'max_depth': 14, 'min_samples_split': 4, 'min_samples_leaf': 5}. Best is trial 4 with value: 0.6221348053742395.\u001B[0m\n",
      "\u001B[32m[I 2023-03-07 17:57:59,534]\u001B[0m Trial 30 finished with value: 0.6135011003639708 and parameters: {'n_estimators': 200, 'max_depth': 9, 'min_samples_split': 5, 'min_samples_leaf': 7}. Best is trial 4 with value: 0.6221348053742395.\u001B[0m\n",
      "\u001B[32m[I 2023-03-07 17:58:00,677]\u001B[0m Trial 34 finished with value: 0.6188109209898391 and parameters: {'n_estimators': 150, 'max_depth': 14, 'min_samples_split': 4, 'min_samples_leaf': 5}. Best is trial 4 with value: 0.6221348053742395.\u001B[0m\n",
      "\u001B[32m[I 2023-03-07 17:58:01,540]\u001B[0m Trial 35 finished with value: 0.618013261897388 and parameters: {'n_estimators': 150, 'max_depth': 11, 'min_samples_split': 4, 'min_samples_leaf': 5}. Best is trial 4 with value: 0.6221348053742395.\u001B[0m\n",
      "\u001B[32m[I 2023-03-07 17:58:01,864]\u001B[0m Trial 36 finished with value: 0.6148569777979127 and parameters: {'n_estimators': 150, 'max_depth': 10, 'min_samples_split': 5, 'min_samples_leaf': 5}. Best is trial 4 with value: 0.6221348053742395.\u001B[0m\n",
      "\u001B[32m[I 2023-03-07 17:58:04,405]\u001B[0m Trial 37 finished with value: 0.6170165991169682 and parameters: {'n_estimators': 150, 'max_depth': 12, 'min_samples_split': 5, 'min_samples_leaf': 5}. Best is trial 4 with value: 0.6221348053742395.\u001B[0m\n",
      "\u001B[32m[I 2023-03-07 17:58:06,702]\u001B[0m Trial 38 finished with value: 0.6170165991169682 and parameters: {'n_estimators': 150, 'max_depth': 12, 'min_samples_split': 5, 'min_samples_leaf': 5}. Best is trial 4 with value: 0.6221348053742395.\u001B[0m\n",
      "\u001B[32m[I 2023-03-07 17:58:07,147]\u001B[0m Trial 39 finished with value: 0.619331010776663 and parameters: {'n_estimators': 150, 'max_depth': 13, 'min_samples_split': 3, 'min_samples_leaf': 3}. Best is trial 4 with value: 0.6221348053742395.\u001B[0m\n",
      "\u001B[32m[I 2023-03-07 17:58:07,792]\u001B[0m Trial 40 finished with value: 0.619331010776663 and parameters: {'n_estimators': 150, 'max_depth': 13, 'min_samples_split': 5, 'min_samples_leaf': 3}. Best is trial 4 with value: 0.6221348053742395.\u001B[0m\n",
      "\u001B[32m[I 2023-03-07 17:58:09,159]\u001B[0m Trial 41 finished with value: 0.619331010776663 and parameters: {'n_estimators': 150, 'max_depth': 13, 'min_samples_split': 5, 'min_samples_leaf': 3}. Best is trial 4 with value: 0.6221348053742395.\u001B[0m\n",
      "\u001B[32m[I 2023-03-07 17:58:16,194]\u001B[0m Trial 42 finished with value: 0.604618621402847 and parameters: {'n_estimators': 150, 'max_depth': 7, 'min_samples_split': 5, 'min_samples_leaf': 7}. Best is trial 4 with value: 0.6221348053742395.\u001B[0m\n",
      "\u001B[32m[I 2023-03-07 17:58:16,877]\u001B[0m Trial 44 finished with value: 0.5985303400569106 and parameters: {'n_estimators': 140, 'max_depth': 6, 'min_samples_split': 5, 'min_samples_leaf': 7}. Best is trial 4 with value: 0.6221348053742395.\u001B[0m\n",
      "\u001B[32m[I 2023-03-07 17:58:17,193]\u001B[0m Trial 45 finished with value: 0.5973472443265547 and parameters: {'n_estimators': 140, 'max_depth': 6, 'min_samples_split': 5, 'min_samples_leaf': 8}. Best is trial 4 with value: 0.6221348053742395.\u001B[0m\n",
      "\u001B[32m[I 2023-03-07 17:58:17,546]\u001B[0m Trial 43 finished with value: 0.5975981475768626 and parameters: {'n_estimators': 150, 'max_depth': 6, 'min_samples_split': 5, 'min_samples_leaf': 7}. Best is trial 4 with value: 0.6221348053742395.\u001B[0m\n",
      "\u001B[32m[I 2023-03-07 17:58:17,884]\u001B[0m Trial 46 finished with value: 0.6056994425271143 and parameters: {'n_estimators': 130, 'max_depth': 7, 'min_samples_split': 5, 'min_samples_leaf': 8}. Best is trial 4 with value: 0.6221348053742395.\u001B[0m\n",
      "\u001B[32m[I 2023-03-07 17:58:18,185]\u001B[0m Trial 47 finished with value: 0.5969521891417586 and parameters: {'n_estimators': 130, 'max_depth': 6, 'min_samples_split': 5, 'min_samples_leaf': 7}. Best is trial 4 with value: 0.6221348053742395.\u001B[0m\n",
      "\u001B[32m[I 2023-03-07 17:58:19,284]\u001B[0m Trial 48 finished with value: 0.6022178571750616 and parameters: {'n_estimators': 130, 'max_depth': 7, 'min_samples_split': 5, 'min_samples_leaf': 7}. Best is trial 4 with value: 0.6221348053742395.\u001B[0m\n",
      "\u001B[32m[I 2023-03-07 17:58:21,273]\u001B[0m Trial 49 finished with value: 0.5969521891417586 and parameters: {'n_estimators': 130, 'max_depth': 6, 'min_samples_split': 3, 'min_samples_leaf': 7}. Best is trial 4 with value: 0.6221348053742395.\u001B[0m\n",
      "\u001B[32m[I 2023-03-07 17:58:21,953]\u001B[0m Trial 50 finished with value: 0.5883355740743368 and parameters: {'n_estimators': 130, 'max_depth': 5, 'min_samples_split': 3, 'min_samples_leaf': 7}. Best is trial 4 with value: 0.6221348053742395.\u001B[0m\n",
      "\u001B[32m[I 2023-03-07 17:58:23,486]\u001B[0m Trial 51 finished with value: 0.5969521891417586 and parameters: {'n_estimators': 130, 'max_depth': 6, 'min_samples_split': 10, 'min_samples_leaf': 7}. Best is trial 4 with value: 0.6221348053742395.\u001B[0m\n",
      "\u001B[32m[I 2023-03-07 17:58:25,615]\u001B[0m Trial 53 finished with value: 0.6056994425271143 and parameters: {'n_estimators': 130, 'max_depth': 7, 'min_samples_split': 10, 'min_samples_leaf': 8}. Best is trial 4 with value: 0.6221348053742395.\u001B[0m\n",
      "\u001B[32m[I 2023-03-07 17:58:26,877]\u001B[0m Trial 52 finished with value: 0.61857266123192 and parameters: {'n_estimators': 130, 'max_depth': 16, 'min_samples_split': 3, 'min_samples_leaf': 7}. Best is trial 4 with value: 0.6221348053742395.\u001B[0m\n",
      "\u001B[32m[I 2023-03-07 17:58:32,922]\u001B[0m Trial 54 finished with value: 0.6195905824839659 and parameters: {'n_estimators': 120, 'max_depth': 16, 'min_samples_split': 10, 'min_samples_leaf': 8}. Best is trial 4 with value: 0.6221348053742395.\u001B[0m\n",
      "\u001B[32m[I 2023-03-07 17:58:33,998]\u001B[0m Trial 56 finished with value: 0.6197665936143868 and parameters: {'n_estimators': 120, 'max_depth': 16, 'min_samples_split': 10, 'min_samples_leaf': 6}. Best is trial 4 with value: 0.6221348053742395.\u001B[0m\n",
      "\u001B[32m[I 2023-03-07 17:58:34,434]\u001B[0m Trial 57 finished with value: 0.6220758270522173 and parameters: {'n_estimators': 120, 'max_depth': 16, 'min_samples_split': 3, 'min_samples_leaf': 4}. Best is trial 4 with value: 0.6221348053742395.\u001B[0m\n",
      "\u001B[32m[I 2023-03-07 17:58:34,669]\u001B[0m Trial 55 finished with value: 0.6190915206188452 and parameters: {'n_estimators': 130, 'max_depth': 16, 'min_samples_split': 10, 'min_samples_leaf': 8}. Best is trial 4 with value: 0.6221348053742395.\u001B[0m\n",
      "\u001B[32m[I 2023-03-07 17:58:41,204]\u001B[0m Trial 58 finished with value: 0.6191526183005205 and parameters: {'n_estimators': 170, 'max_depth': 16, 'min_samples_split': 10, 'min_samples_leaf': 6}. Best is trial 4 with value: 0.6221348053742395.\u001B[0m\n",
      "\u001B[32m[I 2023-03-07 17:58:41,517]\u001B[0m Trial 59 finished with value: 0.62077869816487 and parameters: {'n_estimators': 170, 'max_depth': 16, 'min_samples_split': 10, 'min_samples_leaf': 4}. Best is trial 4 with value: 0.6221348053742395.\u001B[0m\n",
      "\u001B[32m[I 2023-03-07 17:58:42,503]\u001B[0m Trial 60 finished with value: 0.6191526183005205 and parameters: {'n_estimators': 170, 'max_depth': 16, 'min_samples_split': 3, 'min_samples_leaf': 6}. Best is trial 4 with value: 0.6221348053742395.\u001B[0m\n",
      "\u001B[32m[I 2023-03-07 17:58:44,209]\u001B[0m Trial 61 finished with value: 0.6191526183005205 and parameters: {'n_estimators': 170, 'max_depth': 16, 'min_samples_split': 10, 'min_samples_leaf': 6}. Best is trial 4 with value: 0.6221348053742395.\u001B[0m\n",
      "\u001B[32m[I 2023-03-07 17:58:45,066]\u001B[0m Trial 62 finished with value: 0.6180022083216787 and parameters: {'n_estimators': 170, 'max_depth': 16, 'min_samples_split': 10, 'min_samples_leaf': 3}. Best is trial 4 with value: 0.6221348053742395.\u001B[0m\n",
      "\u001B[32m[I 2023-03-07 17:58:47,301]\u001B[0m Trial 63 finished with value: 0.6238233266833326 and parameters: {'n_estimators': 170, 'max_depth': 16, 'min_samples_split': 6, 'min_samples_leaf': 3}. Best is trial 63 with value: 0.6238233266833326.\u001B[0m\n",
      "\u001B[32m[I 2023-03-07 17:58:47,611]\u001B[0m Trial 67 finished with value: 0.6164875789624361 and parameters: {'n_estimators': 100, 'max_depth': 18, 'min_samples_split': 9, 'min_samples_leaf': 6}. Best is trial 63 with value: 0.6238233266833326.\u001B[0m\n",
      "\u001B[32m[I 2023-03-07 17:58:48,361]\u001B[0m Trial 69 finished with value: 0.6164875789624361 and parameters: {'n_estimators': 100, 'max_depth': 18, 'min_samples_split': 8, 'min_samples_leaf': 6}. Best is trial 63 with value: 0.6238233266833326.\u001B[0m\n",
      "\u001B[32m[I 2023-03-07 17:58:49,331]\u001B[0m Trial 64 finished with value: 0.6238233266833326 and parameters: {'n_estimators': 170, 'max_depth': 16, 'min_samples_split': 3, 'min_samples_leaf': 3}. Best is trial 63 with value: 0.6238233266833326.\u001B[0m\n",
      "\u001B[32m[I 2023-03-07 17:58:49,449]\u001B[0m Trial 68 finished with value: 0.6178486769606849 and parameters: {'n_estimators': 110, 'max_depth': 19, 'min_samples_split': 8, 'min_samples_leaf': 6}. Best is trial 63 with value: 0.6238233266833326.\u001B[0m\n",
      "\u001B[32m[I 2023-03-07 17:58:50,714]\u001B[0m Trial 65 finished with value: 0.6172387761929721 and parameters: {'n_estimators': 170, 'max_depth': 15, 'min_samples_split': 6, 'min_samples_leaf': 3}. Best is trial 63 with value: 0.6238233266833326.\u001B[0m\n",
      "\u001B[32m[I 2023-03-07 17:58:55,443]\u001B[0m Trial 70 finished with value: 0.6192149126725521 and parameters: {'n_estimators': 100, 'max_depth': 17, 'min_samples_split': 8, 'min_samples_leaf': 4}. Best is trial 63 with value: 0.6238233266833326.\u001B[0m\n",
      "\u001B[32m[I 2023-03-07 17:58:55,702]\u001B[0m Trial 71 finished with value: 0.6175335420387067 and parameters: {'n_estimators': 100, 'max_depth': 18, 'min_samples_split': 9, 'min_samples_leaf': 4}. Best is trial 63 with value: 0.6238233266833326.\u001B[0m\n",
      "\u001B[32m[I 2023-03-07 17:58:56,229]\u001B[0m Trial 66 finished with value: 0.6139921178890928 and parameters: {'n_estimators': 170, 'max_depth': 18, 'min_samples_split': 8, 'min_samples_leaf': 6}. Best is trial 63 with value: 0.6238233266833326.\u001B[0m\n",
      "\u001B[32m[I 2023-03-07 17:58:56,576]\u001B[0m Trial 72 finished with value: 0.6175335420387067 and parameters: {'n_estimators': 100, 'max_depth': 18, 'min_samples_split': 9, 'min_samples_leaf': 4}. Best is trial 63 with value: 0.6238233266833326.\u001B[0m\n",
      "\u001B[32m[I 2023-03-07 17:58:58,385]\u001B[0m Trial 73 finished with value: 0.6175335420387067 and parameters: {'n_estimators': 100, 'max_depth': 18, 'min_samples_split': 9, 'min_samples_leaf': 4}. Best is trial 63 with value: 0.6238233266833326.\u001B[0m\n",
      "\u001B[32m[I 2023-03-07 17:58:59,145]\u001B[0m Trial 74 finished with value: 0.6182337819178214 and parameters: {'n_estimators': 100, 'max_depth': 18, 'min_samples_split': 8, 'min_samples_leaf': 4}. Best is trial 63 with value: 0.6238233266833326.\u001B[0m\n",
      "\u001B[32m[I 2023-03-07 17:59:00,051]\u001B[0m Trial 75 finished with value: 0.6182602082602082 and parameters: {'n_estimators': 90, 'max_depth': 18, 'min_samples_split': 6, 'min_samples_leaf': 4}. Best is trial 63 with value: 0.6238233266833326.\u001B[0m\n",
      "\u001B[32m[I 2023-03-07 17:59:10,382]\u001B[0m Trial 76 finished with value: 0.619327942864948 and parameters: {'n_estimators': 160, 'max_depth': 18, 'min_samples_split': 6, 'min_samples_leaf': 4}. Best is trial 63 with value: 0.6238233266833326.\u001B[0m\n",
      "\u001B[32m[I 2023-03-07 17:59:10,700]\u001B[0m Trial 77 finished with value: 0.6270258782486311 and parameters: {'n_estimators': 160, 'max_depth': 15, 'min_samples_split': 6, 'min_samples_leaf': 4}. Best is trial 77 with value: 0.6270258782486311.\u001B[0m\n",
      "\u001B[32m[I 2023-03-07 17:59:11,550]\u001B[0m Trial 78 finished with value: 0.6270258782486311 and parameters: {'n_estimators': 160, 'max_depth': 15, 'min_samples_split': 2, 'min_samples_leaf': 4}. Best is trial 77 with value: 0.6270258782486311.\u001B[0m\n",
      "\u001B[32m[I 2023-03-07 17:59:11,814]\u001B[0m Trial 79 finished with value: 0.6270258782486311 and parameters: {'n_estimators': 160, 'max_depth': 15, 'min_samples_split': 2, 'min_samples_leaf': 4}. Best is trial 77 with value: 0.6270258782486311.\u001B[0m\n",
      "\u001B[32m[I 2023-03-07 17:59:12,838]\u001B[0m Trial 80 finished with value: 0.6218235203427946 and parameters: {'n_estimators': 160, 'max_depth': 17, 'min_samples_split': 2, 'min_samples_leaf': 4}. Best is trial 77 with value: 0.6270258782486311.\u001B[0m\n",
      "\u001B[32m[I 2023-03-07 17:59:17,517]\u001B[0m Trial 81 finished with value: 0.6270258782486311 and parameters: {'n_estimators': 160, 'max_depth': 15, 'min_samples_split': 2, 'min_samples_leaf': 4}. Best is trial 77 with value: 0.6270258782486311.\u001B[0m\n",
      "\u001B[32m[I 2023-03-07 17:59:18,142]\u001B[0m Trial 82 finished with value: 0.5998306190979469 and parameters: {'n_estimators': 160, 'max_depth': 15, 'min_samples_split': 2, 'min_samples_leaf': 2}. Best is trial 77 with value: 0.6270258782486311.\u001B[0m\n",
      "\u001B[32m[I 2023-03-07 17:59:18,423]\u001B[0m Trial 83 finished with value: 0.5998306190979469 and parameters: {'n_estimators': 160, 'max_depth': 15, 'min_samples_split': 2, 'min_samples_leaf': 2}. Best is trial 77 with value: 0.6270258782486311.\u001B[0m\n",
      "\u001B[32m[I 2023-03-07 17:59:18,695]\u001B[0m Trial 85 finished with value: 0.6195701574288235 and parameters: {'n_estimators': 160, 'max_depth': 10, 'min_samples_split': 2, 'min_samples_leaf': 2}. Best is trial 77 with value: 0.6270258782486311.\u001B[0m\n",
      "\u001B[32m[I 2023-03-07 17:59:19,078]\u001B[0m Trial 84 finished with value: 0.6146906108535969 and parameters: {'n_estimators': 160, 'max_depth': 15, 'min_samples_split': 6, 'min_samples_leaf': 2}. Best is trial 77 with value: 0.6270258782486311.\u001B[0m\n",
      "\u001B[32m[I 2023-03-07 17:59:21,140]\u001B[0m Trial 87 finished with value: 0.6182769478868942 and parameters: {'n_estimators': 160, 'max_depth': 15, 'min_samples_split': 7, 'min_samples_leaf': 2}. Best is trial 77 with value: 0.6270258782486311.\u001B[0m\n",
      "\u001B[32m[I 2023-03-07 17:59:21,274]\u001B[0m Trial 86 finished with value: 0.5998306190979469 and parameters: {'n_estimators': 160, 'max_depth': 15, 'min_samples_split': 2, 'min_samples_leaf': 2}. Best is trial 77 with value: 0.6270258782486311.\u001B[0m\n",
      "\u001B[32m[I 2023-03-07 17:59:31,544]\u001B[0m Trial 88 finished with value: 0.5998306190979469 and parameters: {'n_estimators': 160, 'max_depth': 15, 'min_samples_split': 2, 'min_samples_leaf': 2}. Best is trial 77 with value: 0.6270258782486311.\u001B[0m\n",
      "\u001B[32m[I 2023-03-07 17:59:32,379]\u001B[0m Trial 90 finished with value: 0.5998306190979469 and parameters: {'n_estimators': 160, 'max_depth': 15, 'min_samples_split': 2, 'min_samples_leaf': 2}. Best is trial 77 with value: 0.6270258782486311.\u001B[0m\n",
      "\u001B[32m[I 2023-03-07 17:59:32,989]\u001B[0m Trial 91 finished with value: 0.5998306190979469 and parameters: {'n_estimators': 160, 'max_depth': 15, 'min_samples_split': 2, 'min_samples_leaf': 2}. Best is trial 77 with value: 0.6270258782486311.\u001B[0m\n",
      "\u001B[32m[I 2023-03-07 17:59:34,360]\u001B[0m Trial 92 finished with value: 0.5998306190979469 and parameters: {'n_estimators': 160, 'max_depth': 15, 'min_samples_split': 2, 'min_samples_leaf': 2}. Best is trial 77 with value: 0.6270258782486311.\u001B[0m\n",
      "\u001B[32m[I 2023-03-07 17:59:35,566]\u001B[0m Trial 89 finished with value: 0.6177126812020688 and parameters: {'n_estimators': 190, 'max_depth': 15, 'min_samples_split': 7, 'min_samples_leaf': 2}. Best is trial 77 with value: 0.6270258782486311.\u001B[0m\n",
      "\u001B[32m[I 2023-03-07 17:59:39,460]\u001B[0m Trial 93 finished with value: 0.5998306190979469 and parameters: {'n_estimators': 160, 'max_depth': 15, 'min_samples_split': 2, 'min_samples_leaf': 2}. Best is trial 77 with value: 0.6270258782486311.\u001B[0m\n",
      "\u001B[32m[I 2023-03-07 17:59:40,365]\u001B[0m Trial 94 finished with value: 0.5998306190979469 and parameters: {'n_estimators': 160, 'max_depth': 15, 'min_samples_split': 2, 'min_samples_leaf': 2}. Best is trial 77 with value: 0.6270258782486311.\u001B[0m\n",
      "\u001B[32m[I 2023-03-07 17:59:42,874]\u001B[0m Trial 95 finished with value: 0.6217830369088193 and parameters: {'n_estimators': 180, 'max_depth': 17, 'min_samples_split': 2, 'min_samples_leaf': 3}. Best is trial 77 with value: 0.6270258782486311.\u001B[0m\n",
      "\u001B[32m[I 2023-03-07 17:59:44,175]\u001B[0m Trial 96 finished with value: 0.621496331158377 and parameters: {'n_estimators': 190, 'max_depth': 17, 'min_samples_split': 2, 'min_samples_leaf': 3}. Best is trial 77 with value: 0.6270258782486311.\u001B[0m\n",
      "\u001B[32m[I 2023-03-07 17:59:45,003]\u001B[0m Trial 97 finished with value: 0.621496331158377 and parameters: {'n_estimators': 190, 'max_depth': 17, 'min_samples_split': 2, 'min_samples_leaf': 3}. Best is trial 77 with value: 0.6270258782486311.\u001B[0m\n",
      "\u001B[32m[I 2023-03-07 17:59:46,225]\u001B[0m Trial 98 finished with value: 0.6217830369088193 and parameters: {'n_estimators': 180, 'max_depth': 17, 'min_samples_split': 2, 'min_samples_leaf': 3}. Best is trial 77 with value: 0.6270258782486311.\u001B[0m\n",
      "\u001B[32m[I 2023-03-07 17:59:48,457]\u001B[0m Trial 99 finished with value: 0.621496331158377 and parameters: {'n_estimators': 190, 'max_depth': 17, 'min_samples_split': 2, 'min_samples_leaf': 3}. Best is trial 77 with value: 0.6270258782486311.\u001B[0m\n",
      "\u001B[32m[I 2023-03-07 17:59:59,362]\u001B[0m Trial 100 finished with value: 0.6217830369088193 and parameters: {'n_estimators': 180, 'max_depth': 17, 'min_samples_split': 2, 'min_samples_leaf': 3}. Best is trial 77 with value: 0.6270258782486311.\u001B[0m\n",
      "\u001B[32m[I 2023-03-07 18:00:00,548]\u001B[0m Trial 102 finished with value: 0.6217830369088193 and parameters: {'n_estimators': 180, 'max_depth': 17, 'min_samples_split': 3, 'min_samples_leaf': 3}. Best is trial 77 with value: 0.6270258782486311.\u001B[0m\n",
      "\u001B[32m[I 2023-03-07 18:00:01,530]\u001B[0m Trial 105 finished with value: 0.61679043836576 and parameters: {'n_estimators': 140, 'max_depth': 17, 'min_samples_split': 3, 'min_samples_leaf': 3}. Best is trial 77 with value: 0.6270258782486311.\u001B[0m\n",
      "\u001B[32m[I 2023-03-07 18:00:01,573]\u001B[0m Trial 101 finished with value: 0.621496331158377 and parameters: {'n_estimators': 190, 'max_depth': 17, 'min_samples_split': 2, 'min_samples_leaf': 3}. Best is trial 77 with value: 0.6270258782486311.\u001B[0m\n",
      "\u001B[32m[I 2023-03-07 18:00:02,197]\u001B[0m Trial 103 finished with value: 0.6217830369088193 and parameters: {'n_estimators': 180, 'max_depth': 17, 'min_samples_split': 3, 'min_samples_leaf': 3}. Best is trial 77 with value: 0.6270258782486311.\u001B[0m\n",
      "\u001B[32m[I 2023-03-07 18:00:03,421]\u001B[0m Trial 104 finished with value: 0.6217830369088193 and parameters: {'n_estimators': 180, 'max_depth': 17, 'min_samples_split': 3, 'min_samples_leaf': 3}. Best is trial 77 with value: 0.6270258782486311.\u001B[0m\n",
      "\u001B[32m[I 2023-03-07 18:00:08,099]\u001B[0m Trial 106 finished with value: 0.6217830369088193 and parameters: {'n_estimators': 180, 'max_depth': 17, 'min_samples_split': 3, 'min_samples_leaf': 3}. Best is trial 77 with value: 0.6270258782486311.\u001B[0m\n",
      "\u001B[32m[I 2023-03-07 18:00:09,145]\u001B[0m Trial 111 finished with value: 0.6168402018920072 and parameters: {'n_estimators': 140, 'max_depth': 14, 'min_samples_split': 3, 'min_samples_leaf': 4}. Best is trial 77 with value: 0.6270258782486311.\u001B[0m\n",
      "\u001B[32m[I 2023-03-07 18:00:10,737]\u001B[0m Trial 107 finished with value: 0.6217830369088193 and parameters: {'n_estimators': 180, 'max_depth': 17, 'min_samples_split': 3, 'min_samples_leaf': 3}. Best is trial 77 with value: 0.6270258782486311.\u001B[0m\n",
      "\u001B[32m[I 2023-03-07 18:00:11,057]\u001B[0m Trial 118 finished with value: 0.6078929872674811 and parameters: {'n_estimators': 20, 'max_depth': 14, 'min_samples_split': 2, 'min_samples_leaf': 4}. Best is trial 77 with value: 0.6270258782486311.\u001B[0m\n",
      "\u001B[32m[I 2023-03-07 18:00:12,252]\u001B[0m Trial 109 finished with value: 0.6196218084451179 and parameters: {'n_estimators': 180, 'max_depth': 14, 'min_samples_split': 3, 'min_samples_leaf': 3}. Best is trial 77 with value: 0.6270258782486311.\u001B[0m\n",
      "\u001B[32m[I 2023-03-07 18:00:12,429]\u001B[0m Trial 108 finished with value: 0.6217830369088193 and parameters: {'n_estimators': 180, 'max_depth': 17, 'min_samples_split': 3, 'min_samples_leaf': 3}. Best is trial 77 with value: 0.6270258782486311.\u001B[0m\n",
      "\u001B[32m[I 2023-03-07 18:00:13,118]\u001B[0m Trial 110 finished with value: 0.6183079829494582 and parameters: {'n_estimators': 180, 'max_depth': 14, 'min_samples_split': 3, 'min_samples_leaf': 4}. Best is trial 77 with value: 0.6270258782486311.\u001B[0m\n",
      "\u001B[32m[I 2023-03-07 18:00:20,610]\u001B[0m Trial 113 finished with value: 0.6168402018920072 and parameters: {'n_estimators': 140, 'max_depth': 14, 'min_samples_split': 3, 'min_samples_leaf': 4}. Best is trial 77 with value: 0.6270258782486311.\u001B[0m\n",
      "\u001B[32m[I 2023-03-07 18:00:21,962]\u001B[0m Trial 116 finished with value: 0.6168402018920072 and parameters: {'n_estimators': 140, 'max_depth': 14, 'min_samples_split': 3, 'min_samples_leaf': 4}. Best is trial 77 with value: 0.6270258782486311.\u001B[0m\n",
      "\u001B[32m[I 2023-03-07 18:00:23,014]\u001B[0m Trial 117 finished with value: 0.6168402018920072 and parameters: {'n_estimators': 140, 'max_depth': 14, 'min_samples_split': 3, 'min_samples_leaf': 4}. Best is trial 77 with value: 0.6270258782486311.\u001B[0m\n",
      "\u001B[32m[I 2023-03-07 18:00:24,514]\u001B[0m Trial 124 finished with value: 0.5331249549270469 and parameters: {'n_estimators': 170, 'max_depth': 1, 'min_samples_split': 2, 'min_samples_leaf': 4}. Best is trial 77 with value: 0.6270258782486311.\u001B[0m\n",
      "\u001B[32m[I 2023-03-07 18:00:24,699]\u001B[0m Trial 112 finished with value: 0.6183079829494582 and parameters: {'n_estimators': 180, 'max_depth': 14, 'min_samples_split': 3, 'min_samples_leaf': 4}. Best is trial 77 with value: 0.6270258782486311.\u001B[0m\n",
      "\u001B[32m[I 2023-03-07 18:00:26,268]\u001B[0m Trial 120 finished with value: 0.6186340745046311 and parameters: {'n_estimators': 110, 'max_depth': 14, 'min_samples_split': 3, 'min_samples_leaf': 4}. Best is trial 77 with value: 0.6270258782486311.\u001B[0m\n",
      "\u001B[32m[I 2023-03-07 18:00:27,044]\u001B[0m Trial 115 finished with value: 0.6183079829494582 and parameters: {'n_estimators': 180, 'max_depth': 14, 'min_samples_split': 3, 'min_samples_leaf': 4}. Best is trial 77 with value: 0.6270258782486311.\u001B[0m\n",
      "\u001B[32m[I 2023-03-07 18:00:27,455]\u001B[0m Trial 114 finished with value: 0.6183079829494582 and parameters: {'n_estimators': 180, 'max_depth': 14, 'min_samples_split': 3, 'min_samples_leaf': 4}. Best is trial 77 with value: 0.6270258782486311.\u001B[0m\n",
      "\u001B[32m[I 2023-03-07 18:00:29,472]\u001B[0m Trial 119 finished with value: 0.6260548321951996 and parameters: {'n_estimators': 140, 'max_depth': 19, 'min_samples_split': 3, 'min_samples_leaf': 4}. Best is trial 77 with value: 0.6270258782486311.\u001B[0m\n",
      "\u001B[32m[I 2023-03-07 18:00:31,636]\u001B[0m Trial 121 finished with value: 0.6197539852890617 and parameters: {'n_estimators': 140, 'max_depth': 13, 'min_samples_split': 3, 'min_samples_leaf': 4}. Best is trial 77 with value: 0.6270258782486311.\u001B[0m\n",
      "\u001B[32m[I 2023-03-07 18:00:37,640]\u001B[0m Trial 123 finished with value: 0.6251539498966546 and parameters: {'n_estimators': 170, 'max_depth': 19, 'min_samples_split': 2, 'min_samples_leaf': 4}. Best is trial 77 with value: 0.6270258782486311.\u001B[0m\n",
      "\u001B[32m[I 2023-03-07 18:00:37,750]\u001B[0m Trial 122 finished with value: 0.6251539498966546 and parameters: {'n_estimators': 170, 'max_depth': 19, 'min_samples_split': 3, 'min_samples_leaf': 4}. Best is trial 77 with value: 0.6270258782486311.\u001B[0m\n",
      "\u001B[32m[I 2023-03-07 18:00:41,702]\u001B[0m Trial 128 finished with value: 0.6139181190392721 and parameters: {'n_estimators': 110, 'max_depth': 19, 'min_samples_split': 2, 'min_samples_leaf': 5}. Best is trial 77 with value: 0.6270258782486311.\u001B[0m\n",
      "\u001B[32m[I 2023-03-07 18:00:46,539]\u001B[0m Trial 125 finished with value: 0.6194678875180418 and parameters: {'n_estimators': 170, 'max_depth': 19, 'min_samples_split': 4, 'min_samples_leaf': 5}. Best is trial 77 with value: 0.6270258782486311.\u001B[0m\n",
      "\u001B[32m[I 2023-03-07 18:00:48,188]\u001B[0m Trial 126 finished with value: 0.6194678875180418 and parameters: {'n_estimators': 170, 'max_depth': 19, 'min_samples_split': 2, 'min_samples_leaf': 5}. Best is trial 77 with value: 0.6270258782486311.\u001B[0m\n",
      "\u001B[32m[I 2023-03-07 18:00:49,173]\u001B[0m Trial 127 finished with value: 0.6194678875180418 and parameters: {'n_estimators': 170, 'max_depth': 19, 'min_samples_split': 4, 'min_samples_leaf': 5}. Best is trial 77 with value: 0.6270258782486311.\u001B[0m\n",
      "\u001B[32m[I 2023-03-07 18:00:50,530]\u001B[0m Trial 134 finished with value: 0.6168941803630233 and parameters: {'n_estimators': 120, 'max_depth': 19, 'min_samples_split': 2, 'min_samples_leaf': 5}. Best is trial 77 with value: 0.6270258782486311.\u001B[0m\n",
      "\u001B[32m[I 2023-03-07 18:00:51,181]\u001B[0m Trial 129 finished with value: 0.6194678875180418 and parameters: {'n_estimators': 170, 'max_depth': 19, 'min_samples_split': 7, 'min_samples_leaf': 5}. Best is trial 77 with value: 0.6270258782486311.\u001B[0m\n",
      "\u001B[32m[I 2023-03-07 18:00:52,794]\u001B[0m Trial 130 finished with value: 0.6196131213192458 and parameters: {'n_estimators': 170, 'max_depth': 20, 'min_samples_split': 6, 'min_samples_leaf': 5}. Best is trial 77 with value: 0.6270258782486311.\u001B[0m\n",
      "\u001B[32m[I 2023-03-07 18:00:53,527]\u001B[0m Trial 131 finished with value: 0.6206346116142221 and parameters: {'n_estimators': 170, 'max_depth': 16, 'min_samples_split': 4, 'min_samples_leaf': 5}. Best is trial 77 with value: 0.6270258782486311.\u001B[0m\n",
      "\u001B[32m[I 2023-03-07 18:00:53,965]\u001B[0m Trial 132 finished with value: 0.6206346116142221 and parameters: {'n_estimators': 170, 'max_depth': 16, 'min_samples_split': 2, 'min_samples_leaf': 5}. Best is trial 77 with value: 0.6270258782486311.\u001B[0m\n",
      "\u001B[32m[I 2023-03-07 18:00:55,864]\u001B[0m Trial 133 finished with value: 0.6194678875180418 and parameters: {'n_estimators': 170, 'max_depth': 19, 'min_samples_split': 2, 'min_samples_leaf': 5}. Best is trial 77 with value: 0.6270258782486311.\u001B[0m\n",
      "\u001B[32m[I 2023-03-07 18:00:57,040]\u001B[0m Trial 135 finished with value: 0.6168941803630233 and parameters: {'n_estimators': 120, 'max_depth': 19, 'min_samples_split': 4, 'min_samples_leaf': 5}. Best is trial 77 with value: 0.6270258782486311.\u001B[0m\n",
      "\u001B[32m[I 2023-03-07 18:01:04,117]\u001B[0m Trial 136 finished with value: 0.6194678875180418 and parameters: {'n_estimators': 170, 'max_depth': 19, 'min_samples_split': 4, 'min_samples_leaf': 5}. Best is trial 77 with value: 0.6270258782486311.\u001B[0m\n",
      "\u001B[32m[I 2023-03-07 18:01:05,329]\u001B[0m Trial 138 finished with value: 0.6137900828320259 and parameters: {'n_estimators': 120, 'max_depth': 20, 'min_samples_split': 7, 'min_samples_leaf': 5}. Best is trial 77 with value: 0.6270258782486311.\u001B[0m\n",
      "\u001B[32m[I 2023-03-07 18:01:06,201]\u001B[0m Trial 139 finished with value: 0.6137900828320259 and parameters: {'n_estimators': 120, 'max_depth': 20, 'min_samples_split': 6, 'min_samples_leaf': 5}. Best is trial 77 with value: 0.6270258782486311.\u001B[0m\n",
      "\u001B[32m[I 2023-03-07 18:01:07,777]\u001B[0m Trial 140 finished with value: 0.6137900828320259 and parameters: {'n_estimators': 120, 'max_depth': 20, 'min_samples_split': 7, 'min_samples_leaf': 5}. Best is trial 77 with value: 0.6270258782486311.\u001B[0m\n",
      "\u001B[32m[I 2023-03-07 18:01:08,314]\u001B[0m Trial 137 finished with value: 0.6196131213192458 and parameters: {'n_estimators': 170, 'max_depth': 20, 'min_samples_split': 4, 'min_samples_leaf': 5}. Best is trial 77 with value: 0.6270258782486311.\u001B[0m\n",
      "\u001B[32m[I 2023-03-07 18:01:12,842]\u001B[0m Trial 145 finished with value: 0.6220758270522173 and parameters: {'n_estimators': 120, 'max_depth': 16, 'min_samples_split': 6, 'min_samples_leaf': 4}. Best is trial 77 with value: 0.6270258782486311.\u001B[0m\n",
      "\u001B[32m[I 2023-03-07 18:01:14,072]\u001B[0m Trial 141 finished with value: 0.6180902721131604 and parameters: {'n_estimators': 150, 'max_depth': 16, 'min_samples_split': 6, 'min_samples_leaf': 4}. Best is trial 77 with value: 0.6270258782486311.\u001B[0m\n",
      "\u001B[32m[I 2023-03-07 18:01:16,773]\u001B[0m Trial 143 finished with value: 0.6258375530711986 and parameters: {'n_estimators': 150, 'max_depth': 20, 'min_samples_split': 6, 'min_samples_leaf': 4}. Best is trial 77 with value: 0.6270258782486311.\u001B[0m\n",
      "\u001B[32m[I 2023-03-07 18:01:17,093]\u001B[0m Trial 144 finished with value: 0.6258375530711986 and parameters: {'n_estimators': 150, 'max_depth': 20, 'min_samples_split': 6, 'min_samples_leaf': 4}. Best is trial 77 with value: 0.6270258782486311.\u001B[0m\n",
      "\u001B[32m[I 2023-03-07 18:01:17,938]\u001B[0m Trial 142 finished with value: 0.6189414007789451 and parameters: {'n_estimators': 170, 'max_depth': 16, 'min_samples_split': 6, 'min_samples_leaf': 4}. Best is trial 77 with value: 0.6270258782486311.\u001B[0m\n",
      "\u001B[32m[I 2023-03-07 18:01:19,395]\u001B[0m Trial 146 finished with value: 0.6258375530711986 and parameters: {'n_estimators': 150, 'max_depth': 20, 'min_samples_split': 2, 'min_samples_leaf': 4}. Best is trial 77 with value: 0.6270258782486311.\u001B[0m\n",
      "\u001B[32m[I 2023-03-07 18:01:20,589]\u001B[0m Trial 147 finished with value: 0.6258375530711986 and parameters: {'n_estimators': 150, 'max_depth': 20, 'min_samples_split': 6, 'min_samples_leaf': 4}. Best is trial 77 with value: 0.6270258782486311.\u001B[0m\n",
      "\u001B[32m[I 2023-03-07 18:01:21,047]\u001B[0m Trial 151 finished with value: 0.5569190670996594 and parameters: {'n_estimators': 150, 'max_depth': 2, 'min_samples_split': 3, 'min_samples_leaf': 4}. Best is trial 77 with value: 0.6270258782486311.\u001B[0m\n",
      "\u001B[32m[I 2023-03-07 18:01:27,755]\u001B[0m Trial 148 finished with value: 0.6258375530711986 and parameters: {'n_estimators': 150, 'max_depth': 20, 'min_samples_split': 6, 'min_samples_leaf': 4}. Best is trial 77 with value: 0.6270258782486311.\u001B[0m\n",
      "\u001B[32m[I 2023-03-07 18:01:29,046]\u001B[0m Trial 149 finished with value: 0.6258375530711986 and parameters: {'n_estimators': 150, 'max_depth': 20, 'min_samples_split': 2, 'min_samples_leaf': 4}. Best is trial 77 with value: 0.6270258782486311.\u001B[0m\n",
      "\u001B[32m[I 2023-03-07 18:01:29,927]\u001B[0m Trial 150 finished with value: 0.6180902721131604 and parameters: {'n_estimators': 150, 'max_depth': 16, 'min_samples_split': 3, 'min_samples_leaf': 4}. Best is trial 77 with value: 0.6270258782486311.\u001B[0m\n",
      "\u001B[32m[I 2023-03-07 18:01:29,960]\u001B[0m Trial 155 finished with value: 0.5569190670996594 and parameters: {'n_estimators': 150, 'max_depth': 2, 'min_samples_split': 6, 'min_samples_leaf': 4}. Best is trial 77 with value: 0.6270258782486311.\u001B[0m\n",
      "\u001B[32m[I 2023-03-07 18:01:32,907]\u001B[0m Trial 152 finished with value: 0.6235593703273995 and parameters: {'n_estimators': 150, 'max_depth': 16, 'min_samples_split': 2, 'min_samples_leaf': 3}. Best is trial 77 with value: 0.6270258782486311.\u001B[0m\n",
      "\u001B[32m[I 2023-03-07 18:01:36,308]\u001B[0m Trial 153 finished with value: 0.6180902721131604 and parameters: {'n_estimators': 150, 'max_depth': 16, 'min_samples_split': 6, 'min_samples_leaf': 4}. Best is trial 77 with value: 0.6270258782486311.\u001B[0m\n",
      "\u001B[32m[I 2023-03-07 18:01:37,574]\u001B[0m Trial 154 finished with value: 0.6180902721131604 and parameters: {'n_estimators': 150, 'max_depth': 16, 'min_samples_split': 2, 'min_samples_leaf': 4}. Best is trial 77 with value: 0.6270258782486311.\u001B[0m\n",
      "\u001B[32m[I 2023-03-07 18:01:40,200]\u001B[0m Trial 156 finished with value: 0.6258375530711986 and parameters: {'n_estimators': 150, 'max_depth': 20, 'min_samples_split': 6, 'min_samples_leaf': 4}. Best is trial 77 with value: 0.6270258782486311.\u001B[0m\n",
      "\u001B[32m[I 2023-03-07 18:01:40,777]\u001B[0m Trial 157 finished with value: 0.6258375530711986 and parameters: {'n_estimators': 150, 'max_depth': 20, 'min_samples_split': 6, 'min_samples_leaf': 4}. Best is trial 77 with value: 0.6270258782486311.\u001B[0m\n",
      "\u001B[32m[I 2023-03-07 18:01:41,967]\u001B[0m Trial 158 finished with value: 0.6258375530711986 and parameters: {'n_estimators': 150, 'max_depth': 20, 'min_samples_split': 6, 'min_samples_leaf': 4}. Best is trial 77 with value: 0.6270258782486311.\u001B[0m\n",
      "\u001B[32m[I 2023-03-07 18:01:43,089]\u001B[0m Trial 159 finished with value: 0.6258375530711986 and parameters: {'n_estimators': 150, 'max_depth': 20, 'min_samples_split': 6, 'min_samples_leaf': 4}. Best is trial 77 with value: 0.6270258782486311.\u001B[0m\n",
      "\u001B[32m[I 2023-03-07 18:01:43,767]\u001B[0m Trial 160 finished with value: 0.6258375530711986 and parameters: {'n_estimators': 150, 'max_depth': 20, 'min_samples_split': 6, 'min_samples_leaf': 4}. Best is trial 77 with value: 0.6270258782486311.\u001B[0m\n",
      "\u001B[32m[I 2023-03-07 18:01:49,349]\u001B[0m Trial 161 finished with value: 0.6258375530711986 and parameters: {'n_estimators': 150, 'max_depth': 20, 'min_samples_split': 6, 'min_samples_leaf': 4}. Best is trial 77 with value: 0.6270258782486311.\u001B[0m\n",
      "\u001B[32m[I 2023-03-07 18:01:50,181]\u001B[0m Trial 162 finished with value: 0.6258375530711986 and parameters: {'n_estimators': 150, 'max_depth': 20, 'min_samples_split': 6, 'min_samples_leaf': 4}. Best is trial 77 with value: 0.6270258782486311.\u001B[0m\n",
      "\u001B[32m[I 2023-03-07 18:01:51,260]\u001B[0m Trial 163 finished with value: 0.6258375530711986 and parameters: {'n_estimators': 150, 'max_depth': 20, 'min_samples_split': 6, 'min_samples_leaf': 4}. Best is trial 77 with value: 0.6270258782486311.\u001B[0m\n",
      "\u001B[32m[I 2023-03-07 18:01:51,406]\u001B[0m Trial 164 finished with value: 0.6258375530711986 and parameters: {'n_estimators': 150, 'max_depth': 20, 'min_samples_split': 6, 'min_samples_leaf': 4}. Best is trial 77 with value: 0.6270258782486311.\u001B[0m\n",
      "\u001B[32m[I 2023-03-07 18:01:53,265]\u001B[0m Trial 165 finished with value: 0.6258375530711986 and parameters: {'n_estimators': 150, 'max_depth': 20, 'min_samples_split': 6, 'min_samples_leaf': 4}. Best is trial 77 with value: 0.6270258782486311.\u001B[0m\n",
      "\u001B[32m[I 2023-03-07 18:01:58,716]\u001B[0m Trial 166 finished with value: 0.626406743186136 and parameters: {'n_estimators': 160, 'max_depth': 20, 'min_samples_split': 6, 'min_samples_leaf': 4}. Best is trial 77 with value: 0.6270258782486311.\u001B[0m\n",
      "\u001B[32m[I 2023-03-07 18:01:59,812]\u001B[0m Trial 167 finished with value: 0.626406743186136 and parameters: {'n_estimators': 160, 'max_depth': 20, 'min_samples_split': 6, 'min_samples_leaf': 4}. Best is trial 77 with value: 0.6270258782486311.\u001B[0m\n",
      "\u001B[32m[I 2023-03-07 18:02:00,683]\u001B[0m Trial 170 finished with value: 0.6288683397071527 and parameters: {'n_estimators': 140, 'max_depth': 20, 'min_samples_split': 6, 'min_samples_leaf': 4}. Best is trial 170 with value: 0.6288683397071527.\u001B[0m\n",
      "\u001B[32m[I 2023-03-07 18:02:01,342]\u001B[0m Trial 168 finished with value: 0.626406743186136 and parameters: {'n_estimators': 160, 'max_depth': 20, 'min_samples_split': 6, 'min_samples_leaf': 4}. Best is trial 170 with value: 0.6288683397071527.\u001B[0m\n",
      "\u001B[32m[I 2023-03-07 18:02:01,541]\u001B[0m Trial 171 finished with value: 0.6288683397071527 and parameters: {'n_estimators': 140, 'max_depth': 20, 'min_samples_split': 6, 'min_samples_leaf': 4}. Best is trial 170 with value: 0.6288683397071527.\u001B[0m\n",
      "\u001B[32m[I 2023-03-07 18:02:01,856]\u001B[0m Trial 169 finished with value: 0.626406743186136 and parameters: {'n_estimators': 160, 'max_depth': 20, 'min_samples_split': 6, 'min_samples_leaf': 4}. Best is trial 170 with value: 0.6288683397071527.\u001B[0m\n",
      "\u001B[32m[I 2023-03-07 18:02:01,894]\u001B[0m Trial 172 finished with value: 0.6288683397071527 and parameters: {'n_estimators': 140, 'max_depth': 20, 'min_samples_split': 6, 'min_samples_leaf': 4}. Best is trial 170 with value: 0.6288683397071527.\u001B[0m\n",
      "\u001B[32m[I 2023-03-07 18:02:04,288]\u001B[0m Trial 173 finished with value: 0.6288683397071527 and parameters: {'n_estimators': 140, 'max_depth': 20, 'min_samples_split': 6, 'min_samples_leaf': 4}. Best is trial 170 with value: 0.6288683397071527.\u001B[0m\n",
      "\u001B[32m[I 2023-03-07 18:02:04,601]\u001B[0m Trial 174 finished with value: 0.6288683397071527 and parameters: {'n_estimators': 140, 'max_depth': 20, 'min_samples_split': 6, 'min_samples_leaf': 4}. Best is trial 170 with value: 0.6288683397071527.\u001B[0m\n",
      "\u001B[32m[I 2023-03-07 18:02:04,951]\u001B[0m Trial 175 finished with value: 0.6288683397071527 and parameters: {'n_estimators': 140, 'max_depth': 20, 'min_samples_split': 6, 'min_samples_leaf': 4}. Best is trial 170 with value: 0.6288683397071527.\u001B[0m\n",
      "\u001B[32m[I 2023-03-07 18:02:04,976]\u001B[0m Trial 176 finished with value: 0.6288683397071527 and parameters: {'n_estimators': 140, 'max_depth': 20, 'min_samples_split': 6, 'min_samples_leaf': 4}. Best is trial 170 with value: 0.6288683397071527.\u001B[0m\n",
      "\u001B[32m[I 2023-03-07 18:02:05,438]\u001B[0m Trial 177 finished with value: 0.6288683397071527 and parameters: {'n_estimators': 140, 'max_depth': 20, 'min_samples_split': 6, 'min_samples_leaf': 4}. Best is trial 170 with value: 0.6288683397071527.\u001B[0m\n"
     ]
    },
    {
     "name": "stdout",
     "output_type": "stream",
     "text": [
      "f1 = 0.6288683397071527\n",
      "AUC-ROC = 0.9851701044665683\n",
      "Оптимальные гиперпараметры: {'n_estimators': 140, 'max_depth': 20, 'min_samples_split': 6, 'min_samples_leaf': 4}\n"
     ]
    }
   ],
   "source": [
    "random_forest_model = RandomForestClassifier(random_state=RANDOM_STATE, class_weight='balanced')\n",
    "optuna_search = optuna.integration.OptunaSearchCV(random_forest_model, random_forest_params, scoring='f1', n_trials=OPTUNA_N_TRIALS, timeout=OPTUNA_TIMEOUT, n_jobs=-1)\n",
    "optuna_search.fit(features_train, target_train)\n",
    "random_forest_model_balance = optuna_search.best_estimator_\n",
    "print(f'f1 = {optuna_search.best_score_}')\n",
    "print(f'AUC-ROC = {roc_auc(random_forest_model_balance, features_train, target_train)}')\n",
    "print(f'Оптимальные гиперпараметры: {optuna_search.best_params_}')"
   ]
  },
  {
   "cell_type": "markdown",
   "metadata": {},
   "source": [
    "#### Логистическая регрессия"
   ]
  },
  {
   "cell_type": "code",
   "execution_count": 22,
   "metadata": {},
   "outputs": [
    {
     "name": "stdout",
     "output_type": "stream",
     "text": [
      "Fitting 5 folds for each of 171 candidates, totalling 855 fits\n",
      "f1 = 0.4838018984587868\n",
      "AUC-ROC = 0.7668917645346696\n",
      "Оптимальные гиперпараметры: {'max_iter': 30, 'solver': 'liblinear'}\n"
     ]
    }
   ],
   "source": [
    "logistic_regression_model = LogisticRegression(random_state=RANDOM_STATE, class_weight='balanced')\n",
    "grid = GridSearchCV(logistic_regression_model, logistic_regression_params, scoring='f1', n_jobs=-1, verbose=1)\n",
    "grid.fit(features_train, target_train)\n",
    "logistic_regression_model_balance = grid.best_estimator_\n",
    "print(f'f1 = {grid.best_score_}')\n",
    "print(f'AUC-ROC = {roc_auc(logistic_regression_model_balance, features_train, target_train)}')\n",
    "print(f'Оптимальные гиперпараметры: {grid.best_params_}')"
   ]
  },
  {
   "cell_type": "markdown",
   "metadata": {},
   "source": [
    "#### Вывод\n",
    "С помощью взвешивания классов удалось достигнуть значения метрики f1 равного 0.624 при помощи модели случайного леса. Для остальных моделей метрика также увеличилась и все модели превзошли константную модель. С ростом f1 также наблюдается рост AUC-ROC.\n",
    "\n",
    "|             | Дерево решений                                                                   | Случайный лес                                                                                           | Логистическая регрессия                                  |\n",
    "|-------------|----------------------------------------------------------------------------------|---------------------------------------------------------------------------------------------------------|----------------------------------------------------------|\n",
    "| Дисбаланс   | 0.566/0.877<br />{'max_depth': 7, 'min_samples_leaf': 2, 'min_samples_split': 8} | 0.586/0.998<br />{'n_estimators': 190, 'max_depth': 20, 'min_samples_split': 6, 'min_samples_leaf': 1}  | 0.31/0.764<br />{'max_iter': 30, 'solver': 'liblinear'}  |\n",
    "| Взвешивание | 0.574/0.881<br />{'max_depth': 7, 'min_samples_leaf': 6, 'min_samples_split': 2} | 0.624/0.982<br />{'n_estimators': 190, 'max_depth': 16, 'min_samples_split': 10, 'min_samples_leaf': 4} | 0.484/0.767<br />{'max_iter': 30, 'solver': 'liblinear'} |"
   ]
  },
  {
   "cell_type": "markdown",
   "metadata": {},
   "source": [
    "### Увеличение выборки\n",
    "Количество единиц в целевой переменной в 4 раза меньше чем нулей, увеличим их количество в 4 раза."
   ]
  },
  {
   "cell_type": "code",
   "execution_count": 23,
   "metadata": {},
   "outputs": [],
   "source": [
    "def upsample(features, target, repeat):\n",
    "    features_zeros = features[target == 0]\n",
    "    features_ones = features[target == 1]\n",
    "    target_zeros = target[target == 0]\n",
    "    target_ones = target[target == 1]\n",
    "\n",
    "    features_upsampled = pd.concat([features_zeros] + [features_ones] * repeat)\n",
    "    target_upsampled = pd.concat([target_zeros] + [target_ones] * repeat)\n",
    "\n",
    "    features_upsampled, target_upsampled = shuffle(features_upsampled, target_upsampled, random_state=RANDOM_STATE)\n",
    "\n",
    "    return features_upsampled, target_upsampled"
   ]
  },
  {
   "cell_type": "code",
   "execution_count": 24,
   "metadata": {},
   "outputs": [],
   "source": [
    "train_features_upsampled, train_target_upsampled = upsample(features_train, target_train, 4)"
   ]
  },
  {
   "cell_type": "markdown",
   "metadata": {},
   "source": [
    "Простое увеличение выборки обычно некорректно работает с кросс-валидацией из-за утечки данных. Проверим как эти подходы отработают на текущих данных."
   ]
  },
  {
   "cell_type": "markdown",
   "metadata": {},
   "source": [
    "#### Дерево решений"
   ]
  },
  {
   "cell_type": "code",
   "execution_count": 25,
   "metadata": {},
   "outputs": [
    {
     "name": "stdout",
     "output_type": "stream",
     "text": [
      "Fitting 5 folds for each of 1800 candidates, totalling 9000 fits\n",
      "f1 = 0.9308825665465597\n",
      "AUC-ROC = 0.9999674528252264\n",
      "Оптимальные гиперпараметры: {'max_depth': 20, 'min_samples_leaf': 1, 'min_samples_split': 2}\n"
     ]
    }
   ],
   "source": [
    "decision_tree_model = DecisionTreeClassifier(random_state=RANDOM_STATE)\n",
    "grid = GridSearchCV(decision_tree_model, decision_tree_params, scoring='f1', n_jobs=-1, verbose=1)\n",
    "grid.fit(train_features_upsampled, train_target_upsampled)\n",
    "decision_tree_model_upsample = grid.best_estimator_\n",
    "print(f'f1 = {grid.best_score_}')\n",
    "print(f'AUC-ROC = {roc_auc(decision_tree_model_upsample, features_train, target_train)}')\n",
    "print(f'Оптимальные гиперпараметры: {grid.best_params_}')"
   ]
  },
  {
   "cell_type": "markdown",
   "metadata": {},
   "source": [
    "#### Случайный лес"
   ]
  },
  {
   "cell_type": "code",
   "execution_count": 26,
   "metadata": {},
   "outputs": [
    {
     "name": "stderr",
     "output_type": "stream",
     "text": [
      "/var/folders/m_/d5s2gnsx68l769b4nc3pxzrdn_qnjl/T/ipykernel_65750/3932565519.py:2: ExperimentalWarning: OptunaSearchCV is experimental (supported from v0.17.0). The interface can change in the future.\n",
      "  optuna_search = optuna.integration.OptunaSearchCV(random_forest_model, random_forest_params, scoring='f1', n_trials=200, timeout=300, n_jobs=-1, verbose=1)\n",
      "\u001B[32m[I 2023-03-07 18:02:57,935]\u001B[0m A new study created in memory with name: no-name-bd91e1a3-1647-42f3-8e86-539aed58cea5\u001B[0m\n",
      "\u001B[32m[I 2023-03-07 18:02:57,936]\u001B[0m Searching the best hyperparameters using 12084 samples...\u001B[0m\n",
      "\u001B[32m[I 2023-03-07 18:03:02,147]\u001B[0m Trial 10 finished with value: 0.9512712432274864 and parameters: {'n_estimators': 20, 'max_depth': 18, 'min_samples_split': 3, 'min_samples_leaf': 1}. Best is trial 10 with value: 0.9512712432274864.\u001B[0m\n",
      "\u001B[32m[I 2023-03-07 18:03:11,867]\u001B[0m Trial 2 finished with value: 0.9060858503994051 and parameters: {'n_estimators': 80, 'max_depth': 12, 'min_samples_split': 5, 'min_samples_leaf': 1}. Best is trial 10 with value: 0.9512712432274864.\u001B[0m\n",
      "\u001B[32m[I 2023-03-07 18:03:12,708]\u001B[0m Trial 6 finished with value: 0.8057713746405388 and parameters: {'n_estimators': 100, 'max_depth': 8, 'min_samples_split': 5, 'min_samples_leaf': 9}. Best is trial 10 with value: 0.9512712432274864.\u001B[0m\n",
      "\u001B[32m[I 2023-03-07 18:03:13,718]\u001B[0m Trial 7 finished with value: 0.9381368886467246 and parameters: {'n_estimators': 90, 'max_depth': 14, 'min_samples_split': 5, 'min_samples_leaf': 1}. Best is trial 10 with value: 0.9512712432274864.\u001B[0m\n",
      "\u001B[32m[I 2023-03-07 18:03:13,812]\u001B[0m Trial 4 finished with value: 0.761993306094587 and parameters: {'n_estimators': 140, 'max_depth': 4, 'min_samples_split': 2, 'min_samples_leaf': 4}. Best is trial 10 with value: 0.9512712432274864.\u001B[0m\n",
      "\u001B[32m[I 2023-03-07 18:03:14,372]\u001B[0m Trial 3 finished with value: 0.8680746292801962 and parameters: {'n_estimators': 100, 'max_depth': 12, 'min_samples_split': 4, 'min_samples_leaf': 5}. Best is trial 10 with value: 0.9512712432274864.\u001B[0m\n",
      "\u001B[32m[I 2023-03-07 18:03:17,033]\u001B[0m Trial 8 finished with value: 0.9267598706723865 and parameters: {'n_estimators': 110, 'max_depth': 18, 'min_samples_split': 7, 'min_samples_leaf': 3}. Best is trial 10 with value: 0.9512712432274864.\u001B[0m\n",
      "\u001B[32m[I 2023-03-07 18:03:17,409]\u001B[0m Trial 9 finished with value: 0.7916074393470074 and parameters: {'n_estimators': 140, 'max_depth': 7, 'min_samples_split': 6, 'min_samples_leaf': 8}. Best is trial 10 with value: 0.9512712432274864.\u001B[0m\n",
      "\u001B[32m[I 2023-03-07 18:03:18,566]\u001B[0m Trial 11 finished with value: 0.7915604466944992 and parameters: {'n_estimators': 150, 'max_depth': 7, 'min_samples_split': 7, 'min_samples_leaf': 8}. Best is trial 10 with value: 0.9512712432274864.\u001B[0m\n",
      "\u001B[32m[I 2023-03-07 18:03:19,196]\u001B[0m Trial 19 finished with value: 0.7243086049713787 and parameters: {'n_estimators': 20, 'max_depth': 1, 'min_samples_split': 3, 'min_samples_leaf': 8}. Best is trial 10 with value: 0.9512712432274864.\u001B[0m\n",
      "\u001B[32m[I 2023-03-07 18:03:19,909]\u001B[0m Trial 1 finished with value: 0.810812644493849 and parameters: {'n_estimators': 150, 'max_depth': 8, 'min_samples_split': 5, 'min_samples_leaf': 2}. Best is trial 10 with value: 0.9512712432274864.\u001B[0m\n",
      "\u001B[32m[I 2023-03-07 18:03:20,486]\u001B[0m Trial 5 finished with value: 0.8215426758514607 and parameters: {'n_estimators': 150, 'max_depth': 9, 'min_samples_split': 4, 'min_samples_leaf': 5}. Best is trial 10 with value: 0.9512712432274864.\u001B[0m\n",
      "\u001B[32m[I 2023-03-07 18:03:21,819]\u001B[0m Trial 22 finished with value: 0.9532715863225871 and parameters: {'n_estimators': 10, 'max_depth': 18, 'min_samples_split': 2, 'min_samples_leaf': 1}. Best is trial 22 with value: 0.9532715863225871.\u001B[0m\n",
      "\u001B[32m[I 2023-03-07 18:03:22,008]\u001B[0m Trial 14 finished with value: 0.8501810184332144 and parameters: {'n_estimators': 60, 'max_depth': 10, 'min_samples_split': 7, 'min_samples_leaf': 1}. Best is trial 22 with value: 0.9532715863225871.\u001B[0m\n",
      "\u001B[32m[I 2023-03-07 18:03:23,191]\u001B[0m Trial 15 finished with value: 0.8559191585444701 and parameters: {'n_estimators': 60, 'max_depth': 19, 'min_samples_split': 9, 'min_samples_leaf': 9}. Best is trial 22 with value: 0.9532715863225871.\u001B[0m\n",
      "\u001B[32m[I 2023-03-07 18:03:23,587]\u001B[0m Trial 24 finished with value: 0.9152184743960616 and parameters: {'n_estimators': 10, 'max_depth': 20, 'min_samples_split': 2, 'min_samples_leaf': 3}. Best is trial 22 with value: 0.9532715863225871.\u001B[0m\n",
      "\u001B[32m[I 2023-03-07 18:03:23,841]\u001B[0m Trial 25 finished with value: 0.906533980118498 and parameters: {'n_estimators': 10, 'max_depth': 20, 'min_samples_split': 9, 'min_samples_leaf': 3}. Best is trial 22 with value: 0.9532715863225871.\u001B[0m\n",
      "\u001B[32m[I 2023-03-07 18:03:23,959]\u001B[0m Trial 23 finished with value: 0.9281539128944714 and parameters: {'n_estimators': 20, 'max_depth': 19, 'min_samples_split': 9, 'min_samples_leaf': 1}. Best is trial 22 with value: 0.9532715863225871.\u001B[0m\n",
      "\u001B[32m[I 2023-03-07 18:03:24,153]\u001B[0m Trial 12 finished with value: 0.8162498287573398 and parameters: {'n_estimators': 150, 'max_depth': 9, 'min_samples_split': 3, 'min_samples_leaf': 10}. Best is trial 22 with value: 0.9532715863225871.\u001B[0m\n",
      "\u001B[32m[I 2023-03-07 18:03:24,350]\u001B[0m Trial 0 finished with value: 0.8743712065854545 and parameters: {'n_estimators': 160, 'max_depth': 20, 'min_samples_split': 7, 'min_samples_leaf': 7}. Best is trial 22 with value: 0.9532715863225871.\u001B[0m\n",
      "\u001B[32m[I 2023-03-07 18:03:25,164]\u001B[0m Trial 26 finished with value: 0.9086723492229675 and parameters: {'n_estimators': 10, 'max_depth': 16, 'min_samples_split': 2, 'min_samples_leaf': 3}. Best is trial 22 with value: 0.9532715863225871.\u001B[0m\n",
      "\u001B[32m[I 2023-03-07 18:03:25,284]\u001B[0m Trial 16 finished with value: 0.8128967371344992 and parameters: {'n_estimators': 80, 'max_depth': 8, 'min_samples_split': 3, 'min_samples_leaf': 1}. Best is trial 22 with value: 0.9532715863225871.\u001B[0m\n",
      "\u001B[32m[I 2023-03-07 18:03:29,517]\u001B[0m Trial 13 finished with value: 0.8047426551869945 and parameters: {'n_estimators': 130, 'max_depth': 8, 'min_samples_split': 8, 'min_samples_leaf': 9}. Best is trial 22 with value: 0.9532715863225871.\u001B[0m\n",
      "\u001B[32m[I 2023-03-07 18:03:30,848]\u001B[0m Trial 31 finished with value: 0.8847342974501948 and parameters: {'n_estimators': 40, 'max_depth': 16, 'min_samples_split': 3, 'min_samples_leaf': 6}. Best is trial 22 with value: 0.9532715863225871.\u001B[0m\n",
      "\u001B[32m[I 2023-03-07 18:03:31,716]\u001B[0m Trial 32 finished with value: 0.9347428818936118 and parameters: {'n_estimators': 40, 'max_depth': 15, 'min_samples_split': 3, 'min_samples_leaf': 2}. Best is trial 22 with value: 0.9532715863225871.\u001B[0m\n",
      "\u001B[32m[I 2023-03-07 18:03:32,749]\u001B[0m Trial 18 finished with value: 0.8653523883470283 and parameters: {'n_estimators': 100, 'max_depth': 18, 'min_samples_split': 9, 'min_samples_leaf': 8}. Best is trial 22 with value: 0.9532715863225871.\u001B[0m\n",
      "\u001B[32m[I 2023-03-07 18:03:38,551]\u001B[0m Trial 36 finished with value: 0.9277086755249476 and parameters: {'n_estimators': 40, 'max_depth': 14, 'min_samples_split': 4, 'min_samples_leaf': 2}. Best is trial 22 with value: 0.9532715863225871.\u001B[0m\n",
      "\u001B[32m[I 2023-03-07 18:03:39,554]\u001B[0m Trial 17 finished with value: 0.8344181661576517 and parameters: {'n_estimators': 170, 'max_depth': 10, 'min_samples_split': 9, 'min_samples_leaf': 6}. Best is trial 22 with value: 0.9532715863225871.\u001B[0m\n",
      "\u001B[32m[I 2023-03-07 18:03:40,737]\u001B[0m Trial 20 finished with value: 0.8565226973409142 and parameters: {'n_estimators': 140, 'max_depth': 19, 'min_samples_split': 7, 'min_samples_leaf': 9}. Best is trial 22 with value: 0.9532715863225871.\u001B[0m\n",
      "\u001B[32m[I 2023-03-07 18:03:52,218]\u001B[0m Trial 21 finished with value: 0.9233024394261807 and parameters: {'n_estimators': 200, 'max_depth': 20, 'min_samples_split': 9, 'min_samples_leaf': 3}. Best is trial 22 with value: 0.9532715863225871.\u001B[0m\n",
      "\u001B[32m[I 2023-03-07 18:03:54,564]\u001B[0m Trial 28 finished with value: 0.8846535058790563 and parameters: {'n_estimators': 190, 'max_depth': 16, 'min_samples_split': 3, 'min_samples_leaf': 6}. Best is trial 22 with value: 0.9532715863225871.\u001B[0m\n",
      "\u001B[32m[I 2023-03-07 18:03:54,973]\u001B[0m Trial 27 finished with value: 0.9223429950141713 and parameters: {'n_estimators': 190, 'max_depth': 15, 'min_samples_split': 3, 'min_samples_leaf': 3}. Best is trial 22 with value: 0.9532715863225871.\u001B[0m\n",
      "\u001B[32m[I 2023-03-07 18:03:56,019]\u001B[0m Trial 29 finished with value: 0.882774314013667 and parameters: {'n_estimators': 200, 'max_depth': 15, 'min_samples_split': 3, 'min_samples_leaf': 6}. Best is trial 22 with value: 0.9532715863225871.\u001B[0m\n",
      "\u001B[32m[I 2023-03-07 18:03:56,313]\u001B[0m Trial 33 finished with value: 0.9365573046405098 and parameters: {'n_estimators': 190, 'max_depth': 15, 'min_samples_split': 4, 'min_samples_leaf': 2}. Best is trial 22 with value: 0.9532715863225871.\u001B[0m\n",
      "\u001B[32m[I 2023-03-07 18:03:56,459]\u001B[0m Trial 30 finished with value: 0.8846280342037802 and parameters: {'n_estimators': 200, 'max_depth': 16, 'min_samples_split': 3, 'min_samples_leaf': 6}. Best is trial 22 with value: 0.9532715863225871.\u001B[0m\n",
      "\u001B[32m[I 2023-03-07 18:03:59,295]\u001B[0m Trial 34 finished with value: 0.9366929661707518 and parameters: {'n_estimators': 180, 'max_depth': 15, 'min_samples_split': 4, 'min_samples_leaf': 2}. Best is trial 22 with value: 0.9532715863225871.\u001B[0m\n",
      "\u001B[32m[I 2023-03-07 18:04:00,658]\u001B[0m Trial 35 finished with value: 0.9366929661707518 and parameters: {'n_estimators': 180, 'max_depth': 15, 'min_samples_split': 4, 'min_samples_leaf': 2}. Best is trial 22 with value: 0.9532715863225871.\u001B[0m\n",
      "\u001B[32m[I 2023-03-07 18:04:01,311]\u001B[0m Trial 42 finished with value: 0.9277086755249476 and parameters: {'n_estimators': 40, 'max_depth': 14, 'min_samples_split': 2, 'min_samples_leaf': 2}. Best is trial 22 with value: 0.9532715863225871.\u001B[0m\n",
      "\u001B[32m[I 2023-03-07 18:04:01,746]\u001B[0m Trial 43 finished with value: 0.9157097281396778 and parameters: {'n_estimators': 40, 'max_depth': 13, 'min_samples_split': 2, 'min_samples_leaf': 2}. Best is trial 22 with value: 0.9532715863225871.\u001B[0m\n",
      "\u001B[32m[I 2023-03-07 18:04:01,913]\u001B[0m Trial 41 finished with value: 0.9172280139967605 and parameters: {'n_estimators': 60, 'max_depth': 13, 'min_samples_split': 4, 'min_samples_leaf': 2}. Best is trial 22 with value: 0.9532715863225871.\u001B[0m\n",
      "\u001B[32m[I 2023-03-07 18:04:02,817]\u001B[0m Trial 44 finished with value: 0.9157097281396778 and parameters: {'n_estimators': 40, 'max_depth': 13, 'min_samples_split': 4, 'min_samples_leaf': 2}. Best is trial 22 with value: 0.9532715863225871.\u001B[0m\n",
      "\u001B[32m[I 2023-03-07 18:04:04,116]\u001B[0m Trial 37 finished with value: 0.9316331169082221 and parameters: {'n_estimators': 190, 'max_depth': 14, 'min_samples_split': 4, 'min_samples_leaf': 2}. Best is trial 22 with value: 0.9532715863225871.\u001B[0m\n",
      "\u001B[32m[I 2023-03-07 18:04:06,241]\u001B[0m Trial 46 finished with value: 0.8977506342844348 and parameters: {'n_estimators': 60, 'max_depth': 12, 'min_samples_split': 5, 'min_samples_leaf': 2}. Best is trial 22 with value: 0.9532715863225871.\u001B[0m\n",
      "\u001B[32m[I 2023-03-07 18:04:06,380]\u001B[0m Trial 45 finished with value: 0.9158380338597555 and parameters: {'n_estimators': 60, 'max_depth': 13, 'min_samples_split': 5, 'min_samples_leaf': 2}. Best is trial 22 with value: 0.9532715863225871.\u001B[0m\n",
      "\u001B[32m[I 2023-03-07 18:04:08,056]\u001B[0m Trial 38 finished with value: 0.9178856803856844 and parameters: {'n_estimators': 180, 'max_depth': 13, 'min_samples_split': 2, 'min_samples_leaf': 2}. Best is trial 22 with value: 0.9532715863225871.\u001B[0m\n",
      "\u001B[32m[I 2023-03-07 18:04:09,334]\u001B[0m Trial 47 finished with value: 0.9230940942409245 and parameters: {'n_estimators': 60, 'max_depth': 13, 'min_samples_split': 5, 'min_samples_leaf': 1}. Best is trial 22 with value: 0.9532715863225871.\u001B[0m\n",
      "\u001B[32m[I 2023-03-07 18:04:10,482]\u001B[0m Trial 39 finished with value: 0.9177622252289342 and parameters: {'n_estimators': 190, 'max_depth': 13, 'min_samples_split': 4, 'min_samples_leaf': 2}. Best is trial 22 with value: 0.9532715863225871.\u001B[0m\n",
      "\u001B[32m[I 2023-03-07 18:04:11,548]\u001B[0m Trial 40 finished with value: 0.9177622252289342 and parameters: {'n_estimators': 190, 'max_depth': 13, 'min_samples_split': 4, 'min_samples_leaf': 2}. Best is trial 22 with value: 0.9532715863225871.\u001B[0m\n",
      "\u001B[32m[I 2023-03-07 18:04:14,902]\u001B[0m Trial 51 finished with value: 0.9142329258134501 and parameters: {'n_estimators': 80, 'max_depth': 17, 'min_samples_split': 5, 'min_samples_leaf': 4}. Best is trial 22 with value: 0.9532715863225871.\u001B[0m\n",
      "\u001B[32m[I 2023-03-07 18:04:15,155]\u001B[0m Trial 50 finished with value: 0.9486721791569032 and parameters: {'n_estimators': 80, 'max_depth': 17, 'min_samples_split': 5, 'min_samples_leaf': 1}. Best is trial 22 with value: 0.9532715863225871.\u001B[0m\n",
      "\u001B[32m[I 2023-03-07 18:04:20,520]\u001B[0m Trial 48 finished with value: 0.9253204719690921 and parameters: {'n_estimators': 120, 'max_depth': 13, 'min_samples_split': 5, 'min_samples_leaf': 1}. Best is trial 22 with value: 0.9532715863225871.\u001B[0m\n",
      "\u001B[32m[I 2023-03-07 18:04:21,103]\u001B[0m Trial 49 finished with value: 0.9033820385820389 and parameters: {'n_estimators': 120, 'max_depth': 12, 'min_samples_split': 5, 'min_samples_leaf': 1}. Best is trial 22 with value: 0.9532715863225871.\u001B[0m\n",
      "\u001B[32m[I 2023-03-07 18:04:28,686]\u001B[0m Trial 58 finished with value: 0.9136152260187 and parameters: {'n_estimators': 110, 'max_depth': 17, 'min_samples_split': 6, 'min_samples_leaf': 4}. Best is trial 22 with value: 0.9532715863225871.\u001B[0m\n",
      "\u001B[32m[I 2023-03-07 18:04:29,264]\u001B[0m Trial 57 finished with value: 0.9114073971871157 and parameters: {'n_estimators': 120, 'max_depth': 18, 'min_samples_split': 6, 'min_samples_leaf': 4}. Best is trial 22 with value: 0.9532715863225871.\u001B[0m\n",
      "\u001B[32m[I 2023-03-07 18:04:29,952]\u001B[0m Trial 59 finished with value: 0.9136152260187 and parameters: {'n_estimators': 110, 'max_depth': 17, 'min_samples_split': 6, 'min_samples_leaf': 4}. Best is trial 22 with value: 0.9532715863225871.\u001B[0m\n",
      "\u001B[32m[I 2023-03-07 18:04:31,378]\u001B[0m Trial 52 finished with value: 0.949741872733848 and parameters: {'n_estimators': 170, 'max_depth': 17, 'min_samples_split': 5, 'min_samples_leaf': 1}. Best is trial 22 with value: 0.9532715863225871.\u001B[0m\n",
      "\u001B[32m[I 2023-03-07 18:04:32,480]\u001B[0m Trial 53 finished with value: 0.949741872733848 and parameters: {'n_estimators': 170, 'max_depth': 17, 'min_samples_split': 5, 'min_samples_leaf': 1}. Best is trial 22 with value: 0.9532715863225871.\u001B[0m\n",
      "\u001B[32m[I 2023-03-07 18:04:34,375]\u001B[0m Trial 54 finished with value: 0.9479002156512635 and parameters: {'n_estimators': 170, 'max_depth': 17, 'min_samples_split': 6, 'min_samples_leaf': 1}. Best is trial 22 with value: 0.9532715863225871.\u001B[0m\n",
      "\u001B[32m[I 2023-03-07 18:04:34,656]\u001B[0m Trial 55 finished with value: 0.9481061225155818 and parameters: {'n_estimators': 170, 'max_depth': 18, 'min_samples_split': 6, 'min_samples_leaf': 1}. Best is trial 22 with value: 0.9532715863225871.\u001B[0m\n",
      "\u001B[32m[I 2023-03-07 18:04:35,111]\u001B[0m Trial 60 finished with value: 0.9470992308391558 and parameters: {'n_estimators': 120, 'max_depth': 18, 'min_samples_split': 6, 'min_samples_leaf': 1}. Best is trial 22 with value: 0.9532715863225871.\u001B[0m\n",
      "\u001B[32m[I 2023-03-07 18:04:35,242]\u001B[0m Trial 61 finished with value: 0.9470992308391558 and parameters: {'n_estimators': 120, 'max_depth': 18, 'min_samples_split': 6, 'min_samples_leaf': 1}. Best is trial 22 with value: 0.9532715863225871.\u001B[0m\n",
      "\u001B[32m[I 2023-03-07 18:04:35,592]\u001B[0m Trial 62 finished with value: 0.9488542489306375 and parameters: {'n_estimators': 90, 'max_depth': 18, 'min_samples_split': 6, 'min_samples_leaf': 1}. Best is trial 22 with value: 0.9532715863225871.\u001B[0m\n",
      "\u001B[32m[I 2023-03-07 18:04:35,862]\u001B[0m Trial 56 finished with value: 0.9135071535057682 and parameters: {'n_estimators': 170, 'max_depth': 17, 'min_samples_split': 6, 'min_samples_leaf': 4}. Best is trial 22 with value: 0.9532715863225871.\u001B[0m\n",
      "\u001B[32m[I 2023-03-07 18:04:36,294]\u001B[0m Trial 63 finished with value: 0.9488542489306375 and parameters: {'n_estimators': 90, 'max_depth': 18, 'min_samples_split': 6, 'min_samples_leaf': 1}. Best is trial 22 with value: 0.9532715863225871.\u001B[0m\n",
      "\u001B[32m[I 2023-03-07 18:04:44,681]\u001B[0m Trial 66 finished with value: 0.9313515052761836 and parameters: {'n_estimators': 90, 'max_depth': 18, 'min_samples_split': 10, 'min_samples_leaf': 1}. Best is trial 22 with value: 0.9532715863225871.\u001B[0m\n",
      "\u001B[32m[I 2023-03-07 18:04:47,902]\u001B[0m Trial 68 finished with value: 0.9488542489306375 and parameters: {'n_estimators': 90, 'max_depth': 18, 'min_samples_split': 6, 'min_samples_leaf': 1}. Best is trial 22 with value: 0.9532715863225871.\u001B[0m\n",
      "\u001B[32m[I 2023-03-07 18:04:51,514]\u001B[0m Trial 75 finished with value: 0.9407873726268704 and parameters: {'n_estimators': 90, 'max_depth': 19, 'min_samples_split': 8, 'min_samples_leaf': 1}. Best is trial 22 with value: 0.9532715863225871.\u001B[0m\n",
      "\u001B[32m[I 2023-03-07 18:04:54,972]\u001B[0m Trial 78 finished with value: 0.9386861171672921 and parameters: {'n_estimators': 20, 'max_depth': 19, 'min_samples_split': 7, 'min_samples_leaf': 1}. Best is trial 22 with value: 0.9532715863225871.\u001B[0m\n",
      "\u001B[32m[I 2023-03-07 18:04:55,905]\u001B[0m Trial 64 finished with value: 0.9482379090305283 and parameters: {'n_estimators': 160, 'max_depth': 18, 'min_samples_split': 6, 'min_samples_leaf': 1}. Best is trial 22 with value: 0.9532715863225871.\u001B[0m\n",
      "\u001B[32m[I 2023-03-07 18:04:56,804]\u001B[0m Trial 65 finished with value: 0.9540502508834674 and parameters: {'n_estimators': 160, 'max_depth': 18, 'min_samples_split': 4, 'min_samples_leaf': 1}. Best is trial 65 with value: 0.9540502508834674.\u001B[0m\n",
      "\u001B[32m[I 2023-03-07 18:04:58,753]\u001B[0m Trial 67 finished with value: 0.9482379090305283 and parameters: {'n_estimators': 160, 'max_depth': 18, 'min_samples_split': 6, 'min_samples_leaf': 1}. Best is trial 65 with value: 0.9540502508834674.\u001B[0m\n",
      "\u001B[32m[I 2023-03-07 18:05:00,597]\u001B[0m Trial 76 finished with value: 0.946009849396436 and parameters: {'n_estimators': 90, 'max_depth': 19, 'min_samples_split': 7, 'min_samples_leaf': 1}. Best is trial 65 with value: 0.9540502508834674.\u001B[0m\n",
      "\u001B[32m[I 2023-03-07 18:05:01,942]\u001B[0m Trial 69 finished with value: 0.9482379090305283 and parameters: {'n_estimators': 160, 'max_depth': 18, 'min_samples_split': 6, 'min_samples_leaf': 1}. Best is trial 65 with value: 0.9540502508834674.\u001B[0m\n",
      "\u001B[32m[I 2023-03-07 18:05:02,253]\u001B[0m Trial 70 finished with value: 0.9482379090305283 and parameters: {'n_estimators': 160, 'max_depth': 18, 'min_samples_split': 6, 'min_samples_leaf': 1}. Best is trial 65 with value: 0.9540502508834674.\u001B[0m\n",
      "\u001B[32m[I 2023-03-07 18:05:02,632]\u001B[0m Trial 71 finished with value: 0.9424760054650146 and parameters: {'n_estimators': 160, 'max_depth': 19, 'min_samples_split': 8, 'min_samples_leaf': 1}. Best is trial 65 with value: 0.9540502508834674.\u001B[0m\n",
      "\u001B[32m[I 2023-03-07 18:05:02,865]\u001B[0m Trial 72 finished with value: 0.9444214277671185 and parameters: {'n_estimators': 160, 'max_depth': 19, 'min_samples_split': 7, 'min_samples_leaf': 1}. Best is trial 65 with value: 0.9540502508834674.\u001B[0m\n",
      "\u001B[32m[I 2023-03-07 18:05:03,122]\u001B[0m Trial 73 finished with value: 0.9444214277671185 and parameters: {'n_estimators': 160, 'max_depth': 19, 'min_samples_split': 7, 'min_samples_leaf': 1}. Best is trial 65 with value: 0.9540502508834674.\u001B[0m\n",
      "\u001B[32m[I 2023-03-07 18:05:03,401]\u001B[0m Trial 74 finished with value: 0.9424760054650146 and parameters: {'n_estimators': 160, 'max_depth': 19, 'min_samples_split': 8, 'min_samples_leaf': 1}. Best is trial 65 with value: 0.9540502508834674.\u001B[0m\n",
      "\u001B[32m[I 2023-03-07 18:05:07,337]\u001B[0m Trial 79 finished with value: 0.9451741321688596 and parameters: {'n_estimators': 70, 'max_depth': 20, 'min_samples_split': 7, 'min_samples_leaf': 1}. Best is trial 65 with value: 0.9540502508834674.\u001B[0m\n",
      "\u001B[32m[I 2023-03-07 18:05:08,323]\u001B[0m Trial 80 finished with value: 0.9261476184225377 and parameters: {'n_estimators': 70, 'max_depth': 20, 'min_samples_split': 7, 'min_samples_leaf': 3}. Best is trial 65 with value: 0.9540502508834674.\u001B[0m\n",
      "\u001B[32m[I 2023-03-07 18:05:13,412]\u001B[0m Trial 84 finished with value: 0.8495538972637474 and parameters: {'n_estimators': 70, 'max_depth': 20, 'min_samples_split': 5, 'min_samples_leaf': 10}. Best is trial 65 with value: 0.9540502508834674.\u001B[0m\n",
      "\u001B[32m[I 2023-03-07 18:05:13,555]\u001B[0m Trial 91 finished with value: 0.9215108467860796 and parameters: {'n_estimators': 30, 'max_depth': 16, 'min_samples_split': 5, 'min_samples_leaf': 3}. Best is trial 65 with value: 0.9540502508834674.\u001B[0m\n",
      "\u001B[32m[I 2023-03-07 18:05:14,547]\u001B[0m Trial 87 finished with value: 0.8756292287406435 and parameters: {'n_estimators': 70, 'max_depth': 20, 'min_samples_split': 5, 'min_samples_leaf': 7}. Best is trial 65 with value: 0.9540502508834674.\u001B[0m\n",
      "\u001B[32m[I 2023-03-07 18:05:14,691]\u001B[0m Trial 85 finished with value: 0.9278191585835565 and parameters: {'n_estimators': 70, 'max_depth': 20, 'min_samples_split': 5, 'min_samples_leaf': 3}. Best is trial 65 with value: 0.9540502508834674.\u001B[0m\n",
      "\u001B[32m[I 2023-03-07 18:05:14,949]\u001B[0m Trial 86 finished with value: 0.951218742773275 and parameters: {'n_estimators': 70, 'max_depth': 20, 'min_samples_split': 5, 'min_samples_leaf': 1}. Best is trial 65 with value: 0.9540502508834674.\u001B[0m\n",
      "\u001B[32m[I 2023-03-07 18:05:15,655]\u001B[0m Trial 77 finished with value: 0.9444214277671185 and parameters: {'n_estimators': 160, 'max_depth': 19, 'min_samples_split': 7, 'min_samples_leaf': 1}. Best is trial 65 with value: 0.9540502508834674.\u001B[0m\n",
      "\u001B[32m[I 2023-03-07 18:05:24,405]\u001B[0m Trial 81 finished with value: 0.9274969321623455 and parameters: {'n_estimators': 160, 'max_depth': 20, 'min_samples_split': 7, 'min_samples_leaf': 3}. Best is trial 65 with value: 0.9540502508834674.\u001B[0m\n",
      "\u001B[32m[I 2023-03-07 18:05:24,550]\u001B[0m Trial 82 finished with value: 0.9458392556617703 and parameters: {'n_estimators': 150, 'max_depth': 20, 'min_samples_split': 7, 'min_samples_leaf': 1}. Best is trial 65 with value: 0.9540502508834674.\u001B[0m\n",
      "\u001B[32m[I 2023-03-07 18:05:24,751]\u001B[0m Trial 95 finished with value: 0.7617639320789794 and parameters: {'n_estimators': 100, 'max_depth': 4, 'min_samples_split': 2, 'min_samples_leaf': 2}. Best is trial 65 with value: 0.9540502508834674.\u001B[0m\n",
      "\u001B[32m[I 2023-03-07 18:05:26,438]\u001B[0m Trial 89 finished with value: 0.8735816189539192 and parameters: {'n_estimators': 140, 'max_depth': 20, 'min_samples_split': 5, 'min_samples_leaf': 7}. Best is trial 65 with value: 0.9540502508834674.\u001B[0m\n",
      "\u001B[32m[I 2023-03-07 18:05:26,674]\u001B[0m Trial 83 finished with value: 0.9522916298251249 and parameters: {'n_estimators': 150, 'max_depth': 20, 'min_samples_split': 5, 'min_samples_leaf': 1}. Best is trial 65 with value: 0.9540502508834674.\u001B[0m\n",
      "\u001B[32m[I 2023-03-07 18:05:27,416]\u001B[0m Trial 88 finished with value: 0.9301382225363263 and parameters: {'n_estimators': 140, 'max_depth': 20, 'min_samples_split': 5, 'min_samples_leaf': 3}. Best is trial 65 with value: 0.9540502508834674.\u001B[0m\n",
      "\u001B[32m[I 2023-03-07 18:05:28,819]\u001B[0m Trial 99 finished with value: 0.7273115683409317 and parameters: {'n_estimators': 50, 'max_depth': 1, 'min_samples_split': 3, 'min_samples_leaf': 2}. Best is trial 65 with value: 0.9540502508834674.\u001B[0m\n",
      "\u001B[32m[I 2023-03-07 18:05:29,719]\u001B[0m Trial 90 finished with value: 0.8499403671620545 and parameters: {'n_estimators': 140, 'max_depth': 16, 'min_samples_split': 5, 'min_samples_leaf': 10}. Best is trial 65 with value: 0.9540502508834674.\u001B[0m\n",
      "\u001B[32m[I 2023-03-07 18:05:30,261]\u001B[0m Trial 100 finished with value: 0.9367091136204294 and parameters: {'n_estimators': 30, 'max_depth': 16, 'min_samples_split': 3, 'min_samples_leaf': 2}. Best is trial 65 with value: 0.9540502508834674.\u001B[0m\n",
      "\u001B[32m[I 2023-03-07 18:05:30,504]\u001B[0m Trial 92 finished with value: 0.9385936543452775 and parameters: {'n_estimators': 100, 'max_depth': 16, 'min_samples_split': 5, 'min_samples_leaf': 2}. Best is trial 65 with value: 0.9540502508834674.\u001B[0m\n",
      "\u001B[32m[I 2023-03-07 18:05:30,682]\u001B[0m Trial 93 finished with value: 0.8975943991598575 and parameters: {'n_estimators': 100, 'max_depth': 17, 'min_samples_split': 5, 'min_samples_leaf': 5}. Best is trial 65 with value: 0.9540502508834674.\u001B[0m\n",
      "\u001B[32m[I 2023-03-07 18:05:31,694]\u001B[0m Trial 101 finished with value: 0.8949232077462501 and parameters: {'n_estimators': 30, 'max_depth': 17, 'min_samples_split': 3, 'min_samples_leaf': 5}. Best is trial 65 with value: 0.9540502508834674.\u001B[0m\n",
      "\u001B[32m[I 2023-03-07 18:05:31,993]\u001B[0m Trial 96 finished with value: 0.7828356035812116 and parameters: {'n_estimators': 140, 'max_depth': 6, 'min_samples_split': 3, 'min_samples_leaf': 2}. Best is trial 65 with value: 0.9540502508834674.\u001B[0m\n",
      "\u001B[32m[I 2023-03-07 18:05:32,018]\u001B[0m Trial 94 finished with value: 0.940780268865782 and parameters: {'n_estimators': 100, 'max_depth': 16, 'min_samples_split': 3, 'min_samples_leaf': 2}. Best is trial 65 with value: 0.9540502508834674.\u001B[0m\n",
      "\u001B[32m[I 2023-03-07 18:05:32,802]\u001B[0m Trial 108 finished with value: 0.9415997014919094 and parameters: {'n_estimators': 10, 'max_depth': 17, 'min_samples_split': 4, 'min_samples_leaf': 1}. Best is trial 65 with value: 0.9540502508834674.\u001B[0m\n",
      "\u001B[32m[I 2023-03-07 18:05:33,208]\u001B[0m Trial 97 finished with value: 0.940780268865782 and parameters: {'n_estimators': 100, 'max_depth': 16, 'min_samples_split': 3, 'min_samples_leaf': 2}. Best is trial 65 with value: 0.9540502508834674.\u001B[0m\n",
      "\u001B[32m[I 2023-03-07 18:05:34,162]\u001B[0m Trial 110 finished with value: 0.942239202773575 and parameters: {'n_estimators': 10, 'max_depth': 18, 'min_samples_split': 4, 'min_samples_leaf': 1}. Best is trial 65 with value: 0.9540502508834674.\u001B[0m\n",
      "\u001B[32m[I 2023-03-07 18:05:35,224]\u001B[0m Trial 98 finished with value: 0.762765198885479 and parameters: {'n_estimators': 100, 'max_depth': 4, 'min_samples_split': 3, 'min_samples_leaf': 5}. Best is trial 65 with value: 0.9540502508834674.\u001B[0m\n",
      "\u001B[32m[I 2023-03-07 18:05:35,594]\u001B[0m Trial 102 finished with value: 0.939880773814753 and parameters: {'n_estimators': 50, 'max_depth': 16, 'min_samples_split': 4, 'min_samples_leaf': 2}. Best is trial 65 with value: 0.9540502508834674.\u001B[0m\n",
      "\u001B[32m[I 2023-03-07 18:05:36,164]\u001B[0m Trial 103 finished with value: 0.939880773814753 and parameters: {'n_estimators': 50, 'max_depth': 16, 'min_samples_split': 4, 'min_samples_leaf': 2}. Best is trial 65 with value: 0.9540502508834674.\u001B[0m\n",
      "\u001B[32m[I 2023-03-07 18:05:44,367]\u001B[0m Trial 107 finished with value: 0.9523097182481626 and parameters: {'n_estimators': 80, 'max_depth': 17, 'min_samples_split': 4, 'min_samples_leaf': 1}. Best is trial 65 with value: 0.9540502508834674.\u001B[0m\n",
      "\u001B[32m[I 2023-03-07 18:05:45,840]\u001B[0m Trial 104 finished with value: 0.9429945229594662 and parameters: {'n_estimators': 100, 'max_depth': 17, 'min_samples_split': 4, 'min_samples_leaf': 2}. Best is trial 65 with value: 0.9540502508834674.\u001B[0m\n",
      "\u001B[32m[I 2023-03-07 18:05:46,489]\u001B[0m Trial 112 finished with value: 0.9523097182481626 and parameters: {'n_estimators': 80, 'max_depth': 17, 'min_samples_split': 4, 'min_samples_leaf': 1}. Best is trial 65 with value: 0.9540502508834674.\u001B[0m\n",
      "\u001B[32m[I 2023-03-07 18:05:46,763]\u001B[0m Trial 105 finished with value: 0.9429945229594662 and parameters: {'n_estimators': 100, 'max_depth': 17, 'min_samples_split': 4, 'min_samples_leaf': 2}. Best is trial 65 with value: 0.9540502508834674.\u001B[0m\n",
      "\u001B[32m[I 2023-03-07 18:05:47,038]\u001B[0m Trial 113 finished with value: 0.9523097182481626 and parameters: {'n_estimators': 80, 'max_depth': 17, 'min_samples_split': 4, 'min_samples_leaf': 1}. Best is trial 65 with value: 0.9540502508834674.\u001B[0m\n",
      "\u001B[32m[I 2023-03-07 18:05:47,553]\u001B[0m Trial 106 finished with value: 0.9429945229594662 and parameters: {'n_estimators': 100, 'max_depth': 17, 'min_samples_split': 4, 'min_samples_leaf': 2}. Best is trial 65 with value: 0.9540502508834674.\u001B[0m\n",
      "\u001B[32m[I 2023-03-07 18:05:47,956]\u001B[0m Trial 114 finished with value: 0.9523097182481626 and parameters: {'n_estimators': 80, 'max_depth': 17, 'min_samples_split': 4, 'min_samples_leaf': 1}. Best is trial 65 with value: 0.9540502508834674.\u001B[0m\n",
      "\u001B[32m[I 2023-03-07 18:05:49,233]\u001B[0m Trial 115 finished with value: 0.9552973199656714 and parameters: {'n_estimators': 80, 'max_depth': 19, 'min_samples_split': 4, 'min_samples_leaf': 1}. Best is trial 115 with value: 0.9552973199656714.\u001B[0m\n",
      "\u001B[32m[I 2023-03-07 18:05:49,644]\u001B[0m Trial 116 finished with value: 0.9562914965762594 and parameters: {'n_estimators': 80, 'max_depth': 17, 'min_samples_split': 2, 'min_samples_leaf': 1}. Best is trial 116 with value: 0.9562914965762594.\u001B[0m\n",
      "\u001B[32m[I 2023-03-07 18:05:50,427]\u001B[0m Trial 117 finished with value: 0.9562914965762594 and parameters: {'n_estimators': 80, 'max_depth': 17, 'min_samples_split': 2, 'min_samples_leaf': 1}. Best is trial 116 with value: 0.9562914965762594.\u001B[0m\n",
      "\u001B[32m[I 2023-03-07 18:05:54,768]\u001B[0m Trial 111 finished with value: 0.9523016837450461 and parameters: {'n_estimators': 130, 'max_depth': 17, 'min_samples_split': 4, 'min_samples_leaf': 1}. Best is trial 116 with value: 0.9562914965762594.\u001B[0m\n",
      "\u001B[32m[I 2023-03-07 18:05:58,976]\u001B[0m Trial 118 finished with value: 0.9582697001963909 and parameters: {'n_estimators': 80, 'max_depth': 18, 'min_samples_split': 2, 'min_samples_leaf': 1}. Best is trial 118 with value: 0.9582697001963909.\u001B[0m\n",
      "\u001B[32m[I 2023-03-07 18:06:00,101]\u001B[0m Trial 119 finished with value: 0.9485353226348234 and parameters: {'n_estimators': 80, 'max_depth': 19, 'min_samples_split': 6, 'min_samples_leaf': 1}. Best is trial 118 with value: 0.9582697001963909.\u001B[0m\n",
      "\u001B[32m[I 2023-03-07 18:06:00,977]\u001B[0m Trial 120 finished with value: 0.9552973199656714 and parameters: {'n_estimators': 80, 'max_depth': 19, 'min_samples_split': 4, 'min_samples_leaf': 1}. Best is trial 118 with value: 0.9582697001963909.\u001B[0m\n",
      "\u001B[32m[I 2023-03-07 18:06:01,428]\u001B[0m Trial 121 finished with value: 0.9585174288733226 and parameters: {'n_estimators': 80, 'max_depth': 19, 'min_samples_split': 2, 'min_samples_leaf': 1}. Best is trial 121 with value: 0.9585174288733226.\u001B[0m\n",
      "\u001B[32m[I 2023-03-07 18:06:01,647]\u001B[0m Trial 122 finished with value: 0.9552973199656714 and parameters: {'n_estimators': 80, 'max_depth': 19, 'min_samples_split': 4, 'min_samples_leaf': 1}. Best is trial 121 with value: 0.9585174288733226.\u001B[0m\n",
      "\u001B[32m[I 2023-03-07 18:06:02,112]\u001B[0m Trial 123 finished with value: 0.9582697001963909 and parameters: {'n_estimators': 80, 'max_depth': 18, 'min_samples_split': 2, 'min_samples_leaf': 1}. Best is trial 121 with value: 0.9585174288733226.\u001B[0m\n",
      "\u001B[32m[I 2023-03-07 18:06:02,528]\u001B[0m Trial 124 finished with value: 0.9552973199656714 and parameters: {'n_estimators': 80, 'max_depth': 19, 'min_samples_split': 4, 'min_samples_leaf': 1}. Best is trial 121 with value: 0.9585174288733226.\u001B[0m\n",
      "\u001B[32m[I 2023-03-07 18:06:03,399]\u001B[0m Trial 109 finished with value: 0.9529767133436774 and parameters: {'n_estimators': 180, 'max_depth': 17, 'min_samples_split': 4, 'min_samples_leaf': 1}. Best is trial 121 with value: 0.9585174288733226.\u001B[0m\n",
      "\u001B[32m[I 2023-03-07 18:06:03,649]\u001B[0m Trial 125 finished with value: 0.9552973199656714 and parameters: {'n_estimators': 80, 'max_depth': 19, 'min_samples_split': 4, 'min_samples_leaf': 1}. Best is trial 121 with value: 0.9585174288733226.\u001B[0m\n",
      "\u001B[32m[I 2023-03-07 18:06:04,111]\u001B[0m Trial 126 finished with value: 0.9585174288733226 and parameters: {'n_estimators': 80, 'max_depth': 19, 'min_samples_split': 2, 'min_samples_leaf': 1}. Best is trial 121 with value: 0.9585174288733226.\u001B[0m\n",
      "\u001B[32m[I 2023-03-07 18:06:04,855]\u001B[0m Trial 127 finished with value: 0.9585174288733226 and parameters: {'n_estimators': 80, 'max_depth': 19, 'min_samples_split': 2, 'min_samples_leaf': 1}. Best is trial 121 with value: 0.9585174288733226.\u001B[0m\n",
      "\u001B[32m[I 2023-03-07 18:06:09,090]\u001B[0m Trial 128 finished with value: 0.9523390988671974 and parameters: {'n_estimators': 80, 'max_depth': 15, 'min_samples_split': 2, 'min_samples_leaf': 1}. Best is trial 121 with value: 0.9585174288733226.\u001B[0m\n",
      "\u001B[32m[I 2023-03-07 18:06:12,415]\u001B[0m Trial 130 finished with value: 0.8864828663230391 and parameters: {'n_estimators': 80, 'max_depth': 11, 'min_samples_split': 2, 'min_samples_leaf': 1}. Best is trial 121 with value: 0.9585174288733226.\u001B[0m\n",
      "\u001B[32m[I 2023-03-07 18:06:13,226]\u001B[0m Trial 129 finished with value: 0.9523390988671974 and parameters: {'n_estimators': 80, 'max_depth': 15, 'min_samples_split': 2, 'min_samples_leaf': 1}. Best is trial 121 with value: 0.9585174288733226.\u001B[0m\n",
      "\u001B[32m[I 2023-03-07 18:06:15,086]\u001B[0m Trial 131 finished with value: 0.9523390988671974 and parameters: {'n_estimators': 80, 'max_depth': 15, 'min_samples_split': 2, 'min_samples_leaf': 1}. Best is trial 121 with value: 0.9585174288733226.\u001B[0m\n",
      "\u001B[32m[I 2023-03-07 18:06:15,530]\u001B[0m Trial 132 finished with value: 0.9523390988671974 and parameters: {'n_estimators': 80, 'max_depth': 15, 'min_samples_split': 2, 'min_samples_leaf': 1}. Best is trial 121 with value: 0.9585174288733226.\u001B[0m\n",
      "\u001B[32m[I 2023-03-07 18:06:15,897]\u001B[0m Trial 133 finished with value: 0.9585174288733226 and parameters: {'n_estimators': 80, 'max_depth': 19, 'min_samples_split': 2, 'min_samples_leaf': 1}. Best is trial 121 with value: 0.9585174288733226.\u001B[0m\n",
      "\u001B[32m[I 2023-03-07 18:06:16,370]\u001B[0m Trial 134 finished with value: 0.9585174288733226 and parameters: {'n_estimators': 80, 'max_depth': 19, 'min_samples_split': 2, 'min_samples_leaf': 1}. Best is trial 121 with value: 0.9585174288733226.\u001B[0m\n",
      "\u001B[32m[I 2023-03-07 18:06:16,727]\u001B[0m Trial 135 finished with value: 0.9585174288733226 and parameters: {'n_estimators': 80, 'max_depth': 19, 'min_samples_split': 2, 'min_samples_leaf': 1}. Best is trial 121 with value: 0.9585174288733226.\u001B[0m\n",
      "\u001B[32m[I 2023-03-07 18:06:17,713]\u001B[0m Trial 136 finished with value: 0.9585174288733226 and parameters: {'n_estimators': 80, 'max_depth': 19, 'min_samples_split': 2, 'min_samples_leaf': 1}. Best is trial 121 with value: 0.9585174288733226.\u001B[0m\n",
      "\u001B[32m[I 2023-03-07 18:06:17,965]\u001B[0m Trial 137 finished with value: 0.9585174288733226 and parameters: {'n_estimators': 80, 'max_depth': 19, 'min_samples_split': 2, 'min_samples_leaf': 1}. Best is trial 121 with value: 0.9585174288733226.\u001B[0m\n",
      "\u001B[32m[I 2023-03-07 18:06:20,359]\u001B[0m Trial 138 finished with value: 0.9581416417144032 and parameters: {'n_estimators': 90, 'max_depth': 19, 'min_samples_split': 2, 'min_samples_leaf': 1}. Best is trial 121 with value: 0.9585174288733226.\u001B[0m\n",
      "\u001B[32m[I 2023-03-07 18:06:21,036]\u001B[0m Trial 139 finished with value: 0.9581416417144032 and parameters: {'n_estimators': 90, 'max_depth': 19, 'min_samples_split': 2, 'min_samples_leaf': 1}. Best is trial 121 with value: 0.9585174288733226.\u001B[0m\n",
      "\u001B[32m[I 2023-03-07 18:06:25,050]\u001B[0m Trial 140 finished with value: 0.9581416417144032 and parameters: {'n_estimators': 90, 'max_depth': 19, 'min_samples_split': 2, 'min_samples_leaf': 1}. Best is trial 121 with value: 0.9585174288733226.\u001B[0m\n",
      "\u001B[32m[I 2023-03-07 18:06:28,487]\u001B[0m Trial 141 finished with value: 0.9581416417144032 and parameters: {'n_estimators': 90, 'max_depth': 19, 'min_samples_split': 2, 'min_samples_leaf': 1}. Best is trial 121 with value: 0.9585174288733226.\u001B[0m\n",
      "\u001B[32m[I 2023-03-07 18:06:29,408]\u001B[0m Trial 142 finished with value: 0.9581416417144032 and parameters: {'n_estimators': 90, 'max_depth': 19, 'min_samples_split': 2, 'min_samples_leaf': 1}. Best is trial 121 with value: 0.9585174288733226.\u001B[0m\n",
      "\u001B[32m[I 2023-03-07 18:06:30,527]\u001B[0m Trial 149 finished with value: 0.9576898937815189 and parameters: {'n_estimators': 70, 'max_depth': 19, 'min_samples_split': 2, 'min_samples_leaf': 1}. Best is trial 121 with value: 0.9585174288733226.\u001B[0m\n",
      "\u001B[32m[I 2023-03-07 18:06:31,038]\u001B[0m Trial 143 finished with value: 0.9581416417144032 and parameters: {'n_estimators': 90, 'max_depth': 19, 'min_samples_split': 2, 'min_samples_leaf': 1}. Best is trial 121 with value: 0.9585174288733226.\u001B[0m\n",
      "\u001B[32m[I 2023-03-07 18:06:31,543]\u001B[0m Trial 144 finished with value: 0.9581416417144032 and parameters: {'n_estimators': 90, 'max_depth': 19, 'min_samples_split': 2, 'min_samples_leaf': 1}. Best is trial 121 with value: 0.9585174288733226.\u001B[0m\n",
      "\u001B[32m[I 2023-03-07 18:06:31,905]\u001B[0m Trial 145 finished with value: 0.9581416417144032 and parameters: {'n_estimators': 90, 'max_depth': 19, 'min_samples_split': 2, 'min_samples_leaf': 1}. Best is trial 121 with value: 0.9585174288733226.\u001B[0m\n",
      "\u001B[32m[I 2023-03-07 18:06:32,292]\u001B[0m Trial 146 finished with value: 0.9581416417144032 and parameters: {'n_estimators': 90, 'max_depth': 19, 'min_samples_split': 2, 'min_samples_leaf': 1}. Best is trial 121 with value: 0.9585174288733226.\u001B[0m\n",
      "\u001B[32m[I 2023-03-07 18:06:32,766]\u001B[0m Trial 147 finished with value: 0.9581416417144032 and parameters: {'n_estimators': 90, 'max_depth': 19, 'min_samples_split': 2, 'min_samples_leaf': 1}. Best is trial 121 with value: 0.9585174288733226.\u001B[0m\n",
      "\u001B[32m[I 2023-03-07 18:06:33,857]\u001B[0m Trial 148 finished with value: 0.9581416417144032 and parameters: {'n_estimators': 90, 'max_depth': 19, 'min_samples_split': 2, 'min_samples_leaf': 1}. Best is trial 121 with value: 0.9585174288733226.\u001B[0m\n",
      "\u001B[32m[I 2023-03-07 18:06:36,474]\u001B[0m Trial 150 finished with value: 0.9581416417144032 and parameters: {'n_estimators': 90, 'max_depth': 19, 'min_samples_split': 2, 'min_samples_leaf': 1}. Best is trial 121 with value: 0.9585174288733226.\u001B[0m\n",
      "\u001B[32m[I 2023-03-07 18:06:37,102]\u001B[0m Trial 151 finished with value: 0.9581892115010925 and parameters: {'n_estimators': 90, 'max_depth': 18, 'min_samples_split': 2, 'min_samples_leaf': 1}. Best is trial 121 with value: 0.9585174288733226.\u001B[0m\n",
      "\u001B[32m[I 2023-03-07 18:06:41,332]\u001B[0m Trial 152 finished with value: 0.9581892115010925 and parameters: {'n_estimators': 90, 'max_depth': 18, 'min_samples_split': 2, 'min_samples_leaf': 1}. Best is trial 121 with value: 0.9585174288733226.\u001B[0m\n",
      "\u001B[32m[I 2023-03-07 18:06:44,609]\u001B[0m Trial 153 finished with value: 0.9581416417144032 and parameters: {'n_estimators': 90, 'max_depth': 19, 'min_samples_split': 2, 'min_samples_leaf': 1}. Best is trial 121 with value: 0.9585174288733226.\u001B[0m\n",
      "\u001B[32m[I 2023-03-07 18:06:44,725]\u001B[0m Trial 159 finished with value: 0.958114469432928 and parameters: {'n_estimators': 70, 'max_depth': 18, 'min_samples_split': 2, 'min_samples_leaf': 1}. Best is trial 121 with value: 0.9585174288733226.\u001B[0m\n",
      "\u001B[32m[I 2023-03-07 18:06:45,229]\u001B[0m Trial 160 finished with value: 0.958114469432928 and parameters: {'n_estimators': 70, 'max_depth': 18, 'min_samples_split': 2, 'min_samples_leaf': 1}. Best is trial 121 with value: 0.9585174288733226.\u001B[0m\n",
      "\u001B[32m[I 2023-03-07 18:06:45,470]\u001B[0m Trial 154 finished with value: 0.9581416417144032 and parameters: {'n_estimators': 90, 'max_depth': 19, 'min_samples_split': 2, 'min_samples_leaf': 1}. Best is trial 121 with value: 0.9585174288733226.\u001B[0m\n",
      "\u001B[32m[I 2023-03-07 18:06:46,479]\u001B[0m Trial 161 finished with value: 0.958114469432928 and parameters: {'n_estimators': 70, 'max_depth': 18, 'min_samples_split': 2, 'min_samples_leaf': 1}. Best is trial 121 with value: 0.9585174288733226.\u001B[0m\n",
      "\u001B[32m[I 2023-03-07 18:06:46,500]\u001B[0m Trial 155 finished with value: 0.9581416417144032 and parameters: {'n_estimators': 90, 'max_depth': 19, 'min_samples_split': 2, 'min_samples_leaf': 1}. Best is trial 121 with value: 0.9585174288733226.\u001B[0m\n",
      "\u001B[32m[I 2023-03-07 18:06:46,988]\u001B[0m Trial 156 finished with value: 0.9581892115010925 and parameters: {'n_estimators': 90, 'max_depth': 18, 'min_samples_split': 2, 'min_samples_leaf': 1}. Best is trial 121 with value: 0.9585174288733226.\u001B[0m\n",
      "\u001B[32m[I 2023-03-07 18:06:47,723]\u001B[0m Trial 157 finished with value: 0.9581892115010925 and parameters: {'n_estimators': 90, 'max_depth': 18, 'min_samples_split': 2, 'min_samples_leaf': 1}. Best is trial 121 with value: 0.9585174288733226.\u001B[0m\n",
      "\u001B[32m[I 2023-03-07 18:06:48,028]\u001B[0m Trial 158 finished with value: 0.9581892115010925 and parameters: {'n_estimators': 90, 'max_depth': 18, 'min_samples_split': 2, 'min_samples_leaf': 1}. Best is trial 121 with value: 0.9585174288733226.\u001B[0m\n",
      "\u001B[32m[I 2023-03-07 18:06:48,996]\u001B[0m Trial 162 finished with value: 0.958114469432928 and parameters: {'n_estimators': 70, 'max_depth': 18, 'min_samples_split': 2, 'min_samples_leaf': 1}. Best is trial 121 with value: 0.9585174288733226.\u001B[0m\n",
      "\u001B[32m[I 2023-03-07 18:06:49,498]\u001B[0m Trial 163 finished with value: 0.958114469432928 and parameters: {'n_estimators': 70, 'max_depth': 18, 'min_samples_split': 2, 'min_samples_leaf': 1}. Best is trial 121 with value: 0.9585174288733226.\u001B[0m\n",
      "\u001B[32m[I 2023-03-07 18:06:53,875]\u001B[0m Trial 164 finished with value: 0.958114469432928 and parameters: {'n_estimators': 70, 'max_depth': 18, 'min_samples_split': 2, 'min_samples_leaf': 1}. Best is trial 121 with value: 0.9585174288733226.\u001B[0m\n",
      "\u001B[32m[I 2023-03-07 18:06:57,276]\u001B[0m Trial 166 finished with value: 0.958114469432928 and parameters: {'n_estimators': 70, 'max_depth': 18, 'min_samples_split': 2, 'min_samples_leaf': 1}. Best is trial 121 with value: 0.9585174288733226.\u001B[0m\n",
      "\u001B[32m[I 2023-03-07 18:06:57,463]\u001B[0m Trial 165 finished with value: 0.958114469432928 and parameters: {'n_estimators': 70, 'max_depth': 18, 'min_samples_split': 2, 'min_samples_leaf': 1}. Best is trial 121 with value: 0.9585174288733226.\u001B[0m\n",
      "\u001B[32m[I 2023-03-07 18:06:58,136]\u001B[0m Trial 167 finished with value: 0.9581907476035261 and parameters: {'n_estimators': 70, 'max_depth': 20, 'min_samples_split': 2, 'min_samples_leaf': 1}. Best is trial 121 with value: 0.9585174288733226.\u001B[0m\n",
      "\u001B[32m[I 2023-03-07 18:06:59,069]\u001B[0m Trial 170 finished with value: 0.9431018750228526 and parameters: {'n_estimators': 70, 'max_depth': 20, 'min_samples_split': 2, 'min_samples_leaf': 2}. Best is trial 121 with value: 0.9585174288733226.\u001B[0m\n",
      "\u001B[32m[I 2023-03-07 18:06:59,574]\u001B[0m Trial 171 finished with value: 0.9442495315266601 and parameters: {'n_estimators': 70, 'max_depth': 18, 'min_samples_split': 2, 'min_samples_leaf': 2}. Best is trial 121 with value: 0.9585174288733226.\u001B[0m\n",
      "\u001B[32m[I 2023-03-07 18:07:00,497]\u001B[0m Trial 172 finished with value: 0.958114469432928 and parameters: {'n_estimators': 70, 'max_depth': 18, 'min_samples_split': 2, 'min_samples_leaf': 1}. Best is trial 121 with value: 0.9585174288733226.\u001B[0m\n",
      "\u001B[32m[I 2023-03-07 18:07:01,499]\u001B[0m Trial 174 finished with value: 0.9442495315266601 and parameters: {'n_estimators': 70, 'max_depth': 18, 'min_samples_split': 2, 'min_samples_leaf': 2}. Best is trial 121 with value: 0.9585174288733226.\u001B[0m\n",
      "\u001B[32m[I 2023-03-07 18:07:04,686]\u001B[0m Trial 168 finished with value: 0.9441263060155697 and parameters: {'n_estimators': 110, 'max_depth': 20, 'min_samples_split': 2, 'min_samples_leaf': 2}. Best is trial 121 with value: 0.9585174288733226.\u001B[0m\n",
      "\u001B[32m[I 2023-03-07 18:07:06,020]\u001B[0m Trial 169 finished with value: 0.9441263060155697 and parameters: {'n_estimators': 110, 'max_depth': 20, 'min_samples_split': 2, 'min_samples_leaf': 2}. Best is trial 121 with value: 0.9585174288733226.\u001B[0m\n",
      "\u001B[32m[I 2023-03-07 18:07:07,261]\u001B[0m Trial 173 finished with value: 0.9445616029516483 and parameters: {'n_estimators': 110, 'max_depth': 18, 'min_samples_split': 2, 'min_samples_leaf': 2}. Best is trial 121 with value: 0.9585174288733226.\u001B[0m\n",
      "\u001B[32m[I 2023-03-07 18:07:09,074]\u001B[0m Trial 175 finished with value: 0.9441263060155697 and parameters: {'n_estimators': 110, 'max_depth': 20, 'min_samples_split': 2, 'min_samples_leaf': 2}. Best is trial 121 with value: 0.9585174288733226.\u001B[0m\n",
      "\u001B[32m[I 2023-03-07 18:07:10,206]\u001B[0m Trial 181 finished with value: 0.9431906139095009 and parameters: {'n_estimators': 60, 'max_depth': 20, 'min_samples_split': 3, 'min_samples_leaf': 2}. Best is trial 121 with value: 0.9585174288733226.\u001B[0m\n",
      "\u001B[32m[I 2023-03-07 18:07:12,075]\u001B[0m Trial 183 finished with value: 0.9573643116067458 and parameters: {'n_estimators': 60, 'max_depth': 20, 'min_samples_split': 2, 'min_samples_leaf': 1}. Best is trial 121 with value: 0.9585174288733226.\u001B[0m\n",
      "\u001B[32m[I 2023-03-07 18:07:12,140]\u001B[0m Trial 179 finished with value: 0.9443119876176695 and parameters: {'n_estimators': 80, 'max_depth': 20, 'min_samples_split': 2, 'min_samples_leaf': 2}. Best is trial 121 with value: 0.9585174288733226.\u001B[0m\n",
      "\u001B[32m[I 2023-03-07 18:07:13,254]\u001B[0m Trial 176 finished with value: 0.9441263060155697 and parameters: {'n_estimators': 110, 'max_depth': 20, 'min_samples_split': 2, 'min_samples_leaf': 2}. Best is trial 121 with value: 0.9585174288733226.\u001B[0m\n",
      "\u001B[32m[I 2023-03-07 18:07:15,484]\u001B[0m Trial 184 finished with value: 0.9573643116067458 and parameters: {'n_estimators': 60, 'max_depth': 20, 'min_samples_split': 2, 'min_samples_leaf': 1}. Best is trial 121 with value: 0.9585174288733226.\u001B[0m\n",
      "\u001B[32m[I 2023-03-07 18:07:16,767]\u001B[0m Trial 185 finished with value: 0.9582983646469646 and parameters: {'n_estimators': 60, 'max_depth': 20, 'min_samples_split': 3, 'min_samples_leaf': 1}. Best is trial 121 with value: 0.9585174288733226.\u001B[0m\n",
      "\u001B[32m[I 2023-03-07 18:07:16,802]\u001B[0m Trial 177 finished with value: 0.9441263060155697 and parameters: {'n_estimators': 110, 'max_depth': 20, 'min_samples_split': 2, 'min_samples_leaf': 2}. Best is trial 121 with value: 0.9585174288733226.\u001B[0m\n",
      "\u001B[32m[I 2023-03-07 18:07:17,073]\u001B[0m Trial 178 finished with value: 0.9441263060155697 and parameters: {'n_estimators': 110, 'max_depth': 20, 'min_samples_split': 2, 'min_samples_leaf': 2}. Best is trial 121 with value: 0.9585174288733226.\u001B[0m\n",
      "\u001B[32m[I 2023-03-07 18:07:18,324]\u001B[0m Trial 180 finished with value: 0.9441263060155697 and parameters: {'n_estimators': 110, 'max_depth': 20, 'min_samples_split': 2, 'min_samples_leaf': 2}. Best is trial 121 with value: 0.9585174288733226.\u001B[0m\n",
      "\u001B[32m[I 2023-03-07 18:07:20,264]\u001B[0m Trial 182 finished with value: 0.958116855504182 and parameters: {'n_estimators': 110, 'max_depth': 20, 'min_samples_split': 2, 'min_samples_leaf': 1}. Best is trial 121 with value: 0.9585174288733226.\u001B[0m\n",
      "\u001B[32m[I 2023-03-07 18:07:21,793]\u001B[0m Trial 186 finished with value: 0.958559159528203 and parameters: {'n_estimators': 80, 'max_depth': 20, 'min_samples_split': 3, 'min_samples_leaf': 1}. Best is trial 186 with value: 0.958559159528203.\u001B[0m\n",
      "\u001B[32m[I 2023-03-07 18:07:23,544]\u001B[0m Trial 187 finished with value: 0.9581161060400891 and parameters: {'n_estimators': 80, 'max_depth': 20, 'min_samples_split': 2, 'min_samples_leaf': 1}. Best is trial 186 with value: 0.958559159528203.\u001B[0m\n",
      "\u001B[32m[I 2023-03-07 18:07:24,537]\u001B[0m Trial 188 finished with value: 0.9581161060400891 and parameters: {'n_estimators': 80, 'max_depth': 20, 'min_samples_split': 2, 'min_samples_leaf': 1}. Best is trial 186 with value: 0.958559159528203.\u001B[0m\n",
      "\u001B[32m[I 2023-03-07 18:07:26,307]\u001B[0m Trial 190 finished with value: 0.9582697001963909 and parameters: {'n_estimators': 80, 'max_depth': 18, 'min_samples_split': 2, 'min_samples_leaf': 1}. Best is trial 186 with value: 0.958559159528203.\u001B[0m\n",
      "\u001B[32m[I 2023-03-07 18:07:26,383]\u001B[0m Trial 189 finished with value: 0.9582697001963909 and parameters: {'n_estimators': 80, 'max_depth': 18, 'min_samples_split': 2, 'min_samples_leaf': 1}. Best is trial 186 with value: 0.958559159528203.\u001B[0m\n",
      "\u001B[32m[I 2023-03-07 18:07:27,197]\u001B[0m Trial 191 finished with value: 0.9554587472228189 and parameters: {'n_estimators': 80, 'max_depth': 18, 'min_samples_split': 3, 'min_samples_leaf': 1}. Best is trial 186 with value: 0.958559159528203.\u001B[0m\n",
      "\u001B[32m[I 2023-03-07 18:07:29,262]\u001B[0m Trial 193 finished with value: 0.9572293273396028 and parameters: {'n_estimators': 80, 'max_depth': 19, 'min_samples_split': 3, 'min_samples_leaf': 1}. Best is trial 186 with value: 0.958559159528203.\u001B[0m\n",
      "\u001B[32m[I 2023-03-07 18:07:29,344]\u001B[0m Trial 194 finished with value: 0.9572293273396028 and parameters: {'n_estimators': 80, 'max_depth': 19, 'min_samples_split': 3, 'min_samples_leaf': 1}. Best is trial 186 with value: 0.958559159528203.\u001B[0m\n",
      "\u001B[32m[I 2023-03-07 18:07:29,419]\u001B[0m Trial 195 finished with value: 0.9572293273396028 and parameters: {'n_estimators': 80, 'max_depth': 19, 'min_samples_split': 3, 'min_samples_leaf': 1}. Best is trial 186 with value: 0.958559159528203.\u001B[0m\n",
      "\u001B[32m[I 2023-03-07 18:07:29,652]\u001B[0m Trial 192 finished with value: 0.9581416417144032 and parameters: {'n_estimators': 90, 'max_depth': 19, 'min_samples_split': 2, 'min_samples_leaf': 1}. Best is trial 186 with value: 0.958559159528203.\u001B[0m\n",
      "\u001B[32m[I 2023-03-07 18:07:29,927]\u001B[0m Trial 196 finished with value: 0.9572293273396028 and parameters: {'n_estimators': 80, 'max_depth': 19, 'min_samples_split': 3, 'min_samples_leaf': 1}. Best is trial 186 with value: 0.958559159528203.\u001B[0m\n",
      "\u001B[32m[I 2023-03-07 18:07:30,553]\u001B[0m Trial 197 finished with value: 0.9572293273396028 and parameters: {'n_estimators': 80, 'max_depth': 19, 'min_samples_split': 3, 'min_samples_leaf': 1}. Best is trial 186 with value: 0.958559159528203.\u001B[0m\n",
      "\u001B[32m[I 2023-03-07 18:07:30,947]\u001B[0m Trial 199 finished with value: 0.8576925920708909 and parameters: {'n_estimators': 80, 'max_depth': 19, 'min_samples_split': 3, 'min_samples_leaf': 9}. Best is trial 186 with value: 0.958559159528203.\u001B[0m\n",
      "\u001B[32m[I 2023-03-07 18:07:31,029]\u001B[0m Trial 198 finished with value: 0.9572293273396028 and parameters: {'n_estimators': 80, 'max_depth': 19, 'min_samples_split': 3, 'min_samples_leaf': 1}. Best is trial 186 with value: 0.958559159528203.\u001B[0m\n",
      "\u001B[32m[I 2023-03-07 18:07:31,030]\u001B[0m Finished hyperparemeter search!\u001B[0m\n",
      "\u001B[32m[I 2023-03-07 18:07:31,031]\u001B[0m Refitting the estimator using 12084 samples...\u001B[0m\n",
      "\u001B[32m[I 2023-03-07 18:07:31,931]\u001B[0m Finished refitting! (elapsed time: 0.899 sec.)\u001B[0m\n"
     ]
    },
    {
     "name": "stdout",
     "output_type": "stream",
     "text": [
      "f1 = 0.958559159528203\n",
      "AUC-ROC = 1.0\n",
      "Оптимальные гиперпараметры: {'n_estimators': 80, 'max_depth': 20, 'min_samples_split': 3, 'min_samples_leaf': 1}\n"
     ]
    }
   ],
   "source": [
    "random_forest_model = RandomForestClassifier(random_state=RANDOM_STATE)\n",
    "optuna_search = optuna.integration.OptunaSearchCV(random_forest_model, random_forest_params, scoring='f1', n_trials=OPTUNA_N_TRIALS, timeout=OPTUNA_TIMEOUT, n_jobs=-1, verbose=1)\n",
    "optuna_search.fit(train_features_upsampled, train_target_upsampled)\n",
    "random_forest_model_upsample = optuna_search.best_estimator_\n",
    "print(f'f1 = {optuna_search.best_score_}')\n",
    "print(f'AUC-ROC = {roc_auc(random_forest_model_upsample, features_train, target_train)}')\n",
    "print(f'Оптимальные гиперпараметры: {optuna_search.best_params_}')"
   ]
  },
  {
   "cell_type": "markdown",
   "metadata": {},
   "source": [
    "#### Логистическая регрессия"
   ]
  },
  {
   "cell_type": "code",
   "execution_count": 27,
   "metadata": {},
   "outputs": [
    {
     "name": "stdout",
     "output_type": "stream",
     "text": [
      "Fitting 5 folds for each of 171 candidates, totalling 855 fits\n",
      "f1 = 0.6983428102778019\n",
      "AUC-ROC = 0.7669186132141967\n",
      "Оптимальные гиперпараметры: {'max_iter': 30, 'solver': 'liblinear'}\n"
     ]
    }
   ],
   "source": [
    "logistic_regression_model = LogisticRegression(random_state=RANDOM_STATE)\n",
    "grid = GridSearchCV(logistic_regression_model, logistic_regression_params, scoring='f1', n_jobs=-1, verbose=1)\n",
    "grid.fit(train_features_upsampled, train_target_upsampled)\n",
    "logistic_regression_model_upsample = grid.best_estimator_\n",
    "print(f'f1 = {grid.best_score_}')\n",
    "print(f'AUC-ROC = {roc_auc(logistic_regression_model_upsample, features_train, target_train)}')\n",
    "print(f'Оптимальные гиперпараметры: {grid.best_params_}')"
   ]
  },
  {
   "cell_type": "markdown",
   "metadata": {},
   "source": [
    "#### Вывод\n",
    "С помощью увеличения выборки удалось достигнуть значения метрики f1 равного 0.958 при помощи модели случайного леса. AUC-ROC вобще достигла максимума - 1. Для остальных моделей метрики также увеличилась. Однако есть подозрение, что дублирование данных привело к переобучению некоторых моделей и они слишком хорошо стали предсказывать единицу. Проверим это в последующем на тестовой выборке.\n",
    "\n",
    "|             | Дерево решений                                                                    | Случайный лес                                                                                           | Логистическая регрессия                                  |\n",
    "|-------------|-----------------------------------------------------------------------------------|---------------------------------------------------------------------------------------------------------|----------------------------------------------------------|\n",
    "| Дисбаланс   | 0.566/0.877<br />{'max_depth': 7, 'min_samples_leaf': 2, 'min_samples_split': 8}  | 0.586/0.998<br />{'n_estimators': 190, 'max_depth': 20, 'min_samples_split': 6, 'min_samples_leaf': 1}  | 0.31/0.764<br />{'max_iter': 30, 'solver': 'liblinear'}  |\n",
    "| Взвешивание | 0.574/0.881<br />{'max_depth': 7, 'min_samples_leaf': 6, 'min_samples_split': 2}  | 0.624/0.982<br />{'n_estimators': 190, 'max_depth': 16, 'min_samples_split': 10, 'min_samples_leaf': 4} | 0.484/0.767<br />{'max_iter': 30, 'solver': 'liblinear'} |\n",
    "| Увеличение  | 0.931/0.999<br />{'max_depth': 20, 'min_samples_leaf': 1, 'min_samples_split': 2} | 0.958/1<br />{'n_estimators': 140, 'max_depth': 18, 'min_samples_split': 2, 'min_samples_leaf': 1}      | 0.698/0.767<br />{'max_iter': 30, 'solver': 'liblinear'} |"
   ]
  },
  {
   "cell_type": "markdown",
   "metadata": {},
   "source": [
    "### Продвинутое увеличение выборки\n",
    "Воспользуемся функционалом библиотеки imblearn для увеличения выборки."
   ]
  },
  {
   "cell_type": "markdown",
   "metadata": {},
   "source": [
    "#### Дерево решений"
   ]
  },
  {
   "cell_type": "code",
   "execution_count": 28,
   "metadata": {},
   "outputs": [
    {
     "name": "stdout",
     "output_type": "stream",
     "text": [
      "Fitting 5 folds for each of 1800 candidates, totalling 9000 fits\n",
      "f1 = 0.5710416947242544\n",
      "AUC-ROC = 0.8729904585272282\n",
      "Оптимальные гиперпараметры: {'decisiontreeclassifier__max_depth': 8, 'decisiontreeclassifier__min_samples_leaf': 9, 'decisiontreeclassifier__min_samples_split': 2}\n"
     ]
    }
   ],
   "source": [
    "imba_pipeline = make_pipeline(\n",
    "    SMOTE(random_state=RANDOM_STATE),\n",
    "    DecisionTreeClassifier(random_state=RANDOM_STATE)\n",
    ")\n",
    "\n",
    "decision_tree_pipline_params = {'decisiontreeclassifier__' + key: value for key, value in decision_tree_params.items()}\n",
    "grid = GridSearchCV(imba_pipeline, decision_tree_pipline_params, scoring='f1', n_jobs=-1, verbose=1)\n",
    "grid.fit(features_train, target_train)\n",
    "decision_tree_model_imba = grid.best_estimator_\n",
    "print(f'f1 = {grid.best_score_}')\n",
    "print(f'AUC-ROC = {roc_auc(decision_tree_model_imba, features_train, target_train)}')\n",
    "print(f'Оптимальные гиперпараметры: {grid.best_params_}')"
   ]
  },
  {
   "cell_type": "markdown",
   "metadata": {},
   "source": [
    "#### Случайный лес"
   ]
  },
  {
   "cell_type": "code",
   "execution_count": 29,
   "metadata": {},
   "outputs": [
    {
     "name": "stderr",
     "output_type": "stream",
     "text": [
      "/var/folders/m_/d5s2gnsx68l769b4nc3pxzrdn_qnjl/T/ipykernel_65750/483080382.py:6: ExperimentalWarning: OptunaSearchCV is experimental (supported from v0.17.0). The interface can change in the future.\n",
      "  optuna_search = optuna.integration.OptunaSearchCV(\n",
      "\u001B[32m[I 2023-03-07 18:09:18,174]\u001B[0m A new study created in memory with name: no-name-da7011cf-9176-45fb-bd33-e6694e754ada\u001B[0m\n",
      "\u001B[32m[I 2023-03-07 18:09:18,175]\u001B[0m Searching the best hyperparameters using 7500 samples...\u001B[0m\n",
      "\u001B[32m[I 2023-03-07 18:09:23,807]\u001B[0m Trial 3 finished with value: 0.5400806249904041 and parameters: {'randomforestclassifier__n_estimators': 50, 'randomforestclassifier__max_depth': 1, 'randomforestclassifier__min_samples_split': 6, 'randomforestclassifier__min_samples_leaf': 5}. Best is trial 3 with value: 0.5400806249904041.\u001B[0m\n",
      "\u001B[32m[I 2023-03-07 18:09:28,029]\u001B[0m Trial 7 finished with value: 0.5797657283411236 and parameters: {'randomforestclassifier__n_estimators': 70, 'randomforestclassifier__max_depth': 4, 'randomforestclassifier__min_samples_split': 7, 'randomforestclassifier__min_samples_leaf': 1}. Best is trial 7 with value: 0.5797657283411236.\u001B[0m\n",
      "\u001B[32m[I 2023-03-07 18:09:32,046]\u001B[0m Trial 4 finished with value: 0.5370312983917517 and parameters: {'randomforestclassifier__n_estimators': 150, 'randomforestclassifier__max_depth': 1, 'randomforestclassifier__min_samples_split': 9, 'randomforestclassifier__min_samples_leaf': 2}. Best is trial 7 with value: 0.5797657283411236.\u001B[0m\n",
      "\u001B[32m[I 2023-03-07 18:09:37,122]\u001B[0m Trial 10 finished with value: 0.6141318295752137 and parameters: {'randomforestclassifier__n_estimators': 100, 'randomforestclassifier__max_depth': 18, 'randomforestclassifier__min_samples_split': 5, 'randomforestclassifier__min_samples_leaf': 7}. Best is trial 10 with value: 0.6141318295752137.\u001B[0m\n",
      "\u001B[32m[I 2023-03-07 18:09:37,638]\u001B[0m Trial 14 finished with value: 0.6122927990986484 and parameters: {'randomforestclassifier__n_estimators': 30, 'randomforestclassifier__max_depth': 18, 'randomforestclassifier__min_samples_split': 10, 'randomforestclassifier__min_samples_leaf': 8}. Best is trial 10 with value: 0.6141318295752137.\u001B[0m\n",
      "\u001B[32m[I 2023-03-07 18:09:38,716]\u001B[0m Trial 11 finished with value: 0.6107659014291145 and parameters: {'randomforestclassifier__n_estimators': 110, 'randomforestclassifier__max_depth': 14, 'randomforestclassifier__min_samples_split': 2, 'randomforestclassifier__min_samples_leaf': 7}. Best is trial 10 with value: 0.6141318295752137.\u001B[0m\n",
      "\u001B[32m[I 2023-03-07 18:09:38,957]\u001B[0m Trial 5 finished with value: 0.5976263527498472 and parameters: {'randomforestclassifier__n_estimators': 140, 'randomforestclassifier__max_depth': 6, 'randomforestclassifier__min_samples_split': 5, 'randomforestclassifier__min_samples_leaf': 4}. Best is trial 10 with value: 0.6141318295752137.\u001B[0m\n",
      "\u001B[32m[I 2023-03-07 18:09:41,340]\u001B[0m Trial 6 finished with value: 0.5824441938802659 and parameters: {'randomforestclassifier__n_estimators': 190, 'randomforestclassifier__max_depth': 4, 'randomforestclassifier__min_samples_split': 9, 'randomforestclassifier__min_samples_leaf': 8}. Best is trial 10 with value: 0.6141318295752137.\u001B[0m\n",
      "\u001B[32m[I 2023-03-07 18:09:41,545]\u001B[0m Trial 12 finished with value: 0.6107359632044103 and parameters: {'randomforestclassifier__n_estimators': 100, 'randomforestclassifier__max_depth': 13, 'randomforestclassifier__min_samples_split': 8, 'randomforestclassifier__min_samples_leaf': 9}. Best is trial 10 with value: 0.6141318295752137.\u001B[0m\n",
      "\u001B[32m[I 2023-03-07 18:09:42,159]\u001B[0m Trial 8 finished with value: 0.614363353031213 and parameters: {'randomforestclassifier__n_estimators': 130, 'randomforestclassifier__max_depth': 14, 'randomforestclassifier__min_samples_split': 6, 'randomforestclassifier__min_samples_leaf': 8}. Best is trial 8 with value: 0.614363353031213.\u001B[0m\n",
      "\u001B[32m[I 2023-03-07 18:09:43,803]\u001B[0m Trial 2 finished with value: 0.6114740217884377 and parameters: {'randomforestclassifier__n_estimators': 140, 'randomforestclassifier__max_depth': 20, 'randomforestclassifier__min_samples_split': 9, 'randomforestclassifier__min_samples_leaf': 9}. Best is trial 8 with value: 0.614363353031213.\u001B[0m\n",
      "\u001B[32m[I 2023-03-07 18:09:43,900]\u001B[0m Trial 9 finished with value: 0.6147506470159515 and parameters: {'randomforestclassifier__n_estimators': 140, 'randomforestclassifier__max_depth': 19, 'randomforestclassifier__min_samples_split': 6, 'randomforestclassifier__min_samples_leaf': 8}. Best is trial 9 with value: 0.6147506470159515.\u001B[0m\n",
      "\u001B[32m[I 2023-03-07 18:09:45,759]\u001B[0m Trial 1 finished with value: 0.6118398567782529 and parameters: {'randomforestclassifier__n_estimators': 150, 'randomforestclassifier__max_depth': 15, 'randomforestclassifier__min_samples_split': 2, 'randomforestclassifier__min_samples_leaf': 10}. Best is trial 9 with value: 0.6147506470159515.\u001B[0m\n",
      "\u001B[32m[I 2023-03-07 18:09:46,374]\u001B[0m Trial 15 finished with value: 0.606460953010206 and parameters: {'randomforestclassifier__n_estimators': 50, 'randomforestclassifier__max_depth': 16, 'randomforestclassifier__min_samples_split': 6, 'randomforestclassifier__min_samples_leaf': 3}. Best is trial 9 with value: 0.6147506470159515.\u001B[0m\n",
      "\u001B[32m[I 2023-03-07 18:09:48,147]\u001B[0m Trial 13 finished with value: 0.5825438008894771 and parameters: {'randomforestclassifier__n_estimators': 180, 'randomforestclassifier__max_depth': 4, 'randomforestclassifier__min_samples_split': 3, 'randomforestclassifier__min_samples_leaf': 10}. Best is trial 9 with value: 0.6147506470159515.\u001B[0m\n",
      "\u001B[32m[I 2023-03-07 18:09:50,107]\u001B[0m Trial 19 finished with value: 0.6128977066579722 and parameters: {'randomforestclassifier__n_estimators': 50, 'randomforestclassifier__max_depth': 12, 'randomforestclassifier__min_samples_split': 4, 'randomforestclassifier__min_samples_leaf': 7}. Best is trial 9 with value: 0.6147506470159515.\u001B[0m\n",
      "\u001B[32m[I 2023-03-07 18:09:53,750]\u001B[0m Trial 0 finished with value: 0.6137338903762679 and parameters: {'randomforestclassifier__n_estimators': 200, 'randomforestclassifier__max_depth': 13, 'randomforestclassifier__min_samples_split': 7, 'randomforestclassifier__min_samples_leaf': 8}. Best is trial 9 with value: 0.6147506470159515.\u001B[0m\n",
      "\u001B[32m[I 2023-03-07 18:09:55,182]\u001B[0m Trial 18 finished with value: 0.6134726621700511 and parameters: {'randomforestclassifier__n_estimators': 90, 'randomforestclassifier__max_depth': 19, 'randomforestclassifier__min_samples_split': 10, 'randomforestclassifier__min_samples_leaf': 4}. Best is trial 9 with value: 0.6147506470159515.\u001B[0m\n",
      "\u001B[32m[I 2023-03-07 18:09:58,476]\u001B[0m Trial 20 finished with value: 0.5879883009783506 and parameters: {'randomforestclassifier__n_estimators': 140, 'randomforestclassifier__max_depth': 5, 'randomforestclassifier__min_samples_split': 6, 'randomforestclassifier__min_samples_leaf': 1}. Best is trial 9 with value: 0.6147506470159515.\u001B[0m\n",
      "\u001B[32m[I 2023-03-07 18:10:00,884]\u001B[0m Trial 22 finished with value: 0.6103115906790089 and parameters: {'randomforestclassifier__n_estimators': 100, 'randomforestclassifier__max_depth': 16, 'randomforestclassifier__min_samples_split': 4, 'randomforestclassifier__min_samples_leaf': 6}. Best is trial 9 with value: 0.6147506470159515.\u001B[0m\n",
      "\u001B[32m[I 2023-03-07 18:10:05,343]\u001B[0m Trial 17 finished with value: 0.6164134400902157 and parameters: {'randomforestclassifier__n_estimators': 170, 'randomforestclassifier__max_depth': 9, 'randomforestclassifier__min_samples_split': 4, 'randomforestclassifier__min_samples_leaf': 3}. Best is trial 17 with value: 0.6164134400902157.\u001B[0m\n",
      "\u001B[32m[I 2023-03-07 18:10:05,892]\u001B[0m Trial 16 finished with value: 0.61093985423873 and parameters: {'randomforestclassifier__n_estimators': 170, 'randomforestclassifier__max_depth': 20, 'randomforestclassifier__min_samples_split': 10, 'randomforestclassifier__min_samples_leaf': 9}. Best is trial 17 with value: 0.6164134400902157.\u001B[0m\n",
      "\u001B[32m[I 2023-03-07 18:10:07,533]\u001B[0m Trial 26 finished with value: 0.6134187381171208 and parameters: {'randomforestclassifier__n_estimators': 120, 'randomforestclassifier__max_depth': 10, 'randomforestclassifier__min_samples_split': 4, 'randomforestclassifier__min_samples_leaf': 6}. Best is trial 17 with value: 0.6164134400902157.\u001B[0m\n",
      "\u001B[32m[I 2023-03-07 18:10:09,501]\u001B[0m Trial 27 finished with value: 0.6134187381171208 and parameters: {'randomforestclassifier__n_estimators': 120, 'randomforestclassifier__max_depth': 10, 'randomforestclassifier__min_samples_split': 7, 'randomforestclassifier__min_samples_leaf': 6}. Best is trial 17 with value: 0.6164134400902157.\u001B[0m\n",
      "\u001B[32m[I 2023-03-07 18:10:13,469]\u001B[0m Trial 21 finished with value: 0.6081715014338788 and parameters: {'randomforestclassifier__n_estimators': 200, 'randomforestclassifier__max_depth': 10, 'randomforestclassifier__min_samples_split': 3, 'randomforestclassifier__min_samples_leaf': 10}. Best is trial 17 with value: 0.6164134400902157.\u001B[0m\n",
      "\u001B[32m[I 2023-03-07 18:10:14,030]\u001B[0m Trial 28 finished with value: 0.611056268616298 and parameters: {'randomforestclassifier__n_estimators': 120, 'randomforestclassifier__max_depth': 20, 'randomforestclassifier__min_samples_split': 5, 'randomforestclassifier__min_samples_leaf': 6}. Best is trial 17 with value: 0.6164134400902157.\u001B[0m\n",
      "\u001B[32m[I 2023-03-07 18:10:14,584]\u001B[0m Trial 29 finished with value: 0.6106293676780401 and parameters: {'randomforestclassifier__n_estimators': 120, 'randomforestclassifier__max_depth': 11, 'randomforestclassifier__min_samples_split': 5, 'randomforestclassifier__min_samples_leaf': 6}. Best is trial 17 with value: 0.6164134400902157.\u001B[0m\n",
      "\u001B[32m[I 2023-03-07 18:10:16,319]\u001B[0m Trial 25 finished with value: 0.6130603574139498 and parameters: {'randomforestclassifier__n_estimators': 190, 'randomforestclassifier__max_depth': 10, 'randomforestclassifier__min_samples_split': 4, 'randomforestclassifier__min_samples_leaf': 6}. Best is trial 17 with value: 0.6164134400902157.\u001B[0m\n",
      "\u001B[32m[I 2023-03-07 18:10:16,794]\u001B[0m Trial 23 finished with value: 0.6069742518132412 and parameters: {'randomforestclassifier__n_estimators': 200, 'randomforestclassifier__max_depth': 14, 'randomforestclassifier__min_samples_split': 3, 'randomforestclassifier__min_samples_leaf': 10}. Best is trial 17 with value: 0.6164134400902157.\u001B[0m\n",
      "\u001B[32m[I 2023-03-07 18:10:17,420]\u001B[0m Trial 30 finished with value: 0.6096656039507004 and parameters: {'randomforestclassifier__n_estimators': 120, 'randomforestclassifier__max_depth': 9, 'randomforestclassifier__min_samples_split': 4, 'randomforestclassifier__min_samples_leaf': 6}. Best is trial 17 with value: 0.6164134400902157.\u001B[0m\n",
      "\u001B[32m[I 2023-03-07 18:10:17,819]\u001B[0m Trial 24 finished with value: 0.6131219602114293 and parameters: {'randomforestclassifier__n_estimators': 200, 'randomforestclassifier__max_depth': 10, 'randomforestclassifier__min_samples_split': 4, 'randomforestclassifier__min_samples_leaf': 6}. Best is trial 17 with value: 0.6164134400902157.\u001B[0m\n",
      "\u001B[32m[I 2023-03-07 18:10:20,260]\u001B[0m Trial 31 finished with value: 0.6134187381171208 and parameters: {'randomforestclassifier__n_estimators': 120, 'randomforestclassifier__max_depth': 10, 'randomforestclassifier__min_samples_split': 7, 'randomforestclassifier__min_samples_leaf': 6}. Best is trial 17 with value: 0.6164134400902157.\u001B[0m\n",
      "\u001B[32m[I 2023-03-07 18:10:24,313]\u001B[0m Trial 33 finished with value: 0.6096656039507004 and parameters: {'randomforestclassifier__n_estimators': 120, 'randomforestclassifier__max_depth': 9, 'randomforestclassifier__min_samples_split': 4, 'randomforestclassifier__min_samples_leaf': 6}. Best is trial 17 with value: 0.6164134400902157.\u001B[0m\n",
      "\u001B[32m[I 2023-03-07 18:10:31,101]\u001B[0m Trial 32 finished with value: 0.6089715268769541 and parameters: {'randomforestclassifier__n_estimators': 170, 'randomforestclassifier__max_depth': 9, 'randomforestclassifier__min_samples_split': 4, 'randomforestclassifier__min_samples_leaf': 6}. Best is trial 17 with value: 0.6164134400902157.\u001B[0m\n",
      "\u001B[32m[I 2023-03-07 18:10:33,266]\u001B[0m Trial 34 finished with value: 0.6118468608653889 and parameters: {'randomforestclassifier__n_estimators': 170, 'randomforestclassifier__max_depth': 9, 'randomforestclassifier__min_samples_split': 5, 'randomforestclassifier__min_samples_leaf': 5}. Best is trial 17 with value: 0.6164134400902157.\u001B[0m\n",
      "\u001B[32m[I 2023-03-07 18:10:35,356]\u001B[0m Trial 35 finished with value: 0.6096451402983148 and parameters: {'randomforestclassifier__n_estimators': 170, 'randomforestclassifier__max_depth': 9, 'randomforestclassifier__min_samples_split': 5, 'randomforestclassifier__min_samples_leaf': 4}. Best is trial 17 with value: 0.6164134400902157.\u001B[0m\n",
      "\u001B[32m[I 2023-03-07 18:10:37,844]\u001B[0m Trial 38 finished with value: 0.6038463397332857 and parameters: {'randomforestclassifier__n_estimators': 170, 'randomforestclassifier__max_depth': 7, 'randomforestclassifier__min_samples_split': 8, 'randomforestclassifier__min_samples_leaf': 3}. Best is trial 17 with value: 0.6164134400902157.\u001B[0m\n",
      "\u001B[32m[I 2023-03-07 18:10:37,892]\u001B[0m Trial 36 finished with value: 0.6112202750976874 and parameters: {'randomforestclassifier__n_estimators': 170, 'randomforestclassifier__max_depth': 8, 'randomforestclassifier__min_samples_split': 5, 'randomforestclassifier__min_samples_leaf': 5}. Best is trial 17 with value: 0.6164134400902157.\u001B[0m\n",
      "\u001B[32m[I 2023-03-07 18:10:38,970]\u001B[0m Trial 37 finished with value: 0.6081185762397705 and parameters: {'randomforestclassifier__n_estimators': 170, 'randomforestclassifier__max_depth': 8, 'randomforestclassifier__min_samples_split': 6, 'randomforestclassifier__min_samples_leaf': 4}. Best is trial 17 with value: 0.6164134400902157.\u001B[0m\n",
      "\u001B[32m[I 2023-03-07 18:10:39,596]\u001B[0m Trial 39 finished with value: 0.6090743187396424 and parameters: {'randomforestclassifier__n_estimators': 160, 'randomforestclassifier__max_depth': 8, 'randomforestclassifier__min_samples_split': 8, 'randomforestclassifier__min_samples_leaf': 4}. Best is trial 17 with value: 0.6164134400902157.\u001B[0m\n",
      "\u001B[32m[I 2023-03-07 18:10:39,977]\u001B[0m Trial 40 finished with value: 0.6090743187396424 and parameters: {'randomforestclassifier__n_estimators': 160, 'randomforestclassifier__max_depth': 8, 'randomforestclassifier__min_samples_split': 6, 'randomforestclassifier__min_samples_leaf': 4}. Best is trial 17 with value: 0.6164134400902157.\u001B[0m\n",
      "\u001B[32m[I 2023-03-07 18:10:40,749]\u001B[0m Trial 41 finished with value: 0.6090743187396424 and parameters: {'randomforestclassifier__n_estimators': 160, 'randomforestclassifier__max_depth': 8, 'randomforestclassifier__min_samples_split': 8, 'randomforestclassifier__min_samples_leaf': 4}. Best is trial 17 with value: 0.6164134400902157.\u001B[0m\n",
      "\u001B[32m[I 2023-03-07 18:10:44,136]\u001B[0m Trial 42 finished with value: 0.6156388056754294 and parameters: {'randomforestclassifier__n_estimators': 160, 'randomforestclassifier__max_depth': 17, 'randomforestclassifier__min_samples_split': 7, 'randomforestclassifier__min_samples_leaf': 7}. Best is trial 17 with value: 0.6164134400902157.\u001B[0m\n",
      "\u001B[32m[I 2023-03-07 18:10:46,571]\u001B[0m Trial 43 finished with value: 0.6156388056754294 and parameters: {'randomforestclassifier__n_estimators': 160, 'randomforestclassifier__max_depth': 17, 'randomforestclassifier__min_samples_split': 5, 'randomforestclassifier__min_samples_leaf': 7}. Best is trial 17 with value: 0.6164134400902157.\u001B[0m\n",
      "\u001B[32m[I 2023-03-07 18:10:51,408]\u001B[0m Trial 44 finished with value: 0.6156388056754294 and parameters: {'randomforestclassifier__n_estimators': 160, 'randomforestclassifier__max_depth': 17, 'randomforestclassifier__min_samples_split': 5, 'randomforestclassifier__min_samples_leaf': 7}. Best is trial 17 with value: 0.6164134400902157.\u001B[0m\n",
      "\u001B[32m[I 2023-03-07 18:10:54,286]\u001B[0m Trial 52 finished with value: 0.6123146797573775 and parameters: {'randomforestclassifier__n_estimators': 80, 'randomforestclassifier__max_depth': 17, 'randomforestclassifier__min_samples_split': 7, 'randomforestclassifier__min_samples_leaf': 8}. Best is trial 17 with value: 0.6164134400902157.\u001B[0m\n",
      "\u001B[32m[I 2023-03-07 18:10:58,209]\u001B[0m Trial 45 finished with value: 0.6172460692080316 and parameters: {'randomforestclassifier__n_estimators': 160, 'randomforestclassifier__max_depth': 18, 'randomforestclassifier__min_samples_split': 5, 'randomforestclassifier__min_samples_leaf': 7}. Best is trial 45 with value: 0.6172460692080316.\u001B[0m\n",
      "\u001B[32m[I 2023-03-07 18:10:58,985]\u001B[0m Trial 46 finished with value: 0.615168990810701 and parameters: {'randomforestclassifier__n_estimators': 150, 'randomforestclassifier__max_depth': 17, 'randomforestclassifier__min_samples_split': 6, 'randomforestclassifier__min_samples_leaf': 7}. Best is trial 45 with value: 0.6172460692080316.\u001B[0m\n",
      "\u001B[32m[I 2023-03-07 18:11:01,224]\u001B[0m Trial 47 finished with value: 0.615168990810701 and parameters: {'randomforestclassifier__n_estimators': 150, 'randomforestclassifier__max_depth': 17, 'randomforestclassifier__min_samples_split': 6, 'randomforestclassifier__min_samples_leaf': 7}. Best is trial 45 with value: 0.6172460692080316.\u001B[0m\n",
      "\u001B[32m[I 2023-03-07 18:11:03,565]\u001B[0m Trial 48 finished with value: 0.615168990810701 and parameters: {'randomforestclassifier__n_estimators': 150, 'randomforestclassifier__max_depth': 17, 'randomforestclassifier__min_samples_split': 6, 'randomforestclassifier__min_samples_leaf': 7}. Best is trial 45 with value: 0.6172460692080316.\u001B[0m\n",
      "\u001B[32m[I 2023-03-07 18:11:03,651]\u001B[0m Trial 49 finished with value: 0.615168990810701 and parameters: {'randomforestclassifier__n_estimators': 150, 'randomforestclassifier__max_depth': 17, 'randomforestclassifier__min_samples_split': 6, 'randomforestclassifier__min_samples_leaf': 7}. Best is trial 45 with value: 0.6172460692080316.\u001B[0m\n",
      "\u001B[32m[I 2023-03-07 18:11:04,584]\u001B[0m Trial 50 finished with value: 0.615168990810701 and parameters: {'randomforestclassifier__n_estimators': 150, 'randomforestclassifier__max_depth': 17, 'randomforestclassifier__min_samples_split': 6, 'randomforestclassifier__min_samples_leaf': 7}. Best is trial 45 with value: 0.6172460692080316.\u001B[0m\n",
      "\u001B[32m[I 2023-03-07 18:11:04,794]\u001B[0m Trial 53 finished with value: 0.6103579956668705 and parameters: {'randomforestclassifier__n_estimators': 140, 'randomforestclassifier__max_depth': 17, 'randomforestclassifier__min_samples_split': 7, 'randomforestclassifier__min_samples_leaf': 8}. Best is trial 45 with value: 0.6172460692080316.\u001B[0m\n",
      "\u001B[32m[I 2023-03-07 18:11:05,222]\u001B[0m Trial 51 finished with value: 0.615168990810701 and parameters: {'randomforestclassifier__n_estimators': 150, 'randomforestclassifier__max_depth': 17, 'randomforestclassifier__min_samples_split': 6, 'randomforestclassifier__min_samples_leaf': 7}. Best is trial 45 with value: 0.6172460692080316.\u001B[0m\n",
      "\u001B[32m[I 2023-03-07 18:11:07,774]\u001B[0m Trial 54 finished with value: 0.6154352327491185 and parameters: {'randomforestclassifier__n_estimators': 140, 'randomforestclassifier__max_depth': 17, 'randomforestclassifier__min_samples_split': 6, 'randomforestclassifier__min_samples_leaf': 7}. Best is trial 45 with value: 0.6172460692080316.\u001B[0m\n",
      "\u001B[32m[I 2023-03-07 18:11:10,277]\u001B[0m Trial 55 finished with value: 0.6103579956668705 and parameters: {'randomforestclassifier__n_estimators': 140, 'randomforestclassifier__max_depth': 17, 'randomforestclassifier__min_samples_split': 6, 'randomforestclassifier__min_samples_leaf': 8}. Best is trial 45 with value: 0.6172460692080316.\u001B[0m\n",
      "\u001B[32m[I 2023-03-07 18:11:14,449]\u001B[0m Trial 56 finished with value: 0.6154352327491185 and parameters: {'randomforestclassifier__n_estimators': 140, 'randomforestclassifier__max_depth': 17, 'randomforestclassifier__min_samples_split': 7, 'randomforestclassifier__min_samples_leaf': 7}. Best is trial 45 with value: 0.6172460692080316.\u001B[0m\n",
      "\u001B[32m[I 2023-03-07 18:11:18,885]\u001B[0m Trial 57 finished with value: 0.6187188020880905 and parameters: {'randomforestclassifier__n_estimators': 150, 'randomforestclassifier__max_depth': 18, 'randomforestclassifier__min_samples_split': 6, 'randomforestclassifier__min_samples_leaf': 7}. Best is trial 57 with value: 0.6187188020880905.\u001B[0m\n",
      "\u001B[32m[I 2023-03-07 18:11:22,962]\u001B[0m Trial 58 finished with value: 0.6158531190477733 and parameters: {'randomforestclassifier__n_estimators': 150, 'randomforestclassifier__max_depth': 16, 'randomforestclassifier__min_samples_split': 3, 'randomforestclassifier__min_samples_leaf': 7}. Best is trial 57 with value: 0.6187188020880905.\u001B[0m\n",
      "\u001B[32m[I 2023-03-07 18:11:23,382]\u001B[0m Trial 59 finished with value: 0.6152852846454576 and parameters: {'randomforestclassifier__n_estimators': 150, 'randomforestclassifier__max_depth': 15, 'randomforestclassifier__min_samples_split': 3, 'randomforestclassifier__min_samples_leaf': 7}. Best is trial 57 with value: 0.6187188020880905.\u001B[0m\n",
      "\u001B[32m[I 2023-03-07 18:11:32,614]\u001B[0m Trial 60 finished with value: 0.6125190179908152 and parameters: {'randomforestclassifier__n_estimators': 190, 'randomforestclassifier__max_depth': 15, 'randomforestclassifier__min_samples_split': 3, 'randomforestclassifier__min_samples_leaf': 2}. Best is trial 57 with value: 0.6187188020880905.\u001B[0m\n",
      "\u001B[32m[I 2023-03-07 18:11:33,635]\u001B[0m Trial 63 finished with value: 0.6070138328594081 and parameters: {'randomforestclassifier__n_estimators': 180, 'randomforestclassifier__max_depth': 15, 'randomforestclassifier__min_samples_split': 5, 'randomforestclassifier__min_samples_leaf': 9}. Best is trial 57 with value: 0.6187188020880905.\u001B[0m\n",
      "\u001B[32m[I 2023-03-07 18:11:34,157]\u001B[0m Trial 65 finished with value: 0.6132259330583408 and parameters: {'randomforestclassifier__n_estimators': 180, 'randomforestclassifier__max_depth': 19, 'randomforestclassifier__min_samples_split': 5, 'randomforestclassifier__min_samples_leaf': 9}. Best is trial 57 with value: 0.6187188020880905.\u001B[0m\n",
      "\u001B[32m[I 2023-03-07 18:11:34,370]\u001B[0m Trial 62 finished with value: 0.6134910683413389 and parameters: {'randomforestclassifier__n_estimators': 190, 'randomforestclassifier__max_depth': 15, 'randomforestclassifier__min_samples_split': 5, 'randomforestclassifier__min_samples_leaf': 8}. Best is trial 57 with value: 0.6187188020880905.\u001B[0m\n",
      "\u001B[32m[I 2023-03-07 18:11:34,734]\u001B[0m Trial 61 finished with value: 0.6114762671962792 and parameters: {'randomforestclassifier__n_estimators': 190, 'randomforestclassifier__max_depth': 19, 'randomforestclassifier__min_samples_split': 2, 'randomforestclassifier__min_samples_leaf': 8}. Best is trial 57 with value: 0.6187188020880905.\u001B[0m\n",
      "\u001B[32m[I 2023-03-07 18:11:35,380]\u001B[0m Trial 64 finished with value: 0.6082215951904401 and parameters: {'randomforestclassifier__n_estimators': 190, 'randomforestclassifier__max_depth': 15, 'randomforestclassifier__min_samples_split': 5, 'randomforestclassifier__min_samples_leaf': 9}. Best is trial 57 with value: 0.6187188020880905.\u001B[0m\n",
      "\u001B[32m[I 2023-03-07 18:11:36,832]\u001B[0m Trial 66 finished with value: 0.6070138328594081 and parameters: {'randomforestclassifier__n_estimators': 180, 'randomforestclassifier__max_depth': 15, 'randomforestclassifier__min_samples_split': 5, 'randomforestclassifier__min_samples_leaf': 9}. Best is trial 57 with value: 0.6187188020880905.\u001B[0m\n",
      "\u001B[32m[I 2023-03-07 18:11:38,962]\u001B[0m Trial 67 finished with value: 0.6070138328594081 and parameters: {'randomforestclassifier__n_estimators': 180, 'randomforestclassifier__max_depth': 15, 'randomforestclassifier__min_samples_split': 5, 'randomforestclassifier__min_samples_leaf': 9}. Best is trial 57 with value: 0.6187188020880905.\u001B[0m\n",
      "\u001B[32m[I 2023-03-07 18:11:43,086]\u001B[0m Trial 68 finished with value: 0.6070138328594081 and parameters: {'randomforestclassifier__n_estimators': 180, 'randomforestclassifier__max_depth': 15, 'randomforestclassifier__min_samples_split': 5, 'randomforestclassifier__min_samples_leaf': 9}. Best is trial 57 with value: 0.6187188020880905.\u001B[0m\n",
      "\u001B[32m[I 2023-03-07 18:11:47,767]\u001B[0m Trial 69 finished with value: 0.6070138328594081 and parameters: {'randomforestclassifier__n_estimators': 180, 'randomforestclassifier__max_depth': 15, 'randomforestclassifier__min_samples_split': 3, 'randomforestclassifier__min_samples_leaf': 9}. Best is trial 57 with value: 0.6187188020880905.\u001B[0m\n",
      "\u001B[32m[I 2023-03-07 18:11:52,462]\u001B[0m Trial 71 finished with value: 0.6132259330583408 and parameters: {'randomforestclassifier__n_estimators': 180, 'randomforestclassifier__max_depth': 19, 'randomforestclassifier__min_samples_split': 2, 'randomforestclassifier__min_samples_leaf': 9}. Best is trial 57 with value: 0.6187188020880905.\u001B[0m\n",
      "\u001B[32m[I 2023-03-07 18:11:53,593]\u001B[0m Trial 70 finished with value: 0.6082215951904401 and parameters: {'randomforestclassifier__n_estimators': 190, 'randomforestclassifier__max_depth': 15, 'randomforestclassifier__min_samples_split': 3, 'randomforestclassifier__min_samples_leaf': 9}. Best is trial 57 with value: 0.6187188020880905.\u001B[0m\n",
      "\u001B[32m[I 2023-03-07 18:11:56,870]\u001B[0m Trial 76 finished with value: 0.6143155747488565 and parameters: {'randomforestclassifier__n_estimators': 130, 'randomforestclassifier__max_depth': 18, 'randomforestclassifier__min_samples_split': 3, 'randomforestclassifier__min_samples_leaf': 5}. Best is trial 57 with value: 0.6187188020880905.\u001B[0m\n",
      "\u001B[32m[I 2023-03-07 18:11:57,686]\u001B[0m Trial 77 finished with value: 0.6143155747488565 and parameters: {'randomforestclassifier__n_estimators': 130, 'randomforestclassifier__max_depth': 18, 'randomforestclassifier__min_samples_split': 2, 'randomforestclassifier__min_samples_leaf': 5}. Best is trial 57 with value: 0.6187188020880905.\u001B[0m\n",
      "\u001B[32m[I 2023-03-07 18:11:59,791]\u001B[0m Trial 78 finished with value: 0.603300059074013 and parameters: {'randomforestclassifier__n_estimators': 130, 'randomforestclassifier__max_depth': 18, 'randomforestclassifier__min_samples_split': 2, 'randomforestclassifier__min_samples_leaf': 1}. Best is trial 57 with value: 0.6187188020880905.\u001B[0m\n",
      "\u001B[32m[I 2023-03-07 18:12:00,440]\u001B[0m Trial 74 finished with value: 0.6114386309870863 and parameters: {'randomforestclassifier__n_estimators': 160, 'randomforestclassifier__max_depth': 18, 'randomforestclassifier__min_samples_split': 2, 'randomforestclassifier__min_samples_leaf': 8}. Best is trial 57 with value: 0.6187188020880905.\u001B[0m\n",
      "\u001B[32m[I 2023-03-07 18:12:01,554]\u001B[0m Trial 79 finished with value: 0.6143155747488565 and parameters: {'randomforestclassifier__n_estimators': 130, 'randomforestclassifier__max_depth': 18, 'randomforestclassifier__min_samples_split': 2, 'randomforestclassifier__min_samples_leaf': 5}. Best is trial 57 with value: 0.6187188020880905.\u001B[0m\n",
      "\u001B[32m[I 2023-03-07 18:12:01,794]\u001B[0m Trial 75 finished with value: 0.6162419211949405 and parameters: {'randomforestclassifier__n_estimators': 160, 'randomforestclassifier__max_depth': 19, 'randomforestclassifier__min_samples_split': 2, 'randomforestclassifier__min_samples_leaf': 5}. Best is trial 57 with value: 0.6187188020880905.\u001B[0m\n",
      "\u001B[32m[I 2023-03-07 18:12:02,442]\u001B[0m Trial 72 finished with value: 0.6132259330583408 and parameters: {'randomforestclassifier__n_estimators': 180, 'randomforestclassifier__max_depth': 19, 'randomforestclassifier__min_samples_split': 2, 'randomforestclassifier__min_samples_leaf': 9}. Best is trial 57 with value: 0.6187188020880905.\u001B[0m\n",
      "\u001B[32m[I 2023-03-07 18:12:03,501]\u001B[0m Trial 73 finished with value: 0.6116335625853976 and parameters: {'randomforestclassifier__n_estimators': 180, 'randomforestclassifier__max_depth': 19, 'randomforestclassifier__min_samples_split': 5, 'randomforestclassifier__min_samples_leaf': 8}. Best is trial 57 with value: 0.6187188020880905.\u001B[0m\n",
      "\u001B[32m[I 2023-03-07 18:12:05,162]\u001B[0m Trial 80 finished with value: 0.6136997422808448 and parameters: {'randomforestclassifier__n_estimators': 130, 'randomforestclassifier__max_depth': 18, 'randomforestclassifier__min_samples_split': 3, 'randomforestclassifier__min_samples_leaf': 8}. Best is trial 57 with value: 0.6187188020880905.\u001B[0m\n",
      "\u001B[32m[I 2023-03-07 18:12:10,051]\u001B[0m Trial 81 finished with value: 0.6143155747488565 and parameters: {'randomforestclassifier__n_estimators': 130, 'randomforestclassifier__max_depth': 18, 'randomforestclassifier__min_samples_split': 4, 'randomforestclassifier__min_samples_leaf': 5}. Best is trial 57 with value: 0.6187188020880905.\u001B[0m\n",
      "\u001B[32m[I 2023-03-07 18:12:14,860]\u001B[0m Trial 82 finished with value: 0.6143155747488565 and parameters: {'randomforestclassifier__n_estimators': 130, 'randomforestclassifier__max_depth': 18, 'randomforestclassifier__min_samples_split': 7, 'randomforestclassifier__min_samples_leaf': 5}. Best is trial 57 with value: 0.6187188020880905.\u001B[0m\n",
      "\u001B[32m[I 2023-03-07 18:12:15,933]\u001B[0m Trial 83 finished with value: 0.6143155747488565 and parameters: {'randomforestclassifier__n_estimators': 130, 'randomforestclassifier__max_depth': 18, 'randomforestclassifier__min_samples_split': 7, 'randomforestclassifier__min_samples_leaf': 5}. Best is trial 57 with value: 0.6187188020880905.\u001B[0m\n",
      "\u001B[32m[I 2023-03-07 18:12:23,572]\u001B[0m Trial 84 finished with value: 0.6172460692080316 and parameters: {'randomforestclassifier__n_estimators': 160, 'randomforestclassifier__max_depth': 18, 'randomforestclassifier__min_samples_split': 7, 'randomforestclassifier__min_samples_leaf': 7}. Best is trial 57 with value: 0.6187188020880905.\u001B[0m\n",
      "\u001B[32m[I 2023-03-07 18:12:24,283]\u001B[0m Trial 85 finished with value: 0.6177235975567636 and parameters: {'randomforestclassifier__n_estimators': 160, 'randomforestclassifier__max_depth': 16, 'randomforestclassifier__min_samples_split': 7, 'randomforestclassifier__min_samples_leaf': 7}. Best is trial 57 with value: 0.6187188020880905.\u001B[0m\n",
      "\u001B[32m[I 2023-03-07 18:12:26,269]\u001B[0m Trial 86 finished with value: 0.616456910007274 and parameters: {'randomforestclassifier__n_estimators': 160, 'randomforestclassifier__max_depth': 16, 'randomforestclassifier__min_samples_split': 4, 'randomforestclassifier__min_samples_leaf': 8}. Best is trial 57 with value: 0.6187188020880905.\u001B[0m\n",
      "\u001B[32m[I 2023-03-07 18:12:26,948]\u001B[0m Trial 87 finished with value: 0.6177235975567636 and parameters: {'randomforestclassifier__n_estimators': 160, 'randomforestclassifier__max_depth': 16, 'randomforestclassifier__min_samples_split': 7, 'randomforestclassifier__min_samples_leaf': 7}. Best is trial 57 with value: 0.6187188020880905.\u001B[0m\n",
      "\u001B[32m[I 2023-03-07 18:12:28,121]\u001B[0m Trial 88 finished with value: 0.6177235975567636 and parameters: {'randomforestclassifier__n_estimators': 160, 'randomforestclassifier__max_depth': 16, 'randomforestclassifier__min_samples_split': 7, 'randomforestclassifier__min_samples_leaf': 7}. Best is trial 57 with value: 0.6187188020880905.\u001B[0m\n",
      "\u001B[32m[I 2023-03-07 18:12:28,826]\u001B[0m Trial 89 finished with value: 0.6124216958344495 and parameters: {'randomforestclassifier__n_estimators': 160, 'randomforestclassifier__max_depth': 20, 'randomforestclassifier__min_samples_split': 4, 'randomforestclassifier__min_samples_leaf': 3}. Best is trial 57 with value: 0.6187188020880905.\u001B[0m\n",
      "\u001B[32m[I 2023-03-07 18:12:29,648]\u001B[0m Trial 90 finished with value: 0.6124216958344495 and parameters: {'randomforestclassifier__n_estimators': 160, 'randomforestclassifier__max_depth': 20, 'randomforestclassifier__min_samples_split': 4, 'randomforestclassifier__min_samples_leaf': 3}. Best is trial 57 with value: 0.6187188020880905.\u001B[0m\n",
      "\u001B[32m[I 2023-03-07 18:12:30,092]\u001B[0m Trial 100 finished with value: 0.6130971375525108 and parameters: {'randomforestclassifier__n_estimators': 10, 'randomforestclassifier__max_depth': 13, 'randomforestclassifier__min_samples_split': 8, 'randomforestclassifier__min_samples_leaf': 3}. Best is trial 57 with value: 0.6187188020880905.\u001B[0m\n",
      "\u001B[32m[I 2023-03-07 18:12:30,530]\u001B[0m Trial 91 finished with value: 0.6124216958344495 and parameters: {'randomforestclassifier__n_estimators': 160, 'randomforestclassifier__max_depth': 20, 'randomforestclassifier__min_samples_split': 4, 'randomforestclassifier__min_samples_leaf': 3}. Best is trial 57 with value: 0.6187188020880905.\u001B[0m\n",
      "\u001B[32m[I 2023-03-07 18:12:32,338]\u001B[0m Trial 92 finished with value: 0.6092853524853348 and parameters: {'randomforestclassifier__n_estimators': 160, 'randomforestclassifier__max_depth': 16, 'randomforestclassifier__min_samples_split': 4, 'randomforestclassifier__min_samples_leaf': 3}. Best is trial 57 with value: 0.6187188020880905.\u001B[0m\n",
      "\u001B[32m[I 2023-03-07 18:12:35,799]\u001B[0m Trial 93 finished with value: 0.6177235975567636 and parameters: {'randomforestclassifier__n_estimators': 160, 'randomforestclassifier__max_depth': 16, 'randomforestclassifier__min_samples_split': 4, 'randomforestclassifier__min_samples_leaf': 7}. Best is trial 57 with value: 0.6187188020880905.\u001B[0m\n",
      "\u001B[32m[I 2023-03-07 18:12:40,839]\u001B[0m Trial 94 finished with value: 0.6092853524853348 and parameters: {'randomforestclassifier__n_estimators': 160, 'randomforestclassifier__max_depth': 16, 'randomforestclassifier__min_samples_split': 4, 'randomforestclassifier__min_samples_leaf': 3}. Best is trial 57 with value: 0.6187188020880905.\u001B[0m\n",
      "\u001B[32m[I 2023-03-07 18:12:41,849]\u001B[0m Trial 95 finished with value: 0.6092853524853348 and parameters: {'randomforestclassifier__n_estimators': 160, 'randomforestclassifier__max_depth': 16, 'randomforestclassifier__min_samples_split': 4, 'randomforestclassifier__min_samples_leaf': 3}. Best is trial 57 with value: 0.6187188020880905.\u001B[0m\n",
      "\u001B[32m[I 2023-03-07 18:12:48,498]\u001B[0m Trial 97 finished with value: 0.6113088373052171 and parameters: {'randomforestclassifier__n_estimators': 160, 'randomforestclassifier__max_depth': 16, 'randomforestclassifier__min_samples_split': 4, 'randomforestclassifier__min_samples_leaf': 6}. Best is trial 57 with value: 0.6187188020880905.\u001B[0m\n",
      "\u001B[32m[I 2023-03-07 18:12:48,528]\u001B[0m Trial 96 finished with value: 0.6092853524853348 and parameters: {'randomforestclassifier__n_estimators': 160, 'randomforestclassifier__max_depth': 16, 'randomforestclassifier__min_samples_split': 4, 'randomforestclassifier__min_samples_leaf': 3}. Best is trial 57 with value: 0.6187188020880905.\u001B[0m\n",
      "\u001B[32m[I 2023-03-07 18:12:51,204]\u001B[0m Trial 98 finished with value: 0.6092853524853348 and parameters: {'randomforestclassifier__n_estimators': 160, 'randomforestclassifier__max_depth': 16, 'randomforestclassifier__min_samples_split': 4, 'randomforestclassifier__min_samples_leaf': 3}. Best is trial 57 with value: 0.6187188020880905.\u001B[0m\n",
      "\u001B[32m[I 2023-03-07 18:12:53,094]\u001B[0m Trial 99 finished with value: 0.6101404106496601 and parameters: {'randomforestclassifier__n_estimators': 170, 'randomforestclassifier__max_depth': 16, 'randomforestclassifier__min_samples_split': 8, 'randomforestclassifier__min_samples_leaf': 3}. Best is trial 57 with value: 0.6187188020880905.\u001B[0m\n",
      "\u001B[32m[I 2023-03-07 18:12:54,291]\u001B[0m Trial 101 finished with value: 0.6141595485167295 and parameters: {'randomforestclassifier__n_estimators': 170, 'randomforestclassifier__max_depth': 13, 'randomforestclassifier__min_samples_split': 8, 'randomforestclassifier__min_samples_leaf': 6}. Best is trial 57 with value: 0.6187188020880905.\u001B[0m\n",
      "\u001B[32m[I 2023-03-07 18:12:55,149]\u001B[0m Trial 102 finished with value: 0.6112701585372131 and parameters: {'randomforestclassifier__n_estimators': 170, 'randomforestclassifier__max_depth': 16, 'randomforestclassifier__min_samples_split': 8, 'randomforestclassifier__min_samples_leaf': 6}. Best is trial 57 with value: 0.6187188020880905.\u001B[0m\n",
      "\u001B[32m[I 2023-03-07 18:12:55,664]\u001B[0m Trial 103 finished with value: 0.6112701585372131 and parameters: {'randomforestclassifier__n_estimators': 170, 'randomforestclassifier__max_depth': 16, 'randomforestclassifier__min_samples_split': 7, 'randomforestclassifier__min_samples_leaf': 6}. Best is trial 57 with value: 0.6187188020880905.\u001B[0m\n",
      "\u001B[32m[I 2023-03-07 18:12:56,563]\u001B[0m Trial 104 finished with value: 0.6112701585372131 and parameters: {'randomforestclassifier__n_estimators': 170, 'randomforestclassifier__max_depth': 16, 'randomforestclassifier__min_samples_split': 7, 'randomforestclassifier__min_samples_leaf': 6}. Best is trial 57 with value: 0.6187188020880905.\u001B[0m\n",
      "\u001B[32m[I 2023-03-07 18:12:57,627]\u001B[0m Trial 105 finished with value: 0.6112701585372131 and parameters: {'randomforestclassifier__n_estimators': 170, 'randomforestclassifier__max_depth': 16, 'randomforestclassifier__min_samples_split': 8, 'randomforestclassifier__min_samples_leaf': 6}. Best is trial 57 with value: 0.6187188020880905.\u001B[0m\n",
      "\u001B[32m[I 2023-03-07 18:13:01,394]\u001B[0m Trial 106 finished with value: 0.6125576272950335 and parameters: {'randomforestclassifier__n_estimators': 170, 'randomforestclassifier__max_depth': 14, 'randomforestclassifier__min_samples_split': 8, 'randomforestclassifier__min_samples_leaf': 6}. Best is trial 57 with value: 0.6187188020880905.\u001B[0m\n",
      "\u001B[32m[I 2023-03-07 18:13:06,364]\u001B[0m Trial 107 finished with value: 0.6125576272950335 and parameters: {'randomforestclassifier__n_estimators': 170, 'randomforestclassifier__max_depth': 14, 'randomforestclassifier__min_samples_split': 8, 'randomforestclassifier__min_samples_leaf': 6}. Best is trial 57 with value: 0.6187188020880905.\u001B[0m\n",
      "\u001B[32m[I 2023-03-07 18:13:07,219]\u001B[0m Trial 108 finished with value: 0.6125576272950335 and parameters: {'randomforestclassifier__n_estimators': 170, 'randomforestclassifier__max_depth': 14, 'randomforestclassifier__min_samples_split': 8, 'randomforestclassifier__min_samples_leaf': 6}. Best is trial 57 with value: 0.6187188020880905.\u001B[0m\n",
      "\u001B[32m[I 2023-03-07 18:13:13,994]\u001B[0m Trial 110 finished with value: 0.6125576272950335 and parameters: {'randomforestclassifier__n_estimators': 170, 'randomforestclassifier__max_depth': 14, 'randomforestclassifier__min_samples_split': 8, 'randomforestclassifier__min_samples_leaf': 6}. Best is trial 57 with value: 0.6187188020880905.\u001B[0m\n",
      "\u001B[32m[I 2023-03-07 18:13:14,716]\u001B[0m Trial 109 finished with value: 0.6094965636926556 and parameters: {'randomforestclassifier__n_estimators': 170, 'randomforestclassifier__max_depth': 14, 'randomforestclassifier__min_samples_split': 8, 'randomforestclassifier__min_samples_leaf': 2}. Best is trial 57 with value: 0.6187188020880905.\u001B[0m\n",
      "\u001B[32m[I 2023-03-07 18:13:16,423]\u001B[0m Trial 119 finished with value: 0.5370312983917517 and parameters: {'randomforestclassifier__n_estimators': 150, 'randomforestclassifier__max_depth': 1, 'randomforestclassifier__min_samples_split': 7, 'randomforestclassifier__min_samples_leaf': 7}. Best is trial 57 with value: 0.6187188020880905.\u001B[0m\n",
      "\u001B[32m[I 2023-03-07 18:13:17,609]\u001B[0m Trial 111 finished with value: 0.6094965636926556 and parameters: {'randomforestclassifier__n_estimators': 170, 'randomforestclassifier__max_depth': 14, 'randomforestclassifier__min_samples_split': 8, 'randomforestclassifier__min_samples_leaf': 2}. Best is trial 57 with value: 0.6187188020880905.\u001B[0m\n",
      "\u001B[32m[I 2023-03-07 18:13:17,826]\u001B[0m Trial 114 finished with value: 0.6101282408681805 and parameters: {'randomforestclassifier__n_estimators': 150, 'randomforestclassifier__max_depth': 14, 'randomforestclassifier__min_samples_split': 7, 'randomforestclassifier__min_samples_leaf': 7}. Best is trial 57 with value: 0.6187188020880905.\u001B[0m\n",
      "\u001B[32m[I 2023-03-07 18:13:18,049]\u001B[0m Trial 115 finished with value: 0.6104157909020347 and parameters: {'randomforestclassifier__n_estimators': 150, 'randomforestclassifier__max_depth': 11, 'randomforestclassifier__min_samples_split': 7, 'randomforestclassifier__min_samples_leaf': 7}. Best is trial 57 with value: 0.6187188020880905.\u001B[0m\n",
      "\u001B[32m[I 2023-03-07 18:13:18,458]\u001B[0m Trial 112 finished with value: 0.611951112851171 and parameters: {'randomforestclassifier__n_estimators': 170, 'randomforestclassifier__max_depth': 14, 'randomforestclassifier__min_samples_split': 7, 'randomforestclassifier__min_samples_leaf': 7}. Best is trial 57 with value: 0.6187188020880905.\u001B[0m\n",
      "\u001B[32m[I 2023-03-07 18:13:19,133]\u001B[0m Trial 116 finished with value: 0.6101282408681805 and parameters: {'randomforestclassifier__n_estimators': 150, 'randomforestclassifier__max_depth': 14, 'randomforestclassifier__min_samples_split': 3, 'randomforestclassifier__min_samples_leaf': 7}. Best is trial 57 with value: 0.6187188020880905.\u001B[0m\n",
      "\u001B[32m[I 2023-03-07 18:13:19,199]\u001B[0m Trial 113 finished with value: 0.6114134654877319 and parameters: {'randomforestclassifier__n_estimators': 170, 'randomforestclassifier__max_depth': 11, 'randomforestclassifier__min_samples_split': 7, 'randomforestclassifier__min_samples_leaf': 7}. Best is trial 57 with value: 0.6187188020880905.\u001B[0m\n",
      "\u001B[32m[I 2023-03-07 18:13:19,843]\u001B[0m Trial 117 finished with value: 0.6104157909020347 and parameters: {'randomforestclassifier__n_estimators': 150, 'randomforestclassifier__max_depth': 11, 'randomforestclassifier__min_samples_split': 7, 'randomforestclassifier__min_samples_leaf': 7}. Best is trial 57 with value: 0.6187188020880905.\u001B[0m\n",
      "\u001B[32m[I 2023-03-07 18:13:24,026]\u001B[0m Trial 118 finished with value: 0.6101282408681805 and parameters: {'randomforestclassifier__n_estimators': 150, 'randomforestclassifier__max_depth': 14, 'randomforestclassifier__min_samples_split': 7, 'randomforestclassifier__min_samples_leaf': 7}. Best is trial 57 with value: 0.6187188020880905.\u001B[0m\n",
      "\u001B[32m[I 2023-03-07 18:13:25,584]\u001B[0m Trial 121 finished with value: 0.5575580718209981 and parameters: {'randomforestclassifier__n_estimators': 150, 'randomforestclassifier__max_depth': 2, 'randomforestclassifier__min_samples_split': 7, 'randomforestclassifier__min_samples_leaf': 7}. Best is trial 57 with value: 0.6187188020880905.\u001B[0m\n",
      "\u001B[32m[I 2023-03-07 18:13:29,553]\u001B[0m Trial 120 finished with value: 0.6101040411551868 and parameters: {'randomforestclassifier__n_estimators': 150, 'randomforestclassifier__max_depth': 12, 'randomforestclassifier__min_samples_split': 7, 'randomforestclassifier__min_samples_leaf': 7}. Best is trial 57 with value: 0.6187188020880905.\u001B[0m\n",
      "\u001B[32m[I 2023-03-07 18:13:36,273]\u001B[0m Trial 122 finished with value: 0.6104157909020347 and parameters: {'randomforestclassifier__n_estimators': 150, 'randomforestclassifier__max_depth': 11, 'randomforestclassifier__min_samples_split': 7, 'randomforestclassifier__min_samples_leaf': 7}. Best is trial 57 with value: 0.6187188020880905.\u001B[0m\n",
      "\u001B[32m[I 2023-03-07 18:13:37,896]\u001B[0m Trial 123 finished with value: 0.6104157909020347 and parameters: {'randomforestclassifier__n_estimators': 150, 'randomforestclassifier__max_depth': 11, 'randomforestclassifier__min_samples_split': 9, 'randomforestclassifier__min_samples_leaf': 7}. Best is trial 57 with value: 0.6187188020880905.\u001B[0m\n",
      "\u001B[32m[I 2023-03-07 18:13:38,483]\u001B[0m Trial 126 finished with value: 0.6154911690966849 and parameters: {'randomforestclassifier__n_estimators': 140, 'randomforestclassifier__max_depth': 19, 'randomforestclassifier__min_samples_split': 3, 'randomforestclassifier__min_samples_leaf': 7}. Best is trial 57 with value: 0.6187188020880905.\u001B[0m\n",
      "\u001B[32m[I 2023-03-07 18:13:38,825]\u001B[0m Trial 127 finished with value: 0.6154911690966849 and parameters: {'randomforestclassifier__n_estimators': 140, 'randomforestclassifier__max_depth': 19, 'randomforestclassifier__min_samples_split': 3, 'randomforestclassifier__min_samples_leaf': 7}. Best is trial 57 with value: 0.6187188020880905.\u001B[0m\n",
      "\u001B[32m[I 2023-03-07 18:13:39,442]\u001B[0m Trial 124 finished with value: 0.6163682446856771 and parameters: {'randomforestclassifier__n_estimators': 150, 'randomforestclassifier__max_depth': 19, 'randomforestclassifier__min_samples_split': 7, 'randomforestclassifier__min_samples_leaf': 7}. Best is trial 57 with value: 0.6187188020880905.\u001B[0m\n",
      "\u001B[32m[I 2023-03-07 18:13:39,539]\u001B[0m Trial 129 finished with value: 0.6103579956668705 and parameters: {'randomforestclassifier__n_estimators': 140, 'randomforestclassifier__max_depth': 17, 'randomforestclassifier__min_samples_split': 6, 'randomforestclassifier__min_samples_leaf': 8}. Best is trial 57 with value: 0.6187188020880905.\u001B[0m\n",
      "\u001B[32m[I 2023-03-07 18:13:39,788]\u001B[0m Trial 125 finished with value: 0.6163682446856771 and parameters: {'randomforestclassifier__n_estimators': 150, 'randomforestclassifier__max_depth': 19, 'randomforestclassifier__min_samples_split': 7, 'randomforestclassifier__min_samples_leaf': 7}. Best is trial 57 with value: 0.6187188020880905.\u001B[0m\n",
      "\u001B[32m[I 2023-03-07 18:13:39,807]\u001B[0m Trial 128 finished with value: 0.6154911690966849 and parameters: {'randomforestclassifier__n_estimators': 140, 'randomforestclassifier__max_depth': 19, 'randomforestclassifier__min_samples_split': 6, 'randomforestclassifier__min_samples_leaf': 7}. Best is trial 57 with value: 0.6187188020880905.\u001B[0m\n",
      "\u001B[32m[I 2023-03-07 18:13:40,281]\u001B[0m Trial 130 finished with value: 0.6103579956668705 and parameters: {'randomforestclassifier__n_estimators': 140, 'randomforestclassifier__max_depth': 17, 'randomforestclassifier__min_samples_split': 9, 'randomforestclassifier__min_samples_leaf': 8}. Best is trial 57 with value: 0.6187188020880905.\u001B[0m\n",
      "\u001B[32m[I 2023-03-07 18:13:44,279]\u001B[0m Trial 131 finished with value: 0.6147506470159515 and parameters: {'randomforestclassifier__n_estimators': 140, 'randomforestclassifier__max_depth': 19, 'randomforestclassifier__min_samples_split': 6, 'randomforestclassifier__min_samples_leaf': 8}. Best is trial 57 with value: 0.6187188020880905.\u001B[0m\n",
      "\u001B[32m[I 2023-03-07 18:13:45,655]\u001B[0m Trial 132 finished with value: 0.6103579956668705 and parameters: {'randomforestclassifier__n_estimators': 140, 'randomforestclassifier__max_depth': 17, 'randomforestclassifier__min_samples_split': 6, 'randomforestclassifier__min_samples_leaf': 8}. Best is trial 57 with value: 0.6187188020880905.\u001B[0m\n",
      "\u001B[32m[I 2023-03-07 18:13:48,727]\u001B[0m Trial 141 finished with value: 0.6140468728654167 and parameters: {'randomforestclassifier__n_estimators': 60, 'randomforestclassifier__max_depth': 20, 'randomforestclassifier__min_samples_split': 6, 'randomforestclassifier__min_samples_leaf': 8}. Best is trial 57 with value: 0.6187188020880905.\u001B[0m\n",
      "\u001B[32m[I 2023-03-07 18:13:52,374]\u001B[0m Trial 133 finished with value: 0.6111979093650162 and parameters: {'randomforestclassifier__n_estimators': 160, 'randomforestclassifier__max_depth': 17, 'randomforestclassifier__min_samples_split': 6, 'randomforestclassifier__min_samples_leaf': 8}. Best is trial 57 with value: 0.6187188020880905.\u001B[0m\n",
      "\u001B[32m[I 2023-03-07 18:13:56,451]\u001B[0m Trial 134 finished with value: 0.6103579956668705 and parameters: {'randomforestclassifier__n_estimators': 140, 'randomforestclassifier__max_depth': 17, 'randomforestclassifier__min_samples_split': 5, 'randomforestclassifier__min_samples_leaf': 8}. Best is trial 57 with value: 0.6187188020880905.\u001B[0m\n",
      "\u001B[32m[I 2023-03-07 18:13:58,049]\u001B[0m Trial 135 finished with value: 0.6103579956668705 and parameters: {'randomforestclassifier__n_estimators': 140, 'randomforestclassifier__max_depth': 17, 'randomforestclassifier__min_samples_split': 6, 'randomforestclassifier__min_samples_leaf': 8}. Best is trial 57 with value: 0.6187188020880905.\u001B[0m\n",
      "\u001B[32m[I 2023-03-07 18:13:58,905]\u001B[0m Trial 136 finished with value: 0.6103579956668705 and parameters: {'randomforestclassifier__n_estimators': 140, 'randomforestclassifier__max_depth': 17, 'randomforestclassifier__min_samples_split': 6, 'randomforestclassifier__min_samples_leaf': 8}. Best is trial 57 with value: 0.6187188020880905.\u001B[0m\n",
      "\u001B[32m[I 2023-03-07 18:13:59,977]\u001B[0m Trial 140 finished with value: 0.613028863086942 and parameters: {'randomforestclassifier__n_estimators': 140, 'randomforestclassifier__max_depth': 20, 'randomforestclassifier__min_samples_split': 6, 'randomforestclassifier__min_samples_leaf': 8}. Best is trial 57 with value: 0.6187188020880905.\u001B[0m\n",
      "\u001B[32m[I 2023-03-07 18:14:01,851]\u001B[0m Trial 137 finished with value: 0.6111979093650162 and parameters: {'randomforestclassifier__n_estimators': 160, 'randomforestclassifier__max_depth': 17, 'randomforestclassifier__min_samples_split': 5, 'randomforestclassifier__min_samples_leaf': 8}. Best is trial 57 with value: 0.6187188020880905.\u001B[0m\n",
      "\u001B[32m[I 2023-03-07 18:14:02,694]\u001B[0m Trial 139 finished with value: 0.6124788429542283 and parameters: {'randomforestclassifier__n_estimators': 160, 'randomforestclassifier__max_depth': 19, 'randomforestclassifier__min_samples_split': 6, 'randomforestclassifier__min_samples_leaf': 8}. Best is trial 57 with value: 0.6187188020880905.\u001B[0m\n",
      "\u001B[32m[I 2023-03-07 18:14:03,206]\u001B[0m Trial 138 finished with value: 0.6111979093650162 and parameters: {'randomforestclassifier__n_estimators': 160, 'randomforestclassifier__max_depth': 17, 'randomforestclassifier__min_samples_split': 6, 'randomforestclassifier__min_samples_leaf': 8}. Best is trial 57 with value: 0.6187188020880905.\u001B[0m\n",
      "\u001B[32m[I 2023-03-07 18:14:03,426]\u001B[0m Trial 142 finished with value: 0.6141432092659878 and parameters: {'randomforestclassifier__n_estimators': 160, 'randomforestclassifier__max_depth': 20, 'randomforestclassifier__min_samples_split': 7, 'randomforestclassifier__min_samples_leaf': 8}. Best is trial 57 with value: 0.6187188020880905.\u001B[0m\n",
      "\u001B[32m[I 2023-03-07 18:14:07,686]\u001B[0m Trial 143 finished with value: 0.6141432092659878 and parameters: {'randomforestclassifier__n_estimators': 160, 'randomforestclassifier__max_depth': 20, 'randomforestclassifier__min_samples_split': 6, 'randomforestclassifier__min_samples_leaf': 8}. Best is trial 57 with value: 0.6187188020880905.\u001B[0m\n",
      "\u001B[32m[I 2023-03-07 18:14:08,719]\u001B[0m Trial 144 finished with value: 0.6141432092659878 and parameters: {'randomforestclassifier__n_estimators': 160, 'randomforestclassifier__max_depth': 20, 'randomforestclassifier__min_samples_split': 5, 'randomforestclassifier__min_samples_leaf': 8}. Best is trial 57 with value: 0.6187188020880905.\u001B[0m\n",
      "\u001B[32m[I 2023-03-07 18:14:12,430]\u001B[0m Trial 145 finished with value: 0.6172460692080316 and parameters: {'randomforestclassifier__n_estimators': 160, 'randomforestclassifier__max_depth': 18, 'randomforestclassifier__min_samples_split': 5, 'randomforestclassifier__min_samples_leaf': 7}. Best is trial 57 with value: 0.6187188020880905.\u001B[0m\n",
      "\u001B[32m[I 2023-03-07 18:14:16,104]\u001B[0m Trial 146 finished with value: 0.6172460692080316 and parameters: {'randomforestclassifier__n_estimators': 160, 'randomforestclassifier__max_depth': 18, 'randomforestclassifier__min_samples_split': 5, 'randomforestclassifier__min_samples_leaf': 7}. Best is trial 57 with value: 0.6187188020880905.\u001B[0m\n",
      "\u001B[32m[I 2023-03-07 18:14:16,855]\u001B[0m Trial 148 finished with value: 0.6054274629915425 and parameters: {'randomforestclassifier__n_estimators': 160, 'randomforestclassifier__max_depth': 7, 'randomforestclassifier__min_samples_split': 7, 'randomforestclassifier__min_samples_leaf': 7}. Best is trial 57 with value: 0.6187188020880905.\u001B[0m\n",
      "\u001B[32m[I 2023-03-07 18:14:20,682]\u001B[0m Trial 147 finished with value: 0.6172460692080316 and parameters: {'randomforestclassifier__n_estimators': 160, 'randomforestclassifier__max_depth': 18, 'randomforestclassifier__min_samples_split': 7, 'randomforestclassifier__min_samples_leaf': 7}. Best is trial 57 with value: 0.6187188020880905.\u001B[0m\n",
      "\u001B[32m[I 2023-03-07 18:14:23,218]\u001B[0m Trial 149 finished with value: 0.6172460692080316 and parameters: {'randomforestclassifier__n_estimators': 160, 'randomforestclassifier__max_depth': 18, 'randomforestclassifier__min_samples_split': 7, 'randomforestclassifier__min_samples_leaf': 7}. Best is trial 57 with value: 0.6187188020880905.\u001B[0m\n",
      "\u001B[32m[I 2023-03-07 18:14:23,959]\u001B[0m Trial 150 finished with value: 0.6172460692080316 and parameters: {'randomforestclassifier__n_estimators': 160, 'randomforestclassifier__max_depth': 18, 'randomforestclassifier__min_samples_split': 7, 'randomforestclassifier__min_samples_leaf': 7}. Best is trial 57 with value: 0.6187188020880905.\u001B[0m\n",
      "\u001B[32m[I 2023-03-07 18:14:25,144]\u001B[0m Trial 151 finished with value: 0.6172460692080316 and parameters: {'randomforestclassifier__n_estimators': 160, 'randomforestclassifier__max_depth': 18, 'randomforestclassifier__min_samples_split': 7, 'randomforestclassifier__min_samples_leaf': 7}. Best is trial 57 with value: 0.6187188020880905.\u001B[0m\n",
      "\u001B[32m[I 2023-03-07 18:14:26,113]\u001B[0m Trial 152 finished with value: 0.6172460692080316 and parameters: {'randomforestclassifier__n_estimators': 160, 'randomforestclassifier__max_depth': 18, 'randomforestclassifier__min_samples_split': 7, 'randomforestclassifier__min_samples_leaf': 7}. Best is trial 57 with value: 0.6187188020880905.\u001B[0m\n",
      "\u001B[32m[I 2023-03-07 18:14:26,246]\u001B[0m Trial 153 finished with value: 0.6172460692080316 and parameters: {'randomforestclassifier__n_estimators': 160, 'randomforestclassifier__max_depth': 18, 'randomforestclassifier__min_samples_split': 7, 'randomforestclassifier__min_samples_leaf': 7}. Best is trial 57 with value: 0.6187188020880905.\u001B[0m\n",
      "\u001B[32m[I 2023-03-07 18:14:26,276]\u001B[0m Trial 154 finished with value: 0.6172460692080316 and parameters: {'randomforestclassifier__n_estimators': 160, 'randomforestclassifier__max_depth': 18, 'randomforestclassifier__min_samples_split': 7, 'randomforestclassifier__min_samples_leaf': 7}. Best is trial 57 with value: 0.6187188020880905.\u001B[0m\n",
      "\u001B[32m[I 2023-03-07 18:14:27,895]\u001B[0m Trial 156 finished with value: 0.6187188020880905 and parameters: {'randomforestclassifier__n_estimators': 150, 'randomforestclassifier__max_depth': 18, 'randomforestclassifier__min_samples_split': 5, 'randomforestclassifier__min_samples_leaf': 7}. Best is trial 57 with value: 0.6187188020880905.\u001B[0m\n",
      "\u001B[32m[I 2023-03-07 18:14:28,162]\u001B[0m Trial 155 finished with value: 0.6172460692080316 and parameters: {'randomforestclassifier__n_estimators': 160, 'randomforestclassifier__max_depth': 18, 'randomforestclassifier__min_samples_split': 7, 'randomforestclassifier__min_samples_leaf': 7}. Best is trial 57 with value: 0.6187188020880905.\u001B[0m\n",
      "\u001B[32m[I 2023-03-07 18:14:29,840]\u001B[0m Trial 157 finished with value: 0.6172460692080316 and parameters: {'randomforestclassifier__n_estimators': 160, 'randomforestclassifier__max_depth': 18, 'randomforestclassifier__min_samples_split': 5, 'randomforestclassifier__min_samples_leaf': 7}. Best is trial 57 with value: 0.6187188020880905.\u001B[0m\n",
      "\u001B[32m[I 2023-03-07 18:14:30,399]\u001B[0m Trial 158 finished with value: 0.6187188020880905 and parameters: {'randomforestclassifier__n_estimators': 150, 'randomforestclassifier__max_depth': 18, 'randomforestclassifier__min_samples_split': 4, 'randomforestclassifier__min_samples_leaf': 7}. Best is trial 57 with value: 0.6187188020880905.\u001B[0m\n",
      "\u001B[32m[I 2023-03-07 18:14:30,613]\u001B[0m Trial 159 finished with value: 0.6187188020880905 and parameters: {'randomforestclassifier__n_estimators': 150, 'randomforestclassifier__max_depth': 18, 'randomforestclassifier__min_samples_split': 4, 'randomforestclassifier__min_samples_leaf': 7}. Best is trial 57 with value: 0.6187188020880905.\u001B[0m\n",
      "\u001B[32m[I 2023-03-07 18:14:30,614]\u001B[0m Finished hyperparemeter search!\u001B[0m\n",
      "\u001B[32m[I 2023-03-07 18:14:30,615]\u001B[0m Refitting the estimator using 7500 samples...\u001B[0m\n",
      "\u001B[32m[I 2023-03-07 18:14:32,144]\u001B[0m Finished refitting! (elapsed time: 1.528 sec.)\u001B[0m\n"
     ]
    },
    {
     "name": "stdout",
     "output_type": "stream",
     "text": [
      "f1 = 0.6187188020880905\n",
      "AUC-ROC = 0.9593094563460196\n",
      "Оптимальные гиперпараметры: {'randomforestclassifier__n_estimators': 150, 'randomforestclassifier__max_depth': 18, 'randomforestclassifier__min_samples_split': 6, 'randomforestclassifier__min_samples_leaf': 7}\n"
     ]
    }
   ],
   "source": [
    "imba_pipeline = make_pipeline(\n",
    "    SMOTE(random_state=RANDOM_STATE), RandomForestClassifier(random_state=RANDOM_STATE)\n",
    ")\n",
    "\n",
    "random_forest_pipeline_params = {'randomforestclassifier__' + key: value for key, value in random_forest_params.items()}\n",
    "optuna_search = optuna.integration.OptunaSearchCV(\n",
    "    imba_pipeline, random_forest_pipeline_params, scoring='f1', n_trials=OPTUNA_N_TRIALS, timeout=OPTUNA_TIMEOUT, n_jobs=-1, verbose=1\n",
    ")\n",
    "optuna_search.fit(features_train, target_train)\n",
    "random_forest_model_imba = optuna_search.best_estimator_\n",
    "print(f'f1 = {optuna_search.best_score_}')\n",
    "print(f'AUC-ROC = {roc_auc(random_forest_model_imba, features_train, target_train)}')\n",
    "print(f'Оптимальные гиперпараметры: {optuna_search.best_params_}')"
   ]
  },
  {
   "cell_type": "markdown",
   "metadata": {},
   "source": [
    "#### Логистическая регрессия"
   ]
  },
  {
   "cell_type": "code",
   "execution_count": 30,
   "metadata": {},
   "outputs": [
    {
     "name": "stdout",
     "output_type": "stream",
     "text": [
      "Fitting 5 folds for each of 171 candidates, totalling 855 fits\n",
      "f1 = 0.4731174848650486\n",
      "AUC-ROC = 0.7611321200506378\n",
      "Оптимальные гиперпараметры: {'logisticregression__max_iter': 30, 'logisticregression__solver': 'liblinear'}\n"
     ]
    }
   ],
   "source": [
    "imba_pipeline = make_pipeline(\n",
    "    SMOTE(random_state=RANDOM_STATE), LogisticRegression(random_state=RANDOM_STATE)\n",
    ")\n",
    "\n",
    "logistic_regression_pipeline_params = {'logisticregression__' + key: value for key, value in logistic_regression_params.items()}\n",
    "grid = GridSearchCV(imba_pipeline, logistic_regression_pipeline_params, scoring='f1', n_jobs=-1, verbose=1)\n",
    "grid.fit(features_train, target_train)\n",
    "logistic_regression_model_imba = grid.best_estimator_\n",
    "print(f'f1 = {grid.best_score_}')\n",
    "print(f'AUC-ROC = {roc_auc(logistic_regression_model_imba, features_train, target_train)}')\n",
    "print(f'Оптимальные гиперпараметры: {grid.best_params_}')"
   ]
  },
  {
   "cell_type": "markdown",
   "metadata": {},
   "source": [
    "#### Вывод\n",
    "С помощью продвинутого увеличения выборки удалось достигнуть значения метрики f1 равного 0.618 при помощи модели случайного леса. Для остальных моделей метрика также увеличилась. Посмотртим как покажут себя обученные модели на тестовой выборке.\n",
    "\n",
    "|                | Дерево решений                                                                    | Случайный лес                                                                                           | Логистическая регрессия                                  |\n",
    "|----------------|-----------------------------------------------------------------------------------|---------------------------------------------------------------------------------------------------------|----------------------------------------------------------|\n",
    "| Дисбаланс      | 0.566/0.877<br />{'max_depth': 7, 'min_samples_leaf': 2, 'min_samples_split': 8}  | 0.586/0.998<br />{'n_estimators': 190, 'max_depth': 20, 'min_samples_split': 6, 'min_samples_leaf': 1}  | 0.31/0.764<br />{'max_iter': 30, 'solver': 'liblinear'}  |\n",
    "| Взвешивание    | 0.574/0.881<br />{'max_depth': 7, 'min_samples_leaf': 6, 'min_samples_split': 2}  | 0.624/0.982<br />{'n_estimators': 190, 'max_depth': 16, 'min_samples_split': 10, 'min_samples_leaf': 4} | 0.484/0.767<br />{'max_iter': 30, 'solver': 'liblinear'} |\n",
    "| Увеличение     | 0.931/0.999<br />{'max_depth': 20, 'min_samples_leaf': 1, 'min_samples_split': 2} | 0.958/1<br />{'n_estimators': 140, 'max_depth': 18, 'min_samples_split': 2, 'min_samples_leaf': 1}      | 0.698/0.767<br />{'max_iter': 30, 'solver': 'liblinear'} |\n",
    "| imblearn SMOTE | 0.571/0.873<br />{'max_depth': 8, 'min_samples_leaf': 9, 'min_samples_split': 2}  | 0.618/0.973<br />{'n_estimators': 170, 'max_depth': 19, 'min_samples_split': 7, 'min_samples_leaf': 5}  | 0.473/0.761<br />{'max_iter': 30, 'solver': 'liblinear'} |"
   ]
  },
  {
   "cell_type": "markdown",
   "metadata": {},
   "source": [
    "### Уменьшение выборки\n",
    "Количество нулей в целевой переменной в 4 раза больше чем единиц, уменьшим их количество в 4 раза."
   ]
  },
  {
   "cell_type": "code",
   "execution_count": 31,
   "metadata": {},
   "outputs": [],
   "source": [
    "def downsample(features, target, fraction):\n",
    "    features_zeros = features[target == 0]\n",
    "    features_ones = features[target == 1]\n",
    "    target_zeros = target[target == 0]\n",
    "    target_ones = target[target == 1]\n",
    "\n",
    "    features_downsampled = pd.concat([features_zeros.sample(frac=fraction, random_state=RANDOM_STATE)] + [features_ones])\n",
    "    target_downsampled = pd.concat([target_zeros.sample(frac=fraction, random_state=RANDOM_STATE)] + [target_ones])\n",
    "\n",
    "    features_downsampled, target_downsampled = shuffle(features_downsampled, target_downsampled, random_state=RANDOM_STATE)\n",
    "\n",
    "    return features_downsampled, target_downsampled"
   ]
  },
  {
   "cell_type": "code",
   "execution_count": 32,
   "metadata": {},
   "outputs": [],
   "source": [
    "train_features_downsampled, train_target_downsampled = downsample(features_train, target_train, 0.25)"
   ]
  },
  {
   "cell_type": "markdown",
   "metadata": {},
   "source": [
    "#### Дерево решений"
   ]
  },
  {
   "cell_type": "code",
   "execution_count": 33,
   "metadata": {},
   "outputs": [
    {
     "name": "stdout",
     "output_type": "stream",
     "text": [
      "Fitting 5 folds for each of 1800 candidates, totalling 9000 fits\n",
      "f1 = 0.7689367227948267\n",
      "AUC-ROC = 0.8656154550204619\n",
      "Оптимальные гиперпараметры: {'max_depth': 7, 'min_samples_leaf': 10, 'min_samples_split': 2}\n"
     ]
    }
   ],
   "source": [
    "decision_tree_model = DecisionTreeClassifier(random_state=RANDOM_STATE)\n",
    "grid = GridSearchCV(decision_tree_model, decision_tree_params, scoring='f1', n_jobs=-1, verbose=1)\n",
    "grid.fit(train_features_downsampled, train_target_downsampled)\n",
    "decision_tree_model_downsample = grid.best_estimator_\n",
    "print(f'f1 = {grid.best_score_}')\n",
    "print(f'AUC-ROC = {roc_auc(decision_tree_model_downsample, features_train, target_train)}')\n",
    "print(f'Оптимальные гиперпараметры: {grid.best_params_}')"
   ]
  },
  {
   "cell_type": "markdown",
   "metadata": {},
   "source": [
    "#### Случайный лес"
   ]
  },
  {
   "cell_type": "code",
   "execution_count": 34,
   "metadata": {},
   "outputs": [
    {
     "name": "stderr",
     "output_type": "stream",
     "text": [
      "/var/folders/m_/d5s2gnsx68l769b4nc3pxzrdn_qnjl/T/ipykernel_65750/4047917987.py:2: ExperimentalWarning: OptunaSearchCV is experimental (supported from v0.17.0). The interface can change in the future.\n",
      "  optuna_search = optuna.integration.OptunaSearchCV(random_forest_model, random_forest_params, scoring='f1', n_trials=200, timeout=300, n_jobs=-1, verbose=1)\n",
      "\u001B[32m[I 2023-03-07 18:14:55,376]\u001B[0m A new study created in memory with name: no-name-b24eb4c6-39c4-4f7a-b107-3bf2374cc1e3\u001B[0m\n",
      "\u001B[32m[I 2023-03-07 18:14:55,377]\u001B[0m Searching the best hyperparameters using 3021 samples...\u001B[0m\n",
      "\u001B[32m[I 2023-03-07 18:14:58,521]\u001B[0m Trial 4 finished with value: 0.7536963339590668 and parameters: {'n_estimators': 30, 'max_depth': 4, 'min_samples_split': 8, 'min_samples_leaf': 8}. Best is trial 4 with value: 0.7536963339590668.\u001B[0m\n",
      "\u001B[32m[I 2023-03-07 18:14:59,443]\u001B[0m Trial 11 finished with value: 0.76712009947997 and parameters: {'n_estimators': 30, 'max_depth': 12, 'min_samples_split': 7, 'min_samples_leaf': 4}. Best is trial 11 with value: 0.76712009947997.\u001B[0m\n",
      "\u001B[32m[I 2023-03-07 18:14:59,838]\u001B[0m Trial 1 finished with value: 0.7525191463856296 and parameters: {'n_estimators': 50, 'max_depth': 3, 'min_samples_split': 9, 'min_samples_leaf': 4}. Best is trial 11 with value: 0.76712009947997.\u001B[0m\n",
      "\u001B[32m[I 2023-03-07 18:15:03,006]\u001B[0m Trial 0 finished with value: 0.7750847809610659 and parameters: {'n_estimators': 60, 'max_depth': 15, 'min_samples_split': 7, 'min_samples_leaf': 3}. Best is trial 0 with value: 0.7750847809610659.\u001B[0m\n",
      "\u001B[32m[I 2023-03-07 18:15:03,457]\u001B[0m Trial 5 finished with value: 0.7672585775407926 and parameters: {'n_estimators': 70, 'max_depth': 17, 'min_samples_split': 3, 'min_samples_leaf': 10}. Best is trial 0 with value: 0.7750847809610659.\u001B[0m\n",
      "\u001B[32m[I 2023-03-07 18:15:05,164]\u001B[0m Trial 3 finished with value: 0.7750239021700105 and parameters: {'n_estimators': 80, 'max_depth': 18, 'min_samples_split': 4, 'min_samples_leaf': 4}. Best is trial 0 with value: 0.7750847809610659.\u001B[0m\n",
      "\u001B[32m[I 2023-03-07 18:15:06,646]\u001B[0m Trial 2 finished with value: 0.7505452448856371 and parameters: {'n_estimators': 170, 'max_depth': 2, 'min_samples_split': 7, 'min_samples_leaf': 3}. Best is trial 0 with value: 0.7750847809610659.\u001B[0m\n",
      "\u001B[32m[I 2023-03-07 18:15:06,916]\u001B[0m Trial 6 finished with value: 0.7782638470843097 and parameters: {'n_estimators': 100, 'max_depth': 16, 'min_samples_split': 2, 'min_samples_leaf': 7}. Best is trial 6 with value: 0.7782638470843097.\u001B[0m\n",
      "\u001B[32m[I 2023-03-07 18:15:07,970]\u001B[0m Trial 7 finished with value: 0.7636716451898381 and parameters: {'n_estimators': 140, 'max_depth': 5, 'min_samples_split': 5, 'min_samples_leaf': 8}. Best is trial 6 with value: 0.7782638470843097.\u001B[0m\n",
      "\u001B[32m[I 2023-03-07 18:15:09,265]\u001B[0m Trial 16 finished with value: 0.7710914143877545 and parameters: {'n_estimators': 50, 'max_depth': 20, 'min_samples_split': 7, 'min_samples_leaf': 2}. Best is trial 6 with value: 0.7782638470843097.\u001B[0m\n",
      "\u001B[32m[I 2023-03-07 18:15:10,375]\u001B[0m Trial 12 finished with value: 0.7760670585989752 and parameters: {'n_estimators': 110, 'max_depth': 11, 'min_samples_split': 6, 'min_samples_leaf': 7}. Best is trial 6 with value: 0.7782638470843097.\u001B[0m\n",
      "\u001B[32m[I 2023-03-07 18:15:10,580]\u001B[0m Trial 20 finished with value: 0.7375365248145976 and parameters: {'n_estimators': 40, 'max_depth': 2, 'min_samples_split': 7, 'min_samples_leaf': 8}. Best is trial 6 with value: 0.7782638470843097.\u001B[0m\n",
      "\u001B[32m[I 2023-03-07 18:15:13,711]\u001B[0m Trial 14 finished with value: 0.76973403071034 and parameters: {'n_estimators': 140, 'max_depth': 8, 'min_samples_split': 4, 'min_samples_leaf': 4}. Best is trial 6 with value: 0.7782638470843097.\u001B[0m\n",
      "\u001B[32m[I 2023-03-07 18:15:13,923]\u001B[0m Trial 10 finished with value: 0.777036881691685 and parameters: {'n_estimators': 170, 'max_depth': 15, 'min_samples_split': 10, 'min_samples_leaf': 4}. Best is trial 6 with value: 0.7782638470843097.\u001B[0m\n",
      "\u001B[32m[I 2023-03-07 18:15:14,205]\u001B[0m Trial 8 finished with value: 0.7782161285549678 and parameters: {'n_estimators': 170, 'max_depth': 19, 'min_samples_split': 9, 'min_samples_leaf': 2}. Best is trial 6 with value: 0.7782638470843097.\u001B[0m\n",
      "\u001B[32m[I 2023-03-07 18:15:14,543]\u001B[0m Trial 13 finished with value: 0.7704557942975686 and parameters: {'n_estimators': 150, 'max_depth': 18, 'min_samples_split': 4, 'min_samples_leaf': 8}. Best is trial 6 with value: 0.7782638470843097.\u001B[0m\n",
      "\u001B[32m[I 2023-03-07 18:15:14,905]\u001B[0m Trial 18 finished with value: 0.7478354172839576 and parameters: {'n_estimators': 140, 'max_depth': 2, 'min_samples_split': 9, 'min_samples_leaf': 6}. Best is trial 6 with value: 0.7782638470843097.\u001B[0m\n",
      "\u001B[32m[I 2023-03-07 18:15:15,686]\u001B[0m Trial 9 finished with value: 0.7771102799882943 and parameters: {'n_estimators': 190, 'max_depth': 13, 'min_samples_split': 5, 'min_samples_leaf': 4}. Best is trial 6 with value: 0.7782638470843097.\u001B[0m\n",
      "\u001B[32m[I 2023-03-07 18:15:16,209]\u001B[0m Trial 15 finished with value: 0.7716883321554409 and parameters: {'n_estimators': 120, 'max_depth': 13, 'min_samples_split': 2, 'min_samples_leaf': 2}. Best is trial 6 with value: 0.7782638470843097.\u001B[0m\n",
      "\u001B[32m[I 2023-03-07 18:15:18,965]\u001B[0m Trial 19 finished with value: 0.7771559759222432 and parameters: {'n_estimators': 120, 'max_depth': 15, 'min_samples_split': 4, 'min_samples_leaf': 7}. Best is trial 6 with value: 0.7782638470843097.\u001B[0m\n",
      "\u001B[32m[I 2023-03-07 18:15:19,078]\u001B[0m Trial 17 finished with value: 0.7698342141499216 and parameters: {'n_estimators': 150, 'max_depth': 7, 'min_samples_split': 4, 'min_samples_leaf': 3}. Best is trial 6 with value: 0.7782638470843097.\u001B[0m\n",
      "\u001B[32m[I 2023-03-07 18:15:20,109]\u001B[0m Trial 21 finished with value: 0.7707545310266586 and parameters: {'n_estimators': 120, 'max_depth': 9, 'min_samples_split': 2, 'min_samples_leaf': 7}. Best is trial 6 with value: 0.7782638470843097.\u001B[0m\n",
      "\u001B[32m[I 2023-03-07 18:15:20,690]\u001B[0m Trial 23 finished with value: 0.7715736949262058 and parameters: {'n_estimators': 110, 'max_depth': 9, 'min_samples_split': 2, 'min_samples_leaf': 6}. Best is trial 6 with value: 0.7782638470843097.\u001B[0m\n",
      "\u001B[32m[I 2023-03-07 18:15:21,294]\u001B[0m Trial 22 finished with value: 0.7707545310266586 and parameters: {'n_estimators': 120, 'max_depth': 9, 'min_samples_split': 2, 'min_samples_leaf': 7}. Best is trial 6 with value: 0.7782638470843097.\u001B[0m\n",
      "\u001B[32m[I 2023-03-07 18:15:24,270]\u001B[0m Trial 24 finished with value: 0.7727606331935253 and parameters: {'n_estimators': 110, 'max_depth': 12, 'min_samples_split': 2, 'min_samples_leaf': 6}. Best is trial 6 with value: 0.7782638470843097.\u001B[0m\n",
      "\u001B[32m[I 2023-03-07 18:15:25,030]\u001B[0m Trial 28 finished with value: 0.7720236864304404 and parameters: {'n_estimators': 100, 'max_depth': 13, 'min_samples_split': 2, 'min_samples_leaf': 1}. Best is trial 6 with value: 0.7782638470843097.\u001B[0m\n",
      "\u001B[32m[I 2023-03-07 18:15:25,507]\u001B[0m Trial 30 finished with value: 0.7650258374824299 and parameters: {'n_estimators': 90, 'max_depth': 20, 'min_samples_split': 2, 'min_samples_leaf': 1}. Best is trial 6 with value: 0.7782638470843097.\u001B[0m\n",
      "\u001B[32m[I 2023-03-07 18:15:25,656]\u001B[0m Trial 29 finished with value: 0.7686077231226808 and parameters: {'n_estimators': 100, 'max_depth': 20, 'min_samples_split': 2, 'min_samples_leaf': 1}. Best is trial 6 with value: 0.7782638470843097.\u001B[0m\n",
      "\u001B[32m[I 2023-03-07 18:15:26,679]\u001B[0m Trial 38 finished with value: 0.7629849393152895 and parameters: {'n_estimators': 10, 'max_depth': 16, 'min_samples_split': 3, 'min_samples_leaf': 10}. Best is trial 6 with value: 0.7782638470843097.\u001B[0m\n",
      "\u001B[32m[I 2023-03-07 18:15:26,887]\u001B[0m Trial 39 finished with value: 0.7629849393152895 and parameters: {'n_estimators': 10, 'max_depth': 16, 'min_samples_split': 3, 'min_samples_leaf': 10}. Best is trial 6 with value: 0.7782638470843097.\u001B[0m\n",
      "\u001B[32m[I 2023-03-07 18:15:27,958]\u001B[0m Trial 31 finished with value: 0.7650258374824299 and parameters: {'n_estimators': 90, 'max_depth': 20, 'min_samples_split': 2, 'min_samples_leaf': 1}. Best is trial 6 with value: 0.7782638470843097.\u001B[0m\n",
      "\u001B[32m[I 2023-03-07 18:15:28,527]\u001B[0m Trial 32 finished with value: 0.7742715818806893 and parameters: {'n_estimators': 100, 'max_depth': 20, 'min_samples_split': 2, 'min_samples_leaf': 6}. Best is trial 6 with value: 0.7782638470843097.\u001B[0m\n",
      "\u001B[32m[I 2023-03-07 18:15:28,694]\u001B[0m Trial 33 finished with value: 0.7776093623457145 and parameters: {'n_estimators': 90, 'max_depth': 20, 'min_samples_split': 3, 'min_samples_leaf': 6}. Best is trial 6 with value: 0.7782638470843097.\u001B[0m\n",
      "\u001B[32m[I 2023-03-07 18:15:29,835]\u001B[0m Trial 34 finished with value: 0.7724201392608715 and parameters: {'n_estimators': 90, 'max_depth': 20, 'min_samples_split': 3, 'min_samples_leaf': 1}. Best is trial 6 with value: 0.7782638470843097.\u001B[0m\n",
      "\u001B[32m[I 2023-03-07 18:15:30,329]\u001B[0m Trial 35 finished with value: 0.7724201392608715 and parameters: {'n_estimators': 90, 'max_depth': 20, 'min_samples_split': 3, 'min_samples_leaf': 1}. Best is trial 6 with value: 0.7782638470843097.\u001B[0m\n",
      "\u001B[32m[I 2023-03-07 18:15:30,818]\u001B[0m Trial 25 finished with value: 0.7754277582017064 and parameters: {'n_estimators': 180, 'max_depth': 14, 'min_samples_split': 10, 'min_samples_leaf': 1}. Best is trial 6 with value: 0.7782638470843097.\u001B[0m\n",
      "\u001B[32m[I 2023-03-07 18:15:32,688]\u001B[0m Trial 36 finished with value: 0.7707206510905704 and parameters: {'n_estimators': 90, 'max_depth': 20, 'min_samples_split': 3, 'min_samples_leaf': 10}. Best is trial 6 with value: 0.7782638470843097.\u001B[0m\n",
      "\u001B[32m[I 2023-03-07 18:15:33,389]\u001B[0m Trial 27 finished with value: 0.7728555347722051 and parameters: {'n_estimators': 200, 'max_depth': 14, 'min_samples_split': 2, 'min_samples_leaf': 6}. Best is trial 6 with value: 0.7782638470843097.\u001B[0m\n",
      "\u001B[32m[I 2023-03-07 18:15:34,654]\u001B[0m Trial 26 finished with value: 0.7707428029432358 and parameters: {'n_estimators': 200, 'max_depth': 20, 'min_samples_split': 2, 'min_samples_leaf': 1}. Best is trial 6 with value: 0.7782638470843097.\u001B[0m\n",
      "\u001B[32m[I 2023-03-07 18:15:36,552]\u001B[0m Trial 47 finished with value: 0.7724888373430087 and parameters: {'n_estimators': 60, 'max_depth': 18, 'min_samples_split': 8, 'min_samples_leaf': 5}. Best is trial 6 with value: 0.7782638470843097.\u001B[0m\n",
      "\u001B[32m[I 2023-03-07 18:15:36,725]\u001B[0m Trial 45 finished with value: 0.7735086381324742 and parameters: {'n_estimators': 70, 'max_depth': 18, 'min_samples_split': 5, 'min_samples_leaf': 5}. Best is trial 6 with value: 0.7782638470843097.\u001B[0m\n",
      "\u001B[32m[I 2023-03-07 18:15:38,373]\u001B[0m Trial 48 finished with value: 0.7724888373430087 and parameters: {'n_estimators': 60, 'max_depth': 18, 'min_samples_split': 8, 'min_samples_leaf': 5}. Best is trial 6 with value: 0.7782638470843097.\u001B[0m\n",
      "\u001B[32m[I 2023-03-07 18:15:39,889]\u001B[0m Trial 49 finished with value: 0.7735086381324742 and parameters: {'n_estimators': 70, 'max_depth': 18, 'min_samples_split': 5, 'min_samples_leaf': 5}. Best is trial 6 with value: 0.7782638470843097.\u001B[0m\n",
      "\u001B[32m[I 2023-03-07 18:15:41,038]\u001B[0m Trial 50 finished with value: 0.7735086381324742 and parameters: {'n_estimators': 70, 'max_depth': 18, 'min_samples_split': 5, 'min_samples_leaf': 5}. Best is trial 6 with value: 0.7782638470843097.\u001B[0m\n",
      "\u001B[32m[I 2023-03-07 18:15:42,327]\u001B[0m Trial 51 finished with value: 0.771233668798535 and parameters: {'n_estimators': 70, 'max_depth': 17, 'min_samples_split': 5, 'min_samples_leaf': 9}. Best is trial 6 with value: 0.7782638470843097.\u001B[0m\n",
      "\u001B[32m[I 2023-03-07 18:15:42,752]\u001B[0m Trial 37 finished with value: 0.775396823050424 and parameters: {'n_estimators': 200, 'max_depth': 20, 'min_samples_split': 3, 'min_samples_leaf': 9}. Best is trial 6 with value: 0.7782638470843097.\u001B[0m\n",
      "\u001B[32m[I 2023-03-07 18:15:44,247]\u001B[0m Trial 41 finished with value: 0.7743377828005917 and parameters: {'n_estimators': 200, 'max_depth': 15, 'min_samples_split': 5, 'min_samples_leaf': 9}. Best is trial 6 with value: 0.7782638470843097.\u001B[0m\n",
      "\u001B[32m[I 2023-03-07 18:15:44,311]\u001B[0m Trial 40 finished with value: 0.7743377828005917 and parameters: {'n_estimators': 200, 'max_depth': 15, 'min_samples_split': 5, 'min_samples_leaf': 9}. Best is trial 6 with value: 0.7782638470843097.\u001B[0m\n",
      "\u001B[32m[I 2023-03-07 18:15:46,431]\u001B[0m Trial 42 finished with value: 0.7741101926074133 and parameters: {'n_estimators': 200, 'max_depth': 14, 'min_samples_split': 5, 'min_samples_leaf': 5}. Best is trial 6 with value: 0.7782638470843097.\u001B[0m\n",
      "\u001B[32m[I 2023-03-07 18:15:47,197]\u001B[0m Trial 44 finished with value: 0.7731028437582349 and parameters: {'n_estimators': 200, 'max_depth': 18, 'min_samples_split': 3, 'min_samples_leaf': 5}. Best is trial 6 with value: 0.7782638470843097.\u001B[0m\n",
      "\u001B[32m[I 2023-03-07 18:15:47,301]\u001B[0m Trial 43 finished with value: 0.7741101926074133 and parameters: {'n_estimators': 200, 'max_depth': 14, 'min_samples_split': 5, 'min_samples_leaf': 5}. Best is trial 6 with value: 0.7782638470843097.\u001B[0m\n",
      "\u001B[32m[I 2023-03-07 18:15:48,862]\u001B[0m Trial 46 finished with value: 0.7731028437582349 and parameters: {'n_estimators': 200, 'max_depth': 18, 'min_samples_split': 5, 'min_samples_leaf': 5}. Best is trial 6 with value: 0.7782638470843097.\u001B[0m\n",
      "\u001B[32m[I 2023-03-07 18:15:52,079]\u001B[0m Trial 52 finished with value: 0.7723647523833701 and parameters: {'n_estimators': 180, 'max_depth': 17, 'min_samples_split': 5, 'min_samples_leaf': 9}. Best is trial 6 with value: 0.7782638470843097.\u001B[0m\n",
      "\u001B[32m[I 2023-03-07 18:15:54,156]\u001B[0m Trial 53 finished with value: 0.7723647523833701 and parameters: {'n_estimators': 180, 'max_depth': 16, 'min_samples_split': 5, 'min_samples_leaf': 9}. Best is trial 6 with value: 0.7782638470843097.\u001B[0m\n",
      "\u001B[32m[I 2023-03-07 18:15:55,219]\u001B[0m Trial 54 finished with value: 0.7759264927582452 and parameters: {'n_estimators': 170, 'max_depth': 16, 'min_samples_split': 6, 'min_samples_leaf': 7}. Best is trial 6 with value: 0.7782638470843097.\u001B[0m\n",
      "\u001B[32m[I 2023-03-07 18:15:56,343]\u001B[0m Trial 55 finished with value: 0.7723647523833701 and parameters: {'n_estimators': 180, 'max_depth': 16, 'min_samples_split': 6, 'min_samples_leaf': 9}. Best is trial 6 with value: 0.7782638470843097.\u001B[0m\n",
      "\u001B[32m[I 2023-03-07 18:15:58,551]\u001B[0m Trial 56 finished with value: 0.776737207375279 and parameters: {'n_estimators': 180, 'max_depth': 16, 'min_samples_split': 6, 'min_samples_leaf': 7}. Best is trial 6 with value: 0.7782638470843097.\u001B[0m\n",
      "\u001B[32m[I 2023-03-07 18:15:59,306]\u001B[0m Trial 57 finished with value: 0.7727238694840592 and parameters: {'n_estimators': 170, 'max_depth': 16, 'min_samples_split': 6, 'min_samples_leaf': 3}. Best is trial 6 with value: 0.7782638470843097.\u001B[0m\n",
      "\u001B[32m[I 2023-03-07 18:16:01,555]\u001B[0m Trial 58 finished with value: 0.7719824488915188 and parameters: {'n_estimators': 180, 'max_depth': 16, 'min_samples_split': 6, 'min_samples_leaf': 3}. Best is trial 6 with value: 0.7782638470843097.\u001B[0m\n",
      "\u001B[32m[I 2023-03-07 18:16:01,848]\u001B[0m Trial 59 finished with value: 0.7719824488915188 and parameters: {'n_estimators': 180, 'max_depth': 16, 'min_samples_split': 6, 'min_samples_leaf': 3}. Best is trial 6 with value: 0.7782638470843097.\u001B[0m\n",
      "\u001B[32m[I 2023-03-07 18:16:02,958]\u001B[0m Trial 60 finished with value: 0.7727238694840592 and parameters: {'n_estimators': 170, 'max_depth': 16, 'min_samples_split': 6, 'min_samples_leaf': 3}. Best is trial 6 with value: 0.7782638470843097.\u001B[0m\n",
      "\u001B[32m[I 2023-03-07 18:16:03,068]\u001B[0m Trial 62 finished with value: 0.7749727494040448 and parameters: {'n_estimators': 170, 'max_depth': 16, 'min_samples_split': 10, 'min_samples_leaf': 3}. Best is trial 6 with value: 0.7782638470843097.\u001B[0m\n",
      "\u001B[32m[I 2023-03-07 18:16:04,368]\u001B[0m Trial 63 finished with value: 0.7749727494040448 and parameters: {'n_estimators': 170, 'max_depth': 16, 'min_samples_split': 10, 'min_samples_leaf': 3}. Best is trial 6 with value: 0.7782638470843097.\u001B[0m\n",
      "\u001B[32m[I 2023-03-07 18:16:04,490]\u001B[0m Trial 61 finished with value: 0.7719824488915188 and parameters: {'n_estimators': 180, 'max_depth': 16, 'min_samples_split': 6, 'min_samples_leaf': 3}. Best is trial 6 with value: 0.7782638470843097.\u001B[0m\n",
      "\u001B[32m[I 2023-03-07 18:16:06,651]\u001B[0m Trial 64 finished with value: 0.7769509575346306 and parameters: {'n_estimators': 160, 'max_depth': 16, 'min_samples_split': 9, 'min_samples_leaf': 3}. Best is trial 6 with value: 0.7782638470843097.\u001B[0m\n",
      "\u001B[32m[I 2023-03-07 18:16:08,512]\u001B[0m Trial 66 finished with value: 0.7779448234338566 and parameters: {'n_estimators': 150, 'max_depth': 12, 'min_samples_split': 10, 'min_samples_leaf': 3}. Best is trial 6 with value: 0.7782638470843097.\u001B[0m\n",
      "\u001B[32m[I 2023-03-07 18:16:08,631]\u001B[0m Trial 65 finished with value: 0.7743053221194074 and parameters: {'n_estimators': 160, 'max_depth': 11, 'min_samples_split': 10, 'min_samples_leaf': 4}. Best is trial 6 with value: 0.7782638470843097.\u001B[0m\n",
      "\u001B[32m[I 2023-03-07 18:16:10,319]\u001B[0m Trial 67 finished with value: 0.7741196400166689 and parameters: {'n_estimators': 160, 'max_depth': 11, 'min_samples_split': 10, 'min_samples_leaf': 3}. Best is trial 6 with value: 0.7782638470843097.\u001B[0m\n",
      "\u001B[32m[I 2023-03-07 18:16:11,556]\u001B[0m Trial 68 finished with value: 0.7779448234338566 and parameters: {'n_estimators': 150, 'max_depth': 12, 'min_samples_split': 10, 'min_samples_leaf': 3}. Best is trial 6 with value: 0.7782638470843097.\u001B[0m\n",
      "\u001B[32m[I 2023-03-07 18:16:12,836]\u001B[0m Trial 70 finished with value: 0.7747723945302472 and parameters: {'n_estimators': 130, 'max_depth': 11, 'min_samples_split': 10, 'min_samples_leaf': 2}. Best is trial 6 with value: 0.7782638470843097.\u001B[0m\n",
      "\u001B[32m[I 2023-03-07 18:16:13,513]\u001B[0m Trial 69 finished with value: 0.7743053221194074 and parameters: {'n_estimators': 160, 'max_depth': 11, 'min_samples_split': 10, 'min_samples_leaf': 4}. Best is trial 6 with value: 0.7782638470843097.\u001B[0m\n",
      "\u001B[32m[I 2023-03-07 18:16:15,041]\u001B[0m Trial 71 finished with value: 0.7706133649887668 and parameters: {'n_estimators': 150, 'max_depth': 12, 'min_samples_split': 10, 'min_samples_leaf': 4}. Best is trial 6 with value: 0.7782638470843097.\u001B[0m\n",
      "\u001B[32m[I 2023-03-07 18:16:16,226]\u001B[0m Trial 73 finished with value: 0.7741975106308783 and parameters: {'n_estimators': 150, 'max_depth': 12, 'min_samples_split': 4, 'min_samples_leaf': 7}. Best is trial 6 with value: 0.7782638470843097.\u001B[0m\n",
      "\u001B[32m[I 2023-03-07 18:16:16,594]\u001B[0m Trial 72 finished with value: 0.7756555344239563 and parameters: {'n_estimators': 160, 'max_depth': 11, 'min_samples_split': 10, 'min_samples_leaf': 7}. Best is trial 6 with value: 0.7782638470843097.\u001B[0m\n",
      "\u001B[32m[I 2023-03-07 18:16:17,312]\u001B[0m Trial 75 finished with value: 0.7772923246223279 and parameters: {'n_estimators': 150, 'max_depth': 11, 'min_samples_split': 4, 'min_samples_leaf': 7}. Best is trial 6 with value: 0.7782638470843097.\u001B[0m\n",
      "\u001B[32m[I 2023-03-07 18:16:17,507]\u001B[0m Trial 74 finished with value: 0.7772923246223279 and parameters: {'n_estimators': 150, 'max_depth': 11, 'min_samples_split': 4, 'min_samples_leaf': 7}. Best is trial 6 with value: 0.7782638470843097.\u001B[0m\n",
      "\u001B[32m[I 2023-03-07 18:16:20,016]\u001B[0m Trial 76 finished with value: 0.7757692033261726 and parameters: {'n_estimators': 150, 'max_depth': 11, 'min_samples_split': 9, 'min_samples_leaf': 2}. Best is trial 6 with value: 0.7782638470843097.\u001B[0m\n",
      "\u001B[32m[I 2023-03-07 18:16:20,510]\u001B[0m Trial 77 finished with value: 0.7738778754272365 and parameters: {'n_estimators': 130, 'max_depth': 11, 'min_samples_split': 4, 'min_samples_leaf': 2}. Best is trial 6 with value: 0.7782638470843097.\u001B[0m\n",
      "\u001B[32m[I 2023-03-07 18:16:21,237]\u001B[0m Trial 78 finished with value: 0.7733495947360545 and parameters: {'n_estimators': 130, 'max_depth': 19, 'min_samples_split': 4, 'min_samples_leaf': 2}. Best is trial 6 with value: 0.7782638470843097.\u001B[0m\n",
      "\u001B[32m[I 2023-03-07 18:16:22,845]\u001B[0m Trial 79 finished with value: 0.7706197600672068 and parameters: {'n_estimators': 130, 'max_depth': 13, 'min_samples_split': 4, 'min_samples_leaf': 2}. Best is trial 6 with value: 0.7782638470843097.\u001B[0m\n",
      "\u001B[32m[I 2023-03-07 18:16:23,931]\u001B[0m Trial 80 finished with value: 0.7704730699944147 and parameters: {'n_estimators': 130, 'max_depth': 12, 'min_samples_split': 4, 'min_samples_leaf': 2}. Best is trial 6 with value: 0.7782638470843097.\u001B[0m\n",
      "\u001B[32m[I 2023-03-07 18:16:25,401]\u001B[0m Trial 81 finished with value: 0.7704730699944147 and parameters: {'n_estimators': 130, 'max_depth': 12, 'min_samples_split': 4, 'min_samples_leaf': 2}. Best is trial 6 with value: 0.7782638470843097.\u001B[0m\n",
      "\u001B[32m[I 2023-03-07 18:16:26,595]\u001B[0m Trial 82 finished with value: 0.7743180453733763 and parameters: {'n_estimators': 140, 'max_depth': 13, 'min_samples_split': 9, 'min_samples_leaf': 2}. Best is trial 6 with value: 0.7782638470843097.\u001B[0m\n",
      "\u001B[32m[I 2023-03-07 18:16:28,364]\u001B[0m Trial 83 finished with value: 0.7743180453733763 and parameters: {'n_estimators': 140, 'max_depth': 13, 'min_samples_split': 9, 'min_samples_leaf': 2}. Best is trial 6 with value: 0.7782638470843097.\u001B[0m\n",
      "\u001B[32m[I 2023-03-07 18:16:28,832]\u001B[0m Trial 87 finished with value: 0.7738356367977185 and parameters: {'n_estimators': 130, 'max_depth': 10, 'min_samples_split': 4, 'min_samples_leaf': 8}. Best is trial 6 with value: 0.7782638470843097.\u001B[0m\n",
      "\u001B[32m[I 2023-03-07 18:16:29,468]\u001B[0m Trial 84 finished with value: 0.7743180453733763 and parameters: {'n_estimators': 140, 'max_depth': 13, 'min_samples_split': 9, 'min_samples_leaf': 2}. Best is trial 6 with value: 0.7782638470843097.\u001B[0m\n",
      "\u001B[32m[I 2023-03-07 18:16:29,694]\u001B[0m Trial 85 finished with value: 0.7743180453733763 and parameters: {'n_estimators': 140, 'max_depth': 13, 'min_samples_split': 9, 'min_samples_leaf': 2}. Best is trial 6 with value: 0.7782638470843097.\u001B[0m\n",
      "\u001B[32m[I 2023-03-07 18:16:31,191]\u001B[0m Trial 86 finished with value: 0.7717873646580732 and parameters: {'n_estimators': 140, 'max_depth': 13, 'min_samples_split': 4, 'min_samples_leaf': 2}. Best is trial 6 with value: 0.7782638470843097.\u001B[0m\n",
      "\u001B[32m[I 2023-03-07 18:16:31,673]\u001B[0m Trial 89 finished with value: 0.7738356367977185 and parameters: {'n_estimators': 130, 'max_depth': 10, 'min_samples_split': 4, 'min_samples_leaf': 8}. Best is trial 6 with value: 0.7782638470843097.\u001B[0m\n",
      "\u001B[32m[I 2023-03-07 18:16:32,396]\u001B[0m Trial 88 finished with value: 0.7730985511634907 and parameters: {'n_estimators': 140, 'max_depth': 10, 'min_samples_split': 4, 'min_samples_leaf': 8}. Best is trial 6 with value: 0.7782638470843097.\u001B[0m\n",
      "\u001B[32m[I 2023-03-07 18:16:33,846]\u001B[0m Trial 90 finished with value: 0.7730985511634907 and parameters: {'n_estimators': 140, 'max_depth': 10, 'min_samples_split': 9, 'min_samples_leaf': 8}. Best is trial 6 with value: 0.7782638470843097.\u001B[0m\n",
      "\u001B[32m[I 2023-03-07 18:16:34,336]\u001B[0m Trial 92 finished with value: 0.7738556770797632 and parameters: {'n_estimators': 120, 'max_depth': 10, 'min_samples_split': 9, 'min_samples_leaf': 8}. Best is trial 6 with value: 0.7782638470843097.\u001B[0m\n",
      "\u001B[32m[I 2023-03-07 18:16:34,721]\u001B[0m Trial 91 finished with value: 0.772322029561445 and parameters: {'n_estimators': 140, 'max_depth': 8, 'min_samples_split': 9, 'min_samples_leaf': 8}. Best is trial 6 with value: 0.7782638470843097.\u001B[0m\n",
      "\u001B[32m[I 2023-03-07 18:16:36,268]\u001B[0m Trial 94 finished with value: 0.7730272442527122 and parameters: {'n_estimators': 110, 'max_depth': 10, 'min_samples_split': 3, 'min_samples_leaf': 8}. Best is trial 6 with value: 0.7782638470843097.\u001B[0m\n",
      "\u001B[32m[I 2023-03-07 18:16:41,542]\u001B[0m Trial 93 finished with value: 0.7721929529109526 and parameters: {'n_estimators': 190, 'max_depth': 10, 'min_samples_split': 9, 'min_samples_leaf': 8}. Best is trial 6 with value: 0.7782638470843097.\u001B[0m\n",
      "\u001B[32m[I 2023-03-07 18:16:45,043]\u001B[0m Trial 95 finished with value: 0.7747228138755571 and parameters: {'n_estimators': 190, 'max_depth': 19, 'min_samples_split': 3, 'min_samples_leaf': 8}. Best is trial 6 with value: 0.7782638470843097.\u001B[0m\n",
      "\u001B[32m[I 2023-03-07 18:16:45,789]\u001B[0m Trial 96 finished with value: 0.7736189481920863 and parameters: {'n_estimators': 190, 'max_depth': 10, 'min_samples_split': 3, 'min_samples_leaf': 6}. Best is trial 6 with value: 0.7782638470843097.\u001B[0m\n",
      "\u001B[32m[I 2023-03-07 18:16:46,431]\u001B[0m Trial 97 finished with value: 0.7736189481920863 and parameters: {'n_estimators': 190, 'max_depth': 10, 'min_samples_split': 3, 'min_samples_leaf': 6}. Best is trial 6 with value: 0.7782638470843097.\u001B[0m\n",
      "\u001B[32m[I 2023-03-07 18:16:46,765]\u001B[0m Trial 98 finished with value: 0.7713693842114899 and parameters: {'n_estimators': 190, 'max_depth': 19, 'min_samples_split': 3, 'min_samples_leaf': 6}. Best is trial 6 with value: 0.7782638470843097.\u001B[0m\n",
      "\u001B[32m[I 2023-03-07 18:16:47,043]\u001B[0m Trial 101 finished with value: 0.7628571366418271 and parameters: {'n_estimators': 190, 'max_depth': 6, 'min_samples_split': 3, 'min_samples_leaf': 6}. Best is trial 6 with value: 0.7782638470843097.\u001B[0m\n",
      "\u001B[32m[I 2023-03-07 18:16:48,202]\u001B[0m Trial 99 finished with value: 0.7736189481920863 and parameters: {'n_estimators': 190, 'max_depth': 10, 'min_samples_split': 3, 'min_samples_leaf': 6}. Best is trial 6 with value: 0.7782638470843097.\u001B[0m\n",
      "\u001B[32m[I 2023-03-07 18:16:48,790]\u001B[0m Trial 100 finished with value: 0.7713693842114899 and parameters: {'n_estimators': 190, 'max_depth': 19, 'min_samples_split': 3, 'min_samples_leaf': 6}. Best is trial 6 with value: 0.7782638470843097.\u001B[0m\n",
      "\u001B[32m[I 2023-03-07 18:16:51,169]\u001B[0m Trial 102 finished with value: 0.7713693842114899 and parameters: {'n_estimators': 190, 'max_depth': 19, 'min_samples_split': 3, 'min_samples_leaf': 6}. Best is trial 6 with value: 0.7782638470843097.\u001B[0m\n",
      "\u001B[32m[I 2023-03-07 18:16:51,178]\u001B[0m Trial 103 finished with value: 0.7713693842114899 and parameters: {'n_estimators': 190, 'max_depth': 19, 'min_samples_split': 3, 'min_samples_leaf': 6}. Best is trial 6 with value: 0.7782638470843097.\u001B[0m\n",
      "\u001B[32m[I 2023-03-07 18:16:51,572]\u001B[0m Trial 104 finished with value: 0.7714639467740378 and parameters: {'n_estimators': 190, 'max_depth': 15, 'min_samples_split': 3, 'min_samples_leaf': 6}. Best is trial 6 with value: 0.7782638470843097.\u001B[0m\n",
      "\u001B[32m[I 2023-03-07 18:16:53,147]\u001B[0m Trial 108 finished with value: 0.7755997309687314 and parameters: {'n_estimators': 80, 'max_depth': 15, 'min_samples_split': 10, 'min_samples_leaf': 6}. Best is trial 6 with value: 0.7782638470843097.\u001B[0m\n",
      "\u001B[32m[I 2023-03-07 18:16:53,502]\u001B[0m Trial 105 finished with value: 0.7713693842114899 and parameters: {'n_estimators': 190, 'max_depth': 19, 'min_samples_split': 7, 'min_samples_leaf': 6}. Best is trial 6 with value: 0.7782638470843097.\u001B[0m\n",
      "\u001B[32m[I 2023-03-07 18:16:54,160]\u001B[0m Trial 107 finished with value: 0.7738681519368661 and parameters: {'n_estimators': 100, 'max_depth': 15, 'min_samples_split': 3, 'min_samples_leaf': 6}. Best is trial 6 with value: 0.7782638470843097.\u001B[0m\n",
      "\u001B[32m[I 2023-03-07 18:16:55,432]\u001B[0m Trial 112 finished with value: 0.7778489692002785 and parameters: {'n_estimators': 80, 'max_depth': 15, 'min_samples_split': 10, 'min_samples_leaf': 7}. Best is trial 6 with value: 0.7782638470843097.\u001B[0m\n",
      "\u001B[32m[I 2023-03-07 18:16:55,734]\u001B[0m Trial 109 finished with value: 0.7789303177692114 and parameters: {'n_estimators': 100, 'max_depth': 19, 'min_samples_split': 10, 'min_samples_leaf': 7}. Best is trial 109 with value: 0.7789303177692114.\u001B[0m\n",
      "\u001B[32m[I 2023-03-07 18:16:55,901]\u001B[0m Trial 113 finished with value: 0.7778489692002785 and parameters: {'n_estimators': 80, 'max_depth': 15, 'min_samples_split': 8, 'min_samples_leaf': 7}. Best is trial 109 with value: 0.7789303177692114.\u001B[0m\n",
      "\u001B[32m[I 2023-03-07 18:16:55,979]\u001B[0m Trial 110 finished with value: 0.7789589031192033 and parameters: {'n_estimators': 100, 'max_depth': 14, 'min_samples_split': 10, 'min_samples_leaf': 7}. Best is trial 110 with value: 0.7789589031192033.\u001B[0m\n",
      "\u001B[32m[I 2023-03-07 18:16:56,148]\u001B[0m Trial 111 finished with value: 0.7800627565027025 and parameters: {'n_estimators': 100, 'max_depth': 15, 'min_samples_split': 8, 'min_samples_leaf': 7}. Best is trial 111 with value: 0.7800627565027025.\u001B[0m\n",
      "\u001B[32m[I 2023-03-07 18:16:58,529]\u001B[0m Trial 106 finished with value: 0.7714639467740378 and parameters: {'n_estimators': 190, 'max_depth': 15, 'min_samples_split': 7, 'min_samples_leaf': 6}. Best is trial 111 with value: 0.7800627565027025.\u001B[0m\n",
      "\u001B[32m[I 2023-03-07 18:16:58,539]\u001B[0m Trial 114 finished with value: 0.7778489692002785 and parameters: {'n_estimators': 80, 'max_depth': 15, 'min_samples_split': 8, 'min_samples_leaf': 7}. Best is trial 111 with value: 0.7800627565027025.\u001B[0m\n",
      "\u001B[32m[I 2023-03-07 18:16:58,905]\u001B[0m Trial 116 finished with value: 0.7758618777553562 and parameters: {'n_estimators': 80, 'max_depth': 14, 'min_samples_split': 8, 'min_samples_leaf': 7}. Best is trial 111 with value: 0.7800627565027025.\u001B[0m\n",
      "\u001B[32m[I 2023-03-07 18:17:00,177]\u001B[0m Trial 115 finished with value: 0.7800627565027025 and parameters: {'n_estimators': 100, 'max_depth': 15, 'min_samples_split': 8, 'min_samples_leaf': 7}. Best is trial 111 with value: 0.7800627565027025.\u001B[0m\n",
      "\u001B[32m[I 2023-03-07 18:17:02,350]\u001B[0m Trial 117 finished with value: 0.7789589031192033 and parameters: {'n_estimators': 100, 'max_depth': 14, 'min_samples_split': 8, 'min_samples_leaf': 7}. Best is trial 111 with value: 0.7800627565027025.\u001B[0m\n",
      "\u001B[32m[I 2023-03-07 18:17:02,596]\u001B[0m Trial 118 finished with value: 0.7789589031192033 and parameters: {'n_estimators': 100, 'max_depth': 14, 'min_samples_split': 8, 'min_samples_leaf': 7}. Best is trial 111 with value: 0.7800627565027025.\u001B[0m\n",
      "\u001B[32m[I 2023-03-07 18:17:02,880]\u001B[0m Trial 120 finished with value: 0.7758618777553562 and parameters: {'n_estimators': 80, 'max_depth': 14, 'min_samples_split': 10, 'min_samples_leaf': 7}. Best is trial 111 with value: 0.7800627565027025.\u001B[0m\n",
      "\u001B[32m[I 2023-03-07 18:17:03,251]\u001B[0m Trial 122 finished with value: 0.7758618777553562 and parameters: {'n_estimators': 80, 'max_depth': 14, 'min_samples_split': 8, 'min_samples_leaf': 7}. Best is trial 111 with value: 0.7800627565027025.\u001B[0m\n",
      "\u001B[32m[I 2023-03-07 18:17:03,257]\u001B[0m Trial 121 finished with value: 0.7758618777553562 and parameters: {'n_estimators': 80, 'max_depth': 14, 'min_samples_split': 10, 'min_samples_leaf': 7}. Best is trial 111 with value: 0.7800627565027025.\u001B[0m\n",
      "\u001B[32m[I 2023-03-07 18:17:03,344]\u001B[0m Trial 123 finished with value: 0.7758618777553562 and parameters: {'n_estimators': 80, 'max_depth': 14, 'min_samples_split': 10, 'min_samples_leaf': 7}. Best is trial 111 with value: 0.7800627565027025.\u001B[0m\n",
      "\u001B[32m[I 2023-03-07 18:17:03,681]\u001B[0m Trial 124 finished with value: 0.7758618777553562 and parameters: {'n_estimators': 80, 'max_depth': 14, 'min_samples_split': 8, 'min_samples_leaf': 7}. Best is trial 111 with value: 0.7800627565027025.\u001B[0m\n",
      "\u001B[32m[I 2023-03-07 18:17:05,945]\u001B[0m Trial 125 finished with value: 0.7751793268411733 and parameters: {'n_estimators': 80, 'max_depth': 17, 'min_samples_split': 8, 'min_samples_leaf': 7}. Best is trial 111 with value: 0.7800627565027025.\u001B[0m\n",
      "\u001B[32m[I 2023-03-07 18:17:06,123]\u001B[0m Trial 126 finished with value: 0.7758618777553562 and parameters: {'n_estimators': 80, 'max_depth': 14, 'min_samples_split': 8, 'min_samples_leaf': 7}. Best is trial 111 with value: 0.7800627565027025.\u001B[0m\n",
      "\u001B[32m[I 2023-03-07 18:17:07,167]\u001B[0m Trial 127 finished with value: 0.7785387422630239 and parameters: {'n_estimators': 90, 'max_depth': 17, 'min_samples_split': 8, 'min_samples_leaf': 7}. Best is trial 111 with value: 0.7800627565027025.\u001B[0m\n",
      "\u001B[32m[I 2023-03-07 18:17:07,990]\u001B[0m Trial 119 finished with value: 0.7760299837319995 and parameters: {'n_estimators': 150, 'max_depth': 14, 'min_samples_split': 8, 'min_samples_leaf': 7}. Best is trial 111 with value: 0.7800627565027025.\u001B[0m\n",
      "\u001B[32m[I 2023-03-07 18:17:08,533]\u001B[0m Trial 128 finished with value: 0.7785387422630239 and parameters: {'n_estimators': 90, 'max_depth': 17, 'min_samples_split': 8, 'min_samples_leaf': 7}. Best is trial 111 with value: 0.7800627565027025.\u001B[0m\n",
      "\u001B[32m[I 2023-03-07 18:17:11,516]\u001B[0m Trial 129 finished with value: 0.7789589031192033 and parameters: {'n_estimators': 100, 'max_depth': 14, 'min_samples_split': 8, 'min_samples_leaf': 7}. Best is trial 111 with value: 0.7800627565027025.\u001B[0m\n",
      "\u001B[32m[I 2023-03-07 18:17:11,922]\u001B[0m Trial 130 finished with value: 0.7789589031192033 and parameters: {'n_estimators': 100, 'max_depth': 14, 'min_samples_split': 8, 'min_samples_leaf': 7}. Best is trial 111 with value: 0.7800627565027025.\u001B[0m\n",
      "\u001B[32m[I 2023-03-07 18:17:12,095]\u001B[0m Trial 131 finished with value: 0.7793284625396527 and parameters: {'n_estimators': 100, 'max_depth': 17, 'min_samples_split': 8, 'min_samples_leaf': 7}. Best is trial 111 with value: 0.7800627565027025.\u001B[0m\n",
      "\u001B[32m[I 2023-03-07 18:17:12,309]\u001B[0m Trial 132 finished with value: 0.7793284625396527 and parameters: {'n_estimators': 100, 'max_depth': 17, 'min_samples_split': 8, 'min_samples_leaf': 7}. Best is trial 111 with value: 0.7800627565027025.\u001B[0m\n",
      "\u001B[32m[I 2023-03-07 18:17:12,491]\u001B[0m Trial 134 finished with value: 0.7793284625396527 and parameters: {'n_estimators': 100, 'max_depth': 17, 'min_samples_split': 8, 'min_samples_leaf': 7}. Best is trial 111 with value: 0.7800627565027025.\u001B[0m\n",
      "\u001B[32m[I 2023-03-07 18:17:12,714]\u001B[0m Trial 133 finished with value: 0.7793284625396527 and parameters: {'n_estimators': 100, 'max_depth': 17, 'min_samples_split': 8, 'min_samples_leaf': 7}. Best is trial 111 with value: 0.7800627565027025.\u001B[0m\n",
      "\u001B[32m[I 2023-03-07 18:17:12,873]\u001B[0m Trial 135 finished with value: 0.7800627565027025 and parameters: {'n_estimators': 100, 'max_depth': 15, 'min_samples_split': 8, 'min_samples_leaf': 7}. Best is trial 111 with value: 0.7800627565027025.\u001B[0m\n",
      "\u001B[32m[I 2023-03-07 18:17:15,003]\u001B[0m Trial 136 finished with value: 0.7800627565027025 and parameters: {'n_estimators': 100, 'max_depth': 15, 'min_samples_split': 8, 'min_samples_leaf': 7}. Best is trial 111 with value: 0.7800627565027025.\u001B[0m\n",
      "\u001B[32m[I 2023-03-07 18:17:15,392]\u001B[0m Trial 137 finished with value: 0.7793284625396527 and parameters: {'n_estimators': 100, 'max_depth': 17, 'min_samples_split': 8, 'min_samples_leaf': 7}. Best is trial 111 with value: 0.7800627565027025.\u001B[0m\n",
      "\u001B[32m[I 2023-03-07 18:17:17,015]\u001B[0m Trial 138 finished with value: 0.777054896798364 and parameters: {'n_estimators': 110, 'max_depth': 17, 'min_samples_split': 8, 'min_samples_leaf': 7}. Best is trial 111 with value: 0.7800627565027025.\u001B[0m\n",
      "\u001B[32m[I 2023-03-07 18:17:17,381]\u001B[0m Trial 139 finished with value: 0.7793284625396527 and parameters: {'n_estimators': 100, 'max_depth': 17, 'min_samples_split': 7, 'min_samples_leaf': 7}. Best is trial 111 with value: 0.7800627565027025.\u001B[0m\n",
      "\u001B[32m[I 2023-03-07 18:17:17,793]\u001B[0m Trial 140 finished with value: 0.7793284625396527 and parameters: {'n_estimators': 100, 'max_depth': 17, 'min_samples_split': 7, 'min_samples_leaf': 7}. Best is trial 111 with value: 0.7800627565027025.\u001B[0m\n",
      "\u001B[32m[I 2023-03-07 18:17:20,689]\u001B[0m Trial 141 finished with value: 0.7793284625396527 and parameters: {'n_estimators': 100, 'max_depth': 17, 'min_samples_split': 7, 'min_samples_leaf': 7}. Best is trial 111 with value: 0.7800627565027025.\u001B[0m\n",
      "\u001B[32m[I 2023-03-07 18:17:21,003]\u001B[0m Trial 142 finished with value: 0.7793284625396527 and parameters: {'n_estimators': 100, 'max_depth': 17, 'min_samples_split': 7, 'min_samples_leaf': 7}. Best is trial 111 with value: 0.7800627565027025.\u001B[0m\n",
      "\u001B[32m[I 2023-03-07 18:17:21,026]\u001B[0m Trial 143 finished with value: 0.7793284625396527 and parameters: {'n_estimators': 100, 'max_depth': 17, 'min_samples_split': 7, 'min_samples_leaf': 7}. Best is trial 111 with value: 0.7800627565027025.\u001B[0m\n",
      "\u001B[32m[I 2023-03-07 18:17:21,309]\u001B[0m Trial 144 finished with value: 0.7793284625396527 and parameters: {'n_estimators': 100, 'max_depth': 17, 'min_samples_split': 8, 'min_samples_leaf': 7}. Best is trial 111 with value: 0.7800627565027025.\u001B[0m\n",
      "\u001B[32m[I 2023-03-07 18:17:21,553]\u001B[0m Trial 145 finished with value: 0.7793284625396527 and parameters: {'n_estimators': 100, 'max_depth': 17, 'min_samples_split': 7, 'min_samples_leaf': 7}. Best is trial 111 with value: 0.7800627565027025.\u001B[0m\n",
      "\u001B[32m[I 2023-03-07 18:17:21,979]\u001B[0m Trial 146 finished with value: 0.7793284625396527 and parameters: {'n_estimators': 100, 'max_depth': 17, 'min_samples_split': 7, 'min_samples_leaf': 7}. Best is trial 111 with value: 0.7800627565027025.\u001B[0m\n",
      "\u001B[32m[I 2023-03-07 18:17:22,818]\u001B[0m Trial 147 finished with value: 0.777054896798364 and parameters: {'n_estimators': 110, 'max_depth': 17, 'min_samples_split': 7, 'min_samples_leaf': 7}. Best is trial 111 with value: 0.7800627565027025.\u001B[0m\n",
      "\u001B[32m[I 2023-03-07 18:17:24,072]\u001B[0m Trial 148 finished with value: 0.7793284625396527 and parameters: {'n_estimators': 100, 'max_depth': 17, 'min_samples_split': 7, 'min_samples_leaf': 7}. Best is trial 111 with value: 0.7800627565027025.\u001B[0m\n",
      "\u001B[32m[I 2023-03-07 18:17:25,574]\u001B[0m Trial 149 finished with value: 0.777054896798364 and parameters: {'n_estimators': 110, 'max_depth': 17, 'min_samples_split': 7, 'min_samples_leaf': 7}. Best is trial 111 with value: 0.7800627565027025.\u001B[0m\n",
      "\u001B[32m[I 2023-03-07 18:17:25,838]\u001B[0m Trial 150 finished with value: 0.7793284625396527 and parameters: {'n_estimators': 100, 'max_depth': 17, 'min_samples_split': 7, 'min_samples_leaf': 7}. Best is trial 111 with value: 0.7800627565027025.\u001B[0m\n",
      "\u001B[32m[I 2023-03-07 18:17:27,298]\u001B[0m Trial 151 finished with value: 0.777054896798364 and parameters: {'n_estimators': 110, 'max_depth': 17, 'min_samples_split': 7, 'min_samples_leaf': 7}. Best is trial 111 with value: 0.7800627565027025.\u001B[0m\n",
      "\u001B[32m[I 2023-03-07 18:17:27,548]\u001B[0m Trial 152 finished with value: 0.777054896798364 and parameters: {'n_estimators': 110, 'max_depth': 17, 'min_samples_split': 7, 'min_samples_leaf': 7}. Best is trial 111 with value: 0.7800627565027025.\u001B[0m\n",
      "\u001B[32m[I 2023-03-07 18:17:30,686]\u001B[0m Trial 155 finished with value: 0.7708832160681082 and parameters: {'n_estimators': 110, 'max_depth': 17, 'min_samples_split': 7, 'min_samples_leaf': 8}. Best is trial 111 with value: 0.7800627565027025.\u001B[0m\n",
      "\u001B[32m[I 2023-03-07 18:17:30,918]\u001B[0m Trial 153 finished with value: 0.777054896798364 and parameters: {'n_estimators': 110, 'max_depth': 17, 'min_samples_split': 7, 'min_samples_leaf': 7}. Best is trial 111 with value: 0.7800627565027025.\u001B[0m\n",
      "\u001B[32m[I 2023-03-07 18:17:30,929]\u001B[0m Trial 154 finished with value: 0.7708832160681082 and parameters: {'n_estimators': 110, 'max_depth': 17, 'min_samples_split': 7, 'min_samples_leaf': 8}. Best is trial 111 with value: 0.7800627565027025.\u001B[0m\n",
      "\u001B[32m[I 2023-03-07 18:17:31,255]\u001B[0m Trial 157 finished with value: 0.7715440336012076 and parameters: {'n_estimators': 110, 'max_depth': 18, 'min_samples_split': 7, 'min_samples_leaf': 8}. Best is trial 111 with value: 0.7800627565027025.\u001B[0m\n",
      "\u001B[32m[I 2023-03-07 18:17:31,407]\u001B[0m Trial 156 finished with value: 0.777054896798364 and parameters: {'n_estimators': 110, 'max_depth': 17, 'min_samples_split': 7, 'min_samples_leaf': 7}. Best is trial 111 with value: 0.7800627565027025.\u001B[0m\n",
      "\u001B[32m[I 2023-03-07 18:17:31,823]\u001B[0m Trial 158 finished with value: 0.7715440336012076 and parameters: {'n_estimators': 110, 'max_depth': 18, 'min_samples_split': 7, 'min_samples_leaf': 8}. Best is trial 111 with value: 0.7800627565027025.\u001B[0m\n",
      "\u001B[32m[I 2023-03-07 18:17:32,656]\u001B[0m Trial 159 finished with value: 0.7715440336012076 and parameters: {'n_estimators': 110, 'max_depth': 18, 'min_samples_split': 7, 'min_samples_leaf': 8}. Best is trial 111 with value: 0.7800627565027025.\u001B[0m\n",
      "\u001B[32m[I 2023-03-07 18:17:33,680]\u001B[0m Trial 160 finished with value: 0.7715440336012076 and parameters: {'n_estimators': 110, 'max_depth': 18, 'min_samples_split': 7, 'min_samples_leaf': 8}. Best is trial 111 with value: 0.7800627565027025.\u001B[0m\n",
      "\u001B[32m[I 2023-03-07 18:17:33,718]\u001B[0m Trial 161 finished with value: 0.769479421538507 and parameters: {'n_estimators': 90, 'max_depth': 18, 'min_samples_split': 7, 'min_samples_leaf': 8}. Best is trial 111 with value: 0.7800627565027025.\u001B[0m\n",
      "\u001B[32m[I 2023-03-07 18:17:34,015]\u001B[0m Trial 162 finished with value: 0.769479421538507 and parameters: {'n_estimators': 90, 'max_depth': 18, 'min_samples_split': 7, 'min_samples_leaf': 8}. Best is trial 111 with value: 0.7800627565027025.\u001B[0m\n",
      "\u001B[32m[I 2023-03-07 18:17:35,404]\u001B[0m Trial 163 finished with value: 0.769479421538507 and parameters: {'n_estimators': 90, 'max_depth': 18, 'min_samples_split': 7, 'min_samples_leaf': 8}. Best is trial 111 with value: 0.7800627565027025.\u001B[0m\n",
      "\u001B[32m[I 2023-03-07 18:17:35,495]\u001B[0m Trial 164 finished with value: 0.769479421538507 and parameters: {'n_estimators': 90, 'max_depth': 18, 'min_samples_split': 7, 'min_samples_leaf': 8}. Best is trial 111 with value: 0.7800627565027025.\u001B[0m\n",
      "\u001B[32m[I 2023-03-07 18:17:38,653]\u001B[0m Trial 165 finished with value: 0.769479421538507 and parameters: {'n_estimators': 90, 'max_depth': 18, 'min_samples_split': 7, 'min_samples_leaf': 8}. Best is trial 111 with value: 0.7800627565027025.\u001B[0m\n",
      "\u001B[32m[I 2023-03-07 18:17:38,778]\u001B[0m Trial 167 finished with value: 0.769479421538507 and parameters: {'n_estimators': 90, 'max_depth': 18, 'min_samples_split': 8, 'min_samples_leaf': 8}. Best is trial 111 with value: 0.7800627565027025.\u001B[0m\n",
      "\u001B[32m[I 2023-03-07 18:17:38,811]\u001B[0m Trial 166 finished with value: 0.769479421538507 and parameters: {'n_estimators': 90, 'max_depth': 18, 'min_samples_split': 8, 'min_samples_leaf': 8}. Best is trial 111 with value: 0.7800627565027025.\u001B[0m\n",
      "\u001B[32m[I 2023-03-07 18:17:39,384]\u001B[0m Trial 169 finished with value: 0.769479421538507 and parameters: {'n_estimators': 90, 'max_depth': 18, 'min_samples_split': 7, 'min_samples_leaf': 8}. Best is trial 111 with value: 0.7800627565027025.\u001B[0m\n",
      "\u001B[32m[I 2023-03-07 18:17:39,645]\u001B[0m Trial 168 finished with value: 0.7785387422630239 and parameters: {'n_estimators': 90, 'max_depth': 18, 'min_samples_split': 8, 'min_samples_leaf': 7}. Best is trial 111 with value: 0.7800627565027025.\u001B[0m\n",
      "\u001B[32m[I 2023-03-07 18:17:40,360]\u001B[0m Trial 170 finished with value: 0.7785387422630239 and parameters: {'n_estimators': 90, 'max_depth': 18, 'min_samples_split': 8, 'min_samples_leaf': 7}. Best is trial 111 with value: 0.7800627565027025.\u001B[0m\n",
      "\u001B[32m[I 2023-03-07 18:17:41,150]\u001B[0m Trial 171 finished with value: 0.7807957325299825 and parameters: {'n_estimators': 90, 'max_depth': 16, 'min_samples_split': 8, 'min_samples_leaf': 7}. Best is trial 171 with value: 0.7807957325299825.\u001B[0m\n",
      "\u001B[32m[I 2023-03-07 18:17:41,900]\u001B[0m Trial 172 finished with value: 0.7807957325299825 and parameters: {'n_estimators': 90, 'max_depth': 16, 'min_samples_split': 8, 'min_samples_leaf': 7}. Best is trial 171 with value: 0.7807957325299825.\u001B[0m\n",
      "\u001B[32m[I 2023-03-07 18:17:42,216]\u001B[0m Trial 174 finished with value: 0.7807957325299825 and parameters: {'n_estimators': 90, 'max_depth': 16, 'min_samples_split': 8, 'min_samples_leaf': 7}. Best is trial 171 with value: 0.7807957325299825.\u001B[0m\n",
      "\u001B[32m[I 2023-03-07 18:17:42,372]\u001B[0m Trial 173 finished with value: 0.7807957325299825 and parameters: {'n_estimators': 90, 'max_depth': 16, 'min_samples_split': 8, 'min_samples_leaf': 7}. Best is trial 171 with value: 0.7807957325299825.\u001B[0m\n",
      "\u001B[32m[I 2023-03-07 18:17:44,656]\u001B[0m Trial 176 finished with value: 0.7782638470843097 and parameters: {'n_estimators': 100, 'max_depth': 16, 'min_samples_split': 8, 'min_samples_leaf': 7}. Best is trial 171 with value: 0.7807957325299825.\u001B[0m\n",
      "\u001B[32m[I 2023-03-07 18:17:46,656]\u001B[0m Trial 175 finished with value: 0.7766906558576336 and parameters: {'n_estimators': 120, 'max_depth': 16, 'min_samples_split': 8, 'min_samples_leaf': 7}. Best is trial 171 with value: 0.7807957325299825.\u001B[0m\n",
      "\u001B[32m[I 2023-03-07 18:17:48,145]\u001B[0m Trial 179 finished with value: 0.7782638470843097 and parameters: {'n_estimators': 100, 'max_depth': 16, 'min_samples_split': 8, 'min_samples_leaf': 7}. Best is trial 171 with value: 0.7807957325299825.\u001B[0m\n",
      "\u001B[32m[I 2023-03-07 18:17:48,266]\u001B[0m Trial 178 finished with value: 0.7782638470843097 and parameters: {'n_estimators': 100, 'max_depth': 16, 'min_samples_split': 8, 'min_samples_leaf': 7}. Best is trial 171 with value: 0.7807957325299825.\u001B[0m\n",
      "\u001B[32m[I 2023-03-07 18:17:48,626]\u001B[0m Trial 180 finished with value: 0.7782638470843097 and parameters: {'n_estimators': 100, 'max_depth': 16, 'min_samples_split': 8, 'min_samples_leaf': 7}. Best is trial 171 with value: 0.7807957325299825.\u001B[0m\n",
      "\u001B[32m[I 2023-03-07 18:17:48,885]\u001B[0m Trial 181 finished with value: 0.7782638470843097 and parameters: {'n_estimators': 100, 'max_depth': 16, 'min_samples_split': 8, 'min_samples_leaf': 7}. Best is trial 171 with value: 0.7807957325299825.\u001B[0m\n",
      "\u001B[32m[I 2023-03-07 18:17:49,834]\u001B[0m Trial 182 finished with value: 0.7782638470843097 and parameters: {'n_estimators': 100, 'max_depth': 16, 'min_samples_split': 8, 'min_samples_leaf': 7}. Best is trial 171 with value: 0.7807957325299825.\u001B[0m\n",
      "\u001B[32m[I 2023-03-07 18:17:49,836]\u001B[0m Trial 177 finished with value: 0.7766906558576336 and parameters: {'n_estimators': 120, 'max_depth': 16, 'min_samples_split': 8, 'min_samples_leaf': 7}. Best is trial 171 with value: 0.7807957325299825.\u001B[0m\n",
      "\u001B[32m[I 2023-03-07 18:17:50,381]\u001B[0m Trial 183 finished with value: 0.7782638470843097 and parameters: {'n_estimators': 100, 'max_depth': 16, 'min_samples_split': 8, 'min_samples_leaf': 7}. Best is trial 171 with value: 0.7807957325299825.\u001B[0m\n",
      "\u001B[32m[I 2023-03-07 18:17:51,098]\u001B[0m Trial 184 finished with value: 0.7782638470843097 and parameters: {'n_estimators': 100, 'max_depth': 16, 'min_samples_split': 8, 'min_samples_leaf': 7}. Best is trial 171 with value: 0.7807957325299825.\u001B[0m\n",
      "\u001B[32m[I 2023-03-07 18:17:51,467]\u001B[0m Trial 185 finished with value: 0.7782638470843097 and parameters: {'n_estimators': 100, 'max_depth': 16, 'min_samples_split': 8, 'min_samples_leaf': 7}. Best is trial 171 with value: 0.7807957325299825.\u001B[0m\n",
      "\u001B[32m[I 2023-03-07 18:17:53,479]\u001B[0m Trial 186 finished with value: 0.7766906558576336 and parameters: {'n_estimators': 120, 'max_depth': 16, 'min_samples_split': 8, 'min_samples_leaf': 7}. Best is trial 171 with value: 0.7807957325299825.\u001B[0m\n",
      "\u001B[32m[I 2023-03-07 18:17:55,890]\u001B[0m Trial 187 finished with value: 0.7766906558576336 and parameters: {'n_estimators': 120, 'max_depth': 16, 'min_samples_split': 8, 'min_samples_leaf': 7}. Best is trial 171 with value: 0.7807957325299825.\u001B[0m\n",
      "\u001B[32m[I 2023-03-07 18:17:56,179]\u001B[0m Trial 188 finished with value: 0.7782638470843097 and parameters: {'n_estimators': 100, 'max_depth': 16, 'min_samples_split': 8, 'min_samples_leaf': 7}. Best is trial 171 with value: 0.7807957325299825.\u001B[0m\n",
      "\u001B[32m[I 2023-03-07 18:17:56,540]\u001B[0m Trial 196 finished with value: 0.756909594194284 and parameters: {'n_estimators': 90, 'max_depth': 3, 'min_samples_split': 6, 'min_samples_leaf': 7}. Best is trial 171 with value: 0.7807957325299825.\u001B[0m\n",
      "\u001B[32m[I 2023-03-07 18:17:57,303]\u001B[0m Trial 189 finished with value: 0.7782638470843097 and parameters: {'n_estimators': 100, 'max_depth': 16, 'min_samples_split': 8, 'min_samples_leaf': 7}. Best is trial 171 with value: 0.7807957325299825.\u001B[0m\n",
      "\u001B[32m[I 2023-03-07 18:17:57,451]\u001B[0m Trial 190 finished with value: 0.7782638470843097 and parameters: {'n_estimators': 100, 'max_depth': 16, 'min_samples_split': 8, 'min_samples_leaf': 7}. Best is trial 171 with value: 0.7807957325299825.\u001B[0m\n",
      "\u001B[32m[I 2023-03-07 18:17:57,547]\u001B[0m Trial 191 finished with value: 0.7800627565027025 and parameters: {'n_estimators': 100, 'max_depth': 15, 'min_samples_split': 8, 'min_samples_leaf': 7}. Best is trial 171 with value: 0.7807957325299825.\u001B[0m\n",
      "\u001B[32m[I 2023-03-07 18:17:57,668]\u001B[0m Trial 192 finished with value: 0.7800627565027025 and parameters: {'n_estimators': 100, 'max_depth': 15, 'min_samples_split': 8, 'min_samples_leaf': 7}. Best is trial 171 with value: 0.7807957325299825.\u001B[0m\n",
      "\u001B[32m[I 2023-03-07 18:17:58,139]\u001B[0m Trial 194 finished with value: 0.7800627565027025 and parameters: {'n_estimators': 100, 'max_depth': 15, 'min_samples_split': 8, 'min_samples_leaf': 7}. Best is trial 171 with value: 0.7807957325299825.\u001B[0m\n",
      "\u001B[32m[I 2023-03-07 18:17:58,180]\u001B[0m Trial 193 finished with value: 0.7800627565027025 and parameters: {'n_estimators': 100, 'max_depth': 15, 'min_samples_split': 8, 'min_samples_leaf': 7}. Best is trial 171 with value: 0.7807957325299825.\u001B[0m\n",
      "\u001B[32m[I 2023-03-07 18:17:58,276]\u001B[0m Trial 195 finished with value: 0.7800627565027025 and parameters: {'n_estimators': 100, 'max_depth': 15, 'min_samples_split': 8, 'min_samples_leaf': 7}. Best is trial 171 with value: 0.7807957325299825.\u001B[0m\n",
      "\u001B[32m[I 2023-03-07 18:17:58,296]\u001B[0m Trial 197 finished with value: 0.7803099536322785 and parameters: {'n_estimators': 90, 'max_depth': 15, 'min_samples_split': 6, 'min_samples_leaf': 7}. Best is trial 171 with value: 0.7807957325299825.\u001B[0m\n",
      "\u001B[32m[I 2023-03-07 18:17:58,646]\u001B[0m Trial 198 finished with value: 0.7803099536322785 and parameters: {'n_estimators': 90, 'max_depth': 15, 'min_samples_split': 6, 'min_samples_leaf': 7}. Best is trial 171 with value: 0.7807957325299825.\u001B[0m\n",
      "\u001B[32m[I 2023-03-07 18:17:58,902]\u001B[0m Trial 199 finished with value: 0.7803099536322785 and parameters: {'n_estimators': 90, 'max_depth': 15, 'min_samples_split': 8, 'min_samples_leaf': 7}. Best is trial 171 with value: 0.7807957325299825.\u001B[0m\n",
      "\u001B[32m[I 2023-03-07 18:17:58,903]\u001B[0m Finished hyperparemeter search!\u001B[0m\n",
      "\u001B[32m[I 2023-03-07 18:17:58,904]\u001B[0m Refitting the estimator using 3021 samples...\u001B[0m\n",
      "\u001B[32m[I 2023-03-07 18:17:59,118]\u001B[0m Finished refitting! (elapsed time: 0.214 sec.)\u001B[0m\n"
     ]
    },
    {
     "name": "stdout",
     "output_type": "stream",
     "text": [
      "f1 = 0.7807957325299825\n",
      "AUC-ROC = 0.914100663480185\n",
      "Оптимальные гиперпараметры: {'n_estimators': 90, 'max_depth': 16, 'min_samples_split': 8, 'min_samples_leaf': 7}\n"
     ]
    }
   ],
   "source": [
    "random_forest_model = RandomForestClassifier(random_state=RANDOM_STATE)\n",
    "optuna_search = optuna.integration.OptunaSearchCV(random_forest_model, random_forest_params, scoring='f1', n_trials=200, timeout=OPTUNA_TIMEOUT, n_jobs=-1, verbose=1)\n",
    "optuna_search.fit(train_features_downsampled, train_target_downsampled)\n",
    "random_forest_model_downsample = optuna_search.best_estimator_\n",
    "print(f'f1 = {optuna_search.best_score_}')\n",
    "print(f'AUC-ROC = {roc_auc(random_forest_model_downsample, features_train, target_train)}')\n",
    "print(f'Оптимальные гиперпараметры: {optuna_search.best_params_}')"
   ]
  },
  {
   "cell_type": "markdown",
   "metadata": {},
   "source": [
    "#### Логистическая регрессия"
   ]
  },
  {
   "cell_type": "code",
   "execution_count": 35,
   "metadata": {},
   "outputs": [
    {
     "name": "stdout",
     "output_type": "stream",
     "text": [
      "Fitting 5 folds for each of 171 candidates, totalling 855 fits\n",
      "f1 = 0.7037559136230817\n",
      "AUC-ROC = 0.7672975631480943\n",
      "Оптимальные гиперпараметры: {'max_iter': 30, 'solver': 'liblinear'}\n"
     ]
    }
   ],
   "source": [
    "logistic_regression_model = LogisticRegression(random_state=RANDOM_STATE)\n",
    "grid = GridSearchCV(logistic_regression_model, logistic_regression_params, scoring='f1', n_jobs=-1, verbose=1)\n",
    "grid.fit(train_features_downsampled, train_target_downsampled)\n",
    "logistic_regression_model_downsample = grid.best_estimator_\n",
    "print(f'f1 = {grid.best_score_}')\n",
    "print(f'AUC-ROC = {roc_auc(logistic_regression_model_downsample, features_train, target_train)}')\n",
    "print(f'Оптимальные гиперпараметры: {grid.best_params_}')"
   ]
  },
  {
   "cell_type": "markdown",
   "metadata": {},
   "source": [
    "#### Вывод\n",
    "С помощью уменьшения выборки удалось достигнуть значения метрики f1 равного 0.78 при помощи модели случайного леса. Для остальных моделей метрика также увеличилась по сравнению с несбалансированными выборками и взвешиванием классов, а для логистической регрессии уменьшение выборки дало самое большое значение метрики. Однако также, как и с увеличением выборки, есть подозрение, что на тестовой выборке результаты будут хуже.\n",
    "\n",
    "|                | Дерево решений                                                                    | Случайный лес                                                                                           | Логистическая регрессия                                  |\n",
    "|----------------|-----------------------------------------------------------------------------------|---------------------------------------------------------------------------------------------------------|----------------------------------------------------------|\n",
    "| Дисбаланс      | 0.566/0.877<br />{'max_depth': 7, 'min_samples_leaf': 2, 'min_samples_split': 8}  | 0.586/0.998<br />{'n_estimators': 190, 'max_depth': 20, 'min_samples_split': 6, 'min_samples_leaf': 1}  | 0.31/0.764<br />{'max_iter': 30, 'solver': 'liblinear'}  |\n",
    "| Взвешивание    | 0.574/0.881<br />{'max_depth': 7, 'min_samples_leaf': 6, 'min_samples_split': 2}  | 0.624/0.982<br />{'n_estimators': 190, 'max_depth': 16, 'min_samples_split': 10, 'min_samples_leaf': 4} | 0.484/0.767<br />{'max_iter': 30, 'solver': 'liblinear'} |\n",
    "| Увеличение     | 0.931/0.999<br />{'max_depth': 20, 'min_samples_leaf': 1, 'min_samples_split': 2} | 0.958/1<br />{'n_estimators': 140, 'max_depth': 18, 'min_samples_split': 2, 'min_samples_leaf': 1}      | 0.698/0.767<br />{'max_iter': 30, 'solver': 'liblinear'} |\n",
    "| imblearn SMOTE | 0.571/0.873<br />{'max_depth': 8, 'min_samples_leaf': 9, 'min_samples_split': 2}  | 0.618/0.973<br />{'n_estimators': 170, 'max_depth': 19, 'min_samples_split': 7, 'min_samples_leaf': 5}  | 0.473/0.761<br />{'max_iter': 30, 'solver': 'liblinear'} |\n",
    "| Уменьшение     | 0.769/0.866<br />{'max_depth': 7, 'min_samples_leaf': 10, 'min_samples_split': 2} | 0.779/0.920<br />{'n_estimators': 100, 'max_depth': 13, 'min_samples_split': 6, 'min_samples_leaf': 6}  | 0.704/0.767<br />{'max_iter': 30, 'solver': 'liblinear'} |"
   ]
  },
  {
   "cell_type": "markdown",
   "metadata": {},
   "source": [
    "### Увеличение выборки для случайного леса без кросс-валидации\n",
    "Так как увеличение выборки может некорректно работать с кросс-валидацие, обучим одну из моделей при помощи обучающей и валидационной выборок и перебором гиперпараметров в цикле. До этого лучше всего себя показывал случайны лес, возьмем его."
   ]
  },
  {
   "cell_type": "code",
   "execution_count": 36,
   "metadata": {},
   "outputs": [
    {
     "name": "stdout",
     "output_type": "stream",
     "text": [
      "(5625, 11)\n",
      "(1875, 11)\n",
      "(5625,)\n",
      "(1875,)\n",
      "(9063, 11)\n",
      "(1875, 11)\n",
      "(9063,)\n",
      "(1875,)\n",
      "0.5057927838464085\n",
      "0.20373333333333332\n"
     ]
    }
   ],
   "source": [
    "features_train_upsample, features_valid_upsample, target_train_upsample, target_valid_upsample = train_test_split(\n",
    "    features_train, target_train, stratify=target_train, test_size=0.25, random_state=RANDOM_STATE\n",
    ")\n",
    "print(features_train_upsample.shape)\n",
    "print(features_valid_upsample.shape)\n",
    "print(target_train_upsample.shape)\n",
    "print(target_valid_upsample.shape)\n",
    "\n",
    "features_train_upsample, target_train_upsample = upsample(features_train_upsample, target_train_upsample, 4)\n",
    "\n",
    "print(features_train_upsample.shape)\n",
    "print(features_valid_upsample.shape)\n",
    "print(target_train_upsample.shape)\n",
    "print(target_valid_upsample.shape)\n",
    "\n",
    "print(target_train_upsample.mean())\n",
    "print(target_valid_upsample.mean())"
   ]
  },
  {
   "cell_type": "code",
   "execution_count": 37,
   "metadata": {},
   "outputs": [
    {
     "name": "stdout",
     "output_type": "stream",
     "text": [
      "f1 = 0.6151866151866152\n",
      "AUC-ROC = 0.846508838804473\n",
      "Оптимальные гиперпараметры: {'n_estimators': 130, 'max_depth': 17, 'min_samples_split': 10, 'min_samples_leaf': 2}\n"
     ]
    }
   ],
   "source": [
    "from joblib import Parallel, delayed\n",
    "\n",
    "def trial(n_estimators, max_depth, min_samples_split, min_samples_leaf, random_state, X, y, X_valid, y_valid):\n",
    "    params = {\n",
    "        'n_estimators': n_estimators,\n",
    "        'max_depth': max_depth,\n",
    "        'min_samples_split': min_samples_split,\n",
    "        'min_samples_leaf': min_samples_leaf,\n",
    "    }\n",
    "    print(params)\n",
    "    random_forest_model = RandomForestClassifier(\n",
    "        **params,\n",
    "        random_state=random_state\n",
    "    )\n",
    "    random_forest_model.fit(X, y)\n",
    "    f1 = f1_score(y_valid, random_forest_model.predict(X_valid))\n",
    "    return f1, params, random_forest_model\n",
    "\n",
    "\n",
    "scores = Parallel(n_jobs=-1)(delayed(trial)(\n",
    "    n_estimators, max_depth, min_samples_split, min_samples_leaf, RANDOM_STATE, features_train_upsample,\n",
    "    target_train_upsample, features_valid_upsample, target_valid_upsample\n",
    ")\n",
    "    for n_estimators in range(10, 201, 20)\n",
    "    for max_depth in range(1, 21, 2)\n",
    "    for min_samples_split in range(2, 11, 2)\n",
    "    for min_samples_leaf in range(2, 11, 2)\n",
    ")\n",
    "\n",
    "f1_list = [score[0] for score in scores]\n",
    "params_list = [score[1] for score in scores]\n",
    "model_list = [score[2] for score in scores]\n",
    "best_f1 = max(f1_list)\n",
    "max_index = f1_list.index(best_f1)\n",
    "best_params = params_list[max_index]\n",
    "random_forest_model_no_cv = model_list[max_index]\n",
    "\n",
    "print(f'f1 = {best_f1}')\n",
    "print(f'AUC-ROC = {roc_auc(random_forest_model_no_cv, features_valid_upsample, target_valid_upsample)}')\n",
    "print(f'Оптимальные гиперпараметры: {best_params}')"
   ]
  },
  {
   "cell_type": "markdown",
   "metadata": {},
   "source": [
    "Модель показала результат на уровне других подходов, не вызвавших подозрение, будет интересно посмотреть на результаты тестовой выборки."
   ]
  },
  {
   "cell_type": "markdown",
   "metadata": {},
   "source": [
    "### Выводы по борьбе с дисбалансом\n",
    "Техники борьбы с дисбалансом привели к увеличению метрик f1 и AUC-ROC для всех моделей. Однако для Дерева решений и Случайного леса количество правильных предсказаний единицы практически стало равным 1, что очень подозрительно. Возможно модели переобучились за счет дублирования данных. В связи с этим на данный момент невозможно выбрать лучшую модель. Использование продвинутого увеличения выборки не привело к максимальному результату, возможно инструмент не совсем правильно используется. Увеличение выборки без кросс-валидации и проверка метрики на валидационной выборке отработала на уровне других подходов. Проверим как все обученные модели будут себя вести на тестовой выборке."
   ]
  },
  {
   "cell_type": "markdown",
   "metadata": {},
   "source": [
    "## Тестирование модели"
   ]
  },
  {
   "cell_type": "markdown",
   "metadata": {},
   "source": [
    "### Дерево решений"
   ]
  },
  {
   "cell_type": "code",
   "execution_count": 38,
   "metadata": {},
   "outputs": [
    {
     "name": "stdout",
     "output_type": "stream",
     "text": [
      "Дисбаланс. f1 = 0.5762304921968787\n",
      "Взвешивание. f1 = 0.5864884929472903\n",
      "Увеличение. f1 = 0.4995004995004995\n",
      "imblearn SMOTE. f1 = 0.5883319638455217\n",
      "Уменьшение. f1 = 0.579622641509434\n"
     ]
    }
   ],
   "source": [
    "print(f'Дисбаланс. f1 = {f1_score(decision_tree_model_disbalance.predict(features_test), target_test)}')\n",
    "print(f'Взвешивание. f1 = {f1_score(decision_tree_model_balance.predict(features_test), target_test)}')\n",
    "print(f'Увеличение. f1 = {f1_score(decision_tree_model_upsample.predict(features_test), target_test)}')\n",
    "print(f'imblearn SMOTE. f1 = {f1_score(decision_tree_model_imba.predict(features_test), target_test)}')\n",
    "print(f'Уменьшение. f1 = {f1_score(decision_tree_model_downsample.predict(features_test), target_test)}')"
   ]
  },
  {
   "cell_type": "markdown",
   "metadata": {},
   "source": [
    "Все модели превзошли базовую. На тестовой выборке лучше всего себя показала модель, обученная с применением техники продвинутого увеличения выборки, значение метрики f1 достигло 0.596. Также оправдались опасение по поводу увеличения и уменьшения выборки, на тестовой выборке модели показала себя плохо. Дисбаланс, взвешивание и продвинутое увеличение показали значения метрик близкие к полученным на обучающей выборке."
   ]
  },
  {
   "cell_type": "markdown",
   "metadata": {},
   "source": [
    "### Случайный лес"
   ]
  },
  {
   "cell_type": "code",
   "execution_count": 39,
   "metadata": {},
   "outputs": [
    {
     "name": "stdout",
     "output_type": "stream",
     "text": [
      "Дисбаланс. f1 = 0.5808019441069259\n",
      "Взвешивание. f1 = 0.6307385229540918\n",
      "Увеличение. f1 = 0.594017094017094\n",
      "imblearn SMOTE. f1 = 0.6109022556390977\n",
      "Уменьшение. f1 = 0.605143721633888\n",
      "Увеличение без CV. f1 = 0.626552053486151\n"
     ]
    }
   ],
   "source": [
    "print(f'Дисбаланс. f1 = {f1_score(random_forest_model_disbalance.predict(features_test), target_test)}')\n",
    "print(f'Взвешивание. f1 = {f1_score(random_forest_model_balance.predict(features_test), target_test)}')\n",
    "print(f'Увеличение. f1 = {f1_score(random_forest_model_upsample.predict(features_test), target_test)}')\n",
    "print(f'imblearn SMOTE. f1 = {f1_score(random_forest_model_imba.predict(features_test), target_test)}')\n",
    "print(f'Уменьшение. f1 = {f1_score(random_forest_model_downsample.predict(features_test), target_test)}')\n",
    "print(f'Увеличение без CV. f1 = {f1_score(random_forest_model_no_cv.predict(features_test), target_test)}')"
   ]
  },
  {
   "cell_type": "markdown",
   "metadata": {},
   "source": [
    "Все модели превзошли базовую. Для случайного леса взвешивание классов и увеличение выборки без кросс-валидации дали рпактически одинаковые значения, равные примерно 0.62. Увеличение и уменьшение выборки опять не оправдало себя, превзойдя лишь исходные выборки. Дисбаланс, взвешивание, продвинутое увеличение и увеличение без кросс-валидации  показали значения метрик близкие к полученным на обучающей выборке."
   ]
  },
  {
   "cell_type": "markdown",
   "metadata": {},
   "source": [
    "### Логистическая регрессия"
   ]
  },
  {
   "cell_type": "code",
   "execution_count": 40,
   "metadata": {},
   "outputs": [
    {
     "name": "stdout",
     "output_type": "stream",
     "text": [
      "Дисбаланс. f1 = 0.3202328966521106\n",
      "Взвешивание. f1 = 0.5013736263736264\n",
      "Увеличение. f1 = 0.5027173913043478\n",
      "imblearn SMOTE. f1 = 0.494018296973962\n",
      "Уменьшение. f1 = 0.5026954177897573\n"
     ]
    }
   ],
   "source": [
    "print(f'Дисбаланс. f1 = {f1_score(logistic_regression_model_disbalance.predict(features_test), target_test)}')\n",
    "print(f'Взвешивание. f1 = {f1_score(logistic_regression_model_balance.predict(features_test), target_test)}')\n",
    "print(f'Увеличение. f1 = {f1_score(logistic_regression_model_upsample.predict(features_test), target_test)}')\n",
    "print(f'imblearn SMOTE. f1 = {f1_score(logistic_regression_model_imba.predict(features_test), target_test)}')\n",
    "print(f'Уменьшение. f1 = {f1_score(logistic_regression_model_downsample.predict(features_test), target_test)}')"
   ]
  },
  {
   "cell_type": "markdown",
   "metadata": {},
   "source": [
    "Для логистической регрессии все техники борьбы с дисбалансом показали себя примерно одинаково, значение метрики f1 во всех случаях примерно равно 0.5. Без борьбы с дисбалансом логистическая регрессия показала себя хуже базовой. Дисбаланс, взвешивание и продвинутое увеличение показали значения метрик близкие к полученным на обучающей выборке, а увеличение и уменьшение выборки значительно уменьшили показания."
   ]
  },
  {
   "cell_type": "markdown",
   "metadata": {},
   "source": [
    "Для наилучшей модели также посчитаем recall."
   ]
  },
  {
   "cell_type": "code",
   "execution_count": 41,
   "metadata": {},
   "outputs": [
    {
     "name": "stdout",
     "output_type": "stream",
     "text": [
      "Recall = 0.640973630831643\n"
     ]
    }
   ],
   "source": [
    "recall = recall_score(random_forest_model_balance.predict(features_test), target_test)\n",
    "print(f'Recall = {recall}')"
   ]
  },
  {
   "cell_type": "markdown",
   "metadata": {},
   "source": [
    "### Вывод\n",
    "Слишком оптимистичные значения метрики f1 при увеличении и уменьшении выборок не зря показались подозрительными. На тестовой выборке модели, обученные с применением данных техники показали плохие результаты. В итоге наилучшее значение 0.62 получила модель случайного леса, обученная с помощью встроенного в sklearn взвешивания классов. Recall этой модели также составил 0.62. \n",
    "\n",
    "Применение самодельных техник увеличения и уменьшения выборок не оправдало себя. Также удалост убедиться, что техника увеличения выборки не работает с кросс-валидацией, модель переобучается и показывает плохие результаты на тестовой выборке. В то же время при использовании валидационной выборки мы не даем переобучиться модели и на тестовой выборке она выдает схожие результаты."
   ]
  },
  {
   "cell_type": "markdown",
   "metadata": {},
   "source": [
    "## Выводы"
   ]
  },
  {
   "cell_type": "markdown",
   "metadata": {},
   "source": [
    "Были исследованы данные по оттоку клиентов банка, произведена подготовка данных для обучения моделей и обучены модели с целью максимизации метрики f1.\n",
    "\n",
    "В данных обнаружен сильный дисбаланс, ушедших клиентов было в 4 раза меньше чем оставшихся. В связи с этим были применены методы борьбы с дисбалансом - взвешивание классов, увеличение и уменьшение выборки, продвинутое увеличение выборки. \n",
    "\n",
    "При увеличении и уменьшении выборок на этих выборках модели стали показывать слишком хороший результат, что вызвало подозрение. При их проверке на тестовой выборке подозрения оправдались, показатели моделей упали. В то же время взвешивание и продвинутое увеличение показали значения метрик близкие к полученным на обучающей выборке.\n",
    "\n",
    "\n",
    "В итоге на тетовой выборке удалось достичь значения метрики f1 равного 0.62 с помощью подбора гиперепараметров для модели случайного леса, дисбаланс был устранен с помощью взвешивания классов. Оптимальными оказались следующие гиперпараметры - {'n_estimators': 190, 'max_depth': 16, 'min_samples_split': 10, 'min_samples_leaf': 4}. Recall модели составил 0.62, соответственно при внедрении модель позволит выявить 62% потенциально уходящих клиентов.\n",
    "\n",
    "\n",
    "Вместе с измерением f1 измерялась метрика AUC-ROC, было замечено, что с ростом f1 росло и значение AUC-ROC."
   ]
  },
  {
   "cell_type": "markdown",
   "metadata": {},
   "source": [
    "## Чек-лист готовности проекта"
   ]
  },
  {
   "cell_type": "markdown",
   "metadata": {},
   "source": [
    "Поставьте 'x' в выполненных пунктах. Далее нажмите Shift+Enter."
   ]
  },
  {
   "cell_type": "markdown",
   "metadata": {},
   "source": [
    "- [x]  Jupyter Notebook открыт\n",
    "- [x]  Весь код выполняется без ошибок\n",
    "- [x]  Ячейки с кодом расположены в порядке исполнения\n",
    "- [x]  Выполнен шаг 1: данные подготовлены\n",
    "- [x]  Выполнен шаг 2: задача исследована\n",
    "    - [x]  Исследован баланс классов\n",
    "    - [x]  Изучены модели без учёта дисбаланса\n",
    "    - [x]  Написаны выводы по результатам исследования\n",
    "- [x]  Выполнен шаг 3: учтён дисбаланс\n",
    "    - [x]  Применено несколько способов борьбы с дисбалансом\n",
    "    - [x]  Написаны выводы по результатам исследования\n",
    "- [x]  Выполнен шаг 4: проведено тестирование\n",
    "- [x]  Удалось достичь *F1*-меры не менее 0.59\n",
    "- [x]  Исследована метрика *AUC-ROC*"
   ]
  },
  {
   "cell_type": "code",
   "execution_count": 41,
   "metadata": {},
   "outputs": [],
   "source": []
  }
 ],
 "metadata": {
  "ExecuteTimeLog": [
   {
    "duration": 390,
    "start_time": "2022-12-12T16:19:02.880Z"
   },
   {
    "duration": 166,
    "start_time": "2022-12-12T16:19:33.627Z"
   },
   {
    "duration": 21,
    "start_time": "2022-12-12T16:19:34.859Z"
   },
   {
    "duration": 21,
    "start_time": "2022-12-12T16:21:08.670Z"
   },
   {
    "duration": 61,
    "start_time": "2022-12-12T16:22:18.205Z"
   },
   {
    "duration": 6,
    "start_time": "2022-12-12T16:22:24.361Z"
   },
   {
    "duration": 5,
    "start_time": "2022-12-12T16:25:27.395Z"
   },
   {
    "duration": 16,
    "start_time": "2022-12-12T16:25:48.053Z"
   },
   {
    "duration": 76,
    "start_time": "2022-12-12T16:25:56.705Z"
   },
   {
    "duration": 4,
    "start_time": "2022-12-12T16:26:00.888Z"
   },
   {
    "duration": 3,
    "start_time": "2022-12-12T16:26:06.839Z"
   },
   {
    "duration": 45,
    "start_time": "2022-12-12T16:26:07.022Z"
   },
   {
    "duration": 14,
    "start_time": "2022-12-12T16:26:07.217Z"
   },
   {
    "duration": 21,
    "start_time": "2022-12-12T16:26:08.306Z"
   },
   {
    "duration": 6,
    "start_time": "2022-12-12T16:26:08.752Z"
   },
   {
    "duration": 22,
    "start_time": "2022-12-12T16:28:10.615Z"
   },
   {
    "duration": 13,
    "start_time": "2022-12-12T16:28:21.454Z"
   },
   {
    "duration": 297,
    "start_time": "2022-12-12T16:30:15.518Z"
   },
   {
    "duration": 288,
    "start_time": "2022-12-12T16:31:21.647Z"
   },
   {
    "duration": 14,
    "start_time": "2022-12-12T16:31:55.077Z"
   },
   {
    "duration": 3,
    "start_time": "2022-12-12T16:32:05.266Z"
   },
   {
    "duration": 45,
    "start_time": "2022-12-12T16:32:05.542Z"
   },
   {
    "duration": 14,
    "start_time": "2022-12-12T16:32:06.024Z"
   },
   {
    "duration": 20,
    "start_time": "2022-12-12T16:32:06.450Z"
   },
   {
    "duration": 6,
    "start_time": "2022-12-12T16:32:07.004Z"
   },
   {
    "duration": 16,
    "start_time": "2022-12-12T16:32:08.353Z"
   },
   {
    "duration": 4,
    "start_time": "2022-12-12T16:32:29.972Z"
   },
   {
    "duration": 75,
    "start_time": "2022-12-12T16:32:29.978Z"
   },
   {
    "duration": 15,
    "start_time": "2022-12-12T16:32:30.055Z"
   },
   {
    "duration": 40,
    "start_time": "2022-12-12T16:32:30.073Z"
   },
   {
    "duration": 8,
    "start_time": "2022-12-12T16:32:30.115Z"
   },
   {
    "duration": 6,
    "start_time": "2022-12-12T16:32:32.564Z"
   },
   {
    "duration": 15,
    "start_time": "2022-12-12T16:32:40.466Z"
   },
   {
    "duration": 4,
    "start_time": "2022-12-12T16:33:05.096Z"
   },
   {
    "duration": 13,
    "start_time": "2022-12-12T16:33:45.526Z"
   },
   {
    "duration": 7,
    "start_time": "2022-12-12T16:34:55.866Z"
   },
   {
    "duration": 3,
    "start_time": "2022-12-12T16:41:22.558Z"
   },
   {
    "duration": 3,
    "start_time": "2022-12-12T16:41:24.875Z"
   },
   {
    "duration": 4,
    "start_time": "2022-12-12T16:43:01.255Z"
   },
   {
    "duration": 12,
    "start_time": "2022-12-12T16:44:18.583Z"
   },
   {
    "duration": 3,
    "start_time": "2022-12-12T16:44:19.329Z"
   },
   {
    "duration": 8,
    "start_time": "2022-12-12T16:44:19.927Z"
   },
   {
    "duration": 48,
    "start_time": "2022-12-12T16:45:25.736Z"
   },
   {
    "duration": 9,
    "start_time": "2022-12-12T16:45:30.068Z"
   },
   {
    "duration": 7,
    "start_time": "2022-12-12T16:45:51.530Z"
   },
   {
    "duration": 3,
    "start_time": "2022-12-12T16:47:03.276Z"
   },
   {
    "duration": 9,
    "start_time": "2022-12-12T16:47:09.905Z"
   },
   {
    "duration": 2,
    "start_time": "2022-12-12T16:48:10.576Z"
   },
   {
    "duration": 19,
    "start_time": "2022-12-12T16:49:29.640Z"
   },
   {
    "duration": 15,
    "start_time": "2022-12-12T16:51:19.873Z"
   },
   {
    "duration": 1032,
    "start_time": "2022-12-12T16:51:32.775Z"
   },
   {
    "duration": 3,
    "start_time": "2022-12-12T16:51:33.809Z"
   },
   {
    "duration": 71,
    "start_time": "2022-12-12T16:51:33.813Z"
   },
   {
    "duration": 20,
    "start_time": "2022-12-12T16:51:33.885Z"
   },
   {
    "duration": 20,
    "start_time": "2022-12-12T16:51:33.907Z"
   },
   {
    "duration": 9,
    "start_time": "2022-12-12T16:51:33.929Z"
   },
   {
    "duration": 42,
    "start_time": "2022-12-12T16:51:33.939Z"
   },
   {
    "duration": 27,
    "start_time": "2022-12-12T16:51:33.983Z"
   },
   {
    "duration": 18,
    "start_time": "2022-12-12T16:51:34.012Z"
   },
   {
    "duration": 153,
    "start_time": "2022-12-12T16:51:34.031Z"
   },
   {
    "duration": 0,
    "start_time": "2022-12-12T16:51:34.186Z"
   },
   {
    "duration": 0,
    "start_time": "2022-12-12T16:51:34.188Z"
   },
   {
    "duration": 2,
    "start_time": "2022-12-12T16:53:44.371Z"
   },
   {
    "duration": 9,
    "start_time": "2022-12-12T16:53:45.175Z"
   },
   {
    "duration": 7,
    "start_time": "2022-12-12T16:53:50.717Z"
   },
   {
    "duration": 822,
    "start_time": "2022-12-12T16:53:51.687Z"
   },
   {
    "duration": 805,
    "start_time": "2022-12-12T16:55:35.823Z"
   },
   {
    "duration": 3,
    "start_time": "2022-12-12T16:55:41.139Z"
   },
   {
    "duration": 830,
    "start_time": "2022-12-12T16:55:45.132Z"
   },
   {
    "duration": 828,
    "start_time": "2022-12-12T16:56:48.067Z"
   },
   {
    "duration": 7548,
    "start_time": "2022-12-12T16:59:56.014Z"
   },
   {
    "duration": 278781,
    "start_time": "2022-12-12T17:00:45.695Z"
   },
   {
    "duration": 82,
    "start_time": "2022-12-12T17:08:02.749Z"
   },
   {
    "duration": 12,
    "start_time": "2022-12-12T17:08:34.088Z"
   },
   {
    "duration": 5,
    "start_time": "2022-12-12T17:08:42.842Z"
   },
   {
    "duration": 136195,
    "start_time": "2022-12-12T17:09:01.871Z"
   },
   {
    "duration": 16817,
    "start_time": "2022-12-12T17:11:20.802Z"
   },
   {
    "duration": 131167,
    "start_time": "2022-12-12T17:11:40.001Z"
   },
   {
    "duration": 16159,
    "start_time": "2022-12-12T17:13:53.331Z"
   },
   {
    "duration": 345757,
    "start_time": "2022-12-12T17:14:10.954Z"
   },
   {
    "duration": 20543,
    "start_time": "2022-12-12T17:21:00.252Z"
   },
   {
    "duration": 345512,
    "start_time": "2022-12-12T17:21:23.372Z"
   },
   {
    "duration": 1268,
    "start_time": "2022-12-16T18:06:18.615Z"
   },
   {
    "duration": 3,
    "start_time": "2022-12-16T18:06:19.885Z"
   },
   {
    "duration": 106,
    "start_time": "2022-12-16T18:06:19.889Z"
   },
   {
    "duration": 17,
    "start_time": "2022-12-16T18:06:19.997Z"
   },
   {
    "duration": 25,
    "start_time": "2022-12-16T18:06:20.017Z"
   },
   {
    "duration": 7,
    "start_time": "2022-12-16T18:06:20.044Z"
   },
   {
    "duration": 24,
    "start_time": "2022-12-16T18:06:20.053Z"
   },
   {
    "duration": 11,
    "start_time": "2022-12-16T18:06:20.079Z"
   },
   {
    "duration": 25,
    "start_time": "2022-12-16T18:06:20.091Z"
   },
   {
    "duration": 14,
    "start_time": "2022-12-16T18:06:20.118Z"
   },
   {
    "duration": 7,
    "start_time": "2022-12-16T18:06:20.136Z"
   },
   {
    "duration": 914,
    "start_time": "2022-12-16T18:06:20.144Z"
   },
   {
    "duration": 42778,
    "start_time": "2022-12-16T18:07:04.313Z"
   },
   {
    "duration": 823,
    "start_time": "2022-12-16T18:09:33.443Z"
   },
   {
    "duration": 4,
    "start_time": "2022-12-16T18:13:06.963Z"
   },
   {
    "duration": 4,
    "start_time": "2022-12-16T18:13:07.443Z"
   },
   {
    "duration": 124,
    "start_time": "2022-12-16T18:13:08.024Z"
   },
   {
    "duration": 20,
    "start_time": "2022-12-16T18:13:50.732Z"
   },
   {
    "duration": 5,
    "start_time": "2022-12-16T18:13:57.359Z"
   },
   {
    "duration": 4,
    "start_time": "2022-12-16T18:14:30.022Z"
   },
   {
    "duration": 5,
    "start_time": "2022-12-16T18:14:36.135Z"
   },
   {
    "duration": 12,
    "start_time": "2022-12-16T18:14:36.515Z"
   },
   {
    "duration": 12,
    "start_time": "2022-12-16T18:14:36.892Z"
   },
   {
    "duration": 3,
    "start_time": "2022-12-16T18:15:53.688Z"
   },
   {
    "duration": 4,
    "start_time": "2022-12-16T18:15:54.017Z"
   },
   {
    "duration": 11,
    "start_time": "2022-12-16T18:15:54.454Z"
   },
   {
    "duration": 1152,
    "start_time": "2022-12-16T18:15:55.016Z"
   },
   {
    "duration": 16,
    "start_time": "2022-12-16T18:15:56.170Z"
   },
   {
    "duration": 9,
    "start_time": "2022-12-16T18:16:31.661Z"
   },
   {
    "duration": 433,
    "start_time": "2022-12-16T18:16:32.613Z"
   },
   {
    "duration": 4,
    "start_time": "2022-12-16T18:20:20.892Z"
   },
   {
    "duration": 809,
    "start_time": "2022-12-16T18:20:45.324Z"
   },
   {
    "duration": 885,
    "start_time": "2022-12-16T18:20:46.134Z"
   },
   {
    "duration": 45,
    "start_time": "2022-12-16T18:20:47.115Z"
   },
   {
    "duration": 604,
    "start_time": "2022-12-16T18:21:37.316Z"
   },
   {
    "duration": 42,
    "start_time": "2022-12-16T18:21:38.966Z"
   },
   {
    "duration": 1192,
    "start_time": "2022-12-16T18:22:51.872Z"
   },
   {
    "duration": 878,
    "start_time": "2022-12-16T18:22:53.846Z"
   },
   {
    "duration": 53,
    "start_time": "2022-12-16T18:22:56.479Z"
   },
   {
    "duration": 14,
    "start_time": "2022-12-16T18:23:09.931Z"
   },
   {
    "duration": 430,
    "start_time": "2022-12-16T18:23:10.351Z"
   },
   {
    "duration": 3237,
    "start_time": "2022-12-16T18:23:12.484Z"
   },
   {
    "duration": 22,
    "start_time": "2022-12-16T18:23:18.348Z"
   },
   {
    "duration": 4,
    "start_time": "2022-12-16T18:27:51.894Z"
   },
   {
    "duration": 3,
    "start_time": "2022-12-16T18:28:25.952Z"
   },
   {
    "duration": 46,
    "start_time": "2022-12-16T18:29:17.970Z"
   },
   {
    "duration": 44,
    "start_time": "2022-12-16T18:30:06.894Z"
   },
   {
    "duration": 413,
    "start_time": "2022-12-16T18:30:20.841Z"
   },
   {
    "duration": 7,
    "start_time": "2022-12-16T18:30:21.351Z"
   },
   {
    "duration": 10,
    "start_time": "2022-12-16T18:30:32.410Z"
   },
   {
    "duration": 10,
    "start_time": "2022-12-16T18:30:43.728Z"
   },
   {
    "duration": 8,
    "start_time": "2022-12-16T18:30:54.680Z"
   },
   {
    "duration": 7,
    "start_time": "2022-12-16T18:30:57.464Z"
   },
   {
    "duration": 11,
    "start_time": "2022-12-16T18:31:04.537Z"
   },
   {
    "duration": 7,
    "start_time": "2022-12-16T18:31:08.292Z"
   },
   {
    "duration": 8,
    "start_time": "2022-12-16T18:31:08.663Z"
   },
   {
    "duration": 8,
    "start_time": "2022-12-16T18:31:08.927Z"
   },
   {
    "duration": 7,
    "start_time": "2022-12-16T18:31:09.099Z"
   },
   {
    "duration": 7,
    "start_time": "2022-12-16T18:31:09.255Z"
   },
   {
    "duration": 7,
    "start_time": "2022-12-16T18:31:09.400Z"
   },
   {
    "duration": 7,
    "start_time": "2022-12-16T18:31:09.548Z"
   },
   {
    "duration": 8,
    "start_time": "2022-12-16T18:31:09.695Z"
   },
   {
    "duration": 8,
    "start_time": "2022-12-16T18:31:09.841Z"
   },
   {
    "duration": 7,
    "start_time": "2022-12-16T18:31:09.962Z"
   },
   {
    "duration": 7,
    "start_time": "2022-12-16T18:31:10.107Z"
   },
   {
    "duration": 8,
    "start_time": "2022-12-16T18:31:10.246Z"
   },
   {
    "duration": 1041,
    "start_time": "2022-12-16T18:32:02.336Z"
   },
   {
    "duration": 2,
    "start_time": "2022-12-16T18:32:03.380Z"
   },
   {
    "duration": 54,
    "start_time": "2022-12-16T18:32:03.383Z"
   },
   {
    "duration": 17,
    "start_time": "2022-12-16T18:32:03.439Z"
   },
   {
    "duration": 20,
    "start_time": "2022-12-16T18:32:03.458Z"
   },
   {
    "duration": 5,
    "start_time": "2022-12-16T18:32:03.479Z"
   },
   {
    "duration": 30,
    "start_time": "2022-12-16T18:32:03.486Z"
   },
   {
    "duration": 10,
    "start_time": "2022-12-16T18:32:03.518Z"
   },
   {
    "duration": 6,
    "start_time": "2022-12-16T18:32:03.529Z"
   },
   {
    "duration": 12,
    "start_time": "2022-12-16T18:32:03.537Z"
   },
   {
    "duration": 4,
    "start_time": "2022-12-16T18:32:03.551Z"
   },
   {
    "duration": 832,
    "start_time": "2022-12-16T18:32:03.556Z"
   },
   {
    "duration": 632,
    "start_time": "2022-12-16T18:32:04.389Z"
   },
   {
    "duration": 41,
    "start_time": "2022-12-16T18:32:05.115Z"
   },
   {
    "duration": 2,
    "start_time": "2022-12-16T18:32:05.158Z"
   },
   {
    "duration": 820,
    "start_time": "2022-12-16T18:32:05.161Z"
   },
   {
    "duration": 639,
    "start_time": "2022-12-16T18:32:05.982Z"
   },
   {
    "duration": 204,
    "start_time": "2022-12-16T18:32:06.623Z"
   },
   {
    "duration": 3,
    "start_time": "2022-12-16T18:32:06.829Z"
   },
   {
    "duration": 9,
    "start_time": "2022-12-16T18:32:06.833Z"
   },
   {
    "duration": 13,
    "start_time": "2022-12-16T18:32:06.843Z"
   },
   {
    "duration": 1148,
    "start_time": "2022-12-16T18:32:06.857Z"
   },
   {
    "duration": 1410,
    "start_time": "2022-12-16T18:32:08.006Z"
   },
   {
    "duration": 139,
    "start_time": "2022-12-16T18:32:09.419Z"
   },
   {
    "duration": 9,
    "start_time": "2022-12-16T18:32:09.559Z"
   },
   {
    "duration": 428,
    "start_time": "2022-12-16T18:32:09.570Z"
   },
   {
    "duration": 725,
    "start_time": "2022-12-16T18:32:10.000Z"
   },
   {
    "duration": 110,
    "start_time": "2022-12-16T18:32:10.816Z"
   },
   {
    "duration": 417,
    "start_time": "2022-12-16T18:32:10.927Z"
   },
   {
    "duration": 8,
    "start_time": "2022-12-16T18:32:11.346Z"
   },
   {
    "duration": 3,
    "start_time": "2022-12-16T18:33:25.446Z"
   },
   {
    "duration": 102,
    "start_time": "2022-12-16T18:35:12.132Z"
   },
   {
    "duration": 54,
    "start_time": "2022-12-16T18:35:29.752Z"
   },
   {
    "duration": 18,
    "start_time": "2022-12-16T18:36:11.151Z"
   },
   {
    "duration": 57,
    "start_time": "2022-12-16T18:38:37.683Z"
   },
   {
    "duration": 13,
    "start_time": "2022-12-16T18:38:38.183Z"
   },
   {
    "duration": 63,
    "start_time": "2022-12-16T18:38:53.951Z"
   },
   {
    "duration": 3,
    "start_time": "2022-12-16T18:38:55.022Z"
   },
   {
    "duration": 558,
    "start_time": "2022-12-16T18:39:12.023Z"
   },
   {
    "duration": 23,
    "start_time": "2022-12-16T18:39:27.835Z"
   },
   {
    "duration": 3,
    "start_time": "2022-12-16T18:41:33.134Z"
   },
   {
    "duration": 136,
    "start_time": "2022-12-16T18:41:40.295Z"
   },
   {
    "duration": 10,
    "start_time": "2022-12-16T18:42:59.348Z"
   },
   {
    "duration": 6,
    "start_time": "2022-12-16T18:43:09.834Z"
   },
   {
    "duration": 862,
    "start_time": "2022-12-16T18:45:18.793Z"
   },
   {
    "duration": 69,
    "start_time": "2022-12-16T18:45:19.657Z"
   },
   {
    "duration": 113,
    "start_time": "2022-12-16T18:45:21.103Z"
   },
   {
    "duration": 7,
    "start_time": "2022-12-16T18:45:54.263Z"
   },
   {
    "duration": 3,
    "start_time": "2022-12-16T18:47:29.263Z"
   },
   {
    "duration": 3,
    "start_time": "2022-12-16T18:52:28.024Z"
   },
   {
    "duration": 5,
    "start_time": "2022-12-16T18:52:28.445Z"
   },
   {
    "duration": 3,
    "start_time": "2022-12-16T18:52:28.927Z"
   },
   {
    "duration": 174,
    "start_time": "2022-12-16T18:52:51.789Z"
   },
   {
    "duration": 443,
    "start_time": "2022-12-16T18:53:17.937Z"
   },
   {
    "duration": 849,
    "start_time": "2022-12-16T18:53:31.151Z"
   },
   {
    "duration": 3,
    "start_time": "2022-12-16T18:53:33.033Z"
   },
   {
    "duration": 13,
    "start_time": "2022-12-16T18:53:33.038Z"
   },
   {
    "duration": 3,
    "start_time": "2022-12-16T18:53:33.841Z"
   },
   {
    "duration": 169,
    "start_time": "2022-12-16T18:53:34.967Z"
   },
   {
    "duration": 463,
    "start_time": "2022-12-16T18:53:39.466Z"
   },
   {
    "duration": 297,
    "start_time": "2022-12-16T18:53:45.402Z"
   },
   {
    "duration": 45,
    "start_time": "2022-12-16T18:54:16.243Z"
   },
   {
    "duration": 144,
    "start_time": "2022-12-16T18:54:17.531Z"
   },
   {
    "duration": 1348,
    "start_time": "2022-12-16T18:55:36.902Z"
   },
   {
    "duration": 3,
    "start_time": "2022-12-16T18:55:38.252Z"
   },
   {
    "duration": 53,
    "start_time": "2022-12-16T18:55:38.256Z"
   },
   {
    "duration": 15,
    "start_time": "2022-12-16T18:55:38.310Z"
   },
   {
    "duration": 20,
    "start_time": "2022-12-16T18:55:38.328Z"
   },
   {
    "duration": 5,
    "start_time": "2022-12-16T18:55:38.350Z"
   },
   {
    "duration": 16,
    "start_time": "2022-12-16T18:55:38.357Z"
   },
   {
    "duration": 42,
    "start_time": "2022-12-16T18:55:38.375Z"
   },
   {
    "duration": 4,
    "start_time": "2022-12-16T18:55:38.419Z"
   },
   {
    "duration": 12,
    "start_time": "2022-12-16T18:55:38.424Z"
   },
   {
    "duration": 4,
    "start_time": "2022-12-16T18:55:38.438Z"
   },
   {
    "duration": 4,
    "start_time": "2022-12-16T18:55:38.444Z"
   },
   {
    "duration": 6,
    "start_time": "2022-12-16T18:55:38.450Z"
   },
   {
    "duration": 6,
    "start_time": "2022-12-16T18:55:38.459Z"
   },
   {
    "duration": 873,
    "start_time": "2022-12-16T18:55:38.466Z"
   },
   {
    "duration": 180,
    "start_time": "2022-12-16T18:55:39.340Z"
   },
   {
    "duration": 0,
    "start_time": "2022-12-16T18:55:39.522Z"
   },
   {
    "duration": 0,
    "start_time": "2022-12-16T18:55:39.523Z"
   },
   {
    "duration": 0,
    "start_time": "2022-12-16T18:55:39.524Z"
   },
   {
    "duration": 0,
    "start_time": "2022-12-16T18:55:39.525Z"
   },
   {
    "duration": 0,
    "start_time": "2022-12-16T18:55:39.526Z"
   },
   {
    "duration": 0,
    "start_time": "2022-12-16T18:55:39.526Z"
   },
   {
    "duration": 0,
    "start_time": "2022-12-16T18:55:39.527Z"
   },
   {
    "duration": 0,
    "start_time": "2022-12-16T18:55:39.528Z"
   },
   {
    "duration": 0,
    "start_time": "2022-12-16T18:55:39.529Z"
   },
   {
    "duration": 0,
    "start_time": "2022-12-16T18:55:39.531Z"
   },
   {
    "duration": 0,
    "start_time": "2022-12-16T18:55:39.532Z"
   },
   {
    "duration": 0,
    "start_time": "2022-12-16T18:55:39.533Z"
   },
   {
    "duration": 0,
    "start_time": "2022-12-16T18:55:39.533Z"
   },
   {
    "duration": 0,
    "start_time": "2022-12-16T18:55:39.534Z"
   },
   {
    "duration": 0,
    "start_time": "2022-12-16T18:55:39.536Z"
   },
   {
    "duration": 0,
    "start_time": "2022-12-16T18:55:39.537Z"
   },
   {
    "duration": 0,
    "start_time": "2022-12-16T18:55:39.538Z"
   },
   {
    "duration": 0,
    "start_time": "2022-12-16T18:55:39.539Z"
   },
   {
    "duration": 0,
    "start_time": "2022-12-16T18:55:39.540Z"
   },
   {
    "duration": 0,
    "start_time": "2022-12-16T18:55:39.541Z"
   },
   {
    "duration": 0,
    "start_time": "2022-12-16T18:55:39.542Z"
   },
   {
    "duration": 0,
    "start_time": "2022-12-16T18:55:39.543Z"
   },
   {
    "duration": 0,
    "start_time": "2022-12-16T18:55:39.544Z"
   },
   {
    "duration": 0,
    "start_time": "2022-12-16T18:55:39.544Z"
   },
   {
    "duration": 2,
    "start_time": "2022-12-16T18:56:00.517Z"
   },
   {
    "duration": 5,
    "start_time": "2022-12-16T18:56:02.068Z"
   },
   {
    "duration": 3,
    "start_time": "2022-12-16T18:56:03.873Z"
   },
   {
    "duration": 811,
    "start_time": "2022-12-16T18:56:04.487Z"
   },
   {
    "duration": 193,
    "start_time": "2022-12-16T18:56:12.739Z"
   },
   {
    "duration": 597,
    "start_time": "2022-12-16T18:56:16.020Z"
   },
   {
    "duration": 302,
    "start_time": "2022-12-16T18:56:16.715Z"
   },
   {
    "duration": 44,
    "start_time": "2022-12-16T18:56:21.199Z"
   },
   {
    "duration": 121,
    "start_time": "2022-12-16T18:56:22.497Z"
   },
   {
    "duration": 1292,
    "start_time": "2022-12-16T18:57:51.460Z"
   },
   {
    "duration": 3,
    "start_time": "2022-12-16T18:57:52.754Z"
   },
   {
    "duration": 57,
    "start_time": "2022-12-16T18:57:52.758Z"
   },
   {
    "duration": 16,
    "start_time": "2022-12-16T18:57:52.817Z"
   },
   {
    "duration": 21,
    "start_time": "2022-12-16T18:57:52.835Z"
   },
   {
    "duration": 7,
    "start_time": "2022-12-16T18:57:52.858Z"
   },
   {
    "duration": 18,
    "start_time": "2022-12-16T18:57:52.868Z"
   },
   {
    "duration": 35,
    "start_time": "2022-12-16T18:57:52.888Z"
   },
   {
    "duration": 4,
    "start_time": "2022-12-16T18:57:52.925Z"
   },
   {
    "duration": 12,
    "start_time": "2022-12-16T18:57:52.932Z"
   },
   {
    "duration": 5,
    "start_time": "2022-12-16T18:57:52.946Z"
   },
   {
    "duration": 8,
    "start_time": "2022-12-16T18:57:52.953Z"
   },
   {
    "duration": 5,
    "start_time": "2022-12-16T18:57:52.962Z"
   },
   {
    "duration": 6,
    "start_time": "2022-12-16T18:57:52.969Z"
   },
   {
    "duration": 831,
    "start_time": "2022-12-16T18:57:52.976Z"
   },
   {
    "duration": 189,
    "start_time": "2022-12-16T18:57:53.809Z"
   },
   {
    "duration": 622,
    "start_time": "2022-12-16T18:57:53.999Z"
   },
   {
    "duration": 402,
    "start_time": "2022-12-16T18:57:54.623Z"
   },
   {
    "duration": 43,
    "start_time": "2022-12-16T18:57:55.027Z"
   },
   {
    "duration": 128,
    "start_time": "2022-12-16T18:57:55.072Z"
   },
   {
    "duration": 3,
    "start_time": "2022-12-16T18:57:55.201Z"
   },
   {
    "duration": 839,
    "start_time": "2022-12-16T18:57:55.205Z"
   },
   {
    "duration": 185,
    "start_time": "2022-12-16T18:57:56.047Z"
   },
   {
    "duration": 688,
    "start_time": "2022-12-16T18:57:56.233Z"
   },
   {
    "duration": 339,
    "start_time": "2022-12-16T18:57:56.923Z"
   },
   {
    "duration": 52,
    "start_time": "2022-12-16T18:57:57.264Z"
   },
   {
    "duration": 184,
    "start_time": "2022-12-16T18:57:57.317Z"
   },
   {
    "duration": 4,
    "start_time": "2022-12-16T18:57:57.504Z"
   },
   {
    "duration": 4,
    "start_time": "2022-12-16T18:57:57.516Z"
   },
   {
    "duration": 17,
    "start_time": "2022-12-16T18:57:57.521Z"
   },
   {
    "duration": 1205,
    "start_time": "2022-12-16T18:57:57.539Z"
   },
   {
    "duration": 184,
    "start_time": "2022-12-16T18:57:58.746Z"
   },
   {
    "duration": 791,
    "start_time": "2022-12-16T18:57:58.931Z"
   },
   {
    "duration": 395,
    "start_time": "2022-12-16T18:57:59.728Z"
   },
   {
    "duration": 52,
    "start_time": "2022-12-16T18:58:00.124Z"
   },
   {
    "duration": 124,
    "start_time": "2022-12-16T18:58:00.177Z"
   },
   {
    "duration": 19,
    "start_time": "2022-12-16T18:58:00.302Z"
   },
   {
    "duration": 423,
    "start_time": "2022-12-16T18:58:00.323Z"
   },
   {
    "duration": 182,
    "start_time": "2022-12-16T18:58:00.747Z"
   },
   {
    "duration": 496,
    "start_time": "2022-12-16T18:58:00.930Z"
   },
   {
    "duration": 305,
    "start_time": "2022-12-16T18:58:01.519Z"
   },
   {
    "duration": 22,
    "start_time": "2022-12-16T18:58:01.826Z"
   },
   {
    "duration": 130,
    "start_time": "2022-12-16T18:58:01.850Z"
   },
   {
    "duration": 452,
    "start_time": "2022-12-16T18:58:01.982Z"
   },
   {
    "duration": 8,
    "start_time": "2022-12-16T18:58:02.436Z"
   },
   {
    "duration": 76,
    "start_time": "2022-12-16T18:58:02.445Z"
   },
   {
    "duration": 4,
    "start_time": "2022-12-16T18:58:02.523Z"
   },
   {
    "duration": 127,
    "start_time": "2022-12-16T18:58:02.528Z"
   },
   {
    "duration": 6,
    "start_time": "2022-12-16T18:58:02.657Z"
   },
   {
    "duration": 1292,
    "start_time": "2022-12-16T18:59:00.333Z"
   },
   {
    "duration": 3,
    "start_time": "2022-12-16T18:59:01.627Z"
   },
   {
    "duration": 64,
    "start_time": "2022-12-16T18:59:01.632Z"
   },
   {
    "duration": 20,
    "start_time": "2022-12-16T18:59:01.698Z"
   },
   {
    "duration": 21,
    "start_time": "2022-12-16T18:59:01.721Z"
   },
   {
    "duration": 5,
    "start_time": "2022-12-16T18:59:01.744Z"
   },
   {
    "duration": 18,
    "start_time": "2022-12-16T18:59:01.751Z"
   },
   {
    "duration": 11,
    "start_time": "2022-12-16T18:59:01.770Z"
   },
   {
    "duration": 4,
    "start_time": "2022-12-16T18:59:01.783Z"
   },
   {
    "duration": 34,
    "start_time": "2022-12-16T18:59:01.789Z"
   },
   {
    "duration": 24,
    "start_time": "2022-12-16T18:59:01.825Z"
   },
   {
    "duration": 4,
    "start_time": "2022-12-16T18:59:01.850Z"
   },
   {
    "duration": 6,
    "start_time": "2022-12-16T18:59:01.856Z"
   },
   {
    "duration": 7,
    "start_time": "2022-12-16T18:59:01.864Z"
   },
   {
    "duration": 851,
    "start_time": "2022-12-16T18:59:01.872Z"
   },
   {
    "duration": 184,
    "start_time": "2022-12-16T18:59:02.725Z"
   },
   {
    "duration": 309,
    "start_time": "2022-12-16T18:59:02.911Z"
   },
   {
    "duration": 283,
    "start_time": "2022-12-16T18:59:03.222Z"
   },
   {
    "duration": 52,
    "start_time": "2022-12-16T18:59:03.506Z"
   },
   {
    "duration": 143,
    "start_time": "2022-12-16T18:59:03.559Z"
   },
   {
    "duration": 3,
    "start_time": "2022-12-16T18:59:03.703Z"
   },
   {
    "duration": 821,
    "start_time": "2022-12-16T18:59:03.716Z"
   },
   {
    "duration": 188,
    "start_time": "2022-12-16T18:59:04.538Z"
   },
   {
    "duration": 1600,
    "start_time": "2022-12-16T18:59:04.728Z"
   },
   {
    "duration": 402,
    "start_time": "2022-12-16T18:59:06.330Z"
   },
   {
    "duration": 43,
    "start_time": "2022-12-16T18:59:06.733Z"
   },
   {
    "duration": 192,
    "start_time": "2022-12-16T18:59:06.777Z"
   },
   {
    "duration": 4,
    "start_time": "2022-12-16T18:59:06.970Z"
   },
   {
    "duration": 6,
    "start_time": "2022-12-16T18:59:06.975Z"
   },
   {
    "duration": 16,
    "start_time": "2022-12-16T18:59:06.983Z"
   },
   {
    "duration": 1169,
    "start_time": "2022-12-16T18:59:07.001Z"
   },
   {
    "duration": 174,
    "start_time": "2022-12-16T18:59:08.175Z"
   },
   {
    "duration": 870,
    "start_time": "2022-12-16T18:59:08.351Z"
   },
   {
    "duration": 331,
    "start_time": "2022-12-16T18:59:09.223Z"
   },
   {
    "duration": 51,
    "start_time": "2022-12-16T18:59:09.555Z"
   },
   {
    "duration": 116,
    "start_time": "2022-12-16T18:59:09.616Z"
   },
   {
    "duration": 12,
    "start_time": "2022-12-16T18:59:09.733Z"
   },
   {
    "duration": 471,
    "start_time": "2022-12-16T18:59:09.747Z"
   },
   {
    "duration": 168,
    "start_time": "2022-12-16T18:59:10.220Z"
   },
   {
    "duration": 1132,
    "start_time": "2022-12-16T18:59:10.390Z"
   },
   {
    "duration": 289,
    "start_time": "2022-12-16T18:59:11.616Z"
   },
   {
    "duration": 26,
    "start_time": "2022-12-16T18:59:11.907Z"
   },
   {
    "duration": 125,
    "start_time": "2022-12-16T18:59:11.934Z"
   },
   {
    "duration": 437,
    "start_time": "2022-12-16T18:59:12.061Z"
   },
   {
    "duration": 8,
    "start_time": "2022-12-16T18:59:12.499Z"
   },
   {
    "duration": 1746,
    "start_time": "2022-12-24T16:57:32.534Z"
   },
   {
    "duration": 741,
    "start_time": "2022-12-24T16:57:53.401Z"
   },
   {
    "duration": 1579,
    "start_time": "2022-12-24T16:58:27.527Z"
   },
   {
    "duration": 31211,
    "start_time": "2022-12-24T16:58:39.775Z"
   },
   {
    "duration": 9865,
    "start_time": "2022-12-24T16:59:43.275Z"
   },
   {
    "duration": 1256,
    "start_time": "2022-12-24T16:59:56.489Z"
   },
   {
    "duration": 6,
    "start_time": "2022-12-24T16:59:59.502Z"
   },
   {
    "duration": 4,
    "start_time": "2022-12-24T16:59:59.836Z"
   },
   {
    "duration": 215,
    "start_time": "2022-12-24T17:00:01.026Z"
   },
   {
    "duration": 20,
    "start_time": "2022-12-24T17:00:03.891Z"
   },
   {
    "duration": 35,
    "start_time": "2022-12-24T17:00:05.249Z"
   },
   {
    "duration": 8,
    "start_time": "2022-12-24T17:00:08.872Z"
   },
   {
    "duration": 11,
    "start_time": "2022-12-24T17:00:10.435Z"
   },
   {
    "duration": 73,
    "start_time": "2022-12-24T17:20:08.735Z"
   },
   {
    "duration": 44,
    "start_time": "2022-12-24T17:20:09.405Z"
   },
   {
    "duration": 77,
    "start_time": "2022-12-24T17:20:10.099Z"
   },
   {
    "duration": 43,
    "start_time": "2022-12-24T17:20:10.687Z"
   },
   {
    "duration": 24,
    "start_time": "2022-12-24T17:20:11.150Z"
   },
   {
    "duration": 38,
    "start_time": "2022-12-24T17:20:12.167Z"
   },
   {
    "duration": 11,
    "start_time": "2022-12-24T17:20:12.657Z"
   },
   {
    "duration": 9,
    "start_time": "2022-12-24T17:20:13.740Z"
   },
   {
    "duration": 19,
    "start_time": "2022-12-24T17:20:17.369Z"
   },
   {
    "duration": 25,
    "start_time": "2022-12-24T17:20:22.149Z"
   },
   {
    "duration": 97,
    "start_time": "2022-12-24T17:24:27.672Z"
   },
   {
    "duration": 5,
    "start_time": "2022-12-24T17:25:03.538Z"
   },
   {
    "duration": 34,
    "start_time": "2022-12-24T17:25:10.690Z"
   },
   {
    "duration": 41,
    "start_time": "2022-12-24T17:25:21.626Z"
   },
   {
    "duration": 112,
    "start_time": "2022-12-24T17:25:49.912Z"
   },
   {
    "duration": 50,
    "start_time": "2022-12-24T17:25:58.888Z"
   },
   {
    "duration": 106,
    "start_time": "2022-12-24T17:31:02.621Z"
   },
   {
    "duration": 34,
    "start_time": "2022-12-24T17:31:21.112Z"
   },
   {
    "duration": 52,
    "start_time": "2022-12-24T17:31:29.798Z"
   },
   {
    "duration": 16,
    "start_time": "2022-12-24T17:31:42.975Z"
   },
   {
    "duration": 4,
    "start_time": "2022-12-24T17:31:50.196Z"
   },
   {
    "duration": 287405,
    "start_time": "2022-12-24T17:35:25.006Z"
   },
   {
    "duration": 116,
    "start_time": "2022-12-24T18:27:47.421Z"
   },
   {
    "duration": 46619,
    "start_time": "2022-12-24T18:27:59.401Z"
   },
   {
    "duration": 328264,
    "start_time": "2022-12-24T18:28:48.374Z"
   },
   {
    "duration": 112396,
    "start_time": "2022-12-24T18:39:17.478Z"
   },
   {
    "duration": 9,
    "start_time": "2022-12-24T18:46:58.229Z"
   },
   {
    "duration": 8,
    "start_time": "2022-12-24T18:47:09.828Z"
   },
   {
    "duration": 93,
    "start_time": "2022-12-24T18:48:17.733Z"
   },
   {
    "duration": 8,
    "start_time": "2022-12-24T18:50:10.428Z"
   },
   {
    "duration": 13,
    "start_time": "2022-12-24T18:50:38.068Z"
   },
   {
    "duration": 121,
    "start_time": "2022-12-24T18:57:19.489Z"
   },
   {
    "duration": 263520,
    "start_time": "2022-12-24T18:59:36.119Z"
   },
   {
    "duration": 343881,
    "start_time": "2022-12-24T19:03:59.642Z"
   },
   {
    "duration": 123974,
    "start_time": "2022-12-24T19:09:43.525Z"
   }
  ],
  "kernelspec": {
   "display_name": "Python 3 (ipykernel)",
   "language": "python",
   "name": "python3"
  },
  "language_info": {
   "codemirror_mode": {
    "name": "ipython",
    "version": 3
   },
   "file_extension": ".py",
   "mimetype": "text/x-python",
   "name": "python",
   "nbconvert_exporter": "python",
   "pygments_lexer": "ipython3",
   "version": "3.9.15"
  },
  "toc": {
   "base_numbering": 1,
   "nav_menu": {},
   "number_sections": true,
   "sideBar": true,
   "skip_h1_title": true,
   "title_cell": "Содержание",
   "title_sidebar": "Contents",
   "toc_cell": true,
   "toc_position": {},
   "toc_section_display": true,
   "toc_window_display": false
  }
 },
 "nbformat": 4,
 "nbformat_minor": 2
}
